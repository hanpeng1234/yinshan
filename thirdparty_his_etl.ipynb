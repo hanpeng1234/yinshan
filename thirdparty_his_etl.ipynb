{
 "cells": [
  {
   "cell_type": "code",
   "execution_count": 1,
   "metadata": {},
   "outputs": [
    {
     "data": {
      "application/vnd.jupyter.widget-view+json": {
       "model_id": "8bb3065057864bdd8b97b27cc3c3eb2a",
       "version_major": 2,
       "version_minor": 0
      },
      "text/plain": [
       "VBox()"
      ]
     },
     "metadata": {},
     "output_type": "display_data"
    },
    {
     "name": "stdout",
     "output_type": "stream",
     "text": [
      "Starting Spark application\n"
     ]
    },
    {
     "data": {
      "text/html": [
       "<table>\n",
       "<tr><th>ID</th><th>YARN Application ID</th><th>Kind</th><th>State</th><th>Spark UI</th><th>Driver log</th><th>Current session?</th></tr><tr><td>0</td><td>application_1573547559816_0001</td><td>pyspark</td><td>idle</td><td><a target=\"_blank\" href=\"http://ip-172-31-32-27.ap-southeast-1.compute.internal:20888/proxy/application_1573547559816_0001/\">Link</a></td><td><a target=\"_blank\" href=\"http://ip-172-31-42-206.ap-southeast-1.compute.internal:8042/node/containerlogs/container_1573547559816_0001_01_000001/livy\">Link</a></td><td>✔</td></tr></table>"
      ],
      "text/plain": [
       "<IPython.core.display.HTML object>"
      ]
     },
     "metadata": {},
     "output_type": "display_data"
    },
    {
     "data": {
      "application/vnd.jupyter.widget-view+json": {
       "model_id": "",
       "version_major": 2,
       "version_minor": 0
      },
      "text/plain": [
       "FloatProgress(value=0.0, bar_style='info', description='Progress:', layout=Layout(height='25px', width='50%'),…"
      ]
     },
     "metadata": {},
     "output_type": "display_data"
    },
    {
     "name": "stdout",
     "output_type": "stream",
     "text": [
      "SparkSession available as 'spark'.\n"
     ]
    },
    {
     "data": {
      "application/vnd.jupyter.widget-view+json": {
       "model_id": "",
       "version_major": 2,
       "version_minor": 0
      },
      "text/plain": [
       "FloatProgress(value=0.0, bar_style='info', description='Progress:', layout=Layout(height='25px', width='50%'),…"
      ]
     },
     "metadata": {},
     "output_type": "display_data"
    },
    {
     "name": "stdout",
     "output_type": "stream",
     "text": [
      "<SparkContext master=yarn appName=livy-session-0>"
     ]
    }
   ],
   "source": [
    "    sc"
   ]
  },
  {
   "cell_type": "code",
   "execution_count": 3,
   "metadata": {},
   "outputs": [
    {
     "data": {
      "application/vnd.jupyter.widget-view+json": {
       "model_id": "045d4527240e49abaa3e8f2cdcd92360",
       "version_major": 2,
       "version_minor": 0
      },
      "text/plain": [
       "VBox()"
      ]
     },
     "metadata": {},
     "output_type": "display_data"
    },
    {
     "data": {
      "application/vnd.jupyter.widget-view+json": {
       "model_id": "",
       "version_major": 2,
       "version_minor": 0
      },
      "text/plain": [
       "FloatProgress(value=0.0, bar_style='info', description='Progress:', layout=Layout(height='25px', width='50%'),…"
      ]
     },
     "metadata": {},
     "output_type": "display_data"
    },
    {
     "name": "stdout",
     "output_type": "stream",
     "text": [
      "+-------+-----------+-------+-------+----------+--------------------+------+-----------+--------------------+--------------------+--------------------+---------+---------+-------------------------+\n",
      "|     id|customer_id|loan_id|channel|channel_id|       thirdparty_id|status|retry_times|            response|         create_time|         update_time|client_id|query_key|substring(response, 1, 1)|\n",
      "+-------+-----------+-------+-------+----------+--------------------+------+-----------+--------------------+--------------------+--------------------+---------+---------+-------------------------+\n",
      "|3188745|    3222541|   null|     20|   3222541|TASKSOCIAL1030012...|    40|       null|{\"code\":0,\"data\":...|2019-09-17 11:06:...|2019-09-17 11:07:...|        0|     null|                        {|\n",
      "|3188801|    2112889|   null|     20|   2112889|TASKSOCIAL1030012...|    40|       null|{\"code\":0,\"data\":...|2019-09-17 11:11:...|2019-09-17 11:12:...|        0|     null|                        {|\n",
      "|3184646|    3002136|   null|     20|   3002136|TASKSOCIAL1030012...|    40|       null|{\"code\":0,\"data\":...|2019-09-17 05:28:...|2019-09-17 05:29:...|        0|     null|                        {|\n",
      "|3188986|    3223569|   null|     20|   3223569|TASKSOCIAL1030012...|    40|       null|{\"code\":0,\"data\":...|2019-09-17 11:38:...|2019-09-17 11:39:...|        0|     null|                        {|\n",
      "|3184866|    3222542|   null|     20|   3222542|TASKSOCIAL1030012...|    40|       null|{\"code\":0,\"data\":...|2019-09-17 05:38:...|2019-09-17 05:39:...|        0|     null|                        {|\n",
      "|3185057|     205426|   null|     20|    205426|TASKSOCIAL5030012...|    40|       null|{\"code\":0,\"data\":...|2019-09-17 05:49:...|2019-09-17 05:57:...|        2|     null|                        {|\n",
      "|3185542|    2804972|   null|     20|   2804972|TASKSOCIAL1030012...|    40|       null|{\"code\":0,\"data\":...|2019-09-17 06:20:...|2019-09-17 06:22:...|        0|     null|                        {|\n",
      "|3189288|     206082|   null|     20|    206082|TASKSOCIAL5030012...|    40|       null|{\"code\":0,\"data\":...|2019-09-17 12:25:...|2019-09-17 12:33:...|        2|     null|                        {|\n",
      "|3282454|    3034322|   null|     20|   3034322|TASKSOCIAL1030012...|    40|       null|{\"code\":0,\"data\":...|2019-09-20 03:10:...|2019-09-20 03:11:...|        0|     null|                        {|\n",
      "|3191173|    3220466|   null|     20|   3220466|TASKSOCIAL1030012...|    40|       null|{\"code\":0,\"data\":...|2019-09-17 17:12:...|2019-09-17 17:14:...|        0|     null|                        {|\n",
      "+-------+-----------+-------+-------+----------+--------------------+------+-----------+--------------------+--------------------+--------------------+---------+---------+-------------------------+"
     ]
    }
   ],
   "source": [
    "spark.sql(\"\"\"\n",
    "select *, substr(response,1,1)\n",
    "from \n",
    "`lovina_s3_etl`.`t_task`\n",
    "where status=40 and channel=20  and (response is null or response ='' or substr(response,1,1)='{')\n",
    "limit 10\n",
    "\"\"\").show()\n"
   ]
  },
  {
   "cell_type": "code",
   "execution_count": 3,
   "metadata": {},
   "outputs": [
    {
     "data": {
      "application/vnd.jupyter.widget-view+json": {
       "model_id": "5dcc0488f38649e78eaf694bf03a4fba",
       "version_major": 2,
       "version_minor": 0
      },
      "text/plain": [
       "VBox()"
      ]
     },
     "metadata": {},
     "output_type": "display_data"
    },
    {
     "data": {
      "application/vnd.jupyter.widget-view+json": {
       "model_id": "",
       "version_major": 2,
       "version_minor": 0
      },
      "text/plain": [
       "FloatProgress(value=0.0, bar_style='info', description='Progress:', layout=Layout(height='25px', width='50%'),…"
      ]
     },
     "metadata": {},
     "output_type": "display_data"
    }
   ],
   "source": [
    "df1=spark.sql(\"\"\"\n",
    "select \n",
    "id,\n",
    "customer_id,\n",
    "loan_id,\n",
    "channel,\n",
    "channel_id,\n",
    "thirdparty_id,\n",
    "status,\n",
    "retry_times,\n",
    "cast(create_time as string) as create_time,\n",
    "cast(update_time as string) as update_time,\n",
    "client_id,\n",
    "query_key,\n",
    "get_json_object(response,\"$.code\") as code,\n",
    "get_json_object(response,\"$.message\") as message,\n",
    "get_json_object(response,\"$.task_id\") as task_id,\n",
    "get_json_object(response,\"$.data.identity_code\") as identity_code,\n",
    "get_json_object(response,\"$.data.channel_src\") as channel_src,\n",
    "get_json_object(response,\"$.data.user_mobile\") as user_mobile,\n",
    "get_json_object(response,\"$.data.real_name\") as real_name,\n",
    "get_json_object(response,\"$.data.channel_code\") as channel_code,\n",
    "get_json_object(response,\"$.data.channel_type\") as channel_type,\n",
    "get_json_object(response,\"$.data.lost_data\") as lost_data,\n",
    "get_json_object(response,\"$.data.task_data.base_info.hometown\") as hometown,\n",
    "get_json_object(response,\"$.data.task_data.base_info.birthdate\") as birthdate,\n",
    "get_json_object(response,\"$.data.task_data.base_info.birthyear\") as birthyear,\n",
    "get_json_object(response,\"$.data.task_data.base_info.gender\") as gender,\n",
    "get_json_object(response,\"$.data.task_data.base_info.friendsnum\") as friendsnum,\n",
    "get_json_object(response,\"$.data.task_data.base_info.language\") as language,\n",
    "replace(substr(get_json_object(response,\"$.data.task_data.base_info.emails\"),2,length(get_json_object(response,\"$.data.task_data.base_info.emails\"))-2),\"\\\\\"\",\"\") as emails,\n",
    "get_json_object(response,\"$.data.task_data.base_info.political_trend\") as political_trend,\n",
    "get_json_object(response,\"$.data.task_data.base_info.relationshipstatus\") as relationshipstatus,\n",
    "get_json_object(response,\"$.data.task_data.base_info.blood_type\") as blood_type,\n",
    "get_json_object(response,\"$.data.task_data.base_info.currentcity\") as currentcity,\n",
    "get_json_object(response,\"$.data.task_data.base_info.nickname\") as nickname,\n",
    "get_json_object(response,\"$.data.task_data.base_info.religion_trend\") as religion_trend,\n",
    "replace(substr(get_json_object(response,\"$.data.task_data.base_info.mobilephones\"),2,length(get_json_object(response,\"$.data.task_data.base_info.mobilephones\"))-2),\"\\\\\"\",\"\") as mobilephones,\n",
    "get_json_object(response,\"$.data.task_data.base_info.payments_info\") as payments_info,\n",
    "get_json_object(response,\"$.data.task_data.base_info.userid\") as userid,\n",
    "get_json_object(response,\"$.data.channel_attr\") as channel_attr,\n",
    "get_json_object(response,\"$.data.created_time\") as created_time,\n",
    "get_json_object(response,\"$.data.user_name\") as user_name,\n",
    "year(to_date(create_time)) as year,\n",
    "if(length(MONTH(to_date(create_time)))=1,concat(\"0\",MONTH(to_date(create_time))),MONTH(to_date(create_time))) as month,\n",
    "if(length(day(to_date(create_time)))=1,concat(\"0\",day(to_date(create_time))),day(to_date(create_time))) as day\n",
    "from `lovina_s3_etl`.`t_task_1`\n",
    "where status=40 and channel=20  and (response is null or response ='' or substr(response,1,1)='{' ) \n",
    "and customer_id is not null\n",
    "and id<11773266\n",
    "\"\"\")\n",
    "df1.write.mode(\"append\").partitionBy(\"year\",\"month\",\"day\").orc(\"s3://rupiahplus-data-warehouse/stream/thirdparty/thirdparty_tongdun_facebook/\")\n"
   ]
  },
  {
   "cell_type": "code",
   "execution_count": 2,
   "metadata": {},
   "outputs": [
    {
     "data": {
      "application/vnd.jupyter.widget-view+json": {
       "model_id": "5cc09d637f614f8b833d1aeb08c25e41",
       "version_major": 2,
       "version_minor": 0
      },
      "text/plain": [
       "VBox()"
      ]
     },
     "metadata": {},
     "output_type": "display_data"
    },
    {
     "data": {
      "application/vnd.jupyter.widget-view+json": {
       "model_id": "",
       "version_major": 2,
       "version_minor": 0
      },
      "text/plain": [
       "FloatProgress(value=0.0, bar_style='info', description='Progress:', layout=Layout(height='25px', width='50%'),…"
      ]
     },
     "metadata": {},
     "output_type": "display_data"
    },
    {
     "name": "stdout",
     "output_type": "stream",
     "text": [
      "+---+----+-----+---+\n",
      "| id|year|month|day|\n",
      "+---+----+-----+---+\n",
      "+---+----+-----+---+"
     ]
    }
   ],
   "source": [
    "df1=spark.sql(\"\"\"\n",
    "select \n",
    "id,\n",
    "year(to_date(create_time)) as year,\n",
    "month(to_date(create_time)) as month,\n",
    "day(to_date(create_time)) as day\n",
    "from `lovina_s3_etl`.`t_task`\n",
    "where status=40 and channel=20  and (response is null or response ='' or substr(response,1,1)='{' ) \n",
    "and customer_id is not null\n",
    "and  to_date(create_time)  ='2019-12-12' \n",
    "and id<9247446\n",
    "\"\"\").show()\n"
   ]
  },
  {
   "cell_type": "code",
   "execution_count": 5,
   "metadata": {},
   "outputs": [
    {
     "data": {
      "application/vnd.jupyter.widget-view+json": {
       "model_id": "3420394acdc24d6bafd25ccda834b70b",
       "version_major": 2,
       "version_minor": 0
      },
      "text/plain": [
       "VBox()"
      ]
     },
     "metadata": {},
     "output_type": "display_data"
    },
    {
     "data": {
      "application/vnd.jupyter.widget-view+json": {
       "model_id": "",
       "version_major": 2,
       "version_minor": 0
      },
      "text/plain": [
       "FloatProgress(value=0.0, bar_style='info', description='Progress:', layout=Layout(height='25px', width='50%'),…"
      ]
     },
     "metadata": {},
     "output_type": "display_data"
    }
   ],
   "source": [
    "df2=spark.sql(\"\"\"\n",
    "select \n",
    "get_json_object(concat(a.friends_info,'}'),'$.nickname') as nickname,\n",
    "get_json_object(concat(a.friends_info,'}'),'$.mutual_friends') as mutual_friends,\n",
    "thirdparty_id,\n",
    "cast(a.customer_id as string )as customer_id,\n",
    "cast(a.loan_id as string )as loan_id,\n",
    "cast(a.create_time as string) as create_time,a.query_key,\n",
    "year(to_date(a.create_time)) as year,\n",
    "if(length(MONTH(to_date(a.create_time)))=1,concat(\"0\",MONTH(to_date(a.create_time))),MONTH(to_date(a.create_time))) as month,\n",
    "if(length(day(to_date(a.create_time)))=1,concat(\"0\",day(to_date(a.create_time))),day(to_date(a.create_time))) as day\n",
    "from (\n",
    "select  *,friends_info\n",
    "from `lovina_s3_etl`.`t_task_1`a\n",
    "LATERAL VIEW explode(split(substr(get_json_object(response,\"$.data.task_data.friends_info\"),2,length(get_json_object(response,\"$.data.task_data.friends_info\"))-2),'},')) as  friends_info\n",
    "where  status=40 and channel=20  and (response is null or response ='' or substr(response,1,1)='{' )\n",
    "and customer_id is not null\n",
    "and id<11773266\n",
    ") a \n",
    "\"\"\")\n",
    "df2.write.mode(\"append\").partitionBy(\"year\",\"month\",\"day\").orc(\"s3://rupiahplus-data-warehouse/stream/thirdparty/thirdparty_tongdun_facebook_friends_info/\")"
   ]
  },
  {
   "cell_type": "code",
   "execution_count": 6,
   "metadata": {},
   "outputs": [
    {
     "data": {
      "application/vnd.jupyter.widget-view+json": {
       "model_id": "0a91cb24af72411db3ef50099249592f",
       "version_major": 2,
       "version_minor": 0
      },
      "text/plain": [
       "VBox()"
      ]
     },
     "metadata": {},
     "output_type": "display_data"
    },
    {
     "data": {
      "application/vnd.jupyter.widget-view+json": {
       "model_id": "",
       "version_major": 2,
       "version_minor": 0
      },
      "text/plain": [
       "FloatProgress(value=0.0, bar_style='info', description='Progress:', layout=Layout(height='25px', width='50%'),…"
      ]
     },
     "metadata": {},
     "output_type": "display_data"
    }
   ],
   "source": [
    "spark.conf.set(\"spark.sql.sources.partitionOverwriteMode\", \"dynamic\")\n",
    "\n",
    "df3=spark.sql(\"\"\"\n",
    "select \n",
    "get_json_object(concat(a.family_info,'}'),'$.name') as name,\n",
    "get_json_object(concat(a.family_info,'}'),'$.relationship') as relationship,\n",
    "a.thirdparty_id,\n",
    "cast(a.customer_id as string )as customer_id,\n",
    "cast(a.loan_id as string )as loan_id,\n",
    "cast(a.create_time as string) as create_time,query_key,\n",
    "year(to_date(a.create_time)) as year,\n",
    "if(length(MONTH(to_date(a.create_time)))=1,concat(\"0\",MONTH(to_date(a.create_time))),MONTH(to_date(a.create_time))) as month,\n",
    "if(length(day(to_date(a.create_time)))=1,concat(\"0\",day(to_date(a.create_time))),day(to_date(a.create_time))) as day\n",
    "from (\n",
    "select  *,family_info\n",
    "from `lovina_s3_etl`.`t_task_1`a\n",
    "LATERAL VIEW explode(split(substr(get_json_object(response,\"$.data.task_data.family_info\"),2,length(get_json_object(response,\"$.data.task_data.family_info\"))-2),'},')) as  family_info\n",
    "where  status=40 and channel=20  and (response is null or response ='' or substr(response,1,1)='{' )\n",
    "and customer_id is not null\n",
    "and id<11773266\n",
    ") a \n",
    "\"\"\")\n",
    "df3.write.mode(\"append\").partitionBy(\"year\",\"month\",\"day\").orc(\"s3://rupiahplus-data-warehouse/stream/thirdparty/thirdparty_tongdun_facebook_family_info/\")\n"
   ]
  },
  {
   "cell_type": "code",
   "execution_count": 7,
   "metadata": {},
   "outputs": [
    {
     "data": {
      "application/vnd.jupyter.widget-view+json": {
       "model_id": "375d7cc8db7b44529e8c704468a06e89",
       "version_major": 2,
       "version_minor": 0
      },
      "text/plain": [
       "VBox()"
      ]
     },
     "metadata": {},
     "output_type": "display_data"
    },
    {
     "data": {
      "application/vnd.jupyter.widget-view+json": {
       "model_id": "",
       "version_major": 2,
       "version_minor": 0
      },
      "text/plain": [
       "FloatProgress(value=0.0, bar_style='info', description='Progress:', layout=Layout(height='25px', width='50%'),…"
      ]
     },
     "metadata": {},
     "output_type": "display_data"
    }
   ],
   "source": [
    "df4=spark.sql(\"\"\"\n",
    "select \n",
    "get_json_object(concat(a.college_info,'}'),'$.college_graduation') as college_graduation,\n",
    "get_json_object(concat(a.college_info,'}'),'$.college_name') as college_name,\n",
    "a.thirdparty_id,\n",
    "cast(a.customer_id as string )as customer_id,\n",
    "cast(a.loan_id as string )as loan_id,\n",
    "cast(a.create_time as string) as create_time,query_key,\n",
    "year(to_date(a.create_time)) as year,\n",
    "if(length(MONTH(to_date(a.create_time)))=1,concat(\"0\",MONTH(to_date(a.create_time))),MONTH(to_date(a.create_time))) as month,\n",
    "if(length(day(to_date(a.create_time)))=1,concat(\"0\",day(to_date(a.create_time))),day(to_date(a.create_time))) as day\n",
    "from (\n",
    "select  *,college_info\n",
    "from `lovina_s3_etl`.`t_task_1`a\n",
    "LATERAL VIEW explode(split(substr(get_json_object(response,\"$.data.task_data.education_info.college_info\"),2,length(get_json_object(response,\"$.data.task_data.education_info.college_info\"))-2),'},')) as college_info\n",
    "where  status=40 and channel=20  and (response is null or response ='' or substr(response,1,1)='{' ) \n",
    "and customer_id is not null\n",
    "and id<11773266\n",
    ") a \n",
    "\"\"\")\n",
    "df4.write.mode(\"append\").partitionBy(\"year\",\"month\",\"day\").orc(\"s3://rupiahplus-data-warehouse/stream/thirdparty/thirdparty_tongdun_facebook_education_college_info/\")"
   ]
  },
  {
   "cell_type": "code",
   "execution_count": 8,
   "metadata": {},
   "outputs": [
    {
     "data": {
      "application/vnd.jupyter.widget-view+json": {
       "model_id": "c08f91c99189497bae2ace8a66dacd6e",
       "version_major": 2,
       "version_minor": 0
      },
      "text/plain": [
       "VBox()"
      ]
     },
     "metadata": {},
     "output_type": "display_data"
    },
    {
     "data": {
      "application/vnd.jupyter.widget-view+json": {
       "model_id": "",
       "version_major": 2,
       "version_minor": 0
      },
      "text/plain": [
       "FloatProgress(value=0.0, bar_style='info', description='Progress:', layout=Layout(height='25px', width='50%'),…"
      ]
     },
     "metadata": {},
     "output_type": "display_data"
    }
   ],
   "source": [
    "df5=spark.sql(\"\"\"\n",
    "select \n",
    "a.thirdparty_id,\n",
    "get_json_object(concat(a.highschool_info,'}'),'$.highschool_graduation') as highschool_graduation,\n",
    "get_json_object(concat(a.highschool_info,'}'),'$.highschool_name') as highschool_name,\n",
    "cast(a.customer_id as string )as customer_id,\n",
    "cast(a.loan_id as string )as loan_id,\n",
    "cast(a.create_time as string) as create_time,query_key,\n",
    "year(to_date(a.create_time)) as year,\n",
    "if(length(MONTH(to_date(a.create_time)))=1,concat(\"0\",MONTH(to_date(a.create_time))),MONTH(to_date(a.create_time))) as month,\n",
    "if(length(day(to_date(a.create_time)))=1,concat(\"0\",day(to_date(a.create_time))),day(to_date(a.create_time))) as day\n",
    "from (\n",
    "select  *,highschool_info\n",
    "from `lovina_s3_etl`.`t_task_1`a\n",
    "LATERAL VIEW explode(split(substr(get_json_object(response,\"$.data.task_data.education_info.highschool_info\"),2,length(get_json_object(response,\"$.data.task_data.education_info.highschool_info\"))-2),'},')) as highschool_info\n",
    "where  status=40 and channel=20  and (response is null or response ='' or substr(response,1,1)='{' )   and id<11773266\n",
    "and customer_id is not null\n",
    ") a \n",
    "\"\"\")\n",
    "df5.write.mode(\"append\").partitionBy(\"year\",\"month\",\"day\").orc(\"s3://rupiahplus-data-warehouse/stream/thirdparty/thirdparty_tongdun_facebook_education_highschool_info/\")"
   ]
  },
  {
   "cell_type": "code",
   "execution_count": 9,
   "metadata": {},
   "outputs": [
    {
     "data": {
      "application/vnd.jupyter.widget-view+json": {
       "model_id": "6ef7ecf6bf3545ffb6681baee480496c",
       "version_major": 2,
       "version_minor": 0
      },
      "text/plain": [
       "VBox()"
      ]
     },
     "metadata": {},
     "output_type": "display_data"
    },
    {
     "data": {
      "application/vnd.jupyter.widget-view+json": {
       "model_id": "",
       "version_major": 2,
       "version_minor": 0
      },
      "text/plain": [
       "FloatProgress(value=0.0, bar_style='info', description='Progress:', layout=Layout(height='25px', width='50%'),…"
      ]
     },
     "metadata": {},
     "output_type": "display_data"
    }
   ],
   "source": [
    "df6=spark.sql(\"\"\"\n",
    "select \n",
    "a.thirdparty_id,\n",
    "get_json_object(concat(a.messenger_info,'}'),'$.friend_nickname') as friend_nickname,\n",
    "get_json_object(concat(a.messenger_info,'}'),'$.chattime') as chattime,\n",
    "get_json_object(concat(a.messenger_info,'}'),'$.content') as content,\n",
    "cast(a.customer_id as string )as customer_id,\n",
    "cast(a.loan_id as string )as loan_id,\n",
    "cast(a.create_time as string) as create_time,query_key,\n",
    "year(to_date(a.create_time)) as year,\n",
    "if(length(MONTH(to_date(a.create_time)))=1,concat(\"0\",MONTH(to_date(a.create_time))),MONTH(to_date(a.create_time))) as month,\n",
    "if(length(day(to_date(a.create_time)))=1,concat(\"0\",day(to_date(a.create_time))),day(to_date(a.create_time))) as day\n",
    "from (\n",
    "select  *,messenger_info\n",
    "from `lovina_s3_etl`.`t_task_1`a\n",
    "LATERAL VIEW explode(split(substr(get_json_object(response,\"$.data.task_data.messenger_info\"),2,length(get_json_object(response,\"$.data.task_data.messenger_info\"))-2),'},')) as messenger_info\n",
    "where  status=40 and channel=20  and (response is null or response ='' or substr(response,1,1)='{' )   and id<11773266\n",
    "and customer_id is not null\n",
    ") a \n",
    "\"\"\")\n",
    "df6.write.mode(\"append\").partitionBy(\"year\",\"month\",\"day\").orc(\"s3://rupiahplus-data-warehouse/stream/thirdparty/thirdparty_tongdun_facebook_messenger_info/\")"
   ]
  },
  {
   "cell_type": "code",
   "execution_count": 10,
   "metadata": {},
   "outputs": [
    {
     "data": {
      "application/vnd.jupyter.widget-view+json": {
       "model_id": "a8a015e5628d417d8871fadc984aabee",
       "version_major": 2,
       "version_minor": 0
      },
      "text/plain": [
       "VBox()"
      ]
     },
     "metadata": {},
     "output_type": "display_data"
    },
    {
     "data": {
      "application/vnd.jupyter.widget-view+json": {
       "model_id": "",
       "version_major": 2,
       "version_minor": 0
      },
      "text/plain": [
       "FloatProgress(value=0.0, bar_style='info', description='Progress:', layout=Layout(height='25px', width='50%'),…"
      ]
     },
     "metadata": {},
     "output_type": "display_data"
    }
   ],
   "source": [
    "df7=spark.sql(\"\"\"\n",
    "select \n",
    "a.thirdparty_id,\n",
    "get_json_object(concat(a.work_info,'}'),'$.finishtime') as finishtime,\n",
    "get_json_object(concat(a.work_info,'}'),'$.city') as city,\n",
    "get_json_object(concat(a.work_info,'}'),'$.company') as company,\n",
    "get_json_object(concat(a.work_info,'}'),'$.position') as position,\n",
    "get_json_object(concat(a.work_info,'}'),'$.starttime') as starttime,\n",
    "cast(a.customer_id as string )as customer_id,\n",
    "cast(a.loan_id as string )as loan_id,\n",
    "cast(a.create_time as string) as create_time,query_key,\n",
    "year(to_date(a.create_time)) as year,\n",
    "if(length(MONTH(to_date(a.create_time)))=1,concat(\"0\",MONTH(to_date(a.create_time))),MONTH(to_date(a.create_time))) as month,\n",
    "if(length(day(to_date(a.create_time)))=1,concat(\"0\",day(to_date(a.create_time))),day(to_date(a.create_time))) as day\n",
    "from (\n",
    "select  *,work_info\n",
    "from `lovina_s3_etl`.`t_task_1`a\n",
    "LATERAL VIEW explode(split(substr(get_json_object(response,\"$.data.task_data.work_info\"),2,length(get_json_object(response,\"$.data.task_data.work_info\"))-2),'},')) as work_info\n",
    "where  status=40 and channel=20  and (response is null or response ='' or substr(response,1,1)='{' )   and id<11773266\n",
    "and customer_id is not null\n",
    ") a \n",
    "\"\"\")\n",
    "df7.write.mode(\"append\").partitionBy(\"year\",\"month\",\"day\").orc(\"s3://rupiahplus-data-warehouse/stream/thirdparty/thirdparty_tongdun_facebook_work_info/\")"
   ]
  },
  {
   "cell_type": "code",
   "execution_count": 11,
   "metadata": {},
   "outputs": [
    {
     "data": {
      "application/vnd.jupyter.widget-view+json": {
       "model_id": "452e98feeefc476d8783ae4b438e85c0",
       "version_major": 2,
       "version_minor": 0
      },
      "text/plain": [
       "VBox()"
      ]
     },
     "metadata": {},
     "output_type": "display_data"
    },
    {
     "data": {
      "application/vnd.jupyter.widget-view+json": {
       "model_id": "",
       "version_major": 2,
       "version_minor": 0
      },
      "text/plain": [
       "FloatProgress(value=0.0, bar_style='info', description='Progress:', layout=Layout(height='25px', width='50%'),…"
      ]
     },
     "metadata": {},
     "output_type": "display_data"
    }
   ],
   "source": [
    "df8=spark.sql(\"\"\"\n",
    "select \n",
    "a.thirdparty_id,\n",
    "get_json_object(concat(a.friends_publish_info,'}'),'$.site') as site,\n",
    "get_json_object(concat(a.friends_publish_info,'}'),'$.page_time') as page_time,\n",
    "get_json_object(concat(a.friends_publish_info,'}'),'$.nickname') as nickname,\n",
    "get_json_object(concat(a.friends_publish_info,'}'),'$.commentsnum') as commentsnum,\n",
    "get_json_object(concat(a.friends_publish_info,'}'),'$.likenum') as likenum,\n",
    "cast(a.customer_id as string )as customer_id,\n",
    "cast(a.loan_id as string )as loan_id,\n",
    "cast(a.create_time as string) as create_time,query_key,\n",
    "year(to_date(a.create_time)) as year,\n",
    "if(length(MONTH(to_date(a.create_time)))=1,concat(\"0\",MONTH(to_date(a.create_time))),MONTH(to_date(a.create_time))) as month,\n",
    "if(length(day(to_date(a.create_time)))=1,concat(\"0\",day(to_date(a.create_time))),day(to_date(a.create_time))) as day\n",
    "from (\n",
    "select  *,friends_publish_info\n",
    "from `lovina_s3_etl`.`t_task_1`a\n",
    "LATERAL VIEW explode(split(substr(get_json_object(response,\"$.data.task_data.friends_publish_info\"),2,length(get_json_object(response,\"$.data.task_data.friends_publish_info\"))-2),'},')) as friends_publish_info\n",
    "where  status=40 and channel=20  and (response is null or response ='' or substr(response,1,1)='{' )  and id<11773266\n",
    "and customer_id is not null\n",
    ") a \n",
    "\"\"\")\n",
    "df8.write.mode(\"append\").partitionBy(\"year\",\"month\",\"day\").orc(\"s3://rupiahplus-data-warehouse/stream/thirdparty/thirdparty_tongdun_facebook_friends_publish_info/\")"
   ]
  },
  {
   "cell_type": "code",
   "execution_count": 12,
   "metadata": {},
   "outputs": [
    {
     "data": {
      "application/vnd.jupyter.widget-view+json": {
       "model_id": "9776a91da07145919420a367a9cc777e",
       "version_major": 2,
       "version_minor": 0
      },
      "text/plain": [
       "VBox()"
      ]
     },
     "metadata": {},
     "output_type": "display_data"
    },
    {
     "data": {
      "application/vnd.jupyter.widget-view+json": {
       "model_id": "",
       "version_major": 2,
       "version_minor": 0
      },
      "text/plain": [
       "FloatProgress(value=0.0, bar_style='info', description='Progress:', layout=Layout(height='25px', width='50%'),…"
      ]
     },
     "metadata": {},
     "output_type": "display_data"
    }
   ],
   "source": [
    "df9=spark.sql(\"\"\"\n",
    "select \n",
    "a.thirdparty_id,\n",
    "get_json_object(concat(a.historical_login_info,'}'),'$.page_time') as page_time,\n",
    "get_json_object(concat(a.historical_login_info,'}'),'$.locus') as locus,\n",
    "get_json_object(concat(a.historical_login_info,'}'),'$.tool') as tool,\n",
    "get_json_object(concat(a.historical_login_info,'}'),'$.way') as way,\n",
    "cast(a.customer_id as string )as customer_id,\n",
    "cast(a.loan_id as string )as loan_id,\n",
    "cast(a.create_time as string) as create_time,query_key,\n",
    "year(to_date(a.create_time)) as year,\n",
    "if(length(MONTH(to_date(a.create_time)))=1,concat(\"0\",MONTH(to_date(a.create_time))),MONTH(to_date(a.create_time))) as month,\n",
    "if(length(day(to_date(a.create_time)))=1,concat(\"0\",day(to_date(a.create_time))),day(to_date(a.create_time))) as day\n",
    "from (\n",
    "select  *,historical_login_info\n",
    "from `lovina_s3_etl`.`t_task_1` a\n",
    "LATERAL VIEW explode(split(substr(get_json_object(response,\"$.data.task_data.historical_login_info\"),2,length(get_json_object(response,\"$.data.task_data.historical_login_info\"))-2),'},')) as historical_login_info\n",
    "where  status=40 and channel=20  and (response is null or response ='' or substr(response,1,1)='{' )  and id<11773266 \n",
    "and customer_id is not null\n",
    ") a \n",
    "\"\"\")\n",
    "df9.write.mode(\"append\").partitionBy(\"year\",\"month\",\"day\").orc(\"s3://rupiahplus-data-warehouse/stream/thirdparty/thirdparty_tongdun_facebook_historical_login_info/\")"
   ]
  },
  {
   "cell_type": "code",
   "execution_count": 13,
   "metadata": {},
   "outputs": [
    {
     "data": {
      "application/vnd.jupyter.widget-view+json": {
       "model_id": "dcabad84235e469f8d53c2245c14ecf8",
       "version_major": 2,
       "version_minor": 0
      },
      "text/plain": [
       "VBox()"
      ]
     },
     "metadata": {},
     "output_type": "display_data"
    },
    {
     "data": {
      "application/vnd.jupyter.widget-view+json": {
       "model_id": "",
       "version_major": 2,
       "version_minor": 0
      },
      "text/plain": [
       "FloatProgress(value=0.0, bar_style='info', description='Progress:', layout=Layout(height='25px', width='50%'),…"
      ]
     },
     "metadata": {},
     "output_type": "display_data"
    }
   ],
   "source": [
    "spark.conf.set(\"spark.sql.sources.partitionOverwriteMode\", \"dynamic\")\n",
    "df10=spark.sql(\"\"\"\n",
    "select \n",
    "a.thirdparty_id,\n",
    "get_json_object(concat(a.publish_info,'}'),'$.site') as site,\n",
    "get_json_object(concat(a.publish_info,'}'),'$.page_time') as page_time,\n",
    "get_json_object(concat(a.publish_info,'}'),'$.nickname') as nickname,\n",
    "substr(get_json_object(concat(a.publish_info,'}'),'$.likenames'),2,length(get_json_object(concat(a.publish_info,'}'),'$.likenames'))-2)as likenames,\n",
    "get_json_object(concat(a.publish_info,'}'),'$.commentsnum') as commentsnum,\n",
    "get_json_object(concat(a.publish_info,'}'),'$.likenum') as likenum,\n",
    "cast(a.customer_id as string )as customer_id,\n",
    "cast(a.loan_id as string )as loan_id,\n",
    "cast(a.create_time as string) as create_time,query_key,\n",
    "year(to_date(a.create_time)) as year,\n",
    "if(length(MONTH(to_date(a.create_time)))=1,concat(\"0\",MONTH(to_date(a.create_time))),MONTH(to_date(a.create_time))) as month,\n",
    "if(length(day(to_date(a.create_time)))=1,concat(\"0\",day(to_date(a.create_time))),day(to_date(a.create_time))) as day\n",
    "from (\n",
    "select  *,publish_info\n",
    "from `lovina_s3_etl`.`t_task_1`a\n",
    "LATERAL VIEW explode(split(substr(get_json_object(response,\"$.data.task_data.publish_info\"),2,length(get_json_object(response,\"$.data.task_data.publish_info\"))-2),'},')) as publish_info\n",
    "where  status=40 and channel=20 and customer_id is not null and (response is null or response ='' or substr(response,1,1)='{' )  and id<11773266 \n",
    ") a \n",
    "\"\"\")\n",
    "df10.write.mode(\"append\").partitionBy(\"year\",\"month\",\"day\").orc(\"s3://rupiahplus-data-warehouse/stream/thirdparty/thirdparty_tongdun_facebook_publish_info/\")"
   ]
  },
  {
   "cell_type": "code",
   "execution_count": 15,
   "metadata": {},
   "outputs": [
    {
     "data": {
      "application/vnd.jupyter.widget-view+json": {
       "model_id": "740e294f6c3d49558f48f7ef7c1d7727",
       "version_major": 2,
       "version_minor": 0
      },
      "text/plain": [
       "VBox()"
      ]
     },
     "metadata": {},
     "output_type": "display_data"
    },
    {
     "data": {
      "application/vnd.jupyter.widget-view+json": {
       "model_id": "",
       "version_major": 2,
       "version_minor": 0
      },
      "text/plain": [
       "FloatProgress(value=0.0, bar_style='info', description='Progress:', layout=Layout(height='25px', width='50%'),…"
      ]
     },
     "metadata": {},
     "output_type": "display_data"
    }
   ],
   "source": [
    "\n"
   ]
  },
  {
   "cell_type": "code",
   "execution_count": 16,
   "metadata": {},
   "outputs": [
    {
     "data": {
      "application/vnd.jupyter.widget-view+json": {
       "model_id": "932ba971afeb49adac4713d34c57b26b",
       "version_major": 2,
       "version_minor": 0
      },
      "text/plain": [
       "VBox()"
      ]
     },
     "metadata": {},
     "output_type": "display_data"
    },
    {
     "data": {
      "application/vnd.jupyter.widget-view+json": {
       "model_id": "",
       "version_major": 2,
       "version_minor": 0
      },
      "text/plain": [
       "FloatProgress(value=0.0, bar_style='info', description='Progress:', layout=Layout(height='25px', width='50%'),…"
      ]
     },
     "metadata": {},
     "output_type": "display_data"
    }
   ],
   "source": [
    "spark.conf.set(\"spark.sql.sources.partitionOverwriteMode\", \"dynamic\")\n",
    "thirdparty_tongdun_guard=spark.sql(\"\"\"\n",
    "select id,\n",
    "customer_id,\n",
    "loan_id,\n",
    "channel,\n",
    "channel_id,\n",
    "thirdparty_id,\n",
    "status,\n",
    "retry_times,\n",
    "cast(create_time as string ) as create_time,\n",
    "cast(update_time as string) as update_time,\n",
    "client_id,\n",
    "query_key,\n",
    "get_json_object(response,'$.success') as success,\n",
    "cast(get_json_object(response,'$.result_desc.ANTIFRAUD.final_score') as int ) as final_score,\n",
    "get_json_object(response,'$.result_desc.ANTIFRAUD.final_decision') as final_decision,\n",
    "get_json_object(response,'$.result_desc.INFOANALYSIS.address_detect.true_ip_address') as address_detect_true_ip_address,\n",
    "get_json_object(response,'$.result_desc.INFOANALYSIS.device_info.error') as device_info_error,\n",
    "year(to_date(create_time)) as year,\n",
    "if(length(MONTH(to_date(create_time)))=1,concat(\"0\",MONTH(to_date(create_time))),MONTH(to_date(create_time))) as month,\n",
    "if(length(day(to_date(create_time)))=1,concat(\"0\",day(to_date(create_time))),day(to_date(create_time))) as day\n",
    "from `lovina_s3_etl`.`t_task_1` a\n",
    "where  status=40 \n",
    "and channel=40  \n",
    "and customer_id is not null and (response is null or response ='' or substr(response,1,1)='{' ) \n",
    "and  id<11773266 \n",
    "and (client_id is null or client_id =0)\n",
    "\"\"\")\n",
    "thirdparty_tongdun_guard.write.mode(\"append\").partitionBy(\"year\",\"month\",\"day\").orc(\"s3://rupiahplus-data-warehouse/stream/thirdparty/thirdparty_tongdun_guard/\")"
   ]
  },
  {
   "cell_type": "code",
   "execution_count": 2,
   "metadata": {},
   "outputs": [
    {
     "data": {
      "application/vnd.jupyter.widget-view+json": {
       "model_id": "7f2e715c89a7453eada4dadf30e964b4",
       "version_major": 2,
       "version_minor": 0
      },
      "text/plain": [
       "VBox()"
      ]
     },
     "metadata": {},
     "output_type": "display_data"
    },
    {
     "data": {
      "application/vnd.jupyter.widget-view+json": {
       "model_id": "",
       "version_major": 2,
       "version_minor": 0
      },
      "text/plain": [
       "FloatProgress(value=0.0, bar_style='info', description='Progress:', layout=Layout(height='25px', width='50%'),…"
      ]
     },
     "metadata": {},
     "output_type": "display_data"
    },
    {
     "name": "stdout",
     "output_type": "stream",
     "text": [
      "<function tongdun_guard_json at 0x7f7d685361e0>"
     ]
    }
   ],
   "source": [
    "from urllib.request import urlopen\n",
    "import json\n",
    "from pprint import pprint\n",
    "from pyspark.sql import types as T\n",
    "\n",
    "# a='{\"success\":true,\"id\":\"WF2019021715404113217023\",\"result_desc\":{\"ANTIFRAUD\":{\"final_score\":0,\"risk_items\":[{\"rule_id\":\"23374771\",\"score\":0,\"decision\":\"Accept\",\"risk_name\":\"Borrower\\\\'s,name_same_with_KTP_name\",\"risk_detail\":[{\"risk_details\":[{\"description\":\"Borrowers name is same with KTP name\",\"hit_rule_type\":\"Identity verification\",\"field_type\":\"name\",\"input_value\":\"Mertina Zai\"},{\"description\":\"Borrowers name is same with KTP name\",\"hit_rule_type\":\"Identity verification\",\"field_type\":\"name\",\"input_value\":\"Mertina Zai\"}],\"type\":\"mh_detail\"}]},{\"rule_id\":\"23374772\",\"score\":0,\"decision\":\"Accept1111\",\"risk_name\":\"Borrower_name_same_with_KTP_name111111\",\"risk_detail\":[{\"risk_details\":[{\"description\":\"Borrowers name is same with KTP name111111\",\"hit_rule_type\":\"Identity verification11111\",\"field_type\":\"name11111\",\"input_value\":\"Mertina Zai1111\"},{\"description\":\"Borrowers name is same with KTP name1111\",\"hit_rule_type\":\"Identity verification11111\",\"field_type\":\"name1111\",\"input_value\":\"Mertina Zai11111\"}],\"type\":\"mh_detail\"}]}],\"final_decision\":\"Accept\"}}}'\n",
    "# def tongdun_guard_json(b,typeValue):\n",
    "#     return getJsonArray(b,typeValue);\n",
    "def tongdun_guard_json(b,typeValue):\n",
    "    risk_itemls=[];\n",
    "    risk_detaillist=[];\n",
    "    risk_detailslist=[];\n",
    "    text = json.loads(b)\n",
    "    for field in text.keys():\n",
    "        if field==\"risk_items\":\n",
    "            index=0;\n",
    "            for v1 in text[field]:\n",
    "                index=index+1;\n",
    "                for field1 in list(v1):\n",
    "                    if field1=='risk_detail':\n",
    "                        for v2 in v1[field1]:\n",
    "                            for risk_detailfield in  list(v2):\n",
    "                                if risk_detailfield=='risk_details':\n",
    "                                     for v3 in v2[risk_detailfield]:\n",
    "                                         v3[\"rule_id\"]=v1[\"rule_id\"];\n",
    "                                         v3[\"rule_detail_id\"]=v1[\"rule_id\"]+\"_\"+str(index);\n",
    "                                         risk_detailslist.append(json.dumps(v3));\n",
    "                                     v2.pop(risk_detailfield);\n",
    "                                v2[\"rule_id\"]=v1[\"rule_id\"];\n",
    "                                v2[\"rule_detail_id\"]=v1[\"rule_id\"]+\"_\"+str(index);\n",
    "                                risk_detaillist.append(json.dumps(v2))\n",
    "                        v1.pop(field1);\n",
    "                risk_itemls.append(json.dumps(v1))\n",
    "            break;\n",
    "        elif field!=\"risk_items\" and type(text[field]) == dict:\n",
    "            result_desc=json.dumps(text[field]);\n",
    "            return tongdun_guard_json(result_desc,typeValue);\n",
    "        else :\n",
    "            continue\n",
    "    if typeValue=='risk_items':\n",
    "        return  risk_itemls\n",
    "    elif typeValue=='risk_detail':\n",
    "        return  risk_detaillist\n",
    "    elif typeValue=='risk_details':\n",
    "        return risk_detailslist;\n",
    "# tongdun_guard_json(a,\"risk_items\");\n",
    "spark.udf.register(\"tongdun_guard_json\",tongdun_guard_json,T.ArrayType(T.StringType()))"
   ]
  },
  {
   "cell_type": "code",
   "execution_count": 19,
   "metadata": {},
   "outputs": [
    {
     "data": {
      "application/vnd.jupyter.widget-view+json": {
       "model_id": "b341d04f1cc341aa9d83a6916305541e",
       "version_major": 2,
       "version_minor": 0
      },
      "text/plain": [
       "VBox()"
      ]
     },
     "metadata": {},
     "output_type": "display_data"
    },
    {
     "data": {
      "application/vnd.jupyter.widget-view+json": {
       "model_id": "",
       "version_major": 2,
       "version_minor": 0
      },
      "text/plain": [
       "FloatProgress(value=0.0, bar_style='info', description='Progress:', layout=Layout(height='25px', width='50%'),…"
      ]
     },
     "metadata": {},
     "output_type": "display_data"
    }
   ],
   "source": [
    "spark.conf.set(\"spark.sql.sources.partitionOverwriteMode\", \"dynamic\")\n",
    "thirdparty_tongdun_guard=spark.sql(\"\"\"\n",
    "select id,\n",
    "customer_id,\n",
    "loan_id,\n",
    "channel,\n",
    "channel_id,\n",
    "thirdparty_id,\n",
    "status,\n",
    "retry_times,\n",
    "cast(create_time as string ) as create_time,\n",
    "cast(update_time as string) as update_time,\n",
    "client_id,\n",
    "query_key,\n",
    "get_json_object(response,'$.success') as success,\n",
    "cast(get_json_object(response,'$.result_desc.ANTIFRAUD.final_score') as int ) as final_score,\n",
    "get_json_object(response,'$.result_desc.ANTIFRAUD.final_decision') as final_decision,\n",
    "get_json_object(response,'$.result_desc.INFOANALYSIS.address_detect.true_ip_address') as address_detect_true_ip_address,\n",
    "get_json_object(response,'$.result_desc.INFOANALYSIS.device_info.error') as device_info_error,\n",
    "year(to_date(a.create_time)) as year,\n",
    "if(length(MONTH(to_date(a.create_time)))=1,concat(\"0\",MONTH(to_date(a.create_time))),MONTH(to_date(a.create_time))) as month,\n",
    "if(length(day(to_date(a.create_time)))=1,concat(\"0\",day(to_date(a.create_time))),day(to_date(a.create_time))) as day\n",
    "from `lovina_s3_etl`.`t_task_1`a\n",
    "where  status=40 \n",
    "and channel=40  \n",
    "and customer_id is not null and (response is null or response ='' or substr(response,1,1)='{' ) and  id<11773266 \n",
    "and (client_id is null or client_id =0)\n",
    "\"\"\")\n",
    "thirdparty_tongdun_guard.write.mode(\"append\").partitionBy(\"year\",\"month\",\"day\").orc(\"s3://rupiahplus-data-warehouse/stream/thirdparty/thirdparty_tongdun_guard/\")"
   ]
  },
  {
   "cell_type": "code",
   "execution_count": 6,
   "metadata": {},
   "outputs": [
    {
     "data": {
      "application/vnd.jupyter.widget-view+json": {
       "model_id": "ebdf0c18d5fa47838585678140b3a335",
       "version_major": 2,
       "version_minor": 0
      },
      "text/plain": [
       "VBox()"
      ]
     },
     "metadata": {},
     "output_type": "display_data"
    },
    {
     "data": {
      "application/vnd.jupyter.widget-view+json": {
       "model_id": "",
       "version_major": 2,
       "version_minor": 0
      },
      "text/plain": [
       "FloatProgress(value=0.0, bar_style='info', description='Progress:', layout=Layout(height='25px', width='50%'),…"
      ]
     },
     "metadata": {},
     "output_type": "display_data"
    },
    {
     "name": "stdout",
     "output_type": "stream",
     "text": [
      "+--------+\n",
      "|count(1)|\n",
      "+--------+\n",
      "|       1|\n",
      "+--------+"
     ]
    }
   ],
   "source": [
    "# spark.conf.set(\"spark.sql.sources.partitionOverwriteMode\", \"dynamic\")\n",
    "thirdparty_tongdun_guard=spark.sql(\"\"\"\n",
    "select count(1)\n",
    "from `lovina_s3_etl`.`t_task`a \n",
    "where to_date(create_time)  ='2019-11-25' \n",
    "and  status=40 \n",
    "and channel=40  \n",
    "and customer_id is not null and (response is null or response ='' or substr(response,1,1)='{' ) \n",
    "and (client_id is null or client_id =0)\n",
    "\"\"\").show()\n",
    "# thirdparty_tongdun_guard.write.mode(\"append\").partitionBy(\"year\",\"month\",\"day\").orc(\"s3://rupiahplus-data-warehouse/stream/thirdparty/thirdparty_tongdun_guard/\")"
   ]
  },
  {
   "cell_type": "code",
   "execution_count": 3,
   "metadata": {},
   "outputs": [
    {
     "data": {
      "application/vnd.jupyter.widget-view+json": {
       "model_id": "bd0dbd02bf534d52a0344767f652af22",
       "version_major": 2,
       "version_minor": 0
      },
      "text/plain": [
       "VBox()"
      ]
     },
     "metadata": {},
     "output_type": "display_data"
    },
    {
     "data": {
      "application/vnd.jupyter.widget-view+json": {
       "model_id": "",
       "version_major": 2,
       "version_minor": 0
      },
      "text/plain": [
       "FloatProgress(value=0.0, bar_style='info', description='Progress:', layout=Layout(height='25px', width='50%'),…"
      ]
     },
     "metadata": {},
     "output_type": "display_data"
    }
   ],
   "source": [
    "thirdparty_tongdun_guard_risk_items=spark.sql(\"\"\"\n",
    "select \n",
    "get_json_object(risk_items,\"$.rule_id\") as rule_id,\n",
    "cast(a.customer_id as string) as customer_id,\n",
    "cast(a.loan_id as string) as loan_id,\n",
    "cast(a.create_time as string) as create_time,\n",
    "a.query_key,\n",
    "a.thirdparty_id,\n",
    "cast(get_json_object(risk_items,\"$.score\")as int) as score,\n",
    "get_json_object(risk_items,\"$.decision\") as decision,\n",
    "get_json_object(risk_items,\"$.risk_name\") as risk_name,\n",
    "year(to_date(create_time)) as year,\n",
    "if(length(MONTH(to_date(create_time)))=1,concat(\"0\",MONTH(to_date(create_time))),MONTH(to_date(create_time))) as month,\n",
    "if(length(day(to_date(create_time)))=1,concat(\"0\",day(to_date(create_time))),day(to_date(create_time))) as day\n",
    "from (\n",
    "select \n",
    "id,\n",
    "customer_id,\n",
    "loan_id,\n",
    "create_time,\n",
    "query_key,\n",
    "thirdparty_id,\n",
    "risk_items as risk_items\n",
    "from `lovina_s3_etl`.`t_task_1`\n",
    "LATERAL VIEW explode(tongdun_guard_json(response,\"risk_items\")) as risk_items\n",
    "where status=40 \n",
    "and channel=40  \n",
    "and (response is null or response ='' or substr(response,1,1)='{' )\n",
    "and (client_id=0 or client_id is null )\n",
    "and create_time > cast('2020-01-01 00:00:00'  AS timestamp) \n",
    ")  a\n",
    "\"\"\")\n",
    "thirdparty_tongdun_guard_risk_items.write.mode(\"append\").partitionBy(\"year\",\"month\",\"day\").orc(\"s3://rupiahplus-data-warehouse/stream/thirdparty/thirdparty_tongdun_guard_risk_items/\")"
   ]
  },
  {
   "cell_type": "code",
   "execution_count": 4,
   "metadata": {},
   "outputs": [
    {
     "data": {
      "application/vnd.jupyter.widget-view+json": {
       "model_id": "af067de8569043138fb11702e0f74235",
       "version_major": 2,
       "version_minor": 0
      },
      "text/plain": [
       "VBox()"
      ]
     },
     "metadata": {},
     "output_type": "display_data"
    },
    {
     "data": {
      "application/vnd.jupyter.widget-view+json": {
       "model_id": "",
       "version_major": 2,
       "version_minor": 0
      },
      "text/plain": [
       "FloatProgress(value=0.0, bar_style='info', description='Progress:', layout=Layout(height='25px', width='50%'),…"
      ]
     },
     "metadata": {},
     "output_type": "display_data"
    },
    {
     "name": "stdout",
     "output_type": "stream",
     "text": [
      "+--------+-----------+-------+--------------------+---------+--------------------+-----+--------+--------------------+----+-----+---+\n",
      "| rule_id|customer_id|loan_id|         create_time|query_key|       thirdparty_id|score|decision|           risk_name|year|month|day|\n",
      "+--------+-----------+-------+--------------------+---------+--------------------+-----+--------+--------------------+----+-----+---+\n",
      "|23374971|    2955133|5617575|2019-02-27 01:46:...|     null|WF201902270846101...|    5|  Accept|Borrower_applied_...|2019|    2| 27|\n",
      "|23375001|    2955133|5617575|2019-02-27 01:46:...|     null|WF201902270846101...|    5|  Accept|Borrower_applied_...|2019|    2| 27|\n",
      "|23375031|    2955133|5617575|2019-02-27 01:46:...|     null|WF201902270846101...|    5|  Accept|Borrower_applied_...|2019|    2| 27|\n",
      "|23374771|    2955133|5617575|2019-02-27 01:46:...|     null|WF201902270846101...|    0|  Accept|Borrower_name_sam...|2019|    2| 27|\n",
      "|23375031|    2027836|5903205|2019-03-30 03:57:...|     null|WF201903301057301...|    5|  Accept|Borrower_applied_...|2019|    3| 30|\n",
      "|23375271|    2027836|5903205|2019-03-30 03:57:...|     null|WF201903301057301...|    5|  Accept|Borrower_granted_...|2019|    3| 30|\n",
      "|23374771|    2027836|5903205|2019-03-30 03:57:...|     null|WF201903301057301...|    0|  Accept|Borrower_name_sam...|2019|    3| 30|\n",
      "|23375181|    2027836|5903205|2019-03-30 03:57:...|     null|WF201903301057301...|   10|  Accept|Borrower_this_mob...|2019|    3| 30|\n",
      "|23374771|    2777860|   null| 2019-01-10 05:52:40|     null|WF201901101252401...|    0|  Accept|Borrower_name_sam...|2019|    1| 10|\n",
      "|23374771|    2630855|5527633|2019-02-19 01:53:...|     null|WF201902190853101...|    0|  Accept|Borrower_name_sam...|2019|    2| 19|\n",
      "|23374831|    1922220|5453981|2019-02-13 12:02:...|     null|WF201902131902111...|    1|  Accept|Borrower_applied_...|2019|    2| 13|\n",
      "|23374871|    1922220|5453981|2019-02-13 12:02:...|     null|WF201902131902111...|    5|  Accept|Borrower_applied_...|2019|    2| 13|\n",
      "|23375221|    1922220|5453981|2019-02-13 12:02:...|     null|WF201902131902111...|    3|  Accept|Borrower_granted_...|2019|    2| 13|\n",
      "|23375271|    1922220|5453981|2019-02-13 12:02:...|     null|WF201902131902111...|    5|  Accept|Borrower_granted_...|2019|    2| 13|\n",
      "|23375301|    1922220|5453981|2019-02-13 12:02:...|     null|WF201902131902111...|    5|  Accept|Borrower_nightgra...|2019|    2| 13|\n",
      "|23375311|    1922220|5453981|2019-02-13 12:02:...|     null|WF201902131902111...|    5|  Accept|Borrower_nightgra...|2019|    2| 13|\n",
      "|23375461|    1922220|5453981|2019-02-13 12:02:...|     null|WF201902131902111...|    5|  Accept|Borrower_nightgra...|2019|    2| 13|\n",
      "|23375491|    1922220|5453981|2019-02-13 12:02:...|     null|WF201902131902111...|    5|  Accept|Borrower_nightgra...|2019|    2| 13|\n",
      "|23374771|    1922220|5453981|2019-02-13 12:02:...|     null|WF201902131902111...|    0|  Accept|Borrower_name_sam...|2019|    2| 13|\n",
      "|23375241|    1922220|5453981|2019-02-13 12:02:...|     null|WF201902131902111...|    5|  Accept|Borrower_name_not...|2019|    2| 13|\n",
      "+--------+-----------+-------+--------------------+---------+--------------------+-----+--------+--------------------+----+-----+---+\n",
      "only showing top 20 rows"
     ]
    }
   ],
   "source": [
    "thirdparty_tongdun_guard_risk_items=spark.sql(\"\"\"\n",
    "select \n",
    "get_json_object(risk_items,\"$.rule_id\") as rule_id,\n",
    "cast(a.customer_id as string) as customer_id,\n",
    "cast(a.loan_id as string) as loan_id,\n",
    "cast(a.create_time as string) as create_time,\n",
    "a.query_key,\n",
    "a.thirdparty_id,\n",
    "cast(get_json_object(risk_items,\"$.score\")as int) as score,\n",
    "get_json_object(risk_items,\"$.decision\") as decision,\n",
    "get_json_object(risk_items,\"$.risk_name\") as risk_name,\n",
    "year(to_date(create_time)) as year,\n",
    "month(to_date(create_time)) as month,\n",
    "day(to_date(create_time)) as day\n",
    "from (\n",
    "select \n",
    "id,\n",
    "customer_id,\n",
    "loan_id,\n",
    "create_time,\n",
    "query_key,\n",
    "thirdparty_id,\n",
    "risk_items as risk_items\n",
    "from `lovina_s3_etl`.`t_task`\n",
    "LATERAL VIEW explode(tongdun_guard_json(response,\"risk_items\")) as risk_items\n",
    "where status=40 \n",
    "and channel=40  \n",
    "and (response is null or response ='' or substr(response,1,1)='{' )\n",
    "and (client_id=0 or client_id is null )\n",
    "and  id<11773266 \n",
    "limit 100\n",
    ")  a\n",
    "\"\"\").show()\n"
   ]
  },
  {
   "cell_type": "code",
   "execution_count": 26,
   "metadata": {},
   "outputs": [
    {
     "data": {
      "application/vnd.jupyter.widget-view+json": {
       "model_id": "451d6b94a24b4236a3432136cb8f6bd8",
       "version_major": 2,
       "version_minor": 0
      },
      "text/plain": [
       "VBox()"
      ]
     },
     "metadata": {},
     "output_type": "display_data"
    },
    {
     "data": {
      "application/vnd.jupyter.widget-view+json": {
       "model_id": "",
       "version_major": 2,
       "version_minor": 0
      },
      "text/plain": [
       "FloatProgress(value=0.0, bar_style='info', description='Progress:', layout=Layout(height='25px', width='50%'),…"
      ]
     },
     "metadata": {},
     "output_type": "display_data"
    }
   ],
   "source": [
    "thirdparty_tongdun_guard_risk_detail=spark.sql(\"\"\"\n",
    "select \n",
    "get_json_object(risk_detail,\"$.rule_id\") as rule_id,\n",
    "get_json_object(risk_detail,\"$.rule_detail_id\") as rule_detail_id,\n",
    "cast(a.customer_id as string) as customer_id,\n",
    "cast(a.loan_id as string) as loan_id,\n",
    "cast(a.create_time as string) as create_time,\n",
    "a.query_key,\n",
    "a.thirdparty_id,\n",
    "get_json_object(risk_detail,\"$.type\") as type,\n",
    "year(to_date(create_time)) as year,\n",
    "if(length(MONTH(to_date(create_time)))=1,concat(\"0\",MONTH(to_date(create_time))),MONTH(to_date(create_time))) as month,\n",
    "if(length(day(to_date(create_time)))=1,concat(\"0\",day(to_date(create_time))),day(to_date(create_time))) as day\n",
    "from (\n",
    "select \n",
    "id,\n",
    "customer_id,\n",
    "loan_id,\n",
    "create_time,\n",
    "query_key,\n",
    "thirdparty_id,\n",
    "risk_detail as risk_detail\n",
    "from `lovina_s3_etl`.`t_task_1`\n",
    "LATERAL VIEW explode(tongdun_guard_json(response,\"risk_detail\")) as risk_detail\n",
    "where status=40 \n",
    "and channel=40  \n",
    "and (response is null or response ='' or substr(response,1,1)='{' )\n",
    "and (client_id=0 or client_id is null )\n",
    "and  id<11773266 \n",
    ")  a\n",
    "\"\"\")\n",
    "thirdparty_tongdun_guard_risk_detail.write.mode(\"append\").partitionBy(\"year\",\"month\",\"day\").orc(\"s3://rupiahplus-data-warehouse/stream/thirdparty/thirdparty_tongdun_guard_risk_detail/\")"
   ]
  },
  {
   "cell_type": "code",
   "execution_count": 30,
   "metadata": {},
   "outputs": [
    {
     "data": {
      "application/vnd.jupyter.widget-view+json": {
       "model_id": "de914df4a6c84e968661f901029dc0ea",
       "version_major": 2,
       "version_minor": 0
      },
      "text/plain": [
       "VBox()"
      ]
     },
     "metadata": {},
     "output_type": "display_data"
    },
    {
     "data": {
      "application/vnd.jupyter.widget-view+json": {
       "model_id": "",
       "version_major": 2,
       "version_minor": 0
      },
      "text/plain": [
       "FloatProgress(value=0.0, bar_style='info', description='Progress:', layout=Layout(height='25px', width='50%'),…"
      ]
     },
     "metadata": {},
     "output_type": "display_data"
    }
   ],
   "source": [
    "thirdparty_tongdun_guard_risk_details=spark.sql(\"\"\"\n",
    "select \n",
    "get_json_object(risk_details,\"$.rule_id\") as rule_id,\n",
    "get_json_object(risk_details,\"$.rule_detail_id\") as rule_detail_id,\n",
    "cast(a.customer_id as string) as customer_id,\n",
    "cast(a.loan_id as string) as loan_id,\n",
    "cast(a.create_time as string) as create_time,\n",
    "a.query_key,\n",
    "a.thirdparty_id,\n",
    "get_json_object(risk_details,\"$.description\") as description,\n",
    "get_json_object(risk_details,\"$.hit_rule_type\") as hit_rule_type,\n",
    "get_json_object(risk_details,\"$.field_type\") as field_type,\n",
    "get_json_object(risk_details,\"$.input_value\") as input_value,\n",
    "year(to_date(create_time)) as year,\n",
    "if(length(MONTH(to_date(create_time)))=1,concat(\"0\",MONTH(to_date(create_time))),MONTH(to_date(create_time))) as month,\n",
    "if(length(day(to_date(create_time)))=1,concat(\"0\",day(to_date(create_time))),day(to_date(create_time))) as day\n",
    "from (\n",
    "select \n",
    "id,\n",
    "customer_id,\n",
    "loan_id,\n",
    "create_time,\n",
    "query_key,\n",
    "thirdparty_id,\n",
    "risk_details as risk_details\n",
    "from `lovina_s3_etl`.`t_task_1`\n",
    "LATERAL VIEW explode(tongdun_guard_json(response ,\"risk_details\")) as risk_details\n",
    "where status=40 \n",
    "and channel=40  \n",
    "and (response is null or response ='' or substr(response,1,1)='{' )\n",
    "and (client_id=0 or client_id is null )\n",
    "and  id<11773266 \n",
    ")  a\n",
    "\"\"\")\n",
    "thirdparty_tongdun_guard_risk_details.write.mode(\"append\").partitionBy(\"year\",\"month\",\"day\").orc(\"s3://rupiahplus-data-warehouse/stream/thirdparty/thirdparty_tongdun_guard_risk_details/\")"
   ]
  },
  {
   "cell_type": "code",
   "execution_count": 31,
   "metadata": {},
   "outputs": [
    {
     "data": {
      "application/vnd.jupyter.widget-view+json": {
       "model_id": "7af8af2c1e7e4131acc6360b318c758a",
       "version_major": 2,
       "version_minor": 0
      },
      "text/plain": [
       "VBox()"
      ]
     },
     "metadata": {},
     "output_type": "display_data"
    },
    {
     "data": {
      "application/vnd.jupyter.widget-view+json": {
       "model_id": "",
       "version_major": 2,
       "version_minor": 0
      },
      "text/plain": [
       "FloatProgress(value=0.0, bar_style='info', description='Progress:', layout=Layout(height='25px', width='50%'),…"
      ]
     },
     "metadata": {},
     "output_type": "display_data"
    },
    {
     "name": "stdout",
     "output_type": "stream",
     "text": [
      "<function tongdun_guard_Republika_json at 0x7fc6e1ec8b70>"
     ]
    }
   ],
   "source": [
    "from urllib.request import urlopen\n",
    "import json\n",
    "from pprint import pprint\n",
    "from pyspark.sql import types as T\n",
    "# a='{\"success\":true,\"id\":\"WF2019101615354013301181\",\"result_desc\":{\"INFOANALYSIS\":{\"address_detect\":{\"true_ip_address\":null},\"device_info\":{\"error\":\"Parameters are not complete.\"}},\"ANTIFRAUD\":{\"final_score\":20,\"risk_items\":[{\"rule_id\":\"23408122\",\"score\":9,\"decision\":\"Accept\",\"risk_name\":\"3个月内身份证关联多个手机号或邮箱_90d_id_number_relates_to_email_or_mobile\",\"risk_detail\":[{\"frequency_detail_list\":[{\"data\":[\"09507861250\",\"956※※※※190\",\"09561194190\"],\"detail\":\"90d_id_mobile_loan_all:3\"}],\"type\":\"frequency_detail\"}]},{\"rule_id\":\"23408132\",\"score\":6,\"decision\":\"Accept\",\"risk_name\":\"3个月内手机号或邮箱关联多个身份证_90d_mobile_email_relates_to_more_than_one_id_number\",\"risk_detail\":[{\"frequency_detail_list\":[{\"data\":[\"749758663000\",\"020※※※※418\"],\"detail\":\"90d_mobile_id_loan_all:2\"}],\"type\":\"frequency_detail\"}]},{\"rule_id\":\"23408352\",\"score\":3,\"decision\":\"Accept\",\"risk_name\":\"30天内申请人在多个平台申请借款_Borrower_applied_loan_in_many_platforms_in_30_days\",\"risk_detail\":[{\"platform_detail_dimension\":[{\"count\":1,\"detail\":[{\"count\":1,\"industry_display_name\":\"无行业\"}],\"dimension\":\"account_mobile\"},{\"count\":2,\"detail\":[{\"count\":2,\"industry_display_name\":\"无行业\"}],\"dimension\":\"id_number\"}],\"platform_detail\":[{\"count\":2,\"industry_display_name\":\"无行业\"}],\"description\":\"30d_ids_multiplatforms_loan_all\",\"type\":\"platform_detail\",\"platform_count\":2}]},{\"rule_id\":\"23408372\",\"score\":2,\"decision\":\"Accept\",\"risk_name\":\"90天内申请人在多个平台申请借款_Borrower_applied_loan_in_many_platforms_in_90_days\",\"risk_detail\":[{\"platform_detail_dimension\":[{\"count\":2,\"detail\":[{\"count\":2,\"industry_display_name\":\"无行业\"}],\"dimension\":\"account_mobile\"},{\"count\":2,\"detail\":[{\"count\":2,\"industry_display_name\":\"无行业\"}],\"dimension\":\"id_number\"}],\"platform_detail\":[{\"count\":3,\"industry_display_name\":\"无行业\"}],\"description\":\"90d_ids_multiplatforms_loan_all\",\"type\":\"platform_detail\",\"platform_count\":3}]}],\"final_decision\":\"Review\"}}}'\n",
    "# def tongdun_guard_json(b,typeValue):\n",
    "#     return getJsonArray(b,typeValue);\n",
    "def tongdun_guard_Republika_json(b,typeValue):\n",
    "    risk_itemls=[];\n",
    "    risk_detaillist=[];\n",
    "    risk_detailslist=[];\n",
    "    frequency_detail_list=[];\n",
    "    platform_detail_dimension=[];\n",
    "    platform_detail_dimension_detail=[];\n",
    "    platform_detail=[];\n",
    "    text = json.loads(b)\n",
    "    for field in text.keys():\n",
    "        if field==\"risk_items\":\n",
    "            index=0;\n",
    "            for v1 in text[field]:\n",
    "                index=index+1;\n",
    "                for field1 in list(v1):\n",
    "                    if field1=='risk_detail':\n",
    "                        for v2 in v1[field1]:\n",
    "                            for risk_detailfield in  list(v2):\n",
    "                                if risk_detailfield=='risk_details':\n",
    "                                    for v3 in v2[risk_detailfield]:\n",
    "                                        v3[\"rule_id\"]=v1[\"rule_id\"];\n",
    "                                        v3[\"rule_detail_id\"]=v1[\"rule_id\"]+\"_\"+str(index);\n",
    "                                        risk_detailslist.append(json.dumps(v3));\n",
    "                                    v2.pop(\"risk_details\");\n",
    "                                if risk_detailfield=='frequency_detail_list':\n",
    "                                    for v3 in v2[risk_detailfield]:\n",
    "                                        v3[\"rule_id\"]=v1[\"rule_id\"];\n",
    "                                        v3[\"rule_detail_id\"]=v1[\"rule_id\"]+\"_\"+str(index);\n",
    "                                        frequency_detail_list.append(json.dumps(v3));\n",
    "                                    v2.pop(\"frequency_detail_list\");\n",
    "                                if risk_detailfield=='platform_detail_dimension':\n",
    "                                    index2=0\n",
    "                                    for v3 in v2[risk_detailfield]:\n",
    "                                        index2=index2+1;\n",
    "                                        v3[\"rule_id\"]=v1[\"rule_id\"];\n",
    "                                        v3[\"rule_detail_id\"]=v1[\"rule_id\"]+\"_\"+str(index);\n",
    "                                        v3[\"rule_detail_id2\"]=v1[\"rule_id\"]+\"_\"+str(index)+\"_\"+str(index2);\n",
    "                                        if v3[\"detail\"]:\n",
    "                                            for v4 in v3[\"detail\"]:\n",
    "                                                v4[\"rule_id\"]=v1[\"rule_id\"];\n",
    "                                                v4[\"rule_detail_id\"]=v1[\"rule_id\"]+\"_\"+str(index);\n",
    "                                                v4[\"rule_detail_id2\"]=v1[\"rule_id\"]+\"_\"+str(index)+\"_\"+str(index2);\n",
    "                                                v3.pop(\"detail\");\n",
    "                                            platform_detail_dimension_detail.append(json.dumps(v4));\n",
    "                                        platform_detail_dimension.append(json.dumps(v3));\n",
    "                                    v2.pop(\"platform_detail_dimension\");\n",
    "                                if risk_detailfield=='platform_detail':\n",
    "                                    for v3 in v2[risk_detailfield]:\n",
    "                                        index2=index2+1;\n",
    "                                        v3[\"rule_id\"]=v1[\"rule_id\"];\n",
    "                                        v3[\"rule_detail_id\"]=v1[\"rule_id\"]+\"_\"+str(index);\n",
    "                                    # print(v3)\n",
    "                                    v2.pop(\"platform_detail\");\n",
    "                                    platform_detail.append(json.dumps(v3));\n",
    "                            v2[\"rule_id\"]=v1[\"rule_id\"];\n",
    "                            v2[\"rule_detail_id\"]=v1[\"rule_id\"]+\"_\"+str(index);\n",
    "                            risk_detaillist.append(json.dumps(v2))\n",
    "                        v1.pop(field1);\n",
    "                risk_itemls.append(json.dumps(v1))\n",
    "            break;\n",
    "        elif field!=\"risk_items\" and field!=\"INFOANALYSIS\" and type(text[field]) == dict:\n",
    "            result_desc=json.dumps(text[field]);\n",
    "            return tongdun_guard_Republika_json(result_desc,typeValue);\n",
    "        else :\n",
    "             continue\n",
    "    if typeValue=='risk_items':\n",
    "        return  risk_itemls\n",
    "    elif typeValue=='risk_detail':\n",
    "        return  risk_detaillist\n",
    "    elif typeValue=='risk_details':\n",
    "        return risk_detailslist;\n",
    "    elif typeValue=='frequency_detail_list':\n",
    "        return  frequency_detail_list\n",
    "    elif typeValue=='platform_detail_dimension':\n",
    "        return  platform_detail_dimension\n",
    "    elif typeValue=='platform_detail_dimension_detail':\n",
    "        return platform_detail_dimension_detail;\n",
    "    elif typeValue=='platform_detail':\n",
    "        return platform_detail;\n",
    "# tongdun_guard_Republika_json(a,\"risk_items\");\n",
    "spark.udf.register(\"tongdun_guard_Republika_json\",tongdun_guard_Republika_json,T.ArrayType(T.StringType()))"
   ]
  },
  {
   "cell_type": "code",
   "execution_count": 32,
   "metadata": {},
   "outputs": [
    {
     "data": {
      "application/vnd.jupyter.widget-view+json": {
       "model_id": "d00a4fa1d39c44f58d61065a60f65e67",
       "version_major": 2,
       "version_minor": 0
      },
      "text/plain": [
       "VBox()"
      ]
     },
     "metadata": {},
     "output_type": "display_data"
    },
    {
     "data": {
      "application/vnd.jupyter.widget-view+json": {
       "model_id": "",
       "version_major": 2,
       "version_minor": 0
      },
      "text/plain": [
       "FloatProgress(value=0.0, bar_style='info', description='Progress:', layout=Layout(height='25px', width='50%'),…"
      ]
     },
     "metadata": {},
     "output_type": "display_data"
    }
   ],
   "source": [
    "spark.conf.set(\"spark.sql.sources.partitionOverwriteMode\", \"dynamic\")\n",
    "thirdparty_tongdun_guard_Republika=spark.sql(\"\"\"\n",
    "select \n",
    "id,\n",
    "customer_id,\n",
    "loan_id,\n",
    "channel,\n",
    "channel_id,\n",
    "thirdparty_id,\n",
    "status,\n",
    "retry_times,\n",
    "cast(create_time as string ) as create_time,\n",
    "cast(update_time as string) as update_time,\n",
    "client_id,\n",
    "query_key,\n",
    "get_json_object(response,'$.success') as success,\n",
    "cast(get_json_object(response,'$.result_desc.ANTIFRAUD.final_score') as int ) as final_score,\n",
    "get_json_object(response,'$.result_desc.ANTIFRAUD.final_decision') as final_decision,\n",
    "get_json_object(response,'$.result_desc.INFOANALYSIS.address_detect.true_ip_address') as address_detect_true_ip_address,\n",
    "get_json_object(response,'$.result_desc.INFOANALYSIS.device_info.error') as device_info_error,\n",
    "year(to_date(create_time)) as year,\n",
    "if(length(MONTH(to_date(create_time)))=1,concat(\"0\",MONTH(to_date(create_time))),MONTH(to_date(create_time))) as month,\n",
    "if(length(day(to_date(create_time)))=1,concat(\"0\",day(to_date(create_time))),day(to_date(create_time))) as day\n",
    "from `lovina_s3_etl`.`t_task_1`a\n",
    "where  status=40 \n",
    "and channel=40  \n",
    "and customer_id is not null and (response is null or response ='' or substr(response,1,1)='{' ) \n",
    "and client_id=2  \n",
    "and  id<11773266 \n",
    "\"\"\")\n",
    "thirdparty_tongdun_guard_Republika.write.mode(\"append\").partitionBy(\"year\",\"month\",\"day\").orc(\"s3://rupiahplus-data-warehouse/stream/thirdparty/thirdparty_tongdun_guard_Republika/\")"
   ]
  },
  {
   "cell_type": "code",
   "execution_count": 33,
   "metadata": {},
   "outputs": [
    {
     "data": {
      "application/vnd.jupyter.widget-view+json": {
       "model_id": "b1a54de9df6949f6b257605fec2964a1",
       "version_major": 2,
       "version_minor": 0
      },
      "text/plain": [
       "VBox()"
      ]
     },
     "metadata": {},
     "output_type": "display_data"
    },
    {
     "data": {
      "application/vnd.jupyter.widget-view+json": {
       "model_id": "",
       "version_major": 2,
       "version_minor": 0
      },
      "text/plain": [
       "FloatProgress(value=0.0, bar_style='info', description='Progress:', layout=Layout(height='25px', width='50%'),…"
      ]
     },
     "metadata": {},
     "output_type": "display_data"
    }
   ],
   "source": [
    "thirdparty_tongdun_guard_risk_items_republika=spark.sql(\"\"\"\n",
    "select \n",
    "get_json_object(risk_items,\"$.rule_id\") as rule_id,\n",
    "cast(a.customer_id as string) as customer_id,\n",
    "cast(a.loan_id as string) as loan_id,\n",
    "cast(a.create_time as string) as create_time,\n",
    "a.query_key,\n",
    "a.thirdparty_id,\n",
    "get_json_object(risk_items,\"$.score\") as score,\n",
    "get_json_object(risk_items,\"$.decision\") as decision,\n",
    "get_json_object(risk_items,\"$.risk_name\") as risk_name,\n",
    "year(to_date(create_time)) as year,\n",
    "if(length(MONTH(to_date(create_time)))=1,concat(\"0\",MONTH(to_date(create_time))),MONTH(to_date(create_time))) as month,\n",
    "if(length(day(to_date(create_time)))=1,concat(\"0\",day(to_date(create_time))),day(to_date(create_time))) as day\n",
    "from (\n",
    "select \n",
    "id,\n",
    "customer_id,\n",
    "loan_id,\n",
    "create_time,\n",
    "query_key,\n",
    "thirdparty_id,\n",
    "risk_items as risk_items\n",
    "from `lovina_s3_etl`.`t_task_1`\n",
    "LATERAL VIEW explode(tongdun_guard_Republika_json(response,\"risk_items\")) as risk_items\n",
    "where status=40 \n",
    "and channel=40  \n",
    "and customer_id is not null\n",
    "and (response is null or response ='' or substr(response,1,1)='{' )\n",
    "and client_id=2 \n",
    "and  id<11773266 \n",
    ")  a\n",
    "\"\"\")\n",
    "thirdparty_tongdun_guard_risk_items_republika.write.mode(\"overwrite\").partitionBy(\"year\",\"month\",\"day\").orc(\"s3://rupiahplus-data-warehouse/stream/thirdparty/thirdparty_tongdun_guard_risk_items_Republika/\")"
   ]
  },
  {
   "cell_type": "code",
   "execution_count": null,
   "metadata": {},
   "outputs": [],
   "source": []
  },
  {
   "cell_type": "code",
   "execution_count": 34,
   "metadata": {},
   "outputs": [
    {
     "data": {
      "application/vnd.jupyter.widget-view+json": {
       "model_id": "33f74bddf87c4449ba9fe212d2748adf",
       "version_major": 2,
       "version_minor": 0
      },
      "text/plain": [
       "VBox()"
      ]
     },
     "metadata": {},
     "output_type": "display_data"
    },
    {
     "data": {
      "application/vnd.jupyter.widget-view+json": {
       "model_id": "",
       "version_major": 2,
       "version_minor": 0
      },
      "text/plain": [
       "FloatProgress(value=0.0, bar_style='info', description='Progress:', layout=Layout(height='25px', width='50%'),…"
      ]
     },
     "metadata": {},
     "output_type": "display_data"
    }
   ],
   "source": [
    "thirdparty_tongdun_guard_risk_detail_republika=spark.sql(\"\"\"\n",
    "select \n",
    "get_json_object(risk_detail,\"$.rule_id\") as rule_id,\n",
    "get_json_object(risk_detail,\"$.rule_detail_id\") as rule_detail_id,\n",
    "cast(a.customer_id as string) as customer_id,\n",
    "cast(a.loan_id as string) as loan_id,\n",
    "cast(a.create_time as string) as create_time,\n",
    "a.query_key,\n",
    "a.thirdparty_id,\n",
    "get_json_object(risk_detail,\"$.type\") as type,\n",
    "year(to_date(create_time)) as year,\n",
    "if(length(MONTH(to_date(create_time)))=1,concat(\"0\",MONTH(to_date(create_time))),MONTH(to_date(create_time))) as month,\n",
    "if(length(day(to_date(create_time)))=1,concat(\"0\",day(to_date(create_time))),day(to_date(create_time))) as day\n",
    "from (\n",
    "select \n",
    "id,\n",
    "customer_id,\n",
    "loan_id,\n",
    "create_time,\n",
    "query_key,\n",
    "thirdparty_id,\n",
    "risk_detail as risk_detail\n",
    "from `lovina_s3_etl`.`t_task_1`\n",
    "LATERAL VIEW explode(tongdun_guard_Republika_json(response,\"risk_detail\")) as risk_detail\n",
    "where status=40 \n",
    "and channel=40  \n",
    "and (response is null or response ='' or substr(response,1,1)='{' )\n",
    "and client_id=2 \n",
    "and customer_id is not null\n",
    "and  id<11773266 \n",
    ")  a\n",
    "\"\"\")\n",
    "thirdparty_tongdun_guard_risk_detail_republika.write.mode(\"append\").partitionBy(\"year\",\"month\",\"day\").orc(\"s3://rupiahplus-data-warehouse/stream/thirdparty/thirdparty_tongdun_guard_risk_detail_Republika/\")"
   ]
  },
  {
   "cell_type": "code",
   "execution_count": 25,
   "metadata": {},
   "outputs": [
    {
     "data": {
      "application/vnd.jupyter.widget-view+json": {
       "model_id": "dc9d6ea5fded42fa93c3ffb4b9d4739e",
       "version_major": 2,
       "version_minor": 0
      },
      "text/plain": [
       "VBox()"
      ]
     },
     "metadata": {},
     "output_type": "display_data"
    },
    {
     "data": {
      "application/vnd.jupyter.widget-view+json": {
       "model_id": "",
       "version_major": 2,
       "version_minor": 0
      },
      "text/plain": [
       "FloatProgress(value=0.0, bar_style='info', description='Progress:', layout=Layout(height='25px', width='50%'),…"
      ]
     },
     "metadata": {},
     "output_type": "display_data"
    },
    {
     "name": "stdout",
     "output_type": "stream",
     "text": [
      "+--------+\n",
      "|count(1)|\n",
      "+--------+\n",
      "|     705|\n",
      "+--------+"
     ]
    }
   ],
   "source": []
  },
  {
   "cell_type": "code",
   "execution_count": 35,
   "metadata": {},
   "outputs": [
    {
     "data": {
      "application/vnd.jupyter.widget-view+json": {
       "model_id": "5457c5dbb18e49adb01bee4c9041da13",
       "version_major": 2,
       "version_minor": 0
      },
      "text/plain": [
       "VBox()"
      ]
     },
     "metadata": {},
     "output_type": "display_data"
    },
    {
     "data": {
      "application/vnd.jupyter.widget-view+json": {
       "model_id": "",
       "version_major": 2,
       "version_minor": 0
      },
      "text/plain": [
       "FloatProgress(value=0.0, bar_style='info', description='Progress:', layout=Layout(height='25px', width='50%'),…"
      ]
     },
     "metadata": {},
     "output_type": "display_data"
    }
   ],
   "source": [
    "thirdparty_tongdun_guard_frequency_detail=spark.sql(\"\"\"\n",
    "select \n",
    "cast(a.customer_id as string) as customer_id,\n",
    "cast(a.loan_id as string) as loan_id,\n",
    "cast(a.create_time as string) as create_time,\n",
    "a.query_key,\n",
    "a.thirdparty_id,\n",
    "get_json_object(frequency_detail_list,\"$.rule_id\") as rule_id,\n",
    "get_json_object(frequency_detail_list,\"$.rule_detail_id\") as rule_detail_id,\n",
    "substr(get_json_object(frequency_detail_list,\"$.data\"),2,length(get_json_object(frequency_detail_list,\"$.data\"))-2) as data,\n",
    "get_json_object(frequency_detail_list,\"$.detail\") as detail,\n",
    "year(to_date(create_time)) as year,\n",
    "if(length(MONTH(to_date(create_time)))=1,concat(\"0\",MONTH(to_date(create_time))),MONTH(to_date(create_time))) as month,\n",
    "if(length(day(to_date(create_time)))=1,concat(\"0\",day(to_date(create_time))),day(to_date(create_time))) as day\n",
    "from (\n",
    "select \n",
    "id,\n",
    "customer_id,\n",
    "loan_id,\n",
    "create_time,\n",
    "query_key,\n",
    "thirdparty_id,\n",
    "frequency_detail_list as frequency_detail_list\n",
    "from `lovina_s3_etl`.`t_task_1`\n",
    "LATERAL VIEW explode(tongdun_guard_Republika_json(response,\"frequency_detail_list\")) as frequency_detail_list\n",
    "where status=40 \n",
    "and channel=40  \n",
    "and (response is null or response ='' or substr(response,1,1)='{' )\n",
    "and client_id=2 \n",
    "and  id<11773266 \n",
    "and customer_id is not null\n",
    ")  a \n",
    "\"\"\")\n",
    "thirdparty_tongdun_guard_frequency_detail.write.mode(\"append\").partitionBy(\"year\",\"month\",\"day\").orc(\"s3://rupiahplus-data-warehouse/stream/thirdparty/thirdparty_tongdun_guard_frequency_detail/\")"
   ]
  },
  {
   "cell_type": "code",
   "execution_count": 6,
   "metadata": {},
   "outputs": [
    {
     "data": {
      "application/vnd.jupyter.widget-view+json": {
       "model_id": "fa19f1affb1e4d20aaa39084c0a3b4a4",
       "version_major": 2,
       "version_minor": 0
      },
      "text/plain": [
       "VBox()"
      ]
     },
     "metadata": {},
     "output_type": "display_data"
    },
    {
     "data": {
      "application/vnd.jupyter.widget-view+json": {
       "model_id": "",
       "version_major": 2,
       "version_minor": 0
      },
      "text/plain": [
       "FloatProgress(value=0.0, bar_style='info', description='Progress:', layout=Layout(height='25px', width='50%'),…"
      ]
     },
     "metadata": {},
     "output_type": "display_data"
    },
    {
     "name": "stdout",
     "output_type": "stream",
     "text": [
      "+--------+\n",
      "|count(1)|\n",
      "+--------+\n",
      "|   97517|\n",
      "+--------+"
     ]
    }
   ],
   "source": [
    "list1=spark.sql(\"\"\"\n",
    "select \n",
    "count(1)\n",
    "from (\n",
    "select \n",
    "id,\n",
    "customer_id,\n",
    "loan_id,\n",
    "create_time,\n",
    "query_key,\n",
    "thirdparty_id,\n",
    "frequency_detail_list as frequency_detail_list\n",
    "from `lovina_s3_etl`.`t_task`\n",
    "LATERAL VIEW explode(tongdun_guard_Republika_json(response,\"frequency_detail_list\")) as frequency_detail_list\n",
    "where status=40 \n",
    "and channel=40  \n",
    "and (response is null or response ='' or substr(response,1,1)='{' )\n",
    "and client_id=2 \n",
    "and customer_id is not null\n",
    ")  a \n",
    "\"\"\").show()\n",
    "# thirdparty_tongdun_guard_frequency_detail.write.mode(\"append\").partitionBy(\"year\",\"month\",\"day\").orc(\"s3://rupiahplus-data-warehouse/stream/thirdparty/thirdparty_tongdun_guard_frequency_detail/\")"
   ]
  },
  {
   "cell_type": "code",
   "execution_count": 36,
   "metadata": {},
   "outputs": [
    {
     "data": {
      "application/vnd.jupyter.widget-view+json": {
       "model_id": "fdb78cd6f929404ca2efaf0f78167a1c",
       "version_major": 2,
       "version_minor": 0
      },
      "text/plain": [
       "VBox()"
      ]
     },
     "metadata": {},
     "output_type": "display_data"
    },
    {
     "data": {
      "application/vnd.jupyter.widget-view+json": {
       "model_id": "",
       "version_major": 2,
       "version_minor": 0
      },
      "text/plain": [
       "FloatProgress(value=0.0, bar_style='info', description='Progress:', layout=Layout(height='25px', width='50%'),…"
      ]
     },
     "metadata": {},
     "output_type": "display_data"
    }
   ],
   "source": [
    "thirdparty_tongdun_guard_platform_detail=spark.sql(\"\"\"\n",
    "select \n",
    "cast(a.customer_id as string) as customer_id,\n",
    "cast(a.loan_id as string) as loan_id,\n",
    "cast(a.create_time as string) as create_time,\n",
    "a.thirdparty_id,\n",
    "a.query_key,\n",
    "get_json_object(frequency_detail_list,\"$.rule_id\") as rule_id,\n",
    "get_json_object(frequency_detail_list,\"$.rule_detail_id\") as rule_detail_id,\n",
    "cast(get_json_object(frequency_detail_list,\"$.count\") as int) as count,\n",
    "get_json_object(frequency_detail_list,\"$.industry_display_name\") as industry_display_name,\n",
    "year(to_date(create_time)) as year,\n",
    "if(length(MONTH(to_date(create_time)))=1,concat(\"0\",MONTH(to_date(create_time))),MONTH(to_date(create_time))) as month,\n",
    "if(length(day(to_date(create_time)))=1,concat(\"0\",day(to_date(create_time))),day(to_date(create_time))) as day\n",
    "from (\n",
    "select \n",
    "id,\n",
    "customer_id,\n",
    "loan_id,\n",
    "create_time,\n",
    "query_key,\n",
    "thirdparty_id,\n",
    "frequency_detail_list as frequency_detail_list\n",
    "from `lovina_s3_etl`.`t_task_1`\n",
    "LATERAL VIEW explode(tongdun_guard_Republika_json(response,\"platform_detail\")) as frequency_detail_list\n",
    "where status=40 \n",
    "and channel=40  \n",
    "and (response is null or response ='' or substr(response,1,1)='{' )\n",
    "and client_id=2 \n",
    "and customer_id is not null\n",
    "and  id<11773266 \n",
    ")  a\n",
    "\"\"\")\n",
    "thirdparty_tongdun_guard_platform_detail.write.mode(\"overwrite\").partitionBy(\"year\",\"month\",\"day\").orc(\"s3://rupiahplus-data-warehouse/stream/thirdparty/thirdparty_tongdun_guard_platform_detail/\")"
   ]
  },
  {
   "cell_type": "code",
   "execution_count": 37,
   "metadata": {},
   "outputs": [
    {
     "data": {
      "application/vnd.jupyter.widget-view+json": {
       "model_id": "2adb209af14e458490900d77c402efc7",
       "version_major": 2,
       "version_minor": 0
      },
      "text/plain": [
       "VBox()"
      ]
     },
     "metadata": {},
     "output_type": "display_data"
    },
    {
     "data": {
      "application/vnd.jupyter.widget-view+json": {
       "model_id": "",
       "version_major": 2,
       "version_minor": 0
      },
      "text/plain": [
       "FloatProgress(value=0.0, bar_style='info', description='Progress:', layout=Layout(height='25px', width='50%'),…"
      ]
     },
     "metadata": {},
     "output_type": "display_data"
    }
   ],
   "source": [
    "thirdparty_tongdun_guard_platform_detail_dimension=spark.sql(\"\"\"\n",
    "select\n",
    "cast(a.customer_id as string) as customer_id,\n",
    "cast(a.loan_id as string) as loan_id,\n",
    "cast(a.create_time as string) as create_time,\n",
    "a.thirdparty_id,\n",
    "a.query_key,\n",
    "get_json_object(platform_detail_dimension,\"$.rule_id\") as rule_id,\n",
    "get_json_object(platform_detail_dimension,\"$.rule_detail_id\") as rule_detail_id,\n",
    "cast(get_json_object(platform_detail_dimension,\"$.count\") as int) as count,\n",
    "get_json_object(platform_detail_dimension,\"$.dimension\") as dimension,\n",
    "get_json_object(platform_detail_dimension,\"$.rule_detail_id2\") as rule_detail_id2,\n",
    "year(to_date(create_time)) as year,\n",
    "if(length(MONTH(to_date(create_time)))=1,concat(\"0\",MONTH(to_date(create_time))),MONTH(to_date(create_time))) as month,\n",
    "if(length(day(to_date(create_time)))=1,concat(\"0\",day(to_date(create_time))),day(to_date(create_time))) as day\n",
    "from (\n",
    "select \n",
    "id,\n",
    "customer_id,\n",
    "loan_id,\n",
    "create_time,\n",
    "query_key,\n",
    "thirdparty_id,\n",
    "platform_detail_dimension as platform_detail_dimension\n",
    "from `lovina_s3_etl`.`t_task_1`\n",
    "LATERAL VIEW explode(tongdun_guard_Republika_json(response,\"platform_detail_dimension\")) as platform_detail_dimension\n",
    "where status=40 \n",
    "and channel=40  \n",
    "and (response is null or response ='' or substr(response,1,1)='{' )\n",
    "and client_id=2 \n",
    "and customer_id is not null\n",
    "and  id<11773266 \n",
    ")  a\n",
    "\"\"\")\n",
    "thirdparty_tongdun_guard_platform_detail_dimension.write.mode(\"append\").partitionBy(\"year\",\"month\",\"day\").orc(\"s3://rupiahplus-data-warehouse/stream/thirdparty/thirdparty_tongdun_guard_platform_detail_dimension/\")"
   ]
  },
  {
   "cell_type": "code",
   "execution_count": 38,
   "metadata": {},
   "outputs": [
    {
     "data": {
      "application/vnd.jupyter.widget-view+json": {
       "model_id": "7db51fdf5a0c45098a9ee278b8cbb18a",
       "version_major": 2,
       "version_minor": 0
      },
      "text/plain": [
       "VBox()"
      ]
     },
     "metadata": {},
     "output_type": "display_data"
    },
    {
     "data": {
      "application/vnd.jupyter.widget-view+json": {
       "model_id": "",
       "version_major": 2,
       "version_minor": 0
      },
      "text/plain": [
       "FloatProgress(value=0.0, bar_style='info', description='Progress:', layout=Layout(height='25px', width='50%'),…"
      ]
     },
     "metadata": {},
     "output_type": "display_data"
    }
   ],
   "source": [
    "thirdparty_tongdun_guard_platform_detail_dimension_detail=spark.sql(\"\"\"\n",
    "select\n",
    "cast(a.customer_id as string) as customer_id,\n",
    "cast(a.loan_id as string) as loan_id,\n",
    "cast(a.create_time as string) as create_time,\n",
    "a.thirdparty_id,\n",
    "a.query_key,\n",
    "get_json_object(platform_detail_dimension_detail,\"$.rule_id\") as rule_id,\n",
    "get_json_object(platform_detail_dimension_detail,\"$.rule_detail_id\") as rule_detail_id,\n",
    "cast(get_json_object(platform_detail_dimension_detail,\"$.count\") as int) as count,\n",
    "get_json_object(platform_detail_dimension_detail,\"$.industry_display_name\") as industry_display_name,\n",
    "get_json_object(platform_detail_dimension_detail,\"$.rule_detail_id2\") as rule_detail_id2,\n",
    "year(to_date(create_time)) as year,\n",
    "if(length(MONTH(to_date(create_time)))=1,concat(\"0\",MONTH(to_date(create_time))),MONTH(to_date(create_time))) as month,\n",
    "if(length(day(to_date(create_time)))=1,concat(\"0\",day(to_date(create_time))),day(to_date(create_time))) as day\n",
    "from (\n",
    "select \n",
    "id,\n",
    "customer_id,\n",
    "loan_id,\n",
    "create_time,\n",
    "query_key,\n",
    "thirdparty_id,\n",
    "platform_detail_dimension_detail as platform_detail_dimension_detail\n",
    "from `lovina_s3_etl`.`t_task_1`\n",
    "LATERAL VIEW explode(tongdun_guard_Republika_json(response,\"platform_detail_dimension_detail\")) as platform_detail_dimension_detail\n",
    "where status=40 \n",
    "and channel=40  \n",
    "and (response is null or response ='' or substr(response,1,1)='{' )\n",
    "and client_id=2 \n",
    "and customer_id is not null\n",
    "and  id<11773266 \n",
    ")  a\n",
    "\"\"\")\n",
    "thirdparty_tongdun_guard_platform_detail_dimension_detail.write.mode(\"append\").partitionBy(\"year\",\"month\",\"day\").orc(\"s3://rupiahplus-data-warehouse/stream/thirdparty/thirdparty_tongdun_guard_platform_detail_dimension_detail/\")"
   ]
  },
  {
   "cell_type": "code",
   "execution_count": null,
   "metadata": {},
   "outputs": [],
   "source": [
    "1111111111111111111111111111111111111111111111111111111111111111111111111111111"
   ]
  },
  {
   "cell_type": "code",
   "execution_count": 39,
   "metadata": {},
   "outputs": [
    {
     "data": {
      "application/vnd.jupyter.widget-view+json": {
       "model_id": "bcf7296807f34411998ed6bb92924ff7",
       "version_major": 2,
       "version_minor": 0
      },
      "text/plain": [
       "VBox()"
      ]
     },
     "metadata": {},
     "output_type": "display_data"
    },
    {
     "data": {
      "application/vnd.jupyter.widget-view+json": {
       "model_id": "",
       "version_major": 2,
       "version_minor": 0
      },
      "text/plain": [
       "FloatProgress(value=0.0, bar_style='info', description='Progress:', layout=Layout(height='25px', width='50%'),…"
      ]
     },
     "metadata": {},
     "output_type": "display_data"
    }
   ],
   "source": [
    "spark.conf.set(\"spark.sql.sources.partitionOverwriteMode\", \"dynamic\")\n",
    "thirdparty_tongdun_ktp_ocr=spark.sql(\"\"\"\n",
    "select \n",
    "id,\n",
    "customer_id,\n",
    "loan_id,\n",
    "channel,\n",
    "channel_id,\n",
    "thirdparty_id,\n",
    "status,\n",
    "retry_times,\n",
    "cast(create_time as string) as create_time,\n",
    "cast(update_time as string) as update_time,\n",
    "client_id,\n",
    "query_key,\n",
    "get_json_object(response,\"$.code\") as code,\n",
    "get_json_object(response,\"$.message\") as message,\n",
    "get_json_object(response,\"$.task_id\") as task_id,\n",
    "get_json_object(response,\"$.data.identity_code\") as identity_code,\n",
    "get_json_object(response,\"$.data.created_time\") as created_time,\n",
    "get_json_object(response,\"$.data.channel_src\") as channel_src,\n",
    "get_json_object(response,\"$.data.user_mobile\") as user_mobile,\n",
    "get_json_object(response,\"$.data.user_name\") as user_name,\n",
    "get_json_object(response,\"$.data.real_name\") as real_name,\n",
    "get_json_object(response,\"$.data.channel_code\") as channel_code,\n",
    "get_json_object(response,\"$.data.channel_type\") as channel_type,\n",
    "get_json_object(response,\"$.data.channel_attr\") as channel_attr,\n",
    "get_json_object(response,\"$.data.lost_data\") as lost_data,\n",
    "replace(substr(get_json_object(response,\"$.data.task_data.other.img_identity_url\"),2,length(get_json_object(response,\"$.data.task_data.other.img_identity_url\"))-2),\"\\\\\"\",\"\") as img_identity_url,\n",
    "get_json_object(response,\"$.data.task_data.profile.birthdate\") as birthday,\n",
    "get_json_object(response,\"$.data.task_data.profile.address\") as address,\n",
    "get_json_object(response,\"$.data.task_data.profile.occupation\") as occupation,\n",
    "get_json_object(response,\"$.data.task_data.profile.gender\") as gender,\n",
    "get_json_object(response,\"$.data.task_data.profile.expiry_date\") as expiry_date,\n",
    "get_json_object(response,\"$.data.task_data.profile.religion\") as religion,\n",
    "get_json_object(response,\"$.data.task_data.profile.nik\") as nik,\n",
    "get_json_object(response,\"$.data.task_data.profile.marital_status\") as marital_status,\n",
    "get_json_object(response,\"$.data.task_data.profile.birthplace\") as birthplace,\n",
    "get_json_object(response,\"$.data.task_data.profile.nationality\") as nationality,\n",
    "get_json_object(response,\"$.data.task_data.profile.street\") as street,\n",
    "get_json_object(response,\"$.data.task_data.profile.blood_type\") as blood_type,\n",
    "get_json_object(response,\"$.data.task_data.profile.name\") as name,\n",
    "get_json_object(response,\"$.data.task_data.profile.village\") as village,\n",
    "get_json_object(response,\"$.data.task_data.profile.rt_rw\") as rt_rw,\n",
    "get_json_object(response,\"$.data.task_data.return_info.ktp_result.wrong_type\") as wrong_type,\n",
    "get_json_object(response,\"$.data.task_data.return_info.is_match\") as is_match,\n",
    "get_json_object(response,\"$.data.task_data.return_info.phone_is_match\") as phone_is_match,\n",
    "year(to_date(create_time)) as year,\n",
    "if(length(MONTH(to_date(create_time)))=1,concat(\"0\",MONTH(to_date(create_time))),MONTH(to_date(create_time))) as month,\n",
    "if(length(day(to_date(create_time)))=1,concat(\"0\",day(to_date(create_time))),day(to_date(create_time))) as day\n",
    "from `lovina_s3_etl`.`t_task_1`\n",
    "where status=40 and channel=50  and (response is null or response ='' or substr(response,1,1)='{' ) and  id<11773266 \n",
    "and  customer_id is not null \n",
    "\"\"\")\n",
    "thirdparty_tongdun_ktp_ocr.write.mode(\"append\").partitionBy(\"year\",\"month\",\"day\").orc(\"s3://rupiahplus-data-warehouse/stream/thirdparty/thirdparty_tongdun_ktp_ocr/\")"
   ]
  },
  {
   "cell_type": "code",
   "execution_count": 40,
   "metadata": {},
   "outputs": [
    {
     "data": {
      "application/vnd.jupyter.widget-view+json": {
       "model_id": "512f19ddc9cd4b039c7c6af6fa71df12",
       "version_major": 2,
       "version_minor": 0
      },
      "text/plain": [
       "VBox()"
      ]
     },
     "metadata": {},
     "output_type": "display_data"
    },
    {
     "data": {
      "application/vnd.jupyter.widget-view+json": {
       "model_id": "",
       "version_major": 2,
       "version_minor": 0
      },
      "text/plain": [
       "FloatProgress(value=0.0, bar_style='info', description='Progress:', layout=Layout(height='25px', width='50%'),…"
      ]
     },
     "metadata": {},
     "output_type": "display_data"
    }
   ],
   "source": [
    "thirdparty_advance_ai_multi_platform=spark.sql(\"\"\"\n",
    "select \n",
    "id,\n",
    "customer_id,\n",
    "loan_id,\n",
    "channel,\n",
    "channel_id,\n",
    "thirdparty_id,\n",
    "status,\n",
    "retry_times,\n",
    "cast(create_time as string) as create_time,\n",
    "cast(update_time as string) as update_time,\n",
    "client_id,\n",
    "query_key,\n",
    "get_json_object(response,\"$.code\") as code,\n",
    "get_json_object(response,\"$.message\") as message,\n",
    "get_json_object(response,\"$.extra\") as extra,\n",
    "get_json_object(response,\"$.transactionId\") as transactionid,\n",
    "get_json_object(response,\"$.pricingStrategy\") as pricingstrategy,\n",
    "year(to_date(create_time)) as year,\n",
    "if(length(MONTH(to_date(create_time)))=1,concat(\"0\",MONTH(to_date(create_time))),MONTH(to_date(create_time))) as month,\n",
    "if(length(day(to_date(create_time)))=1,concat(\"0\",day(to_date(create_time))),day(to_date(create_time))) as day\n",
    "from `lovina_s3_etl`.`t_task_1`\n",
    "where status=40 and channel=60  and (response is null or response ='' or substr(response,1,1)='{' ) and  id<11773266 \n",
    "and  customer_id is not null \n",
    "\"\"\")\n",
    "thirdparty_advance_ai_multi_platform.write.mode(\"append\").partitionBy(\"year\",\"month\",\"day\").orc(\"s3://rupiahplus-data-warehouse/stream/thirdparty/thirdparty_advance_ai_multi_platform/\")"
   ]
  },
  {
   "cell_type": "code",
   "execution_count": 41,
   "metadata": {},
   "outputs": [
    {
     "data": {
      "application/vnd.jupyter.widget-view+json": {
       "model_id": "2a4d950df5384b04a9ad8adc26ea3a87",
       "version_major": 2,
       "version_minor": 0
      },
      "text/plain": [
       "VBox()"
      ]
     },
     "metadata": {},
     "output_type": "display_data"
    },
    {
     "data": {
      "application/vnd.jupyter.widget-view+json": {
       "model_id": "",
       "version_major": 2,
       "version_minor": 0
      },
      "text/plain": [
       "FloatProgress(value=0.0, bar_style='info', description='Progress:', layout=Layout(height='25px', width='50%'),…"
      ]
     },
     "metadata": {},
     "output_type": "display_data"
    }
   ],
   "source": [
    "thirdparty_advance_ai_multi_platform_statisticcustomerinfo=spark.sql(\"\"\"\n",
    "select \n",
    "cast(a.customer_id as string) as customer_id, cast(a.loan_id as string) as loan_id,\n",
    "cast(a.create_time as string) as create_time,a.thirdparty_id,query_key,\n",
    "get_json_object(concat(a.statistics,'}'),'$.timePeriod') as timeperiod,\n",
    "cast(get_json_object(concat(a.statistics,'}'),'$.queryCount') as int )as querycount,\n",
    "year(to_date(create_time)) as year,\n",
    "if(length(MONTH(to_date(create_time)))=1,concat(\"0\",MONTH(to_date(create_time))),MONTH(to_date(create_time))) as month,\n",
    "if(length(day(to_date(create_time)))=1,concat(\"0\",day(to_date(create_time))),day(to_date(create_time))) as day\n",
    "from (\n",
    "select customer_id,loan_id,create_time,thirdparty_id,query_key,statistics\n",
    "from `lovina_s3_etl`.`t_task_1`a\n",
    "LATERAL VIEW explode(split(substr(get_json_object(response,\"$.data.statistics.statisticCustomerInfo\"),2,length(get_json_object(response,\"$.data.statistics.statisticCustomerInfo\"))-2),'},')) as statistics\n",
    "where  status=40 and channel=60  and (response is null or response ='' or substr(response,1,1)='{' ) and  id<11773266 \n",
    "and  customer_id is not null \n",
    ") a \n",
    "\"\"\")\n",
    "thirdparty_advance_ai_multi_platform_statisticcustomerinfo.write.mode(\"append\").partitionBy(\"year\",\"month\",\"day\").orc(\"s3://rupiahplus-data-warehouse/stream/thirdparty/thirdparty_advance_ai_multi_platform_statisticCustomerInfo/\")"
   ]
  },
  {
   "cell_type": "code",
   "execution_count": 42,
   "metadata": {},
   "outputs": [
    {
     "data": {
      "application/vnd.jupyter.widget-view+json": {
       "model_id": "94b6f7d63b52470a926ce5e4e5c247c6",
       "version_major": 2,
       "version_minor": 0
      },
      "text/plain": [
       "VBox()"
      ]
     },
     "metadata": {},
     "output_type": "display_data"
    },
    {
     "data": {
      "application/vnd.jupyter.widget-view+json": {
       "model_id": "",
       "version_major": 2,
       "version_minor": 0
      },
      "text/plain": [
       "FloatProgress(value=0.0, bar_style='info', description='Progress:', layout=Layout(height='25px', width='50%'),…"
      ]
     },
     "metadata": {},
     "output_type": "display_data"
    }
   ],
   "source": [
    "thirdparty_advance_ai_multi_platform_lastTwoWeeksQueryInfo=spark.sql(\"\"\"\n",
    "select \n",
    "cast(a.customer_id as string) as customer_id,\n",
    "cast(a.loan_id as string) as loan_id,\n",
    "cast(a.create_time as string) as create_time,a.thirdparty_id,query_key,\n",
    "cast(get_json_object(concat(a.lastTwoWeeksQueryInfo,'}'),'$.times') as int) as times,\n",
    "get_json_object(concat(a.lastTwoWeeksQueryInfo,'}'),'$.timeSlice') as timeslice,\n",
    "cast(get_json_object(concat(a.lastTwoWeeksQueryInfo,'}'),'$.maxQueryCount') as int) as maxquerycount,\n",
    "year(to_date(create_time)) as year,\n",
    "if(length(MONTH(to_date(create_time)))=1,concat(\"0\",MONTH(to_date(create_time))),MONTH(to_date(create_time))) as month,\n",
    "if(length(day(to_date(create_time)))=1,concat(\"0\",day(to_date(create_time))),day(to_date(create_time))) as day\n",
    "from (\n",
    "select customer_id,loan_id,create_time,thirdparty_id,query_key,lastTwoWeeksQueryInfo\n",
    "from `lovina_s3_etl`.`t_task_1`a\n",
    "LATERAL VIEW explode(split(substr(get_json_object(response,\"$.data.statistics.lastTwoWeeksQueryInfo\"),2,length(get_json_object(response,\"$.data.statistics.lastTwoWeeksQueryInfo\"))-2),'},')) as lastTwoWeeksQueryInfo\n",
    "where  status=40 and channel=60  and (response is null or response ='' or substr(response,1,1)='{' ) and  id<11773266 \n",
    "and  customer_id is not null \n",
    ") a \n",
    "\"\"\")\n",
    "thirdparty_advance_ai_multi_platform_lastTwoWeeksQueryInfo.write.mode(\"append\").partitionBy(\"year\",\"month\",\"day\").orc(\"s3://rupiahplus-data-warehouse/stream/thirdparty/thirdparty_advance_ai_multi_platform_lastTwoWeeksQueryInfo/\")"
   ]
  },
  {
   "cell_type": "code",
   "execution_count": 43,
   "metadata": {},
   "outputs": [
    {
     "data": {
      "application/vnd.jupyter.widget-view+json": {
       "model_id": "fa7aee1145d243419de0a7e40fb37e79",
       "version_major": 2,
       "version_minor": 0
      },
      "text/plain": [
       "VBox()"
      ]
     },
     "metadata": {},
     "output_type": "display_data"
    },
    {
     "data": {
      "application/vnd.jupyter.widget-view+json": {
       "model_id": "",
       "version_major": 2,
       "version_minor": 0
      },
      "text/plain": [
       "FloatProgress(value=0.0, bar_style='info', description='Progress:', layout=Layout(height='25px', width='50%'),…"
      ]
     },
     "metadata": {},
     "output_type": "display_data"
    }
   ],
   "source": [
    "thirdparty_advance_ai_multi_platform_records=spark.sql(\"\"\"\n",
    "select \n",
    "cast(a.customer_id as string) as customer_id,\n",
    "cast(a.loan_id as string) as loan_id,\n",
    "cast(a.create_time as string) as create_time,a.thirdparty_id,query_key,\n",
    "replace(substr(get_json_object(concat(a.records,'}'),'$.queryDates'),2,length(get_json_object(concat(a.records,'}'),'$.queryDates'))-2),\"\\\\\"\",\"\") as querydates,\n",
    "cast(get_json_object(concat(a.records,'}'),'$.queryCount')as int) as querycount,\n",
    "get_json_object(concat(a.records,'}'),'$.type') as type,\n",
    "year(to_date(create_time)) as year,\n",
    "if(length(MONTH(to_date(create_time)))=1,concat(\"0\",MONTH(to_date(create_time))),MONTH(to_date(create_time))) as month,\n",
    "if(length(day(to_date(create_time)))=1,concat(\"0\",day(to_date(create_time))),day(to_date(create_time))) as day\n",
    "from (\n",
    "select customer_id,loan_id,create_time,thirdparty_id,query_key,records\n",
    "from `lovina_s3_etl`.`t_task_1`a\n",
    "LATERAL VIEW explode(split(substr(get_json_object(response,\"$.data.records\"),2,length(get_json_object(response,\"$.data.records\"))-2),'},')) as records\n",
    "where  status=40 and channel=60  and (response is null or response ='' or substr(response,1,1)='{' ) and  id<11773266 \n",
    "and  customer_id is not null \n",
    ") a \n",
    "\"\"\")\n",
    "thirdparty_advance_ai_multi_platform_records.write.mode(\"append\").partitionBy(\"year\",\"month\",\"day\").orc(\"s3://rupiahplus-data-warehouse/stream/thirdparty/thirdparty_advance_ai_multi_platform_records/\")"
   ]
  },
  {
   "cell_type": "code",
   "execution_count": 44,
   "metadata": {},
   "outputs": [
    {
     "data": {
      "application/vnd.jupyter.widget-view+json": {
       "model_id": "0e67b83c9b054bc39d7cc39832141df8",
       "version_major": 2,
       "version_minor": 0
      },
      "text/plain": [
       "VBox()"
      ]
     },
     "metadata": {},
     "output_type": "display_data"
    },
    {
     "data": {
      "application/vnd.jupyter.widget-view+json": {
       "model_id": "",
       "version_major": 2,
       "version_minor": 0
      },
      "text/plain": [
       "FloatProgress(value=0.0, bar_style='info', description='Progress:', layout=Layout(height='25px', width='50%'),…"
      ]
     },
     "metadata": {},
     "output_type": "display_data"
    }
   ],
   "source": [
    "thirdparty_izi_phone_verify=spark.sql(\"\"\"\n",
    "select \n",
    "id,\n",
    "customer_id,\n",
    "loan_id,\n",
    "channel,\n",
    "channel_id,\n",
    "thirdparty_id,\n",
    "status,\n",
    "retry_times,\n",
    "cast(create_time as string) as create_time,\n",
    "cast(update_time as string) as update_time,\n",
    "client_id,\n",
    "query_key,\n",
    "get_json_object(response,\"$.status\") as res_status,\n",
    "get_json_object(response,\"$.message\") as message,\n",
    "year(to_date(create_time)) as year,\n",
    "if(length(MONTH(to_date(create_time)))=1,concat(\"0\",MONTH(to_date(create_time))),MONTH(to_date(create_time))) as month,\n",
    "if(length(day(to_date(create_time)))=1,concat(\"0\",day(to_date(create_time))),day(to_date(create_time))) as day\n",
    "from `lovina_s3_etl`.`t_task_1`\n",
    "where status=40 and channel=70  and (response is null or response ='' or substr(response,1,1)='{' ) and  id<11773266 \n",
    "and  customer_id is not null \n",
    "\"\"\")\n",
    "thirdparty_izi_phone_verify.write.mode(\"append\").partitionBy(\"year\",\"month\",\"day\").orc(\"s3://rupiahplus-data-warehouse/stream/thirdparty/thirdparty_izi_phone_verify/\")"
   ]
  },
  {
   "cell_type": "code",
   "execution_count": 45,
   "metadata": {},
   "outputs": [
    {
     "data": {
      "application/vnd.jupyter.widget-view+json": {
       "model_id": "bcd445e8a510440288b63a63519f3dce",
       "version_major": 2,
       "version_minor": 0
      },
      "text/plain": [
       "VBox()"
      ]
     },
     "metadata": {},
     "output_type": "display_data"
    },
    {
     "data": {
      "application/vnd.jupyter.widget-view+json": {
       "model_id": "",
       "version_major": 2,
       "version_minor": 0
      },
      "text/plain": [
       "FloatProgress(value=0.0, bar_style='info', description='Progress:', layout=Layout(height='25px', width='50%'),…"
      ]
     },
     "metadata": {},
     "output_type": "display_data"
    }
   ],
   "source": [
    "thirdparty_izi_phone_age=spark.sql(\"\"\"\n",
    "select \n",
    "id,\n",
    "customer_id,\n",
    "loan_id,\n",
    "channel,\n",
    "channel_id,\n",
    "thirdparty_id,\n",
    "status,\n",
    "retry_times,\n",
    "cast(create_time as string) as create_time,\n",
    "cast(update_time as string) as update_time,\n",
    "client_id,\n",
    "query_key,\n",
    "get_json_object(response,\"$.status\") as res_status,\n",
    "get_json_object(response,\"$.message.phone\") as phone,\n",
    "get_json_object(response,\"$.message.age\") as age,\n",
    "if(substr(get_json_object(response,\"$.message\"),-1)=\"}\",\"\",get_json_object(response,\"$.message\")) as message,\n",
    "year(to_date(create_time)) as year,\n",
    "if(length(MONTH(to_date(create_time)))=1,concat(\"0\",MONTH(to_date(create_time))),MONTH(to_date(create_time))) as month,\n",
    "if(length(day(to_date(create_time)))=1,concat(\"0\",day(to_date(create_time))),day(to_date(create_time))) as day\n",
    "from `lovina_s3_etl`.`t_task_1`\n",
    "where status=40 and channel=80  and (response is null or response ='' or substr(response,1,1)='{' ) and  id<11773266 \n",
    "and  customer_id is not null \n",
    "\"\"\")\n",
    "thirdparty_izi_phone_age.write.mode(\"append\").partitionBy(\"year\",\"month\",\"day\").orc(\"s3://rupiahplus-data-warehouse/stream/thirdparty/thirdparty_izi_phone_age/\")"
   ]
  },
  {
   "cell_type": "code",
   "execution_count": 46,
   "metadata": {},
   "outputs": [
    {
     "data": {
      "application/vnd.jupyter.widget-view+json": {
       "model_id": "72bd59f4bb574d8ab6875c31519a5e24",
       "version_major": 2,
       "version_minor": 0
      },
      "text/plain": [
       "VBox()"
      ]
     },
     "metadata": {},
     "output_type": "display_data"
    },
    {
     "data": {
      "application/vnd.jupyter.widget-view+json": {
       "model_id": "",
       "version_major": 2,
       "version_minor": 0
      },
      "text/plain": [
       "FloatProgress(value=0.0, bar_style='info', description='Progress:', layout=Layout(height='25px', width='50%'),…"
      ]
     },
     "metadata": {},
     "output_type": "display_data"
    }
   ],
   "source": [
    "thirdparty_izi_phone_whatsapp=spark.sql(\"\"\"\n",
    "select \n",
    "id,\n",
    "customer_id,\n",
    "loan_id,\n",
    "channel,\n",
    "channel_id,\n",
    "thirdparty_id,\n",
    "status,\n",
    "retry_times,\n",
    "cast(create_time as string) as create_time,\n",
    "cast(update_time as string) as update_time,\n",
    "client_id,\n",
    "query_key,\n",
    "get_json_object(response,\"$.status\") as res_status,\n",
    "get_json_object(response,\"$.message.number\") as number,\n",
    "get_json_object(response,\"$.mes as timesage.whatsapp\") as whatsapp,\n",
    "if(substr(get_json_object(response,\"$.message\"),-1)=\"}\",\"\",get_json_object(response,\"$.message\")) as message,\n",
    "year(to_date(create_time)) as year,\n",
    "if(length(MONTH(to_date(create_time)))=1,concat(\"0\",MONTH(to_date(create_time))),MONTH(to_date(create_time))) as month,\n",
    "if(length(day(to_date(create_time)))=1,concat(\"0\",day(to_date(create_time))),day(to_date(create_time))) as day\n",
    "from `lovina_s3_etl`.`t_task_1`\n",
    "where status=40 and channel=90  and (response is null or response ='' or substr(response,1,1)='{' ) and  id<11773266  \n",
    "and  customer_id is not null \n",
    "\"\"\")\n",
    "thirdparty_izi_phone_whatsapp.write.mode(\"append\").partitionBy(\"year\",\"month\",\"day\").orc(\"s3://rupiahplus-data-warehouse/stream/thirdparty/thirdparty_izi_phone_whatsapp/\")"
   ]
  },
  {
   "cell_type": "code",
   "execution_count": 47,
   "metadata": {},
   "outputs": [
    {
     "data": {
      "application/vnd.jupyter.widget-view+json": {
       "model_id": "590b85b6492f44ad8becee8aa5d44eac",
       "version_major": 2,
       "version_minor": 0
      },
      "text/plain": [
       "VBox()"
      ]
     },
     "metadata": {},
     "output_type": "display_data"
    },
    {
     "data": {
      "application/vnd.jupyter.widget-view+json": {
       "model_id": "",
       "version_major": 2,
       "version_minor": 0
      },
      "text/plain": [
       "FloatProgress(value=0.0, bar_style='info', description='Progress:', layout=Layout(height='25px', width='50%'),…"
      ]
     },
     "metadata": {},
     "output_type": "display_data"
    }
   ],
   "source": [
    "thirdparty_ktp_multi_platfrom_detection=spark.sql(\"\"\"\n",
    "select \n",
    "id,\n",
    "customer_id,\n",
    "loan_id,\n",
    "channel,\n",
    "channel_id,\n",
    "thirdparty_id,\n",
    "status,\n",
    "retry_times,\n",
    "cast(create_time as string) as create_time,\n",
    "cast(update_time as string) as update_time,\n",
    "client_id,\n",
    "query_key,\n",
    "cast(get_json_object(response,\"$.status\")as int) as res_status,\n",
    "cast(get_json_object(response,\"$.message.total\") as int) as total,\n",
    "if(substr(get_json_object(response,\"$.message\"),-1)=\"}\",\"\",get_json_object(response,\"$.message\")) as message,\n",
    "year(to_date(create_time)) as year,\n",
    "if(length(MONTH(to_date(create_time)))=1,concat(\"0\",MONTH(to_date(create_time))),MONTH(to_date(create_time))) as month,\n",
    "if(length(day(to_date(create_time)))=1,concat(\"0\",day(to_date(create_time))),day(to_date(create_time))) as day\n",
    "from `lovina_s3_etl`.`t_task_1`\n",
    "where status=40 and channel=200  and (response is null or response ='' or substr(response,1,1)='{' ) and  id<11773266 \n",
    "and  customer_id is not null \n",
    "\"\"\")\n",
    "thirdparty_ktp_multi_platfrom_detection.write.mode(\"append\").partitionBy(\"year\",\"month\",\"day\").orc(\"s3://rupiahplus-data-warehouse/stream/thirdparty/thirdparty_ktp_multi_platfrom_detection/\")"
   ]
  },
  {
   "cell_type": "code",
   "execution_count": 48,
   "metadata": {},
   "outputs": [
    {
     "data": {
      "application/vnd.jupyter.widget-view+json": {
       "model_id": "44c10de85ba2460e9df4afe46bb62df3",
       "version_major": 2,
       "version_minor": 0
      },
      "text/plain": [
       "VBox()"
      ]
     },
     "metadata": {},
     "output_type": "display_data"
    },
    {
     "data": {
      "application/vnd.jupyter.widget-view+json": {
       "model_id": "",
       "version_major": 2,
       "version_minor": 0
      },
      "text/plain": [
       "FloatProgress(value=0.0, bar_style='info', description='Progress:', layout=Layout(height='25px', width='50%'),…"
      ]
     },
     "metadata": {},
     "output_type": "display_data"
    }
   ],
   "source": [
    "thirdparty_ktp_multi_platform_detection_brief_check=spark.sql(\"\"\"\n",
    "select \n",
    "id,\n",
    "customer_id,\n",
    "loan_id,\n",
    "channel,\n",
    "channel_id,\n",
    "thirdparty_id,\n",
    "status,\n",
    "retry_times,\n",
    "cast(create_time as string) as create_time,\n",
    "cast(update_time as string) as update_time,\n",
    "client_id,\n",
    "query_key,\n",
    "get_json_object(response,\"$.status\") as res_status,\n",
    "if(substr(get_json_object(response,\"$.message\"),-1)=\"}\",\"\",get_json_object(response,\"$.message\")) as message,\n",
    "cast(get_json_object(response,\"$.message.07d\") as int) as `07d`,\n",
    "cast(get_json_object(response,\"$.message.14d\") as int) as `14d`,\n",
    "cast(get_json_object(response,\"$.message.21d\") as int) as `21d`,\n",
    "cast(get_json_object(response,\"$.message.30d\") as int) as `30d`,\n",
    "cast(get_json_object(response,\"$.message.60d\") as int) as `60d`,\n",
    "cast(get_json_object(response,\"$.message.90d\") as int) as `90d`,\n",
    "cast(get_json_object(response,\"$.message.total\") as int) as total,\n",
    "year(to_date(create_time)) as year,\n",
    "if(length(MONTH(to_date(create_time)))=1,concat(\"0\",MONTH(to_date(create_time))),MONTH(to_date(create_time))) as month,\n",
    "if(length(day(to_date(create_time)))=1,concat(\"0\",day(to_date(create_time))),day(to_date(create_time))) as day\n",
    "from `lovina_s3_etl`.`t_task_1`\n",
    "where status=40 and channel=210  and (response is null or response ='' or substr(response,1,1)='{' ) and  id<11773266 \n",
    "and  customer_id is not null \n",
    "\"\"\")\n",
    "thirdparty_ktp_multi_platform_detection_brief_check.write.mode(\"append\").partitionBy(\"year\",\"month\",\"day\").orc(\"s3://rupiahplus-data-warehouse/stream/thirdparty/thirdparty_ktp_multi_platform_detection_brief_check/\")"
   ]
  },
  {
   "cell_type": "code",
   "execution_count": 49,
   "metadata": {},
   "outputs": [
    {
     "data": {
      "application/vnd.jupyter.widget-view+json": {
       "model_id": "8e610a241dbc42949273252869ddd344",
       "version_major": 2,
       "version_minor": 0
      },
      "text/plain": [
       "VBox()"
      ]
     },
     "metadata": {},
     "output_type": "display_data"
    },
    {
     "data": {
      "application/vnd.jupyter.widget-view+json": {
       "model_id": "",
       "version_major": 2,
       "version_minor": 0
      },
      "text/plain": [
       "FloatProgress(value=0.0, bar_style='info', description='Progress:', layout=Layout(height='25px', width='50%'),…"
      ]
     },
     "metadata": {},
     "output_type": "display_data"
    }
   ],
   "source": [
    "thirdparty_izi_black_check=spark.sql(\"\"\"\n",
    "select \n",
    "id,\n",
    "customer_id,\n",
    "loan_id,\n",
    "channel,\n",
    "channel_id,\n",
    "thirdparty_id,\n",
    "status,\n",
    "retry_times,\n",
    "cast(create_time as string) as create_time,\n",
    "cast(update_time as string) as update_time,\n",
    "client_id,\n",
    "query_key,\n",
    "get_json_object(response,\"$.status\") as res_status,\n",
    "if(substr(get_json_object(response,\"$.message\"),-1)=\"}\",\"\",get_json_object(response,\"$.message\")) as messagem,\n",
    "year(to_date(create_time)) as year,\n",
    "if(length(MONTH(to_date(create_time)))=1,concat(\"0\",MONTH(to_date(create_time))),MONTH(to_date(create_time))) as month,\n",
    "if(length(day(to_date(create_time)))=1,concat(\"0\",day(to_date(create_time))),day(to_date(create_time))) as day\n",
    "from `lovina_s3_etl`.`t_task_1`\n",
    "where status=40 and channel=220  and (response is null or response ='' or substr(response,1,1)='{' ) and  id<11773266 \n",
    "and  customer_id is not null \n",
    "\"\"\")\n",
    "thirdparty_izi_black_check.write.mode(\"append\").partitionBy(\"year\",\"month\",\"day\").orc(\"s3://rupiahplus-data-warehouse/stream/thirdparty/thirdparty_izi_black_check/\")"
   ]
  },
  {
   "cell_type": "code",
   "execution_count": 50,
   "metadata": {},
   "outputs": [
    {
     "data": {
      "application/vnd.jupyter.widget-view+json": {
       "model_id": "434d5e42afe94b97adfbb9569b6062eb",
       "version_major": 2,
       "version_minor": 0
      },
      "text/plain": [
       "VBox()"
      ]
     },
     "metadata": {},
     "output_type": "display_data"
    },
    {
     "data": {
      "application/vnd.jupyter.widget-view+json": {
       "model_id": "",
       "version_major": 2,
       "version_minor": 0
      },
      "text/plain": [
       "FloatProgress(value=0.0, bar_style='info', description='Progress:', layout=Layout(height='25px', width='50%'),…"
      ]
     },
     "metadata": {},
     "output_type": "display_data"
    }
   ],
   "source": [
    "thirdparty_identity_check=spark.sql(\"\"\"\n",
    "select \n",
    "id,\n",
    "customer_id,\n",
    "loan_id,\n",
    "channel,\n",
    "channel_id,\n",
    "thirdparty_id,\n",
    "status,\n",
    "retry_times,\n",
    "cast(create_time as string) as create_time,\n",
    "cast(update_time as string) as update_time,\n",
    "client_id,\n",
    "query_key,\n",
    "get_json_object(response,\"$.status\") as res_status,\n",
    "get_json_object(response,\"$.message.msg\") as msg,\n",
    "get_json_object(response,\"$.message.sourcedata\") as sourcedata,\n",
    "get_json_object(response,\"$.message.name\") as name,\n",
    "get_json_object(response,\"$.message.match\") as match,\n",
    "year(to_date(create_time)) as year,\n",
    "if(length(MONTH(to_date(create_time)))=1,concat(\"0\",MONTH(to_date(create_time))),MONTH(to_date(create_time))) as month,\n",
    "if(length(day(to_date(create_time)))=1,concat(\"0\",day(to_date(create_time))),day(to_date(create_time))) as day\n",
    "from `lovina_s3_etl`.`t_task_1`\n",
    "where status=40 and channel=230  and (response is null or response ='' or substr(response,1,1)='{' ) and  id<11773266 \n",
    "and  customer_id is not null \n",
    "\"\"\")\n",
    "thirdparty_identity_check.write.mode(\"append\").partitionBy(\"year\",\"month\",\"day\").orc(\"s3://rupiahplus-data-warehouse/stream/thirdparty/thirdparty_identity_check/\")"
   ]
  },
  {
   "cell_type": "code",
   "execution_count": 51,
   "metadata": {},
   "outputs": [
    {
     "data": {
      "application/vnd.jupyter.widget-view+json": {
       "model_id": "605288dea2e046e9ac019e8fa3f2ca6e",
       "version_major": 2,
       "version_minor": 0
      },
      "text/plain": [
       "VBox()"
      ]
     },
     "metadata": {},
     "output_type": "display_data"
    },
    {
     "data": {
      "application/vnd.jupyter.widget-view+json": {
       "model_id": "",
       "version_major": 2,
       "version_minor": 0
      },
      "text/plain": [
       "FloatProgress(value=0.0, bar_style='info', description='Progress:', layout=Layout(height='25px', width='50%'),…"
      ]
     },
     "metadata": {},
     "output_type": "display_data"
    }
   ],
   "source": [
    "thirdparty_yitu_face_verify=spark.sql(\"\"\"\n",
    "select \n",
    "id,\n",
    "customer_id,\n",
    "loan_id,\n",
    "channel,\n",
    "channel_id,\n",
    "thirdparty_id,\n",
    "status,\n",
    "retry_times,\n",
    "cast(create_time as string) as create_time,\n",
    "cast(update_time as string) as update_time,\n",
    "cast(client_id as String) as client_id,\n",
    "query_key,\n",
    "get_json_object(response,\"$.rtn\") as rtn,\n",
    "get_json_object(response,\"$.global_request_id\") as global_request_id,\n",
    "get_json_object(response,\"$.message\") as message,\n",
    "cast(get_json_object(response,\"$.pair_verify_result\")  as int) as pair_verify_result,\n",
    "cast(get_json_object(response,\"$.pair_verify_similarity\")  as double) as pair_verify_similarity,\n",
    "get_json_object(response,\"$.query_image_package_result.customer_defined_content\") as customer_defined_content,\n",
    "replace(substr(get_json_object(response,\"$.query_image_package_result.query_image_contents\"),2,length(get_json_object(response,\"$.query_image_package_result.query_image_contents\"))-2),\"\\\\\"\",\"\") as query_image_contents,\n",
    "get_json_object(response,\"$.query_image_package_result.is_same_person\") as is_same_person,\n",
    "get_json_object(response,\"$.query_image_package_result.is_anti_screen_check_passed\") as is_anti_screen_check_passed,\n",
    "cast(get_json_object(response,\"$.query_image_package_result.is_anti_screen_check_score\") as double) as is_anti_screen_check_score,\n",
    "get_json_object(response,\"$.query_image_package_result.is_dark_illumination_check_passed\") as is_dark_illumination_check_passed,\n",
    "cast(get_json_object(response,\"$.query_image_package_result.is_dark_illumination_check_score\") as double) as is_dark_illumination_check_score,\n",
    "get_json_object(response,\"$.query_image_package_result.is_anti_picture_check_valid\") as is_anti_picture_check_valid,\n",
    "get_json_object(response,\"$.query_image_package_result.is_anti_picture_check_passed\") as is_anti_picture_check_passed,\n",
    "cast(get_json_object(response,\"$.query_image_package_result.is_anti_picture_check_score\") as double) as is_anti_picture_check_score,\n",
    "get_json_object(response,\"$.query_image_package_result.is_anti_eye_blockage_check_valid\") as is_anti_eye_blockage_check_valid,\n",
    "get_json_object(response,\"$.query_image_package_result.is_anti_eye_blockage_check_passed\") as is_anti_eye_blockage_check_passed,\n",
    "cast(get_json_object(response,\"$.query_image_package_result.is_anti_eye_blockage_check_score\") as double)as is_anti_eye_blockage_check_score,\n",
    "get_json_object(response,\"$.query_image_package_result.is_anti_hole_check_valid\") as is_anti_hole_check_valid,\n",
    "get_json_object(response,\"$.query_image_package_result.is_anti_hole_check_passed\") as is_anti_hole_check_passed,\n",
    "cast(get_json_object(response,\"$.query_image_package_result.is_anti_hole_check_score\") as double) as is_anti_hole_check_score,\n",
    "get_json_object(response,\"$.verify_detail\") as verify_detail,\n",
    "year(to_date(create_time)) as year,\n",
    "if(length(MONTH(to_date(create_time)))=1,concat(\"0\",MONTH(to_date(create_time))),MONTH(to_date(create_time))) as month,\n",
    "if(length(day(to_date(create_time)))=1,concat(\"0\",day(to_date(create_time))),day(to_date(create_time))) as day\n",
    "from `lovina_s3_etl`.`t_task_1`\n",
    "where status=40 and channel=240  and (response is null or response ='' or substr(response,1,1)='{' ) and  id<11773266 \n",
    "and  customer_id is not null \n",
    "\"\"\")\n",
    "thirdparty_yitu_face_verify.write.mode(\"append\").partitionBy(\"year\",\"month\",\"day\").orc(\"s3://rupiahplus-data-warehouse/stream/thirdparty/thirdparty_yitu_face_verify/\")"
   ]
  },
  {
   "cell_type": "code",
   "execution_count": 52,
   "metadata": {},
   "outputs": [
    {
     "data": {
      "application/vnd.jupyter.widget-view+json": {
       "model_id": "0e0a5e236da84ffbbe7db9b5d04721d2",
       "version_major": 2,
       "version_minor": 0
      },
      "text/plain": [
       "VBox()"
      ]
     },
     "metadata": {},
     "output_type": "display_data"
    },
    {
     "data": {
      "application/vnd.jupyter.widget-view+json": {
       "model_id": "",
       "version_major": 2,
       "version_minor": 0
      },
      "text/plain": [
       "FloatProgress(value=0.0, bar_style='info', description='Progress:', layout=Layout(height='25px', width='50%'),…"
      ]
     },
     "metadata": {},
     "output_type": "display_data"
    }
   ],
   "source": [
    "thirdparty_sti_mobile_check=spark.sql(\"\"\"\n",
    "select \n",
    "id,\n",
    "customer_id,\n",
    "loan_id,\n",
    "channel,\n",
    "channel_id,\n",
    "thirdparty_id,\n",
    "status,\n",
    "retry_times,\n",
    "cast(create_time as string) as create_time,\n",
    "cast(update_time as string) as update_time,\n",
    "client_id,\n",
    "query_key,\n",
    "get_json_object(response,\"$.data.totalCount\") as totalcount,\n",
    "get_json_object(response,\"$.result.code\") as code,\n",
    "get_json_object(response,\"$.result.desc\") as desc,\n",
    "year(to_date(create_time)) as year,\n",
    "if(length(MONTH(to_date(create_time)))=1,concat(\"0\",MONTH(to_date(create_time))),MONTH(to_date(create_time))) as month,\n",
    "if(length(day(to_date(create_time)))=1,concat(\"0\",day(to_date(create_time))),day(to_date(create_time))) as day\n",
    "from `lovina_s3_etl`.`t_task_1`\n",
    "where status=40 and channel=250  and (response is null or response ='' or substr(response,1,1)='{' )  and  id<11773266 \n",
    "and  customer_id is not null \n",
    "\"\"\")\n",
    "thirdparty_sti_mobile_check.write.mode(\"append\").partitionBy(\"year\",\"month\",\"day\").orc(\"s3://rupiahplus-data-warehouse/stream/thirdparty/thirdparty_sti_mobile_check/\")"
   ]
  },
  {
   "cell_type": "code",
   "execution_count": 53,
   "metadata": {},
   "outputs": [
    {
     "data": {
      "application/vnd.jupyter.widget-view+json": {
       "model_id": "1d9504b40d2748a68fd9e479094d62bf",
       "version_major": 2,
       "version_minor": 0
      },
      "text/plain": [
       "VBox()"
      ]
     },
     "metadata": {},
     "output_type": "display_data"
    },
    {
     "data": {
      "application/vnd.jupyter.widget-view+json": {
       "model_id": "",
       "version_major": 2,
       "version_minor": 0
      },
      "text/plain": [
       "FloatProgress(value=0.0, bar_style='info', description='Progress:', layout=Layout(height='25px', width='50%'),…"
      ]
     },
     "metadata": {},
     "output_type": "display_data"
    }
   ],
   "source": [
    "thirdparty_sti_mobile_check_detail=spark.sql(\"\"\"\n",
    "select \n",
    "cast(a.customer_id as string) as customer_id,\n",
    "cast(a.loan_id as string) as loan_id,\n",
    "a.thirdparty_id,\n",
    "cast(a.create_time as string) as create_time,query_key,\n",
    "get_json_object(concat(a.list,'}'),'$.msisdn') as msisdn,\n",
    "get_json_object(concat(a.list,'}'),'$.status') as status,\n",
    "year(to_date(create_time)) as year,\n",
    "if(length(MONTH(to_date(create_time)))=1,concat(\"0\",MONTH(to_date(create_time))),MONTH(to_date(create_time))) as month,\n",
    "if(length(day(to_date(create_time)))=1,concat(\"0\",day(to_date(create_time))),day(to_date(create_time))) as day\n",
    "from (\n",
    "select customer_id,loan_id,create_time,thirdparty_id,query_key,list\n",
    "from `lovina_s3_etl`.`t_task_1`a\n",
    "LATERAL VIEW explode(split(substr(get_json_object(response,\"$.list\"),2,length(get_json_object(response,\"$.list\"))-2),'},')) as list\n",
    "where  status=40 and channel=250  and (response is null or response ='' or substr(response,1,1)='{' ) and  id<11773266 \n",
    "and  customer_id is not null \n",
    ") a \n",
    "\"\"\")\n",
    "thirdparty_sti_mobile_check_detail.write.mode(\"append\").partitionBy(\"year\",\"month\",\"day\").orc(\"s3://rupiahplus-data-warehouse/stream/thirdparty/thirdparty_sti_mobile_check_detail/\")"
   ]
  },
  {
   "cell_type": "code",
   "execution_count": 54,
   "metadata": {},
   "outputs": [
    {
     "data": {
      "application/vnd.jupyter.widget-view+json": {
       "model_id": "3e15d0032b794eeb9626ee9f9883c05e",
       "version_major": 2,
       "version_minor": 0
      },
      "text/plain": [
       "VBox()"
      ]
     },
     "metadata": {},
     "output_type": "display_data"
    },
    {
     "data": {
      "application/vnd.jupyter.widget-view+json": {
       "model_id": "",
       "version_major": 2,
       "version_minor": 0
      },
      "text/plain": [
       "FloatProgress(value=0.0, bar_style='info', description='Progress:', layout=Layout(height='25px', width='50%'),…"
      ]
     },
     "metadata": {},
     "output_type": "display_data"
    }
   ],
   "source": [
    "thirdparty_star_detector_apply_in_7_days=spark.sql(\"\"\"\n",
    "select \n",
    "id,\n",
    "customer_id,\n",
    "loan_id,\n",
    "channel,\n",
    "channel_id,\n",
    "thirdparty_id,\n",
    "status,\n",
    "retry_times,\n",
    "cast(create_time as string) as create_time,\n",
    "cast(update_time as string) as update_time,\n",
    "client_id,\n",
    "query_key,\n",
    "cast(get_json_object(response,\"$.id\") as long) as res_id,\n",
    "get_json_object(response,\"$.reportno\") as reportno,\n",
    "get_json_object(response,\"$.mobile\") as mobile,\n",
    "get_json_object(response,\"$.realname\") as realname,\n",
    "get_json_object(response,\"$.credentialno\") as credentialno,\n",
    "get_json_object(response,\"$.expiretime\") as expiretime,\n",
    "get_json_object(response,\"$.targetreporttype\") as targetreporttype,\n",
    "year(to_date(create_time)) as year,\n",
    "if(length(MONTH(to_date(create_time)))=1,concat(\"0\",MONTH(to_date(create_time))),MONTH(to_date(create_time))) as month,\n",
    "if(length(day(to_date(create_time)))=1,concat(\"0\",day(to_date(create_time))),day(to_date(create_time))) as day\n",
    "from `lovina_s3_etl`.`t_task_1`\n",
    "where status=40 and channel=290  and (response is null or response ='' or substr(response,1,1)='{' ) and  id<11773266 \n",
    "and  customer_id is not null \n",
    "\"\"\")\n",
    "thirdparty_star_detector_apply_in_7_days.write.mode(\"append\").partitionBy(\"year\",\"month\",\"day\").orc(\"s3://rupiahplus-data-warehouse/stream/thirdparty/thirdparty_star_detector_apply_in_7_days/\")"
   ]
  },
  {
   "cell_type": "code",
   "execution_count": 2,
   "metadata": {},
   "outputs": [
    {
     "data": {
      "application/vnd.jupyter.widget-view+json": {
       "model_id": "9cfd7c14a13d47a89e00857b691c92d2",
       "version_major": 2,
       "version_minor": 0
      },
      "text/plain": [
       "VBox()"
      ]
     },
     "metadata": {},
     "output_type": "display_data"
    },
    {
     "data": {
      "application/vnd.jupyter.widget-view+json": {
       "model_id": "4341016db30a4c72bb14c92011754beb",
       "version_major": 2,
       "version_minor": 0
      },
      "text/plain": [
       "FloatProgress(value=0.0, bar_style='info', description='Progress:', layout=Layout(height='25px', width='50%'),…"
      ]
     },
     "metadata": {},
     "output_type": "display_data"
    },
    {
     "ename": "KeyboardInterrupt",
     "evalue": "",
     "output_type": "error",
     "traceback": [
      "\u001b[0;31m---------------------------------------------------------------------------\u001b[0m",
      "\u001b[0;31mKeyboardInterrupt\u001b[0m                         Traceback (most recent call last)",
      "\u001b[0;32m<ipython-input-2-fe25fa17e3b5>\u001b[0m in \u001b[0;36m<module>\u001b[0;34m\u001b[0m\n\u001b[0;32m----> 1\u001b[0;31m \u001b[0mget_ipython\u001b[0m\u001b[0;34m(\u001b[0m\u001b[0;34m)\u001b[0m\u001b[0;34m.\u001b[0m\u001b[0mrun_cell_magic\u001b[0m\u001b[0;34m(\u001b[0m\u001b[0;34m'spark'\u001b[0m\u001b[0;34m,\u001b[0m \u001b[0;34m''\u001b[0m\u001b[0;34m,\u001b[0m \u001b[0;34m'thirdparty_star_detector_apply_in_7_days_detail=spark.sql(\"\"\"\\nselect \\ncast(a.customer_id as string) as customer_id,\\ncast(a.loan_id as string) as loan_id,\\ncast(a.create_time as string) as create_time,\\na.thirdparty_id,query_key,\\nget_json_object(concat(a.reportDetailList,\\'}\\'),\\'$.reporttype\\') as reporttype,\\nget_json_object(concat(a.reportDetailList,\\'}\\'),\\'$.resulttype\\') as resulttype,\\nget_json_object(concat(a.reportDetailList,\\'}\\'),\\'$.resultdata\\') as resultdata,\\nyear(to_date(create_time)) as year,\\nif(length(MONTH(to_date(create_time)))=1,concat(\"0\",MONTH(to_date(create_time))),MONTH(to_date(create_time))) as month,\\nif(length(day(to_date(create_time)))=1,concat(\"0\",day(to_date(create_time))),day(to_date(create_time))) as day\\nfrom (\\nselect customer_id,loan_id,create_time,thirdparty_id,query_key,reportDetailList\\nfrom `lovina_etl_s3`.`t_task_1`a\\nLATERAL VIEW explode(split(substr(get_json_object(response,\"$.reportDetailList\"),2,length(get_json_object(response,\"$.reportDetailList\"))-2),\\'},\\')) as reportDetailList\\nwhere  status=40 and channel=290  and (response is null or response =\\'\\' or substr(response,1,1)=\\'{\\') and  id<11773266 \\nand  customer_id is not null \\n) a \\n\"\"\")\\nthirdparty_star_detector_apply_in_7_days_detail.write.mode(\"append\").partitionBy(\"year\",\"month\",\"day\").orc(\"s3://rupiahplus-data-warehouse/stream/thirdparty/thirdparty_star_detector_apply_in_7_days_detail/\")\\n'\u001b[0m\u001b[0;34m)\u001b[0m\u001b[0;34m\u001b[0m\u001b[0;34m\u001b[0m\u001b[0m\n\u001b[0m",
      "\u001b[0;32m/opt/conda/lib/python3.7/site-packages/IPython/core/interactiveshell.py\u001b[0m in \u001b[0;36mrun_cell_magic\u001b[0;34m(self, magic_name, line, cell)\u001b[0m\n\u001b[1;32m   2360\u001b[0m             \u001b[0;32mwith\u001b[0m \u001b[0mself\u001b[0m\u001b[0;34m.\u001b[0m\u001b[0mbuiltin_trap\u001b[0m\u001b[0;34m:\u001b[0m\u001b[0;34m\u001b[0m\u001b[0;34m\u001b[0m\u001b[0m\n\u001b[1;32m   2361\u001b[0m                 \u001b[0margs\u001b[0m \u001b[0;34m=\u001b[0m \u001b[0;34m(\u001b[0m\u001b[0mmagic_arg_s\u001b[0m\u001b[0;34m,\u001b[0m \u001b[0mcell\u001b[0m\u001b[0;34m)\u001b[0m\u001b[0;34m\u001b[0m\u001b[0;34m\u001b[0m\u001b[0m\n\u001b[0;32m-> 2362\u001b[0;31m                 \u001b[0mresult\u001b[0m \u001b[0;34m=\u001b[0m \u001b[0mfn\u001b[0m\u001b[0;34m(\u001b[0m\u001b[0;34m*\u001b[0m\u001b[0margs\u001b[0m\u001b[0;34m,\u001b[0m \u001b[0;34m**\u001b[0m\u001b[0mkwargs\u001b[0m\u001b[0;34m)\u001b[0m\u001b[0;34m\u001b[0m\u001b[0;34m\u001b[0m\u001b[0m\n\u001b[0m\u001b[1;32m   2363\u001b[0m             \u001b[0;32mreturn\u001b[0m \u001b[0mresult\u001b[0m\u001b[0;34m\u001b[0m\u001b[0;34m\u001b[0m\u001b[0m\n\u001b[1;32m   2364\u001b[0m \u001b[0;34m\u001b[0m\u001b[0m\n",
      "\u001b[0;32m<decorator-gen-124>\u001b[0m in \u001b[0;36mspark\u001b[0;34m(self, *args, **kwargs)\u001b[0m\n",
      "\u001b[0;32m/opt/conda/lib/python3.7/site-packages/IPython/core/magic.py\u001b[0m in \u001b[0;36m<lambda>\u001b[0;34m(f, *a, **k)\u001b[0m\n\u001b[1;32m    185\u001b[0m     \u001b[0;31m# but it's overkill for just that one bit of state.\u001b[0m\u001b[0;34m\u001b[0m\u001b[0;34m\u001b[0m\u001b[0;34m\u001b[0m\u001b[0m\n\u001b[1;32m    186\u001b[0m     \u001b[0;32mdef\u001b[0m \u001b[0mmagic_deco\u001b[0m\u001b[0;34m(\u001b[0m\u001b[0marg\u001b[0m\u001b[0;34m)\u001b[0m\u001b[0;34m:\u001b[0m\u001b[0;34m\u001b[0m\u001b[0;34m\u001b[0m\u001b[0m\n\u001b[0;32m--> 187\u001b[0;31m         \u001b[0mcall\u001b[0m \u001b[0;34m=\u001b[0m \u001b[0;32mlambda\u001b[0m \u001b[0mf\u001b[0m\u001b[0;34m,\u001b[0m \u001b[0;34m*\u001b[0m\u001b[0ma\u001b[0m\u001b[0;34m,\u001b[0m \u001b[0;34m**\u001b[0m\u001b[0mk\u001b[0m\u001b[0;34m:\u001b[0m \u001b[0mf\u001b[0m\u001b[0;34m(\u001b[0m\u001b[0;34m*\u001b[0m\u001b[0ma\u001b[0m\u001b[0;34m,\u001b[0m \u001b[0;34m**\u001b[0m\u001b[0mk\u001b[0m\u001b[0;34m)\u001b[0m\u001b[0;34m\u001b[0m\u001b[0;34m\u001b[0m\u001b[0m\n\u001b[0m\u001b[1;32m    188\u001b[0m \u001b[0;34m\u001b[0m\u001b[0m\n\u001b[1;32m    189\u001b[0m         \u001b[0;32mif\u001b[0m \u001b[0mcallable\u001b[0m\u001b[0;34m(\u001b[0m\u001b[0marg\u001b[0m\u001b[0;34m)\u001b[0m\u001b[0;34m:\u001b[0m\u001b[0;34m\u001b[0m\u001b[0;34m\u001b[0m\u001b[0m\n",
      "\u001b[0;32m/opt/conda/lib/python3.7/site-packages/sparkmagic/livyclientlib/exceptions.py\u001b[0m in \u001b[0;36mwrapped\u001b[0;34m(self, *args, **kwargs)\u001b[0m\n\u001b[1;32m     94\u001b[0m     \u001b[0;32mdef\u001b[0m \u001b[0mwrapped\u001b[0m\u001b[0;34m(\u001b[0m\u001b[0mself\u001b[0m\u001b[0;34m,\u001b[0m \u001b[0;34m*\u001b[0m\u001b[0margs\u001b[0m\u001b[0;34m,\u001b[0m \u001b[0;34m**\u001b[0m\u001b[0mkwargs\u001b[0m\u001b[0;34m)\u001b[0m\u001b[0;34m:\u001b[0m\u001b[0;34m\u001b[0m\u001b[0;34m\u001b[0m\u001b[0m\n\u001b[1;32m     95\u001b[0m         \u001b[0;32mtry\u001b[0m\u001b[0;34m:\u001b[0m\u001b[0;34m\u001b[0m\u001b[0;34m\u001b[0m\u001b[0m\n\u001b[0;32m---> 96\u001b[0;31m             \u001b[0mout\u001b[0m \u001b[0;34m=\u001b[0m \u001b[0mf\u001b[0m\u001b[0;34m(\u001b[0m\u001b[0mself\u001b[0m\u001b[0;34m,\u001b[0m \u001b[0;34m*\u001b[0m\u001b[0margs\u001b[0m\u001b[0;34m,\u001b[0m \u001b[0;34m**\u001b[0m\u001b[0mkwargs\u001b[0m\u001b[0;34m)\u001b[0m\u001b[0;34m\u001b[0m\u001b[0;34m\u001b[0m\u001b[0m\n\u001b[0m\u001b[1;32m     97\u001b[0m         \u001b[0;32mexcept\u001b[0m \u001b[0mException\u001b[0m \u001b[0;32mas\u001b[0m \u001b[0me\u001b[0m\u001b[0;34m:\u001b[0m\u001b[0;34m\u001b[0m\u001b[0;34m\u001b[0m\u001b[0m\n\u001b[1;32m     98\u001b[0m             \u001b[0mself\u001b[0m\u001b[0;34m.\u001b[0m\u001b[0mlogger\u001b[0m\u001b[0;34m.\u001b[0m\u001b[0merror\u001b[0m\u001b[0;34m(\u001b[0m\u001b[0;34mu\"ENCOUNTERED AN INTERNAL ERROR: {}\\n\\tTraceback:\\n{}\"\u001b[0m\u001b[0;34m.\u001b[0m\u001b[0mformat\u001b[0m\u001b[0;34m(\u001b[0m\u001b[0me\u001b[0m\u001b[0;34m,\u001b[0m \u001b[0mtraceback\u001b[0m\u001b[0;34m.\u001b[0m\u001b[0mformat_exc\u001b[0m\u001b[0;34m(\u001b[0m\u001b[0;34m)\u001b[0m\u001b[0;34m)\u001b[0m\u001b[0;34m)\u001b[0m\u001b[0;34m\u001b[0m\u001b[0;34m\u001b[0m\u001b[0m\n",
      "\u001b[0;32m/opt/conda/lib/python3.7/site-packages/sparkmagic/livyclientlib/exceptions.py\u001b[0m in \u001b[0;36mwrapped\u001b[0;34m(self, *args, **kwargs)\u001b[0m\n\u001b[1;32m     70\u001b[0m     \u001b[0;32mdef\u001b[0m \u001b[0mwrapped\u001b[0m\u001b[0;34m(\u001b[0m\u001b[0mself\u001b[0m\u001b[0;34m,\u001b[0m \u001b[0;34m*\u001b[0m\u001b[0margs\u001b[0m\u001b[0;34m,\u001b[0m \u001b[0;34m**\u001b[0m\u001b[0mkwargs\u001b[0m\u001b[0;34m)\u001b[0m\u001b[0;34m:\u001b[0m\u001b[0;34m\u001b[0m\u001b[0;34m\u001b[0m\u001b[0m\n\u001b[1;32m     71\u001b[0m         \u001b[0;32mtry\u001b[0m\u001b[0;34m:\u001b[0m\u001b[0;34m\u001b[0m\u001b[0;34m\u001b[0m\u001b[0m\n\u001b[0;32m---> 72\u001b[0;31m             \u001b[0mout\u001b[0m \u001b[0;34m=\u001b[0m \u001b[0mf\u001b[0m\u001b[0;34m(\u001b[0m\u001b[0mself\u001b[0m\u001b[0;34m,\u001b[0m \u001b[0;34m*\u001b[0m\u001b[0margs\u001b[0m\u001b[0;34m,\u001b[0m \u001b[0;34m**\u001b[0m\u001b[0mkwargs\u001b[0m\u001b[0;34m)\u001b[0m\u001b[0;34m\u001b[0m\u001b[0;34m\u001b[0m\u001b[0m\n\u001b[0m\u001b[1;32m     73\u001b[0m         \u001b[0;32mexcept\u001b[0m \u001b[0mexceptions_to_handle\u001b[0m \u001b[0;32mas\u001b[0m \u001b[0merr\u001b[0m\u001b[0;34m:\u001b[0m\u001b[0;34m\u001b[0m\u001b[0;34m\u001b[0m\u001b[0m\n\u001b[1;32m     74\u001b[0m             \u001b[0;31m# Do not log! as some messages may contain private client information\u001b[0m\u001b[0;34m\u001b[0m\u001b[0;34m\u001b[0m\u001b[0;34m\u001b[0m\u001b[0m\n",
      "\u001b[0;32m/opt/conda/lib/python3.7/site-packages/sparkmagic/kernels/kernelmagics.py\u001b[0m in \u001b[0;36mspark\u001b[0;34m(self, line, cell, local_ns)\u001b[0m\n\u001b[1;32m    236\u001b[0m             \u001b[0mcoerce\u001b[0m \u001b[0;34m=\u001b[0m \u001b[0mget_coerce_value\u001b[0m\u001b[0;34m(\u001b[0m\u001b[0margs\u001b[0m\u001b[0;34m.\u001b[0m\u001b[0mcoerce\u001b[0m\u001b[0;34m)\u001b[0m\u001b[0;34m\u001b[0m\u001b[0;34m\u001b[0m\u001b[0m\n\u001b[1;32m    237\u001b[0m \u001b[0;34m\u001b[0m\u001b[0m\n\u001b[0;32m--> 238\u001b[0;31m             \u001b[0mself\u001b[0m\u001b[0;34m.\u001b[0m\u001b[0mexecute_spark\u001b[0m\u001b[0;34m(\u001b[0m\u001b[0mcell\u001b[0m\u001b[0;34m,\u001b[0m \u001b[0margs\u001b[0m\u001b[0;34m.\u001b[0m\u001b[0moutput\u001b[0m\u001b[0;34m,\u001b[0m \u001b[0margs\u001b[0m\u001b[0;34m.\u001b[0m\u001b[0msamplemethod\u001b[0m\u001b[0;34m,\u001b[0m \u001b[0margs\u001b[0m\u001b[0;34m.\u001b[0m\u001b[0mmaxrows\u001b[0m\u001b[0;34m,\u001b[0m \u001b[0margs\u001b[0m\u001b[0;34m.\u001b[0m\u001b[0msamplefraction\u001b[0m\u001b[0;34m,\u001b[0m \u001b[0;32mNone\u001b[0m\u001b[0;34m,\u001b[0m \u001b[0mcoerce\u001b[0m\u001b[0;34m)\u001b[0m\u001b[0;34m\u001b[0m\u001b[0;34m\u001b[0m\u001b[0m\n\u001b[0m\u001b[1;32m    239\u001b[0m         \u001b[0;32melse\u001b[0m\u001b[0;34m:\u001b[0m\u001b[0;34m\u001b[0m\u001b[0;34m\u001b[0m\u001b[0m\n\u001b[1;32m    240\u001b[0m             \u001b[0;32mreturn\u001b[0m\u001b[0;34m\u001b[0m\u001b[0;34m\u001b[0m\u001b[0m\n",
      "\u001b[0;32m/opt/conda/lib/python3.7/site-packages/sparkmagic/magics/sparkmagicsbase.py\u001b[0m in \u001b[0;36mexecute_spark\u001b[0;34m(self, cell, output_var, samplemethod, maxrows, samplefraction, session_name, coerce)\u001b[0m\n\u001b[1;32m     42\u001b[0m \u001b[0;34m\u001b[0m\u001b[0m\n\u001b[1;32m     43\u001b[0m     \u001b[0;32mdef\u001b[0m \u001b[0mexecute_spark\u001b[0m\u001b[0;34m(\u001b[0m\u001b[0mself\u001b[0m\u001b[0;34m,\u001b[0m \u001b[0mcell\u001b[0m\u001b[0;34m,\u001b[0m \u001b[0moutput_var\u001b[0m\u001b[0;34m,\u001b[0m \u001b[0msamplemethod\u001b[0m\u001b[0;34m,\u001b[0m \u001b[0mmaxrows\u001b[0m\u001b[0;34m,\u001b[0m \u001b[0msamplefraction\u001b[0m\u001b[0;34m,\u001b[0m \u001b[0msession_name\u001b[0m\u001b[0;34m,\u001b[0m \u001b[0mcoerce\u001b[0m\u001b[0;34m)\u001b[0m\u001b[0;34m:\u001b[0m\u001b[0;34m\u001b[0m\u001b[0;34m\u001b[0m\u001b[0m\n\u001b[0;32m---> 44\u001b[0;31m         \u001b[0;34m(\u001b[0m\u001b[0msuccess\u001b[0m\u001b[0;34m,\u001b[0m \u001b[0mout\u001b[0m\u001b[0;34m)\u001b[0m \u001b[0;34m=\u001b[0m \u001b[0mself\u001b[0m\u001b[0;34m.\u001b[0m\u001b[0mspark_controller\u001b[0m\u001b[0;34m.\u001b[0m\u001b[0mrun_command\u001b[0m\u001b[0;34m(\u001b[0m\u001b[0mCommand\u001b[0m\u001b[0;34m(\u001b[0m\u001b[0mcell\u001b[0m\u001b[0;34m)\u001b[0m\u001b[0;34m,\u001b[0m \u001b[0msession_name\u001b[0m\u001b[0;34m)\u001b[0m\u001b[0;34m\u001b[0m\u001b[0;34m\u001b[0m\u001b[0m\n\u001b[0m\u001b[1;32m     45\u001b[0m         \u001b[0;32mif\u001b[0m \u001b[0;32mnot\u001b[0m \u001b[0msuccess\u001b[0m\u001b[0;34m:\u001b[0m\u001b[0;34m\u001b[0m\u001b[0;34m\u001b[0m\u001b[0m\n\u001b[1;32m     46\u001b[0m             \u001b[0mself\u001b[0m\u001b[0;34m.\u001b[0m\u001b[0mipython_display\u001b[0m\u001b[0;34m.\u001b[0m\u001b[0msend_error\u001b[0m\u001b[0;34m(\u001b[0m\u001b[0mout\u001b[0m\u001b[0;34m)\u001b[0m\u001b[0;34m\u001b[0m\u001b[0;34m\u001b[0m\u001b[0m\n",
      "\u001b[0;32m/opt/conda/lib/python3.7/site-packages/sparkmagic/livyclientlib/sparkcontroller.py\u001b[0m in \u001b[0;36mrun_command\u001b[0;34m(self, command, client_name)\u001b[0m\n\u001b[1;32m     42\u001b[0m     \u001b[0;32mdef\u001b[0m \u001b[0mrun_command\u001b[0m\u001b[0;34m(\u001b[0m\u001b[0mself\u001b[0m\u001b[0;34m,\u001b[0m \u001b[0mcommand\u001b[0m\u001b[0;34m,\u001b[0m \u001b[0mclient_name\u001b[0m\u001b[0;34m=\u001b[0m\u001b[0;32mNone\u001b[0m\u001b[0;34m)\u001b[0m\u001b[0;34m:\u001b[0m\u001b[0;34m\u001b[0m\u001b[0;34m\u001b[0m\u001b[0m\n\u001b[1;32m     43\u001b[0m         \u001b[0msession_to_use\u001b[0m \u001b[0;34m=\u001b[0m \u001b[0mself\u001b[0m\u001b[0;34m.\u001b[0m\u001b[0mget_session_by_name_or_default\u001b[0m\u001b[0;34m(\u001b[0m\u001b[0mclient_name\u001b[0m\u001b[0;34m)\u001b[0m\u001b[0;34m\u001b[0m\u001b[0;34m\u001b[0m\u001b[0m\n\u001b[0;32m---> 44\u001b[0;31m         \u001b[0;32mreturn\u001b[0m \u001b[0mcommand\u001b[0m\u001b[0;34m.\u001b[0m\u001b[0mexecute\u001b[0m\u001b[0;34m(\u001b[0m\u001b[0msession_to_use\u001b[0m\u001b[0;34m)\u001b[0m\u001b[0;34m\u001b[0m\u001b[0;34m\u001b[0m\u001b[0m\n\u001b[0m\u001b[1;32m     45\u001b[0m \u001b[0;34m\u001b[0m\u001b[0m\n\u001b[1;32m     46\u001b[0m     \u001b[0;32mdef\u001b[0m \u001b[0mrun_sqlquery\u001b[0m\u001b[0;34m(\u001b[0m\u001b[0mself\u001b[0m\u001b[0;34m,\u001b[0m \u001b[0msqlquery\u001b[0m\u001b[0;34m,\u001b[0m \u001b[0mclient_name\u001b[0m\u001b[0;34m=\u001b[0m\u001b[0;32mNone\u001b[0m\u001b[0;34m)\u001b[0m\u001b[0;34m:\u001b[0m\u001b[0;34m\u001b[0m\u001b[0;34m\u001b[0m\u001b[0m\n",
      "\u001b[0;32m/opt/conda/lib/python3.7/site-packages/sparkmagic/livyclientlib/command.py\u001b[0m in \u001b[0;36mexecute\u001b[0;34m(self, session)\u001b[0m\n\u001b[1;32m     41\u001b[0m             \u001b[0mresponse\u001b[0m \u001b[0;34m=\u001b[0m \u001b[0msession\u001b[0m\u001b[0;34m.\u001b[0m\u001b[0mhttp_client\u001b[0m\u001b[0;34m.\u001b[0m\u001b[0mpost_statement\u001b[0m\u001b[0;34m(\u001b[0m\u001b[0msession\u001b[0m\u001b[0;34m.\u001b[0m\u001b[0mid\u001b[0m\u001b[0;34m,\u001b[0m \u001b[0mdata\u001b[0m\u001b[0;34m)\u001b[0m\u001b[0;34m\u001b[0m\u001b[0;34m\u001b[0m\u001b[0m\n\u001b[1;32m     42\u001b[0m             \u001b[0mstatement_id\u001b[0m \u001b[0;34m=\u001b[0m \u001b[0mresponse\u001b[0m\u001b[0;34m[\u001b[0m\u001b[0;34mu'id'\u001b[0m\u001b[0;34m]\u001b[0m\u001b[0;34m\u001b[0m\u001b[0;34m\u001b[0m\u001b[0m\n\u001b[0;32m---> 43\u001b[0;31m             \u001b[0moutput\u001b[0m \u001b[0;34m=\u001b[0m \u001b[0mself\u001b[0m\u001b[0;34m.\u001b[0m\u001b[0m_get_statement_output\u001b[0m\u001b[0;34m(\u001b[0m\u001b[0msession\u001b[0m\u001b[0;34m,\u001b[0m \u001b[0mstatement_id\u001b[0m\u001b[0;34m)\u001b[0m\u001b[0;34m\u001b[0m\u001b[0;34m\u001b[0m\u001b[0m\n\u001b[0m\u001b[1;32m     44\u001b[0m         \u001b[0;32mexcept\u001b[0m \u001b[0mException\u001b[0m \u001b[0;32mas\u001b[0m \u001b[0me\u001b[0m\u001b[0;34m:\u001b[0m\u001b[0;34m\u001b[0m\u001b[0;34m\u001b[0m\u001b[0m\n\u001b[1;32m     45\u001b[0m             self._spark_events.emit_statement_execution_end_event(session.guid, session.kind, session.id,\n",
      "\u001b[0;32m/opt/conda/lib/python3.7/site-packages/sparkmagic/livyclientlib/command.py\u001b[0m in \u001b[0;36m_get_statement_output\u001b[0;34m(self, session, statement_id)\u001b[0m\n\u001b[1;32m     74\u001b[0m             \u001b[0;32mif\u001b[0m \u001b[0mstatus\u001b[0m \u001b[0;32mnot\u001b[0m \u001b[0;32min\u001b[0m \u001b[0mFINAL_STATEMENT_STATUS\u001b[0m\u001b[0;34m:\u001b[0m\u001b[0;34m\u001b[0m\u001b[0;34m\u001b[0m\u001b[0m\n\u001b[1;32m     75\u001b[0m                 \u001b[0mprogress\u001b[0m\u001b[0;34m.\u001b[0m\u001b[0mvalue\u001b[0m \u001b[0;34m=\u001b[0m \u001b[0mstatement\u001b[0m\u001b[0;34m.\u001b[0m\u001b[0mget\u001b[0m\u001b[0;34m(\u001b[0m\u001b[0;34m'progress'\u001b[0m\u001b[0;34m,\u001b[0m \u001b[0;36m0.0\u001b[0m\u001b[0;34m)\u001b[0m\u001b[0;34m\u001b[0m\u001b[0;34m\u001b[0m\u001b[0m\n\u001b[0;32m---> 76\u001b[0;31m                 \u001b[0msession\u001b[0m\u001b[0;34m.\u001b[0m\u001b[0msleep\u001b[0m\u001b[0;34m(\u001b[0m\u001b[0mretries\u001b[0m\u001b[0;34m)\u001b[0m\u001b[0;34m\u001b[0m\u001b[0;34m\u001b[0m\u001b[0m\n\u001b[0m\u001b[1;32m     77\u001b[0m                 \u001b[0mretries\u001b[0m \u001b[0;34m+=\u001b[0m \u001b[0;36m1\u001b[0m\u001b[0;34m\u001b[0m\u001b[0;34m\u001b[0m\u001b[0m\n\u001b[1;32m     78\u001b[0m             \u001b[0;32melse\u001b[0m\u001b[0;34m:\u001b[0m\u001b[0;34m\u001b[0m\u001b[0;34m\u001b[0m\u001b[0m\n",
      "\u001b[0;32m/opt/conda/lib/python3.7/site-packages/sparkmagic/livyclientlib/livysession.py\u001b[0m in \u001b[0;36msleep\u001b[0;34m(self, retries)\u001b[0m\n\u001b[1;32m    280\u001b[0m \u001b[0;34m\u001b[0m\u001b[0m\n\u001b[1;32m    281\u001b[0m     \u001b[0;32mdef\u001b[0m \u001b[0msleep\u001b[0m\u001b[0;34m(\u001b[0m\u001b[0mself\u001b[0m\u001b[0;34m,\u001b[0m \u001b[0mretries\u001b[0m\u001b[0;34m)\u001b[0m\u001b[0;34m:\u001b[0m\u001b[0;34m\u001b[0m\u001b[0;34m\u001b[0m\u001b[0m\n\u001b[0;32m--> 282\u001b[0;31m         \u001b[0msleep\u001b[0m\u001b[0;34m(\u001b[0m\u001b[0mself\u001b[0m\u001b[0;34m.\u001b[0m\u001b[0m_policy\u001b[0m\u001b[0;34m.\u001b[0m\u001b[0mseconds_to_sleep\u001b[0m\u001b[0;34m(\u001b[0m\u001b[0mretries\u001b[0m\u001b[0;34m)\u001b[0m\u001b[0;34m)\u001b[0m\u001b[0;34m\u001b[0m\u001b[0;34m\u001b[0m\u001b[0m\n\u001b[0m\u001b[1;32m    283\u001b[0m \u001b[0;34m\u001b[0m\u001b[0m\n\u001b[1;32m    284\u001b[0m     \u001b[0;31m# This function will refresh the status and get the logs in a single call.\u001b[0m\u001b[0;34m\u001b[0m\u001b[0;34m\u001b[0m\u001b[0;34m\u001b[0m\u001b[0m\n",
      "\u001b[0;31mKeyboardInterrupt\u001b[0m: "
     ]
    }
   ],
   "source": [
    "thirdparty_star_detector_apply_in_7_days_detail=spark.sql(\"\"\"\n",
    "select \n",
    "cast(a.customer_id as string) as customer_id,\n",
    "cast(a.loan_id as string) as loan_id,\n",
    "cast(a.create_time as string) as create_time,\n",
    "a.thirdparty_id,query_key,\n",
    "get_json_object(concat(a.reportDetailList,'}'),'$.reporttype') as reporttype,\n",
    "get_json_object(concat(a.reportDetailList,'}'),'$.resulttype') as resulttype,\n",
    "get_json_object(concat(a.reportDetailList,'}'),'$.resultdata') as resultdata,\n",
    "year(to_date(create_time)) as year,\n",
    "if(length(MONTH(to_date(create_time)))=1,concat(\"0\",MONTH(to_date(create_time))),MONTH(to_date(create_time))) as month,\n",
    "if(length(day(to_date(create_time)))=1,concat(\"0\",day(to_date(create_time))),day(to_date(create_time))) as day\n",
    "from (\n",
    "select customer_id,loan_id,create_time,thirdparty_id,query_key,reportDetailList\n",
    "from `lovina_etl_s3`.`t_task_1`a\n",
    "LATERAL VIEW explode(split(substr(get_json_object(response,\"$.reportDetailList\"),2,length(get_json_object(response,\"$.reportDetailList\"))-2),'},')) as reportDetailList\n",
    "where  status=40 and channel=290  and (response is null or response ='' or substr(response,1,1)='{') and  id<11773266 \n",
    "and  customer_id is not null \n",
    ") a \n",
    "\"\"\")\n",
    "thirdparty_star_detector_apply_in_7_days_detail.write.mode(\"append\").partitionBy(\"year\",\"month\",\"day\").orc(\"s3://rupiahplus-data-warehouse/stream/thirdparty/thirdparty_star_detector_apply_in_7_days_detail/\")"
   ]
  },
  {
   "cell_type": "code",
   "execution_count": 1,
   "metadata": {},
   "outputs": [
    {
     "data": {
      "application/vnd.jupyter.widget-view+json": {
       "model_id": "975fd02db6004539b30ce0ac25d83caf",
       "version_major": 2,
       "version_minor": 0
      },
      "text/plain": [
       "VBox()"
      ]
     },
     "metadata": {},
     "output_type": "display_data"
    },
    {
     "name": "stdout",
     "output_type": "stream",
     "text": [
      "Starting Spark application\n"
     ]
    },
    {
     "data": {
      "text/html": [
       "<table>\n",
       "<tr><th>ID</th><th>YARN Application ID</th><th>Kind</th><th>State</th><th>Spark UI</th><th>Driver log</th><th>Current session?</th></tr><tr><td>1</td><td>application_1600223106183_0004</td><td>pyspark</td><td>idle</td><td><a target=\"_blank\" href=\"http://ip-172-31-7-15.ap-southeast-1.compute.internal:20888/proxy/application_1600223106183_0004/\">Link</a></td><td><a target=\"_blank\" href=\"http://ip-172-31-8-133.ap-southeast-1.compute.internal:8042/node/containerlogs/container_1600223106183_0004_01_000001/livy\">Link</a></td><td>✔</td></tr></table>"
      ],
      "text/plain": [
       "<IPython.core.display.HTML object>"
      ]
     },
     "metadata": {},
     "output_type": "display_data"
    },
    {
     "data": {
      "application/vnd.jupyter.widget-view+json": {
       "model_id": "",
       "version_major": 2,
       "version_minor": 0
      },
      "text/plain": [
       "FloatProgress(value=0.0, bar_style='info', description='Progress:', layout=Layout(height='25px', width='50%'),…"
      ]
     },
     "metadata": {},
     "output_type": "display_data"
    },
    {
     "name": "stdout",
     "output_type": "stream",
     "text": [
      "SparkSession available as 'spark'.\n"
     ]
    },
    {
     "data": {
      "application/vnd.jupyter.widget-view+json": {
       "model_id": "",
       "version_major": 2,
       "version_minor": 0
      },
      "text/plain": [
       "FloatProgress(value=0.0, bar_style='info', description='Progress:', layout=Layout(height='25px', width='50%'),…"
      ]
     },
     "metadata": {},
     "output_type": "display_data"
    }
   ],
   "source": [
    "spark.catalog.refreshTable(\"`lovina_etl_s3`.`t_task_1` \")\n",
    "thirdparty_t_task=spark.sql(\"\"\"\n",
    "select \n",
    "id,\n",
    "customer_id,\n",
    "loan_id,\n",
    "channel,\n",
    "channel_id,\n",
    "thirdparty_id,\n",
    "status,\n",
    "retry_times,\n",
    "response,\n",
    "cast(create_time as string) as create_time,\n",
    "cast(update_time as string) as update_time,\n",
    "client_id,\n",
    "cast(query_key as string) as query_key,\n",
    "year(to_date(a.create_time)) as year,\n",
    "if(length(MONTH(to_date(a.create_time)))=1,concat(\"0\",MONTH(to_date(a.create_time))),MONTH(to_date(a.create_time))) as month,\n",
    "if(length(day(to_date(a.create_time)))=1,concat(\"0\",day(to_date(a.create_time))),day(to_date(a.create_time))) as day\n",
    "from `lovina_s3_etl`.`t_task_1`a\n",
    "where id < 44982821  \n",
    "and  status=40\n",
    "and channel != 440\n",
    "\"\"\")\n",
    "thirdparty_t_task.write.mode(\"append\").partitionBy(\"year\",\"month\",\"day\").orc(\"s3://rupiahplus-data-warehouse/stream/thirdparty/thirdparty_t_task/\")"
   ]
  },
  {
   "cell_type": "code",
   "execution_count": 12,
   "metadata": {},
   "outputs": [
    {
     "data": {
      "application/vnd.jupyter.widget-view+json": {
       "model_id": "7fba24ebcf2848ada1dc24f51bb6009d",
       "version_major": 2,
       "version_minor": 0
      },
      "text/plain": [
       "VBox()"
      ]
     },
     "metadata": {},
     "output_type": "display_data"
    },
    {
     "data": {
      "application/vnd.jupyter.widget-view+json": {
       "model_id": "",
       "version_major": 2,
       "version_minor": 0
      },
      "text/plain": [
       "FloatProgress(value=0.0, bar_style='info', description='Progress:', layout=Layout(height='25px', width='50%'),…"
      ]
     },
     "metadata": {},
     "output_type": "display_data"
    }
   ],
   "source": [
    "thirdparty_tongdun_guard_risk_items_his=spark.sql(\"\"\"\n",
    "select \n",
    "id,\n",
    "customer_id,\n",
    "loan_id,\n",
    "create_time,\n",
    "query_key,\n",
    "if(substr(get_json_object(response,\"$.message\"),-1)=\"}\",\"\",get_json_object(response,\"$.message\")) as message\n",
    "concat(risk_items,'}') as risk_items\n",
    "from `lovina_s3_etl`.`t_task`\n",
    "LATERAL VIEW explode(split(substr(get_json_object(response,\"$.result_desc.ANTIFRAUD.risk_items\"),2,length(get_json_object(response,\"$.result_desc.ANTIFRAUD.risk_items\"))-2),'},')) as risk_items\n",
    "where status=40 \n",
    "and channel=40  \n",
    "and (response is null or response ='' or substr(response,1,1)='{' )\n",
    "and (client_id=0 or client_id is null )\n",
    " limit 100\n",
    "\"\"\")\n",
    "thirdparty_tongdun_guard_risk_items_his.write.mode(\"append\").csv(\"s3://rupiahplus-data-warehouse/stream/thirdparty_his/thirdparty_tongdun_guard_risk_items_his/\")"
   ]
  },
  {
   "cell_type": "code",
   "execution_count": 21,
   "metadata": {},
   "outputs": [
    {
     "data": {
      "application/vnd.jupyter.widget-view+json": {
       "model_id": "5de272216f5f4f10a722ee6fc7d9b5fc",
       "version_major": 2,
       "version_minor": 0
      },
      "text/plain": [
       "VBox()"
      ]
     },
     "metadata": {},
     "output_type": "display_data"
    },
    {
     "data": {
      "application/vnd.jupyter.widget-view+json": {
       "model_id": "",
       "version_major": 2,
       "version_minor": 0
      },
      "text/plain": [
       "FloatProgress(value=0.0, bar_style='info', description='Progress:', layout=Layout(height='25px', width='50%'),…"
      ]
     },
     "metadata": {},
     "output_type": "display_data"
    },
    {
     "name": "stdout",
     "output_type": "stream",
     "text": [
      "<SparkContext master=yarn appName=livy-session-6>"
     ]
    }
   ],
   "source": [
    "sc.method"
   ]
  },
  {
   "cell_type": "code",
   "execution_count": 12,
   "metadata": {},
   "outputs": [
    {
     "data": {
      "application/vnd.jupyter.widget-view+json": {
       "model_id": "d43983708d0849b999489f6e974115af",
       "version_major": 2,
       "version_minor": 0
      },
      "text/plain": [
       "VBox()"
      ]
     },
     "metadata": {},
     "output_type": "display_data"
    },
    {
     "data": {
      "application/vnd.jupyter.widget-view+json": {
       "model_id": "",
       "version_major": 2,
       "version_minor": 0
      },
      "text/plain": [
       "FloatProgress(value=0.0, bar_style='info', description='Progress:', layout=Layout(height='25px', width='50%'),…"
      ]
     },
     "metadata": {},
     "output_type": "display_data"
    },
    {
     "name": "stdout",
     "output_type": "stream",
     "text": [
      "+-----+\n",
      "|value|\n",
      "+-----+\n",
      "|   []|\n",
      "+-----+\n",
      "\n",
      "926310\n",
      "root\n",
      " |-- _corrupt_record: string (nullable = true)\n",
      " |-- id: string (nullable = true)\n",
      " |-- result_desc: struct (nullable = true)\n",
      " |    |-- ANTIFRAUD: struct (nullable = true)\n",
      " |    |    |-- final_decision: string (nullable = true)\n",
      " |    |    |-- final_score: long (nullable = true)\n",
      " |    |    |-- risk_items: array (nullable = true)\n",
      " |    |    |    |-- element: struct (containsNull = true)\n",
      " |    |    |    |    |-- decision: string (nullable = true)\n",
      " |    |    |    |    |-- risk_detail: array (nullable = true)\n",
      " |    |    |    |    |    |-- element: struct (containsNull = true)\n",
      " |    |    |    |    |    |    |-- risk_details: array (nullable = true)\n",
      " |    |    |    |    |    |    |    |-- element: struct (containsNull = true)\n",
      " |    |    |    |    |    |    |    |    |-- description: string (nullable = true)\n",
      " |    |    |    |    |    |    |    |    |-- field_type: string (nullable = true)\n",
      " |    |    |    |    |    |    |    |    |-- hit_rule_type: string (nullable = true)\n",
      " |    |    |    |    |    |    |    |    |-- input_value: string (nullable = true)\n",
      " |    |    |    |    |    |    |    |    |-- mh_value: long (nullable = true)\n",
      " |    |    |    |    |    |    |-- type: string (nullable = true)\n",
      " |    |    |    |    |-- risk_name: string (nullable = true)\n",
      " |    |    |    |    |-- rule_id: string (nullable = true)\n",
      " |    |    |    |    |-- score: long (nullable = true)\n",
      " |-- success: boolean (nullable = true)"
     ]
    }
   ],
   "source": [
    "from pyspark.sql import types as T\n",
    "from pyspark.sql import functions as F\n",
    "from pyspark.sql.functions import lit\n",
    "v1=spark.sql(\"\"\"\n",
    "select \n",
    " *\n",
    "from `lovina_s3_etl`.`t_task`\n",
    "where status=40 \n",
    "and channel=40  \n",
    "and (response is null or response ='' or substr(response,1,1)='{' )\n",
    "and (client_id=0 or client_id is null )\n",
    " limit 1\n",
    "\"\"\")\n",
    "noArr = spark.createDataFrame([[\"\"]], T.ArrayType(T.StringType()))\n",
    "noArr=noArr.select(noArr[0]).show()\n",
    "v1=v1.collect()\n",
    "for row in v1:\n",
    "#     df = df.select(F.explode(df[\"result_desc.ANTIFRAUD.risk_items\"]).alias(\"col\"))\n",
    "    print(row[\"id\"])\n",
    "    table=sc.parallelize(row)\n",
    "    table=spark.read.json(table)\n",
    "    table.printSchema()\n",
    "#     df = table.select(F.explode(table[\"result_desc.ANTIFRAUD.risk_items\"]).alias(\"col\"))\n",
    "#     col = df[\"col\"]\n",
    "#     type(col) \n",
    "#     df1 =df.withColumn(\"customer_id\", lit(row[\"customer_id\"]).cast(F.StringType())).withColumn(\"loan_id\", lit(row[\"loan_id\"]).cast(T.StringType())).withColumn(\"create_time\", lit(row[\"create_time\"]).cast(T.StringType())).withColumn(\"thirdparty_id\", lit(row[\"thirdparty_id\"])).withColumn(\"query_key\", lit(row[\"query_key\"]))\n",
    "#     df1 =df1.withColumn(\"rule_id\", col[\"rule_id\"]).withColumn(\"score\", col[\"score\"].cast(T.IntegerType())).withColumn(\"decision\", col[\"decision\"]).withColumn(\"risk_name\", col[\"risk_name\"])\n",
    "#     df1 =df1.withColumn(\"risk_detail\",F.when(\n",
    "#                         F.col('risk_detail').isNotNull(), F.col('risk_detail')).otherwise(lit(noArr))).drop(\"col\")\n",
    "#     df1.printSchema()\n",
    "# #     df1.show();\n",
    "#     df2=df1.select(F.explode(df1[\"risk_detail\"]).alias(\"col2\"))\n",
    "#     col2 = df2[\"col2\"]\n",
    "#     df3 =df2.withColumn(\"rule_id\", col2[\"type\"])\n",
    "#     df3.show()\n",
    "#     for row2 in df1:\n",
    "#         df2=df1.select(F.explode(row2[\"risk_detail\"]).alias(\"col2\"))\n",
    "#         df2.show()\n",
    "    "
   ]
  },
  {
   "cell_type": "code",
   "execution_count": 4,
   "metadata": {},
   "outputs": [
    {
     "data": {
      "application/vnd.jupyter.widget-view+json": {
       "model_id": "b5ea38c9664a4236a127b005b9e9d1eb",
       "version_major": 2,
       "version_minor": 0
      },
      "text/plain": [
       "VBox()"
      ]
     },
     "metadata": {},
     "output_type": "display_data"
    },
    {
     "name": "stderr",
     "output_type": "stream",
     "text": [
      "An error was encountered:\n",
      "Session 7 did not reach idle status in time. Current status is busy.\n"
     ]
    }
   ],
   "source": [
    "v1=spark.sql(\"\"\"\n",
    "select \n",
    "testudf()\n",
    "from `lovina_s3_etl`.`t_task`\n",
    "where status=40 \n",
    "and channel=40  \n",
    "and (response is null or response ='' or substr(response,1,1)='{' )\n",
    "and (client_id=0 or client_id is null )\n",
    " limit 10\n",
    "\"\"\").show()"
   ]
  },
  {
   "cell_type": "code",
   "execution_count": 2,
   "metadata": {},
   "outputs": [
    {
     "data": {
      "application/vnd.jupyter.widget-view+json": {
       "model_id": "853654975bc04e8c97b61e7dfc4ea20a",
       "version_major": 2,
       "version_minor": 0
      },
      "text/plain": [
       "VBox()"
      ]
     },
     "metadata": {},
     "output_type": "display_data"
    },
    {
     "data": {
      "application/vnd.jupyter.widget-view+json": {
       "model_id": "",
       "version_major": 2,
       "version_minor": 0
      },
      "text/plain": [
       "FloatProgress(value=0.0, bar_style='info', description='Progress:', layout=Layout(height='25px', width='50%'),…"
      ]
     },
     "metadata": {},
     "output_type": "display_data"
    }
   ],
   "source": [
    "v1=spark.sql(\"\"\"\n",
    "select \n",
    "*\n",
    "from `lovina_s3_etl`.`t_task`\n",
    "where status=40 \n",
    "and channel=40  \n",
    "and (response is null or response ='' or substr(response,1,1)='{' )\n",
    "and (client_id=0 or client_id is null )\n",
    "and customer_id is not null\n",
    " limit 10\n",
    "\"\"\")\n",
    "v1.write.mode(\"append\").orc(\"s3://rupiahplus-data-warehouse/stream/thirdparty_his/json/\")"
   ]
  },
  {
   "cell_type": "code",
   "execution_count": 79,
   "metadata": {},
   "outputs": [
    {
     "data": {
      "application/vnd.jupyter.widget-view+json": {
       "model_id": "22cdf161bd044803ba3b37a0dce85e09",
       "version_major": 2,
       "version_minor": 0
      },
      "text/plain": [
       "VBox()"
      ]
     },
     "metadata": {},
     "output_type": "display_data"
    },
    {
     "data": {
      "application/vnd.jupyter.widget-view+json": {
       "model_id": "",
       "version_major": 2,
       "version_minor": 0
      },
      "text/plain": [
       "FloatProgress(value=0.0, bar_style='info', description='Progress:', layout=Layout(height='25px', width='50%'),…"
      ]
     },
     "metadata": {},
     "output_type": "display_data"
    },
    {
     "name": "stdout",
     "output_type": "stream",
     "text": [
      "<function tongdun_guard_json_test at 0x7f7394a38d90>"
     ]
    }
   ],
   "source": [
    "from urllib.request import urlopen\n",
    "import json\n",
    "from pprint import pprint\n",
    "\n",
    "# a='{\"success\":true,\"id\":\"WF2019021715404113217023\",\"result_desc\":{\"ANTIFRAUD\":{\"final_score\":0,\"risk_items\":[{\"rule_id\":\"23374771\",\"score\":0,\"decision\":\"Accept\",\"risk_name\":\"Borrower\\\\'s,name_same_with_KTP_name\",\"risk_detail\":[{\"risk_details\":[{\"description\":\"Borrowers name is same with KTP name\",\"hit_rule_type\":\"Identity verification\",\"field_type\":\"name\",\"input_value\":\"Mertina Zai\"},{\"description\":\"Borrowers name is same with KTP name\",\"hit_rule_type\":\"Identity verification\",\"field_type\":\"name\",\"input_value\":\"Mertina Zai\"}],\"type\":\"mh_detail\"}]},{\"rule_id\":\"23374772\",\"score\":0,\"decision\":\"Accept1111\",\"risk_name\":\"Borrower_name_same_with_KTP_name111111\",\"risk_detail\":[{\"risk_details\":[{\"description\":\"Borrowers name is same with KTP name111111\",\"hit_rule_type\":\"Identity verification11111\",\"field_type\":\"name11111\",\"input_value\":\"Mertina Zai1111\"},{\"description\":\"Borrowers name is same with KTP name1111\",\"hit_rule_type\":\"Identity verification11111\",\"field_type\":\"name1111\",\"input_value\":\"Mertina Zai11111\"}],\"type\":\"mh_detail\"}]}],\"final_decision\":\"Accept\"}}}'\n",
    "# def tongdun_guard_json(b,typeValue):\n",
    "#     return getJsonArray(b,typeValue);\n",
    "def tongdun_guard_json_test(b,typeValue):\n",
    "    risk_itemls=[];\n",
    "    risk_detaillist=[];\n",
    "    risk_detailslist=[];\n",
    "    text = json.loads(b)\n",
    "    for field in text.keys():\n",
    "        if field==\"risk_items\":\n",
    "            index=0;\n",
    "            for v1 in text[field]:\n",
    "                index=index+1;\n",
    "                for field1 in list(v1):\n",
    "                    if field1=='risk_detail':\n",
    "                        for v2 in v1[field1]:\n",
    "                            for risk_detailfield in  list(v2):\n",
    "                                if risk_detailfield=='risk_details':\n",
    "                                     for v3 in v2[risk_detailfield]:\n",
    "                                         v3[\"rule_id\"]=v1[\"rule_id\"];\n",
    "                                         v3[\"rule_detail_id\"]=v1[\"rule_id\"]+\"_\"+str(index);\n",
    "                                         risk_detailslist.append(json.dumps(v3));\n",
    "                                     v2.pop(risk_detailfield);\n",
    "                                v2[\"rule_id\"]=v1[\"rule_id\"];\n",
    "                                v2[\"rule_detail_id\"]=v1[\"rule_id\"]+\"_\"+str(index);\n",
    "                                risk_detaillist.append(json.dumps(v2))\n",
    "                        v1.pop(field1);\n",
    "                risk_itemls.append(json.dumps(v1))\n",
    "            break;\n",
    "        elif field!=\"risk_items\" and type(text[field]) == dict:\n",
    "            result_desc=json.dumps(text[field]);\n",
    "            return tongdun_guard_json_test(result_desc,typeValue);\n",
    "        else :\n",
    "            continue\n",
    "    if typeValue=='risk_items':\n",
    "        return  risk_itemls\n",
    "    elif typeValue=='risk_detail':\n",
    "        return  risk_detaillist\n",
    "    elif typeValue=='risk_details':\n",
    "        return risk_detailslist;\n",
    "# tongdun_guard_json(a,\"risk_items\");\n",
    "spark.udf.register(\"tongdun_guard_json_test\",tongdun_guard_json_test,T.ArrayType(T.StringType()))"
   ]
  },
  {
   "cell_type": "code",
   "execution_count": 81,
   "metadata": {},
   "outputs": [
    {
     "data": {
      "application/vnd.jupyter.widget-view+json": {
       "model_id": "b06f912de60542bca19baa73f2b768b3",
       "version_major": 2,
       "version_minor": 0
      },
      "text/plain": [
       "VBox()"
      ]
     },
     "metadata": {},
     "output_type": "display_data"
    },
    {
     "data": {
      "application/vnd.jupyter.widget-view+json": {
       "model_id": "",
       "version_major": 2,
       "version_minor": 0
      },
      "text/plain": [
       "FloatProgress(value=0.0, bar_style='info', description='Progress:', layout=Layout(height='25px', width='50%'),…"
      ]
     },
     "metadata": {},
     "output_type": "display_data"
    },
    {
     "name": "stdout",
     "output_type": "stream",
     "text": [
      "+-------+-----------+-------+--------------------------+---------+--------+--------------+--------------------------------------+-----------------------+----------------------+-------------------+\n",
      "|id     |customer_id|loan_id|create_time               |query_key|rule_id |rule_detail_id|description                           |hit_rule_type          |field_type            |input_value        |\n",
      "+-------+-----------+-------+--------------------------+---------+--------+--------------+--------------------------------------+-----------------------+----------------------+-------------------+\n",
      "|1831209|2986252    |5785628|2019-03-15 06:05:02.233743|null     |23375031|23375031_1    |Borrower applied many times in 14 days|Apply behavior analysis|applicatioin frequency|null               |\n",
      "|1831209|2986252    |5785628|2019-03-15 06:05:02.233743|null     |23374771|23374771_2    |Borrower's name is same with KTP name |Identity verification  |name                  |martha eka prasetya|\n",
      "+-------+-----------+-------+--------------------------+---------+--------+--------------+--------------------------------------+-----------------------+----------------------+-------------------+"
     ]
    }
   ],
   "source": [
    "thirdparty_tongdun_guard_risk_details=spark.sql(\"\"\"\n",
    "select \n",
    "a.id,\n",
    "a.customer_id,\n",
    "a.loan_id,\n",
    "a.create_time,\n",
    "a.query_key,\n",
    "get_json_object(risk_details,\"$.rule_id\") as rule_id,\n",
    "get_json_object(risk_details,\"$.rule_detail_id\") as rule_detail_id,\n",
    "regexp_replace(get_json_object(risk_details,\"$.description\"),\"##\",\"\\\\'\") as description,\n",
    "get_json_object(risk_details,\"$.hit_rule_type\") as hit_rule_type,\n",
    "get_json_object(risk_details,\"$.field_type\") as field_type,\n",
    "get_json_object(risk_details,\"$.input_value\") as input_value\n",
    "from (\n",
    "select \n",
    "id,\n",
    "customer_id,\n",
    "loan_id,\n",
    "create_time,\n",
    "query_key, \n",
    "risk_details as risk_details\n",
    "from `lovina_s3_etl`.`t_task`\n",
    "LATERAL VIEW explode(tongdun_guard_json_test(response,\"risk_details\")) as risk_details\n",
    "where status=40 \n",
    "and channel=40  \n",
    "and (response is null or response ='' or substr(response,1,1)='{' )\n",
    "and (client_id=0 or client_id is null )\n",
    "and id=1831209\n",
    " limit 100)  a\n",
    "\"\"\").show(10,False)\n",
    "# thirdparty_tongdun_guard_risk_details.write.mode(\"overwrite\").csv(\"s3://rupiahplus-data-warehouse/stream/thirdparty_his/json/\")"
   ]
  },
  {
   "cell_type": "code",
   "execution_count": 70,
   "metadata": {},
   "outputs": [
    {
     "data": {
      "application/vnd.jupyter.widget-view+json": {
       "model_id": "3dcec564e5bc41cb93ed90fe56800f7e",
       "version_major": 2,
       "version_minor": 0
      },
      "text/plain": [
       "VBox()"
      ]
     },
     "metadata": {},
     "output_type": "display_data"
    },
    {
     "data": {
      "application/vnd.jupyter.widget-view+json": {
       "model_id": "",
       "version_major": 2,
       "version_minor": 0
      },
      "text/plain": [
       "FloatProgress(value=0.0, bar_style='info', description='Progress:', layout=Layout(height='25px', width='50%'),…"
      ]
     },
     "metadata": {},
     "output_type": "display_data"
    },
    {
     "name": "stdout",
     "output_type": "stream",
     "text": [
      "<function tongdun_guard_json_test1 at 0x7f739726c510>"
     ]
    }
   ],
   "source": [
    "from urllib.request import urlopen\n",
    "import json\n",
    "from pprint import pprint\n",
    "from pyspark.sql import types as T\n",
    "\n",
    "# a='{\"success\":true,\"id\":\"WF2019021715404113217023\",\"result_desc\":{\"ANTIFRAUD\":{\"final_score\":0,\"risk_items\":[{\"rule_id\":\"23374771\",\"score\":0,\"decision\":\"Accept\",\"risk_name\":\"Borrower\\\\'s,name_same_with_KTP_name\",\"risk_detail\":[{\"risk_details\":[{\"description\":\"Borrowers name is same with KTP name\",\"hit_rule_type\":\"Identity verification\",\"field_type\":\"name\",\"input_value\":\"Mertina Zai\"},{\"description\":\"Borrowers name is same with KTP name\",\"hit_rule_type\":\"Identity verification\",\"field_type\":\"name\",\"input_value\":\"Mertina Zai\"}],\"type\":\"mh_detail\"}]},{\"rule_id\":\"23374772\",\"score\":0,\"decision\":\"Accept1111\",\"risk_name\":\"Borrower_name_same_with_KTP_name111111\",\"risk_detail\":[{\"risk_details\":[{\"description\":\"Borrowers name is same with KTP name111111\",\"hit_rule_type\":\"Identity verification11111\",\"field_type\":\"name11111\",\"input_value\":\"Mertina Zai1111\"},{\"description\":\"Borrowers name is same with KTP name1111\",\"hit_rule_type\":\"Identity verification11111\",\"field_type\":\"name1111\",\"input_value\":\"Mertina Zai11111\"}],\"type\":\"mh_detail\"}]}],\"final_decision\":\"Accept\"}}}'\n",
    "# def tongdun_guard_json(b,typeValue):\n",
    "#     return getJsonArray(b,typeValue);\n",
    "def tongdun_guard_json_test1(b,typeValue):\n",
    "    a=[\"a\",\"v\",\"c\"]\n",
    "    return a\n",
    "# tongdun_guard_json(a,\"risk_items\");\n",
    "spark.udf.register(\"tongdun_guard_json_test1\",tongdun_guard_json_test1,T.ArrayType(T.StructType()))"
   ]
  },
  {
   "cell_type": "code",
   "execution_count": 72,
   "metadata": {},
   "outputs": [
    {
     "data": {
      "application/vnd.jupyter.widget-view+json": {
       "model_id": "e32857d6e1ef455caa719243a6f357a1",
       "version_major": 2,
       "version_minor": 0
      },
      "text/plain": [
       "VBox()"
      ]
     },
     "metadata": {},
     "output_type": "display_data"
    },
    {
     "data": {
      "application/vnd.jupyter.widget-view+json": {
       "model_id": "",
       "version_major": 2,
       "version_minor": 0
      },
      "text/plain": [
       "FloatProgress(value=0.0, bar_style='info', description='Progress:', layout=Layout(height='25px', width='50%'),…"
      ]
     },
     "metadata": {},
     "output_type": "display_data"
    },
    {
     "name": "stdout",
     "output_type": "stream",
     "text": [
      "+---+\n",
      "|col|\n",
      "+---+\n",
      "|  a|\n",
      "|  v|\n",
      "|  c|\n",
      "+---+"
     ]
    }
   ],
   "source": [
    "thirdparty_tongdun_guard_risk_details=spark.sql(\"\"\"\n",
    "select explode(a) from (\n",
    "select tongdun_guard_json_test1(\"a\",\"b\") as a\n",
    ") b\n",
    "\"\"\").show()"
   ]
  },
  {
   "cell_type": "code",
   "execution_count": null,
   "metadata": {},
   "outputs": [],
   "source": []
  },
  {
   "cell_type": "code",
   "execution_count": 8,
   "metadata": {},
   "outputs": [
    {
     "data": {
      "application/vnd.jupyter.widget-view+json": {
       "model_id": "c993323ba75e40cc923826a622b8f13b",
       "version_major": 2,
       "version_minor": 0
      },
      "text/plain": [
       "VBox()"
      ]
     },
     "metadata": {},
     "output_type": "display_data"
    },
    {
     "data": {
      "application/vnd.jupyter.widget-view+json": {
       "model_id": "",
       "version_major": 2,
       "version_minor": 0
      },
      "text/plain": [
       "FloatProgress(value=0.0, bar_style='info', description='Progress:', layout=Layout(height='25px', width='50%'),…"
      ]
     },
     "metadata": {},
     "output_type": "display_data"
    },
    {
     "name": "stdout",
     "output_type": "stream",
     "text": [
      "+----+-----+---+\n",
      "|year|month|day|\n",
      "+----+-----+---+\n",
      "|2020|01   |07 |\n",
      "|2020|01   |07 |\n",
      "|2020|01   |07 |\n",
      "|2020|01   |07 |\n",
      "|2020|01   |07 |\n",
      "|2020|01   |07 |\n",
      "|2020|01   |07 |\n",
      "|2020|01   |07 |\n",
      "|2020|01   |07 |\n",
      "|2020|01   |07 |\n",
      "+----+-----+---+\n",
      "only showing top 10 rows"
     ]
    }
   ],
   "source": [
    "spark.sql(\"\"\"\n",
    "select \n",
    "year(to_date(a.create_time)) as year,\n",
    "if(length(MONTH(to_date(a.create_time)))=1,concat(\"0\",MONTH(to_date(a.create_time))),MONTH(to_date(a.create_time))) as month,\n",
    "if(length(day(to_date(a.create_time)))=1,concat(\"0\",day(to_date(a.create_time))),day(to_date(a.create_time))) as day\n",
    "from `lovina_s3_etl`.`t_task_1`a\n",
    "limit 100\n",
    "\"\"\").show(10,False)"
   ]
  },
  {
   "cell_type": "code",
   "execution_count": null,
   "metadata": {},
   "outputs": [],
   "source": [
    "select \n",
    " count(1)\n",
    "from \n",
    "lovina_s3_etl.t_task_1 a \n",
    "left join \n",
    "  thirdparty_etl.thirdparty_t_task  b \n",
    "  on a.id =b.id \n",
    "  and cast(substr(b.create_time, 1, 19) AS timestamp) < cast('2020-01-15 00:00:00'  AS timestamp) \n",
    "  where a.channel!=440 \n",
    "  and a.status=40\n",
    "  and a.create_time < cast('2020-01-15 00:00:00'  AS timestamp) \n",
    "  and b.id is null"
   ]
  },
  {
   "cell_type": "code",
   "execution_count": 4,
   "metadata": {},
   "outputs": [
    {
     "data": {
      "application/vnd.jupyter.widget-view+json": {
       "model_id": "c18308e18b2541d4b964f160d10abcaa",
       "version_major": 2,
       "version_minor": 0
      },
      "text/plain": [
       "VBox()"
      ]
     },
     "metadata": {},
     "output_type": "display_data"
    },
    {
     "data": {
      "application/vnd.jupyter.widget-view+json": {
       "model_id": "",
       "version_major": 2,
       "version_minor": 0
      },
      "text/plain": [
       "FloatProgress(value=0.0, bar_style='info', description='Progress:', layout=Layout(height='25px', width='50%'),…"
      ]
     },
     "metadata": {},
     "output_type": "display_data"
    }
   ],
   "source": [
    "spark.catalog.refreshTable(\"`lovina_s3_etl`.`t_task_1` \")\n",
    "spark.catalog.refreshTable(\"`lovina_s3_etl`.`t_task_1` \")\n",
    "thirdparty_t_task=spark.sql(\"\"\"\n",
    "select \n",
    "a.id,\n",
    "a.customer_id,\n",
    "a.loan_id,\n",
    "a.channel,\n",
    "a.channel_id,\n",
    "a.thirdparty_id,\n",
    "a.status,\n",
    "a.retry_times,\n",
    "a.response,\n",
    "cast(a.create_time as string) as create_time,\n",
    "cast(a.update_time as string) as update_time,\n",
    "a.client_id,\n",
    "cast(a.query_key as string) as query_key,\n",
    "year(to_date(a.create_time)) as year,\n",
    "if(length(MONTH(to_date(a.create_time)))=1,concat(\"0\",MONTH(to_date(a.create_time))),MONTH(to_date(a.create_time))) as month,\n",
    "if(length(day(to_date(a.create_time)))=1,concat(\"0\",day(to_date(a.create_time))),day(to_date(a.create_time))) as day\n",
    "from \n",
    "lovina_s3_etl.t_task_1 a \n",
    "left join \n",
    "  thirdparty_etl.thirdparty_t_task  b \n",
    "  on a.id =b.id \n",
    "  and cast(substr(b.create_time, 1, 19) AS timestamp) < cast('2020-01-15 00:00:00'  AS timestamp) \n",
    "  where a.channel!=440 \n",
    "  and a.status=40\n",
    "  and a.create_time < cast('2020-01-15 00:00:00'  AS timestamp) \n",
    "  and b.id is null\n",
    "\"\"\")\n",
    "thirdparty_t_task.write.mode(\"append\").partitionBy(\"year\",\"month\",\"day\").orc(\"s3://rupiahplus-data-warehouse/stream/thirdparty/thirdparty_t_task/\")"
   ]
  },
  {
   "cell_type": "code",
   "execution_count": 2,
   "metadata": {},
   "outputs": [
    {
     "data": {
      "application/vnd.jupyter.widget-view+json": {
       "model_id": "cf7f44c351104b98913969f3ef4fde13",
       "version_major": 2,
       "version_minor": 0
      },
      "text/plain": [
       "VBox()"
      ]
     },
     "metadata": {},
     "output_type": "display_data"
    },
    {
     "data": {
      "application/vnd.jupyter.widget-view+json": {
       "model_id": "",
       "version_major": 2,
       "version_minor": 0
      },
      "text/plain": [
       "FloatProgress(value=0.0, bar_style='info', description='Progress:', layout=Layout(height='25px', width='50%'),…"
      ]
     },
     "metadata": {},
     "output_type": "display_data"
    }
   ],
   "source": [
    "thirdparty_t_task=spark.sql(\"\"\"\n",
    "select \n",
    "a.id,\n",
    "a.customer_id,\n",
    "a.loan_id,\n",
    "a.channel,\n",
    "a.channel_id,\n",
    "a.thirdparty_id,\n",
    "a.status,\n",
    "a.retry_times,\n",
    "a.response,\n",
    "cast(a.create_time as string) as create_time,\n",
    "cast(a.update_time as string) as update_time,\n",
    "a.client_id,\n",
    "cast(a.query_key as string) as query_key,\n",
    "year(to_date(a.create_time)) as year,\n",
    "if(length(MONTH(to_date(a.update_time)))=1,concat(\"0\",MONTH(to_date(a.update_time))),MONTH(to_date(a.update_time))) as month,\n",
    "if(length(day(to_date(a.update_time)))=1,concat(\"0\",day(to_date(a.update_time))),day(to_date(a.update_time))) as day\n",
    "from \n",
    "lovina_s3_etl.t_task_1 a \n",
    "left join \n",
    "  thirdparty_etl.thirdparty_t_task  b \n",
    "  on a.id =b.id \n",
    "  where a.channel!=440 \n",
    "  and a.status=40\n",
    "  and b.id is null\n",
    "\"\"\")\n",
    "#  and cast(substr(a.create_time, 1, 19) AS timestamp) >= cast('2020-03-02 00:00:00'  AS timestamp) \n",
    "#  and cast(substr(a.create_time, 1, 19) AS timestamp) < cast('2020-03-02 10:00:00'  AS timestamp)\n",
    "#  and a.create_time >= cast('2020-02-05 00:00:00'  AS timestamp) \n",
    "#   and a.create_time < cast('2020-02-06 00:00:00'  AS timestamp) \n",
    "thirdparty_t_task.write.mode(\"append\").partitionBy(\"year\",\"month\",\"day\").orc(\"s3://rupiahplus-data-warehouse/stream/thirdparty/thirdparty_t_task/\")"
   ]
  },
  {
   "cell_type": "code",
   "execution_count": null,
   "metadata": {},
   "outputs": [],
   "source": [
    "thirdparty_t_task=spark.sql(\"\"\"\n",
    "select \n",
    "*\n",
    "from \n",
    "lovina_s3_etl.t_task_1 a \n",
    "left join \n",
    "  thirdparty_etl.thirdparty_t_task  b \n",
    "  on a.id =b.id \n",
    "  where a.channel!=440 \n",
    "  and a.status=40\n",
    "  and b.id is null\n",
    "  and a.id<17082526\n",
    "  order by a.create_time desc\n",
    "   limit 1000\n",
    "\"\"\").show(1)\n",
    "#  and cast(substr(b.create_time, 1, 19) AS timestamp) >= cast('2020-02-05 00:00:00'  AS timestamp) \n",
    "#   and cast(substr(b.create_time, 1, 19) AS timestamp) < cast('2020-02-06 00:00:00'  AS timestamp)\n",
    "#  and a.create_time >= cast('2020-02-05 00:00:00'  AS timestamp) \n",
    "#   and a.create_time < cast('2020-02-06 00:00:00'  AS timestamp) \n",
    "# thirdparty_t_task.write.mode(\"append\").partitionBy(\"year\",\"month\",\"day\").orc(\"s3://rupiahplus-data-warehouse/stream/thirdparty/thirdparty_t_task/\")"
   ]
  },
  {
   "cell_type": "code",
   "execution_count": null,
   "metadata": {},
   "outputs": [],
   "source": [
    "a.id,\n",
    "a.customer_id,\n",
    "a.loan_id,\n",
    "a.channel,\n",
    "a.channel_id,\n",
    "a.thirdparty_id,\n",
    "a.status,\n",
    "a.retry_times,\n",
    "a.response,\n",
    "cast(a.create_time as string) as create_time,\n",
    "cast(a.update_time as string) as update_time,\n",
    "a.client_id,\n",
    "cast(a.query_key as string) as query_key,\n",
    "year(to_date(a.create_time)) as year,\n",
    "if(length(MONTH(to_date(a.update_time)))=1,concat(\"0\",MONTH(to_date(a.update_time))),MONTH(to_date(a.update_time))) as month,\n",
    "if(length(day(to_date(a.update_time)))=1,concat(\"0\",day(to_date(a.update_time))),day(to_date(a.update_time))) as day"
   ]
  },
  {
   "cell_type": "code",
   "execution_count": 1,
   "metadata": {},
   "outputs": [
    {
     "data": {
      "application/vnd.jupyter.widget-view+json": {
       "model_id": "fec22e9a7098448cbacb47d5c6175e9d",
       "version_major": 2,
       "version_minor": 0
      },
      "text/plain": [
       "VBox()"
      ]
     },
     "metadata": {},
     "output_type": "display_data"
    },
    {
     "name": "stdout",
     "output_type": "stream",
     "text": [
      "Starting Spark application\n"
     ]
    },
    {
     "data": {
      "text/html": [
       "<table>\n",
       "<tr><th>ID</th><th>YARN Application ID</th><th>Kind</th><th>State</th><th>Spark UI</th><th>Driver log</th><th>Current session?</th></tr><tr><td>11</td><td>application_1619058808510_0013</td><td>pyspark</td><td>idle</td><td><a target=\"_blank\" href=\"http://ip-10-3-0-32.ap-southeast-1.compute.internal:20888/proxy/application_1619058808510_0013/\">Link</a></td><td><a target=\"_blank\" href=\"http://ip-10-3-0-92.ap-southeast-1.compute.internal:8042/node/containerlogs/container_1619058808510_0013_01_000001/livy\">Link</a></td><td>✔</td></tr></table>"
      ],
      "text/plain": [
       "<IPython.core.display.HTML object>"
      ]
     },
     "metadata": {},
     "output_type": "display_data"
    },
    {
     "data": {
      "application/vnd.jupyter.widget-view+json": {
       "model_id": "",
       "version_major": 2,
       "version_minor": 0
      },
      "text/plain": [
       "FloatProgress(value=0.0, bar_style='info', description='Progress:', layout=Layout(height='25px', width='50%'),…"
      ]
     },
     "metadata": {},
     "output_type": "display_data"
    },
    {
     "name": "stdout",
     "output_type": "stream",
     "text": [
      "SparkSession available as 'spark'.\n"
     ]
    },
    {
     "data": {
      "application/vnd.jupyter.widget-view+json": {
       "model_id": "",
       "version_major": 2,
       "version_minor": 0
      },
      "text/plain": [
       "FloatProgress(value=0.0, bar_style='info', description='Progress:', layout=Layout(height='25px', width='50%'),…"
      ]
     },
     "metadata": {},
     "output_type": "display_data"
    },
    {
     "name": "stdout",
     "output_type": "stream",
     "text": [
      "2021-04-22 00:00:00"
     ]
    }
   ],
   "source": [
    "from datetime import datetime, timedelta\n",
    "print(datetime(2021,4,22))"
   ]
  },
  {
   "cell_type": "code",
   "execution_count": 3,
   "metadata": {},
   "outputs": [
    {
     "data": {
      "application/vnd.jupyter.widget-view+json": {
       "model_id": "77434c1b0b2e4acab881f105008013f0",
       "version_major": 2,
       "version_minor": 0
      },
      "text/plain": [
       "VBox()"
      ]
     },
     "metadata": {},
     "output_type": "display_data"
    },
    {
     "data": {
      "application/vnd.jupyter.widget-view+json": {
       "model_id": "",
       "version_major": 2,
       "version_minor": 0
      },
      "text/plain": [
       "FloatProgress(value=0.0, bar_style='info', description='Progress:', layout=Layout(height='25px', width='50%'),…"
      ]
     },
     "metadata": {},
     "output_type": "display_data"
    },
    {
     "name": "stdout",
     "output_type": "stream",
     "text": [
      "+--------+\n",
      "|count(1)|\n",
      "+--------+\n",
      "|222649  |\n",
      "+--------+"
     ]
    }
   ],
   "source": [
    "spark.sql(\"\"\"\n",
    "     select count(1) from thirdparty_etl.thirdparty_t_task\n",
    "     where year='2021' and month='07' and day >='15'\n",
    "     \n",
    "\"\"\").show(1000,False)"
   ]
  },
  {
   "cell_type": "code",
   "execution_count": 5,
   "metadata": {},
   "outputs": [
    {
     "data": {
      "application/vnd.jupyter.widget-view+json": {
       "model_id": "10b192b522344a0182ae2230e974ee27",
       "version_major": 2,
       "version_minor": 0
      },
      "text/plain": [
       "VBox()"
      ]
     },
     "metadata": {},
     "output_type": "display_data"
    },
    {
     "data": {
      "application/vnd.jupyter.widget-view+json": {
       "model_id": "",
       "version_major": 2,
       "version_minor": 0
      },
      "text/plain": [
       "FloatProgress(value=0.0, bar_style='info', description='Progress:', layout=Layout(height='25px', width='50%'),…"
      ]
     },
     "metadata": {},
     "output_type": "display_data"
    }
   ],
   "source": [
    "thirdparty_t_task=spark.sql(\"\"\"\n",
    " with exist_id as (\n",
    "      select id from thirdparty_etl.thirdparty_t_task\n",
    "     where year='2021' and month='07' and day >='15'\n",
    "     )\n",
    " \n",
    "    select  a.id,\n",
    "    a.customer_id,\n",
    "    a.loan_id,\n",
    "    a.channel,\n",
    "    a.channel_id,\n",
    "    a.thirdparty_id,\n",
    "    a.status,\n",
    "    a.retry_times,\n",
    "    a.response,\n",
    "    cast(a.create_time as string) as create_time,\n",
    "    cast(a.update_time as string) as update_time,\n",
    "    a.client_id,\n",
    "    cast(a.query_key as string) as query_key,\n",
    "    a.tag,\n",
    "    '2021' as year,\n",
    "    '07' as month,\n",
    "    '01' as day \n",
    "    from lovina_s3_etl.t_task_1 a\n",
    "    left join exist_id b\n",
    "     on a.id =b.id\n",
    "    where b.id is  null\n",
    "    and  a.status = 40\n",
    "    and a.channel != 440\n",
    " \n",
    "\n",
    "\n",
    "\"\"\")\n",
    "thirdparty_t_task.write.mode(\"append\").partitionBy(\"year\",\"month\",\"day\").orc(\"s3://rupiahplus-data-warehouse/stream/thirdparty/thirdparty_t_task/\")\n",
    "#   "
   ]
  },
  {
   "cell_type": "code",
   "execution_count": 3,
   "metadata": {},
   "outputs": [
    {
     "data": {
      "application/vnd.jupyter.widget-view+json": {
       "model_id": "0894392888574de9af7b907bbdbc9137",
       "version_major": 2,
       "version_minor": 0
      },
      "text/plain": [
       "VBox()"
      ]
     },
     "metadata": {},
     "output_type": "display_data"
    },
    {
     "data": {
      "application/vnd.jupyter.widget-view+json": {
       "model_id": "",
       "version_major": 2,
       "version_minor": 0
      },
      "text/plain": [
       "FloatProgress(value=0.0, bar_style='info', description='Progress:', layout=Layout(height='25px', width='50%'),…"
      ]
     },
     "metadata": {},
     "output_type": "display_data"
    }
   ],
   "source": [
    "thirdparty_t_task=spark.sql(\"\"\"\n",
    " \n",
    "    select  a.id,\n",
    "    a.customer_id,\n",
    "    a.loan_id,\n",
    "    a.channel,\n",
    "    a.channel_id,\n",
    "    a.thirdparty_id,\n",
    "    40 as status,\n",
    "    a.retry_times,\n",
    "    a.response,\n",
    "    cast(a.create_time as string) as create_time,\n",
    "    cast(a.update_time as string) as update_time,\n",
    "    a.client_id,\n",
    "    cast(a.query_key as string) as query_key,\n",
    "    '2021' as year,\n",
    "    '07' as month,\n",
    "    '02' as day \n",
    "    from lovina_etl_s3.t_task_1 a\n",
    "    where 1=1\n",
    "    and a.channel = 10015  and a.client_id in (0,10,1000)\n",
    "    and  a.status <> 40\n",
    "    and a.channel != 440\n",
    " \n",
    "\n",
    "\n",
    "\"\"\")\n",
    "thirdparty_t_task.write.mode(\"append\").partitionBy(\"year\",\"month\",\"day\").orc(\"s3://rupiahplus-data-warehouse/stream/thirdparty/thirdparty_t_task/\")\n",
    "#   "
   ]
  }
 ],
 "metadata": {
  "kernelspec": {
   "display_name": "PySpark",
   "language": "",
   "name": "pysparkkernel"
  },
  "language_info": {
   "codemirror_mode": {
    "name": "python",
    "version": 2
   },
   "mimetype": "text/x-python",
   "name": "pyspark",
   "pygments_lexer": "python2"
  }
 },
 "nbformat": 4,
 "nbformat_minor": 4
}
