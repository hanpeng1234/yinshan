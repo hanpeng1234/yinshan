{
 "cells": [
  {
   "cell_type": "code",
   "execution_count": 27,
   "metadata": {},
   "outputs": [
    {
     "data": {
      "application/vnd.jupyter.widget-view+json": {
       "model_id": "874b68da23744fcca029cfde92e06293",
       "version_major": 2,
       "version_minor": 0
      },
      "text/plain": [
       "VBox()"
      ]
     },
     "metadata": {},
     "output_type": "display_data"
    },
    {
     "data": {
      "application/vnd.jupyter.widget-view+json": {
       "model_id": "",
       "version_major": 2,
       "version_minor": 0
      },
      "text/plain": [
       "FloatProgress(value=0.0, bar_style='info', description='Progress:', layout=Layout(height='25px', width='50%'),…"
      ]
     },
     "metadata": {},
     "output_type": "display_data"
    },
    {
     "name": "stdout",
     "output_type": "stream",
     "text": [
      "banda_stream_etl\n",
      "None\n",
      "None\n",
      "None\n",
      "None\n",
      "None\n",
      "None\n",
      "None\n",
      "None\n",
      "None\n",
      "None\n",
      "None\n",
      "None\n",
      "None\n",
      "None\n",
      "None\n",
      "None\n",
      "None\n",
      "None\n",
      "None\n",
      "None\n",
      "None\n",
      "None\n",
      "None\n",
      "None\n",
      "None\n",
      "None\n",
      "None\n",
      "None\n",
      "None\n",
      "None\n",
      "None\n",
      "None\n",
      "None\n",
      "None\n",
      "None\n",
      "None\n",
      "None\n",
      "None\n",
      "None\n",
      "None\n",
      "None\n",
      "None\n",
      "None\n",
      "None\n",
      "None\n",
      "None\n",
      "None\n",
      "None\n",
      "None\n",
      "None"
     ]
    }
   ],
   "source": [
    "import sys\n",
    "from concurrent import futures\n",
    "import numpy as np\n",
    "from pyspark.sql import SparkSession\n",
    "from datetime import datetime,timedelta\n",
    "import pytz\n",
    "\n",
    "# print(datetime.now(pytz.timezone(\"Asia/Shanghai\")).strftime( '%Y-%m-%d'))\n",
    "today=(datetime.now()+ timedelta(-1)).strftime( '%Y-%m-%d')\n",
    "yesterday=(datetime.now(pytz.timezone(\"Asia/Shanghai\"))+ timedelta(-1)).strftime( '%Y-%m-%d')\n",
    "tablemap={\"banda_stream_etl\":\"banda_real\"} #,\n",
    "# ,\"banda_stream_etl\":\"1\"\n",
    "tablesql_1=\" FROM  (   SELECT    *  , row_number() OVER (PARTITION BY id  ORDER BY date_format(etldate,'yyyy-MM-dd HH:mm:ss.SSS') DESC  , if(etlindex is null ,0,etlindex)  desc)  row_num FROM  \"\n",
    "tablesql_2=\"  ORDER BY id  ASC )  a  WHERE a.row_num = 1 AND a.kind <> 'delete' \"\n",
    "def getTableColum(b):\n",
    "    colum=\"\"\n",
    "    for index in range(len(b)):\n",
    "        if(index>0 and index<len(b)-8):   \n",
    "            colum=colum+setDef(b[index][\"data_type\"],b[index][\"col_name\"])+\", \"\n",
    "#             ,month,day\n",
    "    return colum+\"year \"\n",
    "def setDef(type,table_col):\n",
    "    if(type[:7] == 'decimal'):\n",
    "        return \"ifnull(\"+table_col+\",0) as \"+table_col\n",
    "    else:\n",
    "        return table_col\n",
    "def make_col_temptable(databaseName,row):\n",
    "    tableName=row[\"tableName\"]\n",
    "    if tableName=='t_admin_audit':\n",
    "        tablecolum=\"desc \" +databaseName+\".\"+tableName;\n",
    "        tableSchema= spark.sql(tablecolum).collect()\n",
    "        tablepath=\"s3://rupiahplus-data-warehouse/stream/demo/t_admin_audit\"\n",
    "        spark.catalog.refreshTable(databaseName+\".\"+tableName)\n",
    "        sql=\"select \"+ getTableColum(tableSchema)+ tablesql_1+databaseName+\".\"+tableName+tablesql_2\n",
    "    #     print(sql)\n",
    "#     ,\"month\",\"day\"\n",
    "        spark.sql(sql).drop(\"etlindex\").write.mode(\"overwrite\").partitionBy(\"year\").orc(tablepath)\n",
    "if __name__ == \"builtins\":\n",
    "    spark = SparkSession\\\n",
    "        .builder\\\n",
    "        .appName(\"Python Demo\")\\\n",
    "        .config(\"hive.metastore.client.factory.class\", \"com.amazonaws.glue.catalog.metastore.AWSGlueDataCatalogHiveClientFactory\") \\\n",
    "        .enableHiveSupport()\\\n",
    "        .getOrCreate()\n",
    "#     spark.conf.set(\"spark.scheduler.mode\",\"FAIR\")\n",
    "    spark.conf.set(\"spark.sql.shuffle.partitions\",20)\n",
    "    for databaseName in tablemap:\n",
    "        print(databaseName)\n",
    "        databasesql=\"show tables in \"+databaseName\n",
    "        tables=spark.sql(databasesql)\n",
    "        tablelist=tables.collect();\n",
    "        executor=None\n",
    "        with futures.ThreadPoolExecutor(max_workers=10) as executor:\n",
    "            futures_result=futures.wait([executor.submit(make_col_temptable,databaseName, tableNm) for tableNm in tablelist])\n",
    "            for  future in futures_result[0]:\n",
    "                print(future.result())\n",
    "           \n"
   ]
  },
  {
   "cell_type": "code",
   "execution_count": null,
   "metadata": {},
   "outputs": [],
   "source": []
  },
  {
   "cell_type": "code",
   "execution_count": 3,
   "metadata": {},
   "outputs": [
    {
     "data": {
      "application/vnd.jupyter.widget-view+json": {
       "model_id": "32ba3740bbe144a0964de2820fb8d6c6",
       "version_major": 2,
       "version_minor": 0
      },
      "text/plain": [
       "VBox()"
      ]
     },
     "metadata": {},
     "output_type": "display_data"
    },
    {
     "data": {
      "application/vnd.jupyter.widget-view+json": {
       "model_id": "",
       "version_major": 2,
       "version_minor": 0
      },
      "text/plain": [
       "FloatProgress(value=0.0, bar_style='info', description='Progress:', layout=Layout(height='25px', width='50%'),…"
      ]
     },
     "metadata": {},
     "output_type": "display_data"
    },
    {
     "name": "stdout",
     "output_type": "stream",
     "text": [
      "+--------------------+--------+--------+-----------+--------------------+-------+-----------+--------------------+-------------+--------------------+--------------------+--------------+\n",
      "|             etldate|      id|admin_id|access_mode|               topic|subject|loan_app_id|             param_l|      param_h|             comment|         create_time|            ip|\n",
      "+--------------------+--------+--------+-----------+--------------------+-------+-----------+--------------------+-------------+--------------------+--------------------+--------------+\n",
      "|2020-09-11 05:59:...|46271774|  101898|    PRIVATE|              REPORT|  QUERY|       null|collection-weekly...|          171|startTime:2020-09...|2020-09-11 05:59:...|          null|\n",
      "|2020-09-11 06:17:...|46271922|  101897|    PRIVATE|              REPORT|  QUERY|       null|my-collection-mob...|         null|param:{adminId=10...|2020-09-11 06:17:...|          null|\n",
      "|2020-09-11 06:03:...|46271803|  100435|    PRIVATE|     REVIEW_COMMENTS| INSERT|    8853211|                null|         null|Name filled not m...|2020-09-11 06:03:...|          null|\n",
      "|2020-09-11 05:55:...|46271748|  100435|    PRIVATE|   REVIEW_SUPPLEMENT| INSERT|    8852880|        FIRST_REVIEW|         null|{\"comments\":\"\",\"c...|2020-09-11 05:55:...|222.165.231.78|\n",
      "|2020-09-11 06:39:...|46272088|  101736|    PRIVATE|              REPORT|  QUERY|       null|collection-amount...|          889|startTime:2020-09...|2020-09-11 06:39:...|          null|\n",
      "|2020-09-11 06:15:...|46271897|  100097|    PRIVATE|ASSIGN_LOAN_TO_RE...| UPDATE|    8853780|              100435| FIRST_REVIEW|assignLoanAppToAdmin|2020-09-11 06:15:...|222.165.231.78|\n",
      "|2020-09-11 05:57:...|46271756|  100435|    PRIVATE|      REVIEW_APPROVE| INSERT|    8852999|        FIRST_REVIEW|SECOND_REVIEW|all data match_ap...|2020-09-11 05:57:...|222.165.231.78|\n",
      "|2020-09-11 06:56:...|46272211|  100539|    PRIVATE|               LOGIN|  QUERY|       null|                null|         null|                null|2020-09-11 06:56:...|  36.90.86.122|\n",
      "|2020-09-11 06:45:...|46272133|  100097|    PRIVATE|              REPORT|  QUERY|       null|      review-history|           66|startTime:2020-09...|2020-09-11 06:45:...|          null|\n",
      "|2020-09-10 01:05:...|46264183|     100|    PRIVATE|ASSIGN_LOAN_TO_RE...| UPDATE|    8846218|              100097| FINAL_REVIEW|assignLoanAppToAdmin|2020-09-10 01:05:...|          null|\n",
      "|2020-09-10 01:20:...|46264322|  100490|    PRIVATE|              REPORT|  QUERY|       null|        work-details|        39800|startTime:2020-09...|2020-09-10 01:20:...|          null|\n",
      "|2020-09-10 01:58:...|46264553|  101898|    PRIVATE|              REPORT|  QUERY|       null|my-collection-con...|           62|startTime:2020-09...|2020-09-10 01:58:...|          null|\n",
      "|2020-09-10 04:39:...|46265771|  101866|    PRIVATE|              REPORT|  QUERY|       null|collection-weekly...|          140|startTime:2020-09...|2020-09-10 04:39:...|          null|\n",
      "|2020-09-10 05:05:...|46266032|  100097|    PRIVATE|     REVIEW_COMMENTS| INSERT|    8846767|                null|         null|      bank info _ ok|2020-09-10 05:05:...|          null|\n",
      "|2020-09-10 05:19:...|46266177|  100435|    PRIVATE|   REVIEW_SUPPLEMENT| INSERT|    8846524|        FIRST_REVIEW|         null|{\"comments\":\"\",\"c...|2020-09-10 05:19:...|222.165.231.78|\n",
      "|2020-09-10 06:04:...|46266373|  100094|    PRIVATE|  UPDATE_LOAN_STATUS| UPDATE|    8844245|              CLOSED|         null|AUTHORIZATION to ...|2020-09-10 06:04:...|222.165.231.78|\n",
      "|2020-09-10 07:09:...|46266863|  101907|    PRIVATE|              REPORT|  QUERY|       null|collection-weekly...|          248|startTime:2020-09...|2020-09-10 07:09:...|          null|\n",
      "|2020-09-10 07:30:...|46267020|     100|    PRIVATE|ASSIGN_LOAN_TO_RE...| UPDATE|    8848841|              101860| FIRST_REVIEW|assignLoanAppToAdmin|2020-09-10 07:30:...|          null|\n",
      "|2020-09-10 07:52:...|46267165|  101918|    PRIVATE|              REPORT|  QUERY|       null|my-collection-con...|         null|param:{adminId=10...|2020-09-10 07:52:...|          null|\n",
      "|2020-09-10 08:38:...|46267381|  101781|    PRIVATE|              REPORT|  QUERY|       null|collection-weekly...|          391|startTime:2020-09...|2020-09-10 08:38:...|          null|\n",
      "+--------------------+--------+--------+-----------+--------------------+-------+-----------+--------------------+-------------+--------------------+--------------------+--------------+\n",
      "only showing top 20 rows"
     ]
    }
   ],
   "source": [
    "spark.sql(\"\"\"\n",
    " select  * from `banda-etl-s3`.t_admin_audit limit 100\n",
    "\"\"\").show()\n",
    "# .write.mode(\"overwrite\").partitionBy(\"year\",\"month\",\"day\").orc(\"s3://rupiahplus-data-warehouse/stream/demo/t_admin_audit\") "
   ]
  },
  {
   "cell_type": "code",
   "execution_count": 21,
   "metadata": {},
   "outputs": [
    {
     "data": {
      "application/vnd.jupyter.widget-view+json": {
       "model_id": "151dbee094d1460b86763acbc6d83f67",
       "version_major": 2,
       "version_minor": 0
      },
      "text/plain": [
       "VBox()"
      ]
     },
     "metadata": {},
     "output_type": "display_data"
    },
    {
     "data": {
      "application/vnd.jupyter.widget-view+json": {
       "model_id": "",
       "version_major": 2,
       "version_minor": 0
      },
      "text/plain": [
       "FloatProgress(value=0.0, bar_style='info', description='Progress:', layout=Layout(height='25px', width='50%'),…"
      ]
     },
     "metadata": {},
     "output_type": "display_data"
    },
    {
     "name": "stdout",
     "output_type": "stream",
     "text": [
      "DataFrame[]"
     ]
    }
   ],
   "source": [
    "spark.conf.set(\"hive.exec.dynamic.partition\", \"true\")\n",
    "spark.conf.set(\"hive.exec.dynamic.partition.mode\",\"nonstrict\");\n",
    "spark.conf.set(\"spark.sql.sources.partitionOverwriteMode\", \"dynamic\")\n",
    "spark.sql(\"\"\" \n",
    "insert overwrite table `partitions_etl`.`t_admin_audit` \n",
    "    select   etldate,id,admin_id,access_mode,topic,subject,loan_app_id,param_l,param_h,comment,create_time,ip,'2020' as year \n",
    "     FROM  (   SELECT    *  , row_number() OVER (PARTITION BY id  ORDER BY date_format(etldate,'yyyy-MM-dd HH:mm:ss.SSS') DESC  , if(etlindex is null ,0,etlindex)  desc)  row_num FROM  `banda_stream_etl`.`t_admin_audit` ORDER BY id  ASC )  a  WHERE a.row_num = 1 AND a.kind <> 'delete'\n",
    "\"\"\")"
   ]
  },
  {
   "cell_type": "code",
   "execution_count": 8,
   "metadata": {},
   "outputs": [
    {
     "data": {
      "application/vnd.jupyter.widget-view+json": {
       "model_id": "4269e5c3485c422ba862b1bd6cbdad1d",
       "version_major": 2,
       "version_minor": 0
      },
      "text/plain": [
       "VBox()"
      ]
     },
     "metadata": {},
     "output_type": "display_data"
    },
    {
     "data": {
      "application/vnd.jupyter.widget-view+json": {
       "model_id": "",
       "version_major": 2,
       "version_minor": 0
      },
      "text/plain": [
       "FloatProgress(value=0.0, bar_style='info', description='Progress:', layout=Layout(height='25px', width='50%'),…"
      ]
     },
     "metadata": {},
     "output_type": "display_data"
    },
    {
     "name": "stdout",
     "output_type": "stream",
     "text": [
      "root\n",
      " |-- kind: string (nullable = true)\n",
      " |-- etldate: string (nullable = true)\n",
      " |-- etlindex: integer (nullable = true)\n",
      " |-- id: long (nullable = true)\n",
      " |-- admin_id: long (nullable = true)\n",
      " |-- access_mode: string (nullable = true)\n",
      " |-- topic: string (nullable = true)\n",
      " |-- subject: string (nullable = true)\n",
      " |-- loan_app_id: long (nullable = true)\n",
      " |-- param_l: string (nullable = true)\n",
      " |-- param_h: string (nullable = true)\n",
      " |-- comment: string (nullable = true)\n",
      " |-- create_time: timestamp (nullable = true)\n",
      " |-- ip: string (nullable = true)\n",
      " |-- year: string (nullable = false)\n",
      " |-- month: string (nullable = false)\n",
      " |-- day: string (nullable = false)"
     ]
    }
   ],
   "source": [
    "spark.sql(\"\"\"\n",
    " select   kind,etldate,etlindex,id,admin_id,access_mode,topic,subject,loan_app_id,param_l,param_h,comment,create_time,ip,'2020' as year,'09' as month,'11' as day\n",
    "  from  `banda_stream_etl`.`t_admin_audit`\n",
    "\"\"\").printSchema()"
   ]
  },
  {
   "cell_type": "code",
   "execution_count": null,
   "metadata": {},
   "outputs": [
    {
     "data": {
      "application/vnd.jupyter.widget-view+json": {
       "model_id": "882a903bcb024aa0a56795ef591bf558",
       "version_major": 2,
       "version_minor": 0
      },
      "text/plain": [
       "VBox()"
      ]
     },
     "metadata": {},
     "output_type": "display_data"
    },
    {
     "data": {
      "application/vnd.jupyter.widget-view+json": {
       "model_id": "",
       "version_major": 2,
       "version_minor": 0
      },
      "text/plain": [
       "FloatProgress(value=0.0, bar_style='info', description='Progress:', layout=Layout(height='25px', width='50%'),…"
      ]
     },
     "metadata": {},
     "output_type": "display_data"
    },
    {
     "name": "stdout",
     "output_type": "stream",
     "text": [
      "None\n",
      "None\n",
      "None\n",
      "None\n",
      "None\n",
      "None\n",
      "None\n",
      "None\n",
      "None\n",
      "None\n",
      "None\n",
      "None\n",
      "None\n",
      "None\n",
      "None\n",
      "None\n",
      "None\n",
      "None\n",
      "None\n",
      "None\n",
      "None\n",
      "None\n",
      "None\n",
      "None\n",
      "None\n",
      "None\n",
      "None\n",
      "None\n",
      "None\n",
      "None\n",
      "None\n",
      "None\n",
      "None\n",
      "None\n",
      "None\n",
      "None\n",
      "None\n",
      "None\n",
      "None\n",
      "None\n",
      "None\n",
      "None\n",
      "None\n",
      "None\n",
      "None\n",
      "None\n",
      "None\n",
      "None\n",
      "None\n",
      "None"
     ]
    }
   ],
   "source": [
    "import sys\n",
    "from concurrent import futures\n",
    "import numpy as np\n",
    "from pyspark.sql import SparkSession\n",
    "import pyspark.sql.functions as F\n",
    "from datetime import datetime,timedelta\n",
    "import pytz\n",
    "import copy\n",
    "dbmap={\n",
    "    \"banda\":{\n",
    "        \"increment_database\":\"banda_stream_etl\",\n",
    "        \"database\":\"partitions_etl\",\n",
    "        \"realTime_path\":\"banda\"\n",
    "        \n",
    "    },\n",
    "#     \"luzon\":{\n",
    "#          \"increment_database\":\"luzon_stream_etl\",\n",
    "#          \"database\":\"luzon_etl_s3\",\n",
    "#          \"realTime_path\":\"luzon\"\n",
    "#     },\n",
    "#     \"telemarket\":{\n",
    "#          \"increment_database\":\"telemarket_stream_etl\",\n",
    "#          \"database\":\"telemarket_etl_s3\",\n",
    "#          \"realTime_path\":\"telemarket\"\n",
    "#     }\n",
    "}\n",
    "# increment_database=\"banda_stream_etl\"\n",
    "# # tableNm=\"t_loan_app\"\n",
    "# database=\"banda-etl-s3\"\n",
    "nowdate=(datetime.now()).strftime('%Y-%m-%d')\n",
    "yesterday=(datetime.now()+ timedelta(-1)).strftime('%Y-%m-%d')\n",
    "sqltemp=\"\"\"with {update_snapshot_table} as (\n",
    "  select *\n",
    "    from (\n",
    "      SELECT * ,\n",
    "         row_number() OVER (PARTITION BY id ORDER BY date_format(etldate,'yyyy-MM-dd HH:mm:ss.SSS') DESC, if(etlindex is NULL, 0, etlindex) desc) row_num\n",
    "      FROM `{increment_database}`.`{tableNm}`\n",
    "      where date(year || '-' || month || '-' || day) <=date('{nowdate}') and date(year || '-' || month || '-' || day) >= date('{yesterday}')\n",
    "      )\n",
    "    where row_num = 1\n",
    "  )\n",
    "select  {select_sql} \n",
    "from `{database}`.`{tableNm}` l\n",
    "left join {update_snapshot_table}\n",
    "on l.id = {update_snapshot_table}.id\n",
    "where if({update_snapshot_table}.kind is not null,{update_snapshot_table}.kind,'') <> 'delete'\n",
    "union\n",
    "select {update_snapshot_sql} from (\n",
    "  select *\n",
    "  from `{increment_database}`.`{tableNm}`\n",
    "  where\n",
    "    date(year || '-' || month || '-' || day) <=date('{nowdate}') and date(year || '-' || month || '-' || day) >= date('{yesterday}')\n",
    "    and kind = 'insert'\n",
    "  ) new\n",
    "left join {update_snapshot_table}\n",
    "on new.id = {update_snapshot_table}.id where if({update_snapshot_table}.kind is not null,{update_snapshot_table}.kind,'') <> 'delete'\"\"\"\n",
    "def getTableColum(b,update_snapshot_table):\n",
    "    colum=\"\"\n",
    "    snapshot_colum=\"\"\n",
    "    sqlstrtemp=\"if({update_snapshot_table}.id is null, {colNm}     , {snapshot_colNm})  {ascolNm} ,\"\n",
    "    for index in range(len(b)):\n",
    "        if(index==1 or (index>2 and index<len(b)-7)):   \n",
    "            sqlstr=copy.copy(sqlstrtemp)\n",
    "            colum=colum+sqlstr.format(colNm=setDef(b[index][\"data_type\"],b[index][\"col_name\"],False),snapshot_colNm=setDef(b[index][\"data_type\"],b[index][\"col_name\"],True),ascolNm=b[index][\"col_name\"],update_snapshot_table=update_snapshot_table)\n",
    "            snapshot_colum=snapshot_colum+setSnapshotDef(b[index][\"data_type\"],b[index][\"col_name\"]).format(update_snapshot_table=update_snapshot_table)+\" ,\"\n",
    "    return colum[0:len(colum)-2],snapshot_colum[0:len(snapshot_colum)-2]\n",
    "def setDef(type,table_col,is_snapshot):\n",
    "    if(type[:7] == 'decimal'):\n",
    "        if is_snapshot:\n",
    "            return \"ifnull({update_snapshot_table}.\"+table_col+\",0)  \"\n",
    "        else:\n",
    "            return \"ifnull(l.\"+table_col+\",0) \"\n",
    "    else:\n",
    "        if is_snapshot:\n",
    "            return \"{update_snapshot_table}.\"+table_col\n",
    "        else:\n",
    "            return \"l.\"+table_col\n",
    "def setSnapshotDef(type,table_col):\n",
    "    if(type[:7] == 'decimal'):\n",
    "        return \"ifnull({update_snapshot_table}.\"+table_col+\",0) \"+table_col\n",
    "    else:\n",
    "        return \"{update_snapshot_table}.\"+table_col\n",
    "def execute(tablerow,dbtype):\n",
    "#     print(tablerow,dbtype)\n",
    "    tableNm=tablerow[\"tableName\"]\n",
    "    if tableNm=='t_admin_audit':\n",
    "        update_snapshot_table=\"update_snapshot_\"+dbtype+\"_\"+tableNm\n",
    "        spark.catalog.refreshTable(\"`\"+dbmap[dbtype][\"database\"]+\"`.\"+tableNm)\n",
    "        col=spark.sql(\"desc `\"+dbmap[dbtype][\"increment_database\"]+\"`.\"+tableNm).collect()\n",
    "        #     #真正的列,增量的列\n",
    "        real_col,snapshot_col=getTableColum(col,update_snapshot_table)\n",
    "        sql=copy.copy(sqltemp)\n",
    "        real_sql=sql.format(increment_database=dbmap[dbtype][\"increment_database\"],tableNm=tableNm,nowdate=nowdate,select_sql=real_col.format(update_snapshot_table=update_snapshot_table),update_snapshot_sql=snapshot_col.format(update_snapshot_table=update_snapshot_table),database=dbmap[dbtype][\"database\"],yesterday=yesterday,update_snapshot_table=update_snapshot_table)\n",
    "        #         tablepath=\"s3://rupiahplus-data-warehouse/aliyun/\"+dbmap[dbtype][\"realTime_path\"]+\"/\"+tableNm\n",
    "#         print(real_sql)\n",
    "    #         spark.sql(real_sql).drop(\"etlindex\").write.mode(\"overwrite\").orc(tablepath)\n",
    "    #         spark.sql(real_sql).where(\"id==1731052\").show()\n",
    "        spark.sql(real_sql).drop(\"etlindex\").write.mode(\"overwrite\").partitionBy(\"year\").format(\"orc\").saveAsTable(\"etl_s3_temp.\"+dbtype+\"_\"+tableNm+\"demo\");\n",
    "# # #         spark.sql\n",
    "        spark.sql(\" insert overwrite table `partitions_etl`.`t_admin_audit`  select  * from  \"+\"etl_s3_temp.\"+dbtype+\"_\"+tableNm+\"demo\")\n",
    "#     .write.mode(\"overwrite\").orc(tablepath)\n",
    "if __name__ == \"builtins\":\n",
    "    spark = SparkSession\\\n",
    "        .builder\\\n",
    "        .appName(\"Python Demo\")\\\n",
    "        .config(\"hive.metastore.client.factory.class\", \"com.amazonaws.glue.catalog.metastore.AWSGlueDataCatalogHiveClientFactory\") \\\n",
    "        .config(\"spark.driver.maxResultSize\", \"4g\") \\\n",
    "        .enableHiveSupport()\\\n",
    "        .getOrCreate()\n",
    "    spark.conf.set(\"hive.exec.dynamic.partition.mode\",\"nonstrict\");\n",
    "    spark.conf.set(\"spark.sql.sources.partitionOverwriteMode\", \"dynamic\")\n",
    "    spark.conf.set(\"spark.files.overwrite\",\"true\")\n",
    "#     ,Apache Arrow：一个跨平台的在内存中以列式存储的数据层，用来加速大数据分析速度。其可以一次性传入更大块的数据，pyspark中已经有载入该模块，需要打开该设置：\n",
    "    spark.conf.set(\"spark.sql.execution.arrow.enabled\", \"true\")\n",
    "#     创建表时自动删除已存在的目录\n",
    "    spark.conf.set(\"spark.sql.legacy.allowCreatingManagedTableUsingNonemptyLocation\",\"true\")\n",
    "    for dbtype in dbmap:\n",
    "        databasesql=\"show tables in \"+dbmap[dbtype][\"increment_database\"]\n",
    "        tables=spark.sql(databasesql)\n",
    "        tablelist=tables.collect();\n",
    "    #         for row in tablelist:\n",
    "        executor=None\n",
    "        with futures.ThreadPoolExecutor(max_workers=10) as executor:\n",
    "            futures_result=futures.wait([executor.submit(execute, table,dbtype) for table in tablelist])\n",
    "            for  future in futures_result[0]:\n",
    "                print(future.result())"
   ]
  },
  {
   "cell_type": "code",
   "execution_count": 4,
   "metadata": {},
   "outputs": [
    {
     "data": {
      "application/vnd.jupyter.widget-view+json": {
       "model_id": "4353b1eeef1040ac982e884870669e23",
       "version_major": 2,
       "version_minor": 0
      },
      "text/plain": [
       "VBox()"
      ]
     },
     "metadata": {},
     "output_type": "display_data"
    },
    {
     "data": {
      "application/vnd.jupyter.widget-view+json": {
       "model_id": "",
       "version_major": 2,
       "version_minor": 0
      },
      "text/plain": [
       "FloatProgress(value=0.0, bar_style='info', description='Progress:', layout=Layout(height='25px', width='50%'),…"
      ]
     },
     "metadata": {},
     "output_type": "display_data"
    },
    {
     "name": "stdout",
     "output_type": "stream",
     "text": [
      "+--------------------+-------+--------+-----------+--------------------+-------+-----------+-------------+------------+--------------------+--------------------+---------------+\n",
      "|             etldate|     id|admin_id|access_mode|               topic|subject|loan_app_id|      param_l|     param_h|             comment|         create_time|             ip|\n",
      "+--------------------+-------+--------+-----------+--------------------+-------+-----------+-------------+------------+--------------------+--------------------+---------------+\n",
      "|2020-08-19 09:18:...|1190764|  100031|    PRIVATE|              REPORT|  QUERY|       null|   loan-issue|        null|param:{paidOffSta...|2020-08-19 09:18:...|           null|\n",
      "|2020-08-16 11:34:...|1190757|  100001|    PRIVATE|               LOGIN|  QUERY|       null|         null|        null|                null|2020-08-16 11:34:...|112.211.138.255|\n",
      "| 2019-12-30 23:59:59| 646513|  100063|    PRIVATE|     REVIEW_COMMENTS| INSERT|     210474|         null|        null|send a payment re...|2019-10-21 08:17:...|           null|\n",
      "| 2019-12-30 23:59:59| 646523|  100057|    PRIVATE|     REVIEW_COMMENTS| INSERT|     203203|         null|        null|SEND A SMS THAT T...|2019-10-21 08:18:...|           null|\n",
      "| 2019-12-30 23:59:59| 646559|  100061|    PRIVATE|     REVIEW_COMMENTS| INSERT|     197956|         null|        null|639481062790 KOR ...|2019-10-21 08:26:...|           null|\n",
      "| 2019-12-30 23:59:59| 646577|  100059|    PRIVATE|     REVIEW_COMMENTS| INSERT|     209850|         null|        null|send a payment re...|2019-10-21 08:28:...|           null|\n",
      "| 2019-12-30 23:59:59| 646599|  100027|    PRIVATE|       REVIEW_REJECT| INSERT|     219199| FIRST_REVIEW|    REJECTED|ALL CONTACTS ARE ...|2019-10-21 08:31:...| 180.191.155.55|\n",
      "| 2019-12-30 23:59:59| 646612|  100027|    PRIVATE|ASSIGN_LOAN_TO_RE...| UPDATE|     219201|       100027|FIRST_REVIEW|assignLoanAppToAdmin|2019-10-21 08:36:...| 180.191.155.55|\n",
      "| 2019-12-30 23:59:59| 646624|  100035|    PRIVATE|      REVIEW_APPROVE| INSERT|     219211|SECOND_REVIEW|FINAL_REVIEW|                null|2019-10-21 08:38:...| 180.191.155.55|\n",
      "| 2019-12-30 23:59:59| 646691|  100063|    PRIVATE|REVIEW_COLLECTION...| INSERT|     207712|         null|        null|{\"collectionMetho...|2019-10-21 08:53:...|           null|\n",
      "+--------------------+-------+--------+-----------+--------------------+-------+-----------+-------------+------------+--------------------+--------------------+---------------+"
     ]
    }
   ],
   "source": [
    "spark.sql(\"\"\"\n",
    "SELECT * FROM `luzon_etl_s3`.`t_admin_audit`  limit 10\n",
    "\"\"\").show()"
   ]
  },
  {
   "cell_type": "code",
   "execution_count": 1,
   "metadata": {},
   "outputs": [
    {
     "data": {
      "application/vnd.jupyter.widget-view+json": {
       "model_id": "804f5504237a4aa9932de3d46f046a8e",
       "version_major": 2,
       "version_minor": 0
      },
      "text/plain": [
       "VBox()"
      ]
     },
     "metadata": {},
     "output_type": "display_data"
    },
    {
     "name": "stdout",
     "output_type": "stream",
     "text": [
      "Starting Spark application\n"
     ]
    },
    {
     "data": {
      "text/html": [
       "<table>\n",
       "<tr><th>ID</th><th>YARN Application ID</th><th>Kind</th><th>State</th><th>Spark UI</th><th>Driver log</th><th>Current session?</th></tr><tr><td>2</td><td>application_1602734624556_0003</td><td>pyspark</td><td>idle</td><td><a target=\"_blank\" href=\"http://ip-172-31-7-15.ap-southeast-1.compute.internal:20888/proxy/application_1602734624556_0003/\">Link</a></td><td><a target=\"_blank\" href=\"http://ip-172-31-3-88.ap-southeast-1.compute.internal:8042/node/containerlogs/container_1602734624556_0003_01_000001/livy\">Link</a></td><td>✔</td></tr></table>"
      ],
      "text/plain": [
       "<IPython.core.display.HTML object>"
      ]
     },
     "metadata": {},
     "output_type": "display_data"
    },
    {
     "data": {
      "application/vnd.jupyter.widget-view+json": {
       "model_id": "",
       "version_major": 2,
       "version_minor": 0
      },
      "text/plain": [
       "FloatProgress(value=0.0, bar_style='info', description='Progress:', layout=Layout(height='25px', width='50%'),…"
      ]
     },
     "metadata": {},
     "output_type": "display_data"
    },
    {
     "name": "stdout",
     "output_type": "stream",
     "text": [
      "SparkSession available as 'spark'.\n"
     ]
    },
    {
     "data": {
      "application/vnd.jupyter.widget-view+json": {
       "model_id": "",
       "version_major": 2,
       "version_minor": 0
      },
      "text/plain": [
       "FloatProgress(value=0.0, bar_style='info', description='Progress:', layout=Layout(height='25px', width='50%'),…"
      ]
     },
     "metadata": {},
     "output_type": "display_data"
    },
    {
     "name": "stdout",
     "output_type": "stream",
     "text": [
      "+--------------------+--------+--------------------+-----------+-------+--------------------+----------------+------------+-------+-------------+------+--------------+--------------------+--------------------+--------+--------------------+--------------------+--------------------+----+\n",
      "|             etldate|      id|       riskengine_id|customer_id|loan_id|                name|             ktp|      mobile|success|error_message|result|reject_message|         create_time|         finish_time|duration|         real_policy|switch_manual_reason|            raw_data|year|\n",
      "+--------------------+--------+--------------------+-----------+-------+--------------------+----------------+------------+-------+-------------+------+--------------+--------------------+--------------------+--------+--------------------+--------------------+--------------------+----+\n",
      "|2020-10-14 00:20:...|12217021|62f3678d-6194-5e9...|    4425405|9055515|   DJUMIATI SUNARSIH|3275096505690014|085828740572|   true|         null|  PASS|          null|2020-10-14 00:20:...|2020-10-14 00:20:...|    4409|     allow_to_access|                null|TaskDetail(taskId...|2020|\n",
      "|2020-10-14 00:23:...|12217077|1d65b0a0-2a35-53b...|    1129626|9055535|         Fiqi Ashadi|3173060507820022|081291165869|   true|         null|  PASS|          null|2020-10-14 00:23:...|2020-10-14 00:23:...|     729|repayday_amount_s...|                null|{\"minAmount\":\"400...|2020|\n",
      "|2020-10-14 00:38:...|12217215|6f48ccda-b6e2-55b...|    4459257|9055599|          Edysuncoko|3522241011700010|085257510778|   true|         null|  PASS|          null|2020-10-14 00:38:...|2020-10-14 00:38:...|    3855|     allow_to_access|                null|TaskDetail(taskId...|2020|\n",
      "|2020-10-14 01:31:...|12217975|e6f96b12-74f5-514...|    4460757|9055944|       Agung santoso|3517081209970006|087807912565|   true|         null|  PASS|          null|2020-10-14 01:31:...|2020-10-14 01:31:...|   11351|      manual_if_fail|                null|TaskDetail(taskId...|2020|\n",
      "|2020-10-14 01:45:...|12218218|cececbfe-2a4a-587...|    2736836|9056046|             nurhadi|3601250806840001|082123936713|   true|         null|  PASS|          null|2020-10-14 01:45:...|2020-10-14 01:45:...|   11621|      manual_if_fail|                null|TaskDetail(taskId...|2020|\n",
      "|2020-10-14 02:57:...|12219822|276b8f69-7d42-561...|    1853945|9050319|        Ahmad faizal|3174081809740002|081318981270|  false|         null|  null|          null|2020-10-14 02:57:...|2020-10-14 02:57:...|       0|     allow_to_access|                null|                null|2020|\n",
      "|2020-10-14 03:00:...|12220050|b9651bef-04a6-537...|    4408238|9050185|         BENI TOPANI|3217100506920020|081357863400|   true|         null|  PASS|          null|2020-10-14 03:00:...|2020-10-14 03:00:...|   36167|     allow_to_access|                null|TaskDetail(taskId...|2020|\n",
      "|2020-10-14 03:10:...|12220445|309dff82-6f23-5f9...|    4402236|9056768|Timbul Fransiskus...|1272060110970001|082362557123|   true|         null|MANUAL|          null|2020-10-14 03:10:...|2020-10-14 03:10:...|    7161|      manual_if_fail|                null|TaskDetail(taskId...|2020|\n",
      "|2020-10-14 03:17:...|12220618|52ce32ae-aca6-569...|    4460077|9054417|           SUPRIYONO|3318212108810001|082133535907|   true|         null|  PASS|          null|2020-10-14 03:17:...|2020-10-14 03:17:...|     835|   autoreview_payday|                null|TaskDetail(taskId...|2020|\n",
      "|2020-10-14 03:21:...|12220721|709476b0-2bdc-552...|    4461062|9056878|Dhyan dwi pramita...|3319077010870001|081391157272|   true|         null|  PASS|          null|2020-10-14 03:21:...|2020-10-14 03:21:...|   13001|multiplatform_and...|                null|TaskDetail(taskId...|2020|\n",
      "+--------------------+--------+--------------------+-----------+-------+--------------------+----------------+------------+-------+-------------+------+--------------+--------------------+--------------------+--------+--------------------+--------------------+--------------------+----+"
     ]
    }
   ],
   "source": [
    "spark.sql(\"\"\"\n",
    "SELECT * FROM `banda-etl-s3`.`t_auto_review_loan`  limit 10\n",
    "\"\"\").show()"
   ]
  },
  {
   "cell_type": "code",
   "execution_count": 1,
   "metadata": {},
   "outputs": [
    {
     "data": {
      "application/vnd.jupyter.widget-view+json": {
       "model_id": "0818337c4956435eac0825ab10af9f74",
       "version_major": 2,
       "version_minor": 0
      },
      "text/plain": [
       "VBox()"
      ]
     },
     "metadata": {},
     "output_type": "display_data"
    },
    {
     "name": "stdout",
     "output_type": "stream",
     "text": [
      "Starting Spark application\n"
     ]
    },
    {
     "data": {
      "text/html": [
       "<table>\n",
       "<tr><th>ID</th><th>YARN Application ID</th><th>Kind</th><th>State</th><th>Spark UI</th><th>Driver log</th><th>Current session?</th></tr><tr><td>0</td><td>application_1609550468958_0003</td><td>pyspark</td><td>idle</td><td><a target=\"_blank\" href=\"http://ip-10-3-0-30.ap-southeast-1.compute.internal:20888/proxy/application_1609550468958_0003/\">Link</a></td><td><a target=\"_blank\" href=\"http://ip-10-3-0-47.ap-southeast-1.compute.internal:8042/node/containerlogs/container_1609550468958_0003_01_000001/livy\">Link</a></td><td>✔</td></tr></table>"
      ],
      "text/plain": [
       "<IPython.core.display.HTML object>"
      ]
     },
     "metadata": {},
     "output_type": "display_data"
    },
    {
     "data": {
      "application/vnd.jupyter.widget-view+json": {
       "model_id": "",
       "version_major": 2,
       "version_minor": 0
      },
      "text/plain": [
       "FloatProgress(value=0.0, bar_style='info', description='Progress:', layout=Layout(height='25px', width='50%'),…"
      ]
     },
     "metadata": {},
     "output_type": "display_data"
    },
    {
     "name": "stdout",
     "output_type": "stream",
     "text": [
      "SparkSession available as 'spark'.\n"
     ]
    },
    {
     "data": {
      "application/vnd.jupyter.widget-view+json": {
       "model_id": "",
       "version_major": 2,
       "version_minor": 0
      },
      "text/plain": [
       "FloatProgress(value=0.0, bar_style='info', description='Progress:', layout=Layout(height='25px', width='50%'),…"
      ]
     },
     "metadata": {},
     "output_type": "display_data"
    },
    {
     "name": "stdout",
     "output_type": "stream",
     "text": [
      "[Row(database='banda_stream_etl', tableName='t_admin', isTemporary=False), Row(database='banda_stream_etl', tableName='t_admin_audit', isTemporary=False), Row(database='banda_stream_etl', tableName='t_admin_group_rel', isTemporary=False), Row(database='banda_stream_etl', tableName='t_af_bill', isTemporary=False), Row(database='banda_stream_etl', tableName='t_ai_rudder_schedule_mobile', isTemporary=False), Row(database='banda_stream_etl', tableName='t_auto_review_loan', isTemporary=False), Row(database='banda_stream_etl', tableName='t_bankcard', isTemporary=False), Row(database='banda_stream_etl', tableName='t_bankcard_merchant', isTemporary=False), Row(database='banda_stream_etl', tableName='t_bankcard_verify', isTemporary=False), Row(database='banda_stream_etl', tableName='t_case_distribution_log', isTemporary=False), Row(database='banda_stream_etl', tableName='t_channel_details', isTemporary=False), Row(database='banda_stream_etl', tableName='t_clear_detail_log', isTemporary=False), Row(database='banda_stream_etl', tableName='t_code', isTemporary=False), Row(database='banda_stream_etl', tableName='t_collection_audit', isTemporary=False), Row(database='banda_stream_etl', tableName='t_collection_blacklist', isTemporary=False), Row(database='banda_stream_etl', tableName='t_contact', isTemporary=False), Row(database='banda_stream_etl', tableName='t_coupon_request', isTemporary=False), Row(database='banda_stream_etl', tableName='t_coupon_send', isTemporary=False), Row(database='banda_stream_etl', tableName='t_customer', isTemporary=False), Row(database='banda_stream_etl', tableName='t_customer_app', isTemporary=False), Row(database='banda_stream_etl', tableName='t_customer_device_info', isTemporary=False), Row(database='banda_stream_etl', tableName='t_customer_install_info', isTemporary=False), Row(database='banda_stream_etl', tableName='t_customer_tag_rel', isTemporary=False), Row(database='banda_stream_etl', tableName='t_employment', isTemporary=False), Row(database='banda_stream_etl', tableName='t_engine_rule_detail', isTemporary=False), Row(database='banda_stream_etl', tableName='t_file', isTemporary=False), Row(database='banda_stream_etl', tableName='t_group', isTemporary=False), Row(database='banda_stream_etl', tableName='t_hit_blacklist_record', isTemporary=False), Row(database='banda_stream_etl', tableName='t_invitation', isTemporary=False), Row(database='banda_stream_etl', tableName='t_job_metric', isTemporary=False), Row(database='banda_stream_etl', tableName='t_loan_app', isTemporary=False), Row(database='banda_stream_etl', tableName='t_loan_app_review_summary', isTemporary=False), Row(database='banda_stream_etl', tableName='t_loan_app_status_log', isTemporary=False), Row(database='banda_stream_etl', tableName='t_loan_issue', isTemporary=False), Row(database='banda_stream_etl', tableName='t_loan_log', isTemporary=False), Row(database='banda_stream_etl', tableName='t_loan_tag_rel', isTemporary=False), Row(database='banda_stream_etl', tableName='t_login_log', isTemporary=False), Row(database='banda_stream_etl', tableName='t_lpay', isTemporary=False), Row(database='banda_stream_etl', tableName='t_lpay_deposit', isTemporary=False), Row(database='banda_stream_etl', tableName='t_message', isTemporary=False), Row(database='banda_stream_etl', tableName='t_mobile_tag_rel', isTemporary=False), Row(database='banda_stream_etl', tableName='t_personal_info', isTemporary=False), Row(database='banda_stream_etl', tableName='t_record_bankcard', isTemporary=False), Row(database='banda_stream_etl', tableName='t_record_contact', isTemporary=False), Row(database='banda_stream_etl', tableName='t_record_employment', isTemporary=False), Row(database='banda_stream_etl', tableName='t_record_file', isTemporary=False), Row(database='banda_stream_etl', tableName='t_record_personal_info', isTemporary=False), Row(database='banda_stream_etl', tableName='t_review_blacklist', isTemporary=False), Row(database='banda_stream_etl', tableName='t_review_step_execution', isTemporary=False), Row(database='banda_stream_etl', tableName='t_send_coupon_rel', isTemporary=False), Row(database='banda_stream_etl', tableName='t_sms', isTemporary=False), Row(database='banda_stream_etl', tableName='t_test_customer', isTemporary=False), Row(database='banda_stream_etl', tableName='t_thirdparty_data', isTemporary=False), Row(database='banda_stream_etl', tableName='t_tongdun_data', isTemporary=False), Row(database='banda_stream_etl', tableName='t_virtual_account', isTemporary=False)]\n",
      " select 'insert' as kind, '2020-08-01 23:59:59' as etldate,0 as  etlindex, id, admin_id, access_mode, topic, subject, loan_app_id, param_l, param_h, comment, create_time, ip , '2020' as year,   '08' as month,  '01' as day from  banda_emr_etl.t_admin_audit\n",
      " select 'insert' as kind, '2020-08-01 23:59:59' as etldate,0 as  etlindex, id, mobile, password, full_name, type, status, failed_login_count, create_time, update_time, call_center_id_3cx, team_leader_id, password_salt, entry_time, token, auto_call_id_yixun, password_set_time, account_id , '2020' as year,   '08' as month,  '01' as day from  banda_emr_etl.t_admin\n",
      " select 'insert' as kind, '2020-08-01 23:59:59' as etldate,0 as  etlindex, id, event_name, media_source, agency, campaign, count, total_cost, start_date, end_date, price, create_time , '2020' as year,   '08' as month,  '01' as day from  banda_emr_etl.t_af_bill\n",
      " select 'insert' as kind, '2020-08-01 23:59:59' as etldate,0 as  etlindex, id, channel_key, af_channel, media_source, event_name, body, ip_address, create_time, fb_campaign_name, campaign, agency, fb_campaign_id, ga_id , '2020' as year,   '08' as month,  '01' as day from  banda_emr_etl.t_channel_details\n",
      " select 'insert' as kind, '2020-08-01 23:59:59' as etldate,0 as  etlindex, id, customer_id, loan_app_id, card_no, bank_code, province, city, branch, verify_account_holder_name, verify_status, create_time, update_time, holder_name, validation_id , '2020' as year,   '08' as month,  '01' as day from  banda_emr_etl.t_bankcard\n",
      " select 'insert' as kind, '2020-08-01 23:59:59' as etldate,0 as  etlindex, id, merchant_id, card_no, bank_code, swift_code, holder_name, verify_channel, verify_status, verify_account_holder_name, validation_id, fail_reason, remark, create_time, update_time , '2020' as year,   '08' as month,  '01' as day from  banda_emr_etl.t_bankcard_verify\n",
      " select 'insert' as kind, '2020-08-01 23:59:59' as etldate,0 as  etlindex, id, merchant_code, status, limit_num, white_list_ip, secret_key, callback_url, remark, create_time, update_time , '2020' as year,   '08' as month,  '01' as day from  banda_emr_etl.t_bankcard_merchant\n",
      " select 'insert' as kind, '2020-08-01 23:59:59' as etldate,0 as  etlindex, id, admin_id, ref_id, reviewer_id, trigger, topic, subject, comment, group_id, create_time , '2020' as year,   '08' as month,  '01' as day from  banda_emr_etl.t_case_distribution_log\n",
      " select 'insert' as kind, '2020-08-01 23:59:59' as etldate,0 as  etlindex, id, riskengine_id, customer_id, loan_id, name, ktp, mobile, cast (success as string ) as success, error_message, result, reject_message, create_time, finish_time, duration, real_policy, switch_manual_reason, raw_data , '2020' as year,   '08' as month,  '01' as day from  banda_emr_etl.t_auto_review_loan\n",
      " select 'insert' as kind, '2020-08-01 23:59:59' as etldate,0 as  etlindex, id, mobile, schedule_name, schedule_id, status, create_time, update_time, hangup_type, call_start, call_end, call_times, call_status, call_id, intention, ring_type , '2020' as year,   '08' as month,  '01' as day from  banda_emr_etl.t_ai_rudder_schedule_mobile\n",
      " select 'insert' as kind, '2020-08-01 23:59:59' as etldate,0 as  etlindex, admin_id, group_id, id , '2020' as year,   '08' as month,  '01' as day from  banda_emr_etl.t_admin_group_rel\n",
      " select 'insert' as kind, '2020-08-01 23:59:59' as etldate,0 as  etlindex, id, loan_id, lpay_id, deposit_id, lpay_status_before, lpay_status_after, principal, service_fee, interest, penalty, rollover, total, deposit_disburse, create_time, default_fee, rollover_principal_fee, loan_app_status, due_date, principal_accr, principal_paid, interest_accr, interest_paid, default_accr, default_paid, rollover_fee_accr, rollover_fee_paid, default_fee_accr, default_fee_paid, deposit_type , '2020' as year,   '08' as month,  '01' as day from  banda_emr_etl.t_clear_detail_log\n",
      " select 'insert' as kind, '2020-08-01 23:59:59' as etldate,0 as  etlindex, id, admin_id, collector_id, access_mode, topic, subject, loan_app_id, group_name, param, comment, create_time, ip , '2020' as year,   '08' as month,  '01' as day from  banda_emr_etl.t_collection_audit\n",
      " select 'insert' as kind, '2020-08-01 23:59:59' as etldate,0 as  etlindex, id, customer_id, customer_device_info_id, channel_details_id, event_name, af_channel, media_source, download_time, install_time, create_time , '2020' as year,   '08' as month,  '01' as day from  banda_emr_etl.t_customer_app\n",
      " select 'insert' as kind, '2020-08-01 23:59:59' as etldate,0 as  etlindex, id, customer_id, coupon_amount, structure, send_trigger, coupon_type, start_date, end_date, create_time, status , '2020' as year,   '08' as month,  '01' as day from  banda_emr_etl.t_coupon_send\n",
      " select 'insert' as kind, '2020-08-01 23:59:59' as etldate,0 as  etlindex, id, uid, mobile, email, password, invite_code, status, status_expired_time, last_login_time, failed_login_count, create_time, update_time, channel_key, imei, rated_interest_rate, inviter_id, rank, mobile_status, type, main_account , '2020' as year,   '08' as month,  '01' as day from  banda_emr_etl.t_customer\n",
      " select 'insert' as kind, '2020-08-01 23:59:59' as etldate,0 as  etlindex, id, customer_id, loan_id, coupon_amount, code, status, type, start_date, end_date, create_time, update_time , '2020' as year,   '08' as month,  '01' as day from  banda_emr_etl.t_coupon_request\n",
      " select 'insert' as kind, '2020-08-01 23:59:59' as etldate,0 as  etlindex, id, customer_id, loan_app_id, name, mobile, relation, credential_no, credential_type, address, company_name, job_title, create_time, update_time, comment, mobile_status, contact_status , '2020' as year,   '08' as month,  '01' as day from  banda_emr_etl.t_contact\n",
      " select 'insert' as kind, '2020-08-01 23:59:59' as etldate,0 as  etlindex, id, admin_id, customer_id, status, create_time, update_time, comment , '2020' as year,   '08' as month,  '01' as day from  banda_emr_etl.t_collection_blacklist\n",
      " select 'insert' as kind, '2020-08-01 23:59:59' as etldate,0 as  etlindex, id, customer_id, type, value, create_time, comment , '2020' as year,   '08' as month,  '01' as day from  banda_emr_etl.t_customer_device_info\n",
      " select 'insert' as kind, '2020-08-01 23:59:59' as etldate,0 as  etlindex, id, trigger, send_to, send_type, send_channel, code, status, create_time, update_time, failed_count , '2020' as year,   '08' as month,  '01' as day from  banda_emr_etl.t_code\n",
      " select 'insert' as kind, '2020-08-01 23:59:59' as etldate,0 as  etlindex, id, customer_id, channel_key, ga_id, imei, channel_details_id, event_name, af_channel, media_source, campaign, agency, fb_campaign_id, fb_campaign_name, download_time, install_time, create_time, android_id , '2020' as year,   '08' as month,  '01' as day from  banda_emr_etl.t_customer_install_info\n",
      " select 'insert' as kind, '2020-08-01 23:59:59' as etldate,0 as  etlindex, id, merchant_code, is_hit, status, hit_type, hit_content, fail_reason, id_address, param, create_time, update_time , '2020' as year,   '08' as month,  '01' as day from  banda_emr_etl.t_hit_blacklist_record\n",
      " select 'insert' as kind, '2020-08-01 23:59:59' as etldate,0 as  etlindex, id, name, type, status, description, parent_id, create_time, update_time , '2020' as year,   '08' as month,  '01' as day from  banda_emr_etl.t_group\n",
      " select 'insert' as kind, '2020-08-01 23:59:59' as etldate,0 as  etlindex, id, customer_id, loan_app_id, file_type, file_kind, path, metadata, create_time, update_time , '2020' as year,   '08' as month,  '01' as day from  banda_emr_etl.t_file\n",
      " select 'insert' as kind, '2020-08-01 23:59:59' as etldate,0 as  etlindex, id, loan_id, code, value, result, rule_name, description, auto_review_loan_id, create_time , '2020' as year,   '08' as month,  '01' as day from  banda_emr_etl.t_engine_rule_detail\n",
      " select 'insert' as kind, '2020-08-01 23:59:59' as etldate,0 as  etlindex, id, customer_id, loan_app_id, company_name, company_type, company_phone, company_size, company_province, company_city, company_district, company_area, company_address, company_establish_time, work_province, work_city, work_district, work_area, work_address, profession, title, salary, work_email, work_start_from, create_time, update_time, salary_day , '2020' as year,   '08' as month,  '01' as day from  banda_emr_etl.t_employment\n",
      " select 'insert' as kind, '2020-08-01 23:59:59' as etldate,0 as  etlindex, id, customer_id, tag_id, status, create_time, update_id, update_time, comment , '2020' as year,   '08' as month,  '01' as day from  banda_emr_etl.t_customer_tag_rel\n",
      " select 'insert' as kind, '2020-08-01 23:59:59' as etldate,0 as  etlindex, id, customer_id, status, sub_status, full_name, credential_no, credential_type, loan_type, amount, repayment_type, service_fee, pre_service_fee, interest_rate, period, period_unit, effective_time, apply_for, apply_channel, apply_platform, comment, reviewer_id, create_time, update_time, paid_off_mode, parent_id, apply_purpose, imei, ip, grace_period_rate, overdue_rate, haircut, haircut_issue_status, haircut_rate, product_name, current_lpay_id, android_id, initial_loan_id, version_code, default_fee_rate, default_factory, nper , '2020' as year,   '08' as month,  '01' as day from  banda_emr_etl.t_loan_app\n",
      " select 'insert' as kind, '2020-08-01 23:59:59' as etldate,0 as  etlindex, id, job_name, uuid, duration, start_time, end_time, status, message, instance , '2020' as year,   '08' as month,  '01' as day from  banda_emr_etl.t_job_metric\n",
      " select 'insert' as kind, '2020-08-01 23:59:59' as etldate,0 as  etlindex, id, inviter_id, invitee_id, type, version, status, reward, reward_type, disbursement_id, create_time, update_time, withdraw_history_id, risk_check, data_sources, data_level , '2020' as year,   '08' as month,  '01' as day from  banda_emr_etl.t_invitation\n",
      " select 'insert' as kind, '2020-08-01 23:59:59' as etldate,0 as  etlindex, id, customer_id, mobile, imei, ip, create_time, update_time, version_code, channel_key , '2020' as year,   '08' as month,  '01' as day from  banda_emr_etl.t_login_log\n",
      " select 'insert' as kind, '2020-08-01 23:59:59' as etldate,0 as  etlindex, id, loan_id, tag_id, status, create_time, update_id, update_time, comment , '2020' as year,   '08' as month,  '01' as day from  banda_emr_etl.t_loan_tag_rel\n",
      " select 'insert' as kind, '2020-08-01 23:59:59' as etldate,0 as  etlindex, id, customer_id, loan_id, type, create_time , '2020' as year,   '08' as month,  '01' as day from  banda_emr_etl.t_loan_log\n",
      " select 'insert' as kind, '2020-08-01 23:59:59' as etldate,0 as  etlindex, id, loan_app_id, customer_id, status, issue_amount, reached_amount, out_disbursement_no, disbursement_method, expire_time, reconcile_status, create_time, update_time, type, product_name , '2020' as year,   '08' as month,  '01' as day from  banda_emr_etl.t_loan_issue\n",
      " select 'insert' as kind, '2020-08-01 23:59:59' as etldate,0 as  etlindex, id, loan_app_id, operator_id, old_status, new_status, create_time , '2020' as year,   '08' as month,  '01' as day from  banda_emr_etl.t_loan_app_status_log\n",
      " select 'insert' as kind, '2020-08-01 23:59:59' as etldate,0 as  etlindex, id, loan_app_id, reviewing_loans_status, repaying_loans_status, rejected_loans_status, in_blacklist_status, info_completed_status, occupation_in_blacklist, first_review_admin_id, second_review_admin_id, final_review_admin_id, create_time, update_time, close_reason, reject_reason, analytic_result, profile, throttle_reason, test_flag, reject_code , '2020' as year,   '08' as month,  '01' as day from  banda_emr_etl.t_loan_app_review_summary\n",
      " select 'insert' as kind, '2020-08-01 23:59:59' as etldate,0 as  etlindex, id, loan_app_id, status, current_period, total_period, principal_accr, principal_paid, interest_accr, interest_paid, default_accr, default_paid, service_fee_accr, service_fee_paid, due_date, last_punishment_time, create_time, update_time, rollover_fee_accr, rollover_fee_paid, erase_amount, default_fee_accr, default_fee_paid, rollover_principal_paid, rollover_principal_accr, coupon_amount, rollover_principal_rate , '2020' as year,   '08' as month,  '01' as day from  banda_emr_etl.t_lpay\n",
      " select 'insert' as kind, '2020-08-01 23:59:59' as etldate,0 as  etlindex, id, lpay_id, customer_id, status, deposit_amount, arrived_amount, cleared_amount, deposit_channel, out_deposit_no, payment_code, deposit_method, reconcile_status, create_time, update_time, type, subtype, transaction_time , '2020' as year,   '08' as month,  '01' as day from  banda_emr_etl.t_lpay_deposit\n",
      " select 'insert' as kind, '2020-08-01 23:59:59' as etldate,0 as  etlindex, id, customer_id, name, mobile, relation, create_time, update_time, status, contact_priority , '2020' as year,   '08' as month,  '01' as day from  banda_emr_etl.t_record_contact\n",
      " select 'insert' as kind, '2020-08-01 23:59:59' as etldate,0 as  etlindex, id, customer_id, card_no, bank_code, create_time, update_time , '2020' as year,   '08' as month,  '01' as day from  banda_emr_etl.t_record_bankcard\n",
      " select 'insert' as kind, '2020-08-01 23:59:59' as etldate,0 as  etlindex, id, customer_id, loan_app_id, full_name, gender, credential_no, credential_type, province, city, district, area, address, last_education, marital_status, children_number, residence_duration, family_name_in_law, facebook_id, car_number, house_number, ethnic, religion, nationality, ktp_gender, ktp_province, ktp_city, ktp_district, ktp_date_of_birth, ktp_analyze_status, status, create_time, update_time, email, backup_mobile , '2020' as year,   '08' as month,  '01' as day from  banda_emr_etl.t_personal_info\n",
      " select 'insert' as kind, '2020-08-01 23:59:59' as etldate,0 as  etlindex, id, customer_id, loan_app_id, trigger, status, sms_status, app_push_status, app_inbox_status, message_body, create_time, update_time, voice_status , '2020' as year,   '08' as month,  '01' as day from  banda_emr_etl.t_message\n",
      " select 'insert' as kind, '2020-08-01 23:59:59' as etldate,0 as  etlindex, id, mobile, tag_id, status, create_time, update_id, update_time, comment , '2020' as year,   '08' as month,  '01' as day from  banda_emr_etl.t_mobile_tag_rel\n",
      " select 'insert' as kind, '2020-08-01 23:59:59' as etldate,0 as  etlindex, id, customer_id, file_type, file_kind, path, metadata, create_time, update_time, status , '2020' as year,   '08' as month,  '01' as day from  banda_emr_etl.t_record_file\n",
      " select 'insert' as kind, '2020-08-01 23:59:59' as etldate,0 as  etlindex, id, customer_id, company_name, company_province, company_city, company_district, company_area, company_address, company_phone, profession, salary, work_email, create_time, update_time, salary_day, t_employment, status, company_province_code, company_city_code, company_district_code, company_area_code , '2020' as year,   '08' as month,  '01' as day from  banda_emr_etl.t_record_employment\n",
      " select 'insert' as kind, '2020-08-01 23:59:59' as etldate,0 as  etlindex, id, sender, send_trigger, sendto, code, content, status, response, create_time, update_time, send_id , '2020' as year,   '08' as month,  '01' as day from  banda_emr_etl.t_sms\n",
      " select 'insert' as kind, '2020-08-01 23:59:59' as etldate,0 as  etlindex, id, sub_type, tag_id, customer_id, coupon_type, structure, use_start_time, use_end_time, operator_id, create_time, result , '2020' as year,   '08' as month,  '01' as day from  banda_emr_etl.t_send_coupon_rel\n",
      " select 'insert' as kind, '2020-08-01 23:59:59' as etldate,0 as  etlindex, id, admin_id, status, type, value, reason, create_time, extension_value, source , '2020' as year,   '08' as month,  '01' as day from  banda_emr_etl.t_review_blacklist\n",
      " select 'insert' as kind, '2020-08-01 23:59:59' as etldate,0 as  etlindex, id, loan_app_id, admin_id, step_id, status, trigger_status, run_mode, result, result_status, create_time, update_time , '2020' as year,   '08' as month,  '01' as day from  banda_emr_etl.t_review_step_execution\n",
      " select 'insert' as kind, '2020-08-01 23:59:59' as etldate,0 as  etlindex, id, customer_id, full_name, gender, credential_no, credential_type, province, city, district, area, address, family_name_in_law, facebook_id, last_education, marital_status, children_number, residence_duration, create_time, update_time, status, province_code, city_code, district_code, area_code, email, backup_mobile, apply_purpose, residence_status , '2020' as year,   '08' as month,  '01' as day from  banda_emr_etl.t_record_personal_info\n",
      " select 'insert' as kind, '2020-08-01 23:59:59' as etldate,0 as  etlindex, id, customer_id, channel, bank_code, type, account_number, unique_id, create_time, product_name , '2020' as year,   '08' as month,  '01' as day from  banda_emr_etl.t_virtual_account\n",
      " select 'insert' as kind, '2020-08-01 23:59:59' as etldate,0 as  etlindex, id, customer_id, status, create_time, update_time , '2020' as year,   '08' as month,  '01' as day from  banda_emr_etl.t_test_customer\n",
      " select 'insert' as kind, '2020-08-01 23:59:59' as etldate,0 as  etlindex, id, customer_id, loan_id, data_type, channel, result, request_id, response, create_time, deleted , '2020' as year,   '08' as month,  '01' as day from  banda_emr_etl.t_thirdparty_data\n",
      " select 'insert' as kind, '2020-08-01 23:59:59' as etldate,0 as  etlindex, id, customer_id, status, channel, task_id, response, create_time, update_time , '2020' as year,   '08' as month,  '01' as day from  banda_emr_etl.t_tongdun_data\n",
      "None\n",
      "None\n",
      "None\n",
      "None\n",
      "None\n",
      "None\n",
      "None\n",
      "None\n",
      "None\n",
      "None\n",
      "None\n",
      "None\n",
      "None\n",
      "None\n",
      "None\n",
      "None\n",
      "None\n",
      "None\n",
      "None\n",
      "None\n",
      "None\n",
      "None\n",
      "None\n",
      "None\n",
      "None\n",
      "None\n",
      "None\n",
      "None\n",
      "None\n",
      "None\n",
      "None\n",
      "None\n",
      "None\n",
      "None\n",
      "None\n",
      "None\n",
      "None\n",
      "None\n",
      "None\n",
      "None\n",
      "None\n",
      "None\n",
      "None\n",
      "None\n",
      "None\n",
      "None\n",
      "None\n",
      "None\n",
      "None\n",
      "None\n",
      "None\n",
      "None\n",
      "None\n",
      "None\n",
      "None"
     ]
    }
   ],
   "source": [
    "# -*- coding: UTF-8 -*-\n",
    "import sys\n",
    "from concurrent import futures\n",
    "import numpy as np\n",
    "from pyspark.sql import SparkSession\n",
    "from datetime import datetime,timedelta\n",
    "import pytz\n",
    "# tablemap={\"banda_emr_etl\":\"banda\"} #,\n",
    "tablemap={\"banda_emr_etl\":\"banda\"}\n",
    "# tableList={\"banda\":[\"t_admin\",\"t_admin_audit\"]} \n",
    "tableList={\"banda\":[\"*\"]}\n",
    "first=\" select 'insert' as kind, '2020-08-01 23:59:59' as etldate,0 as  etlindex, \"\n",
    "end=\" , '2020' as year,   '08' as month,  '01' as day from  \"\n",
    "def getTableColum(tableNm,b):\n",
    "    colum=\"\"\n",
    "    for index in range(len(b)):\n",
    "        colum=colum+setDef(b[index][\"data_type\"],b[index][\"col_name\"],tableNm)+\", \"\n",
    "    return colum[0:len(colum)-2]\n",
    "def setDef(type,table_col,tableNm):\n",
    "    if(tableNm=='t_auto_review_loan' and type[:7] == 'boolean'):\n",
    "        return \"cast (\"+table_col+\" as string ) as \"+table_col\n",
    "    else:\n",
    "        return table_col\n",
    "def make_col_temptable(databaseName,row):\n",
    "    tableName=row[\"tableName\"]\n",
    "    tablecolum=\"desc \" +databaseName+\".\"+tableName;\n",
    "    tableSchema= spark.sql(tablecolum).collect()\n",
    "    sql=first+ getTableColum(tableName,tableSchema)+end+databaseName+\".\"+tableName\n",
    "    print(sql)\n",
    "#     path=\"s3://rupiahplus-data-warehouse/stream/\"+tablemap[databaseName]+\"_etl/\"+tableName+\"/\"\n",
    "#     spark.sql(sql).write.mode(\"append\").partitionBy(\"year\",\"month\",\"day\").orc(path)\n",
    "if __name__ == \"builtins\":\n",
    "    spark = SparkSession\\\n",
    "        .builder\\\n",
    "        .appName(\"Python Demo\")\\\n",
    "        .config(\"hive.metastore.client.factory.class\", \"com.amazonaws.glue.catalog.metastore.AWSGlueDataCatalogHiveClientFactory\") \\\n",
    "        .enableHiveSupport()\\\n",
    "        .getOrCreate()\n",
    "#     spark.conf.set(\"spark.scheduler.mode\",\"FAIR\")\n",
    "    spark.conf.set(\"spark.sql.shuffle.partitions\",20)\n",
    "    for databaseName in tablemap:\n",
    "        databasesql=\"show tables in banda_stream_etl\"\n",
    "        tables=spark.sql(databasesql)\n",
    "        tablelist=tables.collect();\n",
    "        ls=[]\n",
    "        if tablemap[databaseName] in tableList :\n",
    "            for table in tableList[tablemap[databaseName]]:\n",
    "                if table=='*':\n",
    "                    ls =tablelist\n",
    "                else:\n",
    "                    ls=ls+[tb for tb in tablelist if tb[\"tableName\"]==table]\n",
    "            print(ls)\n",
    "            executor=None\n",
    "            with futures.ThreadPoolExecutor(max_workers=10) as executor:\n",
    "                futures_result=futures.wait([executor.submit(make_col_temptable,databaseName, tableNm) for tableNm in ls])\n",
    "                for  future in futures_result[0]:\n",
    "                    print(future.result())\n"
   ]
  },
  {
   "cell_type": "code",
   "execution_count": 6,
   "metadata": {},
   "outputs": [
    {
     "data": {
      "application/vnd.jupyter.widget-view+json": {
       "model_id": "845380171e8f4a4788ac33091562db2d",
       "version_major": 2,
       "version_minor": 0
      },
      "text/plain": [
       "VBox()"
      ]
     },
     "metadata": {},
     "output_type": "display_data"
    },
    {
     "data": {
      "application/vnd.jupyter.widget-view+json": {
       "model_id": "",
       "version_major": 2,
       "version_minor": 0
      },
      "text/plain": [
       "FloatProgress(value=0.0, bar_style='info', description='Progress:', layout=Layout(height='25px', width='50%'),…"
      ]
     },
     "metadata": {},
     "output_type": "display_data"
    },
    {
     "name": "stdout",
     "output_type": "stream",
     "text": [
      "[Row(database='banda_stream_etl', tableName='t_admin', isTemporary=False), Row(database='banda_stream_etl', tableName='t_admin_audit', isTemporary=False), Row(database='banda_stream_etl', tableName='t_admin_group_rel', isTemporary=False), Row(database='banda_stream_etl', tableName='t_af_bill', isTemporary=False), Row(database='banda_stream_etl', tableName='t_ai_rudder_schedule_mobile', isTemporary=False), Row(database='banda_stream_etl', tableName='t_auto_review_loan', isTemporary=False), Row(database='banda_stream_etl', tableName='t_bankcard', isTemporary=False), Row(database='banda_stream_etl', tableName='t_bankcard_merchant', isTemporary=False), Row(database='banda_stream_etl', tableName='t_bankcard_verify', isTemporary=False), Row(database='banda_stream_etl', tableName='t_case_distribution_log', isTemporary=False), Row(database='banda_stream_etl', tableName='t_channel_details', isTemporary=False), Row(database='banda_stream_etl', tableName='t_clear_detail_log', isTemporary=False), Row(database='banda_stream_etl', tableName='t_code', isTemporary=False), Row(database='banda_stream_etl', tableName='t_collection_audit', isTemporary=False), Row(database='banda_stream_etl', tableName='t_collection_blacklist', isTemporary=False), Row(database='banda_stream_etl', tableName='t_contact', isTemporary=False), Row(database='banda_stream_etl', tableName='t_coupon_request', isTemporary=False), Row(database='banda_stream_etl', tableName='t_coupon_send', isTemporary=False), Row(database='banda_stream_etl', tableName='t_customer', isTemporary=False), Row(database='banda_stream_etl', tableName='t_customer_app', isTemporary=False), Row(database='banda_stream_etl', tableName='t_customer_device_info', isTemporary=False), Row(database='banda_stream_etl', tableName='t_customer_install_info', isTemporary=False), Row(database='banda_stream_etl', tableName='t_customer_tag_rel', isTemporary=False), Row(database='banda_stream_etl', tableName='t_employment', isTemporary=False), Row(database='banda_stream_etl', tableName='t_engine_rule_detail', isTemporary=False), Row(database='banda_stream_etl', tableName='t_file', isTemporary=False), Row(database='banda_stream_etl', tableName='t_group', isTemporary=False), Row(database='banda_stream_etl', tableName='t_hit_blacklist_record', isTemporary=False), Row(database='banda_stream_etl', tableName='t_invitation', isTemporary=False), Row(database='banda_stream_etl', tableName='t_job_metric', isTemporary=False), Row(database='banda_stream_etl', tableName='t_loan_app', isTemporary=False), Row(database='banda_stream_etl', tableName='t_loan_app_review_summary', isTemporary=False), Row(database='banda_stream_etl', tableName='t_loan_app_status_log', isTemporary=False), Row(database='banda_stream_etl', tableName='t_loan_issue', isTemporary=False), Row(database='banda_stream_etl', tableName='t_loan_log', isTemporary=False), Row(database='banda_stream_etl', tableName='t_loan_tag_rel', isTemporary=False), Row(database='banda_stream_etl', tableName='t_login_log', isTemporary=False), Row(database='banda_stream_etl', tableName='t_lpay', isTemporary=False), Row(database='banda_stream_etl', tableName='t_lpay_deposit', isTemporary=False), Row(database='banda_stream_etl', tableName='t_message', isTemporary=False), Row(database='banda_stream_etl', tableName='t_mobile_tag_rel', isTemporary=False), Row(database='banda_stream_etl', tableName='t_personal_info', isTemporary=False), Row(database='banda_stream_etl', tableName='t_record_bankcard', isTemporary=False), Row(database='banda_stream_etl', tableName='t_record_contact', isTemporary=False), Row(database='banda_stream_etl', tableName='t_record_employment', isTemporary=False), Row(database='banda_stream_etl', tableName='t_record_file', isTemporary=False), Row(database='banda_stream_etl', tableName='t_record_personal_info', isTemporary=False), Row(database='banda_stream_etl', tableName='t_review_blacklist', isTemporary=False), Row(database='banda_stream_etl', tableName='t_review_step_execution', isTemporary=False), Row(database='banda_stream_etl', tableName='t_send_coupon_rel', isTemporary=False), Row(database='banda_stream_etl', tableName='t_sms', isTemporary=False), Row(database='banda_stream_etl', tableName='t_test_customer', isTemporary=False), Row(database='banda_stream_etl', tableName='t_thirdparty_data', isTemporary=False), Row(database='banda_stream_etl', tableName='t_tongdun_data', isTemporary=False), Row(database='banda_stream_etl', tableName='t_virtual_account', isTemporary=False)]\n",
      "t_admin\n",
      "t_admin_audit\n",
      "t_admin_group_rel\n",
      "t_af_bill\n",
      "t_ai_rudder_schedule_mobile\n",
      "t_auto_review_loan\n",
      "t_bankcard\n",
      "t_bankcard_merchant\n",
      "t_bankcard_verify\n",
      "t_case_distribution_log\n",
      "t_channel_details\n",
      "t_clear_detail_log\n",
      "Row(col_name='deposit_disburse', data_type='boolean', comment=None)\n",
      "t_code\n",
      "t_collection_audit\n",
      "t_collection_blacklist\n",
      "t_contact\n",
      "t_coupon_request\n",
      "t_coupon_send\n",
      "t_customer\n",
      "t_customer_app\n",
      "t_customer_device_info\n",
      "t_customer_install_info\n",
      "t_customer_tag_rel\n",
      "t_employment\n",
      "t_engine_rule_detail\n",
      "t_file\n",
      "t_group\n",
      "t_hit_blacklist_record\n",
      "t_invitation\n",
      "t_job_metric\n",
      "t_loan_app\n",
      "t_loan_app_review_summary\n",
      "t_loan_app_status_log\n",
      "t_loan_issue\n",
      "t_loan_log\n",
      "t_loan_tag_rel\n",
      "t_login_log\n",
      "t_lpay\n",
      "t_lpay_deposit\n",
      "t_message\n",
      "t_mobile_tag_rel\n",
      "t_personal_info\n",
      "t_record_bankcard\n",
      "t_record_contact\n",
      "t_record_employment\n",
      "t_record_file\n",
      "t_record_personal_info\n",
      "t_review_blacklist\n",
      "t_review_step_execution\n",
      "t_send_coupon_rel\n",
      "t_sms\n",
      "t_test_customer\n",
      "t_thirdparty_data\n",
      "Row(col_name='deleted', data_type='boolean', comment=None)\n",
      "t_tongdun_data\n",
      "t_virtual_account"
     ]
    }
   ],
   "source": [
    "df1=spark.sql(\"\"\"show tables in banda_stream_etl\"\"\").collect()\n",
    "print(df1)\n",
    "for i in df1:\n",
    "    print(i['tableName'])\n",
    "    sql=\"desc banda_stream_etl.\"+i['tableName']\n",
    "    df2=spark.sql(sql).collect()\n",
    "    for j in df2:\n",
    "        if j[\"data_type\"]=='boolean':\n",
    "            print(j)"
   ]
  },
  {
   "cell_type": "code",
   "execution_count": null,
   "metadata": {},
   "outputs": [
    {
     "data": {
      "application/vnd.jupyter.widget-view+json": {
       "model_id": "b30e02cf15e44dd292cbe789c3bf8dcd",
       "version_major": 2,
       "version_minor": 0
      },
      "text/plain": [
       "VBox()"
      ]
     },
     "metadata": {},
     "output_type": "display_data"
    }
   ],
   "source": [
    "# -*- coding: UTF-8 -*-\n",
    "import sys\n",
    "from concurrent import futures\n",
    "import numpy as np\n",
    "from pyspark.sql import SparkSession\n",
    "from datetime import datetime,timedelta\n",
    "import pytz\n",
    "# tablemap={\"banda_emr_etl\":\"banda\"} #,\n",
    "tablemap={\"banda_emr_etl\":\"banda\"}\n",
    "# tableList={\"banda\":[\"t_admin\",\"t_admin_audit\"]} \n",
    "tableList={\"banda\":[\"t_lpay\"]}\n",
    "first=\" select 'insert' as kind, '2020-08-01 23:59:59' as etldate,0 as  etlindex, \"\n",
    "end=\" , '2020' as year,   '08' as month,  '01' as day from  \"\n",
    "def getTableColum(tableNm,b):\n",
    "    colum=\"\"\n",
    "    for index in range(len(b)):\n",
    "        colum=colum+setDef(b[index][\"data_type\"],b[index][\"col_name\"],tableNm)+\", \"\n",
    "    return colum[0:len(colum)-2]\n",
    "def setDef(type,table_col,tableNm):\n",
    "    if(tableNm=='t_auto_review_loan' and type[:7] == 'boolean'):\n",
    "        return \"cast (\"+table_col+\" as string ) as \"+table_col\n",
    "    else:\n",
    "        return table_col\n",
    "def make_col_temptable(databaseName,row):\n",
    "    tableName=row[\"tableName\"]\n",
    "    tablecolum=\"desc \" +databaseName+\".\"+tableName;\n",
    "    tableSchema= spark.sql(tablecolum).collect()\n",
    "    sql=first+ getTableColum(tableName,tableSchema)+end+databaseName+\".\"+tableName\n",
    "    path=\"s3://rupiahplus-data-warehouse/stream/\"+tablemap[databaseName]+\"_etl/\"+tableName+\"/\"\n",
    "#     spark.sql(sql).write.mode(\"append\").partitionBy(\"year\",\"month\",\"day\").orc(path)\n",
    "    spark.sql(sql).show()\n",
    "if __name__ == \"builtins\":\n",
    "    spark = SparkSession\\\n",
    "        .builder\\\n",
    "        .appName(\"Python Demo\")\\\n",
    "        .config(\"hive.metastore.client.factory.class\", \"com.amazonaws.glue.catalog.metastore.AWSGlueDataCatalogHiveClientFactory\") \\\n",
    "        .enableHiveSupport()\\\n",
    "        .getOrCreate()\n",
    "#     spark.conf.set(\"spark.scheduler.mode\",\"FAIR\")\n",
    "    spark.conf.set(\"spark.sql.shuffle.partitions\",20)\n",
    "    for databaseName in tablemap:\n",
    "        databasesql=\"show tables in \"+databaseName\n",
    "        tables=spark.sql(databasesql)\n",
    "        tablelist=tables.collect();\n",
    "        ls=[]\n",
    "        if tablemap[databaseName] in tableList :\n",
    "            for table in tableList[tablemap[databaseName]]:\n",
    "                if table=='*':\n",
    "                    ls =tablelist\n",
    "                else:\n",
    "                    ls=ls+[tb for tb in tablelist if tb[\"tableName\"]==table]\n",
    "            print(ls)\n",
    "            executor=None\n",
    "            with futures.ThreadPoolExecutor(max_workers=10) as executor:\n",
    "                futures_result=futures.wait([executor.submit(make_col_temptable,databaseName, tableNm) for tableNm in ls])\n",
    "                for  future in futures_result[0]:\n",
    "                    print(future.result())\n"
   ]
  },
  {
   "cell_type": "code",
   "execution_count": 9,
   "metadata": {},
   "outputs": [
    {
     "data": {
      "application/vnd.jupyter.widget-view+json": {
       "model_id": "4e581bd58a514f838b53350d6da14a69",
       "version_major": 2,
       "version_minor": 0
      },
      "text/plain": [
       "VBox()"
      ]
     },
     "metadata": {},
     "output_type": "display_data"
    },
    {
     "data": {
      "application/vnd.jupyter.widget-view+json": {
       "model_id": "",
       "version_major": 2,
       "version_minor": 0
      },
      "text/plain": [
       "FloatProgress(value=0.0, bar_style='info', description='Progress:', layout=Layout(height='25px', width='50%'),…"
      ]
     },
     "metadata": {},
     "output_type": "display_data"
    },
    {
     "name": "stdout",
     "output_type": "stream",
     "text": [
      "[['a', 20], ['b', 30], ['c', 10], ['a', 14], ['g', '100'], ['b', 33]]"
     ]
    }
   ],
   "source": [
    "sc.setCheckpointDir(\"s3://rupiahplus-configs/etl/reapplication_etl/\")\n",
    "rs=sc.parallelize([['a',20],[\"b\",30],[\"c\",10],['a',14],['g','100'],['b',33]])\n",
    "rs.cache()\n",
    "rdd1=rs.checkpoint()\n",
    "rdd1.collect()"
   ]
  },
  {
   "cell_type": "code",
   "execution_count": 1,
   "metadata": {},
   "outputs": [
    {
     "data": {
      "application/vnd.jupyter.widget-view+json": {
       "model_id": "7a73dc4973c942a592e9d9a40d45d729",
       "version_major": 2,
       "version_minor": 0
      },
      "text/plain": [
       "VBox()"
      ]
     },
     "metadata": {},
     "output_type": "display_data"
    },
    {
     "name": "stdout",
     "output_type": "stream",
     "text": [
      "Starting Spark application\n"
     ]
    },
    {
     "data": {
      "text/html": [
       "<table>\n",
       "<tr><th>ID</th><th>YARN Application ID</th><th>Kind</th><th>State</th><th>Spark UI</th><th>Driver log</th><th>Current session?</th></tr><tr><td>1</td><td>application_1618390747913_0002</td><td>pyspark</td><td>idle</td><td><a target=\"_blank\" href=\"http://ip-10-3-0-69.ap-southeast-1.compute.internal:20888/proxy/application_1618390747913_0002/\">Link</a></td><td><a target=\"_blank\" href=\"http://ip-10-3-0-108.ap-southeast-1.compute.internal:8042/node/containerlogs/container_1618390747913_0002_01_000001/livy\">Link</a></td><td>✔</td></tr></table>"
      ],
      "text/plain": [
       "<IPython.core.display.HTML object>"
      ]
     },
     "metadata": {},
     "output_type": "display_data"
    },
    {
     "data": {
      "application/vnd.jupyter.widget-view+json": {
       "model_id": "",
       "version_major": 2,
       "version_minor": 0
      },
      "text/plain": [
       "FloatProgress(value=0.0, bar_style='info', description='Progress:', layout=Layout(height='25px', width='50%'),…"
      ]
     },
     "metadata": {},
     "output_type": "display_data"
    },
    {
     "name": "stdout",
     "output_type": "stream",
     "text": [
      "SparkSession available as 'spark'.\n"
     ]
    },
    {
     "data": {
      "application/vnd.jupyter.widget-view+json": {
       "model_id": "",
       "version_major": 2,
       "version_minor": 0
      },
      "text/plain": [
       "FloatProgress(value=0.0, bar_style='info', description='Progress:', layout=Layout(height='25px', width='50%'),…"
      ]
     },
     "metadata": {},
     "output_type": "display_data"
    },
    {
     "name": "stderr",
     "output_type": "stream",
     "text": [
      "name 'rs' is not defined\n",
      "Traceback (most recent call last):\n",
      "NameError: name 'rs' is not defined\n",
      "\n"
     ]
    }
   ],
   "source": [
    "rs.collect()"
   ]
  }
 ],
 "metadata": {
  "kernelspec": {
   "display_name": "PySpark",
   "language": "",
   "name": "pysparkkernel"
  },
  "language_info": {
   "codemirror_mode": {
    "name": "python",
    "version": 2
   },
   "mimetype": "text/x-python",
   "name": "pyspark",
   "pygments_lexer": "python2"
  }
 },
 "nbformat": 4,
 "nbformat_minor": 4
}
