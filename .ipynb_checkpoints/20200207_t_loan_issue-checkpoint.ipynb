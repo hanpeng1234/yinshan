{
 "cells": [
  {
   "cell_type": "code",
   "execution_count": 7,
   "metadata": {},
   "outputs": [
    {
     "data": {
      "application/vnd.jupyter.widget-view+json": {
       "model_id": "5b60799f67fd40e38fa409b46e0d9b03",
       "version_major": 2,
       "version_minor": 0
      },
      "text/plain": [
       "VBox()"
      ]
     },
     "metadata": {},
     "output_type": "display_data"
    },
    {
     "data": {
      "application/vnd.jupyter.widget-view+json": {
       "model_id": "",
       "version_major": 2,
       "version_minor": 0
      },
      "text/plain": [
       "FloatProgress(value=0.0, bar_style='info', description='Progress:', layout=Layout(height='25px', width='50%'),…"
      ]
     },
     "metadata": {},
     "output_type": "display_data"
    },
    {
     "name": "stderr",
     "output_type": "stream",
     "text": [
      "\"\\nmismatched input '.' expecting <EOF>(line 15, pos 26)\\n\\n== SQL ==\\n\\n    select date(now()-interval '1' day) as date,\\nsum(if(a.loan_type !='ROLLOVER',a.amount,0)) as total_issue_amount,sum(b.principal_paid) as total_paid_off_principle,sum(if(a.loan_type !='ROLLOVER',a.amount,0))-sum(b.principal_paid) as loan_balance,\\nsum(b.principal_paid + b.interest_paid + b.rollover_fee_paid + b.default_paid + b.default_fee_paid + b.service_fee_paid-b.erase_amount-b.coupon_amount) as total_paid_off_amount,\\n\\nsum(if(a.status in ('CURRENT','OVERDUE','GRACE_PERIOD'),(b.principal_accr + b.interest_accr + b.default_accr + b.default_fee_accr + b.service_fee_accr) -(b.principal_paid + b.interest_paid + b.default_paid + b.default_fee_paid + b.service_fee_paid),0)) as total_outstanding_amount,\\n\\nsum(if(a.status in ('CURRENT'),(b.principal_accr + b.interest_accr + b.default_accr + b.default_fee_accr + b.service_fee_accr) -(b.principal_paid + b.interest_paid + b.default_paid + b.default_fee_paid + b.service_fee_paid),0)) as total_current_amount,\\nsum(if(a.status in ('OVERDUE','GRACE_PERIOD') and date_diff('day',date(b.due_date),now())>=0 and date_diff('day',date(b.due_date),now())<=3,(b.principal_accr + b.interest_accr + b.default_accr + b.default_fee_accr + b.service_fee_accr) -(b.principal_paid + b.interest_paid + b.default_paid + b.default_fee_paid + b.service_fee_paid),0)) as overdue_3_amount,\\nsum(if(a.status in ('OVERDUE','GRACE_PERIOD') and date_diff('day',date(b.due_date),now())>=4 and date_diff('day',date(b.due_date),now())<=10,(b.principal_accr + b.interest_accr + b.default_accr + b.default_fee_accr + b.service_fee_accr) -(b.principal_paid + b.interest_paid + b.default_paid + b.default_fee_paid + b.service_fee_paid),0)) as overdue_10_amount,\\nsum(if(a.status in ('OVERDUE','GRACE_PERIOD') and date_diff('day',date(b.due_date),now())>=11 and date_diff('day',date(b.due_date),now())<=30,(b.principal_accr + b.interest_accr + b.default_accr + b.default_fee_accr + b.service_fee_accr) -(b.principal_paid + b.interest_paid + b.default_paid + b.default_fee_paid + b.service_fee_paid),0)) as overdue_30_amount,\\nsum(if(a.status in ('OVERDUE','GRACE_PERIOD') and date_diff('day',date(b.due_date),now())>=31 and date_diff('day',date(b.due_date),now())<=60,(b.principal_accr + b.interest_accr + b.default_accr + b.default_fee_accr + b.service_fee_accr) -(b.principal_paid + b.interest_paid + b.default_paid + b.default_fee_paid + b.service_fee_paid),0)) as overdue_60_amount,\\nsum(if(a.status in ('OVERDUE','GRACE_PERIOD') and date_diff('day',date(b.due_date),now())>=61 and date_diff('day',date(b.due_date),now())<=90,(b.principal_accr + b.interest_accr + b.default_accr + b.default_fee_accr + b.service_fee_accr) -(b.principal_paid + b.interest_paid + b.default_paid + b.default_fee_paid + b.service_fee_paid),0)) as overdue_90_amount,\\nsum(if(a.status in ('OVERDUE','GRACE_PERIOD') and date_diff('day',date(b.due_date),now())>=91,(b.principal_accr + b.interest_accr + b.default_accr + b.default_fee_accr + b.service_fee_accr) -(b.principal_paid + b.interest_paid + b.default_paid + b.default_fee_paid + b.service_fee_paid),0)) as overdue_90_amount\\nfrom import `banda-etl-s3`.`t_loan_app` a\\n--------------------------^^^\\nleft  join `banda-etl-s3`.`t_lpay` b\\non a.id = b.loan_app_id\\nwhere a.status in ('CURRENT','PAID_OFF','OVERDUE','GRACE_PERIOD') and a.product_name='RUPIAHONE' and a.create_time + interval '7' hour >= date '2019-08-27'\\n\"\n",
      "Traceback (most recent call last):\n",
      "  File \"/usr/lib/spark/python/lib/pyspark.zip/pyspark/sql/session.py\", line 767, in sql\n",
      "    return DataFrame(self._jsparkSession.sql(sqlQuery), self._wrapped)\n",
      "  File \"/usr/lib/spark/python/lib/py4j-0.10.7-src.zip/py4j/java_gateway.py\", line 1257, in __call__\n",
      "    answer, self.gateway_client, self.target_id, self.name)\n",
      "  File \"/usr/lib/spark/python/lib/pyspark.zip/pyspark/sql/utils.py\", line 73, in deco\n",
      "    raise ParseException(s.split(': ', 1)[1], stackTrace)\n",
      "pyspark.sql.utils.ParseException: \"\\nmismatched input '.' expecting <EOF>(line 15, pos 26)\\n\\n== SQL ==\\n\\n    select date(now()-interval '1' day) as date,\\nsum(if(a.loan_type !='ROLLOVER',a.amount,0)) as total_issue_amount,sum(b.principal_paid) as total_paid_off_principle,sum(if(a.loan_type !='ROLLOVER',a.amount,0))-sum(b.principal_paid) as loan_balance,\\nsum(b.principal_paid + b.interest_paid + b.rollover_fee_paid + b.default_paid + b.default_fee_paid + b.service_fee_paid-b.erase_amount-b.coupon_amount) as total_paid_off_amount,\\n\\nsum(if(a.status in ('CURRENT','OVERDUE','GRACE_PERIOD'),(b.principal_accr + b.interest_accr + b.default_accr + b.default_fee_accr + b.service_fee_accr) -(b.principal_paid + b.interest_paid + b.default_paid + b.default_fee_paid + b.service_fee_paid),0)) as total_outstanding_amount,\\n\\nsum(if(a.status in ('CURRENT'),(b.principal_accr + b.interest_accr + b.default_accr + b.default_fee_accr + b.service_fee_accr) -(b.principal_paid + b.interest_paid + b.default_paid + b.default_fee_paid + b.service_fee_paid),0)) as total_current_amount,\\nsum(if(a.status in ('OVERDUE','GRACE_PERIOD') and date_diff('day',date(b.due_date),now())>=0 and date_diff('day',date(b.due_date),now())<=3,(b.principal_accr + b.interest_accr + b.default_accr + b.default_fee_accr + b.service_fee_accr) -(b.principal_paid + b.interest_paid + b.default_paid + b.default_fee_paid + b.service_fee_paid),0)) as overdue_3_amount,\\nsum(if(a.status in ('OVERDUE','GRACE_PERIOD') and date_diff('day',date(b.due_date),now())>=4 and date_diff('day',date(b.due_date),now())<=10,(b.principal_accr + b.interest_accr + b.default_accr + b.default_fee_accr + b.service_fee_accr) -(b.principal_paid + b.interest_paid + b.default_paid + b.default_fee_paid + b.service_fee_paid),0)) as overdue_10_amount,\\nsum(if(a.status in ('OVERDUE','GRACE_PERIOD') and date_diff('day',date(b.due_date),now())>=11 and date_diff('day',date(b.due_date),now())<=30,(b.principal_accr + b.interest_accr + b.default_accr + b.default_fee_accr + b.service_fee_accr) -(b.principal_paid + b.interest_paid + b.default_paid + b.default_fee_paid + b.service_fee_paid),0)) as overdue_30_amount,\\nsum(if(a.status in ('OVERDUE','GRACE_PERIOD') and date_diff('day',date(b.due_date),now())>=31 and date_diff('day',date(b.due_date),now())<=60,(b.principal_accr + b.interest_accr + b.default_accr + b.default_fee_accr + b.service_fee_accr) -(b.principal_paid + b.interest_paid + b.default_paid + b.default_fee_paid + b.service_fee_paid),0)) as overdue_60_amount,\\nsum(if(a.status in ('OVERDUE','GRACE_PERIOD') and date_diff('day',date(b.due_date),now())>=61 and date_diff('day',date(b.due_date),now())<=90,(b.principal_accr + b.interest_accr + b.default_accr + b.default_fee_accr + b.service_fee_accr) -(b.principal_paid + b.interest_paid + b.default_paid + b.default_fee_paid + b.service_fee_paid),0)) as overdue_90_amount,\\nsum(if(a.status in ('OVERDUE','GRACE_PERIOD') and date_diff('day',date(b.due_date),now())>=91,(b.principal_accr + b.interest_accr + b.default_accr + b.default_fee_accr + b.service_fee_accr) -(b.principal_paid + b.interest_paid + b.default_paid + b.default_fee_paid + b.service_fee_paid),0)) as overdue_90_amount\\nfrom import `banda-etl-s3`.`t_loan_app` a\\n--------------------------^^^\\nleft  join `banda-etl-s3`.`t_lpay` b\\non a.id = b.loan_app_id\\nwhere a.status in ('CURRENT','PAID_OFF','OVERDUE','GRACE_PERIOD') and a.product_name='RUPIAHONE' and a.create_time + interval '7' hour >= date '2019-08-27'\\n\"\n",
      "\n"
     ]
    }
   ],
   "source": [
    "t_admin_audit=spark.sql(\"\"\"\n",
    "    select date(now()-interval '1' day) as date,\n",
    "sum(if(a.loan_type !='ROLLOVER',a.amount,0)) as total_issue_amount,sum(b.principal_paid) as total_paid_off_principle,sum(if(a.loan_type !='ROLLOVER',a.amount,0))-sum(b.principal_paid) as loan_balance,\n",
    "sum(b.principal_paid + b.interest_paid + b.rollover_fee_paid + b.default_paid + b.default_fee_paid + b.service_fee_paid-b.erase_amount-b.coupon_amount) as total_paid_off_amount,\n",
    "\n",
    "sum(if(a.status in ('CURRENT','OVERDUE','GRACE_PERIOD'),(b.principal_accr + b.interest_accr + b.default_accr + b.default_fee_accr + b.service_fee_accr) -(b.principal_paid + b.interest_paid + b.default_paid + b.default_fee_paid + b.service_fee_paid),0)) as total_outstanding_amount,\n",
    "\n",
    "sum(if(a.status in ('CURRENT'),(b.principal_accr + b.interest_accr + b.default_accr + b.default_fee_accr + b.service_fee_accr) -(b.principal_paid + b.interest_paid + b.default_paid + b.default_fee_paid + b.service_fee_paid),0)) as total_current_amount,\n",
    "sum(if(a.status in ('OVERDUE','GRACE_PERIOD') and date_diff('day',date(b.due_date),now())>=0 and date_diff('day',date(b.due_date),now())<=3,(b.principal_accr + b.interest_accr + b.default_accr + b.default_fee_accr + b.service_fee_accr) -(b.principal_paid + b.interest_paid + b.default_paid + b.default_fee_paid + b.service_fee_paid),0)) as overdue_3_amount,\n",
    "sum(if(a.status in ('OVERDUE','GRACE_PERIOD') and date_diff('day',date(b.due_date),now())>=4 and date_diff('day',date(b.due_date),now())<=10,(b.principal_accr + b.interest_accr + b.default_accr + b.default_fee_accr + b.service_fee_accr) -(b.principal_paid + b.interest_paid + b.default_paid + b.default_fee_paid + b.service_fee_paid),0)) as overdue_10_amount,\n",
    "sum(if(a.status in ('OVERDUE','GRACE_PERIOD') and date_diff('day',date(b.due_date),now())>=11 and date_diff('day',date(b.due_date),now())<=30,(b.principal_accr + b.interest_accr + b.default_accr + b.default_fee_accr + b.service_fee_accr) -(b.principal_paid + b.interest_paid + b.default_paid + b.default_fee_paid + b.service_fee_paid),0)) as overdue_30_amount,\n",
    "sum(if(a.status in ('OVERDUE','GRACE_PERIOD') and date_diff('day',date(b.due_date),now())>=31 and date_diff('day',date(b.due_date),now())<=60,(b.principal_accr + b.interest_accr + b.default_accr + b.default_fee_accr + b.service_fee_accr) -(b.principal_paid + b.interest_paid + b.default_paid + b.default_fee_paid + b.service_fee_paid),0)) as overdue_60_amount,\n",
    "sum(if(a.status in ('OVERDUE','GRACE_PERIOD') and date_diff('day',date(b.due_date),now())>=61 and date_diff('day',date(b.due_date),now())<=90,(b.principal_accr + b.interest_accr + b.default_accr + b.default_fee_accr + b.service_fee_accr) -(b.principal_paid + b.interest_paid + b.default_paid + b.default_fee_paid + b.service_fee_paid),0)) as overdue_90_amount,\n",
    "sum(if(a.status in ('OVERDUE','GRACE_PERIOD') and date_diff('day',date(b.due_date),now())>=91,(b.principal_accr + b.interest_accr + b.default_accr + b.default_fee_accr + b.service_fee_accr) -(b.principal_paid + b.interest_paid + b.default_paid + b.default_fee_paid + b.service_fee_paid),0)) as overdue_90_amount\n",
    "from  `banda-etl-s3`.`t_loan_app` a\n",
    "left  join `banda-etl-s3`.`t_lpay` b\n",
    "on a.id = b.loan_app_id\n",
    "where a.status in ('CURRENT','PAID_OFF','OVERDUE','GRACE_PERIOD') and a.product_name='RUPIAHONE' and a.create_time + interval '7' hour >= date '2019-08-27'\n",
    "\"\"\").show()\n"
   ]
  }
 ],
 "metadata": {
  "kernelspec": {
   "display_name": "PySpark",
   "language": "",
   "name": "pysparkkernel"
  },
  "language_info": {
   "codemirror_mode": {
    "name": "python",
    "version": 2
   },
   "mimetype": "text/x-python",
   "name": "pyspark",
   "pygments_lexer": "python2"
  }
 },
 "nbformat": 4,
 "nbformat_minor": 4
}
