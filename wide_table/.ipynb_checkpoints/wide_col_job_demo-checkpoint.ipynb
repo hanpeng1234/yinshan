{
 "cells": [
  {
   "cell_type": "code",
   "execution_count": 1,
   "metadata": {},
   "outputs": [
    {
     "data": {
      "application/vnd.jupyter.widget-view+json": {
       "model_id": "72aea67fa1804991a695a4bd5d8a5333",
       "version_major": 2,
       "version_minor": 0
      },
      "text/plain": [
       "VBox()"
      ]
     },
     "metadata": {},
     "output_type": "display_data"
    },
    {
     "name": "stdout",
     "output_type": "stream",
     "text": [
      "Starting Spark application\n"
     ]
    },
    {
     "data": {
      "text/html": [
       "<table>\n",
       "<tr><th>ID</th><th>YARN Application ID</th><th>Kind</th><th>State</th><th>Spark UI</th><th>Driver log</th><th>Current session?</th></tr><tr><td>5</td><td>application_1619577436936_0006</td><td>pyspark</td><td>idle</td><td><a target=\"_blank\" href=\"http://ip-10-3-0-21.ap-southeast-1.compute.internal:20888/proxy/application_1619577436936_0006/\">Link</a></td><td><a target=\"_blank\" href=\"http://ip-10-3-0-112.ap-southeast-1.compute.internal:8042/node/containerlogs/container_1619577436936_0006_01_000001/livy\">Link</a></td><td>✔</td></tr></table>"
      ],
      "text/plain": [
       "<IPython.core.display.HTML object>"
      ]
     },
     "metadata": {},
     "output_type": "display_data"
    },
    {
     "data": {
      "application/vnd.jupyter.widget-view+json": {
       "model_id": "",
       "version_major": 2,
       "version_minor": 0
      },
      "text/plain": [
       "FloatProgress(value=0.0, bar_style='info', description='Progress:', layout=Layout(height='25px', width='50%'),…"
      ]
     },
     "metadata": {},
     "output_type": "display_data"
    },
    {
     "name": "stdout",
     "output_type": "stream",
     "text": [
      "SparkSession available as 'spark'.\n"
     ]
    },
    {
     "data": {
      "application/vnd.jupyter.widget-view+json": {
       "model_id": "",
       "version_major": 2,
       "version_minor": 0
      },
      "text/plain": [
       "FloatProgress(value=0.0, bar_style='info', description='Progress:', layout=Layout(height='25px', width='50%'),…"
      ]
     },
     "metadata": {},
     "output_type": "display_data"
    },
    {
     "name": "stdout",
     "output_type": "stream",
     "text": [
      "<SparkContext master=yarn appName=livy-session-5>"
     ]
    }
   ],
   "source": [
    "sc"
   ]
  },
  {
   "cell_type": "markdown",
   "metadata": {},
   "source": [
    "# Loan宽表ETL衍生Demo\n",
    "\n",
    "Loan表里的loan_id唯一，由多个job，以left join的形式共同组成。\n",
    "\n",
    "一个子job可能包含一个或多个列。多个job可独立开发，互不影响。\n",
    "\n",
    "## ETL流程\n",
    "\n",
    "1. 生成loan索引表，只包含loan_app_id，用来索引其他列\n",
    "2. loan索引表生成temp view\n",
    "3. 创建多个job，以t_personal_info和t_employment为例\n",
    "4. 子job join成宽表，排除冗余id字段。"
   ]
  },
  {
   "cell_type": "markdown",
   "metadata": {},
   "source": [
    "## 创建索引表"
   ]
  },
  {
   "cell_type": "code",
   "execution_count": 2,
   "metadata": {},
   "outputs": [
    {
     "data": {
      "application/vnd.jupyter.widget-view+json": {
       "model_id": "74eb5c5968f24187add2504ebc92c051",
       "version_major": 2,
       "version_minor": 0
      },
      "text/plain": [
       "VBox()"
      ]
     },
     "metadata": {},
     "output_type": "display_data"
    },
    {
     "data": {
      "application/vnd.jupyter.widget-view+json": {
       "model_id": "",
       "version_major": 2,
       "version_minor": 0
      },
      "text/plain": [
       "FloatProgress(value=0.0, bar_style='info', description='Progress:', layout=Layout(height='25px', width='50%'),…"
      ]
     },
     "metadata": {},
     "output_type": "display_data"
    },
    {
     "name": "stdout",
     "output_type": "stream",
     "text": [
      "+-------+\n",
      "|     id|\n",
      "+-------+\n",
      "|2879030|\n",
      "|2879049|\n",
      "|2879098|\n",
      "|2880086|\n",
      "|2881092|\n",
      "|2882204|\n",
      "|2882511|\n",
      "|2882651|\n",
      "|2883137|\n",
      "|2883151|\n",
      "|2883251|\n",
      "|2883279|\n",
      "|2883347|\n",
      "|2883515|\n",
      "|2883546|\n",
      "|2883691|\n",
      "|2883697|\n",
      "|2884240|\n",
      "|2884435|\n",
      "|2885143|\n",
      "+-------+\n",
      "only showing top 20 rows"
     ]
    }
   ],
   "source": [
    "import pyspark.sql.functions as F\n",
    "\n",
    "sql = \"\"\"\n",
    "select id\n",
    "from `banda-etl-s3`.t_loan_app\n",
    "\"\"\"\n",
    "idx_df = spark.sql(sql)\n",
    "# df.withColumn('mobile', F.sha2(F.col('mobile'), 256)).show()"
   ]
  },
  {
   "cell_type": "markdown",
   "metadata": {},
   "source": [
    "## 生成temp view"
   ]
  },
  {
   "cell_type": "code",
   "execution_count": 3,
   "metadata": {},
   "outputs": [
    {
     "data": {
      "application/vnd.jupyter.widget-view+json": {
       "model_id": "87c51d6376d74a43ba99e5d527720599",
       "version_major": 2,
       "version_minor": 0
      },
      "text/plain": [
       "VBox()"
      ]
     },
     "metadata": {},
     "output_type": "display_data"
    },
    {
     "data": {
      "application/vnd.jupyter.widget-view+json": {
       "model_id": "",
       "version_major": 2,
       "version_minor": 0
      },
      "text/plain": [
       "FloatProgress(value=0.0, bar_style='info', description='Progress:', layout=Layout(height='25px', width='50%'),…"
      ]
     },
     "metadata": {},
     "output_type": "display_data"
    }
   ],
   "source": [
    "idx_df.createOrReplaceTempView('lid')"
   ]
  },
  {
   "cell_type": "markdown",
   "metadata": {},
   "source": [
    "## 创建personal_info job"
   ]
  },
  {
   "cell_type": "code",
   "execution_count": 4,
   "metadata": {},
   "outputs": [
    {
     "data": {
      "application/vnd.jupyter.widget-view+json": {
       "model_id": "d8ef64017a7d4a65bae7baf0a2596210",
       "version_major": 2,
       "version_minor": 0
      },
      "text/plain": [
       "VBox()"
      ]
     },
     "metadata": {},
     "output_type": "display_data"
    },
    {
     "data": {
      "application/vnd.jupyter.widget-view+json": {
       "model_id": "",
       "version_major": 2,
       "version_minor": 0
      },
      "text/plain": [
       "FloatProgress(value=0.0, bar_style='info', description='Progress:', layout=Layout(height='25px', width='50%'),…"
      ]
     },
     "metadata": {},
     "output_type": "display_data"
    },
    {
     "name": "stdout",
     "output_type": "stream",
     "text": [
      "+------+------+\n",
      "|    id|gender|\n",
      "+------+------+\n",
      "|100064|FEMALE|\n",
      "|100068|  MALE|\n",
      "|100082|FEMALE|\n",
      "|100089|  MALE|\n",
      "|100109|  MALE|\n",
      "|100124|FEMALE|\n",
      "|100139|FEMALE|\n",
      "|100234|FEMALE|\n",
      "|100258|  MALE|\n",
      "|100321|  MALE|\n",
      "|100358|  MALE|\n",
      "|100435|  MALE|\n",
      "|100465|  MALE|\n",
      "|100492|  MALE|\n",
      "|100497|  MALE|\n",
      "|100501|FEMALE|\n",
      "|100536|FEMALE|\n",
      "|100539|FEMALE|\n",
      "|100565|  MALE|\n",
      "|100572|  MALE|\n",
      "+------+------+\n",
      "only showing top 20 rows"
     ]
    }
   ],
   "source": [
    "sql = \"\"\"\n",
    "select\n",
    "pi.loan_app_id as id,\n",
    "pi.gender\n",
    "from lid\n",
    "left join `banda-etl-s3`.t_personal_info pi\n",
    "on lid.id = pi.loan_app_id\n",
    "\"\"\"\n",
    "pi_df = spark.sql(sql)\n",
    "pi_df.show()"
   ]
  },
  {
   "cell_type": "markdown",
   "metadata": {},
   "source": [
    "## 创建employment job"
   ]
  },
  {
   "cell_type": "code",
   "execution_count": 18,
   "metadata": {},
   "outputs": [
    {
     "data": {
      "application/vnd.jupyter.widget-view+json": {
       "model_id": "002b061180e849c49bdddc95caaf4b4b",
       "version_major": 2,
       "version_minor": 0
      },
      "text/plain": [
       "VBox()"
      ]
     },
     "metadata": {},
     "output_type": "display_data"
    },
    {
     "data": {
      "application/vnd.jupyter.widget-view+json": {
       "model_id": "",
       "version_major": 2,
       "version_minor": 0
      },
      "text/plain": [
       "FloatProgress(value=0.0, bar_style='info', description='Progress:', layout=Layout(height='25px', width='50%'),…"
      ]
     },
     "metadata": {},
     "output_type": "display_data"
    }
   ],
   "source": [
    "sql = \"\"\"\n",
    "select\n",
    "e.loan_app_id as id,\n",
    "e.salary\n",
    "from lid\n",
    "left join `banda-etl-s3`.t_employment e\n",
    "on lid.id = e.loan_app_id\n",
    "\"\"\"\n",
    "e_df = spark.sql(sql)"
   ]
  },
  {
   "cell_type": "markdown",
   "metadata": {},
   "source": [
    "## Transform\n",
    "\n",
    "注意，需要去除冗余id列"
   ]
  },
  {
   "cell_type": "code",
   "execution_count": 20,
   "metadata": {},
   "outputs": [
    {
     "data": {
      "application/vnd.jupyter.widget-view+json": {
       "model_id": "a10d5e3a04a3407eae8f12a24a084f1a",
       "version_major": 2,
       "version_minor": 0
      },
      "text/plain": [
       "VBox()"
      ]
     },
     "metadata": {},
     "output_type": "display_data"
    },
    {
     "data": {
      "application/vnd.jupyter.widget-view+json": {
       "model_id": "",
       "version_major": 2,
       "version_minor": 0
      },
      "text/plain": [
       "FloatProgress(value=0.0, bar_style='info', description='Progress:', layout=Layout(height='25px', width='50%'),…"
      ]
     },
     "metadata": {},
     "output_type": "display_data"
    },
    {
     "name": "stdout",
     "output_type": "stream",
     "text": [
      "+------+------+-------------+\n",
      "|    id|gender|       salary|\n",
      "+------+------+-------------+\n",
      "|100064|FEMALE|BETWEEN_2B_4B|\n",
      "|100068|  MALE|BETWEEN_2B_4B|\n",
      "|100082|FEMALE|BETWEEN_2B_4B|\n",
      "|100089|  MALE|BETWEEN_2B_4B|\n",
      "|100109|  MALE|BETWEEN_4B_8B|\n",
      "|100124|FEMALE|BETWEEN_2B_4B|\n",
      "|100139|FEMALE|BETWEEN_2B_4B|\n",
      "|100234|FEMALE|BETWEEN_2B_4B|\n",
      "|100258|  MALE|BETWEEN_2B_4B|\n",
      "|100321|  MALE|BETWEEN_2B_4B|\n",
      "|100358|  MALE|      OVER_8B|\n",
      "|100435|  MALE|BETWEEN_2B_4B|\n",
      "|100465|  MALE|      OVER_8B|\n",
      "|100492|  MALE|BETWEEN_4B_8B|\n",
      "|100497|  MALE|BETWEEN_2B_4B|\n",
      "|100501|FEMALE|BETWEEN_4B_8B|\n",
      "|100536|FEMALE|BETWEEN_4B_8B|\n",
      "|100539|FEMALE|      OVER_8B|\n",
      "|100565|  MALE|BETWEEN_4B_8B|\n",
      "|100572|  MALE|BETWEEN_4B_8B|\n",
      "+------+------+-------------+\n",
      "only showing top 20 rows"
     ]
    }
   ],
   "source": [
    "df = idx_df \\\n",
    "    .join(pi_df, idx_df.id == pi_df.id, 'left') \\\n",
    "    .join(e_df, idx_df.id == e_df.id, 'left') \\\n",
    "    .select(\n",
    "        [idx_df.id] +\n",
    "        [pi_df[col] for col in pi_df.columns if col != 'id'] +\n",
    "        [e_df[col] for col in e_df.columns if col != 'id']\n",
    "    )\n",
    "df.show()"
   ]
  },
  {
   "cell_type": "markdown",
   "metadata": {},
   "source": [
    "## Load\n",
    "TODO"
   ]
  },
  {
   "cell_type": "code",
   "execution_count": 13,
   "metadata": {},
   "outputs": [
    {
     "data": {
      "application/vnd.jupyter.widget-view+json": {
       "model_id": "3d33027c6df34f228125793badc80395",
       "version_major": 2,
       "version_minor": 0
      },
      "text/plain": [
       "VBox()"
      ]
     },
     "metadata": {},
     "output_type": "display_data"
    },
    {
     "data": {
      "application/vnd.jupyter.widget-view+json": {
       "model_id": "",
       "version_major": 2,
       "version_minor": 0
      },
      "text/plain": [
       "FloatProgress(value=0.0, bar_style='info', description='Progress:', layout=Layout(height='25px', width='50%'),…"
      ]
     },
     "metadata": {},
     "output_type": "display_data"
    },
    {
     "name": "stdout",
     "output_type": "stream",
     "text": [
      "+-------+\n",
      "|     id|\n",
      "+-------+\n",
      "|2844960|\n",
      "|2846151|\n",
      "|2846406|\n",
      "|2847007|\n",
      "|2847081|\n",
      "+-------+"
     ]
    }
   ],
   "source": [
    "## df.write(xx)"
   ]
  },
  {
   "cell_type": "code",
   "execution_count": null,
   "metadata": {},
   "outputs": [],
   "source": []
  }
 ],
 "metadata": {
  "kernelspec": {
   "display_name": "PySpark",
   "language": "",
   "name": "pysparkkernel"
  },
  "language_info": {
   "codemirror_mode": {
    "name": "python",
    "version": 2
   },
   "mimetype": "text/x-python",
   "name": "pyspark",
   "pygments_lexer": "python2"
  }
 },
 "nbformat": 4,
 "nbformat_minor": 4
}
