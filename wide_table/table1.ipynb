{
 "cells": [
  {
   "cell_type": "code",
   "execution_count": 2,
   "id": "2cb9a955",
   "metadata": {},
   "outputs": [
    {
     "data": {
      "application/vnd.jupyter.widget-view+json": {
       "model_id": "051ed480ff0b4c48860a7ed7305d0ce2",
       "version_major": 2,
       "version_minor": 0
      },
      "text/plain": [
       "VBox()"
      ]
     },
     "metadata": {},
     "output_type": "display_data"
    },
    {
     "data": {
      "application/vnd.jupyter.widget-view+json": {
       "model_id": "",
       "version_major": 2,
       "version_minor": 0
      },
      "text/plain": [
       "FloatProgress(value=0.0, bar_style='info', description='Progress:', layout=Layout(height='25px', width='50%'),…"
      ]
     },
     "metadata": {},
     "output_type": "display_data"
    },
    {
     "name": "stdout",
     "output_type": "stream",
     "text": [
      "+---------+-----------+\n",
      "|usercount|create_time|\n",
      "+---------+-----------+\n",
      "|     3214| 2021-04-23|\n",
      "|     7774| 2021-04-22|\n",
      "|     7230| 2021-04-21|\n",
      "|     7570| 2021-04-20|\n",
      "|     7403| 2021-04-19|\n",
      "|     7055| 2021-04-18|\n",
      "|     7840| 2021-04-17|\n",
      "|     7464| 2021-04-16|\n",
      "|     8031| 2021-04-15|\n",
      "|     8826| 2021-04-14|\n",
      "|     7157| 2021-04-13|\n",
      "|     7301| 2021-04-12|\n",
      "|     6491| 2021-04-11|\n",
      "|     7075| 2021-04-10|\n",
      "|     8621| 2021-04-09|\n",
      "|     8455| 2021-04-08|\n",
      "|     7738| 2021-04-07|\n",
      "|     6964| 2021-04-06|\n",
      "|     7649| 2021-04-05|\n",
      "|     5815| 2021-04-04|\n",
      "+---------+-----------+\n",
      "only showing top 20 rows"
     ]
    }
   ],
   "source": [
    "spark.sql(\"\"\"\n",
    "    SELECT count(tmp.id) usercount,tmp.create_time\n",
    "    FROM \n",
    "        (SELECT date_format(create_time,'yyyy-MM-dd')as create_time, id\n",
    "        FROM `banda-etl-s3`.t_customer ) tmp   \n",
    "    GROUP BY  tmp.create_time\n",
    "    having tmp.create_time>  '2021-01-01'\n",
    "    order by tmp.create_time desc\n",
    "\"\"\").show()"
   ]
  },
  {
   "cell_type": "code",
   "execution_count": null,
   "id": "fa860fdd",
   "metadata": {},
   "outputs": [],
   "source": [
    "spark.sql(\"\"\"select  * from `banda-etl-s3`.t_customer limit 100\"\"\").show()"
   ]
  },
  {
   "cell_type": "code",
   "execution_count": 1,
   "id": "09c91c96",
   "metadata": {},
   "outputs": [
    {
     "data": {
      "application/vnd.jupyter.widget-view+json": {
       "model_id": "249157d0bbf34abbb0b7870fbebee0da",
       "version_major": 2,
       "version_minor": 0
      },
      "text/plain": [
       "VBox()"
      ]
     },
     "metadata": {},
     "output_type": "display_data"
    },
    {
     "name": "stdout",
     "output_type": "stream",
     "text": [
      "Starting Spark application\n"
     ]
    },
    {
     "data": {
      "text/html": [
       "<table>\n",
       "<tr><th>ID</th><th>YARN Application ID</th><th>Kind</th><th>State</th><th>Spark UI</th><th>Driver log</th><th>Current session?</th></tr><tr><td>3</td><td>application_1619491650839_0006</td><td>pyspark</td><td>idle</td><td><a target=\"_blank\" href=\"http://ip-10-3-0-101.ap-southeast-1.compute.internal:20888/proxy/application_1619491650839_0006/\">Link</a></td><td><a target=\"_blank\" href=\"http://ip-10-3-0-71.ap-southeast-1.compute.internal:8042/node/containerlogs/container_1619491650839_0006_01_000001/livy\">Link</a></td><td>✔</td></tr></table>"
      ],
      "text/plain": [
       "<IPython.core.display.HTML object>"
      ]
     },
     "metadata": {},
     "output_type": "display_data"
    },
    {
     "data": {
      "application/vnd.jupyter.widget-view+json": {
       "model_id": "",
       "version_major": 2,
       "version_minor": 0
      },
      "text/plain": [
       "FloatProgress(value=0.0, bar_style='info', description='Progress:', layout=Layout(height='25px', width='50%'),…"
      ]
     },
     "metadata": {},
     "output_type": "display_data"
    },
    {
     "name": "stdout",
     "output_type": "stream",
     "text": [
      "SparkSession available as 'spark'.\n"
     ]
    },
    {
     "data": {
      "application/vnd.jupyter.widget-view+json": {
       "model_id": "",
       "version_major": 2,
       "version_minor": 0
      },
      "text/plain": [
       "FloatProgress(value=0.0, bar_style='info', description='Progress:', layout=Layout(height='25px', width='50%'),…"
      ]
     },
     "metadata": {},
     "output_type": "display_data"
    },
    {
     "name": "stdout",
     "output_type": "stream",
     "text": [
      "Collecting boto3\n",
      "  Using cached https://files.pythonhosted.org/packages/15/f7/a80db6492ca4c9471c474f88853f2864766b136ff30240a61efcea965c14/boto3-1.17.58-py2.py3-none-any.whl\n",
      "Collecting s3transfer<0.5.0,>=0.4.0 (from boto3)\n",
      "  Using cached https://files.pythonhosted.org/packages/63/d0/693477c688348654ddc21dcdce0817653a294aa43f41771084c25e7ff9c7/s3transfer-0.4.2-py2.py3-none-any.whl\n",
      "Collecting botocore<1.21.0,>=1.20.58 (from boto3)\n",
      "  Using cached https://files.pythonhosted.org/packages/4f/c0/f42b171b59f5001aa3754bcebe379fb14065b057645ab89a029d831a48b1/botocore-1.20.58-py2.py3-none-any.whl\n",
      "Requirement already satisfied: jmespath<1.0.0,>=0.7.1 in /usr/local/lib/python3.7/site-packages (from boto3)\n",
      "Collecting urllib3<1.27,>=1.25.4 (from botocore<1.21.0,>=1.20.58->boto3)\n",
      "  Using cached https://files.pythonhosted.org/packages/09/c6/d3e3abe5b4f4f16cf0dfc9240ab7ce10c2baa0e268989a4e3ec19e90c84e/urllib3-1.26.4-py2.py3-none-any.whl\n",
      "Collecting python-dateutil<3.0.0,>=2.1 (from botocore<1.21.0,>=1.20.58->boto3)\n",
      "  Using cached https://files.pythonhosted.org/packages/d4/70/d60450c3dd48ef87586924207ae8907090de0b306af2bce5d134d78615cb/python_dateutil-2.8.1-py2.py3-none-any.whl\n",
      "Requirement already satisfied: six>=1.5 in /usr/local/lib/python3.7/site-packages (from python-dateutil<3.0.0,>=2.1->botocore<1.21.0,>=1.20.58->boto3)\n",
      "Installing collected packages: urllib3, python-dateutil, botocore, s3transfer, boto3\n",
      "Successfully installed boto3-1.17.58 botocore-1.20.58 python-dateutil-2.8.1 s3transfer-0.4.2 urllib3-1.26.4\n",
      "\n",
      "Collecting pandas\n",
      "  Downloading https://files.pythonhosted.org/packages/51/51/48f3fc47c4e2144da2806dfb6629c4dd1fa3d5a143f9652b141e979a8ca9/pandas-1.2.4-cp37-cp37m-manylinux1_x86_64.whl (9.9MB)\n",
      "Requirement already satisfied: numpy>=1.16.5 in /usr/local/lib64/python3.7/site-packages (from pandas)\n",
      "Requirement already satisfied: pytz>=2017.3 in /usr/local/lib/python3.7/site-packages (from pandas)\n",
      "Requirement already satisfied: python-dateutil>=2.7.3 in /mnt/tmp/1619512294385-0/lib/python3.7/site-packages (from pandas)\n",
      "Requirement already satisfied: six>=1.5 in /usr/local/lib/python3.7/site-packages (from python-dateutil>=2.7.3->pandas)\n",
      "Installing collected packages: pandas\n",
      "Successfully installed pandas-1.2.4"
     ]
    }
   ],
   "source": [
    "sc.install_pypi_package(\"boto3\")\n",
    "sc.install_pypi_package(\"pandas\")"
   ]
  },
  {
   "cell_type": "code",
   "execution_count": 41,
   "id": "d61bcdda",
   "metadata": {},
   "outputs": [
    {
     "data": {
      "application/vnd.jupyter.widget-view+json": {
       "model_id": "aa585bfa94f34686916e1163ff4f8d1e",
       "version_major": 2,
       "version_minor": 0
      },
      "text/plain": [
       "VBox()"
      ]
     },
     "metadata": {},
     "output_type": "display_data"
    },
    {
     "data": {
      "application/vnd.jupyter.widget-view+json": {
       "model_id": "",
       "version_major": 2,
       "version_minor": 0
      },
      "text/plain": [
       "FloatProgress(value=0.0, bar_style='info', description='Progress:', layout=Layout(height='25px', width='50%'),…"
      ]
     },
     "metadata": {},
     "output_type": "display_data"
    },
    {
     "name": "stderr",
     "output_type": "stream",
     "text": [
      "[Errno 13] Permission denied: '/hello.txt.C46D1B04'\n",
      "Traceback (most recent call last):\n",
      "  File \"<stdin>\", line 28, in getsqlPathList\n",
      "  File \"/tmp/1619404925736-0/lib/python3.7/site-packages/boto3/s3/inject.py\", line 246, in bucket_download_file\n",
      "    ExtraArgs=ExtraArgs, Callback=Callback, Config=Config)\n",
      "  File \"/tmp/1619404925736-0/lib/python3.7/site-packages/boto3/s3/inject.py\", line 172, in download_file\n",
      "    extra_args=ExtraArgs, callback=Callback)\n",
      "  File \"/tmp/1619404925736-0/lib/python3.7/site-packages/boto3/s3/transfer.py\", line 307, in download_file\n",
      "    future.result()\n",
      "  File \"/tmp/1619404925736-0/lib/python3.7/site-packages/s3transfer/futures.py\", line 106, in result\n",
      "    return self._coordinator.result()\n",
      "  File \"/tmp/1619404925736-0/lib/python3.7/site-packages/s3transfer/futures.py\", line 265, in result\n",
      "    raise self._exception\n",
      "  File \"/tmp/1619404925736-0/lib/python3.7/site-packages/s3transfer/tasks.py\", line 126, in __call__\n",
      "    return self._execute_main(kwargs)\n",
      "  File \"/tmp/1619404925736-0/lib/python3.7/site-packages/s3transfer/tasks.py\", line 150, in _execute_main\n",
      "    return_value = self._main(**kwargs)\n",
      "  File \"/tmp/1619404925736-0/lib/python3.7/site-packages/s3transfer/download.py\", line 571, in _main\n",
      "    fileobj.seek(offset)\n",
      "  File \"/tmp/1619404925736-0/lib/python3.7/site-packages/s3transfer/utils.py\", line 367, in seek\n",
      "    self._open_if_needed()\n",
      "  File \"/tmp/1619404925736-0/lib/python3.7/site-packages/s3transfer/utils.py\", line 350, in _open_if_needed\n",
      "    self._fileobj = self._open_function(self._filename, self._mode)\n",
      "  File \"/tmp/1619404925736-0/lib/python3.7/site-packages/s3transfer/utils.py\", line 261, in open\n",
      "    return open(filename, mode)\n",
      "PermissionError: [Errno 13] Permission denied: '/hello.txt.C46D1B04'\n",
      "\n"
     ]
    }
   ],
   "source": [
    "import boto3\n",
    "jobs={}\n",
    "# 先获取文件路径，拿文件内容\n",
    "from botocore.client import Config\n",
    "s3 = boto3.resource('s3', config=Config(signature_version='s3v4'))\n",
    "def getsqlPathList():\n",
    "    bucket='rupiahplus-configs'\n",
    "    sqlpath='etl/sparksql/daily/'\n",
    "    s3bucket = s3.Bucket(bucket)\n",
    "    sql_list = []\n",
    "    for obj in s3bucket.objects.filter(Prefix=sqlpath):\n",
    "        file=obj.key.split(\"/\")[-1]\n",
    "        filemain= file.split(\".\")\n",
    "        if len(filemain)!=2:\n",
    "            continue\n",
    "        print(filemain)\n",
    "        fileNm=filemain[0]\n",
    "        fileType=filemain[1]\n",
    "        if fileType is None:\n",
    "            pass\n",
    "        elif fileType=='txt' or fileType=='sql':\n",
    "            body=obj.get()['Body'].read().decode('utf-8')\n",
    "            jobs[fileNm]=body\n",
    "        elif fileType=='py':\n",
    "#             python文件就下载下来\n",
    "            print(sqlpath+file)\n",
    "            print('day/'+file)\n",
    "            s3.Bucket(bucket).download_file(sqlpath+file, '/hello.txt')\n",
    "#             with open('/day/'+file, 'wb') as data:\n",
    "#                 s3.download_fileobj(bucket, sqlpath+file, data)\n",
    "#         s3://rupiahplus-configs/etl/sparksql/daily/\n",
    "#             s3.meta.client.download_file(bucket, sqlpath+file, '/tmp1/hello.txt')\n",
    "#             body=obj.get()['Body'].read().decode('utf-8')\n",
    "#             jobs[fileNm]=body\n",
    "    print(jobs)\n",
    "    return jobs\n",
    "# class Job:\n",
    "#     def run(name,sql):\n",
    "#         jobs[name]=spark.sql(sql)\n",
    "# job = new Job()\n",
    "\n",
    "# job.run()\n",
    "jobs=getsqlPathList()\n",
    "# print(jobs)\n",
    "temp=None\n",
    "for i in jobs:\n",
    "    print(jobs[i])\n",
    "    if temp is None:\n",
    "        temp=spark.sql(jobs[i])\n",
    "#     else:\n",
    "        temp=temp.join(spark.sql(jobs[i]),how='full',on='create_time')\n",
    "# temp.show()"
   ]
  },
  {
   "cell_type": "code",
   "execution_count": 6,
   "id": "8e0469c4",
   "metadata": {},
   "outputs": [
    {
     "data": {
      "application/vnd.jupyter.widget-view+json": {
       "model_id": "95078cc8f18049809fa7eedad86dcf1a",
       "version_major": 2,
       "version_minor": 0
      },
      "text/plain": [
       "VBox()"
      ]
     },
     "metadata": {},
     "output_type": "display_data"
    },
    {
     "data": {
      "application/vnd.jupyter.widget-view+json": {
       "model_id": "",
       "version_major": 2,
       "version_minor": 0
      },
      "text/plain": [
       "FloatProgress(value=0.0, bar_style='info', description='Progress:', layout=Layout(height='25px', width='50%'),…"
      ]
     },
     "metadata": {},
     "output_type": "display_data"
    },
    {
     "name": "stderr",
     "output_type": "stream",
     "text": [
      "No module named 'python2'\n",
      "Traceback (most recent call last):\n",
      "  File \"/tmp/1619509231910-0/lib64/python3.7/importlib/__init__.py\", line 127, in import_module\n",
      "    return _bootstrap._gcd_import(name[level:], package, level)\n",
      "  File \"<frozen importlib._bootstrap>\", line 1006, in _gcd_import\n",
      "  File \"<frozen importlib._bootstrap>\", line 983, in _find_and_load\n",
      "  File \"<frozen importlib._bootstrap>\", line 965, in _find_and_load_unlocked\n",
      "ModuleNotFoundError: No module named 'python2'\n",
      "\n"
     ]
    }
   ],
   "source": [
    "\n",
    "import pyspark\n",
    "import sys\n",
    "import os\n",
    "import argparse\n",
    "import importlib\n",
    "from pyspark.sql import SparkSession\n",
    "spark = SparkSession\\\n",
    "        .builder\\\n",
    "        .appName(\"Python Demo\")\\\n",
    "        .config(\"hive.metastore.client.factory.class\", \"com.amazonaws.glue.catalog.metastore.AWSGlueDataCatalogHiveClientFactory\") \\\n",
    "        .enableHiveSupport()\\\n",
    "        .getOrCreate()\n",
    "if os.path.exists('python1.zip'):\n",
    "    sys.path.insert(0, 'python1.zip')\n",
    "else:\n",
    "    sys.path.insert(0, './python1')\n",
    "\n",
    "parser = argparse.ArgumentParser()\n",
    "# parser.add_argument('--job', type=str, required=True)\n",
    "# parser.add_argument('--job-args', nargs='*')\n",
    "args = parser.parse_args()\n",
    "\n",
    "# sc = pyspark.SparkContext(appName=args.job_name)\n",
    "job_module = importlib.import_module('python2')\n",
    "print(job_module.aaa())"
   ]
  },
  {
   "cell_type": "code",
   "execution_count": 1,
   "id": "c62cdc63",
   "metadata": {},
   "outputs": [
    {
     "data": {
      "application/vnd.jupyter.widget-view+json": {
       "model_id": "f4dcef0e08bb4ab8a59c6eb5c8f7050e",
       "version_major": 2,
       "version_minor": 0
      },
      "text/plain": [
       "VBox()"
      ]
     },
     "metadata": {},
     "output_type": "display_data"
    },
    {
     "name": "stdout",
     "output_type": "stream",
     "text": [
      "Starting Spark application\n"
     ]
    },
    {
     "data": {
      "text/html": [
       "<table>\n",
       "<tr><th>ID</th><th>YARN Application ID</th><th>Kind</th><th>State</th><th>Spark UI</th><th>Driver log</th><th>Current session?</th></tr><tr><td>1</td><td>application_1620282896169_0002</td><td>pyspark</td><td>idle</td><td><a target=\"_blank\" href=\"http://ip-10-3-0-99.ap-southeast-1.compute.internal:20888/proxy/application_1620282896169_0002/\">Link</a></td><td><a target=\"_blank\" href=\"http://ip-10-3-0-75.ap-southeast-1.compute.internal:8042/node/containerlogs/container_1620282896169_0002_01_000001/livy\">Link</a></td><td>✔</td></tr></table>"
      ],
      "text/plain": [
       "<IPython.core.display.HTML object>"
      ]
     },
     "metadata": {},
     "output_type": "display_data"
    },
    {
     "data": {
      "application/vnd.jupyter.widget-view+json": {
       "model_id": "",
       "version_major": 2,
       "version_minor": 0
      },
      "text/plain": [
       "FloatProgress(value=0.0, bar_style='info', description='Progress:', layout=Layout(height='25px', width='50%'),…"
      ]
     },
     "metadata": {},
     "output_type": "display_data"
    },
    {
     "name": "stdout",
     "output_type": "stream",
     "text": [
      "SparkSession available as 'spark'.\n"
     ]
    },
    {
     "data": {
      "application/vnd.jupyter.widget-view+json": {
       "model_id": "",
       "version_major": 2,
       "version_minor": 0
      },
      "text/plain": [
       "FloatProgress(value=0.0, bar_style='info', description='Progress:', layout=Layout(height='25px', width='50%'),…"
      ]
     },
     "metadata": {},
     "output_type": "display_data"
    }
   ],
   "source": [
    "df1=spark.sql(\"\"\"\n",
    "SELECT  cust.id AS id\n",
    "FROM `banda-etl-s3`.t_customer cust\n",
    "LEFT JOIN `banda-etl-s3`.t_test_customer test_cust\n",
    "ON cust.id = test_cust.customer_id\n",
    "WHERE test_cust.customer_id is null   \n",
    "\n",
    "\"\"\")"
   ]
  },
  {
   "cell_type": "code",
   "execution_count": 2,
   "id": "eea0a826",
   "metadata": {},
   "outputs": [
    {
     "data": {
      "application/vnd.jupyter.widget-view+json": {
       "model_id": "0f2dbad7b42341c8bb2ebcd88240b183",
       "version_major": 2,
       "version_minor": 0
      },
      "text/plain": [
       "VBox()"
      ]
     },
     "metadata": {},
     "output_type": "display_data"
    },
    {
     "data": {
      "application/vnd.jupyter.widget-view+json": {
       "model_id": "",
       "version_major": 2,
       "version_minor": 0
      },
      "text/plain": [
       "FloatProgress(value=0.0, bar_style='info', description='Progress:', layout=Layout(height='25px', width='50%'),…"
      ]
     },
     "metadata": {},
     "output_type": "display_data"
    }
   ],
   "source": [
    "df2=spark.sql(\"\"\"\n",
    "     WITH loan_situation AS (\n",
    "SELECT  loan_detail.*\n",
    "       ,app.status                                                                                                 AS last_loan_status\n",
    "       ,CASE WHEN app.status IN ( 'CURRENT','OVERDUE','PAID_OFF','GRACE_PERIOD' ) THEN pay.due_date  ELSE NULL END AS last_loan_due_date\n",
    "       ,CASE WHEN app.status IN ( 'CURRENT','OVERDUE','GRACE_PERIOD' ) THEN COALESCE (pay.principal_accr,0)+ COALESCE (pay.interest_accr,0) + COALESCE (pay.default_accr,0) + COALESCE (pay.service_fee_accr,0)+ COALESCE (pay.default_fee_accr,0)-( COALESCE (pay.principal_paid,0)+ COALESCE (pay.interest_paid,0) + COALESCE (pay.default_paid,0) + COALESCE (pay.service_fee_paid,0)+ COALESCE (pay.default_fee_paid,0) )  ELSE NULL END AS current_loan_out\n",
    "       ,CASE WHEN app.status IN ( 'CURRENT','OVERDUE','GRACE_PERIOD' ) THEN COALESCE(pay.principal_accr,0)- COALESCE(pay.principal_paid,0)  ELSE NULL END AS current_loan_principal\n",
    "FROM \n",
    "(\n",
    "\tSELECT  app.customer_id\n",
    "\t       ,MIN(app.create_time)                                                        AS first_apply_time\n",
    "\t       ,MIN(cu_status.create_time)                                                  AS first_issue_time\n",
    "\t       ,MIN( If( app.loan_type = 'RE_PAYDAY',app.create_time,NULL ) )               AS first_repayday_create_time\n",
    "\t       ,COUNT( If( cu_status.id > 0 AND app.loan_type != 'ROLLOVER',app.id,NULL ) ) AS total_issue_time\n",
    "\t       ,SUM( If( cu_status.id > 0 AND app.loan_type != 'ROLLOVER',app.amount,0 ) )  AS total_issue_amount\n",
    "\t       ,SUM( If( cu_status.id > 0,COALESCE (pay.principal_paid,0)+ COALESCE (pay.interest_paid,0) + COALESCE (pay.default_paid,0) + COALESCE (pay.rollover_fee_paid,0)+ COALESCE (pay.service_fee_paid,0)- COALESCE (pay.erase_amount,0)- COALESCE (pay.coupon_amount,0),0 ) ) AS total_paid_amount\n",
    "\t       ,MAX(app.id)                                                                 AS last_loan_id\n",
    "\tFROM `banda-etl-s3`.t_loan_app app\n",
    "\tLEFT JOIN `banda-etl-s3`.t_loan_app_status_log cu_status\n",
    "\tON app.id = cu_status.loan_app_id AND cu_status.new_status = 'CURRENT'\n",
    "\tLEFT JOIN `banda-etl-s3`.t_lpay pay\n",
    "\tON app.id = pay.loan_app_id\n",
    "\tWHERE app.create_time + interval '7' hour > date '2019-08-01' \n",
    "\tGROUP BY  app.customer_id \n",
    ") loan_detail\n",
    "LEFT JOIN `banda-etl-s3`.t_loan_app app\n",
    "ON loan_detail.last_loan_id = app.id\n",
    "LEFT JOIN `banda-etl-s3`.t_lpay pay\n",
    "ON loan_detail.last_loan_id = pay.loan_app_id ), record_detail AS (\n",
    "SELECT  customer.id\n",
    "       ,MIN(pi.create_time)                                                                             AS verified_time\n",
    "       ,MIN( IF( pi.marital_status IS NOT NULL,pi.create_time,NULL ) )                                  AS pi_time\n",
    "       ,MIN(emp.create_time)                                                                            AS emp_time\n",
    "       ,MIN(contact.create_time)                                                                        AS contact_time\n",
    "       ,MIN( IF( FILE.file_type = 'KTP_PHOTO',FILE.create_time,NULL ) )                                 AS ktp_time\n",
    "       ,MIN( IF( FILE.file_type = 'KTP_HAND_PHOTO',FILE.create_time,NULL ) )                            AS ktp_hand_time\n",
    "       ,MIN(tongdun.create_time)                                                                        AS increase_time\n",
    "       ,MIN( IF( FILE.file_type IN( 'YITU_BIO_PACKAGE','FACEID_BIO_PACKAGE' ),FILE.create_time,NULL ) ) AS bio_time\n",
    "FROM `banda-etl-s3`.t_customer customer\n",
    "LEFT JOIN `banda-etl-s3`.t_record_personal_info pi\n",
    "ON pi.customer_id = customer.id\n",
    "LEFT JOIN `banda-etl-s3`.t_record_employment emp\n",
    "ON emp.customer_id = customer.id\n",
    "LEFT JOIN `banda-etl-s3`.t_record_contact contact\n",
    "ON contact.customer_id = customer.id\n",
    "LEFT JOIN `banda-etl-s3`.t_record_file FILE\n",
    "ON FILE.customer_id = customer.id\n",
    "LEFT JOIN `banda-etl-s3`.t_tongdun_data tongdun\n",
    "ON tongdun.customer_id = customer.id\n",
    "GROUP BY  customer.id )\n",
    "         ,record AS (\n",
    "SELECT  id\n",
    "       ,CASE WHEN pi_time > emp_time AND pi_time > contact_time AND pi_time > file_time AND pi_time > file_h_time AND pi_time > bio_time THEN pi_time \n",
    "             WHEN emp_time > pi_time AND emp_time > contact_time AND emp_time > file_time AND emp_time > file_h_time AND emp_time > bio_time THEN emp_time \n",
    "             WHEN contact_time > pi_time AND contact_time > emp_time AND contact_time > file_time AND contact_time > file_h_time AND contact_time > bio_time THEN contact_time \n",
    "             WHEN file_time > pi_time AND file_time > emp_time AND file_time > contact_time AND file_time > file_h_time AND file_time > bio_time THEN file_time \n",
    "             WHEN bio_time > pi_time AND bio_time > emp_time AND bio_time > contact_time AND bio_time > file_time AND bio_time > file_h_time THEN bio_time  ELSE file_h_time END AS record_time\n",
    "FROM \n",
    "(\n",
    "\tSELECT  customer.id\n",
    "\t       ,MIN(pi.create_time)                                                                             AS pi_time\n",
    "\t       ,MIN(emp.create_time)                                                                            AS emp_time\n",
    "\t       ,MIN(contact.create_time)                                                                        AS contact_time\n",
    "\t       ,MIN( IF( FILE.file_type = 'KTP_PHOTO',FILE.create_time,NULL ) )                                 AS file_time\n",
    "\t       ,MIN( IF( FILE.file_type = 'KTP_HAND_PHOTO',FILE.create_time,NULL ) )                            AS file_h_time\n",
    "\t       ,MIN( IF( FILE.file_type IN( 'YITU_BIO_PACKAGE','FACEID_BIO_PACKAGE' ),FILE.create_time,NULL ) ) AS bio_time\n",
    "\tFROM `banda-etl-s3`.t_customer customer\n",
    "\tLEFT JOIN `banda-etl-s3`.t_record_personal_info pi\n",
    "\tON pi.customer_id = customer.id AND pi.marital_status != ''\n",
    "\tLEFT JOIN `banda-etl-s3`.t_record_employment emp\n",
    "\tON emp.customer_id = customer.id\n",
    "\tLEFT JOIN `banda-etl-s3`.t_record_contact contact\n",
    "\tON contact.customer_id = customer.id\n",
    "\tLEFT JOIN `banda-etl-s3`.t_record_file FILE\n",
    "\tON FILE.customer_id = customer.id\n",
    "\tWHERE date( customer.create_time + interval '7' hour ) > date '2019-08-01' \n",
    "\tAND pi.customer_id > 0 \n",
    "\tAND emp.customer_id > 0 \n",
    "\tAND contact.customer_id > 0 \n",
    "\tAND FILE.customer_id > 0 \n",
    "\tGROUP BY  customer.id \n",
    ") detail\n",
    "WHERE file_time IS NOT NULL \n",
    "AND file_h_time IS NOT NULL \n",
    "AND bio_time IS NOT NULL ), first_loan AS ( \n",
    "SELECT  customer.id\n",
    "       ,MIN(auto_loan.create_time) AS authorized_time\n",
    "       ,MIN(app.create_time)       AS apply_time\n",
    "       ,MIN(lg.create_time)        AS issue_time\n",
    "       ,MIN(lgt.create_time)       AS withdraw_time\n",
    "FROM `banda-etl-s3`.t_customer customer\n",
    "LEFT JOIN `banda-etl-s3`.t_auto_review_loan auto_loan\n",
    "ON customer.id = auto_loan.customer_id AND auto_loan.real_policy = 'payday_amount_scorecard' AND auto_loan.result = 'PASS'\n",
    "LEFT JOIN `banda-etl-s3`.t_loan_app app\n",
    "ON app.customer_id = customer.id AND app.loan_type = 'PAYDAY'\n",
    "LEFT JOIN `banda-etl-s3`.t_loan_app_status_log lg\n",
    "ON lg.loan_app_id = app.id AND lg.new_status = 'CURRENT'\n",
    "LEFT JOIN `banda-etl-s3`.t_loan_app app1\n",
    "ON app1.id = lg.loan_app_id AND app1.loan_type != 'ROLLOVER'\n",
    "LEFT JOIN `banda-etl-s3`.t_loan_app_status_log lgt\n",
    "ON lgt.loan_app_id = app.id AND lgt.old_status = 'AUTHORIZATION' AND lgt.new_status = 'FINAL_REVIEW'\n",
    "GROUP BY  customer.id )\n",
    "         ,customer_device AS (\n",
    "SELECT  customer_id\n",
    "       ,value\n",
    "       ,create_time\n",
    "FROM `banda-etl-s3`.`t_customer_device_info`\n",
    "WHERE id IN ( SELECT id FROM  ( SELECT customer_id, MIN (id) AS id FROM `banda-etl-s3`.`t_customer_device_info` WHERE type = 'ANDROID_ID' GROUP BY customer_id  ) a ) ), version AS ( \n",
    "SELECT  android_id\n",
    "       ,app_version\n",
    "       ,MIN( cast( concat( partition_0,'-',partition_1,'-',partition_2 ) AS date ) ) AS version_time\n",
    "FROM `ddb_event_track_s3`.`id_adapundi_event_track`\n",
    "WHERE partition_0 >= '2021' \n",
    "AND app_version IS NOT NULL \n",
    "GROUP BY  android_id\n",
    "         ,app_version )\n",
    "         ,register_version AS (\n",
    "SELECT  rk.*\n",
    "       ,cu.create_time\n",
    "FROM \n",
    "(\n",
    "\tSELECT  de.customer_id\n",
    "\t       ,de.value\n",
    "\t       ,de.create_time AS device_time\n",
    "\t       ,ve.version_time\n",
    "\t       ,ve.app_version\n",
    "\t       ,row_number() OVER ( partition BY de.customer_id ORDER BY ve.version_time DESC ) rnk\n",
    "\tFROM customer_device de\n",
    "\tLEFT JOIN version ve\n",
    "\tON de.value = ve.android_id AND ve.version_time < de.create_time\n",
    "\tWHERE ve.android_id IS NOT NULL  \n",
    ") rk\n",
    "LEFT JOIN `banda-etl-s3`.`t_customer` cu\n",
    "ON rk.customer_id = cu.id\n",
    "WHERE cu.create_time > rk.version_time \n",
    "AND rk.rnk = 1\n",
    "ORDER BY rk.customer_id ), change_mobile AS ( \n",
    "SELECT  customer_id\n",
    "       ,first_cn_time\n",
    "       ,CASE WHEN first_cn_time < first_cn_success_time THEN first_cn_success_time END AS first_cn_success_time\n",
    "       ,CASE WHEN first_cn_time < first_cn_success_time THEN 1 \n",
    "             WHEN first_cn_time IS NOT NULL THEN 0 END                                 AS ch_end\n",
    "FROM \n",
    "(\n",
    "\tSELECT  customer_id\n",
    "\t       ,MIN( IF(tag_id = 10001,create_time,NULL) ) AS first_cn_time\n",
    "\t       ,MIN( IF(tag_id = 10002,create_time,NULL) ) AS first_cn_success_time\n",
    "\tFROM `banda-etl-s3`.`t_customer_tag_rel`\n",
    "\tWHERE tag_id IN (10001, 10002) \n",
    "\tGROUP BY  customer_id \n",
    ") de )\n",
    "SELECT  cus.id                                                                                                                                      AS id\n",
    "       ,cus.create_time                                                                                                                             AS register_time\n",
    "       ,cus.last_login_time\n",
    "       ,cus.inviter_id\n",
    "       ,CASE WHEN whitelist.customer_id > 0 THEN 'Y'  ELSE 'N' END                                                                                  AS is_whitelist\n",
    "       ,install.af_channel\n",
    "       ,install.media_source\n",
    "       ,install.campaign\n",
    "       ,install.agency\n",
    "       ,install.fb_campaign_id\n",
    "       ,install.channel_details_id\n",
    "       ,install.install_time\n",
    "       ,CASE WHEN record.id > 0 THEN 'Y'  ELSE 'N' END                                                                                              AS is_record\n",
    "       ,record.record_time\n",
    "       ,loan.first_apply_time\n",
    "       ,loan.first_issue_time\n",
    "       ,loan.first_repayday_create_time\n",
    "       ,loan.total_issue_time\n",
    "       ,loan.total_issue_amount\n",
    "       ,loan.total_paid_amount\n",
    "       ,loan.last_loan_status\n",
    "       ,loan.last_loan_due_date\n",
    "       ,loan.current_loan_out\n",
    "       ,loan.current_loan_principal\n",
    "       ,rd.verified_time\n",
    "       ,rd.pi_time\n",
    "       ,rd.emp_time\n",
    "       ,rd.contact_time\n",
    "       ,rd.bio_time\n",
    "       ,CASE WHEN rd.ktp_time > cus.create_time AND rd.ktp_hand_time > cus.create_time AND rd.ktp_time > rd.ktp_hand_time THEN rd.ktp_time \n",
    "             WHEN rd.ktp_time > cus.create_time AND rd.ktp_hand_time > cus.create_time AND rd.ktp_time < rd.ktp_hand_time THEN rd.ktp_hand_time END AS ktp_time\n",
    "       ,rd.increase_time\n",
    "       ,record.record_time                                                                                                                          AS required_time\n",
    "       ,fl.authorized_time\n",
    "       ,fl.withdraw_time\n",
    "       ,ve.app_version                                                                                                                              AS register_version\n",
    "       ,ve.version_time                                                                                                                             AS register_version_time\n",
    "       ,cus.main_account\n",
    "       ,CASE WHEN cus.main_account IS NOT NULL THEN 'N'  ELSE 'Y' END                                                                               AS is_main_account\n",
    "       ,cmo.ch_end\n",
    "       ,cus.status\n",
    "       ,cmo.first_cn_time\n",
    "       ,cmo.first_cn_success_time\n",
    "FROM `banda-etl-s3`.t_customer cus\n",
    "LEFT JOIN `banda-etl-s3`.t_customer_install_info install\n",
    "ON cus.id = install.customer_id\n",
    "LEFT JOIN change_mobile cmo\n",
    "ON cus.id = cmo.customer_id\n",
    "LEFT JOIN `banda-etl-s3`.t_whitelist_old_customer whitelist\n",
    "ON cus.id = whitelist.customer_id\n",
    "LEFT JOIN loan_situation loan\n",
    "ON cus.id = loan.customer_id\n",
    "LEFT JOIN record\n",
    "ON cus.id = record.id\n",
    "LEFT JOIN record_detail rd\n",
    "ON cus.id = rd.id\n",
    "LEFT JOIN first_loan fl\n",
    "ON cus.id = fl.id\n",
    "LEFT JOIN register_version ve\n",
    "ON cus.id = ve.customer_id\n",
    "\"\"\")"
   ]
  },
  {
   "cell_type": "code",
   "execution_count": 3,
   "id": "04357a46",
   "metadata": {},
   "outputs": [
    {
     "data": {
      "application/vnd.jupyter.widget-view+json": {
       "model_id": "ecc2697fea40485fbe0213d00f2a0b9a",
       "version_major": 2,
       "version_minor": 0
      },
      "text/plain": [
       "VBox()"
      ]
     },
     "metadata": {},
     "output_type": "display_data"
    },
    {
     "data": {
      "application/vnd.jupyter.widget-view+json": {
       "model_id": "",
       "version_major": 2,
       "version_minor": 0
      },
      "text/plain": [
       "FloatProgress(value=0.0, bar_style='info', description='Progress:', layout=Layout(height='25px', width='50%'),…"
      ]
     },
     "metadata": {},
     "output_type": "display_data"
    },
    {
     "name": "stdout",
     "output_type": "stream",
     "text": [
      "[Column<b'id'>]\n",
      "+------+------+--------------------+--------------------+----------+------------+-----------+------------+--------------------+----------+--------------+------------------+--------------------+---------+-----------+--------------------+----------------+--------------------------+----------------+------------------+-----------------+----------------+------------------+----------------+----------------------+--------------------+--------------------+--------------------+--------------------+--------------------+--------+-------------+-------------+---------------+-------------+----------------+---------------------+------------+---------------+------+-------------+-------------+---------------------+\n",
      "|    id|    id|       register_time|     last_login_time|inviter_id|is_whitelist| af_channel|media_source|            campaign|    agency|fb_campaign_id|channel_details_id|        install_time|is_record|record_time|    first_apply_time|first_issue_time|first_repayday_create_time|total_issue_time|total_issue_amount|total_paid_amount|last_loan_status|last_loan_due_date|current_loan_out|current_loan_principal|       verified_time|             pi_time|            emp_time|        contact_time|            bio_time|ktp_time|increase_time|required_time|authorized_time|withdraw_time|register_version|register_version_time|main_account|is_main_account|ch_end|       status|first_cn_time|first_cn_success_time|\n",
      "+------+------+--------------------+--------------------+----------+------------+-----------+------------+--------------------+----------+--------------+------------------+--------------------+---------+-----------+--------------------+----------------+--------------------------+----------------+------------------+-----------------+----------------+------------------+----------------+----------------------+--------------------+--------------------+--------------------+--------------------+--------------------+--------+-------------+-------------+---------------+-------------+----------------+---------------------+------------+---------------+------+-------------+-------------+---------------------+\n",
      "|100064|100064|2017-04-26 12:47:...|2018-07-09 23:57:...|      null|           N|       null|cashcash_int|                None|      null|          null|           6213494|2018-06-13 20:34:...|        N|       null|                null|            null|                      null|            null|              null|             null|            null|              null|            null|                  null|2017-04-26 05:52:...|2017-04-26 05:52:...|2017-04-26 05:55:...|2017-11-12 19:23:...|                null|    null|         null|         null|           null|         null|            null|                 null|        null|              Y|  null|       ACTIVE|         null|                 null|\n",
      "|100082|100082|2017-04-26 23:26:...|2017-08-26 04:44:...|      null|           N|       null|        null|                null|      null|          null|              null|                null|        N|       null|                null|            null|                      null|            null|              null|             null|            null|              null|            null|                  null|2017-08-26 04:56:...|2017-08-26 04:56:...|                null|                null|                null|    null|         null|         null|           null|         null|            null|                 null|        null|              Y|  null|       ACTIVE|         null|                 null|\n",
      "|100109|100109|2017-04-27 07:39:...|2018-07-03 22:24:...|      null|           N|       null|superads_int|                None|      null|          null|           6417364|2018-07-04 05:22:...|        N|       null|                null|            null|                      null|            null|              null|             null|            null|              null|            null|                  null|2017-04-28 05:08:...|2017-04-28 05:08:...|2017-04-28 05:08:...|2017-04-28 05:08:...|                null|    null|         null|         null|           null|         null|            null|                 null|        null|              Y|  null|       ACTIVE|         null|                 null|\n",
      "|100139|100139|2017-04-27 16:47:...|2017-04-27 09:47:...|      null|           N|       null|        null|                null|      null|          null|              null|                null|        N|       null|                null|            null|                      null|            null|              null|             null|            null|              null|            null|                  null|                null|                null|                null|                null|                null|    null|         null|         null|           null|         null|            null|                 null|        null|              Y|  null|       ACTIVE|         null|                 null|\n",
      "|100147|100147|2017-04-27 18:51:...|2017-04-27 11:51:...|      null|           N|       null|        null|                null|      null|          null|              null|                null|        N|       null|                null|            null|                      null|            null|              null|             null|            null|              null|            null|                  null|2017-04-27 11:53:...|2017-04-27 11:53:...|2017-04-27 11:55:...|                null|                null|    null|         null|         null|           null|         null|            null|                 null|        null|              Y|  null|       ACTIVE|         null|                 null|\n",
      "|100258|100258|2017-04-29 05:32:...|2019-03-28 01:39:...|      null|           N|       null|  inmobi_int|          inmobi-cpi|      null|          null|           6974206|2018-09-12 11:28:...|        N|       null|2019-11-14 03:06:...|            null|      2019-11-14 03:06:...|               0|              0E-8|             0E-8|        REJECTED|              null|            null|                  null|2018-09-12 04:31:...|2018-09-12 04:31:...|2018-09-12 04:32:...|2018-09-12 04:36:...|2019-11-14 03:04:...|    null|         null|         null|           null|         null|            null|                 null|        null|              Y|  null|DISABLE_LOGIN|         null|                 null|\n",
      "|100321|100321|2017-04-29 19:51:...|2018-09-27 23:03:...|      null|           N|       null|     Organic|                null|      null|          null|            375805|2017-09-22 03:06:...|        N|       null|                null|            null|                      null|            null|              null|             null|            null|              null|            null|                  null|2017-04-29 13:05:...|2017-04-29 13:05:...|2017-04-29 13:01:...|2018-01-02 22:19:...|                null|    null|         null|         null|           null|         null|            null|                 null|        null|              Y|  null|       ACTIVE|         null|                 null|\n",
      "|100465|100465|2017-05-01 03:46:...|2017-07-31 09:07:...|      null|           N|       null|        null|                null|      null|          null|              null|                null|        N|       null|                null|            null|                      null|            null|              null|             null|            null|              null|            null|                  null|                null|                null|                null|                null|                null|    null|         null|         null|           null|         null|            null|                 null|        null|              Y|  null|       ACTIVE|         null|                 null|\n",
      "|100501|100501|2017-05-01 10:14:...|2018-05-24 02:22:...|      null|           N|       null|        null|                null|      null|          null|              null|                null|        N|       null|                null|            null|                      null|            null|              null|             null|            null|              null|            null|                  null|2017-05-01 03:15:...|2017-05-01 03:15:...|2017-05-01 03:17:...|2017-05-01 03:17:...|                null|    null|         null|         null|           null|         null|            null|                 null|        null|              Y|  null|       ACTIVE|         null|                 null|\n",
      "|100565|100565|2017-05-01 17:26:...|2017-05-01 10:27:...|      null|           N|       null|        null|                null|      null|          null|              null|                null|        N|       null|                null|            null|                      null|            null|              null|             null|            null|              null|            null|                  null|                null|                null|                null|                null|                null|    null|         null|         null|           null|         null|            null|                 null|        null|              Y|  null|       ACTIVE|         null|                 null|\n",
      "|100616|100616|2017-05-02 03:24:...|2017-05-01 20:24:...|      null|           N|       null|        null|                null|      null|          null|              null|                null|        N|       null|                null|            null|                      null|            null|              null|             null|            null|              null|            null|                  null|2017-05-02 18:19:...|2017-05-02 18:19:...|2017-05-02 18:21:...|2017-05-01 20:30:...|                null|    null|         null|         null|           null|         null|            null|                 null|        null|              Y|  null|       ACTIVE|         null|                 null|\n",
      "|100645|100645|2017-05-02 06:36:...|2017-05-13 00:54:...|      null|           N|       null|        null|                null|      null|          null|              null|                null|        N|       null|                null|            null|                      null|            null|              null|             null|            null|              null|            null|                  null|                null|                null|                null|                null|                null|    null|         null|         null|           null|         null|            null|                 null|        null|              Y|  null|       ACTIVE|         null|                 null|\n",
      "|100726|100726|2017-05-02 17:46:...|2017-05-02 10:46:...|      null|           N|       null|        null|                null|      null|          null|              null|                null|        N|       null|                null|            null|                      null|            null|              null|             null|            null|              null|            null|                  null|2017-05-02 10:51:...|2017-05-02 10:51:...|2017-05-02 10:52:...|2017-05-02 10:55:...|                null|    null|         null|         null|           null|         null|            null|                 null|        null|              Y|  null|       ACTIVE|         null|                 null|\n",
      "|100756|100756|2017-05-03 01:17:...|2017-05-03 02:25:...|      null|           N|       null|        null|                null|      null|          null|              null|                null|        N|       null|                null|            null|                      null|            null|              null|             null|            null|              null|            null|                  null|                null|                null|                null|                null|                null|    null|         null|         null|           null|         null|            null|                 null|        null|              Y|  null|       ACTIVE|         null|                 null|\n",
      "|100822|100822|2017-05-03 07:43:...|2017-05-03 00:43:...|      null|           N|       null|        null|                null|      null|          null|              null|                null|        N|       null|                null|            null|                      null|            null|              null|             null|            null|              null|            null|                  null|                null|                null|                null|                null|                null|    null|         null|         null|           null|         null|            null|                 null|        null|              Y|  null|       ACTIVE|         null|                 null|\n",
      "|100847|100847|2017-05-03 09:53:...|2018-07-25 09:48:...|      null|           N|UAC_Display|        null|ID-TEXT2-4%-0.38-...|   FBMagic|          null|           6443412|2018-07-07 13:49:...|        N|       null|                null|            null|                      null|            null|              null|             null|            null|              null|            null|                  null|2017-12-01 10:47:...|2017-12-01 10:47:...|2017-05-03 02:56:...|2017-05-03 02:58:...|                null|    null|         null|         null|           null|         null|            null|                 null|        null|              Y|  null|       ACTIVE|         null|                 null|\n",
      "|100915|100915|2017-05-03 16:10:...|2017-05-03 09:10:...|      null|           N|       null|        null|                null|      null|          null|              null|                null|        N|       null|                null|            null|                      null|            null|              null|             null|            null|              null|            null|                  null|                null|                null|                null|                null|                null|    null|         null|         null|           null|         null|            null|                 null|        null|              Y|  null|       ACTIVE|         null|                 null|\n",
      "|100921|100921|2017-05-03 17:18:...|2018-06-17 20:42:...|      null|           N|UAC_Display|        null|solosystem_Rupiah...|solosystem|          null|           6246484|2018-06-18 03:38:...|        N|       null|                null|            null|                      null|            null|              null|             null|            null|              null|            null|                  null|2017-05-03 10:25:...|2017-05-03 10:25:...|2017-05-03 10:27:...|2017-05-04 01:51:...|                null|    null|         null|         null|           null|         null|            null|                 null|        null|              Y|  null|       ACTIVE|         null|                 null|\n",
      "|100987|100987|2017-05-04 03:04:...|2017-05-03 20:04:...|      null|           N|       null|        null|                null|      null|          null|              null|                null|        N|       null|                null|            null|                      null|            null|              null|             null|            null|              null|            null|                  null|                null|                null|                null|                null|                null|    null|         null|         null|           null|         null|            null|                 null|        null|              Y|  null|       ACTIVE|         null|                 null|\n",
      "|101218|101218|2017-05-05 01:10:...|2017-05-11 03:22:...|      null|           N|       null|        null|                null|      null|          null|              null|                null|        N|       null|                null|            null|                      null|            null|              null|             null|            null|              null|            null|                  null|2017-05-04 18:13:...|2017-05-04 18:13:...|2017-05-04 18:21:...|2017-05-04 18:27:...|                null|    null|         null|         null|           null|         null|            null|                 null|        null|              Y|  null|       ACTIVE|         null|                 null|\n",
      "+------+------+--------------------+--------------------+----------+------------+-----------+------------+--------------------+----------+--------------+------------------+--------------------+---------+-----------+--------------------+----------------+--------------------------+----------------+------------------+-----------------+----------------+------------------+----------------+----------------------+--------------------+--------------------+--------------------+--------------------+--------------------+--------+-------------+-------------+---------------+-------------+----------------+---------------------+------------+---------------+------+-------------+-------------+---------------------+\n",
      "only showing top 20 rows"
     ]
    }
   ],
   "source": [
    "cols = [df1[c] for c in df1.columns]\n",
    "print(cols)\n",
    "for df in [df2]:\n",
    "    df1 = df1.join(df, df1.id == df.id, 'left')\n",
    "    cols += [df[c] for c in df.columns if c != 'id']\n",
    "# print(cols)\n",
    "# df1.show()\n",
    "\n",
    "# df1.select(cols).printSchema()\n",
    "\n"
   ]
  },
  {
   "cell_type": "code",
   "execution_count": 2,
   "id": "c45ff174",
   "metadata": {},
   "outputs": [
    {
     "data": {
      "application/vnd.jupyter.widget-view+json": {
       "model_id": "9b6ab6344be444c1a59d9bcb93898537",
       "version_major": 2,
       "version_minor": 0
      },
      "text/plain": [
       "VBox()"
      ]
     },
     "metadata": {},
     "output_type": "display_data"
    },
    {
     "data": {
      "application/vnd.jupyter.widget-view+json": {
       "model_id": "",
       "version_major": 2,
       "version_minor": 0
      },
      "text/plain": [
       "FloatProgress(value=0.0, bar_style='info', description='Progress:', layout=Layout(height='25px', width='50%'),…"
      ]
     },
     "metadata": {},
     "output_type": "display_data"
    },
    {
     "name": "stdout",
     "output_type": "stream",
     "text": [
      "+----------+\n",
      "|      date|\n",
      "+----------+\n",
      "|2019-08-01|\n",
      "|2019-08-02|\n",
      "|2019-08-03|\n",
      "|2019-08-04|\n",
      "|2019-08-05|\n",
      "|2019-08-06|\n",
      "|2019-08-07|\n",
      "|2019-08-08|\n",
      "|2019-08-09|\n",
      "|2019-08-10|\n",
      "|2019-08-11|\n",
      "|2019-08-12|\n",
      "|2019-08-13|\n",
      "|2019-08-14|\n",
      "|2019-08-15|\n",
      "|2019-08-16|\n",
      "|2019-08-17|\n",
      "|2019-08-18|\n",
      "|2019-08-19|\n",
      "|2019-08-20|\n",
      "+----------+\n",
      "only showing top 20 rows"
     ]
    }
   ],
   "source": []
  }
 ],
 "metadata": {
  "kernelspec": {
   "display_name": "PySpark",
   "language": "",
   "name": "pysparkkernel"
  },
  "language_info": {
   "codemirror_mode": {
    "name": "python",
    "version": 2
   },
   "mimetype": "text/x-python",
   "name": "pyspark",
   "pygments_lexer": "python2"
  }
 },
 "nbformat": 4,
 "nbformat_minor": 5
}
