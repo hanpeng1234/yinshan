{
 "cells": [
  {
   "cell_type": "code",
   "execution_count": 1,
   "metadata": {},
   "outputs": [
    {
     "data": {
      "application/vnd.jupyter.widget-view+json": {
       "model_id": "6a79f22b69794023b56c5cc594e4dc46",
       "version_major": 2,
       "version_minor": 0
      },
      "text/plain": [
       "VBox()"
      ]
     },
     "metadata": {},
     "output_type": "display_data"
    },
    {
     "name": "stdout",
     "output_type": "stream",
     "text": [
      "Starting Spark application\n"
     ]
    },
    {
     "data": {
      "text/html": [
       "<table>\n",
       "<tr><th>ID</th><th>YARN Application ID</th><th>Kind</th><th>State</th><th>Spark UI</th><th>Driver log</th><th>Current session?</th></tr><tr><td>1</td><td>application_1586227542186_0002</td><td>pyspark</td><td>idle</td><td><a target=\"_blank\" href=\"http://ip-172-31-9-28.ap-southeast-1.compute.internal:20888/proxy/application_1586227542186_0002/\">Link</a></td><td><a target=\"_blank\" href=\"http://ip-172-31-4-71.ap-southeast-1.compute.internal:8042/node/containerlogs/container_1586227542186_0002_01_000001/livy\">Link</a></td><td>✔</td></tr></table>"
      ],
      "text/plain": [
       "<IPython.core.display.HTML object>"
      ]
     },
     "metadata": {},
     "output_type": "display_data"
    },
    {
     "data": {
      "application/vnd.jupyter.widget-view+json": {
       "model_id": "",
       "version_major": 2,
       "version_minor": 0
      },
      "text/plain": [
       "FloatProgress(value=0.0, bar_style='info', description='Progress:', layout=Layout(height='25px', width='50%'),…"
      ]
     },
     "metadata": {},
     "output_type": "display_data"
    },
    {
     "name": "stdout",
     "output_type": "stream",
     "text": [
      "SparkSession available as 'spark'.\n"
     ]
    },
    {
     "data": {
      "application/vnd.jupyter.widget-view+json": {
       "model_id": "",
       "version_major": 2,
       "version_minor": 0
      },
      "text/plain": [
       "FloatProgress(value=0.0, bar_style='info', description='Progress:', layout=Layout(height='25px', width='50%'),…"
      ]
     },
     "metadata": {},
     "output_type": "display_data"
    }
   ],
   "source": [
    "loanDF = spark.sql(\"\"\"\n",
    "SELECT a.customer_id cid,\n",
    "        a.android_id aid,\n",
    "        a.status,\n",
    "        case\n",
    "        when a.paid_off_mode is not null then a.paid_off_mode\n",
    "        else a.loan_type end loan_type,\n",
    "        a.id lid,\n",
    "        a.interest_rate interest,\n",
    "        unix_timestamp(a.create_time) - unix_timestamp(rpi.create_time) time_diff_till_pi,\n",
    "        unix_timestamp(a.create_time) - unix_timestamp(rbc.create_time) time_diff_till_bc,\n",
    "        unix_timestamp(a.create_time) - unix_timestamp(rct.create_time) time_diff_till_ct,\n",
    "        unix_timestamp(a.create_time) - unix_timestamp(rem.create_time) time_diff_till_em,\n",
    "        unix_timestamp(a.create_time) - unix_timestamp(ref.create_time) time_diff_till_ef,\n",
    "        pi.credential_type,\n",
    "        pi.gender,\n",
    "        pi.marital_status,\n",
    "        pi.last_education,\n",
    "        cast(pi.birthday as int) birthday,\n",
    "        e.company_type,\n",
    "        e.profession,\n",
    "        e.title,\n",
    "        e.salary,\n",
    "        e.salary_day,\n",
    "        e.working_years,\n",
    "        bc.bank_code,\n",
    "        case\n",
    "        when b.last_punishment_time is null then 0\n",
    "        else datediff(b.last_punishment_time, b.due_date) end overdue_days, \n",
    "        submit.create_time create_time\n",
    "FROM luzon_etl_s3.t_loan_app a\n",
    "LEFT JOIN luzon_etl_s3.t_lpay b\n",
    "    ON a.id = b.loan_app_id\n",
    "left join luzon_etl_s3.t_record_personal_info rpi\n",
    "on a.customer_id = rpi.customer_id\n",
    "left join luzon_etl_s3.t_record_bankcard rbc\n",
    "on a.customer_id = rbc.customer_id\n",
    "left join luzon_etl_s3.t_record_contact rct\n",
    "on a.customer_id = rct.customer_id\n",
    "left join luzon_etl_s3.t_record_employment rem\n",
    "on a.customer_id = rem.customer_id\n",
    "left join luzon_etl_s3.t_record_file ref\n",
    "on a.customer_id = ref.customer_id\n",
    "left join luzon_etl_s3.t_personal_info pi\n",
    "on (a.id = pi.loan_app_id)\n",
    "left join luzon_etl_s3.t_employment e\n",
    "on (a.id = e.loan_app_id)\n",
    "left join luzon_etl_s3.t_bankcard bc\n",
    "on (a.id = bc.loan_app_id)\n",
    "LEFT JOIN \n",
    "    (SELECT loan_app_id lid,\n",
    "        create_time\n",
    "    FROM luzon_etl_s3.t_loan_app_status_log log\n",
    "    WHERE NEW_STATUS = 'PRE_REVIEW' \n",
    "    ) submit\n",
    "    ON (a.id = submit.lid)\n",
    "WHERE \n",
    "    a.create_time > date '2020-01-01'\n",
    "    and array_contains(array('PAID_OFF', 'OVERDUE'), a.status)\n",
    "    AND a.loan_type='PAYDAY'\n",
    "    and a.android_id is not null\n",
    "\"\"\")"
   ]
  },
  {
   "cell_type": "code",
   "execution_count": 2,
   "metadata": {},
   "outputs": [
    {
     "data": {
      "application/vnd.jupyter.widget-view+json": {
       "model_id": "309990f14885427a8fbb68b24086cb04",
       "version_major": 2,
       "version_minor": 0
      },
      "text/plain": [
       "VBox()"
      ]
     },
     "metadata": {},
     "output_type": "display_data"
    },
    {
     "data": {
      "application/vnd.jupyter.widget-view+json": {
       "model_id": "",
       "version_major": 2,
       "version_minor": 0
      },
      "text/plain": [
       "FloatProgress(value=0.0, bar_style='info', description='Progress:', layout=Layout(height='25px', width='50%'),…"
      ]
     },
     "metadata": {},
     "output_type": "display_data"
    }
   ],
   "source": [
    "loanDF.createOrReplaceTempView(\"t\")"
   ]
  },
  {
   "cell_type": "code",
   "execution_count": 3,
   "metadata": {},
   "outputs": [
    {
     "data": {
      "application/vnd.jupyter.widget-view+json": {
       "model_id": "749e207e543c4c88be71b07ea12f8f6a",
       "version_major": 2,
       "version_minor": 0
      },
      "text/plain": [
       "VBox()"
      ]
     },
     "metadata": {},
     "output_type": "display_data"
    },
    {
     "data": {
      "application/vnd.jupyter.widget-view+json": {
       "model_id": "",
       "version_major": 2,
       "version_minor": 0
      },
      "text/plain": [
       "FloatProgress(value=0.0, bar_style='info', description='Progress:', layout=Layout(height='25px', width='50%'),…"
      ]
     },
     "metadata": {},
     "output_type": "display_data"
    }
   ],
   "source": [
    "head = loanDF.head()"
   ]
  },
  {
   "cell_type": "code",
   "execution_count": 4,
   "metadata": {},
   "outputs": [
    {
     "data": {
      "application/vnd.jupyter.widget-view+json": {
       "model_id": "8081c696620c4ba69f1b8bd73bedcaa3",
       "version_major": 2,
       "version_minor": 0
      },
      "text/plain": [
       "VBox()"
      ]
     },
     "metadata": {},
     "output_type": "display_data"
    },
    {
     "data": {
      "application/vnd.jupyter.widget-view+json": {
       "model_id": "",
       "version_major": 2,
       "version_minor": 0
      },
      "text/plain": [
       "FloatProgress(value=0.0, bar_style='info', description='Progress:', layout=Layout(height='25px', width='50%'),…"
      ]
     },
     "metadata": {},
     "output_type": "display_data"
    },
    {
     "name": "stdout",
     "output_type": "stream",
     "text": [
      "Row(cid=271914, aid='cbc62544bcb2af29', status='PAID_OFF', loan_type='PAYDAY', lid=265097, interest=Decimal('0.02500000'), time_diff_till_pi=811, time_diff_till_bc=-2444196, time_diff_till_ct=583, time_diff_till_em=642, time_diff_till_ef=429, credential_type='PASSPORT', gender='FEMALE', marital_status='SINGLE', last_education='BACHELOR', birthday=None, company_type=None, profession='LAND_TRANSPORT', title=None, salary='BETWEEN_10B_15B', salary_day='15,30', working_years='BETWEEN_6B_12B', bank_code='G_CASH', overdue_days=0, create_time=datetime.datetime(2020, 1, 8, 7, 28, 56, 236364))"
     ]
    }
   ],
   "source": [
    "print(head)"
   ]
  },
  {
   "cell_type": "code",
   "execution_count": 6,
   "metadata": {},
   "outputs": [
    {
     "data": {
      "application/vnd.jupyter.widget-view+json": {
       "model_id": "cdf95a42f6264d90beaeb0c7f69a1f5f",
       "version_major": 2,
       "version_minor": 0
      },
      "text/plain": [
       "VBox()"
      ]
     },
     "metadata": {},
     "output_type": "display_data"
    },
    {
     "data": {
      "application/vnd.jupyter.widget-view+json": {
       "model_id": "",
       "version_major": 2,
       "version_minor": 0
      },
      "text/plain": [
       "FloatProgress(value=0.0, bar_style='info', description='Progress:', layout=Layout(height='25px', width='50%'),…"
      ]
     },
     "metadata": {},
     "output_type": "display_data"
    },
    {
     "name": "stdout",
     "output_type": "stream",
     "text": [
      "<function get_package_name at 0x7f99e0d40e18>"
     ]
    }
   ],
   "source": [
    "import datetime\n",
    "from pyspark.sql.types import TimestampType, ArrayType, StringType\n",
    "from pyspark.sql.functions import col, udf\n",
    "import json\n",
    "\n",
    "def date_diff_in_ms(start, end):\n",
    "    formatter1 = '%Y-%m-%d %H:%M:%S.%f'\n",
    "    formatter2 = '%Y-%m-%d %H:%M:%S:%f'\n",
    "    if type(start) is str:\n",
    "        if (start.count(':') == 2):\n",
    "            start = datetime.datetime.strptime(start, formatter1)\n",
    "        else:\n",
    "            start = datetime.datetime.strptime(start, formatter2)\n",
    "    if type(end) is str:\n",
    "        if (end.count(':') == 2):\n",
    "            end = datetime.datetime.strptime(end, formatter1)\n",
    "        else:\n",
    "            end = datetime.datetime.strptime(end, formatter2)\n",
    "    delta = end - start\n",
    "    total_ms = delta.days * 24 * 3600 * 1000 + delta.seconds * 1000 + delta.microseconds / 1000\n",
    "    return total_ms\n",
    "spark.udf.register(\"date_diff_in_ms\", date_diff_in_ms)\n",
    "\n",
    "def datetime_format(raw):\n",
    "    if raw is None:\n",
    "        return raw\n",
    "    formatter1 = '%Y-%m-%d %H:%M:%S.%f'\n",
    "    formatter2 = '%Y-%m-%d %H:%M:%S:%f'\n",
    "    if (raw.count(':') == 2):\n",
    "        fm = formatter1\n",
    "    else:\n",
    "        fm = formatter2\n",
    "    return datetime.datetime.strptime(raw, fm)\n",
    "spark.udf.register(\"datetime_format\", datetime_format, TimestampType())\n",
    "def get_run_id_from_log_id(log_id):\n",
    "    splits = log_id.split('_')\n",
    "    return splits[0] + '_' + splits[1]\n",
    "spark.udf.register(\"get_run_id_from_log_id\", get_run_id_from_log_id)\n",
    "\n",
    "def get_app_name(applist):\n",
    "    d = json.loads(applist)\n",
    "    return [x['appName'] for x in d]\n",
    "spark.udf.register(\"get_app_name\", get_app_name, ArrayType(StringType()))\n",
    "\n",
    "def get_package_name(applist):\n",
    "    d = json.loads(applist)\n",
    "    return [x['packageName'] for x in d]\n",
    "spark.udf.register(\"get_package_name\", get_package_name, ArrayType(StringType()))"
   ]
  },
  {
   "cell_type": "code",
   "execution_count": 7,
   "metadata": {},
   "outputs": [
    {
     "data": {
      "application/vnd.jupyter.widget-view+json": {
       "model_id": "cf584a62ca2b4bbca10e45386dbef5e4",
       "version_major": 2,
       "version_minor": 0
      },
      "text/plain": [
       "VBox()"
      ]
     },
     "metadata": {},
     "output_type": "display_data"
    },
    {
     "data": {
      "application/vnd.jupyter.widget-view+json": {
       "model_id": "",
       "version_major": 2,
       "version_minor": 0
      },
      "text/plain": [
       "FloatProgress(value=0.0, bar_style='info', description='Progress:', layout=Layout(height='25px', width='50%'),…"
      ]
     },
     "metadata": {},
     "output_type": "display_data"
    }
   ],
   "source": [
    "\n",
    "logDF1 = spark.sql(\"\"\"\n",
    "select\n",
    "android_id,\n",
    "log_id,\n",
    "action_type,\n",
    "log_time,\n",
    "start_time,\n",
    "regexp_replace(page_id, '##.*', '') page_id\n",
    "from t\n",
    "left join ddb_event_track_s3.phi_happycash_event_track_log l\n",
    "on t.aid = l.android_id\n",
    "\"\"\")\n",
    "eventDF1 = spark.sql(\"\"\"\n",
    "select\n",
    "android_id,\n",
    "e.create_time,\n",
    "run_id,\n",
    "applist\n",
    "from t\n",
    "left join ddb_event_track_s3.phi_happycash_event_track e\n",
    "on t.aid = e.android_id\n",
    "\"\"\")"
   ]
  },
  {
   "cell_type": "code",
   "execution_count": 8,
   "metadata": {},
   "outputs": [
    {
     "data": {
      "application/vnd.jupyter.widget-view+json": {
       "model_id": "95ce8243462b4a3e9daf38cdaa9ef399",
       "version_major": 2,
       "version_minor": 0
      },
      "text/plain": [
       "VBox()"
      ]
     },
     "metadata": {},
     "output_type": "display_data"
    },
    {
     "data": {
      "application/vnd.jupyter.widget-view+json": {
       "model_id": "",
       "version_major": 2,
       "version_minor": 0
      },
      "text/plain": [
       "FloatProgress(value=0.0, bar_style='info', description='Progress:', layout=Layout(height='25px', width='50%'),…"
      ]
     },
     "metadata": {},
     "output_type": "display_data"
    }
   ],
   "source": [
    "logDF1.createOrReplaceTempView(\"log\")\n",
    "eventDF1.createOrReplaceTempView(\"event\")"
   ]
  },
  {
   "cell_type": "code",
   "execution_count": 9,
   "metadata": {},
   "outputs": [
    {
     "data": {
      "application/vnd.jupyter.widget-view+json": {
       "model_id": "ec20a4bbcd6e4e15bf087dc6f062f581",
       "version_major": 2,
       "version_minor": 0
      },
      "text/plain": [
       "VBox()"
      ]
     },
     "metadata": {},
     "output_type": "display_data"
    },
    {
     "data": {
      "application/vnd.jupyter.widget-view+json": {
       "model_id": "",
       "version_major": 2,
       "version_minor": 0
      },
      "text/plain": [
       "FloatProgress(value=0.0, bar_style='info', description='Progress:', layout=Layout(height='25px', width='50%'),…"
      ]
     },
     "metadata": {},
     "output_type": "display_data"
    }
   ],
   "source": [
    "page_stay_sql = \"\"\"\n",
    "select\n",
    "aid,\n",
    "x_page_id page_id,\n",
    "x_log_id,\n",
    "x_create_time,\n",
    "y_page_id,\n",
    "y_log_id,\n",
    "y_create_time,\n",
    "date_diff_in_ms(x_create_time, y_create_time) duration,\n",
    "from_unixtime(create_time/1000) create_time\n",
    "from (\n",
    "select\n",
    "tt.aid,\n",
    "tt.x_page_id,\n",
    "tt.x_log_id,\n",
    "tt.x_create_time,\n",
    "tt.y_page_id,\n",
    "tt.y_log_id,\n",
    "tt.y_create_time,\n",
    "e.run_id,\n",
    "e.create_time,\n",
    "rank() over (partition by e.android_id, e.run_id order by e.create_time) rank\n",
    "from (\n",
    "select\n",
    "aid,\n",
    "x_page_id,\n",
    "x_log_id,\n",
    "x_create_time,\n",
    "y_page_id,\n",
    "y_log_id,\n",
    "y_create_time\n",
    "from (\n",
    "select\n",
    "x.android_id aid,\n",
    "x.page_id x_page_id,\n",
    "y.page_id y_page_id,\n",
    "x.log_id x_log_id,\n",
    "x.start_time x_create_time,\n",
    "y.log_id y_log_id,\n",
    "y.start_time y_create_time,\n",
    "rank() over (partition by x.android_id, x.start_time order by y.start_time) rank\n",
    "from log x\n",
    "left join log y\n",
    "on (x.page_id != y.page_id and x.start_time < y.start_time and x.android_id = y.android_id)\n",
    "where x.page_id is not null \n",
    "  and y.page_id is not null\n",
    "  and (x.start_time is not null)\n",
    "  and (y.start_time is not null)\n",
    "  and x.action_type = 'page_entrance_event'\n",
    ")  tt\n",
    "where rank = 1\n",
    ") tt\n",
    "left join event e\n",
    "on (e.run_id = get_run_id_from_log_id(tt.x_log_id) and tt.aid = e.android_id)\n",
    ") tt\n",
    "where rank = 1\n",
    "\"\"\"\n",
    "page_stay = spark.sql(page_stay_sql)\n",
    "page_stay.createOrReplaceTempView(\"page_stay\")"
   ]
  },
  {
   "cell_type": "code",
   "execution_count": 12,
   "metadata": {},
   "outputs": [
    {
     "data": {
      "application/vnd.jupyter.widget-view+json": {
       "model_id": "fba472dcfc134cb892c9334fcc3d5f12",
       "version_major": 2,
       "version_minor": 0
      },
      "text/plain": [
       "VBox()"
      ]
     },
     "metadata": {},
     "output_type": "display_data"
    },
    {
     "name": "stderr",
     "output_type": "stream",
     "text": [
      "An error was encountered:\n",
      "Invalid status code '404' from https://172.31.9.28:18888/sessions/0 with error payload: {\"msg\":\"Session '0' not found.\"}\n"
     ]
    }
   ],
   "source": [
    "print(page_stay.head())"
   ]
  },
  {
   "cell_type": "code",
   "execution_count": null,
   "metadata": {},
   "outputs": [],
   "source": []
  }
 ],
 "metadata": {
  "kernelspec": {
   "display_name": "PySpark",
   "language": "",
   "name": "pysparkkernel"
  },
  "language_info": {
   "codemirror_mode": {
    "name": "python",
    "version": 2
   },
   "mimetype": "text/x-python",
   "name": "pyspark",
   "pygments_lexer": "python2"
  }
 },
 "nbformat": 4,
 "nbformat_minor": 4
}
