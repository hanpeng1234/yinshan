{
 "cells": [
  {
   "cell_type": "code",
   "execution_count": 1,
   "metadata": {},
   "outputs": [
    {
     "data": {
      "application/vnd.jupyter.widget-view+json": {
       "model_id": "0a47eff8abf34468808d7cd8b008a99e",
       "version_major": 2,
       "version_minor": 0
      },
      "text/plain": [
       "VBox()"
      ]
     },
     "metadata": {},
     "output_type": "display_data"
    },
    {
     "name": "stdout",
     "output_type": "stream",
     "text": [
      "Starting Spark application\n"
     ]
    },
    {
     "data": {
      "text/html": [
       "<table>\n",
       "<tr><th>ID</th><th>YARN Application ID</th><th>Kind</th><th>State</th><th>Spark UI</th><th>Driver log</th><th>Current session?</th></tr><tr><td>1</td><td>application_1617085735163_0003</td><td>pyspark</td><td>idle</td><td><a target=\"_blank\" href=\"http://ip-10-3-0-101.ap-southeast-1.compute.internal:20888/proxy/application_1617085735163_0003/\">Link</a></td><td><a target=\"_blank\" href=\"http://ip-10-3-0-120.ap-southeast-1.compute.internal:8042/node/containerlogs/container_1617085735163_0003_01_000001/livy\">Link</a></td><td>✔</td></tr></table>"
      ],
      "text/plain": [
       "<IPython.core.display.HTML object>"
      ]
     },
     "metadata": {},
     "output_type": "display_data"
    },
    {
     "data": {
      "application/vnd.jupyter.widget-view+json": {
       "model_id": "",
       "version_major": 2,
       "version_minor": 0
      },
      "text/plain": [
       "FloatProgress(value=0.0, bar_style='info', description='Progress:', layout=Layout(height='25px', width='50%'),…"
      ]
     },
     "metadata": {},
     "output_type": "display_data"
    },
    {
     "name": "stdout",
     "output_type": "stream",
     "text": [
      "SparkSession available as 'spark'.\n"
     ]
    },
    {
     "data": {
      "application/vnd.jupyter.widget-view+json": {
       "model_id": "",
       "version_major": 2,
       "version_minor": 0
      },
      "text/plain": [
       "FloatProgress(value=0.0, bar_style='info', description='Progress:', layout=Layout(height='25px', width='50%'),…"
      ]
     },
     "metadata": {},
     "output_type": "display_data"
    },
    {
     "name": "stdout",
     "output_type": "stream",
     "text": [
      "Collecting pandas\n",
      "  Using cached https://files.pythonhosted.org/packages/f3/d4/3fe3b5bf9886912b64ef040040aec356fa48825e5a829a84c2667afdf952/pandas-1.2.3-cp37-cp37m-manylinux1_x86_64.whl\n",
      "Requirement already satisfied: numpy>=1.16.5 in /usr/local/lib64/python3.7/site-packages (from pandas)\n",
      "Requirement already satisfied: pytz>=2017.3 in /usr/local/lib/python3.7/site-packages (from pandas)\n",
      "Collecting python-dateutil>=2.7.3 (from pandas)\n",
      "  Using cached https://files.pythonhosted.org/packages/d4/70/d60450c3dd48ef87586924207ae8907090de0b306af2bce5d134d78615cb/python_dateutil-2.8.1-py2.py3-none-any.whl\n",
      "Requirement already satisfied: six>=1.5 in /usr/local/lib/python3.7/site-packages (from python-dateutil>=2.7.3->pandas)\n",
      "Installing collected packages: python-dateutil, pandas\n",
      "Successfully installed pandas-1.2.3 python-dateutil-2.8.1"
     ]
    }
   ],
   "source": [
    "sc.install_pypi_package(\"pandas\")\n"
   ]
  },
  {
   "cell_type": "code",
   "execution_count": 3,
   "metadata": {},
   "outputs": [
    {
     "data": {
      "application/vnd.jupyter.widget-view+json": {
       "model_id": "f472ce55bbb5454287e0b75dfff56524",
       "version_major": 2,
       "version_minor": 0
      },
      "text/plain": [
       "VBox()"
      ]
     },
     "metadata": {},
     "output_type": "display_data"
    },
    {
     "data": {
      "application/vnd.jupyter.widget-view+json": {
       "model_id": "",
       "version_major": 2,
       "version_minor": 0
      },
      "text/plain": [
       "FloatProgress(value=0.0, bar_style='info', description='Progress:', layout=Layout(height='25px', width='50%'),…"
      ]
     },
     "metadata": {},
     "output_type": "display_data"
    }
   ],
   "source": [
    "# df=sc.textFile(\"s3://rupiahplus-configs/workflow/azkaban/a906b62a-26f0-4db5-802e-0d12eba281b7.csv\").toDF()\n",
    "# df.show()\n",
    "from pyspark.sql import types as T\n",
    "from pyspark.sql import functions as F\n",
    "df=spark.read.format(\"csv\").option(\"header\", \"true\").load(\"s3://rupiahplus-configs/workflow/azkaban/a906b62a-26f0-4db5-802e-0d12eba281b7.csv\")\n",
    "df.createOrReplaceTempView(\"t\")\n",
    "df1=spark.sql(\"\"\"select  * ,'total' as mark from  t  \"\"\")\\\n",
    "    .withColumn(\"date\", F.col(\"date\").cast(T.DateType()))\\\n",
    "    .withColumn(\"total_issue_amount\", F.col(\"total_issue_amount\").cast(T.DecimalType(38,8)))\\\n",
    "    .withColumn(\"total_paid_off_principle\", F.col(\"total_paid_off_principle\").cast(T.DecimalType(38,8)))\\\n",
    "    .withColumn(\"loan_balance\", F.col(\"loan_balance\").cast(T.DecimalType(38,7)))\\\n",
    "    .withColumn(\"total_current_principle\", F.col(\"total_current_principle\").cast(T.DecimalType(38,8)))\\\n",
    "    .withColumn(\"overdue_3_principle\", F.col(\"overdue_3_principle\").cast(T.DecimalType(38,8)))\\\n",
    "    .withColumn(\"overdue_10_principle\", F.col(\"overdue_10_principle\").cast(T.DecimalType(38,8)))\\\n",
    "    .withColumn(\"overdue_30_principle\", F.col(\"overdue_30_principle\").cast(T.DecimalType(38,8)))\\\n",
    "    .withColumn(\"overdue_60_principle\", F.col(\"overdue_60_principle\").cast(T.DecimalType(38,8)))\\\n",
    "    .withColumn(\"overdue_90_principle\", F.col(\"overdue_90_principle\").cast(T.DecimalType(38,8)))\\\n",
    "    .withColumn(\"overdue_more_than_90_principle\", F.col(\"overdue_more_than_90_principle\").cast(T.DecimalType(38,8)))\\\n",
    "    .withColumn(\"total_paid_off_amount\", F.col(\"total_paid_off_amount\").cast(T.DecimalType(38,8)))\\\n",
    "    .withColumn(\"total_outstanding_amount\", F.col(\"total_outstanding_amount\").cast(T.DecimalType(38,8)))\\\n",
    "    .withColumn(\"total_current_amount\", F.col(\"total_current_amount\").cast(T.DecimalType(38,8)))\\\n",
    "    .withColumn(\"overdue_3_amount\", F.col(\"overdue_3_amount\").cast(T.DecimalType(38,8)))\\\n",
    "    .withColumn(\"overdue_10_amount\", F.col(\"overdue_10_amount\").cast(T.DecimalType(38,8)))\\\n",
    "    .withColumn(\"overdue_30_amount\", F.col(\"overdue_30_amount\").cast(T.DecimalType(38,8)))\\\n",
    "    .withColumn(\"overdue_60_amount\", F.col(\"overdue_60_amount\").cast(T.DecimalType(38,8)))\\\n",
    "    .withColumn(\"overdue_60_amount\", F.col(\"overdue_60_amount\").cast(T.DecimalType(38,8)))\\\n",
    "    .withColumn(\"overdue_90_amount\", F.col(\"overdue_90_amount\").cast(T.DecimalType(38,8)))\\\n",
    "    .withColumn(\"overdue_more_than_90_amount\", F.col(\"overdue_more_than_90_amount\").cast(T.DecimalType(38,8)))\n",
    "df1.write.mode(\"append\").orc(\"s3://rupiahplus-data-warehouse/etl/banda/market/loan_balance_summary/\")"
   ]
  },
  {
   "cell_type": "code",
   "execution_count": 1,
   "metadata": {},
   "outputs": [
    {
     "data": {
      "application/vnd.jupyter.widget-view+json": {
       "model_id": "b8f4c6bc43f74fc9903aea3421b50dd8",
       "version_major": 2,
       "version_minor": 0
      },
      "text/plain": [
       "VBox()"
      ]
     },
     "metadata": {},
     "output_type": "display_data"
    },
    {
     "name": "stdout",
     "output_type": "stream",
     "text": [
      "Starting Spark application\n"
     ]
    },
    {
     "data": {
      "text/html": [
       "<table>\n",
       "<tr><th>ID</th><th>YARN Application ID</th><th>Kind</th><th>State</th><th>Spark UI</th><th>Driver log</th><th>Current session?</th></tr><tr><td>4</td><td>application_1620613394145_0005</td><td>pyspark</td><td>idle</td><td><a target=\"_blank\" href=\"http://ip-10-3-0-72.ap-southeast-1.compute.internal:20888/proxy/application_1620613394145_0005/\">Link</a></td><td><a target=\"_blank\" href=\"http://ip-10-3-0-114.ap-southeast-1.compute.internal:8042/node/containerlogs/container_1620613394145_0005_01_000001/livy\">Link</a></td><td>✔</td></tr></table>"
      ],
      "text/plain": [
       "<IPython.core.display.HTML object>"
      ]
     },
     "metadata": {},
     "output_type": "display_data"
    },
    {
     "data": {
      "application/vnd.jupyter.widget-view+json": {
       "model_id": "",
       "version_major": 2,
       "version_minor": 0
      },
      "text/plain": [
       "FloatProgress(value=0.0, bar_style='info', description='Progress:', layout=Layout(height='25px', width='50%'),…"
      ]
     },
     "metadata": {},
     "output_type": "display_data"
    },
    {
     "name": "stdout",
     "output_type": "stream",
     "text": [
      "SparkSession available as 'spark'.\n"
     ]
    },
    {
     "data": {
      "application/vnd.jupyter.widget-view+json": {
       "model_id": "",
       "version_major": 2,
       "version_minor": 0
      },
      "text/plain": [
       "FloatProgress(value=0.0, bar_style='info', description='Progress:', layout=Layout(height='25px', width='50%'),…"
      ]
     },
     "metadata": {},
     "output_type": "display_data"
    },
    {
     "name": "stderr",
     "output_type": "stream",
     "text": [
      "Cannot run multiple SparkContexts at once; existing SparkContext(app=livy-session-4, master=yarn) created by __init__ at /tmp/925578431197252889:595 \n",
      "Traceback (most recent call last):\n",
      "  File \"/usr/lib/spark/python/lib/pyspark.zip/pyspark/context.py\", line 128, in __init__\n",
      "    SparkContext._ensure_initialized(self, gateway=gateway, conf=conf)\n",
      "  File \"/usr/lib/spark/python/lib/pyspark.zip/pyspark/context.py\", line 344, in _ensure_initialized\n",
      "    callsite.function, callsite.file, callsite.linenum))\n",
      "ValueError: Cannot run multiple SparkContexts at once; existing SparkContext(app=livy-session-4, master=yarn) created by __init__ at /tmp/925578431197252889:595 \n",
      "\n"
     ]
    }
   ],
   "source": []
  },
  {
   "cell_type": "code",
   "execution_count": 17,
   "metadata": {},
   "outputs": [
    {
     "data": {
      "application/vnd.jupyter.widget-view+json": {
       "model_id": "5c585c08773a4aa882d3389ee72f2f66",
       "version_major": 2,
       "version_minor": 0
      },
      "text/plain": [
       "VBox()"
      ]
     },
     "metadata": {},
     "output_type": "display_data"
    },
    {
     "data": {
      "application/vnd.jupyter.widget-view+json": {
       "model_id": "",
       "version_major": 2,
       "version_minor": 0
      },
      "text/plain": [
       "FloatProgress(value=0.0, bar_style='info', description='Progress:', layout=Layout(height='25px', width='50%'),…"
      ]
     },
     "metadata": {},
     "output_type": "display_data"
    }
   ],
   "source": [
    "# df=sc.textFile(\"s3://rupiahplus-configs/workflow/azkaban/a906b62a-26f0-4db5-802e-0d12eba281b7.csv\").toDF()\n",
    "# df.show()\n",
    "from pyspark.sql import types as T\n",
    "from pyspark.sql import functions as F\n",
    "\n",
    "file=\"58e3ccc4-64d2-4cc4-b7be-e339c9e296b7.csv\"\n",
    "df=spark.read.format(\"csv\").option(\"header\", \"true\").load(\"s3://rupiahplus-data-warehouse/etl/banda/report_temp_table/\"+file)\n",
    "df.createOrReplaceTempView(\"t\")\n",
    "spark.sql(\"\"\" select  cast(date as date) as   DATE, \n",
    "  cast(caller_id as long ) as caller_id , \n",
    "  assign_stage  , \n",
    "  full_name , \n",
    "  cast(count as long) as count , \n",
    "  type , \n",
    "  cast(insert_time as timestamp) as insert_time  from t \"\"\").repartition(1).write.mode(\"append\").orc(\"s3://rupiahplus-data-warehouse/etl/banda/report_temp_table/coll_work_detail_daily/\")"
   ]
  },
  {
   "cell_type": "code",
   "execution_count": 53,
   "metadata": {},
   "outputs": [
    {
     "data": {
      "application/vnd.jupyter.widget-view+json": {
       "model_id": "d02c2875bde44dda8192ad58c3c265fc",
       "version_major": 2,
       "version_minor": 0
      },
      "text/plain": [
       "VBox()"
      ]
     },
     "metadata": {},
     "output_type": "display_data"
    },
    {
     "data": {
      "application/vnd.jupyter.widget-view+json": {
       "model_id": "",
       "version_major": 2,
       "version_minor": 0
      },
      "text/plain": [
       "FloatProgress(value=0.0, bar_style='info', description='Progress:', layout=Layout(height='25px', width='50%'),…"
      ]
     },
     "metadata": {},
     "output_type": "display_data"
    }
   ],
   "source": [
    "# zhusu.temp_current_case_0817\n",
    "# zhusu.temp_current_case_0818  \n",
    "# zhusu.temp_current_case_0819\n",
    "# zhusu.temp_current_case_0820\n",
    "# zhusu.temp_current_case_0821\n",
    "# zhusu.temp_current_case_0822\n",
    "# zhusu.temp_current_case_0823\n",
    "# zhusu.temp_current_case_0824\n",
    "# zhusu.temp_current_case_0825\n",
    "spark.sql(\"\"\" select * from zhusu.temp_current_case_0822  \"\"\").repartition(1).write.mode(\"append\").orc(\"s3://rupiahplus-data-warehouse/etl/banda/report_temp_table/t_case_in_collection_increment\")"
   ]
  },
  {
   "cell_type": "code",
   "execution_count": 16,
   "metadata": {},
   "outputs": [
    {
     "data": {
      "application/vnd.jupyter.widget-view+json": {
       "model_id": "3a91af1879c14672920b75eb7467c9bf",
       "version_major": 2,
       "version_minor": 0
      },
      "text/plain": [
       "VBox()"
      ]
     },
     "metadata": {},
     "output_type": "display_data"
    },
    {
     "data": {
      "application/vnd.jupyter.widget-view+json": {
       "model_id": "",
       "version_major": 2,
       "version_minor": 0
      },
      "text/plain": [
       "FloatProgress(value=0.0, bar_style='info', description='Progress:', layout=Layout(height='25px', width='50%'),…"
      ]
     },
     "metadata": {},
     "output_type": "display_data"
    },
    {
     "name": "stdout",
     "output_type": "stream",
     "text": [
      "root\n",
      " |-- date: date (nullable = true)\n",
      " |-- caller_id: long (nullable = true)\n",
      " |-- assign_stage: string (nullable = true)\n",
      " |-- full_name: string (nullable = true)\n",
      " |-- count: long (nullable = true)\n",
      " |-- type: string (nullable = true)\n",
      " |-- insert_time: timestamp (nullable = true)"
     ]
    }
   ],
   "source": [
    "df=spark.sql(\"\"\" select * from  banda_rpt_mid.coll_work_detail_daily1 \"\"\").printSchema()\n",
    "# df.repartition(1).write.mode(\"append\").orc(\"s3://rupiahplus-data-warehouse/etl/banda/report_temp_table/coll_work_detail_daily\")"
   ]
  },
  {
   "cell_type": "code",
   "execution_count": 13,
   "metadata": {},
   "outputs": [
    {
     "data": {
      "application/vnd.jupyter.widget-view+json": {
       "model_id": "4a19cfef92ad4be8a217012e1b42441d",
       "version_major": 2,
       "version_minor": 0
      },
      "text/plain": [
       "VBox()"
      ]
     },
     "metadata": {},
     "output_type": "display_data"
    },
    {
     "data": {
      "application/vnd.jupyter.widget-view+json": {
       "model_id": "",
       "version_major": 2,
       "version_minor": 0
      },
      "text/plain": [
       "FloatProgress(value=0.0, bar_style='info', description='Progress:', layout=Layout(height='25px', width='50%'),…"
      ]
     },
     "metadata": {},
     "output_type": "display_data"
    },
    {
     "name": "stdout",
     "output_type": "stream",
     "text": [
      "root\n",
      " |-- date: string (nullable = true)\n",
      " |-- caller_id: long (nullable = true)\n",
      " |-- assign_stage: string (nullable = true)\n",
      " |-- full_name: string (nullable = true)\n",
      " |-- count: long (nullable = true)\n",
      " |-- type: string (nullable = true)\n",
      " |-- insert_time: timestamp (nullable = true)"
     ]
    }
   ],
   "source": [
    "# df=sc.textFile(\"s3://rupiahplus-configs/workflow/azkaban/a906b62a-26f0-4db5-802e-0d12eba281b7.csv\").toDF()\n",
    "# df.show()\n",
    "from pyspark.sql import types as T\n",
    "from pyspark.sql import functions as F\n",
    "\n",
    "file=\"part-00000-a6f38f79-f4b9-4772-b9d7-54be06eb0260-c000.snappy.orc\"\n",
    "df=spark.read.format(\"orc\").option(\"header\", \"true\").load(\"s3://rupiahplus-data-warehouse/etl/banda/report_temp_table/coll_work_detail_daily/\"+file)\n",
    "df.createOrReplaceTempView(\"t\")\n",
    "spark.sql(\"\"\" select * from t \"\"\").printSchema()"
   ]
  }
 ],
 "metadata": {
  "kernelspec": {
   "display_name": "PySpark",
   "language": "",
   "name": "pysparkkernel"
  },
  "language_info": {
   "codemirror_mode": {
    "name": "python",
    "version": 2
   },
   "mimetype": "text/x-python",
   "name": "pyspark",
   "pygments_lexer": "python2"
  }
 },
 "nbformat": 4,
 "nbformat_minor": 4
}
