{
 "cells": [
  {
   "cell_type": "code",
   "execution_count": 4,
   "metadata": {},
   "outputs": [
    {
     "data": {
      "application/vnd.jupyter.widget-view+json": {
       "model_id": "7578b7bc03004937807ca808ba5d9690",
       "version_major": 2,
       "version_minor": 0
      },
      "text/plain": [
       "VBox()"
      ]
     },
     "metadata": {},
     "output_type": "display_data"
    },
    {
     "data": {
      "application/vnd.jupyter.widget-view+json": {
       "model_id": "",
       "version_major": 2,
       "version_minor": 0
      },
      "text/plain": [
       "FloatProgress(value=0.0, bar_style='info', description='Progress:', layout=Layout(height='25px', width='50%'),…"
      ]
     },
     "metadata": {},
     "output_type": "display_data"
    },
    {
     "name": "stdout",
     "output_type": "stream",
     "text": [
      "+---+\n",
      "|num|\n",
      "+---+\n",
      "|340|\n",
      "+---+"
     ]
    }
   ],
   "source": [
    "from urllib.request import urlopen\n",
    "import json\n",
    "from pprint import pprint\n",
    "from pyspark.sql import types as T\n",
    "import numpy as np\n",
    "from pyspark.sql import SparkSession\n",
    "spark = SparkSession\\\n",
    "    .builder\\\n",
    "    .appName(\"Python Demo\")\\\n",
    "    .config(\"hive.metastore.client.factory.class\", \"com.amazonaws.glue.catalog.metastore.AWSGlueDataCatalogHiveClientFactory\") \\\n",
    "    .enableHiveSupport()\\\n",
    "    .getOrCreate()\n",
    "def getApplist(b):\n",
    "    if b is not None:\n",
    "        text = json.loads(b)\n",
    "        applist=[];\n",
    "        if text!=None and len(text)>0:\n",
    "            for field in text:\n",
    "                applist.append( json.dumps(field))\n",
    "            return applist\n",
    "        return \"\"\n",
    "spark.udf.register(\"getApplist\",getApplist,T.ArrayType(T.StringType()))\n",
    "df=spark.sql(\"\"\"\n",
    "select count(1) as num from(\n",
    "  select \n",
    "  android_id,\n",
    "  run_Id,\n",
    "  from_unixtime(cast(create_time/1000 as bigint),'yyyy-MM-dd HH:mm:ss') create_time,\n",
    "  get_json_object(applists,\"$.appName\")as appName ,\n",
    "  get_json_object(applists,\"$.isSystemInstalled\")as isSystemInstalled ,\n",
    "  get_json_object(applists,\"$.packageName\")as packageName ,\n",
    "  get_json_object(applists,\"$.versionCode\")as versionCode ,\n",
    "  get_json_object(applists,\"$.versionName\")as versionName ,\n",
    "  from_unixtime(cast(get_json_object(applists,\"$.firstInstallTime\")/1000 as bigint),'yyyy-MM-dd HH:mm:ss') as firstInstallTime ,\n",
    "  from_unixtime(cast(get_json_object(applists,\"$.lastUpdateTime\")/1000 as bigint),'yyyy-MM-dd HH:mm:ss') as lastUpdateTime ,\n",
    "  partition_0 as year,partition_1 as month, partition_2 as day ,partition_3 as hour\n",
    "  from `ddb_event_track_s3`.`id_adapundi_event_track` \n",
    "  LATERAL VIEW explode(getApplist(applist)) as applists\n",
    "  where android_id='2f94546192fb8d65' and  run_Id='20210128202820038_1') tmp\n",
    "\"\"\").show()\n",
    "# df.write.mode(\"overwrite\").partitionBy(\"year\",\"month\",\"day\",\"hour\").orc( 's3://rupiahplus-data-warehouse/stream/event_track/id_adapundi_event_track_applist/')\n"
   ]
  },
  {
   "cell_type": "code",
   "execution_count": 45,
   "metadata": {},
   "outputs": [
    {
     "data": {
      "application/vnd.jupyter.widget-view+json": {
       "model_id": "04cd5f5c0304462db99620cc99584419",
       "version_major": 2,
       "version_minor": 0
      },
      "text/plain": [
       "VBox()"
      ]
     },
     "metadata": {},
     "output_type": "display_data"
    },
    {
     "data": {
      "application/vnd.jupyter.widget-view+json": {
       "model_id": "",
       "version_major": 2,
       "version_minor": 0
      },
      "text/plain": [
       "FloatProgress(value=0.0, bar_style='info', description='Progress:', layout=Layout(height='25px', width='50%'),…"
      ]
     },
     "metadata": {},
     "output_type": "display_data"
    }
   ],
   "source": [
    "df=spark.sql(\"\"\"\n",
    "  select \n",
    "  android_id,\n",
    "  run_Id,\n",
    "  from_unixtime(cast(create_time/1000 as bigint),'yyyy-MM-dd HH:mm:ss') create_time,\n",
    "  get_json_object(applists,\"$.appName\")as appName ,\n",
    "  get_json_object(applists,\"$.isSystemInstalled\")as isSystemInstalled ,\n",
    "  get_json_object(applists,\"$.packageName\")as packageName ,\n",
    "  get_json_object(applists,\"$.versionCode\")as versionCode ,\n",
    "  get_json_object(applists,\"$.versionName\")as versionName ,\n",
    "  from_unixtime(cast(get_json_object(applists,\"$.firstInstallTime\")/1000 as bigint),'yyyy-MM-dd HH:mm:ss') as firstInstallTime ,\n",
    "  from_unixtime(cast(get_json_object(applists,\"$.lastUpdateTime\")/1000 as bigint),'yyyy-MM-dd HH:mm:ss') as lastUpdateTime ,\n",
    "  partition_0 as year,partition_1 as month, partition_2 as day ,partition_3 as hour\n",
    "  from `ddb_event_track_s3`.`id_adapundi_event_track` \n",
    "  LATERAL VIEW explode(getApplist(applist)) as applists\n",
    "\"\"\")\n",
    "df.write.mode(\"overwrite\").partitionBy(\"year\",\"month\",\"day\",\"hour\").orc( 's3://rupiahplus-data-warehouse/stream/event_track/id_adapundi_event_track_applist/')\n"
   ]
  },
  {
   "cell_type": "code",
   "execution_count": 46,
   "metadata": {},
   "outputs": [
    {
     "data": {
      "application/vnd.jupyter.widget-view+json": {
       "model_id": "051ae12c5d6b43d6b355b78930263be3",
       "version_major": 2,
       "version_minor": 0
      },
      "text/plain": [
       "VBox()"
      ]
     },
     "metadata": {},
     "output_type": "display_data"
    },
    {
     "data": {
      "application/vnd.jupyter.widget-view+json": {
       "model_id": "",
       "version_major": 2,
       "version_minor": 0
      },
      "text/plain": [
       "FloatProgress(value=0.0, bar_style='info', description='Progress:', layout=Layout(height='25px', width='50%'),…"
      ]
     },
     "metadata": {},
     "output_type": "display_data"
    },
    {
     "name": "stdout",
     "output_type": "stream",
     "text": [
      "+----------------+-------------------+-------------------+--------------------+-----------------+--------------------+-----------+-----------+-------------------+-------------------+----+-----+---+----+\n",
      "|      android_id|             run_Id|        create_time|             appName|isSystemInstalled|         packageName|versionCode|versionName|   firstInstallTime|     lastUpdateTime|year|month|day|hour|\n",
      "+----------------+-------------------+-------------------+--------------------+-----------------+--------------------+-----------+-----------+-------------------+-------------------+----+-----+---+----+\n",
      "|439b1754d857a4ae|20210120134015290_1|2021-01-20 06:40:20|         Clone Phone|             true|com.coloros.backu...|      50114|      50114|2020-09-30 14:51:38|2020-12-05 13:35:08|2021|   01| 20|  06|\n",
      "|439b1754d857a4ae|20210120134015290_1|2021-01-20 06:40:20|android.framework...|             true|android.framework...|         29|         29|2020-09-30 15:22:02|2020-12-05 13:57:53|2021|   01| 20|  06|\n",
      "|439b1754d857a4ae|20210120134015290_1|2021-01-20 06:40:20|          Google One|            false|com.google.androi...|      27243|      27243|2020-09-30 15:32:43|2020-09-30 15:32:43|2021|   01| 20|  06|\n",
      "|439b1754d857a4ae|20210120134015290_1|2021-01-20 06:40:20|com.android.cts.p...|             true|com.android.cts.p...|         28|         28|2020-09-30 14:48:43|2020-12-05 13:33:32|2021|   01| 20|  06|\n",
      "|439b1754d857a4ae|20210120134015290_1|2021-01-20 06:40:20|         realme Link|            false|     com.realme.link|        121|        121|1970-01-01 06:27:44|1970-01-01 06:27:44|2021|   01| 20|  06|\n",
      "|439b1754d857a4ae|20210120134015290_1|2021-01-20 06:40:20|             YouTube|             true|com.google.androi...| 1449513000| 1449513000|2020-09-30 14:52:37|2020-12-05 13:36:08|2021|   01| 20|  06|\n",
      "|439b1754d857a4ae|20210120134015290_1|2021-01-20 06:40:20|              QColor|             true|com.qualcomm.qti....|         29|         29|2020-09-30 14:51:42|2020-12-05 13:35:18|2021|   01| 20|  06|\n",
      "|439b1754d857a4ae|20210120134015290_1|2021-01-20 06:40:20|Android Services ...|             true|com.google.androi...|  291900801|  291900801|2020-09-30 14:51:49|2020-12-05 13:35:24|2021|   01| 20|  06|\n",
      "|439b1754d857a4ae|20210120134015290_1|2021-01-20 06:40:20|Layar Kunci Sekal...|            false|com.coloros.oneke...|       1015|       1015|2020-09-30 15:32:26|2020-09-30 15:32:26|2021|   01| 20|  06|\n",
      "|439b1754d857a4ae|20210120134015290_1|2021-01-20 06:40:20|          Area Nomor|             true|com.coloros.phone...|    3003000|    3003000|2020-09-30 14:51:42|2020-12-05 13:35:18|2021|   01| 20|  06|\n",
      "|439b1754d857a4ae|20210120134015290_1|2021-01-20 06:40:20|       Power monitor|             true|com.oppo.oppopowe...|          1|          1|2020-09-30 14:51:41|2020-12-05 13:35:18|2021|   01| 20|  06|\n",
      "|439b1754d857a4ae|20210120134015290_1|2021-01-20 06:40:20|               Agoda|            false|com.agoda.mobile....|      76116|      76116|1970-01-01 06:27:42|1970-01-01 06:27:42|2021|   01| 20|  06|\n",
      "|439b1754d857a4ae|20210120134015290_1|2021-01-20 06:40:20|Penyimpanan pangg...|             true|com.android.provi...|         29|         29|2020-09-30 14:51:54|2020-12-05 13:35:28|2021|   01| 20|  06|\n",
      "|439b1754d857a4ae|20210120134015290_1|2021-01-20 06:40:20|Dynamic System Up...|             true|com.android.dynsy...|         29|         29|2020-09-30 14:51:49|2020-12-05 13:35:23|2021|   01| 20|  06|\n",
      "|439b1754d857a4ae|20210120134015290_1|2021-01-20 06:40:20| Pengaturan nirkabel|             true|com.coloros.wirel...|       3000|       3000|2020-09-30 14:51:55|2020-12-05 13:35:30|2021|   01| 20|  06|\n",
      "|439b1754d857a4ae|20210120134015290_1|2021-01-20 06:40:20|              Google|             true|com.google.androi...|  301121486|  301121486|2020-09-30 14:52:39|2020-12-17 15:09:40|2021|   01| 20|  06|\n",
      "|439b1754d857a4ae|20210120134015290_1|2021-01-20 06:40:20| Majalah Layar Kunci|             true|com.heytap.pictorial|      61700|      61700|2020-09-30 14:51:56|2020-12-05 13:35:16|2021|   01| 20|  06|\n",
      "|439b1754d857a4ae|20210120134015290_1|2021-01-20 06:40:20|Bilah Samping Cerdas|             true|com.coloros.smart...|    7020000|    7020000|2020-09-30 14:51:46|2020-12-05 13:35:23|2021|   01| 20|  06|\n",
      "|439b1754d857a4ae|20210120134015290_1|2021-01-20 06:40:20|Penyimpanan kalender|             true|com.android.provi...|          0|          0|2020-09-30 14:51:52|2020-12-05 13:35:27|2021|   01| 20|  06|\n",
      "|439b1754d857a4ae|20210120134015290_1|2021-01-20 06:40:20|             Asisten|             true|com.google.androi...|         41|         41|2020-09-30 14:51:45|2020-12-05 13:35:21|2021|   01| 20|  06|\n",
      "+----------------+-------------------+-------------------+--------------------+-----------------+--------------------+-----------+-----------+-------------------+-------------------+----+-----+---+----+\n",
      "only showing top 20 rows"
     ]
    }
   ],
   "source": [
    "df=spark.sql(\"\"\"\n",
    "  select \n",
    "  android_id,\n",
    "  run_Id,\n",
    "  from_unixtime(cast(create_time/1000 as bigint),'yyyy-MM-dd HH:mm:ss') create_time,\n",
    "  get_json_object(applists,\"$.appName\")as appName ,\n",
    "  get_json_object(applists,\"$.isSystemInstalled\")as isSystemInstalled ,\n",
    "  get_json_object(applists,\"$.packageName\")as packageName ,\n",
    "  get_json_object(applists,\"$.versionCode\")as versionCode ,\n",
    "  get_json_object(applists,\"$.versionCode\")as versionName ,\n",
    "  from_unixtime(cast(get_json_object(applists,\"$.firstInstallTime\")/1000 as bigint),'yyyy-MM-dd HH:mm:ss') as firstInstallTime ,\n",
    "  from_unixtime(cast(get_json_object(applists,\"$.lastUpdateTime\")/1000 as bigint),'yyyy-MM-dd HH:mm:ss') as lastUpdateTime ,\n",
    "  partition_0 as year,partition_1 as month, partition_2 as day ,partition_3 as hour\n",
    "  from `ddb_event_track_s3`.`id_adapundi_event_track` \n",
    "  LATERAL VIEW explode(getApplist(applist)) as applists\n",
    "  where android_id='439b1754d857a4ae' and run_Id='20210120134015290_1'\n",
    "\"\"\").show()\n",
    "# df.write.mode(\"overwrite\").partitionBy(\"year\",\"month\",\"day\",\"hour\").orc( 's3://rupiahplus-data-warehouse/stream/event_track/id_adapundi_event_track_applist/')\n"
   ]
  },
  {
   "cell_type": "code",
   "execution_count": null,
   "metadata": {},
   "outputs": [
    {
     "data": {
      "application/vnd.jupyter.widget-view+json": {
       "model_id": "f0497057c68d4b16bd23f3a5b0efdcf2",
       "version_major": 2,
       "version_minor": 0
      },
      "text/plain": [
       "VBox()"
      ]
     },
     "metadata": {},
     "output_type": "display_data"
    }
   ],
   "source": [
    "spark.sql(\"\"\"\n",
    "select from_unixtime(cast(1230739200000 as bigint),'yyyy-MM-dd HH:mm:ss') as firstInstallTime \n",
    "\"\"\").show()"
   ]
  },
  {
   "cell_type": "code",
   "execution_count": null,
   "metadata": {},
   "outputs": [],
   "source": []
  }
 ],
 "metadata": {
  "kernelspec": {
   "display_name": "PySpark",
   "language": "",
   "name": "pysparkkernel"
  },
  "language_info": {
   "codemirror_mode": {
    "name": "python",
    "version": 2
   },
   "mimetype": "text/x-python",
   "name": "pyspark",
   "pygments_lexer": "python2"
  }
 },
 "nbformat": 4,
 "nbformat_minor": 4
}
