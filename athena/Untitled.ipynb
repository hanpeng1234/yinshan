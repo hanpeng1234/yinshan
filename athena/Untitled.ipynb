{
 "cells": [
  {
   "cell_type": "code",
   "execution_count": 5,
   "metadata": {},
   "outputs": [
    {
     "data": {
      "application/vnd.jupyter.widget-view+json": {
       "model_id": "3017a06aa8e3496a9e0037a22176600e",
       "version_major": 2,
       "version_minor": 0
      },
      "text/plain": [
       "VBox()"
      ]
     },
     "metadata": {},
     "output_type": "display_data"
    },
    {
     "data": {
      "application/vnd.jupyter.widget-view+json": {
       "model_id": "",
       "version_major": 2,
       "version_minor": 0
      },
      "text/plain": [
       "FloatProgress(value=0.0, bar_style='info', description='Progress:', layout=Layout(height='25px', width='50%'),…"
      ]
     },
     "metadata": {},
     "output_type": "display_data"
    },
    {
     "name": "stdout",
     "output_type": "stream",
     "text": [
      "+-----+--------------------+------+--------------------+--------------------+-------------+--------------------+--------+------+-----------+----------+--------------------+----------+----------+--------------------+--------------------+\n",
      "|   id|                 uid|idtype|                idno|               email|       mobile|                name|password|status|user_status|      type|      completed_step|is_deleted|is_ktpauth|         create_time|         update_time|\n",
      "+-----+--------------------+------+--------------------+--------------------+-------------+--------------------+--------+------+-----------+----------+--------------------+----------+----------+--------------------+--------------------+\n",
      "|23846|8a0c5999c5af459fb...|   KTP|8b503e4596ceee1df...| osc271289@gmail.com| 082194410725|  Oki Sesar Crisandy|    null|ACTIVE|      ORDER|INDIVIDUAL|PRIBADI,KARIER,RE...|     false|     false|2020-10-27 06:42:...|2020-10-27 06:50:...|\n",
      "|23804|b26605ce0b2d48cab...|  null|                    |                null| 081269069591|                null|    null|ACTIVE|       INFO|INDIVIDUAL|                null|     false|     false|2020-10-27 02:36:...|2020-10-27 02:36:...|\n",
      "|23880|4583209b84d140a5a...|   KTP|b1dab113b6d4105a8...|groowoll13@gmail.com| 082314333435|        Suryo Wibowo|    null|ACTIVE|       INFO|INDIVIDUAL|PRIBADI,KARIER,RE...|     false|     false|2020-10-27 11:00:...|2020-10-27 11:07:...|\n",
      "|23963|ac46a197b47a4d6ba...|   KTP|b34299bb42bf75262...|lurimario4@gmail.com|0895353098740|            hermawan|    null|ACTIVE|      ORDER|INDIVIDUAL|PRIBADI,KARIER,RE...|     false|     false|2020-10-28 05:38:...|2020-10-28 05:49:...|\n",
      "|23981|ea0ed385de4a4ae78...|   KTP|47219788a4437d329...|Ridhakdh014@gmail...| 087884058104|      MUHAMMAD RIDHA|    null|ACTIVE|       INFO|INDIVIDUAL|PRIBADI,KARIER,RE...|     false|     false|2020-10-28 07:40:...|2020-10-28 07:48:...|\n",
      "|23984|afb11647aaa943e89...|   KTP|59d1388eddeb02cc4...|arhiieliez@gmail.com| 088238875234|    Ernawati Pratiwi|    null|ACTIVE|       INFO|INDIVIDUAL|PRIBADI,KARIER,RE...|     false|     false|2020-10-28 07:43:...|2020-10-28 07:52:...|\n",
      "|23986|c6a582b9f2a6420b8...|   KTP|c6aab525abefca542...|Lanasumitra7@gmai...| 087836411869|        Lana sumitra|    null|ACTIVE|       INFO|INDIVIDUAL|             PRIBADI|     false|     false|2020-10-28 07:53:...|2020-10-28 08:58:...|\n",
      "|23903|7dfb97dcf9d74bf5a...|   KTP|cb2552b39d16f3f0f...|asrifatim123@gmai...| 085386377757|                asri|    null|ACTIVE|       CARD|INDIVIDUAL|PRIBADI,KARIER,RE...|     false|     false|2020-10-27 15:43:...|2020-10-28 03:38:...|\n",
      "|23856|73e10baad71844df9...|   KTP|b981e65e812dfba65...|Mhmdyoga566@gmail...| 089656134642|       ASEP SUDRAJAT|    null|ACTIVE|      ORDER|INDIVIDUAL|PRIBADI,KARIER,RE...|     false|     false|2020-10-27 07:54:...|2020-10-27 11:17:...|\n",
      "|20806|2ced70d1fe684e3e9...|   KTP|495e98d3dc51e1d0a...|hagmalbaim@gmail.com| 082111746636|       Hagmal albram|    null|ACTIVE|      ORDER|INDIVIDUAL|PRIBADI,KARIER,RE...|     false|     false|2020-10-09 06:13:...|2020-10-28 06:33:...|\n",
      "|23950|90afe04036334b789...|   KTP|b91f7f4f27caea0ef...|Oktafian8677@gmai...| 089606495996|Nano rahman oktafian|    null|ACTIVE|      ORDER|INDIVIDUAL|PRIBADI,KARIER,RE...|     false|     false|2020-10-28 04:37:...|2020-10-28 04:49:...|\n",
      "|23915|7d1f4d603c8a4b83a...|   KTP|d346baa9e135676a9...|edyjohan038@gmail...| 081397732288|           edy johan|    null|ACTIVE|       INFO|INDIVIDUAL|             PRIBADI|     false|     false|2020-10-27 21:23:...|2020-10-27 21:25:...|\n",
      "|21995|cdcd771f0eeb480b9...|   KTP|81dc70aa52fcfaea0...|carakanusa.bongy@...|  08111802622|    Bongy Carakanusa|    null|ACTIVE|   FINISHED|INDIVIDUAL|PRIBADI,KARIER,RE...|     false|     false|2020-10-15 10:07:...|2020-10-28 04:12:...|\n",
      "|15309|151ee129181d4acb8...|   KTP|4f31df2a656f22e35...|  wanria87@gmail.com| 081256650671|     HIMAWAN SUTANTO|    null|ACTIVE|      ORDER|INDIVIDUAL|PRIBADI,KARIER,RE...|     false|     false|2020-09-19 17:51:...|2020-10-27 20:42:...|\n",
      "|14282|1d87d0c821f647179...|   KTP|2a49f378f98ec836f...|Eric77wyndham@gma...| 085695780040|Erik Yusdianto Ba...|    null|ACTIVE|      ORDER|INDIVIDUAL|KARIER,REFERENSI,...|     false|     false|2020-09-14 15:38:...|2020-10-27 17:03:...|\n",
      "|23674|fbef586345324e769...|   KTP|09099defd157d99a1...|Pradikasaputra@gm...| 087855871384|   Nikomang serinadi|    null|ACTIVE|      ORDER|INDIVIDUAL|PRIBADI,KARIER,RE...|     false|     false|2020-10-26 02:55:...|2020-10-26 03:09:...|\n",
      "|23678|f1af8923e6404734b...|  null|                    |                null| 085773141131|                null|    null|ACTIVE|       INFO|INDIVIDUAL|                null|     false|     false|2020-10-26 03:44:...|2020-10-26 03:44:...|\n",
      "|23691|0a3b580171d146999...|   KTP|29babe3b08c0e65e6...|sofiyanmohamad9@g...| 082279791986|   Mohamad Sofiyanto|    null|ACTIVE|      ORDER|INDIVIDUAL|PRIBADI,KARIER,RE...|     false|     false|2020-10-26 05:37:...|2020-10-26 05:49:...|\n",
      "|23670|a2b5aaf4c99c4c3ba...|   KTP|c1a4f008b1b145867...|ruruhidayat@gmail...| 081807977400|       Nurul Hidayat|    null|ACTIVE|       INFO|INDIVIDUAL|             PRIBADI|     false|     false|2020-10-26 02:37:...|2020-10-26 02:45:...|\n",
      "|23085|a07225ef8d6f4bbfb...|   KTP|0fd2943e01d8406d3...| meli.eka3@gmail.com| 085817623454|    Meli eka sukanti|    null|ACTIVE|       INFO|INDIVIDUAL|PRIBADI,KARIER,RE...|     false|     false|2020-10-23 06:32:...|2020-10-27 10:06:...|\n",
      "+-----+--------------------+------+--------------------+--------------------+-------------+--------------------+--------+------+-----------+----------+--------------------+----------+----------+--------------------+--------------------+\n",
      "only showing top 20 rows"
     ]
    }
   ],
   "source": [
    "\n",
    "df=spark.read.orc(\"s3://rupiahplus-data-warehouse/etl/credinex/guest1/t_user/year=2020/part-00000-389e0011-f6b3-4cc3-b8ee-c1e410fbbc9c.c000.snappy.orc\")\n",
    "df.show()"
   ]
  }
 ],
 "metadata": {
  "kernelspec": {
   "display_name": "PySpark",
   "language": "",
   "name": "pysparkkernel"
  },
  "language_info": {
   "codemirror_mode": {
    "name": "python",
    "version": 2
   },
   "mimetype": "text/x-python",
   "name": "pyspark",
   "pygments_lexer": "python2"
  }
 },
 "nbformat": 4,
 "nbformat_minor": 4
}
