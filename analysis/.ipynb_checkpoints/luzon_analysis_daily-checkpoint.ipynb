{
 "cells": [
  {
   "cell_type": "code",
   "execution_count": 1,
   "metadata": {},
   "outputs": [
    {
     "data": {
      "application/vnd.jupyter.widget-view+json": {
       "model_id": "bf907807a2784f36a9e38109bfde972a",
       "version_major": 2,
       "version_minor": 0
      },
      "text/plain": [
       "VBox()"
      ]
     },
     "metadata": {},
     "output_type": "display_data"
    },
    {
     "name": "stdout",
     "output_type": "stream",
     "text": [
      "Starting Spark application\n"
     ]
    },
    {
     "data": {
      "text/html": [
       "<table>\n",
       "<tr><th>ID</th><th>YARN Application ID</th><th>Kind</th><th>State</th><th>Spark UI</th><th>Driver log</th><th>Current session?</th></tr><tr><td>0</td><td>application_1591930254723_0001</td><td>pyspark</td><td>idle</td><td><a target=\"_blank\" href=\"http://ip-172-31-11-24.ap-southeast-1.compute.internal:20888/proxy/application_1591930254723_0001/\">Link</a></td><td><a target=\"_blank\" href=\"http://ip-172-31-8-114.ap-southeast-1.compute.internal:8042/node/containerlogs/container_1591930254723_0001_01_000001/livy\">Link</a></td><td>✔</td></tr></table>"
      ],
      "text/plain": [
       "<IPython.core.display.HTML object>"
      ]
     },
     "metadata": {},
     "output_type": "display_data"
    },
    {
     "data": {
      "application/vnd.jupyter.widget-view+json": {
       "model_id": "",
       "version_major": 2,
       "version_minor": 0
      },
      "text/plain": [
       "FloatProgress(value=0.0, bar_style='info', description='Progress:', layout=Layout(height='25px', width='50%'),…"
      ]
     },
     "metadata": {},
     "output_type": "display_data"
    },
    {
     "name": "stdout",
     "output_type": "stream",
     "text": [
      "SparkSession available as 'spark'.\n"
     ]
    },
    {
     "data": {
      "application/vnd.jupyter.widget-view+json": {
       "model_id": "",
       "version_major": 2,
       "version_minor": 0
      },
      "text/plain": [
       "FloatProgress(value=0.0, bar_style='info', description='Progress:', layout=Layout(height='25px', width='50%'),…"
      ]
     },
     "metadata": {},
     "output_type": "display_data"
    }
   ],
   "source": [
    "# from __future__ import print_function\n",
    "\n",
    "import sys\n",
    "\n",
    "import numpy as np\n",
    "from pyspark.sql import SparkSession\n",
    "from datetime import datetime, timedelta\n",
    "import pyspark.sql.functions as F\n",
    "\n",
    "import pytz\n",
    "\n",
    "# print(datetime.now(pytz.timezone(\"Asia/Shanghai\")).strftime( '%Y-%m-%d'))\n",
    "#北京时间0点半执行，相当于utc时间昨天的16:30 ，所以时间不-1天\n",
    "# yesterday = datetime.now().strftime('%Y-%m-%d')\n",
    "# yesterday = datetime.now().strftime('%Y-%m-%d')\n",
    "# partitionlist=yesterday.split(\"-\",3)\n",
    "# beforeyesterday = (datetime.now() + timedelta(-1)).strftime('%Y-%m-%d')\n",
    "# #防止当天出错之后,八点之后运行会丢失分区\n",
    "# partitionlist.append(beforeyesterday.split(\"-\",3)[2])\n",
    "#是否特殊special，特殊的需要自己写sql\n",
    "# print()builtins\n",
    "if __name__ == \"__main__\":\n",
    "    spark = SparkSession \\\n",
    "        .builder \\\n",
    "        .appName(\"Python Demo\") \\\n",
    "        .config(\"hive.metastore.client.factory.class\",\n",
    "                \"com.amazonaws.glue.catalog.metastore.AWSGlueDataCatalogHiveClientFactory\") \\\n",
    "        .config(\"spark.driver.maxResultSize\", \"4g\") \\\n",
    "        .enableHiveSupport() \\\n",
    "        .getOrCreate()\n",
    "    spark.conf.set(\"hive.exec.dynamic.partition.mode\", \"nonstrict\");\n",
    "    spark.conf.set(\"spark.sql.sources.partitionOverwriteMode\", \"dynamic\")\n",
    "    databases = spark.sql(\"show databases\")\n",
    "    databases = databases.collect()\n",
    "#     for  row in tablelist:\n",
    "#         #添加分区 \n",
    "# #       spark.sql(partitionsql)\n",
    "#         partitionsql_1.replace(\"#table#\", row) \n",
    "#         spark.sql(partitionsql_1)\n",
    "#         partitionsql_2.replace(\"#table#\", row) \n",
    "#         spark.sql(partitionsql_2)\n",
    "    df1=spark.sql(\"\"\"\n",
    "        with\n",
    "            parent_table as (\n",
    "              -- 获取开始展期的第一笔loan\n",
    "              select \n",
    "              id loan_id,\n",
    "              customer_id\n",
    "              from `luzon_etl_s3`.t_loan_app\n",
    "              where paid_off_mode = 'ROLLOVER' and (parent_id is null or parent_id = 0) \n",
    "              and date(create_time )  >= date '2019-01-01'\n",
    "\n",
    "              ),\n",
    "            last_roll_table as (\n",
    "              -- 获取当前展期周期的最后一笔rollover，最后一笔的状态只能是('PAID_OFF', 'OVERDUE', 'GRACE_PERIOD', 'CURRENT')\n",
    "              select\n",
    "              last_loan_id,\n",
    "              status,\n",
    "              customer_id\n",
    "              from (\n",
    "              select\n",
    "              l.id last_loan_id,\n",
    "              l.status,\n",
    "              l.customer_id,\n",
    "              rank() over (partition by l.customer_id order by p.loan_id) rnk\n",
    "              from `luzon_etl_s3`.t_loan_app l\n",
    "              right join parent_table p\n",
    "              on l.customer_id = p.customer_id and p.loan_id < l.id and (l.paid_off_mode is null and l.status in ('PAID_OFF', 'OVERDUE', 'GRACE_PERIOD', 'CURRENT'))\n",
    "              where date(l.create_time)  >= date '2019-01-01'\n",
    "              ) rnk\n",
    "              where rnk.rnk = 1\n",
    "                ),\n",
    "            rollover_table as (    \n",
    "              -- 获取所有rollover loan，且状态为('PAID_OFF', 'OVERDUE', 'GRACE_PERIOD', 'CURRENT')\n",
    "              -- 同一个customer下的，所有阶段的rollover loan，一定满足：parent_loan_id < rollover_loan_id <= last_rollover_loan_id\n",
    "            select id,customer_id,parent_loan_id as primary_id ,last_loan_id, rank() over(partition by parent_loan_id order by id) as rollover_rnk from (\n",
    "              select\n",
    "              l.id,l.customer_id,\n",
    "              l.parent_id,\n",
    "              l.status,\n",
    "              l.loan_type,\n",
    "              l.paid_off_mode,\n",
    "              rank() over (partition by l.id order by p.loan_id desc, lr.last_loan_id) rnk,\n",
    "              p.loan_id parent_loan_id,\n",
    "              lr.last_loan_id\n",
    "              from `luzon_etl_s3`.t_loan_app l\n",
    "              right join parent_table p\n",
    "              on p.loan_id < l.id and p.customer_id = l.customer_id \n",
    "              left join last_roll_table lr\n",
    "              on l.id <= lr.last_loan_id and lr.customer_id = l.customer_id\n",
    "              where \n",
    "                l.status in ('PAID_OFF', 'OVERDUE', 'GRACE_PERIOD', 'CURRENT') and date(l.create_time  )  >= date '2019-01-01'\n",
    "                and l.loan_type = 'ROLLOVER'\n",
    "              order by l.id\n",
    "                )\n",
    "                where rnk = 1\n",
    "                order by id\n",
    "              ),\n",
    "            last_loan as \n",
    "            (\n",
    "              select primary_id ,last_loan_id,count(*) as k\n",
    "              from rollover_table\n",
    "              group by primary_id ,last_loan_id\n",
    "            ),\n",
    "            issue as \n",
    "            (\n",
    "              select app.id,min(status.create_time) as issue_time\n",
    "              from `luzon_etl_s3`.t_loan_app app\n",
    "              left join `luzon_etl_s3`.t_loan_app_status_log status\n",
    "              on app.id = status.loan_app_id\n",
    "              where app.status in ('PAID_OFF', 'OVERDUE', 'GRACE_PERIOD', 'CURRENT') and status.new_status = 'CURRENT'\n",
    "              and date(app.create_time   )  >= date '2019-01-01'\n",
    "              group by app.id\n",
    "            ),\n",
    "            paid_off as \n",
    "            (\n",
    "              select app.id,min(status.create_time) as paid_off_time\n",
    "              from `luzon_etl_s3`.t_loan_app app\n",
    "              left join `luzon_etl_s3`.t_loan_app_status_log status\n",
    "              on app.id = status.loan_app_id\n",
    "              where app.status in ('PAID_OFF', 'OVERDUE', 'GRACE_PERIOD', 'CURRENT') and status.new_status = 'PAID_OFF'\n",
    "              and date(app.create_time )  >= date '2019-01-01'\n",
    "              group by app.id\n",
    "            ),\n",
    "            issue_rank as \n",
    "            (\n",
    "              select app.id,rank() over (partition by customer_id order by id) as rnk\n",
    "              from `luzon_etl_s3`.t_loan_app app\n",
    "              where app.status in ('PAID_OFF', 'OVERDUE', 'GRACE_PERIOD', 'CURRENT')  and app.loan_type != 'ROLLOVER'\n",
    "              and date(app.create_time  + interval '7' hour )  >= date '2019-08-01'\n",
    "            )\n",
    "            select app.id,app.amount as issue_amount,app.status,app.create_time,lpay.due_date,app.customer_id,\n",
    "                   CASE WHEN lpay.principal_paid IS NULL THEN 0 ELSE lpay.principal_paid END  as principal_paid,\n",
    "                   CASE WHEN lpay.interest_paid IS NULL THEN 0 ELSE lpay.interest_paid END as interest_paid,\n",
    "                   CASE WHEN lpay.default_paid IS NULL THEN 0 ELSE lpay.default_paid END as default_paid,\n",
    "                   CASE WHEN lpay.service_fee_paid IS NULL THEN 0 ELSE lpay.service_fee_paid END as service_fee_paid,\n",
    "                   CASE WHEN lpay.rollover_fee_paid IS NULL THEN 0 ELSE lpay.rollover_fee_paid END as rollover_fee_paid,\n",
    "                   CASE WHEN lpay.service_fee_accr IS NULL THEN 0 ELSE lpay.service_fee_accr END as default_fee_accr,\n",
    "                   CASE WHEN lpay.erase_amount  IS NULL THEN 0 ELSE lpay.erase_amount  END as erase_amount,\n",
    "                   app.loan_type,app.paid_off_mode,app.parent_id,\n",
    "                   case when app.loan_type != 'ROLLOVER' then app.id else roll.primary_id end  as primary_id,\n",
    "                   case when app.paid_off_mode is null then app.id when ll.last_loan_id is not null then ll.last_loan_id else roll.last_loan_id end as last_loan_id,\n",
    "                   case when app.loan_type != 'ROLLOVER' then 0 else roll.rollover_rnk end as rollover_rnk,ie.issue_time,po.paid_off_time,\n",
    "                   ik.rnk as issue_rnk\n",
    "            from `luzon_etl_s3`.t_loan_app app\n",
    "            left join `luzon_etl_s3`.t_lpay lpay\n",
    "            on app.id = lpay.loan_app_id\n",
    "            left join rollover_table roll\n",
    "            on app.id = roll.id\n",
    "            left join last_loan ll\n",
    "            on app.id = ll.primary_id\n",
    "            left join issue ie\n",
    "            on app.id = ie.id\n",
    "            left join paid_off po\n",
    "            on app.id = po.id\n",
    "            left join issue_rank as ik\n",
    "            on app.id = ik.id\n",
    "            where app.status in ('PAID_OFF', 'OVERDUE', 'GRACE_PERIOD', 'CURRENT') and date(app.create_time )  >= date '2019-01-01'\n",
    "\n",
    "    \"\"\")\n",
    "    df1.write.mode(\"overwrite\").orc(\"s3://rupiahplus-data-warehouse/etl/luzon/analysis/t_loan_eft\")\n",
    "\n"
   ]
  }
 ],
 "metadata": {
  "kernelspec": {
   "display_name": "PySpark",
   "language": "",
   "name": "pysparkkernel"
  },
  "language_info": {
   "codemirror_mode": {
    "name": "python",
    "version": 2
   },
   "mimetype": "text/x-python",
   "name": "pyspark",
   "pygments_lexer": "python2"
  }
 },
 "nbformat": 4,
 "nbformat_minor": 4
}
