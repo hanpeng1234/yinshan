{
 "cells": [
  {
   "cell_type": "code",
   "execution_count": 1,
   "metadata": {},
   "outputs": [
    {
     "data": {
      "application/vnd.jupyter.widget-view+json": {
       "model_id": "e5542f48369b46fdbb3914364a3aaddc",
       "version_major": 2,
       "version_minor": 0
      },
      "text/plain": [
       "VBox()"
      ]
     },
     "metadata": {},
     "output_type": "display_data"
    },
    {
     "name": "stdout",
     "output_type": "stream",
     "text": [
      "Starting Spark application\n"
     ]
    },
    {
     "data": {
      "text/html": [
       "<table>\n",
       "<tr><th>ID</th><th>YARN Application ID</th><th>Kind</th><th>State</th><th>Spark UI</th><th>Driver log</th><th>Current session?</th></tr><tr><td>0</td><td>application_1618893255944_0003</td><td>pyspark</td><td>idle</td><td><a target=\"_blank\" href=\"http://ip-10-3-0-40.ap-southeast-1.compute.internal:20888/proxy/application_1618893255944_0003/\">Link</a></td><td><a target=\"_blank\" href=\"http://ip-10-3-0-7.ap-southeast-1.compute.internal:8042/node/containerlogs/container_1618893255944_0003_01_000001/livy\">Link</a></td><td>✔</td></tr></table>"
      ],
      "text/plain": [
       "<IPython.core.display.HTML object>"
      ]
     },
     "metadata": {},
     "output_type": "display_data"
    },
    {
     "data": {
      "application/vnd.jupyter.widget-view+json": {
       "model_id": "",
       "version_major": 2,
       "version_minor": 0
      },
      "text/plain": [
       "FloatProgress(value=0.0, bar_style='info', description='Progress:', layout=Layout(height='25px', width='50%'),…"
      ]
     },
     "metadata": {},
     "output_type": "display_data"
    },
    {
     "name": "stdout",
     "output_type": "stream",
     "text": [
      "SparkSession available as 'spark'.\n"
     ]
    },
    {
     "data": {
      "application/vnd.jupyter.widget-view+json": {
       "model_id": "",
       "version_major": 2,
       "version_minor": 0
      },
      "text/plain": [
       "FloatProgress(value=0.0, bar_style='info', description='Progress:', layout=Layout(height='25px', width='50%'),…"
      ]
     },
     "metadata": {},
     "output_type": "display_data"
    }
   ],
   "source": [
    "# from __future__ import print_function\n",
    "\n",
    "import sys\n",
    "\n",
    "import numpy as np\n",
    "from pyspark.sql import SparkSession\n",
    "from datetime import datetime, timedelta\n",
    "import pyspark.sql.functions as F\n",
    "\n",
    "import pytz\n",
    "# print(__name__)builtins\n",
    "if __name__ == \"builtins\":\n",
    "    spark = SparkSession \\\n",
    "        .builder \\\n",
    "        .appName(\"Python Demo\") \\\n",
    "        .config(\"hive.metastore.client.factory.class\",\n",
    "                \"com.amazonaws.glue.catalog.metastore.AWSGlueDataCatalogHiveClientFactory\") \\\n",
    "        .config(\"spark.driver.maxResultSize\", \"4g\") \\\n",
    "        .enableHiveSupport() \\\n",
    "        .getOrCreate()\n",
    "    spark.conf.set(\"hive.exec.dynamic.partition.mode\", \"nonstrict\");\n",
    "    spark.conf.set(\"spark.sql.sources.partitionOverwriteMode\", \"dynamic\")\n",
    "    spark.conf.set(\"spark.sql.autoBroadcastJoinThreshold\", \"20000000\")\n",
    "    databases = spark.sql(\"show databases\")\n",
    "    databases = databases.collect()\n",
    "    tablelist=[\"`banda-etl-s3`.`t_channel_details`\",\"`banda-etl-s3`.`t_customer_install_info`\",\"`banda-etl-s3`.`t_customer`\"];\n",
    "#         select * from `banda-etl-s3`.`t_loan_app` a where a.id not in(\n",
    "#                            select rel.loan_id\n",
    "#                                         from `banda-etl-s3`.t_loan_tag_rel rel \n",
    "#                                         where rel.tag_id in (select id from `banda-etl-s3`.t_tag where type='SELLING_CASE' ) and  rel.status='UNACTIVE'\n",
    "\n",
    "#                         ) and  a.`status` in ('CURRENT','PAID_OFF','OVERDUE','GRACE_PERIOD') and a.product_name='RUPIAHONE' and a.`create_time` + interval '7' hour >= date '2019-08-26' \n",
    "#                         and a.customer_id not in  (select customer_id from `banda-etl-s3`.t_test_customer)\n",
    "    df1=spark.sql(\"\"\"\n",
    "        with t_loan_app_not_in as(\n",
    "            select a.* from `banda-etl-s3`.`t_loan_app` a \n",
    "                left join  \n",
    "                   (select rel.id, rel.status,rel.loan_id,tag.id as tagid from `banda-etl-s3`.t_loan_tag_rel rel \n",
    "                left join `banda-etl-s3`.t_tag tag\n",
    "                   on rel.tag_id=tag.id \n",
    "                   and tag.type='SELLING_CASE'\n",
    "                   where tag.id is not null ) as tmp \n",
    "                   on a.id =tmp.loan_id\n",
    "                   and  tmp.status='UNACTIVE'\n",
    "                where tmp.loan_id is null \n",
    "                and  a.`status` in ('CURRENT','PAID_OFF','OVERDUE','GRACE_PERIOD') and a.product_name='RUPIAHONE' and a.`create_time` + interval '7' hour >= date '2019-08-26' \n",
    "                and a.customer_id not in (select customer_id from `banda-etl-s3`.t_test_customer)\n",
    "                order by a.id desc \n",
    "                    )\n",
    "        select date(now()+interval '7' hour-interval '1' day) as date,\n",
    "                sum(if(a.loan_type !='ROLLOVER',a.amount,0)) as total_issue_amount,\n",
    "\n",
    "                sum(coalesce(b.principal_paid,0)) as total_paid_off_principle,\n",
    "                sum(b.principal_paid) as kkk,\n",
    "\n",
    "                sum(if(a.loan_type !='ROLLOVER',a.amount,0))-sum(coalesce(b.principal_paid,0)) as loan_balance,\n",
    "\n",
    "                sum(if(a.`status` in ('CURRENT','OVERDUE','GRACE_PERIOD') and datediff(date(now()+INTERVAL '7' hour),date(b.due_date+INTERVAL '7' hour)) <=0,(coalesce(b.principal_accr,0)) -(coalesce(b.principal_paid,0) ),0)) as total_current_principle,\n",
    "\n",
    "                sum(if(a.`status` in ('CURRENT','OVERDUE','GRACE_PERIOD') and datediff(date(now()+INTERVAL '7' hour),date(b.due_date+INTERVAL '7' hour))>=1 and datediff(date(now()+INTERVAL '7' hour),date(b.due_date+INTERVAL '7' hour))<=3,\n",
    "\n",
    "                (coalesce(b.principal_accr,0)) -(coalesce(b.principal_paid,0)),0)) as overdue_3_principle,\n",
    "\n",
    "                sum(if(a.`status` in ('CURRENT','OVERDUE','GRACE_PERIOD') and datediff(date(now()+INTERVAL '7' hour),date(b.due_date+INTERVAL '7' hour))>=4 and datediff(date(now()+INTERVAL '7' hour),date(b.due_date+INTERVAL '7' hour))<=10,\n",
    "                (coalesce(b.principal_accr,0) ) -(coalesce(b.principal_paid,0) ),0)) as overdue_10_principle,\n",
    "\n",
    "                sum(if(a.`status` in ('CURRENT','OVERDUE','GRACE_PERIOD') and datediff(date(now()+INTERVAL '7' hour),date(b.due_date+INTERVAL '7' hour))>=11 and datediff(date(now()+INTERVAL '7' hour),date(b.due_date+INTERVAL '7' hour))<=30,\n",
    "                (coalesce(b.principal_accr,0) ) -(coalesce(b.principal_paid,0) ),0)) as overdue_30_principle,\n",
    "                sum(if(a.`status` in ('CURRENT','OVERDUE','GRACE_PERIOD') and datediff(date(now()+INTERVAL '7' hour),date(b.due_date+INTERVAL '7' hour))>=31 and datediff(date(now()+INTERVAL '7' hour),date(b.due_date+INTERVAL '7' hour))<=60,\n",
    "                (coalesce(b.principal_accr,0) ) -(coalesce(b.principal_paid,0) ),0)) as overdue_60_principle,\n",
    "                sum(if(a.`status` in ('CURRENT','OVERDUE','GRACE_PERIOD') and datediff(date(now()+INTERVAL '7' hour),date(b.due_date+INTERVAL '7' hour))>=61 and datediff(date(now()+INTERVAL '7' hour),date(b.due_date+INTERVAL '7' hour))<=90,\n",
    "                (coalesce(b.principal_accr,0) ) -(coalesce(b.principal_paid,0) ),0)) as overdue_90_principle,\n",
    "                sum(if(a.`status` in ('CURRENT','OVERDUE','GRACE_PERIOD') and datediff(date(now()+INTERVAL '7' hour),date(b.due_date+INTERVAL '7' hour))>=91,\n",
    "                (coalesce(b.principal_accr,0) ) -(coalesce(b.principal_paid,0) ),0)) as overdue_more_than_90_principle,\n",
    "\n",
    "                sum(coalesce(b.principal_paid,0) + coalesce(b.interest_paid,0) + b.rollover_fee_paid + coalesce(b.default_paid,0) + coalesce(b.default_fee_paid,0) + coalesce(b.service_fee_paid,0)-b.erase_amount-b.coupon_amount) as total_paid_off_amount,\n",
    "\n",
    "                sum(if(a.`status` in ('CURRENT','OVERDUE','GRACE_PERIOD'),(coalesce(b.principal_accr,0) + coalesce(b.interest_accr,0) + coalesce(b.default_accr,0) + coalesce(b.default_fee_accr,0) + coalesce(b.service_fee_accr,0)) -\n",
    "                (coalesce(b.principal_paid,0) + coalesce(b.interest_paid,0) + coalesce(b.default_paid,0) + coalesce(b.default_fee_paid,0) + coalesce(b.service_fee_paid,0)),0)) as total_outstanding_amount,\n",
    "\n",
    "                sum(if(a.`status` in ('CURRENT','OVERDUE','GRACE_PERIOD') and datediff(date(now()+INTERVAL '7' hour),date(b.due_date+INTERVAL '7' hour)) <=0,(coalesce(b.principal_accr,0) + coalesce(b.interest_accr,0) + coalesce(b.default_accr,0) + coalesce(b.default_fee_accr,0) + coalesce(b.service_fee_accr,0)) -\n",
    "                (coalesce(b.principal_paid,0) + coalesce(b.interest_paid,0) + coalesce(b.default_paid,0) + coalesce(b.default_fee_paid,0) + coalesce(b.service_fee_paid,0)),0)) as total_current_amount,\n",
    "                sum(if(a.`status` in ('CURRENT','OVERDUE','GRACE_PERIOD') and datediff(date(now()+INTERVAL '7' hour),date(b.due_date+INTERVAL '7' hour))>=1 and datediff(date(now()+INTERVAL '7' hour),date(b.due_date+INTERVAL '7' hour))<=3,(coalesce(b.principal_accr,0) + coalesce(b.interest_accr,0) + coalesce(b.default_accr,0) + coalesce(b.default_fee_accr,0) + coalesce(b.service_fee_accr,0)) -\n",
    "                (coalesce(b.principal_paid,0) + coalesce(b.interest_paid,0) + coalesce(b.default_paid,0) + coalesce(b.default_fee_paid,0) + coalesce(b.service_fee_paid,0)),0)) as overdue_3_amount,\n",
    "\n",
    "                sum(if(a.`status` in ('CURRENT','OVERDUE','GRACE_PERIOD') and datediff(date(now()+INTERVAL '7' hour),date(b.due_date+INTERVAL '7' hour))>=4 and datediff(date(now()+INTERVAL '7' hour),date(b.due_date+INTERVAL '7' hour))<=10,(coalesce(b.principal_accr,0) + coalesce(b.interest_accr,0) + coalesce(b.default_accr,0) + coalesce(b.default_fee_accr,0) + coalesce(b.service_fee_accr,0)) -\n",
    "                (coalesce(b.principal_paid,0) + coalesce(b.interest_paid,0) + coalesce(b.default_paid,0) + coalesce(b.default_fee_paid,0) + coalesce(b.service_fee_paid,0)),0)) as overdue_10_amount,\n",
    "\n",
    "                sum(if(a.`status` in ('CURRENT','OVERDUE','GRACE_PERIOD') and datediff(date(now()+INTERVAL '7' hour),date(b.due_date+INTERVAL '7' hour))>=11 and datediff(date(now()+INTERVAL '7' hour),date(b.due_date+INTERVAL '7' hour))<=30,(coalesce(b.principal_accr,0) + coalesce(b.interest_accr,0) + coalesce(b.default_accr,0) + coalesce(b.default_fee_accr,0) + coalesce(b.service_fee_accr,0)) -\n",
    "                (coalesce(b.principal_paid,0) + coalesce(b.interest_paid,0) + coalesce(b.default_paid,0) + coalesce(b.default_fee_paid,0) + coalesce(b.service_fee_paid,0)),0)) as overdue_30_amount,\n",
    "                sum(if(a.`status` in ('CURRENT','OVERDUE','GRACE_PERIOD') and datediff(date(now()+INTERVAL '7' hour),date(b.due_date+INTERVAL '7' hour))>=31 and datediff(date(now()+INTERVAL '7' hour),date(b.due_date+INTERVAL '7' hour))<=60,(coalesce(b.principal_accr,0) + coalesce(b.interest_accr,0) + coalesce(b.default_accr,0) + coalesce(b.default_fee_accr,0) + coalesce(b.service_fee_accr,0)) -\n",
    "                (coalesce(b.principal_paid,0) + coalesce(b.interest_paid,0) + coalesce(b.default_paid,0) + coalesce(b.default_fee_paid,0) + coalesce(b.service_fee_paid,0)),0)) as overdue_60_amount,\n",
    "                sum(if(a.`status` in ('CURRENT','OVERDUE','GRACE_PERIOD') and datediff(date(now()+INTERVAL '7' hour),date(b.due_date+INTERVAL '7' hour))>=61 and datediff(date(now()+INTERVAL '7' hour),date(b.due_date+INTERVAL '7' hour))<=90,(coalesce(b.principal_accr,0) + coalesce(b.interest_accr,0) + coalesce(b.default_accr,0) + coalesce(b.default_fee_accr,0) + coalesce(b.service_fee_accr,0)) -\n",
    "                (coalesce(b.principal_paid,0) + coalesce(b.interest_paid,0) + coalesce(b.default_paid,0) + coalesce(b.default_fee_paid,0) + coalesce(b.service_fee_paid,0)),0)) as overdue_90_amount,\n",
    "                sum(if(a.`status` in ('CURRENT','OVERDUE','GRACE_PERIOD') and datediff(date(now()+INTERVAL '7' hour),date(b.due_date+INTERVAL '7' hour))>=91,(coalesce(b.principal_accr,0) + coalesce(b.interest_accr,0) + coalesce(b.default_accr,0) + coalesce(b.default_fee_accr,0) + coalesce(b.service_fee_accr,0)) -\n",
    "                (coalesce(b.principal_paid,0) + coalesce(b.interest_paid,0) + coalesce(b.default_paid,0) + coalesce(b.default_fee_paid,0) + coalesce(b.service_fee_paid,0)),0)) as overdue_more_than_90_amount,'total' as mark\n",
    "\n",
    "                from `banda-etl-s3`.`t_loan_app` a\n",
    "                left  join `banda-etl-s3`.`t_lpay` b\n",
    "                on a.`id` = b.`loan_app_id`\n",
    "                where a.`status` in ('CURRENT','PAID_OFF','OVERDUE','GRACE_PERIOD') and a.product_name='RUPIAHONE' and a.`create_time` + interval '7' hour >= date '2019-08-26'\n",
    "                and a.customer_id not in (select customer_id from `banda-etl-s3`.t_test_customer)\n",
    "\n",
    "                union all\n",
    "\n",
    "                select date(now()+interval '7' hour-interval '1' day) as date,\n",
    "                sum(if(a.loan_type !='ROLLOVER',a.amount,0)) as total_issue_amount,\n",
    "\n",
    "                sum(coalesce(b.principal_paid,0)) as total_paid_off_principle,\n",
    "                sum(b.principal_paid) as kkk,\n",
    "\n",
    "                sum(if(a.loan_type !='ROLLOVER',a.amount,0))-sum(coalesce(b.principal_paid,0)) as loan_balance,\n",
    "\n",
    "                sum(if(a.`status` in ('CURRENT','OVERDUE','GRACE_PERIOD') and datediff(date(now()+INTERVAL '7' hour),date(b.due_date+INTERVAL '7' hour)) <=0,(coalesce(b.principal_accr,0)) -(coalesce(b.principal_paid,0) ),0)) as total_current_principle,\n",
    "\n",
    "                sum(if(a.`status` in ('CURRENT','OVERDUE','GRACE_PERIOD') and datediff(date(now()+INTERVAL '7' hour),date(b.due_date+INTERVAL '7' hour))>=1 and datediff(date(now()+INTERVAL '7' hour),date(b.due_date+INTERVAL '7' hour))<=3,\n",
    "\n",
    "                (coalesce(b.principal_accr,0)) -(coalesce(b.principal_paid,0)),0)) as overdue_3_principle,\n",
    "\n",
    "                sum(if(a.`status` in ('CURRENT','OVERDUE','GRACE_PERIOD') and datediff(date(now()+INTERVAL '7' hour),date(b.due_date+INTERVAL '7' hour))>=4 and datediff(date(now()+INTERVAL '7' hour),date(b.due_date+INTERVAL '7' hour))<=10,\n",
    "                (coalesce(b.principal_accr,0) ) -(coalesce(b.principal_paid,0) ),0)) as overdue_10_principle,\n",
    "\n",
    "                sum(if(a.`status` in ('CURRENT','OVERDUE','GRACE_PERIOD') and datediff(date(now()+INTERVAL '7' hour),date(b.due_date+INTERVAL '7' hour))>=11 and datediff(date(now()+INTERVAL '7' hour),date(b.due_date+INTERVAL '7' hour))<=30,\n",
    "                (coalesce(b.principal_accr,0) ) -(coalesce(b.principal_paid,0) ),0)) as overdue_30_principle,\n",
    "                sum(if(a.`status` in ('CURRENT','OVERDUE','GRACE_PERIOD') and datediff(date(now()+INTERVAL '7' hour),date(b.due_date+INTERVAL '7' hour))>=31 and datediff(date(now()+INTERVAL '7' hour),date(b.due_date+INTERVAL '7' hour))<=60,\n",
    "                (coalesce(b.principal_accr,0) ) -(coalesce(b.principal_paid,0) ),0)) as overdue_60_principle,\n",
    "                sum(if(a.`status` in ('CURRENT','OVERDUE','GRACE_PERIOD') and datediff(date(now()+INTERVAL '7' hour),date(b.due_date+INTERVAL '7' hour))>=61 and datediff(date(now()+INTERVAL '7' hour),date(b.due_date+INTERVAL '7' hour))<=90,\n",
    "                (coalesce(b.principal_accr,0) ) -(coalesce(b.principal_paid,0) ),0)) as overdue_90_principle,\n",
    "                sum(if(a.`status` in ('CURRENT','OVERDUE','GRACE_PERIOD') and datediff(date(now()+INTERVAL '7' hour),date(b.due_date+INTERVAL '7' hour))>=91,\n",
    "                (coalesce(b.principal_accr,0) ) -(coalesce(b.principal_paid,0) ),0)) as overdue_more_than_90_principle,\n",
    "\n",
    "                sum(coalesce(b.principal_paid,0) + coalesce(b.interest_paid,0) + b.rollover_fee_paid + coalesce(b.default_paid,0) + coalesce(b.default_fee_paid,0) + coalesce(b.service_fee_paid,0)-b.erase_amount-b.coupon_amount) as total_paid_off_amount,\n",
    "\n",
    "                sum(if(a.`status` in ('CURRENT','OVERDUE','GRACE_PERIOD'),(coalesce(b.principal_accr,0) + coalesce(b.interest_accr,0) + coalesce(b.default_accr,0) + coalesce(b.default_fee_accr,0) + coalesce(b.service_fee_accr,0)) -\n",
    "                (coalesce(b.principal_paid,0) + coalesce(b.interest_paid,0) + coalesce(b.default_paid,0) + coalesce(b.default_fee_paid,0) + coalesce(b.service_fee_paid,0)),0)) as total_outstanding_amount,\n",
    "\n",
    "                sum(if(a.`status` in ('CURRENT','OVERDUE','GRACE_PERIOD') and datediff(date(now()+INTERVAL '7' hour),date(b.due_date+INTERVAL '7' hour)) <=0,(coalesce(b.principal_accr,0) + coalesce(b.interest_accr,0) + coalesce(b.default_accr,0) + coalesce(b.default_fee_accr,0) + coalesce(b.service_fee_accr,0)) -\n",
    "                (coalesce(b.principal_paid,0) + coalesce(b.interest_paid,0) + coalesce(b.default_paid,0) + coalesce(b.default_fee_paid,0) + coalesce(b.service_fee_paid,0)),0)) as total_current_amount,\n",
    "                sum(if(a.`status` in ('CURRENT','OVERDUE','GRACE_PERIOD') and datediff(date(now()+INTERVAL '7' hour),date(b.due_date+INTERVAL '7' hour))>=1 and datediff(date(now()+INTERVAL '7' hour),date(b.due_date+INTERVAL '7' hour))<=3,(coalesce(b.principal_accr,0) + coalesce(b.interest_accr,0) + coalesce(b.default_accr,0) + coalesce(b.default_fee_accr,0) + coalesce(b.service_fee_accr,0)) -\n",
    "                (coalesce(b.principal_paid,0) + coalesce(b.interest_paid,0) + coalesce(b.default_paid,0) + coalesce(b.default_fee_paid,0) + coalesce(b.service_fee_paid,0)),0)) as overdue_3_amount,\n",
    "\n",
    "                sum(if(a.`status` in ('CURRENT','OVERDUE','GRACE_PERIOD') and datediff(date(now()+INTERVAL '7' hour),date(b.due_date+INTERVAL '7' hour))>=4 and datediff(date(now()+INTERVAL '7' hour),date(b.due_date+INTERVAL '7' hour))<=10,(coalesce(b.principal_accr,0) + coalesce(b.interest_accr,0) + coalesce(b.default_accr,0) + coalesce(b.default_fee_accr,0) + coalesce(b.service_fee_accr,0)) -\n",
    "                (coalesce(b.principal_paid,0) + coalesce(b.interest_paid,0) + coalesce(b.default_paid,0) + coalesce(b.default_fee_paid,0) + coalesce(b.service_fee_paid,0)),0)) as overdue_10_amount,\n",
    "\n",
    "                sum(if(a.`status` in ('CURRENT','OVERDUE','GRACE_PERIOD') and datediff(date(now()+INTERVAL '7' hour),date(b.due_date+INTERVAL '7' hour))>=11 and datediff(date(now()+INTERVAL '7' hour),date(b.due_date+INTERVAL '7' hour))<=30,(coalesce(b.principal_accr,0) + coalesce(b.interest_accr,0) + coalesce(b.default_accr,0) + coalesce(b.default_fee_accr,0) + coalesce(b.service_fee_accr,0)) -\n",
    "                (coalesce(b.principal_paid,0) + coalesce(b.interest_paid,0) + coalesce(b.default_paid,0) + coalesce(b.default_fee_paid,0) + coalesce(b.service_fee_paid,0)),0)) as overdue_30_amount,\n",
    "                sum(if(a.`status` in ('CURRENT','OVERDUE','GRACE_PERIOD') and datediff(date(now()+INTERVAL '7' hour),date(b.due_date+INTERVAL '7' hour))>=31 and datediff(date(now()+INTERVAL '7' hour),date(b.due_date+INTERVAL '7' hour))<=60,(coalesce(b.principal_accr,0) + coalesce(b.interest_accr,0) + coalesce(b.default_accr,0) + coalesce(b.default_fee_accr,0) + coalesce(b.service_fee_accr,0)) -\n",
    "                (coalesce(b.principal_paid,0) + coalesce(b.interest_paid,0) + coalesce(b.default_paid,0) + coalesce(b.default_fee_paid,0) + coalesce(b.service_fee_paid,0)),0)) as overdue_60_amount,\n",
    "                sum(if(a.`status` in ('CURRENT','OVERDUE','GRACE_PERIOD') and datediff(date(now()+INTERVAL '7' hour),date(b.due_date+INTERVAL '7' hour))>=61 and datediff(date(now()+INTERVAL '7' hour),date(b.due_date+INTERVAL '7' hour))<=90,(coalesce(b.principal_accr,0) + coalesce(b.interest_accr,0) + coalesce(b.default_accr,0) + coalesce(b.default_fee_accr,0) + coalesce(b.service_fee_accr,0)) -\n",
    "                (coalesce(b.principal_paid,0) + coalesce(b.interest_paid,0) + coalesce(b.default_paid,0) + coalesce(b.default_fee_paid,0) + coalesce(b.service_fee_paid,0)),0)) as overdue_90_amount,\n",
    "                sum(if(a.`status` in ('CURRENT','OVERDUE','GRACE_PERIOD') and datediff(date(now()+INTERVAL '7' hour),date(b.due_date+INTERVAL '7' hour))>=91,(coalesce(b.principal_accr,0) + coalesce(b.interest_accr,0) + coalesce(b.default_accr,0) + coalesce(b.default_fee_accr,0) + coalesce(b.service_fee_accr,0)) -\n",
    "                (coalesce(b.principal_paid,0) + coalesce(b.interest_paid,0) + coalesce(b.default_paid,0) + coalesce(b.default_fee_paid,0) + coalesce(b.service_fee_paid,0)),0)) as overdue_more_than_90_amount,'total_new' as mark\n",
    "\n",
    "                from  t_loan_app_not_in  a\n",
    "                left  join `banda-etl-s3`.`t_lpay` b\n",
    "                on a.`id` = b.`loan_app_id`\n",
    "\n",
    "                union all\n",
    "\n",
    "                select date(now()+interval '7' hour-interval '1' day) as date,\n",
    "                sum(if(a.loan_type !='ROLLOVER',a.amount,0)) as total_issue_amount,\n",
    "\n",
    "                sum(coalesce(b.principal_paid,0)) as total_paid_off_principle,\n",
    "                sum(b.principal_paid) as kkk,\n",
    "\n",
    "                sum(if(a.loan_type !='ROLLOVER',a.amount,0))-sum(coalesce(b.principal_paid,0)) as loan_balance,\n",
    "\n",
    "                sum(if(a.`status` in ('CURRENT','OVERDUE','GRACE_PERIOD') and datediff(date(now()+INTERVAL '7' hour),date(b.due_date+INTERVAL '7' hour)) <=0,(coalesce(b.principal_accr,0)) -(coalesce(b.principal_paid,0) ),0)) as total_current_principle,\n",
    "\n",
    "                sum(if(a.`status` in ('CURRENT','OVERDUE','GRACE_PERIOD') and datediff(date(now()+INTERVAL '7' hour),date(b.due_date+INTERVAL '7' hour))>=1 and datediff(date(now()+INTERVAL '7' hour),date(b.due_date+INTERVAL '7' hour))<=3,\n",
    "\n",
    "                (coalesce(b.principal_accr,0)) -(coalesce(b.principal_paid,0)),0)) as overdue_3_principle,\n",
    "\n",
    "                sum(if(a.`status` in ('CURRENT','OVERDUE','GRACE_PERIOD') and datediff(date(now()+INTERVAL '7' hour),date(b.due_date+INTERVAL '7' hour))>=4 and datediff(date(now()+INTERVAL '7' hour),date(b.due_date+INTERVAL '7' hour))<=10,\n",
    "                (coalesce(b.principal_accr,0) ) -(coalesce(b.principal_paid,0) ),0)) as overdue_10_principle,\n",
    "\n",
    "                sum(if(a.`status` in ('CURRENT','OVERDUE','GRACE_PERIOD') and datediff(date(now()+INTERVAL '7' hour),date(b.due_date+INTERVAL '7' hour))>=11 and datediff(date(now()+INTERVAL '7' hour),date(b.due_date+INTERVAL '7' hour))<=30,\n",
    "                (coalesce(b.principal_accr,0) ) -(coalesce(b.principal_paid,0) ),0)) as overdue_30_principle,\n",
    "                sum(if(a.`status` in ('CURRENT','OVERDUE','GRACE_PERIOD') and datediff(date(now()+INTERVAL '7' hour),date(b.due_date+INTERVAL '7' hour))>=31 and datediff(date(now()+INTERVAL '7' hour),date(b.due_date+INTERVAL '7' hour))<=60,\n",
    "                (coalesce(b.principal_accr,0) ) -(coalesce(b.principal_paid,0) ),0)) as overdue_60_principle,\n",
    "                sum(if(a.`status` in ('CURRENT','OVERDUE','GRACE_PERIOD') and datediff(date(now()+INTERVAL '7' hour),date(b.due_date+INTERVAL '7' hour))>=61 and datediff(date(now()+INTERVAL '7' hour),date(b.due_date+INTERVAL '7' hour))<=90,\n",
    "                (coalesce(b.principal_accr,0) ) -(coalesce(b.principal_paid,0) ),0)) as overdue_90_principle,\n",
    "                sum(if(a.`status` in ('CURRENT','OVERDUE','GRACE_PERIOD') and datediff(date(now()+INTERVAL '7' hour),date(b.due_date+INTERVAL '7' hour))>=91,\n",
    "                (coalesce(b.principal_accr,0) ) -(coalesce(b.principal_paid,0) ),0)) as overdue_more_than_90_principle,\n",
    "\n",
    "                sum(coalesce(b.principal_paid,0) + coalesce(b.interest_paid,0) + b.rollover_fee_paid + coalesce(b.default_paid,0) + coalesce(b.default_fee_paid,0) + coalesce(b.service_fee_paid,0)-b.erase_amount-b.coupon_amount) as total_paid_off_amount,\n",
    "\n",
    "                sum(if(a.`status` in ('CURRENT','OVERDUE','GRACE_PERIOD'),(coalesce(b.principal_accr,0) + coalesce(b.interest_accr,0) + coalesce(b.default_accr,0) + coalesce(b.default_fee_accr,0) + coalesce(b.service_fee_accr,0)) -\n",
    "                (coalesce(b.principal_paid,0) + coalesce(b.interest_paid,0) + coalesce(b.default_paid,0) + coalesce(b.default_fee_paid,0) + coalesce(b.service_fee_paid,0)),0)) as total_outstanding_amount,\n",
    "\n",
    "                sum(if(a.`status` in ('CURRENT','OVERDUE','GRACE_PERIOD') and datediff(date(now()+INTERVAL '7' hour),date(b.due_date+INTERVAL '7' hour)) <=0,(coalesce(b.principal_accr,0) + coalesce(b.interest_accr,0) + coalesce(b.default_accr,0) + coalesce(b.default_fee_accr,0) + coalesce(b.service_fee_accr,0)) -\n",
    "                (coalesce(b.principal_paid,0) + coalesce(b.interest_paid,0) + coalesce(b.default_paid,0) + coalesce(b.default_fee_paid,0) + coalesce(b.service_fee_paid,0)),0)) as total_current_amount,\n",
    "                sum(if(a.`status` in ('CURRENT','OVERDUE','GRACE_PERIOD') and datediff(date(now()+INTERVAL '7' hour),date(b.due_date+INTERVAL '7' hour))>=1 and datediff(date(now()+INTERVAL '7' hour),date(b.due_date+INTERVAL '7' hour))<=3,(coalesce(b.principal_accr,0) + coalesce(b.interest_accr,0) + coalesce(b.default_accr,0) + coalesce(b.default_fee_accr,0) + coalesce(b.service_fee_accr,0)) -\n",
    "                (coalesce(b.principal_paid,0) + coalesce(b.interest_paid,0) + coalesce(b.default_paid,0) + coalesce(b.default_fee_paid,0) + coalesce(b.service_fee_paid,0)),0)) as overdue_3_amount,\n",
    "\n",
    "                sum(if(a.`status` in ('CURRENT','OVERDUE','GRACE_PERIOD') and datediff(date(now()+INTERVAL '7' hour),date(b.due_date+INTERVAL '7' hour))>=4 and datediff(date(now()+INTERVAL '7' hour),date(b.due_date+INTERVAL '7' hour))<=10,(coalesce(b.principal_accr,0) + coalesce(b.interest_accr,0) + coalesce(b.default_accr,0) + coalesce(b.default_fee_accr,0) + coalesce(b.service_fee_accr,0)) -\n",
    "                (coalesce(b.principal_paid,0) + coalesce(b.interest_paid,0) + coalesce(b.default_paid,0) + coalesce(b.default_fee_paid,0) + coalesce(b.service_fee_paid,0)),0)) as overdue_10_amount,\n",
    "\n",
    "                sum(if(a.`status` in ('CURRENT','OVERDUE','GRACE_PERIOD') and datediff(date(now()+INTERVAL '7' hour),date(b.due_date+INTERVAL '7' hour))>=11 and datediff(date(now()+INTERVAL '7' hour),date(b.due_date+INTERVAL '7' hour))<=30,(coalesce(b.principal_accr,0) + coalesce(b.interest_accr,0) + coalesce(b.default_accr,0) + coalesce(b.default_fee_accr,0) + coalesce(b.service_fee_accr,0)) -\n",
    "                (coalesce(b.principal_paid,0) + coalesce(b.interest_paid,0) + coalesce(b.default_paid,0) + coalesce(b.default_fee_paid,0) + coalesce(b.service_fee_paid,0)),0)) as overdue_30_amount,\n",
    "                sum(if(a.`status` in ('CURRENT','OVERDUE','GRACE_PERIOD') and datediff(date(now()+INTERVAL '7' hour),date(b.due_date+INTERVAL '7' hour))>=31 and datediff(date(now()+INTERVAL '7' hour),date(b.due_date+INTERVAL '7' hour))<=60,(coalesce(b.principal_accr,0) + coalesce(b.interest_accr,0) + coalesce(b.default_accr,0) + coalesce(b.default_fee_accr,0) + coalesce(b.service_fee_accr,0)) -\n",
    "                (coalesce(b.principal_paid,0) + coalesce(b.interest_paid,0) + coalesce(b.default_paid,0) + coalesce(b.default_fee_paid,0) + coalesce(b.service_fee_paid,0)),0)) as overdue_60_amount,\n",
    "                sum(if(a.`status` in ('CURRENT','OVERDUE','GRACE_PERIOD') and datediff(date(now()+INTERVAL '7' hour),date(b.due_date+INTERVAL '7' hour))>=61 and datediff(date(now()+INTERVAL '7' hour),date(b.due_date+INTERVAL '7' hour))<=90,(coalesce(b.principal_accr,0) + coalesce(b.interest_accr,0) + coalesce(b.default_accr,0) + coalesce(b.default_fee_accr,0) + coalesce(b.service_fee_accr,0)) -\n",
    "                (coalesce(b.principal_paid,0) + coalesce(b.interest_paid,0) + coalesce(b.default_paid,0) + coalesce(b.default_fee_paid,0) + coalesce(b.service_fee_paid,0)),0)) as overdue_90_amount,\n",
    "                sum(if(a.`status` in ('CURRENT','OVERDUE','GRACE_PERIOD') and datediff(date(now()+INTERVAL '7' hour),date(b.due_date+INTERVAL '7' hour))>=91,(coalesce(b.principal_accr,0) + coalesce(b.interest_accr,0) + coalesce(b.default_accr,0) + coalesce(b.default_fee_accr,0) + coalesce(b.service_fee_accr,0)) -\n",
    "                (coalesce(b.principal_paid,0) + coalesce(b.interest_paid,0) + coalesce(b.default_paid,0) + coalesce(b.default_fee_paid,0) + coalesce(b.service_fee_paid,0)),0)) as overdue_more_than_90_amount,'transfer' as mark\n",
    "\n",
    "                from `banda-etl-s3`.`t_loan_app` a\n",
    "                left  join `banda-etl-s3`.`t_lpay` b\n",
    "                on a.`id` = b.`loan_app_id`\n",
    "                where a.`status` in ('CURRENT','PAID_OFF','OVERDUE','GRACE_PERIOD') and a.product_name='RUPIAHONE' and a.`create_time` + interval '7' hour >= date '2019-08-26' \n",
    "                and a.customer_id not in (select customer_id from `banda-etl-s3`.t_test_customer)\n",
    "                and a.id  in \n",
    "                (\n",
    "                select rel.loan_id\n",
    "                from `banda-etl-s3`.t_loan_tag_rel rel \n",
    "                where rel.tag_id in (select id from `banda-etl-s3`.t_tag where type='SELLING_CASE' ) and  rel.status='UNACTIVE'\n",
    "                )\n",
    "\n",
    "\n",
    "\n",
    "\n",
    "    \"\"\")\n",
    "    df1.repartition(1).write.mode(\"append\").orc(\"s3://rupiahplus-data-warehouse/etl/banda/market/loan_balance_summary1\")\n"
   ]
  },
  {
   "cell_type": "code",
   "execution_count": 10,
   "metadata": {},
   "outputs": [
    {
     "data": {
      "application/vnd.jupyter.widget-view+json": {
       "model_id": "eebae8cca12f4a988e9d8ed594bc9161",
       "version_major": 2,
       "version_minor": 0
      },
      "text/plain": [
       "VBox()"
      ]
     },
     "metadata": {},
     "output_type": "display_data"
    },
    {
     "data": {
      "application/vnd.jupyter.widget-view+json": {
       "model_id": "",
       "version_major": 2,
       "version_minor": 0
      },
      "text/plain": [
       "FloatProgress(value=0.0, bar_style='info', description='Progress:', layout=Layout(height='25px', width='50%'),…"
      ]
     },
     "metadata": {},
     "output_type": "display_data"
    }
   ],
   "source": [
    "spark.conf.set(\"spark.sql.adaptive.enabled\", \"false\");\n",
    "spark.sql(\"\"\"\n",
    "           with t_loan_app_not_in as(\n",
    "        select a.* from `banda-etl-s3`.`t_loan_app` a \n",
    "            left join  \n",
    "               (select rel.id, rel.status,rel.loan_id,tag.id as tagid from `banda-etl-s3`.t_loan_tag_rel rel \n",
    "            left join `banda-etl-s3`.t_tag tag\n",
    "               on rel.tag_id=tag.id \n",
    "               and tag.type='SELLING_CASE'\n",
    "               where tag.id is not null ) as tmp \n",
    "               on a.id =tmp.loan_id\n",
    "               and  tmp.status='UNACTIVE'\n",
    "            where tmp.loan_id is null \n",
    "            and  a.`status` in ('CURRENT','PAID_OFF','OVERDUE','GRACE_PERIOD') and a.product_name='RUPIAHONE' and a.`create_time` + interval '7' hour >= date '2019-08-26' \n",
    "            and a.customer_id not in (select customer_id from `banda-etl-s3`.t_test_customer)\n",
    "            order by a.id desc \n",
    "                )\n",
    "\n",
    "            select date(date_format('2021-08-08 06:59:59','yyyy-MM-dd HH:mm:ss.SSS')+interval '7' hour-interval '1' day) as date,\n",
    "            sum(if(a.loan_type !='ROLLOVER',a.amount,0)) as total_issue_amount,\n",
    "\n",
    "            sum(coalesce(b.principal_paid,0)) as total_paid_off_principle,\n",
    "\n",
    "            sum(if(a.loan_type !='ROLLOVER',a.amount,0))-sum(coalesce(b.principal_paid,0)) as loan_balance,\n",
    "\n",
    "            sum(if(a.`status` in ('CURRENT','OVERDUE','GRACE_PERIOD') and datediff(date(date_format('2021-08-08 06:59:59','yyyy-MM-dd HH:mm:ss.SSS')+INTERVAL '7' hour),date(b.due_date+INTERVAL '7' hour)) <=0,(coalesce(b.principal_accr,0)) -(coalesce(b.principal_paid,0) ),0)) as total_current_principle,\n",
    "\n",
    "            sum(if(a.`status` in ('CURRENT','OVERDUE','GRACE_PERIOD') and datediff(date(date_format('2021-08-08 06:59:59','yyyy-MM-dd HH:mm:ss.SSS')+INTERVAL '7' hour),date(b.due_date+INTERVAL '7' hour))>=1 and datediff(date(date_format('2021-08-08 06:59:59','yyyy-MM-dd HH:mm:ss.SSS')+INTERVAL '7' hour),date(b.due_date+INTERVAL '7' hour))<=3,\n",
    "\n",
    "            (coalesce(b.principal_accr,0)) -(coalesce(b.principal_paid,0)),0)) as overdue_3_principle,\n",
    "\n",
    "            sum(if(a.`status` in ('CURRENT','OVERDUE','GRACE_PERIOD') and datediff(date(date_format('2021-08-08 06:59:59','yyyy-MM-dd HH:mm:ss.SSS')+INTERVAL '7' hour),date(b.due_date+INTERVAL '7' hour))>=4 and datediff(date(date_format('2021-08-08 06:59:59','yyyy-MM-dd HH:mm:ss.SSS')+INTERVAL '7' hour),date(b.due_date+INTERVAL '7' hour))<=10,\n",
    "            (coalesce(b.principal_accr,0) ) -(coalesce(b.principal_paid,0) ),0)) as overdue_10_principle,\n",
    "\n",
    "            sum(if(a.`status` in ('CURRENT','OVERDUE','GRACE_PERIOD') and datediff(date(date_format('2021-08-08 06:59:59','yyyy-MM-dd HH:mm:ss.SSS')+INTERVAL '7' hour),date(b.due_date+INTERVAL '7' hour))>=11 and datediff(date(date_format('2021-08-08 06:59:59','yyyy-MM-dd HH:mm:ss.SSS')+INTERVAL '7' hour),date(b.due_date+INTERVAL '7' hour))<=30,\n",
    "            (coalesce(b.principal_accr,0) ) -(coalesce(b.principal_paid,0) ),0)) as overdue_30_principle,\n",
    "            sum(if(a.`status` in ('CURRENT','OVERDUE','GRACE_PERIOD') and datediff(date(date_format('2021-08-08 06:59:59','yyyy-MM-dd HH:mm:ss.SSS')+INTERVAL '7' hour),date(b.due_date+INTERVAL '7' hour))>=31 and datediff(date(date_format('2021-08-08 06:59:59','yyyy-MM-dd HH:mm:ss.SSS')+INTERVAL '7' hour),date(b.due_date+INTERVAL '7' hour))<=60,\n",
    "            (coalesce(b.principal_accr,0) ) -(coalesce(b.principal_paid,0) ),0)) as overdue_60_principle,\n",
    "            sum(if(a.`status` in ('CURRENT','OVERDUE','GRACE_PERIOD') and datediff(date(date_format('2021-08-08 06:59:59','yyyy-MM-dd HH:mm:ss.SSS')+INTERVAL '7' hour),date(b.due_date+INTERVAL '7' hour))>=61 and datediff(date(date_format('2021-08-08 06:59:59','yyyy-MM-dd HH:mm:ss.SSS')+INTERVAL '7' hour),date(b.due_date+INTERVAL '7' hour))<=90,\n",
    "            (coalesce(b.principal_accr,0) ) -(coalesce(b.principal_paid,0) ),0)) as overdue_90_principle,\n",
    "            sum(if(a.`status` in ('CURRENT','OVERDUE','GRACE_PERIOD') and datediff(date(date_format('2021-08-08 06:59:59','yyyy-MM-dd HH:mm:ss.SSS')+INTERVAL '7' hour),date(b.due_date+INTERVAL '7' hour))>=91,\n",
    "            (coalesce(b.principal_accr,0) ) -(coalesce(b.principal_paid,0) ),0)) as overdue_more_than_90_principle,\n",
    "\n",
    "            sum(coalesce(b.principal_paid,0) + coalesce(b.interest_paid,0) + b.rollover_fee_paid + coalesce(b.default_paid,0) + coalesce(b.default_fee_paid,0) + coalesce(b.service_fee_paid,0)-b.erase_amount-b.coupon_amount) as total_paid_off_amount,\n",
    "\n",
    "            sum(if(a.`status` in ('CURRENT','OVERDUE','GRACE_PERIOD'),(coalesce(b.principal_accr,0) + coalesce(b.interest_accr,0) + coalesce(b.default_accr,0) + coalesce(b.default_fee_accr,0) + coalesce(b.service_fee_accr,0)) -\n",
    "            (coalesce(b.principal_paid,0) + coalesce(b.interest_paid,0) + coalesce(b.default_paid,0) + coalesce(b.default_fee_paid,0) + coalesce(b.service_fee_paid,0)),0)) as total_outstanding_amount,\n",
    "\n",
    "            sum(if(a.`status` in ('CURRENT','OVERDUE','GRACE_PERIOD') and datediff(date(date_format('2021-08-08 06:59:59','yyyy-MM-dd HH:mm:ss.SSS')+INTERVAL '7' hour),date(b.due_date+INTERVAL '7' hour)) <=0,(coalesce(b.principal_accr,0) + coalesce(b.interest_accr,0) + coalesce(b.default_accr,0) + coalesce(b.default_fee_accr,0) + coalesce(b.service_fee_accr,0)) -\n",
    "            (coalesce(b.principal_paid,0) + coalesce(b.interest_paid,0) + coalesce(b.default_paid,0) + coalesce(b.default_fee_paid,0) + coalesce(b.service_fee_paid,0)),0)) as total_current_amount,\n",
    "            sum(if(a.`status` in ('CURRENT','OVERDUE','GRACE_PERIOD') and datediff(date(date_format('2021-08-08 06:59:59','yyyy-MM-dd HH:mm:ss.SSS')+INTERVAL '7' hour),date(b.due_date+INTERVAL '7' hour))>=1 and datediff(date(date_format('2021-08-08 06:59:59','yyyy-MM-dd HH:mm:ss.SSS')+INTERVAL '7' hour),date(b.due_date+INTERVAL '7' hour))<=3,(coalesce(b.principal_accr,0) + coalesce(b.interest_accr,0) + coalesce(b.default_accr,0) + coalesce(b.default_fee_accr,0) + coalesce(b.service_fee_accr,0)) -\n",
    "            (coalesce(b.principal_paid,0) + coalesce(b.interest_paid,0) + coalesce(b.default_paid,0) + coalesce(b.default_fee_paid,0) + coalesce(b.service_fee_paid,0)),0)) as overdue_3_amount,\n",
    "\n",
    "            sum(if(a.`status` in ('CURRENT','OVERDUE','GRACE_PERIOD') and datediff(date(date_format('2021-08-08 06:59:59','yyyy-MM-dd HH:mm:ss.SSS')+INTERVAL '7' hour),date(b.due_date+INTERVAL '7' hour))>=4 and datediff(date(date_format('2021-08-08 06:59:59','yyyy-MM-dd HH:mm:ss.SSS')+INTERVAL '7' hour),date(b.due_date+INTERVAL '7' hour))<=10,(coalesce(b.principal_accr,0) + coalesce(b.interest_accr,0) + coalesce(b.default_accr,0) + coalesce(b.default_fee_accr,0) + coalesce(b.service_fee_accr,0)) -\n",
    "            (coalesce(b.principal_paid,0) + coalesce(b.interest_paid,0) + coalesce(b.default_paid,0) + coalesce(b.default_fee_paid,0) + coalesce(b.service_fee_paid,0)),0)) as overdue_10_amount,\n",
    "\n",
    "            sum(if(a.`status` in ('CURRENT','OVERDUE','GRACE_PERIOD') and datediff(date(date_format('2021-08-08 06:59:59','yyyy-MM-dd HH:mm:ss.SSS')+INTERVAL '7' hour),date(b.due_date+INTERVAL '7' hour))>=11 and datediff(date(date_format('2021-08-08 06:59:59','yyyy-MM-dd HH:mm:ss.SSS')+INTERVAL '7' hour),date(b.due_date+INTERVAL '7' hour))<=30,(coalesce(b.principal_accr,0) + coalesce(b.interest_accr,0) + coalesce(b.default_accr,0) + coalesce(b.default_fee_accr,0) + coalesce(b.service_fee_accr,0)) -\n",
    "            (coalesce(b.principal_paid,0) + coalesce(b.interest_paid,0) + coalesce(b.default_paid,0) + coalesce(b.default_fee_paid,0) + coalesce(b.service_fee_paid,0)),0)) as overdue_30_amount,\n",
    "            sum(if(a.`status` in ('CURRENT','OVERDUE','GRACE_PERIOD') and datediff(date(date_format('2021-08-08 06:59:59','yyyy-MM-dd HH:mm:ss.SSS')+INTERVAL '7' hour),date(b.due_date+INTERVAL '7' hour))>=31 and datediff(date(date_format('2021-08-08 06:59:59','yyyy-MM-dd HH:mm:ss.SSS')+INTERVAL '7' hour),date(b.due_date+INTERVAL '7' hour))<=60,(coalesce(b.principal_accr,0) + coalesce(b.interest_accr,0) + coalesce(b.default_accr,0) + coalesce(b.default_fee_accr,0) + coalesce(b.service_fee_accr,0)) -\n",
    "            (coalesce(b.principal_paid,0) + coalesce(b.interest_paid,0) + coalesce(b.default_paid,0) + coalesce(b.default_fee_paid,0) + coalesce(b.service_fee_paid,0)),0)) as overdue_60_amount,\n",
    "            sum(if(a.`status` in ('CURRENT','OVERDUE','GRACE_PERIOD') and datediff(date(date_format('2021-08-08 06:59:59','yyyy-MM-dd HH:mm:ss.SSS')+INTERVAL '7' hour),date(b.due_date+INTERVAL '7' hour))>=61 and datediff(date(date_format('2021-08-08 06:59:59','yyyy-MM-dd HH:mm:ss.SSS')+INTERVAL '7' hour),date(b.due_date+INTERVAL '7' hour))<=90,(coalesce(b.principal_accr,0) + coalesce(b.interest_accr,0) + coalesce(b.default_accr,0) + coalesce(b.default_fee_accr,0) + coalesce(b.service_fee_accr,0)) -\n",
    "            (coalesce(b.principal_paid,0) + coalesce(b.interest_paid,0) + coalesce(b.default_paid,0) + coalesce(b.default_fee_paid,0) + coalesce(b.service_fee_paid,0)),0)) as overdue_90_amount,\n",
    "            sum(if(a.`status` in ('CURRENT','OVERDUE','GRACE_PERIOD') and datediff(date(date_format('2021-08-08 06:59:59','yyyy-MM-dd HH:mm:ss.SSS')+INTERVAL '7' hour),date(b.due_date+INTERVAL '7' hour))>=91,(coalesce(b.principal_accr,0) + coalesce(b.interest_accr,0) + coalesce(b.default_accr,0) + coalesce(b.default_fee_accr,0) + coalesce(b.service_fee_accr,0)) -\n",
    "            (coalesce(b.principal_paid,0) + coalesce(b.interest_paid,0) + coalesce(b.default_paid,0) + coalesce(b.default_fee_paid,0) + coalesce(b.service_fee_paid,0)),0)) as overdue_more_than_90_amount,'transfer' as mark\n",
    "\n",
    "            from `banda-etl-s3`.`t_loan_app` a\n",
    "            left  join `banda-etl-s3`.`t_lpay` b\n",
    "            on a.`id` = b.`loan_app_id`\n",
    "            where a.`status` in ('CURRENT','PAID_OFF','OVERDUE','GRACE_PERIOD') and a.product_name='RUPIAHONE' and a.`create_time` + interval '7' hour >= date '2019-08-26' \n",
    "            and a.customer_id not in (select customer_id from `banda-etl-s3`.t_test_customer)\n",
    "            and a.id  in \n",
    "            (\n",
    "            select rel.loan_id\n",
    "            from `banda-etl-s3`.t_loan_tag_rel rel \n",
    "            where rel.tag_id in (select id from `banda-etl-s3`.t_tag where type='SELLING_CASE' ) and  rel.status='ACTIVE'\n",
    "            )\n",
    "\"\"\").repartition(1).write.mode(\"append\").orc(\"s3://rupiahplus-data-warehouse/etl/banda/market/loan_balance_summary2\")"
   ]
  },
  {
   "cell_type": "code",
   "execution_count": 4,
   "metadata": {},
   "outputs": [
    {
     "data": {
      "application/vnd.jupyter.widget-view+json": {
       "model_id": "3913898ed9a44a609f851132211c0f48",
       "version_major": 2,
       "version_minor": 0
      },
      "text/plain": [
       "VBox()"
      ]
     },
     "metadata": {},
     "output_type": "display_data"
    },
    {
     "data": {
      "application/vnd.jupyter.widget-view+json": {
       "model_id": "",
       "version_major": 2,
       "version_minor": 0
      },
      "text/plain": [
       "FloatProgress(value=0.0, bar_style='info', description='Progress:', layout=Layout(height='25px', width='50%'),…"
      ]
     },
     "metadata": {},
     "output_type": "display_data"
    },
    {
     "name": "stdout",
     "output_type": "stream",
     "text": [
      "+----------+\n",
      "|      date|\n",
      "+----------+\n",
      "|2021-08-04|\n",
      "+----------+"
     ]
    }
   ],
   "source": [
    "spark.sql(\"\"\"   \n",
    "   select date(date_format('2021-08-05 06:59:59','yyyy-MM-dd HH:mm:ss.SSS')+interval '7' hour-interval '1' day) as date\n",
    "\"\"\").show()\n"
   ]
  },
  {
   "cell_type": "code",
   "execution_count": null,
   "metadata": {},
   "outputs": [],
   "source": []
  }
 ],
 "metadata": {
  "kernelspec": {
   "display_name": "PySpark",
   "language": "",
   "name": "pysparkkernel"
  },
  "language_info": {
   "codemirror_mode": {
    "name": "python",
    "version": 2
   },
   "mimetype": "text/x-python",
   "name": "pyspark",
   "pygments_lexer": "python2"
  }
 },
 "nbformat": 4,
 "nbformat_minor": 4
}
