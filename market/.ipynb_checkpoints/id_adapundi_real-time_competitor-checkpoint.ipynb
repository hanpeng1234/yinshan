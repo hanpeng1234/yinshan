{
 "cells": [
  {
   "cell_type": "code",
   "execution_count": 1,
   "metadata": {},
   "outputs": [
    {
     "data": {
      "application/vnd.jupyter.widget-view+json": {
       "model_id": "e0c8e33ff0444c3ab1259c2a4a53b925",
       "version_major": 2,
       "version_minor": 0
      },
      "text/plain": [
       "VBox()"
      ]
     },
     "metadata": {},
     "output_type": "display_data"
    },
    {
     "name": "stdout",
     "output_type": "stream",
     "text": [
      "Starting Spark application\n"
     ]
    },
    {
     "data": {
      "text/html": [
       "<table>\n",
       "<tr><th>ID</th><th>YARN Application ID</th><th>Kind</th><th>State</th><th>Spark UI</th><th>Driver log</th><th>Current session?</th></tr><tr><td>0</td><td>application_1611310116108_0001</td><td>pyspark</td><td>idle</td><td><a target=\"_blank\" href=\"http://ip-10-3-0-54.ap-southeast-1.compute.internal:20888/proxy/application_1611310116108_0001/\">Link</a></td><td><a target=\"_blank\" href=\"http://ip-10-3-0-73.ap-southeast-1.compute.internal:8042/node/containerlogs/container_1611310116108_0001_01_000001/livy\">Link</a></td><td>✔</td></tr></table>"
      ],
      "text/plain": [
       "<IPython.core.display.HTML object>"
      ]
     },
     "metadata": {},
     "output_type": "display_data"
    },
    {
     "data": {
      "application/vnd.jupyter.widget-view+json": {
       "model_id": "",
       "version_major": 2,
       "version_minor": 0
      },
      "text/plain": [
       "FloatProgress(value=0.0, bar_style='info', description='Progress:', layout=Layout(height='25px', width='50%'),…"
      ]
     },
     "metadata": {},
     "output_type": "display_data"
    },
    {
     "name": "stdout",
     "output_type": "stream",
     "text": [
      "SparkSession available as 'spark'.\n"
     ]
    },
    {
     "data": {
      "application/vnd.jupyter.widget-view+json": {
       "model_id": "8085c0e50f1540c09745aabe65e6a448",
       "version_major": 2,
       "version_minor": 0
      },
      "text/plain": [
       "FloatProgress(value=0.0, bar_style='info', description='Progress:', layout=Layout(height='25px', width='50%'),…"
      ]
     },
     "metadata": {},
     "output_type": "display_data"
    },
    {
     "name": "stderr",
     "output_type": "stream",
     "text": [
      "An error was encountered:\n",
      "Invalid status code '400' from https://10.3.0.54:18888/sessions/0/statements/1 with error payload: {\"msg\":\"requirement failed: Session isn't active.\"}\n"
     ]
    }
   ],
   "source": [
    "# from __future__ import print_function\n",
    "\n",
    "import sys\n",
    "\n",
    "import numpy as np\n",
    "from pyspark.sql import SparkSession\n",
    "from datetime import datetime, timedelta\n",
    "import pyspark.sql.functions as F\n",
    "\n",
    "import pytz\n",
    "# print(__name__)builtins\n",
    "if __name__ == \"__main__\":\n",
    "    spark = SparkSession \\\n",
    "        .builder \\\n",
    "        .appName(\"Python Demo\") \\\n",
    "        .config(\"hive.metastore.client.factory.class\",\n",
    "                \"com.amazonaws.glue.catalog.metastore.AWSGlueDataCatalogHiveClientFactory\") \\\n",
    "        .config(\"spark.driver.maxResultSize\", \"4g\") \\\n",
    "        .enableHiveSupport() \\\n",
    "        .getOrCreate()\n",
    "    spark.conf.set(\"hive.exec.dynamic.partition.mode\", \"nonstrict\");\n",
    "    spark.conf.set(\"spark.sql.sources.partitionOverwriteMode\", \"dynamic\")\n",
    "    databases = spark.sql(\"show databases\")\n",
    "    databases = databases.collect()\n",
    "    df1=spark.sql(\"\"\"\n",
    "       with \n",
    "            customer_mark as\n",
    "            (\n",
    "              select aa.customer_id,\n",
    "              case when  app.status in ('AUTHORIZATION','BIND_CARD','ISSUING','READY_TO_ISSUE','CURRENT' ,'PAID_OFF') and app.status = 'CURRENT' then 'old_current'\n",
    "              when  app.status in ('AUTHORIZATION','BIND_CARD','ISSUING','READY_TO_ISSUE','CURRENT' ,'PAID_OFF') and app.status not in( 'PAID_OFF','CURRENT') and date(app.create_time + interval '7' hour + interval '7' day) >= date(now() + interval '7' hour) then 'old_active'\n",
    "              when  app.status in ('AUTHORIZATION','BIND_CARD','ISSUING','READY_TO_ISSUE','CURRENT' ,'PAID_OFF') and app.status not in( 'PAID_OFF','CURRENT') and date(app.create_time + interval '7' hour + interval '30' day) >= date(now() + interval '7' hour) then 'old_silence'\n",
    "              when  app.status in ('AUTHORIZATION','BIND_CARD','ISSUING','READY_TO_ISSUE','CURRENT' ,'PAID_OFF') and app.status not in( 'PAID_OFF','CURRENT') then 'old_loss'\n",
    "              when app.status in ('AUTHORIZATION','BIND_CARD','ISSUING','READY_TO_ISSUE','CURRENT' ,'PAID_OFF') and  app.status = 'PAID_OFF' then 'old_loss' else 'old_other' end as mark\n",
    "              from \n",
    "              (\n",
    "                select customer_id,max(id) as last_loan_id\n",
    "                from `banda-etl-s3`.`t_loan_app`\n",
    "                where customer_id in (select customer_id from `banda-etl-s3`.`t_loan_app` where loan_type = 'RE_PAYDAY' )\n",
    "                group by customer_id\n",
    "              )aa\n",
    "              left join `banda-etl-s3`.`t_loan_app` app\n",
    "              on aa.last_loan_id = app.id\n",
    "\n",
    "              union all\n",
    "\n",
    "\n",
    "              select aa.customer_id,\n",
    "              case when app.status in ('AUTHORIZATION','BIND_CARD','ISSUING','READY_TO_ISSUE') then 'new_authorization' else 'new_other' end as mark\n",
    "              from \n",
    "              (\n",
    "                select customer_id,max(id) as last_loan_id\n",
    "                from `banda-etl-s3`.`t_loan_app`\n",
    "                where customer_id not in (select customer_id from `banda-etl-s3`.`t_loan_app` where loan_type = 'RE_PAYDAY' )\n",
    "                group by customer_id\n",
    "              )aa\n",
    "              left join `banda-etl-s3`.`t_loan_app` app\n",
    "              on aa.last_loan_id = app.id\n",
    "\n",
    "              union all\n",
    "\n",
    "              select id as customer_id,'new_not_apply' as mark\n",
    "              from `banda-etl-s3`.`t_customer`\n",
    "              where id not in (select customer_id from `banda-etl-s3`.`t_loan_app`)\n",
    "            ),\n",
    "            track as\n",
    "            (\n",
    "              select partition_0,partition_1,partition_2,user_uuid,applist,count(*)\n",
    "              from `ddb_event_track_s3`.`id_adapundi_event_track`\n",
    "              where concat(partition_0,'-',partition_1,'-',partition_2) >= '2020-09-01'\n",
    "              group by partition_0,partition_1,partition_2,user_uuid,applist\n",
    "\n",
    "\n",
    "            ),\n",
    "\n",
    "            total_log as\n",
    "            (\n",
    "              select user_uuid,count(*) as count\n",
    "              from track\n",
    "              group by user_uuid\n",
    "            ),\n",
    "            competitor as\n",
    "            (\n",
    "              select user_uuid,count(*) as count\n",
    "              from track\n",
    "              where applist like '%AdaKami%' or \n",
    "              applist like '%Easycash%' or \n",
    "              applist like '%Kredit_Pintar%' or \n",
    "              applist like '%Kta Kilat%' or \n",
    "              applist like '%UangMe%' or \n",
    "              applist like '%360Kredi%' or \n",
    "              applist like '%Rupiah Cepat%' or \n",
    "              applist like '%UKU%' or \n",
    "              applist like '%Cairin%' or \n",
    "              applist like '%Indodana%' or \n",
    "              applist like '%Kredito%' or \n",
    "              applist like '%FinPlus%' or \n",
    "              applist like '%Pinjam Yuk%' or \n",
    "              applist like '%Solusikita%' or \n",
    "              applist like '%DanaRupiah%' or \n",
    "              applist like '%Tunaikita%' or \n",
    "              applist like '%Cashwagon%' \n",
    "              group by user_uuid\n",
    "\n",
    "            )\n",
    "\n",
    "            select date(now()) as `日期`,'全量' as `统计纬度`,\n",
    "            count(mark.customer_id) as `新户`,\n",
    "            count(if(mark.mark = 'new_not_apply',mark.customer_id,null)) as `新户-注册未申请`,\n",
    "            count(if(mark.mark = 'new_authorization',mark.customer_id,null)) as `新户-获额未交易`,\n",
    "            count(if(mark.mark = 'new_other',mark.customer_id,null)) as `新户-其他`,\n",
    "\n",
    "            count(mark.customer_id) as `老户`,\n",
    "            count(if(mark.mark = 'old_current',mark.customer_id,null)) as `老户-在贷`,\n",
    "            count(if(mark.mark = 'old_active',mark.customer_id,null)) as `老户-活跃`,\n",
    "            count(if(mark.mark = 'old_loss',mark.customer_id,null)) as `老户-流失`,\n",
    "            count(if(mark.mark = 'old_silence',mark.customer_id,null)) as `老户-沉默`,\n",
    "            count(if(mark.mark = 'old_other',mark.customer_id,null)) as `老户-其他`\n",
    "\n",
    "            from  customer_mark mark\n",
    "\n",
    "            union all\n",
    "\n",
    "            select date(now()) as `日期`,'获取到applist用户' as `统计纬度`,\n",
    "            count(mark.customer_id) as `新户`,\n",
    "            count(if(mark.mark = 'new_not_apply',mark.customer_id,null)) as `新户-注册未申请`,\n",
    "            count(if(mark.mark = 'new_authorization',mark.customer_id,null)) as `新户-获额未交易`,\n",
    "            count(if(mark.mark = 'new_other',mark.customer_id,null)) as `新户-其他`,\n",
    "\n",
    "            count(mark.customer_id) as `老户`,\n",
    "            count(if(mark.mark = 'old_current',mark.customer_id,null)) as `老户-在贷`,\n",
    "            count(if(mark.mark = 'old_active',mark.customer_id,null)) as `老户-活跃`,\n",
    "            count(if(mark.mark = 'old_loss',mark.customer_id,null)) as `老户-流失`,\n",
    "            count(if(mark.mark = 'old_silence',mark.customer_id,null)) as `老户-沉默`,\n",
    "            count(if(mark.mark = 'old_other',mark.customer_id,null)) as `老户-其他`\n",
    "\n",
    "            from  customer_mark mark\n",
    "            left join `banda-etl-s3`.`t_customer` cu\n",
    "            on mark.customer_id = cu.id\n",
    "            left join total_log \n",
    "            on cu.uid =total_log.user_uuid\n",
    "            where total_log.user_uuid is not null\n",
    "\n",
    "\n",
    "            union all\n",
    "\n",
    "            select date(now()) as `日期`,'applist包含竞品的用户' as `统计纬度`,\n",
    "            count(mark.customer_id) as `新户`,\n",
    "            count(if(mark.mark = 'new_not_apply',mark.customer_id,null)) as `新户-注册未申请`,\n",
    "            count(if(mark.mark = 'new_authorization',mark.customer_id,null)) as `新户-获额未交易`,\n",
    "            count(if(mark.mark = 'new_other',mark.customer_id,null)) as `新户-其他`,\n",
    "\n",
    "            count(mark.customer_id) as `老户`,\n",
    "            count(if(mark.mark = 'old_current',mark.customer_id,null)) as `老户-在贷`,\n",
    "            count(if(mark.mark = 'old_active',mark.customer_id,null)) as `老户-活跃`,\n",
    "            count(if(mark.mark = 'old_loss',mark.customer_id,null)) as `老户-流失`,\n",
    "            count(if(mark.mark = 'old_silence',mark.customer_id,null)) as `老户-沉默`,\n",
    "            count(if(mark.mark = 'old_other',mark.customer_id,null)) as `老户-其他`\n",
    "\n",
    "            from  customer_mark mark\n",
    "            left join `banda-etl-s3`.`t_customer` cu\n",
    "            on mark.customer_id = cu.id\n",
    "            left join competitor \n",
    "            on cu.uid =competitor.user_uuid\n",
    "            where competitor.user_uuid is not null\n",
    "\n",
    "    \"\"\")\n",
    "#     df1.write.mode(\"overwrite\").orc(\"s3://rupiahplus-data-warehouse/etl/banda/market/id_adapundi_real-time_competitor\")\n",
    "\n"
   ]
  }
 ],
 "metadata": {
  "kernelspec": {
   "display_name": "PySpark",
   "language": "",
   "name": "pysparkkernel"
  },
  "language_info": {
   "codemirror_mode": {
    "name": "python",
    "version": 2
   },
   "mimetype": "text/x-python",
   "name": "pyspark",
   "pygments_lexer": "python2"
  }
 },
 "nbformat": 4,
 "nbformat_minor": 4
}
