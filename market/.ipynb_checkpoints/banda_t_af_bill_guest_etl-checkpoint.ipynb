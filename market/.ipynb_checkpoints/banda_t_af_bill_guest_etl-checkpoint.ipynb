{
 "cells": [
  {
   "cell_type": "code",
   "execution_count": 1,
   "metadata": {},
   "outputs": [
    {
     "data": {
      "application/vnd.jupyter.widget-view+json": {
       "model_id": "ccb85e30d2e14cf09ef7f72b6f0d04c3",
       "version_major": 2,
       "version_minor": 0
      },
      "text/plain": [
       "VBox()"
      ]
     },
     "metadata": {},
     "output_type": "display_data"
    },
    {
     "name": "stdout",
     "output_type": "stream",
     "text": [
      "Starting Spark application\n"
     ]
    },
    {
     "data": {
      "text/html": [
       "<table>\n",
       "<tr><th>ID</th><th>YARN Application ID</th><th>Kind</th><th>State</th><th>Spark UI</th><th>Driver log</th><th>Current session?</th></tr><tr><td>5</td><td>application_1596594749666_0006</td><td>pyspark</td><td>idle</td><td><a target=\"_blank\" href=\"http://ip-172-31-10-163.ap-southeast-1.compute.internal:20888/proxy/application_1596594749666_0006/\">Link</a></td><td><a target=\"_blank\" href=\"http://ip-172-31-14-226.ap-southeast-1.compute.internal:8042/node/containerlogs/container_1596594749666_0006_01_000001/livy\">Link</a></td><td>✔</td></tr></table>"
      ],
      "text/plain": [
       "<IPython.core.display.HTML object>"
      ]
     },
     "metadata": {},
     "output_type": "display_data"
    },
    {
     "data": {
      "application/vnd.jupyter.widget-view+json": {
       "model_id": "",
       "version_major": 2,
       "version_minor": 0
      },
      "text/plain": [
       "FloatProgress(value=0.0, bar_style='info', description='Progress:', layout=Layout(height='25px', width='50%'),…"
      ]
     },
     "metadata": {},
     "output_type": "display_data"
    },
    {
     "name": "stdout",
     "output_type": "stream",
     "text": [
      "SparkSession available as 'spark'.\n"
     ]
    },
    {
     "data": {
      "application/vnd.jupyter.widget-view+json": {
       "model_id": "",
       "version_major": 2,
       "version_minor": 0
      },
      "text/plain": [
       "FloatProgress(value=0.0, bar_style='info', description='Progress:', layout=Layout(height='25px', width='50%'),…"
      ]
     },
     "metadata": {},
     "output_type": "display_data"
    },
    {
     "name": "stdout",
     "output_type": "stream",
     "text": [
      "t_af_bill"
     ]
    }
   ],
   "source": [
    "# from __future__ import print_function\n",
    "\n",
    "import sys\n",
    "\n",
    "import numpy as np\n",
    "from pyspark.sql import SparkSession\n",
    "from datetime import datetime, timedelta\n",
    "import pyspark.sql.functions as F\n",
    "\n",
    "import pytz\n",
    "#北京时间0点半执行，相当于utc时间昨天的16:30 ，所以时间不-1天\n",
    "# print(datetime.now(pytz.timezone(\"Asia/Shanghai\")).strftime( '%Y-%m-%d'))\n",
    "yesterday = datetime.now().strftime('%Y-%m-%d')\n",
    "partitionlist=yesterday.split(\"-\",3)\n",
    "beforeyesterday = (datetime.now() + timedelta(-1)).strftime('%Y-%m-%d')\n",
    "#防止当天出错之后,八点之后运行会丢失分区\n",
    "partitionlist.append(beforeyesterday.split(\"-\",3)[2])\n",
    "dbmap = {\"banda_guest\": \"1\"}\n",
    "#是否特殊special，特殊的需要自己写sql\n",
    "guestTable = {\n",
    "            \"banda\":{\n",
    "                  \"t_af_bill\":\"\"\n",
    "            }\n",
    "        }\n",
    "# print(__name__)builtins\n",
    "# print(__name__)\n",
    "if __name__ == \"builtins\":\n",
    "    spark = SparkSession \\\n",
    "        .builder \\\n",
    "        .appName(\"Python Demo\") \\\n",
    "        .config(\"hive.metastore.client.factory.class\",\n",
    "                \"com.amazonaws.glue.catalog.metastore.AWSGlueDataCatalogHiveClientFactory\") \\\n",
    "        .config(\"spark.driver.maxResultSize\", \"4g\") \\\n",
    "        .enableHiveSupport() \\\n",
    "        .getOrCreate()\n",
    "    spark.conf.set(\"hive.exec.dynamic.partition.mode\", \"nonstrict\");\n",
    "    spark.conf.set(\"spark.sql.sources.partitionOverwriteMode\", \"dynamic\")\n",
    "    for row in guestTable:\n",
    "#         banda\n",
    "        tabletMap = row\n",
    "        for table in guestTable[tabletMap]:\n",
    "            tableName = table\n",
    "            if tabletMap=='banda':\n",
    "                sql = \"select * from  \" + tempDataBase + \".\" + tableName\n",
    "                spark.sql(sql).drop('etldate').write.mode(\"overwrite\").orc(guestPath)"
   ]
  }
 ],
 "metadata": {
  "kernelspec": {
   "display_name": "PySpark",
   "language": "",
   "name": "pysparkkernel"
  },
  "language_info": {
   "codemirror_mode": {
    "name": "python",
    "version": 2
   },
   "mimetype": "text/x-python",
   "name": "pyspark",
   "pygments_lexer": "python2"
  }
 },
 "nbformat": 4,
 "nbformat_minor": 4
}
