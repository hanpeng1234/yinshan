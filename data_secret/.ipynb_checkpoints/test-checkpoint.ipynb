{
 "cells": [
  {
   "cell_type": "code",
   "execution_count": 1,
   "metadata": {},
   "outputs": [
    {
     "data": {
      "application/vnd.jupyter.widget-view+json": {
       "model_id": "520dea8041894eaa98d4e2ff7973eded",
       "version_major": 2,
       "version_minor": 0
      },
      "text/plain": [
       "VBox()"
      ]
     },
     "metadata": {},
     "output_type": "display_data"
    },
    {
     "name": "stdout",
     "output_type": "stream",
     "text": [
      "Starting Spark application\n"
     ]
    },
    {
     "data": {
      "text/html": [
       "<table>\n",
       "<tr><th>ID</th><th>YARN Application ID</th><th>Kind</th><th>State</th><th>Spark UI</th><th>Driver log</th><th>Current session?</th></tr><tr><td>4</td><td>application_1602734624556_0005</td><td>pyspark</td><td>idle</td><td><a target=\"_blank\" href=\"http://ip-172-31-7-15.ap-southeast-1.compute.internal:20888/proxy/application_1602734624556_0005/\">Link</a></td><td><a target=\"_blank\" href=\"http://ip-172-31-10-56.ap-southeast-1.compute.internal:8042/node/containerlogs/container_1602734624556_0005_01_000001/livy\">Link</a></td><td>✔</td></tr></table>"
      ],
      "text/plain": [
       "<IPython.core.display.HTML object>"
      ]
     },
     "metadata": {},
     "output_type": "display_data"
    },
    {
     "data": {
      "application/vnd.jupyter.widget-view+json": {
       "model_id": "",
       "version_major": 2,
       "version_minor": 0
      },
      "text/plain": [
       "FloatProgress(value=0.0, bar_style='info', description='Progress:', layout=Layout(height='25px', width='50%'),…"
      ]
     },
     "metadata": {},
     "output_type": "display_data"
    },
    {
     "name": "stdout",
     "output_type": "stream",
     "text": [
      "SparkSession available as 'spark'.\n"
     ]
    },
    {
     "data": {
      "application/vnd.jupyter.widget-view+json": {
       "model_id": "",
       "version_major": 2,
       "version_minor": 0
      },
      "text/plain": [
       "FloatProgress(value=0.0, bar_style='info', description='Progress:', layout=Layout(height='25px', width='50%'),…"
      ]
     },
     "metadata": {},
     "output_type": "display_data"
    },
    {
     "name": "stdout",
     "output_type": "stream",
     "text": [
      "+------------+--------------------+-----------+\n",
      "|    database|           tableName|isTemporary|\n",
      "+------------+--------------------+-----------+\n",
      "|luzon_etl_s3|       t_admin_audit|      false|\n",
      "|luzon_etl_s3|  t_auto_review_loan|      false|\n",
      "|luzon_etl_s3|          t_bankcard|      false|\n",
      "|luzon_etl_s3|   t_channel_details|      false|\n",
      "|luzon_etl_s3|  t_collection_audit|      false|\n",
      "|luzon_etl_s3|t_collection_blac...|      false|\n",
      "|luzon_etl_s3|           t_contact|      false|\n",
      "|luzon_etl_s3|          t_customer|      false|\n",
      "|luzon_etl_s3|        t_employment|      false|\n",
      "|luzon_etl_s3|t_engine_rule_detail|      false|\n",
      "|luzon_etl_s3|          t_loan_app|      false|\n",
      "|luzon_etl_s3|t_loan_app_review...|      false|\n",
      "|luzon_etl_s3|t_loan_app_status...|      false|\n",
      "|luzon_etl_s3|        t_loan_issue|      false|\n",
      "|luzon_etl_s3|              t_lpay|      false|\n",
      "|luzon_etl_s3|      t_lpay_deposit|      false|\n",
      "|luzon_etl_s3|           t_message|      false|\n",
      "|luzon_etl_s3|     t_personal_info|      false|\n",
      "|luzon_etl_s3|   t_record_bankcard|      false|\n",
      "|luzon_etl_s3|    t_record_contact|      false|\n",
      "+------------+--------------------+-----------+\n",
      "only showing top 20 rows"
     ]
    }
   ],
   "source": [
    "spark.sql(\"\"\"show tables in luzon_etl_s3\"\"\").show()"
   ]
  },
  {
   "cell_type": "code",
   "execution_count": null,
   "metadata": {},
   "outputs": [],
   "source": [
    "col={\n",
    "    \"luzon\": {\n",
    "        \"t_auto_review_loan\": [\n",
    "            \"ktp\",\n",
    "            \"mobile\"\n",
    "        ],\n",
    "        \"t_bankcard\": [\n",
    "            \"card_no\",\n",
    "        ],\n",
    "        \"t_contact\": [\n",
    "            \"mobile\",\n",
    "            \"credential_no\"\n",
    "        ],\n",
    "         \"t_customer\": [\n",
    "            \"mobile\",\n",
    "            \"imei\"\n",
    "        ], \n",
    "        \"t_employment\": [\n",
    "            \"credential_no\",\n",
    "            \"imei\"\n",
    "        ],\n",
    "         \"t_loan_app\": [\n",
    "            \"credential_no\"\n",
    "        ], \n",
    "        \"t_personal_info\": [\n",
    "            \"credential_no\",\n",
    "            \"email\"\n",
    "        ],\n",
    "         \"t_record_contact\": [\n",
    "            \"mobile\"\n",
    "        ],\n",
    "         \"t_record_personal_info\": [\n",
    "            \"credential_no\"\n",
    "        ]\n",
    "    },\n",
    "    \"banda\": {\n",
    "        \"t_personal_info\": [\n",
    "            \"credential_no\"\n",
    "        ]\n",
    "    }\n",
    "}"
   ]
  },
  {
   "cell_type": "code",
   "execution_count": 1,
   "metadata": {},
   "outputs": [
    {
     "data": {
      "application/vnd.jupyter.widget-view+json": {
       "model_id": "e9f4c4a7ba7b4ab69e33150447055d77",
       "version_major": 2,
       "version_minor": 0
      },
      "text/plain": [
       "VBox()"
      ]
     },
     "metadata": {},
     "output_type": "display_data"
    },
    {
     "name": "stdout",
     "output_type": "stream",
     "text": [
      "Starting Spark application\n"
     ]
    },
    {
     "data": {
      "text/html": [
       "<table>\n",
       "<tr><th>ID</th><th>YARN Application ID</th><th>Kind</th><th>State</th><th>Spark UI</th><th>Driver log</th><th>Current session?</th></tr><tr><td>1</td><td>application_1602817165865_0002</td><td>pyspark</td><td>idle</td><td><a target=\"_blank\" href=\"http://ip-172-31-11-195.ap-southeast-1.compute.internal:20888/proxy/application_1602817165865_0002/\">Link</a></td><td><a target=\"_blank\" href=\"http://ip-172-31-5-234.ap-southeast-1.compute.internal:8042/node/containerlogs/container_1602817165865_0002_01_000001/livy\">Link</a></td><td>✔</td></tr></table>"
      ],
      "text/plain": [
       "<IPython.core.display.HTML object>"
      ]
     },
     "metadata": {},
     "output_type": "display_data"
    },
    {
     "data": {
      "application/vnd.jupyter.widget-view+json": {
       "model_id": "",
       "version_major": 2,
       "version_minor": 0
      },
      "text/plain": [
       "FloatProgress(value=0.0, bar_style='info', description='Progress:', layout=Layout(height='25px', width='50%'),…"
      ]
     },
     "metadata": {},
     "output_type": "display_data"
    },
    {
     "name": "stdout",
     "output_type": "stream",
     "text": [
      "SparkSession available as 'spark'.\n"
     ]
    },
    {
     "data": {
      "application/vnd.jupyter.widget-view+json": {
       "model_id": "",
       "version_major": 2,
       "version_minor": 0
      },
      "text/plain": [
       "FloatProgress(value=0.0, bar_style='info', description='Progress:', layout=Layout(height='25px', width='50%'),…"
      ]
     },
     "metadata": {},
     "output_type": "display_data"
    },
    {
     "name": "stdout",
     "output_type": "stream",
     "text": [
      "root\n",
      " |-- etldate: string (nullable = true)\n",
      " |-- id: long (nullable = true)\n",
      " |-- riskengine_id: string (nullable = true)\n",
      " |-- customer_id: long (nullable = true)\n",
      " |-- loan_id: long (nullable = true)\n",
      " |-- name: string (nullable = true)\n",
      " |-- ktp: string (nullable = true)\n",
      " |-- mobile: string (nullable = true)\n",
      " |-- success: string (nullable = true)\n",
      " |-- error_message: string (nullable = true)\n",
      " |-- result: string (nullable = true)\n",
      " |-- reject_message: string (nullable = true)\n",
      " |-- create_time: timestamp (nullable = true)\n",
      " |-- finish_time: timestamp (nullable = true)\n",
      " |-- duration: long (nullable = true)\n",
      " |-- real_policy: string (nullable = true)\n",
      " |-- switch_manual_reason: string (nullable = true)\n",
      " |-- raw_data: string (nullable = true)\n",
      " |-- year: string (nullable = true)"
     ]
    }
   ],
   "source": [
    "spark.sql(\"\"\"select  * from luzon_etl_s3.t_auto_review_loan \"\"\").printSchema()"
   ]
  },
  {
   "cell_type": "code",
   "execution_count": 59,
   "metadata": {},
   "outputs": [
    {
     "data": {
      "application/vnd.jupyter.widget-view+json": {
       "model_id": "013dbda0d07e4a1c9a10314b0d930cb0",
       "version_major": 2,
       "version_minor": 0
      },
      "text/plain": [
       "VBox()"
      ]
     },
     "metadata": {},
     "output_type": "display_data"
    },
    {
     "name": "stderr",
     "output_type": "stream",
     "text": [
      "Exception in thread cell_monitor-59:\n",
      "Traceback (most recent call last):\n",
      "  File \"/opt/conda/lib/python3.7/threading.py\", line 926, in _bootstrap_inner\n",
      "    self.run()\n",
      "  File \"/opt/conda/lib/python3.7/threading.py\", line 870, in run\n",
      "    self._target(*self._args, **self._kwargs)\n",
      "  File \"/opt/conda/lib/python3.7/site-packages/awseditorssparkmonitoringwidget-1.0-py3.7.egg/awseditorssparkmonitoringwidget/cellmonitor.py\", line 154, in cell_monitor\n",
      "    job_group_filtered_jobs = [job for job in jobs_data if job['jobGroup'] == str(statement_id)]\n",
      "  File \"/opt/conda/lib/python3.7/site-packages/awseditorssparkmonitoringwidget-1.0-py3.7.egg/awseditorssparkmonitoringwidget/cellmonitor.py\", line 154, in <listcomp>\n",
      "    job_group_filtered_jobs = [job for job in jobs_data if job['jobGroup'] == str(statement_id)]\n",
      "KeyError: 'jobGroup'\n",
      "\n"
     ]
    },
    {
     "data": {
      "application/vnd.jupyter.widget-view+json": {
       "model_id": "",
       "version_major": 2,
       "version_minor": 0
      },
      "text/plain": [
       "FloatProgress(value=0.0, bar_style='info', description='Progress:', layout=Layout(height='25px', width='50%'),…"
      ]
     },
     "metadata": {},
     "output_type": "display_data"
    },
    {
     "name": "stdout",
     "output_type": "stream",
     "text": [
      "Found existing installation: boto3 1.16.24\n",
      "Uninstalling boto3-1.16.24:\n",
      "  Successfully uninstalled boto3-1.16.24\n",
      "\n",
      "Collecting boto3\n",
      "  Using cached boto3-1.16.24-py2.py3-none-any.whl (129 kB)\n",
      "Requirement already satisfied: s3transfer<0.4.0,>=0.3.0 in /mnt/tmp/1606199838371-0/lib/python3.6/site-packages (from boto3) (0.3.3)\n",
      "Requirement already satisfied: botocore<1.20.0,>=1.19.24 in /mnt/tmp/1606199838371-0/lib/python3.6/site-packages (from boto3) (1.19.24)\n",
      "Requirement already satisfied: jmespath<1.0.0,>=0.7.1 in /usr/local/lib/python3.6/site-packages (from boto3) (0.9.4)\n",
      "Requirement already satisfied: urllib3<1.27,>=1.25.4; python_version != \"3.4\" in /mnt/tmp/1606199838371-0/lib/python3.6/site-packages (from botocore<1.20.0,>=1.19.24->boto3) (1.26.2)\n",
      "Requirement already satisfied: python-dateutil<3.0.0,>=2.1 in /mnt/tmp/1606199838371-0/lib/python3.6/site-packages (from botocore<1.20.0,>=1.19.24->boto3) (2.8.1)\n",
      "Requirement already satisfied: six>=1.5 in /usr/local/lib/python3.6/site-packages (from python-dateutil<3.0.0,>=2.1->botocore<1.20.0,>=1.19.24->boto3) (1.12.0)\n",
      "Installing collected packages: boto3\n",
      "Successfully installed boto3-1.16.24\n",
      "\n",
      "{'hmac_key': 'xUIAZ3grtPOxaPNK', 'mobileType': ['phone', 'phone_number', 'user_mobile', 'number', 'caller', 'callee', 'to', 'mobile_phone', 'mobile', 'backup_mobile'], 'extraColumn': {'banda': {'t_personal_info': ['cast(substring(credential_no_x, 11, 2) AS bigint) as birth_year', 'CASE WHEN cast(substring(credential_no_x, 11, 2) AS bigint) > 37 THEN (year(current_date()) - cast(substring(credential_no_x, 11, 2) AS bigint) - 1900) ELSE (year(current_date()) - cast(substring(credential_no_x, 11, 2) AS bigint) - 2000) END as age ']}}, 'luzon': {'t_auto_review_loan': ['ktp', 'mobile'], 't_bankcard': ['card_no'], 't_contact': ['mobile', 'credential_no'], 't_customer': ['mobile', 'imei'], 't_loan_app': ['credential_no'], 't_personal_info': ['credential_no', 'email'], 't_record_contact': ['mobile'], 't_record_personal_info': ['credential_no']}, 'banda': {'t_ai_rudder_schedule_mobile': ['mobile'], 't_mobile_tag_rel': ['mobile'], 't_code': ['send_to'], 't_personal_info': ['credential_no', 'backup_mobile'], 't_review_blacklist': ['value'], 't_contact': ['mobile'], 't_customer': ['mobile'], 't_employment': ['company_phone'], 't_loan_app': ['credential_no'], 't_login_log': ['mobile'], 't_record_personal_info': ['credential_no', 'backup_mobile'], 't_record_employment': ['company_phone'], 't_record_contact': ['mobile'], 't_record_file': ['path'], 't_sms': ['sendto']}, 'notification': {'t_message': ['send_to']}, 'arkham': {'t_card_info': ['card_no'], 't_emergency_contact': ['tel_num'], 't_emergency_contact_snapshot': ['tel_num'], 't_file': ['file_url'], 't_file_snapshot': ['file_url'], 't_marketing_channel_info': ['mobile', 'credential_no'], 't_marketing_ref_info': ['credentials_no'], 't_user': ['idno', 'mobile'], 't_user_snapshot': ['idno', 'mobile']}, 'protoss': {'t_bni_bill': ['customer_phone']}, 'credinex_account': {'t_credit_balance': ['customer_phone'], 't_credit_bill': ['customer_phone'], 't_customer_account': ['customer_phone']}, 'credinex_repeater': {'t_risk_blacklist': ['value']}}\n",
      "<function hmac_sha256 at 0x7f2d49529d90>\n",
      "banda_stream_etl\n",
      "+-------------------+--------+--------+------+----+\n",
      "|            etldate|admin_id|group_id|    id|year|\n",
      "+-------------------+--------+--------+------+----+\n",
      "|2020-08-01 23:59:59|  100000|    7008|100000|2020|\n",
      "|2020-08-01 23:59:59|  100084|    7002|100001|2020|\n",
      "|2020-08-01 23:59:59|  100085|    7011|100002|2020|\n",
      "|2020-08-01 23:59:59|  100093|    7002|100003|2020|\n",
      "|2020-08-01 23:59:59|  100082|  100003|100004|2020|\n",
      "|2020-08-01 23:59:59|  101319|  100085|100005|2020|\n",
      "|2020-08-01 23:59:59|  101321|    7002|100006|2020|\n",
      "|2020-08-01 23:59:59|  100091|  100000|100007|2020|\n",
      "|2020-08-01 23:59:59|  100088|    7004|100008|2020|\n",
      "|2020-08-01 23:59:59|  101178|  100111|100009|2020|\n",
      "|2020-08-01 23:59:59|  100089|    7003|100010|2020|\n",
      "|2020-08-01 23:59:59|  100201|    7005|100011|2020|\n",
      "|2020-08-01 23:59:59|  101319|  100019|100012|2020|\n",
      "|2020-08-01 23:59:59|  100166|    7000|100013|2020|\n",
      "|2020-08-01 23:59:59|  101124|  100008|100014|2020|\n",
      "|2020-08-01 23:59:59|  101315|  100001|100015|2020|\n",
      "|2020-08-01 23:59:59|  100174|    7002|100016|2020|\n",
      "|2020-08-01 23:59:59|  101309|  100001|100017|2020|\n",
      "|2020-08-01 23:59:59|  100479|  100002|100018|2020|\n",
      "|2020-08-01 23:59:59|  100090|    7003|100019|2020|\n",
      "+-------------------+--------+--------+------+----+\n",
      "only showing top 20 rows\n",
      "\n",
      "+-------------------+------+---------------+--------------------+-----+--------------------+-----------+-------------+--------------------+--------------------+------------------+--------------------+--------------------+----------------+--------------------+-------------------+----------+----+-------------+----+------------+------------+----+\n",
      "|            etldate|    id|            uid|              mobile|email|            password|invite_code|       status| status_expired_time|     last_login_time|failed_login_count|         create_time|         update_time|     channel_key|                imei|rated_interest_rate|inviter_id|rank|mobile_status|type|main_account|    mobile_x|year|\n",
      "+-------------------+------+---------------+--------------------+-----+--------------------+-----------+-------------+--------------------+--------------------+------------------+--------------------+--------------------+----------------+--------------------+-------------------+----------+----+-------------+----+------------+------------+----+\n",
      "|2020-08-01 23:59:59| 10001|          test1|d20d840ff353969a8...| null|                null|       null|       ACTIVE|2019-02-19 09:45:...|2019-02-19 09:45:...|                 0|2019-02-19 09:45:...|2019-02-19 09:45:...|            null|                null|         0.02000000|      null|   1|         null|null|        null|  8100860001|2020|\n",
      "|2020-08-01 23:59:59| 10002|           tes2|d5a88a6976c292d53...| null|                null|       null|       ACTIVE|2019-02-19 09:45:...|2019-02-19 09:45:...|                 0|2019-02-19 09:45:...|2019-02-19 09:45:...|            null|                null|         0.02000000|      null|   1|         null|null|        null|  8100860002|2020|\n",
      "|2020-08-01 23:59:59| 10003|          test3|db347b0621e2f8076...| null|                null|       null|       ACTIVE|2019-02-19 09:45:...|2019-02-19 09:45:...|                 0|2019-02-19 09:45:...|2019-02-19 09:45:...|            null|                null|         0.02000000|      null|   1|         null|null|        null|  8100860003|2020|\n",
      "|2020-08-01 23:59:59| 10004|          test4|db9c411718e7aa740...| null|                null|       null|       ACTIVE|2019-02-19 09:45:...|2019-02-19 09:45:...|                 0|2019-02-19 09:45:...|2019-02-19 09:45:...|            null|                null|         0.02000000|      null|   1|         null|null|        null|  8100860004|2020|\n",
      "|2020-08-01 23:59:59| 10005|          test5|d82134c3fafb69d98...| null|                null|       null|       ACTIVE|2019-02-19 09:45:...|2019-02-19 09:45:...|                 0|2019-02-19 09:45:...|2019-02-19 09:45:...|            null|                null|         0.02000000|      null|   1|         null|null|        null|  8100860005|2020|\n",
      "|2020-08-01 23:59:59| 10006|          test6|98bc1d0d5bbd0732a...| null|                null|       null|       ACTIVE|2019-02-19 09:45:...|2019-02-19 09:45:...|                 0|2019-02-19 09:45:...|2019-02-19 09:45:...|            null|                null|         0.02000000|      null|   1|         null|null|        null|  8100860006|2020|\n",
      "|2020-08-01 23:59:59| 10007|          test7|d91f175e41d1d9e4a...| null|                null|       null|       ACTIVE|2019-02-19 09:45:...|2019-02-19 09:45:...|                 0|2019-02-19 09:45:...|2019-02-19 09:45:...|            null|                null|         0.02000000|      null|   1|         null|null|        null|  8100860007|2020|\n",
      "|2020-08-01 23:59:59| 10008|          test8|318ac77498b7b0c6f...| null|                null|       null|       ACTIVE|2019-02-19 09:45:...|2019-02-19 09:45:...|                 0|2019-02-19 09:45:...|2019-02-19 09:45:...|            null|                null|         0.02000000|      null|   1|         null|null|        null|  8100860008|2020|\n",
      "|2020-08-01 23:59:59| 10009|          test9|3c4493f1b8eb8e0e0...| null|                null|       null|       ACTIVE|2019-02-19 09:45:...|2019-02-19 09:45:...|                 0|2019-02-19 09:45:...|2019-02-19 09:45:...|            null|                null|         0.02000000|      null|   1|         null|null|        null|  8100860009|2020|\n",
      "|2020-08-01 23:59:59|100000|U1704211024BH3Q|2e16a19764601008a...| null|e68b279b5e8464dbb...|           |       ACTIVE| 2017-10-12 07:05:00|2018-01-08 01:37:...|                 0|2017-04-21 03:24:...|2018-01-08 01:37:...|            null|     861754033066150|         0.02000000|      null|   1|         null|null|        null|081515717655|2020|\n",
      "|2020-08-01 23:59:59|100001|U1704211107BFK3|0049628c58eefb17d...| null|                null|           |       ACTIVE|2017-05-17 10:00:...|2019-10-12 11:10:...|                 1|2017-04-21 04:07:...|2017-05-17 09:58:...|            null|                null|         0.02000000|      null|   1|         null|null|        null|081122334455|2020|\n",
      "|2020-08-01 23:59:59|100002|U1704211123MOF3|fd11682f10951dcf0...| null|                null|           |       ACTIVE|2017-04-20 21:23:...|2017-05-24 22:24:...|                 0|2017-04-21 04:23:...|2017-04-20 21:23:...|            null|                null|         0.02000000|      null|   1|         null|null|        null|085544332211|2020|\n",
      "|2020-08-01 23:59:59|100003|U1704211141P9BF|9288ab2b87043bf02...| null|                null|           |       ACTIVE|2017-05-17 10:00:...|2017-05-17 02:20:...|                 0|2017-04-21 04:41:...|2017-05-17 09:58:...|            null|                null|         0.02000000|      null|   1|         null|null|        null|085555555555|2020|\n",
      "|2020-08-01 23:59:59|100004|U1704240506LP7D|8a27961b59846952e...| null|                null|           |       ACTIVE|2017-05-02 10:00:...|2017-04-24 03:06:...|                 0|2017-04-24 10:06:...|2017-05-02 09:59:...|            null|                null|         0.02000000|      null|   1|         null|null|        null| 08555555222|2020|\n",
      "|2020-08-01 23:59:59|100005|U1704250550WFRO|0edcc0955b91b9730...| null|                null|           |       ACTIVE|2017-04-24 15:50:...|2017-04-24 15:50:...|                 0|2017-04-24 22:50:...|2017-04-24 15:50:...|            null|                null|         0.02000000|      null|   1|         null|null|        null|085386577737|2020|\n",
      "|2020-08-01 23:59:59|100006|U1704250845JS8F|a2ba781f4cb7bc524...| null|                null|     254300|       ACTIVE|2017-04-24 18:45:...|2017-05-26 02:05:...|                 0|2017-04-25 01:45:...|2017-04-24 18:45:...|            null|                null|         0.02000000|      null|   1|         null|null|        null| 08116043854|2020|\n",
      "|2020-08-01 23:59:59|100007|U1704250908859P|c3c88886cf57beeae...| null|d059d7b5ef044ea55...|           |       ACTIVE|2017-04-24 19:08:...|2018-02-26 03:27:...|                 0|2017-04-25 02:08:...|2018-02-26 03:27:...|            null|     865214036439629|         0.02000000|      null|   1|         null|null|        null|089520520520|2020|\n",
      "|2020-08-01 23:59:59|100008|U1704250915P2HN|8070ae70faac2bfc3...| null|b359965d9c096e8ff...|           |       ACTIVE|2018-12-04 17:00:...|2018-11-27 06:05:...|                 0|2017-04-25 02:15:...|2018-12-04 17:00:...|5e91843c25f47852|     356088084411045|         0.02000000|      null|   1|         null|null|        null|089521493403|2020|\n",
      "|2020-08-01 23:59:59|100009|U1704250942QHTZ|d4e508116631ddd25...| null|4a379071a0807dd51...|           |DISABLE_LOGIN| 2998-12-31 17:00:00|2019-09-29 06:37:...|                 0|2017-04-25 02:42:...|2019-10-03 17:02:...|4f4b2a0aa3a64e8f|ed062831-9625-44f...|         0.02000000|      null|   1|         null|null|        null|081517007006|2020|\n",
      "|2020-08-01 23:59:59|100010|U1704251017NPEB|de1ee9e83f5e7965a...| null|                null|           |       ACTIVE|2017-04-24 20:18:...|2017-04-24 20:18:...|                 0|2017-04-25 03:18:...|2017-04-24 20:18:...|            null|                null|         0.02000000|      null|   1|         null|null|        null| 08555222888|2020|\n",
      "+-------------------+------+---------------+--------------------+-----+--------------------+-----------+-------------+--------------------+--------------------+------------------+--------------------+--------------------+----------------+--------------------+-------------------+----------+----+-------------+----+------------+------------+----+\n",
      "only showing top 20 rows\n",
      "\n",
      "+-------------------+------+-----------+-----------+----------------+------+--------------------+---------------+-----------+------------------+-------------+-------------------+--------------------+--------------+--------------+---------------+------------------+------------------+-----------+----------+------------+------+--------+-----------+----------+------------+--------------------+-------------+-------------------+--------------------+------+--------------------+--------------------+-----+-------------+-----------------+---------------+----------+----+----+\n",
      "|            etldate|    id|customer_id|loan_app_id|       full_name|gender|       credential_no|credential_type|   province|              city|     district|               area|             address|last_education|marital_status|children_number|residence_duration|family_name_in_law|facebook_id|car_number|house_number|ethnic|religion|nationality|ktp_gender|ktp_province|            ktp_city| ktp_district|  ktp_date_of_birth|  ktp_analyze_status|status|         create_time|         update_time|email|backup_mobile|  credential_no_x|backup_mobile_x|birth_year| age|year|\n",
      "+-------------------+------+-----------+-----------+----------------+------+--------------------+---------------+-----------+------------------+-------------+-------------------+--------------------+--------------+--------------+---------------+------------------+------------------+-----------+----------+------------+------+--------+-----------+----------+------------+--------------------+-------------+-------------------+--------------------+------+--------------------+--------------------+-----+-------------+-----------------+---------------+----------+----+----+\n",
      "|2020-08-01 23:59:59|100000|     100000|     100000|  xiaoming test |FEMALE|707aa5abd21498d81...|            KTP|DKI Jakarta|Kota Jakarta Barat|    Kembangan|Meruya Utara (Ilir)|             address|            SD|       MARRIED|            TWO|         SIX_MONTH|            mother|   xiaoming|      null|        null|  null|    null|       null|      null|   NOT FOUND|           NOT FOUND|    NOT FOUND|               null|FAILED_ON_FORMAT_...|  null|2017-04-20 20:30:...|2017-04-20 20:31:...| null|             |31730126603890001|           null|        38|  82|2020|\n",
      "|2020-08-01 23:59:59|100001|     100001|     100001|  xiaoming test2|  MALE|287df90d9c3cfcff5...|            KTP|  West Java|       Kota Bekasi| Bekasi Utara|            Perwira|             address|            SD|       MARRIED|            TWO|          ONE_YEAR|      ttteeesssttt|   xiaoming|      null|        null|  null|    null|       null|      MALE| DKI JAKARTA|KOTA ADM. JAKARTA...|   Cengkareng|1989-03-25 10:00:00|             SUCCEED|  null|2017-04-20 21:11:...|2017-04-20 21:14:...| null|             | 3173012603890001|           null|        89|  31|2020|\n",
      "|2020-08-01 23:59:59|100002|     100001|     100002|  xiaoming test2|  MALE|287df90d9c3cfcff5...|            KTP|  West Java|       Kota Bekasi| Bekasi Utara|            Perwira|             address|            SD|       MARRIED|            TWO|          ONE_YEAR|      ttteeesssttt|   xiaoming|      null|        null|  null|    null|       null|      MALE| DKI JAKARTA|KOTA ADM. JAKARTA...|   Cengkareng|1989-03-25 10:00:00|             SUCCEED|  null|2017-04-20 21:18:...|2017-04-20 21:19:...| null|             | 3173012603890001|           null|        89|  31|2020|\n",
      "|2020-08-01 23:59:59|100003|     100002|     100003|  xiaoming test3|  MALE|287df90d9c3cfcff5...|            KTP|DKI Jakarta|Kota Jakarta Timur|      Makasar|         Kebon Pala|             address|   DIPLOMA_III|        SINGLE|           FOUR|          TWO_YEAR|             test |   xiaoming|      null|        null|  null|    null|       null|      MALE| DKI JAKARTA|KOTA ADM. JAKARTA...|   Cengkareng|1989-03-25 10:00:00|             SUCCEED|  null|2017-04-20 21:28:...|2017-04-20 21:29:...| null|             | 3173012603890001|           null|        89|  31|2020|\n",
      "|2020-08-01 23:59:59|100004|     100003|     100004|          miaoke|  MALE|911d6f4d49c98f9b4...|            KTP|  West Java|        Kota Depok|    Cimanggis|              Curug|                test|     DIPLOMA_I|       MARRIED|          THREE|         SIX_MONTH|              test|  8765gbbbn|      null|        null|  null|    null|       null|      null|   NOT FOUND|           NOT FOUND|    NOT FOUND|               null|FAILED_ON_FORMAT_...|  null|2017-04-20 21:44:...|2017-05-09 00:53:...| null|             |  123456789369258|           null|        69|  51|2020|\n",
      "|2020-08-01 23:59:59|100005|     100000|     100005|  xiaoming test |FEMALE|707aa5abd21498d81...|            KTP|DKI Jakarta|Kota Jakarta Barat|    Kembangan|Meruya Utara (Ilir)|             address|            SD|       MARRIED|            TWO|         SIX_MONTH|            mother|   xiaoming|      null|        null|  null|    null|       null|      null|   NOT FOUND|           NOT FOUND|    NOT FOUND|               null|FAILED_ON_FORMAT_...|  null|2017-04-21 02:36:...|2017-04-21 02:38:...| null|             |31730126603890001|           null|        38|  82|2020|\n",
      "|2020-08-01 23:59:59|100006|     100004|     100006|            test|  MALE|22fc3f59354d0359f...|            KTP|  West Java|        Kota Depok|       Cinere|             Cinere|                yhhh|            SD|        SINGLE|           FOUR|          TWO_YEAR|              test|      gfffg|      null|        null|  null|    null|       null|      null|   NOT FOUND|           NOT FOUND|    NOT FOUND|               null|FAILED_ON_FORMAT_...|  null|2017-04-24 03:08:...|2017-04-24 03:09:...| null|             |       1236547890|           null|      null|null|2020|\n",
      "|2020-08-01 23:59:59|100007|     100007|     100007|  xiaoming test4|FEMALE|287df90d9c3cfcff5...|            KTP|  West Java|       Kota Bekasi|Jati Sampurna|          Jatiraden|                test|            SD|       MARRIED|            TWO|          ONE_YEAR|              test|   xiaoming|      null|        null|  null|    null|       null|      MALE| DKI JAKARTA|KOTA ADM. JAKARTA...|   Cengkareng|1989-03-25 10:00:00|             SUCCEED|  null|2017-04-24 19:11:...|2017-04-24 19:13:...| null|             | 3173012603890001|           null|        89|  31|2020|\n",
      "|2020-08-01 23:59:59|100008|     100007|     100008|  xiaoming test4|FEMALE|287df90d9c3cfcff5...|            KTP|  West Java|       Kota Bekasi|Jati Sampurna|          Jatiraden|                test|            SD|       MARRIED|            TWO|          ONE_YEAR|              test|   xiaoming|      null|        null|  null|    null|       null|      MALE| DKI JAKARTA|KOTA ADM. JAKARTA...|   Cengkareng|1989-03-25 10:00:00|             SUCCEED|  null|2017-04-24 20:09:...|2017-04-24 20:11:...| null|             | 3173012603890001|           null|        89|  31|2020|\n",
      "|2020-08-01 23:59:59|100009|     100011|     100009|          jeffri|  MALE|b259df0198b0b2c36...|            KTP|DKI Jakarta|Kota Jakarta Timur|       Cakung|        Pulo Gebang|rawa kuning gang ...|          SLTA|       MARRIED|           ZERO|          ONE_YEAR|           paryati|       null|      null|        null|  null|    null|       null|      MALE| JAWA TENGAH|       KAB. BANYUMAS|    Purwojati|1987-03-04 10:00:00|             SUCCEED|  null|2017-04-24 21:58:...|2017-04-24 22:00:...| null|             | 3302130503870001|           null|        87|  33|2020|\n",
      "|2020-08-01 23:59:59|100010|     100011|     100010|          jeffri|  MALE|b259df0198b0b2c36...|            KTP|DKI Jakarta|Kota Jakarta Timur|       Cakung|        Pulo Gebang|jalan rawa kuning...|          SLTP|       MARRIED|           ZERO|          ONE_YEAR|           paryati|       null|      null|        null|  null|    null|       null|      null|        null|                null|         null|               null|                 NEW|  null|2017-04-24 23:36:...|2017-04-24 23:36:...| null|             | 3302130503870001|           null|        87|  33|2020|\n",
      "|2020-08-01 23:59:59|100011|     100011|     100011|          jeffri|  MALE|b259df0198b0b2c36...|            KTP|DKI Jakarta|Kota Jakarta Timur|       Cakung|        Pulo Gebang|jalan rawa kuning...|          SLTP|       MARRIED|           ZERO|          ONE_YEAR|           paryati|       null|      null|        null|  null|    null|       null|      MALE| JAWA TENGAH|       KAB. BANYUMAS|    Purwojati|1987-03-04 10:00:00|             SUCCEED|  null|2017-04-24 23:53:...|2017-04-24 23:57:...| null|             | 3302130503870001|           null|        87|  33|2020|\n",
      "|2020-08-01 23:59:59|100012|     100020|     100012|xiaoming  test 5|FEMALE|287df90d9c3cfcff5...|            KTP|DKI Jakarta|Kota Jakarta Utara|   Pademangan|   Pademangan Timur|                test|            SD|       MARRIED|          THREE|          ONE_YEAR|             test |   xiaoming|      null|        null|  null|    null|       null|      null|        null|                null|         null|               null|                 NEW|  null|2017-04-25 03:06:...|2017-04-25 03:06:...| null|             | 3173012603890001|           null|        89|  31|2020|\n",
      "|2020-08-01 23:59:59|100013|     100020|     100013|xiaoming  test 5|FEMALE|287df90d9c3cfcff5...|            KTP|DKI Jakarta|Kota Jakarta Utara|   Pademangan|   Pademangan Timur|                test|            SD|       MARRIED|          THREE|          ONE_YEAR|             test |   xiaoming|      null|        null|  null|    null|       null|      null|        null|                null|         null|               null|                 NEW|  null|2017-04-25 03:06:...|2017-04-25 03:06:...| null|             | 3173012603890001|           null|        89|  31|2020|\n",
      "|2020-08-01 23:59:59|100014|     100020|     100014|xiaoming  test 5|FEMALE|287df90d9c3cfcff5...|            KTP|DKI Jakarta|Kota Jakarta Utara|   Pademangan|   Pademangan Timur|                test|            SD|       MARRIED|          THREE|          ONE_YEAR|             test |   xiaoming|      null|        null|  null|    null|       null|      null|        null|                null|         null|               null|                 NEW|  null|2017-04-25 03:07:...|2017-04-25 03:07:...| null|             | 3173012603890001|           null|        89|  31|2020|\n",
      "|2020-08-01 23:59:59|100015|     100020|     100015|xiaoming  test 5|FEMALE|287df90d9c3cfcff5...|            KTP|DKI Jakarta|Kota Jakarta Utara|   Pademangan|   Pademangan Timur|                test|            SD|       MARRIED|          THREE|          ONE_YEAR|             test |   xiaoming|      null|        null|  null|    null|       null|      MALE| DKI JAKARTA|KOTA ADM. JAKARTA...|   Cengkareng|1989-03-25 10:00:00|             SUCCEED|  null|2017-04-25 03:07:...|2017-04-25 03:10:...| null|             | 3173012603890001|           null|        89|  31|2020|\n",
      "|2020-08-01 23:59:59|100016|     100019|     100016|  Rahma Nur Izza|FEMALE|a30e8a0599c98c89a...|            KTP|  West Java|       Kota Bekasi|Pondok Melati|          Jatiwarna|jl. merapi III d8...|   DIPLOMA_III|        SINGLE|           ZERO|     OVER_TWO_YEAR|         nurhayati|       null|      null|        null|  null|    null|       null|      null|        null|                null|         null|               null|                 NEW|  null|2017-04-25 03:13:...|2017-04-25 03:13:...| null|             | 3275126606900003|           null|        90|  30|2020|\n",
      "|2020-08-01 23:59:59|100017|     100019|     100017|  Rahma Nur Izza|FEMALE|a30e8a0599c98c89a...|            KTP|  West Java|       Kota Bekasi|Pondok Melati|          Jatiwarna|jl. merapi III d8...|   DIPLOMA_III|        SINGLE|           ZERO|     OVER_TWO_YEAR|         nurhayati|       null|      null|        null|  null|    null|       null|    FEMALE|  JAWA BARAT|         KOTA BEKASI|Pondok Melati|1990-06-25 11:00:00|             SUCCEED|  null|2017-04-25 03:13:...|2017-04-25 03:39:...| null|             | 3275126606900003|           null|        90|  30|2020|\n",
      "|2020-08-01 23:59:59|100018|     100021|     100018| xiaoming test 6|  MALE|ee067128bd4b00291...|            KTP|DKI Jakarta|Kota Jakarta Utara|         Koja|   Rawa Badak Utara|               tttt |          SLTP|        SINGLE|            TWO|          ONE_YEAR|             test |   xiaoming|      null|        null|  null|    null|       null|      null|        null|                null|         null|               null|                 NEW|  null|2017-04-25 03:31:...|2017-04-25 03:31:...| null|             | 6655443322117788|           null|        11|   9|2020|\n",
      "|2020-08-01 23:59:59|100019|     100021|     100019| xiaoming test 6|  MALE|ee067128bd4b00291...|            KTP|DKI Jakarta|Kota Jakarta Utara|         Koja|   Rawa Badak Utara|               tttt |          SLTP|        SINGLE|            TWO|          ONE_YEAR|             test |   xiaoming|      null|        null|  null|    null|       null|      null|        null|                null|         null|               null|                 NEW|  null|2017-04-25 03:31:...|2017-04-25 03:31:...| null|             | 6655443322117788|           null|        11|   9|2020|\n",
      "+-------------------+------+-----------+-----------+----------------+------+--------------------+---------------+-----------+------------------+-------------+-------------------+--------------------+--------------+--------------+---------------+------------------+------------------+-----------+----------+------------+------+--------+-----------+----------+------------+--------------------+-------------+-------------------+--------------------+------+--------------------+--------------------+-----+-------------+-----------------+---------------+----------+----+----+\n",
      "only showing top 20 rows\n",
      "\n",
      "None\n",
      "None\n",
      "None\n",
      "None\n",
      "None\n",
      "None\n",
      "None\n",
      "None\n",
      "None\n",
      "None\n",
      "None\n",
      "None\n",
      "None\n",
      "None\n",
      "None\n",
      "None\n",
      "None\n",
      "None\n",
      "None\n",
      "None\n",
      "None\n",
      "None\n",
      "None\n",
      "None\n",
      "None\n",
      "None\n",
      "None\n",
      "None\n",
      "None\n",
      "None\n",
      "None\n",
      "None\n",
      "None\n",
      "None\n",
      "None\n",
      "None\n",
      "None\n",
      "None\n",
      "None\n",
      "None\n",
      "None\n",
      "None\n",
      "None\n",
      "None\n",
      "None\n",
      "None\n",
      "None\n",
      "None\n",
      "None\n",
      "None\n",
      "None\n",
      "None\n",
      "None"
     ]
    }
   ],
   "source": [
    "import sys\n",
    "#notification导表到notification_etl_s3\n",
    "def install():\n",
    "    sc.uninstall_package('boto3')\n",
    "    sc.install_pypi_package(\"boto3\")\n",
    "install()\n",
    "from concurrent import futures\n",
    "import numpy as np\n",
    "from pyspark.sql import SparkSession\n",
    "from datetime import datetime,timedelta\n",
    "import pytz\n",
    "import boto3\n",
    "import json\n",
    "import pytz\n",
    "import hmac\n",
    "import pyspark.sql.functions as F\n",
    "from hashlib import sha256 \n",
    "from pyspark.sql.functions import col\n",
    "from pyspark.sql import types as T\n",
    "from pyspark.sql.functions import lit\n",
    "from pyspark.sql.types import StringType\n",
    "\n",
    "# print(datetime.now(pytz.timezone(\"Asia/Shanghai\")).strftime( '%Y-%m-%d'))\n",
    "today=(datetime.now()+ timedelta(-1)).strftime( '%Y-%m-%d')\n",
    "yesterday=(datetime.now(pytz.timezone(\"Asia/Shanghai\"))+ timedelta(-1)).strftime( '%Y-%m-%d')\n",
    "tablemap={\"banda_stream_etl\":\"banda\"} #,\n",
    "# ,\"banda_stream_etl\":\"1\"\n",
    "tablesql_1=\" FROM  (   SELECT    *  , row_number() OVER (PARTITION BY id  ORDER BY date_format(etldate,'yyyy-MM-dd HH:mm:ss.SSS') DESC  , if(etlindex is null ,0,etlindex)  desc)  row_num FROM  \"\n",
    "tablesql_2=\" ORDER BY id  ASC )  a  WHERE a.row_num = 1   AND a.kind <> 'delete' \"\n",
    "# 替换手机号\n",
    "def get_secret_obj():\n",
    "    df=spark.read.text(\"s3://rupiahplus-configs/etl/data_secrt/col.json\").collect()\n",
    "    keymap=''\n",
    "    for  row in df:\n",
    "        keymap=keymap+row['value']\n",
    "    json_content=json.loads(keymap)\n",
    "    return json_content\n",
    "colmap= get_secret_obj()\n",
    "print(colmap)\n",
    "mobileType=colmap[\"mobileType\"]\n",
    "def getRelmobile(colNm,str):\n",
    "    if colNm in mobileType:\n",
    "        relmobile = str.strip().replace(\"+\", \"\").replace(\"-\", \"\").replace(\" \", \"\").replace('\"', '')\n",
    "        if (relmobile.startswith(\"62\")):\n",
    "            relmobile = relmobile.replace(\"62\", \"0\",1)\n",
    "        if relmobile.startswith(\"0\") == False:\n",
    "            relmobile = \"0\" + relmobile;\n",
    "        return relmobile\n",
    "    return str\n",
    "# hmac_256加密\n",
    "def hmac_sha256(key,colNm,value):\n",
    "    if value!=None:\n",
    "#         处理手机号\n",
    "        rtn=getRelmobile(colNm,value)\n",
    "        h = hmac.new(key.encode('utf-8'),digestmod=sha256)\n",
    "        h.update(rtn.encode('utf-8'))\n",
    "        h_str = h.hexdigest()\n",
    "        return h_str\n",
    "    return \"\"\n",
    "spark.udf.register(\"hmac_sha256\",hmac_sha256,T.StringType())\n",
    "def getTableColum(b):\n",
    "    colum=\"\"\n",
    "    for index in range(len(b)):\n",
    "        if(index>0 and index<len(b)-8):   \n",
    "            colum=colum+setDef(b[index][\"data_type\"],b[index][\"col_name\"])+\", \"\n",
    "    return colum[0:len(colum)-2]\n",
    "def setDef(type,table_col):\n",
    "    if(type[:7] == 'decimal'):\n",
    "        return \"ifnull(\"+table_col+\",0) as \"+table_col\n",
    "    else:\n",
    "        return table_col\n",
    "def add_secret_col(dbType,tableNm,col):\n",
    "    secret_Col=[]\n",
    "    if colmap.get(dbType)!=None and colmap[dbType]!=None and colmap[dbType].get(tableNm)!=None:\n",
    "        secret_Col=colmap[tablemap[databaseName]][tableNm]\n",
    "    sh256Col =col\n",
    "    hmac_key=colmap[\"hmac_key\"]\n",
    "#     sql=\"select hmac_sha256('{hmac_key}','123456789') as sh2\".format(hmac_key=hmac_key)\n",
    "    for i in secret_Col:\n",
    "        sh256Col=sh256Col+ \", hmac_sha256('{hmac_key}','\"+i+\"', \"+i+\") \"+ i+\"_x\"\n",
    "    return sh256Col.format(hmac_key=hmac_key)\n",
    "def make_col_temptable(databaseName,row):\n",
    "    tableName=row[\"tableName\"]\n",
    "    if tableName=='t_personal_info' or tableName=='t_admin_group_rel' or tableName=='t_customer':\n",
    "        tablecolum=\"desc \" +databaseName+\".\"+tableName;\n",
    "        tableSchema= spark.sql(tablecolum).collect()\n",
    "        tablepath=\"s3://rupiahplus-data-warehouse/aliyun/\"+tablemap[databaseName]+\"/\"+row[\"tableName\"]\n",
    "        spark.catalog.refreshTable(databaseName+\".\"+tableName)\n",
    "        secret_sql=add_secret_col(tablemap[databaseName],tableName,getTableColum(tableSchema))+\", year\"\n",
    "        sql=\"select \"+secret_sql+ tablesql_1+databaseName+\".\"+tableName+tablesql_2\n",
    "#         print(sql)\n",
    "        df=spark.sql(sql).drop(\"etlindex\")\n",
    "        if colmap.get(tablemap[databaseName]) and colmap[tablemap[databaseName]].get(tableName)!=None :\n",
    "            for i in colmap[tablemap[databaseName]][tableName]:\n",
    "                df=df.withColumn(\"col_x\",F.col(i+\"_x\")).withColumn(i+\"_x\",F.col(i)).withColumn(i,F.col(\"col_x\"))\n",
    "        #     增加特殊列\n",
    "        df=df.drop(\"col_x\")\n",
    "        if colmap[\"extraColumn\"]!=None and colmap[\"extraColumn\"].get(dbtype)!=None and colmap[\"extraColumn\"][dbtype].get(tableName)!=None and len(colmap[\"extraColumn\"][dbtype][tableName])>0:\n",
    "            colmap[\"extraColumn\"][dbtype][tableName].insert(0,\"*\")\n",
    "            df=df.selectExpr(colmap[\"extraColumn\"][dbtype][tableName])\n",
    "            df=df.withColumn(\"year_new\",F.col(\"year\")).drop(\"year\").withColumnRenamed(\"year_new\",\"year\")\n",
    "        df.show()\n",
    "#         \n",
    "#         df.drop(\"col_x\").write.mode(\"overwrite\").partitionBy(\"year\").orc(tablepath)\n",
    "if __name__ == \"builtins\":\n",
    "#     注册udf\n",
    "    spark.udf.register(\"hmac_sha256\",hmac_sha256,T.StringType())\n",
    "    spark = SparkSession\\\n",
    "        .builder\\\n",
    "        .appName(\"Python Demo\")\\\n",
    "        .config(\"hive.metastore.client.factory.class\", \"com.amazonaws.glue.catalog.metastore.AWSGlueDataCatalogHiveClientFactory\") \\\n",
    "        .enableHiveSupport()\\\n",
    "        .getOrCreate()\n",
    "#     spark.conf.set(\"spark.scheduler.mode\",\"FAIR\")\n",
    "    spark.conf.set(\"spark.sql.shuffle.partitions\",20)\n",
    "    for databaseName in tablemap:\n",
    "        print(databaseName)\n",
    "        databasesql=\"show tables in \"+databaseName\n",
    "        tables=spark.sql(databasesql)\n",
    "        tablelist=tables.collect();\n",
    "        executor=None\n",
    "        with futures.ThreadPoolExecutor(max_workers=10) as executor:\n",
    "            futures_result=futures.wait([executor.submit(make_col_temptable,databaseName, tableNm) for tableNm in tablelist])\n",
    "            for  future in futures_result[0]:\n",
    "                print(future.result())"
   ]
  },
  {
   "cell_type": "code",
   "execution_count": null,
   "metadata": {},
   "outputs": [
    {
     "data": {
      "application/vnd.jupyter.widget-view+json": {
       "model_id": "9a54b5da65d947ee9f9ac222625feb43",
       "version_major": 2,
       "version_minor": 0
      },
      "text/plain": [
       "VBox()"
      ]
     },
     "metadata": {},
     "output_type": "display_data"
    },
    {
     "data": {
      "application/vnd.jupyter.widget-view+json": {
       "model_id": "d97359230391402199f79aa0da611af4",
       "version_major": 2,
       "version_minor": 0
      },
      "text/plain": [
       "FloatProgress(value=0.0, bar_style='info', description='Progress:', layout=Layout(height='25px', width='50%'),…"
      ]
     },
     "metadata": {},
     "output_type": "display_data"
    }
   ],
   "source": [
    "import sys\n",
    "from concurrent import futures\n",
    "import numpy as np\n",
    "from pyspark.sql import SparkSession\n",
    "import pyspark.sql.functions as F\n",
    "from datetime import datetime,timedelta\n",
    "import copy\n",
    "import json\n",
    "import pytz\n",
    "import hmac\n",
    "from hashlib import sha256 \n",
    "from pyspark.sql.functions import col\n",
    "from pyspark.sql.functions import lit\n",
    "from pyspark.sql.types import StringType\n",
    "from pyspark.sql import types as T\n",
    "spark = SparkSession\\\n",
    "    .builder\\\n",
    "    .appName(\"Python Demo\")\\\n",
    "    .config(\"hive.metastore.client.factory.class\", \"com.amazonaws.glue.catalog.metastore.AWSGlueDataCatalogHiveClientFactory\") \\\n",
    "    .config(\"spark.driver.maxResultSize\", \"4g\") \\\n",
    "    .enableHiveSupport()\\\n",
    "    .getOrCreate()\n",
    "spark.conf.set(\"hive.exec.dynamic.partition.mode\",\"nonstrict\");\n",
    "spark.conf.set(\"spark.sql.sources.partitionOverwriteMode\", \"dynamic\")\n",
    "spark.conf.set(\"spark.sql.shuffle.partitions\",20)\n",
    "spark.conf.set(\"spark.files.overwrite\",\"true\")\n",
    "#     ,Apache Arrow：一个跨平台的在内存中以列式存储的数据层，用来加速大数据分析速度。其可以一次性传入更大块的数据，pyspark中已经有载入该模块，需要打开该设置：\n",
    "spark.conf.set(\"spark.sql.execution.arrow.enabled\", \"true\")\n",
    "#     创建表时自动删除已存在的目录\n",
    "spark.conf.set(\"spark.sql.legacy.allowCreatingManagedTableUsingNonemptyLocation\",\"true\")\n",
    "dbmap={\n",
    "    \"banda\":{\n",
    "        \"increment_database\":\"banda_stream_etl\",\n",
    "        \"database\":\"banda-etl-s3\",\n",
    "        \"realTime_path\":\"banda\"\n",
    "    }\n",
    "}\n",
    "nowdate=(datetime.now()).strftime('%Y-%m-%d')\n",
    "yesterday=(datetime.now()+ timedelta(-1)).strftime('%Y-%m-%d')\n",
    "sqltemp=\"\"\"with {update_snapshot_table} as (\n",
    "  select *\n",
    "    from (\n",
    "      SELECT * ,\n",
    "         row_number() OVER (PARTITION BY id ORDER BY date_format(etldate,'yyyy-MM-dd HH:mm:ss.SSS') DESC, if(etlindex is NULL, 0, etlindex) desc) row_num\n",
    "         FROM `{increment_database}`.`{tableNm}`\n",
    "         where date(year || '-' || month || '-' || day) <=date('{nowdate}') and date(year || '-' || month || '-' || day) >= date('{yesterday}')\n",
    "      and date_format(etldate,'yyyy-MM-dd HH:mm:ss.SSS') >= (SELECT max(date_format(etldate, 'yyyy-MM-dd HH:mm:ss.SSS')) from  `{database}`.`{tableNm}`) \n",
    "      )\n",
    "    where row_num = 1\n",
    "  )\n",
    "select  {select_sql} \n",
    "from `{database}`.`{tableNm}` l\n",
    "left join {update_snapshot_table}\n",
    "on l.id = {update_snapshot_table}.id\n",
    "where if({update_snapshot_table}.kind is not null,{update_snapshot_table}.kind,'') <> 'delete'\n",
    "union\n",
    "select {update_snapshot_sql} from (\n",
    "  select *\n",
    "  from `{increment_database}`.`{tableNm}`\n",
    "  where\n",
    "    date(year || '-' || month || '-' || day) <=date('{nowdate}') and date(year || '-' || month || '-' || day) >= date('{yesterday}')\n",
    "    and date_format(etldate,'yyyy-MM-dd HH:mm:ss.SSS') >= (SELECT max(date_format(etldate, 'yyyy-MM-dd HH:mm:ss.SSS')) from  `{database}`.`{tableNm}`) \n",
    "    and kind = 'insert'\n",
    "  ) new\n",
    "left join {update_snapshot_table}\n",
    "on new.id = {update_snapshot_table}.id where if({update_snapshot_table}.kind is not null,{update_snapshot_table}.kind,'') <> 'delete' \"\"\"\n",
    "def get_secret_obj():\n",
    "    df=spark.read.text(\"s3://rupiahplus-configs/etl/data_secrt/col.json\").collect()\n",
    "    keymap=''\n",
    "    for  row in df:\n",
    "        keymap=keymap+row['value']\n",
    "    json_content=json.loads(keymap)\n",
    "    return json_content\n",
    "colmap= get_secret_obj()   \n",
    "hmac_key=colmap[\"hmac_key\"]\n",
    "mobileType=colmap[\"mobileType\"]\n",
    "def getRelmobile(colNm,str):\n",
    "    if colNm in mobileType:\n",
    "        relmobile = str.strip().replace(\"+\", \"\").replace(\"-\", \"\").replace(\" \", \"\").replace('\"', '')\n",
    "        if (relmobile.startswith(\"62\")):\n",
    "            relmobile = relmobile.replace(\"62\", \"0\",1)\n",
    "        if relmobile.startswith(\"0\") == False:\n",
    "            relmobile = \"0\" + relmobile;\n",
    "        return relmobile\n",
    "    return str\n",
    "# hmac_256加密\n",
    "def hmac_sha256(key,colNm,value):\n",
    "    if value!=None and value!='':\n",
    "#         处理手机号\n",
    "        rtn=getRelmobile(colNm,value)\n",
    "        h = hmac.new(key.encode('utf-8'),digestmod=sha256)\n",
    "        h.update(rtn.encode('utf-8'))\n",
    "        h_str = h.hexdigest()\n",
    "        return h_str\n",
    "spark.udf.register(\"hmac_sha256\",hmac_sha256,T.StringType())\n",
    "def getTableColum(b,update_snapshot_table,dbtype,tableNm):\n",
    "    colum=\"\"\n",
    "    snapshot_colum=\"\"\n",
    "    sqlstrtemp=\"if({update_snapshot_table}.id is null, {colNm}     , {snapshot_colNm})  {ascolNm} ,\"\n",
    "    sqlstr_secret_temp=\" if({update_snapshot_table}.id is null, {colNm}     , hmac_sha256('{hmac_key}','{ascolNm}',{snapshot_colNm})) {ascolNm}_x , \"\n",
    "    for index in range(len(b)):\n",
    "        if(index==1 or (index>2 and index<len(b)-7)):\n",
    "#             print(index,b[index])\n",
    "#             在year前面加上加密列\n",
    "            if(index==len(b)-8) and colmap[dbtype]!=None and colmap[dbtype].get(tableNm)!=None:\n",
    "                for secret_col in colmap[dbtype][tableNm]:\n",
    "                    sqlstr=copy.copy(sqlstr_secret_temp)\n",
    "                    colum=colum+sqlstr.format(colNm=setDef(\"string\",secret_col,False),snapshot_colNm=setDef(\"string\",secret_col,True),ascolNm=secret_col,update_snapshot_table=update_snapshot_table,hmac_key=hmac_key)\n",
    "                    snapshot_colum=snapshot_colum+setsecret_SnapshotDef(secret_col).format(update_snapshot_table=update_snapshot_table,hmac_key=hmac_key)+\" ,\"\n",
    "            sqlstr=copy.copy(sqlstrtemp)\n",
    "            colum=colum+sqlstr.format(colNm=isX(dbtype,tableNm,setDef(b[index][\"data_type\"],b[index][\"col_name\"],False)),snapshot_colNm=setDef(b[index][\"data_type\"],b[index][\"col_name\"],True),ascolNm=b[index][\"col_name\"],update_snapshot_table=update_snapshot_table)\n",
    "            snapshot_colum=snapshot_colum+setSnapshotDef(b[index][\"data_type\"],b[index][\"col_name\"]).format(update_snapshot_table=update_snapshot_table)+\" ,\"\n",
    "    return colum[0:len(colum)-2],snapshot_colum[0:len(snapshot_colum)-2]\n",
    "def isX(type,table,column):\n",
    "    columnList=column.split(\".\")\n",
    "    if len(columnList)>0 and colmap[type].get(table)!=None and columnList[len(columnList)-1] in colmap[type][table]:\n",
    "        return column+\"_x\"\n",
    "    return column\n",
    "def setDef(type,table_col,is_snapshot):\n",
    "    table_col_x=copy.copy(table_col)\n",
    "    if(type[:7] == 'decimal'):\n",
    "        if is_snapshot:\n",
    "            return \"ifnull({update_snapshot_table}.\"+table_col_x+\",0)  \"\n",
    "        else:\n",
    "            return \"ifnull(l.\"+table_col_x+\",0) \"\n",
    "    else:\n",
    "        if is_snapshot:\n",
    "            return \"{update_snapshot_table}.\"+table_col_x\n",
    "        else:\n",
    "            return \"l.\"+table_col_x\n",
    "def setSnapshotDef(type,table_col):\n",
    "    table_col_x=copy.copy(table_col)\n",
    "    if(type[:7] == 'decimal'):\n",
    "        return \"ifnull({update_snapshot_table}.\"+table_col_x+\",0) \"+table_col\n",
    "    else:\n",
    "        return \"{update_snapshot_table}.\"+table_col_x\n",
    "def setsecret_SnapshotDef(table_col):\n",
    "    table_col_x=copy.copy(table_col)\n",
    "#     print(\"hmac_sha256('{hmac_key}','\"+table_col_x+\"', {update_snapshot_table}.\"+table_col_x+\") \"+ table_col_x+\"_x\")\n",
    "    return \"hmac_sha256('{hmac_key}','\"+table_col_x+\"', {update_snapshot_table}.\"+table_col_x+\") \"+ table_col_x+\"_x\"\n",
    "#     return \"sha2({update_snapshot_table}.\"+table_col+\",256) \" +table_col+\"_x\"\n",
    "def execute(tablerow,dbtype):\n",
    "#     print(tablerow,dbtype)\n",
    "    tableName=tablerow[\"tableName\"]\n",
    "    if tableName=='t_personal_info' or tableName=='t_admin_group_rel' or tableName=='t_customer':\n",
    "        update_snapshot_table=\"update_snapshot_\"+dbtype+\"_\"+tableName\n",
    "        spark.catalog.refreshTable(\"`\"+dbmap[dbtype][\"database\"]+\"`.\"+tableName)\n",
    "        col=spark.sql(\"desc `\"+dbmap[dbtype][\"increment_database\"]+\"`.\"+tableName).collect()\n",
    "        #     #真正的列,增量的列\n",
    "        real_col,snapshot_col=getTableColum(col,update_snapshot_table,dbtype,tableName)\n",
    "        sql=copy.copy(sqltemp)\n",
    "        real_sql=sql.format(increment_database=dbmap[dbtype][\"increment_database\"],tableNm=tableName,nowdate=nowdate,select_sql=real_col.format(update_snapshot_table=update_snapshot_table),update_snapshot_sql=snapshot_col.format(update_snapshot_table=update_snapshot_table),database=dbmap[dbtype][\"database\"],yesterday=yesterday,update_snapshot_table=update_snapshot_table,hmac_key=hmac_key)\n",
    "        df=spark.sql(real_sql).drop(\"etlindex\")\n",
    "        if colmap[dbtype].get(tableName)!=None :\n",
    "            for i in colmap[dbtype][tableName]:\n",
    "                df=df.withColumn(\"col_x\",F.col(i+\"_x\")).withColumn(i+\"_x\",F.col(i)).withColumn(i,F.col(\"col_x\"))\n",
    "        df=df.drop(\"col_x\")\n",
    "        if colmap[\"extraColumn\"]!=None and colmap[\"extraColumn\"].get(dbtype)!=None and colmap[\"extraColumn\"][dbtype].get(tableName)!=None and len(colmap[\"extraColumn\"][dbtype][tableName])>0:\n",
    "            colmap[\"extraColumn\"][dbtype][tableName].insert(0,\"*\")\n",
    "            df=df.selectExpr(colmap[\"extraColumn\"][dbtype][tableName])\n",
    "            df=df.withColumn(\"year_new\",F.col(\"year\")).drop(\"year\").withColumnRenamed(\"year_new\",\"year\")\n",
    "        df.show()\n",
    "    #     df.drop(\"col_x\").write.mode(\"overwrite\").partitionBy(\"year\").format(\"orc\").saveAsTable(\"etl_s3_temp.\"+dbtype+\"_\"+tableName);\n",
    "    #     tablepath='s3://rupiahplus-data-warehouse/aliyun/'+dbmap[dbtype][\"realTime_path\"]+'/'+tableName+\"/\"\n",
    "    #     spark.sql(\"select  * from  \"+\"etl_s3_temp.\"+dbtype+\"_\"+tableName).write.mode(\"overwrite\").partitionBy(\"year\").orc(tablepath)\n",
    "if __name__ == \"builtins\":\n",
    "    print(\"start-----\",datetime.now())\n",
    "    for dbtype in dbmap:\n",
    "        databasesql=\"show tables in \"+dbmap[dbtype][\"increment_database\"]\n",
    "        tables=spark.sql(databasesql)\n",
    "        tablelist=tables.collect();\n",
    "    #         for row in tablelist:\n",
    "        executor=None\n",
    "        with futures.ThreadPoolExecutor(max_workers=10) as executor:\n",
    "            futures_result=futures.wait([executor.submit(execute, table,dbtype) for table in tablelist])\n",
    "            for  future in futures_result[0]:\n",
    "                print(future.result())\n",
    "                print(\"end-----\",datetime.now())"
   ]
  },
  {
   "cell_type": "code",
   "execution_count": 1,
   "metadata": {},
   "outputs": [
    {
     "data": {
      "application/vnd.jupyter.widget-view+json": {
       "model_id": "253a5cae05c04fcfb0cf3f3d181626dc",
       "version_major": 2,
       "version_minor": 0
      },
      "text/plain": [
       "VBox()"
      ]
     },
     "metadata": {},
     "output_type": "display_data"
    },
    {
     "name": "stdout",
     "output_type": "stream",
     "text": [
      "Starting Spark application\n"
     ]
    },
    {
     "data": {
      "text/html": [
       "<table>\n",
       "<tr><th>ID</th><th>YARN Application ID</th><th>Kind</th><th>State</th><th>Spark UI</th><th>Driver log</th><th>Current session?</th></tr><tr><td>6</td><td>application_1603851421330_0007</td><td>pyspark</td><td>idle</td><td><a target=\"_blank\" href=\"http://ip-172-31-0-236.ap-southeast-1.compute.internal:20888/proxy/application_1603851421330_0007/\">Link</a></td><td><a target=\"_blank\" href=\"http://ip-172-31-13-212.ap-southeast-1.compute.internal:8042/node/containerlogs/container_1603851421330_0007_01_000001/livy\">Link</a></td><td>✔</td></tr></table>"
      ],
      "text/plain": [
       "<IPython.core.display.HTML object>"
      ]
     },
     "metadata": {},
     "output_type": "display_data"
    },
    {
     "data": {
      "application/vnd.jupyter.widget-view+json": {
       "model_id": "",
       "version_major": 2,
       "version_minor": 0
      },
      "text/plain": [
       "FloatProgress(value=0.0, bar_style='info', description='Progress:', layout=Layout(height='25px', width='50%'),…"
      ]
     },
     "metadata": {},
     "output_type": "display_data"
    },
    {
     "name": "stdout",
     "output_type": "stream",
     "text": [
      "SparkSession available as 'spark'.\n"
     ]
    },
    {
     "data": {
      "application/vnd.jupyter.widget-view+json": {
       "model_id": "",
       "version_major": 2,
       "version_minor": 0
      },
      "text/plain": [
       "FloatProgress(value=0.0, bar_style='info', description='Progress:', layout=Layout(height='25px', width='50%'),…"
      ]
     },
     "metadata": {},
     "output_type": "display_data"
    },
    {
     "name": "stdout",
     "output_type": "stream",
     "text": [
      "\n",
      "Collecting boto3\n",
      "  Using cached boto3-1.16.6-py2.py3-none-any.whl (129 kB)\n",
      "Requirement already satisfied: jmespath<1.0.0,>=0.7.1 in /usr/local/lib/python3.6/site-packages (from boto3) (0.9.4)\n",
      "Collecting botocore<1.20.0,>=1.19.6\n",
      "  Using cached botocore-1.19.6-py2.py3-none-any.whl (6.7 MB)\n",
      "Collecting s3transfer<0.4.0,>=0.3.0\n",
      "  Using cached s3transfer-0.3.3-py2.py3-none-any.whl (69 kB)\n",
      "Collecting urllib3<1.26,>=1.25.4; python_version != \"3.4\"\n",
      "  Using cached urllib3-1.25.11-py2.py3-none-any.whl (127 kB)\n",
      "Collecting python-dateutil<3.0.0,>=2.1\n",
      "  Using cached python_dateutil-2.8.1-py2.py3-none-any.whl (227 kB)\n",
      "Requirement already satisfied: six>=1.5 in /usr/local/lib/python3.6/site-packages (from python-dateutil<3.0.0,>=2.1->botocore<1.20.0,>=1.19.6->boto3) (1.12.0)\n",
      "Installing collected packages: urllib3, python-dateutil, botocore, s3transfer, boto3\n",
      "Successfully installed boto3-1.16.6 botocore-1.19.6 python-dateutil-2.8.1 s3transfer-0.3.3 urllib3-1.25.11\n",
      "\n",
      "{'hmac_key': 'xUIAZ3grtPOxaPNK', 'luzon': {'t_auto_review_loan': ['ktp', 'mobile'], 't_bankcard': ['card_no'], 't_contact': ['mobile', 'credential_no'], 't_customer': ['mobile', 'imei'], 't_loan_app': ['credential_no'], 't_personal_info': ['credential_no', 'email'], 't_record_contact': ['mobile'], 't_record_personal_info': ['credential_no']}, 'banda': {'t_personal_info': ['credential_no']}}\n",
      "+----------------------------------------------------------------+----------------------------------------------------------------+\n",
      "|sh2                                                             |num                                                             |\n",
      "+----------------------------------------------------------------+----------------------------------------------------------------+\n",
      "|f20a8803ee92296b58cbbe82cc6d93f56cec365dab82d2434be990770739dcc8|f20a8803ee92296b58cbbe82cc6d93f56cec365dab82d2434be990770739dcc8|\n",
      "+----------------------------------------------------------------+----------------------------------------------------------------+\n",
      "\n",
      "WARNING: Skipping boto3 as it is not installed."
     ]
    }
   ],
   "source": [
    "import sys\n",
    "def install():\n",
    "    sc.uninstall_package('boto3')\n",
    "    sc.install_pypi_package(\"boto3\")\n",
    "install()\n",
    "import hmac\n",
    "from hashlib import sha256 \n",
    "from pyspark.sql.functions import udf\n",
    "from pyspark.sql.functions import lit\n",
    "from pyspark.sql import types as T\n",
    "import pyspark.sql.functions as F\n",
    "from pyspark.sql.column import Column\n",
    "import boto3\n",
    "import json\n",
    "def get_secret_obj():\n",
    "    df=spark.read.text(\"s3://rupiahplus-configs/etl/data_secrt/col.json\").collect()\n",
    "    keymap=''\n",
    "    for  row in df:\n",
    "        keymap=keymap+row['value']\n",
    "    json_content=json.loads(keymap)\n",
    "    return json_content\n",
    "colmap= get_secret_obj()\n",
    "def hmac_sha256(key,value):\n",
    "    if value!=None:\n",
    "        h = hmac.new(key.encode('utf-8'),digestmod=sha256)\n",
    "        h.update(str(value).encode('utf-8'))\n",
    "        h_str = h.hexdigest()\n",
    "        return h_str\n",
    "spark.udf.register(\"hmac_sha256\",hmac_sha256,T.StringType())\n",
    "hmac_sha256=udf(hmac_sha256,returnType=T.StringType())\n",
    "\n",
    "hmac_key=colmap[\"hmac_key\"]\n",
    "sql=\"select hmac_sha256('{hmac_key}','123456789') as sh2,'123456789' as num \".format(hmac_key=hmac_key)\n",
    "df=spark.sql(sql)\n",
    "\n",
    "df.withColumn('num',hmac_sha256(lit(hmac_key),F.col('num'))).show(1,False)\n",
    "\n",
    "\n"
   ]
  },
  {
   "cell_type": "code",
   "execution_count": 6,
   "metadata": {},
   "outputs": [
    {
     "data": {
      "application/vnd.jupyter.widget-view+json": {
       "model_id": "bb895965b2f040398bb059d859eddc9c",
       "version_major": 2,
       "version_minor": 0
      },
      "text/plain": [
       "VBox()"
      ]
     },
     "metadata": {},
     "output_type": "display_data"
    },
    {
     "data": {
      "application/vnd.jupyter.widget-view+json": {
       "model_id": "",
       "version_major": 2,
       "version_minor": 0
      },
      "text/plain": [
       "FloatProgress(value=0.0, bar_style='info', description='Progress:', layout=Layout(height='25px', width='50%'),…"
      ]
     },
     "metadata": {},
     "output_type": "display_data"
    },
    {
     "name": "stdout",
     "output_type": "stream",
     "text": [
      "hmac_sha256('{hmac_key}','name', {update_snapshot_table}.name) name_x"
     ]
    }
   ],
   "source": [
    "# def get_secret_obj():\n",
    "#     s3 = boto3.resource('s3')\n",
    "#     # s3://rupiahplus-configs/etl/data_secrt/format.1602818198787.json\n",
    "#     content_object = s3.Object('rupiahplus-configs', 'etl/data_secrt/col.json')\n",
    "#     file_content = content_object.get()['Body'].read().decode('utf-8')\n",
    "#     json_content = json.loads(file_content)\n",
    "#     print(json_content) \n",
    "#     return json_content\n",
    "# import json\n",
    "# df=spark.read.text(\"s3://rupiahplus-configs/etl/data_secrt/col.json\").collect()\n",
    "# keymap=''\n",
    "# for  row in df:\n",
    "#     keymap=keymap+row['value']\n",
    "# json_content=json.loads(keymap)\n",
    "# print(json_content['hmac_key']) \n",
    "table_col='name'\n",
    "print(\"hmac_sha256('{hmac_key}','\"+table_col+\"', {update_snapshot_table}.\"+table_col+\") \"+ table_col+\"_x\")"
   ]
  },
  {
   "cell_type": "code",
   "execution_count": 20,
   "metadata": {},
   "outputs": [
    {
     "data": {
      "application/vnd.jupyter.widget-view+json": {
       "model_id": "06562b0287ad4157bac6eab37bf234ca",
       "version_major": 2,
       "version_minor": 0
      },
      "text/plain": [
       "VBox()"
      ]
     },
     "metadata": {},
     "output_type": "display_data"
    },
    {
     "data": {
      "application/vnd.jupyter.widget-view+json": {
       "model_id": "",
       "version_major": 2,
       "version_minor": 0
      },
      "text/plain": [
       "FloatProgress(value=0.0, bar_style='info', description='Progress:', layout=Layout(height='25px', width='50%'),…"
      ]
     },
     "metadata": {},
     "output_type": "display_data"
    },
    {
     "name": "stdout",
     "output_type": "stream",
     "text": [
      "2020-11-09 10:16:28.554928"
     ]
    }
   ],
   "source": [
    "# spark.sql(\"\"\"\n",
    "# select * from luzon_stream_etl.t_contact where id =752448\n",
    "# \"\"\").show()\n",
    "import datetime\n",
    "print(datetime.datetime.now())"
   ]
  },
  {
   "cell_type": "code",
   "execution_count": 12,
   "metadata": {},
   "outputs": [
    {
     "data": {
      "application/vnd.jupyter.widget-view+json": {
       "model_id": "94b0a3042026413c8279122e0a746858",
       "version_major": 2,
       "version_minor": 0
      },
      "text/plain": [
       "VBox()"
      ]
     },
     "metadata": {},
     "output_type": "display_data"
    },
    {
     "data": {
      "application/vnd.jupyter.widget-view+json": {
       "model_id": "",
       "version_major": 2,
       "version_minor": 0
      },
      "text/plain": [
       "FloatProgress(value=0.0, bar_style='info', description='Progress:', layout=Layout(height='25px', width='50%'),…"
      ]
     },
     "metadata": {},
     "output_type": "display_data"
    },
    {
     "name": "stdout",
     "output_type": "stream",
     "text": [
      "+-------+----------------+----------+---+--------------+\n",
      "|id     |credential_no_x |birth_year|age|current_date()|\n",
      "+-------+----------------+----------+---+--------------+\n",
      "|7544402|3213032603900002|90        |30 |2020-11-23    |\n",
      "+-------+----------------+----------+---+--------------+"
     ]
    }
   ],
   "source": [
    "spark.sql(\"\"\"\n",
    "\n",
    "SELECT id,\n",
    "credential_no_x,\n",
    "         cast(substring(credential_no_x,\n",
    "         11,\n",
    "         2) AS bigint) birth_year,\n",
    "        \n",
    "    CASE\n",
    "    WHEN cast(substring(credential_no_x, 11, 2) AS bigint) > 37 THEN\n",
    "    (year(current_date()) - cast(substring(credential_no_x, 11, 2) AS bigint) - 1900)\n",
    "    ELSE (year(current_date()) - cast(substring(credential_no_x, 11, 2) AS bigint) - 2000)\n",
    "    END age,\n",
    "    current_date()\n",
    "FROM `banda-etl-s3`.t_personal_info\n",
    "WHERE id=7544402\n",
    "\"\"\").show(1,False)"
   ]
  },
  {
   "cell_type": "code",
   "execution_count": 29,
   "metadata": {},
   "outputs": [
    {
     "data": {
      "application/vnd.jupyter.widget-view+json": {
       "model_id": "7fd8dd7e439e426da50fee16b0ce0285",
       "version_major": 2,
       "version_minor": 0
      },
      "text/plain": [
       "VBox()"
      ]
     },
     "metadata": {},
     "output_type": "display_data"
    },
    {
     "data": {
      "application/vnd.jupyter.widget-view+json": {
       "model_id": "",
       "version_major": 2,
       "version_minor": 0
      },
      "text/plain": [
       "FloatProgress(value=0.0, bar_style='info', description='Progress:', layout=Layout(height='25px', width='50%'),…"
      ]
     },
     "metadata": {},
     "output_type": "display_data"
    },
    {
     "name": "stdout",
     "output_type": "stream",
     "text": [
      "{'birth_year': 'cast(substring(credential_no_x, 11, 2) AS bigint)', 'age': 'CASE WHEN cast(substring(credential_no_x, 11, 2) AS bigint) > 37 THEN (year(current_date()) - cast(substring(credential_no_x, 11, 2) AS bigint) - 1900) ELSE (year(current_date()) - cast(substring(credential_no_x, 11, 2) AS bigint) - 2000) END '}\n",
      "birth_year\n",
      "age"
     ]
    }
   ],
   "source": [
    "colnum={\n",
    "        \"extraColumn\": {\n",
    "        \"banda\": {\n",
    "            \"t_personal_info\": \n",
    "                {\n",
    "                    \"birth_year\": \"cast(substring(credential_no_x, 11, 2) AS bigint)\",\n",
    "                    \"age\": \"CASE WHEN cast(substring(credential_no_x, 11, 2) AS bigint) > 37 THEN (year(current_date()) - cast(substring(credential_no_x, 11, 2) AS bigint) - 1900) ELSE (year(current_date()) - cast(substring(credential_no_x, 11, 2) AS bigint) - 2000) END \"\n",
    "                }\n",
    "        }\n",
    "    },\n",
    "}\n",
    "#     print(tableNm1)\n",
    "#     a=[i, tableNm1[i]  for i in tableNm1.keys()]\n",
    "#     print(a)    \n",
    "print(colnum[\"extraColumn\"]['banda'][\"t_personal_info\"])\n",
    "for i in colnum[\"extraColumn\"]['banda'][\"t_personal_info\"]:\n",
    "    print(i)\n",
    "\n"
   ]
  }
 ],
 "metadata": {
  "kernelspec": {
   "display_name": "PySpark",
   "language": "",
   "name": "pysparkkernel"
  },
  "language_info": {
   "codemirror_mode": {
    "name": "python",
    "version": 2
   },
   "mimetype": "text/x-python",
   "name": "pyspark",
   "pygments_lexer": "python2"
  }
 },
 "nbformat": 4,
 "nbformat_minor": 4
}
