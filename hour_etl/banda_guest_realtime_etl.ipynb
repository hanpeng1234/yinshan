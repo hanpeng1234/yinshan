{
 "cells": [
  {
   "cell_type": "code",
   "execution_count": 1,
   "metadata": {},
   "outputs": [
    {
     "data": {
      "application/vnd.jupyter.widget-view+json": {
       "model_id": "31ad143c08914250a131d46fe518af76",
       "version_major": 2,
       "version_minor": 0
      },
      "text/plain": [
       "VBox()"
      ]
     },
     "metadata": {},
     "output_type": "display_data"
    },
    {
     "name": "stdout",
     "output_type": "stream",
     "text": [
      "Starting Spark application\n"
     ]
    },
    {
     "data": {
      "text/html": [
       "<table>\n",
       "<tr><th>ID</th><th>YARN Application ID</th><th>Kind</th><th>State</th><th>Spark UI</th><th>Driver log</th><th>Current session?</th></tr><tr><td>8</td><td>application_1628491789686_0011</td><td>pyspark</td><td>idle</td><td><a target=\"_blank\" href=\"http://ip-10-3-0-109.ap-southeast-1.compute.internal:20888/proxy/application_1628491789686_0011/\">Link</a></td><td><a target=\"_blank\" href=\"http://ip-10-3-0-26.ap-southeast-1.compute.internal:8042/node/containerlogs/container_1628491789686_0011_01_000001/livy\">Link</a></td><td>✔</td></tr></table>"
      ],
      "text/plain": [
       "<IPython.core.display.HTML object>"
      ]
     },
     "metadata": {},
     "output_type": "display_data"
    },
    {
     "data": {
      "application/vnd.jupyter.widget-view+json": {
       "model_id": "",
       "version_major": 2,
       "version_minor": 0
      },
      "text/plain": [
       "FloatProgress(value=0.0, bar_style='info', description='Progress:', layout=Layout(height='25px', width='50%'),…"
      ]
     },
     "metadata": {},
     "output_type": "display_data"
    },
    {
     "name": "stdout",
     "output_type": "stream",
     "text": [
      "SparkSession available as 'spark'.\n"
     ]
    },
    {
     "data": {
      "application/vnd.jupyter.widget-view+json": {
       "model_id": "",
       "version_major": 2,
       "version_minor": 0
      },
      "text/plain": [
       "FloatProgress(value=0.0, bar_style='info', description='Progress:', layout=Layout(height='25px', width='50%'),…"
      ]
     },
     "metadata": {},
     "output_type": "display_data"
    },
    {
     "name": "stdout",
     "output_type": "stream",
     "text": [
      "{'hmac_key': 'xUIAZ3grtPOxaPNK', 'mobileType': ['phone', 'phone_number', 'user_mobile', 'number', 'caller', 'callee', 'to', 'mobile_phone', 'mobile', 'backup_mobile'], 'extraColumn': {'banda': {'t_personal_info': ['cast(substring(credential_no_x, 11, 2) AS bigint) as birth_year', 'CASE WHEN cast(substring(credential_no_x, 11, 2) AS bigint) > 37 THEN (year(current_date()) - cast(substring(credential_no_x, 11, 2) AS bigint) - 1900) ELSE (year(current_date()) - cast(substring(credential_no_x, 11, 2) AS bigint) - 2000) END as age ']}}, 'luzon': {'t_auto_review_loan': ['ktp', 'mobile'], 't_bankcard': ['card_no'], 't_contact': ['mobile', 'credential_no'], 't_customer': ['mobile', 'imei'], 't_loan_app': ['credential_no'], 't_personal_info': ['credential_no', 'email'], 't_record_contact': ['mobile'], 't_record_personal_info': ['credential_no']}, 'ddb_event_track_s3': {'id_adapundi_event_track': ['nativePhoneNum', 'nativePhoneNum2', 'lineNumber']}, 'banda': {'t_admin': ['full_name'], 't_auto_review_loan': ['ktp', 'mobile'], 't_ai_rudder_schedule_mobile': ['mobile'], 't_bankcard': ['card_no', 'holder_name', 'verify_account_holder_name'], 't_bankcard_verify': ['holder_name', 'verify_account_holder_name'], 't_mobile_tag_rel': ['mobile'], 't_code': ['send_to'], 't_call_center_log': ['to_number'], 't_personal_info': ['credential_no', 'backup_mobile', 'full_name', 'family_name_in_law', 'email'], 't_review_blacklist': ['value'], 't_contact': ['mobile', 'name'], 't_customer': ['mobile', 'email'], 't_employment': ['company_phone', 'work_email'], 't_loan_app': ['credential_no', 'full_name'], 't_login_log': ['mobile'], 't_record_personal_info': ['credential_no', 'backup_mobile', 'full_name', 'family_name_in_law', 'email'], 't_record_employment': ['company_phone', 'work_email'], 't_record_contact': ['mobile', 'name'], 't_record_file': ['path'], 't_sms': ['sendto']}, 'notification': {'t_message': ['send_to']}, 'arkham': {'t_black_mobile': ['mobile'], 't_card_info': ['card_no'], 't_credential_snapshot': ['number'], 't_customer_tag_type': ['mobile'], 't_emergency_contact': ['tel_num'], 't_emergency_contact_snapshot': ['tel_num'], 't_file': ['file_url'], 't_file_snapshot': ['file_url'], 't_marketing_channel_info': ['mobile', 'credential_no'], 't_marketing_ref_info': ['credentials_no'], 't_user': ['idno', 'mobile'], 't_user_snapshot': ['idno', 'mobile']}, 'protoss': {'t_bni_bill': ['customer_phone']}, 'credinex_account': {'t_credit_balance': ['account_number', 'customer_email', 'customer_phone'], 't_credit_bill': ['customer_phone'], 't_customer_account': ['account_number', 'customer_email', 'customer_phone']}, 'credinex_repeater': {'t_risk_blacklist': ['value']}, 'telemarket': {'t_task_pool': ['mobile']}}\n",
      "builtins\n",
      "None"
     ]
    }
   ],
   "source": [
    "# from __future__ import print_function\n",
    "\n",
    "import sys\n",
    "import pyspark.sql.types as T\n",
    "import pytz\n",
    "import hashlib\n",
    "import pytz\n",
    "import re\n",
    "import hmac\n",
    "import json\n",
    "import pyspark.sql.functions as F\n",
    "from concurrent import futures\n",
    "from pyspark.sql import SparkSession\n",
    "from datetime import datetime, timedelta\n",
    "from hashlib import sha256 \n",
    "from pyspark.sql.functions import udf\n",
    "from pyspark.sql.functions import lit\n",
    "from pyspark.sql.column import Column\n",
    "dbmap = {\"banda_guest\": \"1\"}\n",
    "spark = SparkSession \\\n",
    "    .builder \\\n",
    "    .appName(\"Python Demo\") \\\n",
    "    .config(\"hive.metastore.client.factory.class\",\n",
    "            \"com.amazonaws.glue.catalog.metastore.AWSGlueDataCatalogHiveClientFactory\") \\\n",
    "    .config(\"spark.driver.maxResultSize\", \"4g\") \\\n",
    "    .enableHiveSupport() \\\n",
    "    .getOrCreate()\n",
    "spark.conf.set(\"hive.exec.dynamic.partition.mode\", \"nonstrict\");\n",
    "spark.conf.set(\"spark.sql.sources.partitionOverwriteMode\", \"dynamic\")\n",
    "# 获取加密列和加密key\n",
    "def get_secret_obj():\n",
    "    df=spark.read.text(\"s3://rupiahplus-configs/etl/data_secrt/col.json\").collect()\n",
    "    keymap=''\n",
    "    for  row in df:\n",
    "        keymap=keymap+row['value']\n",
    "    json_content=json.loads(keymap)\n",
    "    print(json_content)\n",
    "    return json_content\n",
    "colmap= get_secret_obj()\n",
    "hmac_key=colmap[\"hmac_key\"]\n",
    "# hmac加密\n",
    "def hmac_sha256(key,value):\n",
    "    if value!=None:\n",
    "        h = hmac.new(key.encode('utf-8'),digestmod=sha256)\n",
    "        h.update(str(value).encode('utf-8'))\n",
    "        h_str = h.hexdigest()\n",
    "        return h_str\n",
    "    return \"\"\n",
    "hmac_sha256=udf(hmac_sha256,returnType=T.StringType())\n",
    "#是否特殊special，特殊的需要自己写sql\n",
    "guestTable = {\n",
    "           \"banda\":{\n",
    "                  \"t_loan_app\":  \"\",\n",
    "                  \"t_loan_app_status_log\": \"\",\n",
    "                  \"t_lpay\":  \"\",\n",
    "                  \"t_engine_rule_detail\":  \"\",\n",
    "                  \"t_customer\":\"\",\n",
    "            }\n",
    "        }\n",
    "# print(__name__)builtins\n",
    "def execute(tempDataBase,tableName):\n",
    "    sql = \"select * from  \" + tempDataBase + \".\" + tableName\n",
    "    guestPath = \"s3://rupiahplus-data-warehouse/etl/banda/guest/\" + tableName+\"_ontime\"\n",
    "    if tableName=='t_loan_app':\n",
    "        spark.sql(sql).drop('etldate').drop('credential_no_x').drop('full_name_x').write.mode(\"overwrite\").partitionBy(\"year\").orc(guestPath)\n",
    "    elif tableName=='t_customer':\n",
    "        spark.sql(sql).drop('etldate').drop('imei').drop('password').drop('mobile_x').write.mode(\"overwrite\").partitionBy(\"year\").orc(guestPath)   \n",
    "    else:\n",
    "        spark.sql(sql).drop('etldate').write.mode(\"overwrite\").partitionBy(\"year\").orc(guestPath)\n",
    "print(__name__)\n",
    "if __name__ == \"builtins\":\n",
    "    for row in guestTable:\n",
    "#         banda\n",
    "        tabletMap = row\n",
    "        executor=None\n",
    "        tempDataBase = \" `banda-etl-s3`\"\n",
    "        with futures.ThreadPoolExecutor(max_workers=10) as executor2:\n",
    "#         for tableNm in tablelist:\n",
    "#             execute_sql(databaseName,tableNm)\n",
    "#                 executor2.submit(execute_sql,databaseName, tableNm)\n",
    "            futures_result=futures.wait([executor2.submit(execute,tempDataBase, tableNm)  for tableNm in guestTable[tabletMap]])\n",
    "            for  future in futures_result[0]:\n",
    "                print(future.result())\n",
    "                \n",
    "                  \n"
   ]
  }
 ],
 "metadata": {
  "kernelspec": {
   "display_name": "PySpark",
   "language": "",
   "name": "pysparkkernel"
  },
  "language_info": {
   "codemirror_mode": {
    "name": "python",
    "version": 2
   },
   "mimetype": "text/x-python",
   "name": "pyspark",
   "pygments_lexer": "python2"
  }
 },
 "nbformat": 4,
 "nbformat_minor": 4
}
