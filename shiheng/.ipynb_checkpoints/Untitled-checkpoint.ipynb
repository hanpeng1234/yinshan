{
 "cells": [
  {
   "cell_type": "code",
   "execution_count": 2,
   "metadata": {},
   "outputs": [
    {
     "data": {
      "application/vnd.jupyter.widget-view+json": {
       "model_id": "c4dcfe9e153347ce9598c84dede23eac",
       "version_major": 2,
       "version_minor": 0
      },
      "text/plain": [
       "VBox()"
      ]
     },
     "metadata": {},
     "output_type": "display_data"
    },
    {
     "data": {
      "application/vnd.jupyter.widget-view+json": {
       "model_id": "",
       "version_major": 2,
       "version_minor": 0
      },
      "text/plain": [
       "FloatProgress(value=0.0, bar_style='info', description='Progress:', layout=Layout(height='25px', width='50%'),…"
      ]
     },
     "metadata": {},
     "output_type": "display_data"
    }
   ],
   "source": [
    "# a=spark.sparkContext.textFile(\"xinhu.csv\")\n",
    "# for i in  a:\n",
    "#     print(i)\n",
    "alldf= spark.read.format(\"csv\").option(\"header\", \"true\").load(\"s3://bandatest/all.csv\")\n",
    "alldf.createOrReplaceTempView(\"all\")  \n",
    "xinhudf= spark.read.format(\"csv\").option(\"header\", \"true\").load(\"s3://bandatest/xinhu.csv\")\n",
    "xinhudf.createOrReplaceTempView(\"xinhu\")  \n",
    "\n",
    "# b=spark.sparkContext.textFile(\"s3://bandatest/all.csv\").map(_.split(\",\")).toDF\n"
   ]
  },
  {
   "cell_type": "code",
   "execution_count": null,
   "metadata": {},
   "outputs": [],
   "source": []
  },
  {
   "cell_type": "code",
   "execution_count": 5,
   "metadata": {},
   "outputs": [
    {
     "data": {
      "application/vnd.jupyter.widget-view+json": {
       "model_id": "bc26285039b34069ad02463a0f5cd22e",
       "version_major": 2,
       "version_minor": 0
      },
      "text/plain": [
       "VBox()"
      ]
     },
     "metadata": {},
     "output_type": "display_data"
    },
    {
     "data": {
      "application/vnd.jupyter.widget-view+json": {
       "model_id": "",
       "version_major": 2,
       "version_minor": 0
      },
      "text/plain": [
       "FloatProgress(value=0.0, bar_style='info', description='Progress:', layout=Layout(height='25px', width='50%'),…"
      ]
     },
     "metadata": {},
     "output_type": "display_data"
    },
    {
     "name": "stdout",
     "output_type": "stream",
     "text": [
      "+-------+----------------+--------------------+-------+\n",
      "|     id|             num|                name|     id|\n",
      "+-------+----------------+--------------------+-------+\n",
      "|1000143|3208106112960003|      Lilis purwanti|1000143|\n",
      "|1000614|1275010809920001|             Susanto|1000614|\n",
      "|1001906|1271021002750004|        Budi buntoro|1001906|\n",
      "|1002859|7271011604900005|   Ishak Ariel Sandi|1002859|\n",
      "|1006827|3275065808890008|       devi angriani|1006827|\n",
      "|1014275|3510164101920006|      maria desdores|1014275|\n",
      "|1014390|3372054308650004|RA.AGUSTINI ADINI...|1014390|\n",
      "|1015023|3575022812940002|     Puji Ari Irawan|1015023|\n",
      "|1016377|7207024108910001|   Hasniati Ayun Hal|1016377|\n",
      "|1019467|3211176011820006|  Fransiska noviana |1019467|\n",
      "|1022703|1205124603920005|      Elli Damayanti|1022703|\n",
      "|1023179|3515096906820002|LATIFAH RATNA WAH...|1023179|\n",
      "|1024535|3174106309950007|        fany mulyani|1024535|\n",
      "|1025689|3277014209930011|cindy fariha nura...|1025689|\n",
      "|1026459|3273024405800004|elny rosaeni aris sh|1026459|\n",
      "|1027308|3275092907790016|       Irham Mustofa|1027308|\n",
      "|1030276|3275030903880020|    rizka martinsyah|1030276|\n",
      "|1033296|3210031105900041|   Rahmat Nur Shobah|1033296|\n",
      "|1035162|3502025806920004|      Atik choiriyah|1035162|\n",
      "|1038067|3372036904910001|             Farhana|1038067|\n",
      "+-------+----------------+--------------------+-------+\n",
      "only showing top 20 rows"
     ]
    }
   ],
   "source": [
    "spark.conf.set(\"spark.sql.crossJoin.enabled\",True)\n",
    "spark.sql(\"\"\"\n",
    "select  a.id,a.num, a.name,b.id\n",
    "from  xinhu a\n",
    "left join all b\n",
    "on a.id =b.id\n",
    "group by a.id,a.num,a.name,b.id\n",
    "order by a.id,b.id\n",
    "\"\"\").show()"
   ]
  },
  {
   "cell_type": "code",
   "execution_count": 130,
   "metadata": {},
   "outputs": [
    {
     "data": {
      "application/vnd.jupyter.widget-view+json": {
       "model_id": "868f9529f80c4202917a4c7f3cb7bda8",
       "version_major": 2,
       "version_minor": 0
      },
      "text/plain": [
       "VBox()"
      ]
     },
     "metadata": {},
     "output_type": "display_data"
    },
    {
     "data": {
      "application/vnd.jupyter.widget-view+json": {
       "model_id": "",
       "version_major": 2,
       "version_minor": 0
      },
      "text/plain": [
       "FloatProgress(value=0.0, bar_style='info', description='Progress:', layout=Layout(height='25px', width='50%'),…"
      ]
     },
     "metadata": {},
     "output_type": "display_data"
    }
   ],
   "source": [
    "allrdd=spark.sparkContext.textFile(\"s3://bandatest/all.csv\")\n",
    "allrdd.zipWithIndex().filter(lambda x :x[1]!=0).map(lambda a:a[0].split(\",\")).filter(lambda x:len(x[1])>=12)\n",
    "# allrdd.\n",
    "xinhurdd=spark.sparkContext.textFile(\"s3://bandatest/xinhu.csv\")\n",
    "newxinhurdd=xinhurdd.zipWithIndex().filter(lambda x :x[1]!=0).map(lambda a:a[0].split(\",\")).filter(lambda x:len(x[1])>=12)\n",
    "# for  i in newxinhurdd.collect():\n",
    "#     print(i)\n"
   ]
  },
  {
   "cell_type": "code",
   "execution_count": 134,
   "metadata": {},
   "outputs": [
    {
     "data": {
      "application/vnd.jupyter.widget-view+json": {
       "model_id": "f4441261842a4b2a8b20fb11a9150cce",
       "version_major": 2,
       "version_minor": 0
      },
      "text/plain": [
       "VBox()"
      ]
     },
     "metadata": {},
     "output_type": "display_data"
    },
    {
     "data": {
      "application/vnd.jupyter.widget-view+json": {
       "model_id": "",
       "version_major": 2,
       "version_minor": 0
      },
      "text/plain": [
       "FloatProgress(value=0.0, bar_style='info', description='Progress:', layout=Layout(height='25px', width='50%'),…"
      ]
     },
     "metadata": {},
     "output_type": "display_data"
    },
    {
     "name": "stdout",
     "output_type": "stream",
     "text": [
      "1"
     ]
    }
   ],
   "source": [
    "def check(s1, s2):\n",
    "    k = 0\n",
    "    j=0\n",
    "    minLength = min(len(s1), len(s2));\n",
    "    maxLength = max(len(s1), len(s2));\n",
    "    for i in range(minLength):\n",
    "        if s1[i] != s2[i]:\n",
    "            k=k+1\n",
    "            \n",
    "    k += maxLength - minLength;\n",
    "    return k\n",
    "print(check(\"111111\",\"113111\"))"
   ]
  },
  {
   "cell_type": "code",
   "execution_count": 132,
   "metadata": {},
   "outputs": [
    {
     "data": {
      "application/vnd.jupyter.widget-view+json": {
       "model_id": "04391f5367304e759dcf4b24093c8f0d",
       "version_major": 2,
       "version_minor": 0
      },
      "text/plain": [
       "VBox()"
      ]
     },
     "metadata": {},
     "output_type": "display_data"
    },
    {
     "data": {
      "application/vnd.jupyter.widget-view+json": {
       "model_id": "",
       "version_major": 2,
       "version_minor": 0
      },
      "text/plain": [
       "FloatProgress(value=0.0, bar_style='info', description='Progress:', layout=Layout(height='25px', width='50%'),…"
      ]
     },
     "metadata": {},
     "output_type": "display_data"
    },
    {
     "name": "stderr",
     "output_type": "stream",
     "text": [
      "invalid syntax (<stdin>, line 3)\n",
      "  File \"<stdin>\", line 3\n",
      "    j++\n",
      "      ^\n",
      "SyntaxError: invalid syntax\n",
      "\n"
     ]
    }
   ],
   "source": [
    "j=0\n",
    "for i in range(10):\n",
    "    j++\n",
    "    print(j)"
   ]
  }
 ],
 "metadata": {
  "kernelspec": {
   "display_name": "PySpark",
   "language": "",
   "name": "pysparkkernel"
  },
  "language_info": {
   "codemirror_mode": {
    "name": "python",
    "version": 2
   },
   "mimetype": "text/x-python",
   "name": "pyspark",
   "pygments_lexer": "python2"
  }
 },
 "nbformat": 4,
 "nbformat_minor": 4
}
