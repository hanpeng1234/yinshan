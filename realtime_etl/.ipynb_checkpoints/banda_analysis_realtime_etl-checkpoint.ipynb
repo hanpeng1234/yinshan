{
 "cells": [
  {
   "cell_type": "code",
   "execution_count": 1,
   "metadata": {},
   "outputs": [
    {
     "data": {
      "application/vnd.jupyter.widget-view+json": {
       "model_id": "80f57b0f9f7748849a5b45369c6356ae",
       "version_major": 2,
       "version_minor": 0
      },
      "text/plain": [
       "VBox()"
      ]
     },
     "metadata": {},
     "output_type": "display_data"
    },
    {
     "name": "stdout",
     "output_type": "stream",
     "text": [
      "Starting Spark application\n"
     ]
    },
    {
     "data": {
      "text/html": [
       "<table>\n",
       "<tr><th>ID</th><th>YARN Application ID</th><th>Kind</th><th>State</th><th>Spark UI</th><th>Driver log</th><th>Current session?</th></tr><tr><td>1</td><td>application_1594102594678_0002</td><td>pyspark</td><td>idle</td><td><a target=\"_blank\" href=\"http://ip-172-31-7-196.ap-southeast-1.compute.internal:20888/proxy/application_1594102594678_0002/\">Link</a></td><td><a target=\"_blank\" href=\"http://ip-172-31-12-227.ap-southeast-1.compute.internal:8042/node/containerlogs/container_1594102594678_0002_01_000001/livy\">Link</a></td><td>✔</td></tr></table>"
      ],
      "text/plain": [
       "<IPython.core.display.HTML object>"
      ]
     },
     "metadata": {},
     "output_type": "display_data"
    },
    {
     "data": {
      "application/vnd.jupyter.widget-view+json": {
       "model_id": "",
       "version_major": 2,
       "version_minor": 0
      },
      "text/plain": [
       "FloatProgress(value=0.0, bar_style='info', description='Progress:', layout=Layout(height='25px', width='50%'),…"
      ]
     },
     "metadata": {},
     "output_type": "display_data"
    },
    {
     "name": "stdout",
     "output_type": "stream",
     "text": [
      "SparkSession available as 'spark'.\n"
     ]
    },
    {
     "data": {
      "application/vnd.jupyter.widget-view+json": {
       "model_id": "",
       "version_major": 2,
       "version_minor": 0
      },
      "text/plain": [
       "FloatProgress(value=0.0, bar_style='info', description='Progress:', layout=Layout(height='25px', width='50%'),…"
      ]
     },
     "metadata": {},
     "output_type": "display_data"
    },
    {
     "name": "stderr",
     "output_type": "stream",
     "text": [
      "Exception in thread cell_monitor-1:\n",
      "Traceback (most recent call last):\n",
      "  File \"/opt/conda/lib/python3.7/threading.py\", line 926, in _bootstrap_inner\n",
      "    self.run()\n",
      "  File \"/opt/conda/lib/python3.7/threading.py\", line 870, in run\n",
      "    self._target(*self._args, **self._kwargs)\n",
      "  File \"/opt/conda/lib/python3.7/site-packages/awseditorssparkmonitoringwidget-1.0-py3.7.egg/awseditorssparkmonitoringwidget/cellmonitor.py\", line 154, in cell_monitor\n",
      "    job_group_filtered_jobs = [job for job in jobs_data if job['jobGroup'] == str(statement_id)]\n",
      "  File \"/opt/conda/lib/python3.7/site-packages/awseditorssparkmonitoringwidget-1.0-py3.7.egg/awseditorssparkmonitoringwidget/cellmonitor.py\", line 154, in <listcomp>\n",
      "    job_group_filtered_jobs = [job for job in jobs_data if job['jobGroup'] == str(statement_id)]\n",
      "KeyError: 'jobGroup'\n",
      "\n"
     ]
    },
    {
     "name": "stdout",
     "output_type": "stream",
     "text": [
      "None\n",
      "None\n",
      "None\n",
      "None"
     ]
    }
   ],
   "source": [
    "import sys\n",
    "from concurrent import futures\n",
    "import numpy as np\n",
    "from pyspark.sql import SparkSession\n",
    "from datetime import datetime,timedelta\n",
    "import pytz\n",
    "\n",
    "# print(datetime.now(pytz.timezone(\"Asia/Shanghai\")).strftime( '%Y-%m-%d'))\n",
    "today=(datetime.now()+ timedelta(-1)).strftime( '%Y-%m-%d')\n",
    "yesterday=(datetime.now(pytz.timezone(\"Asia/Shanghai\"))+ timedelta(-1)).strftime( '%Y-%m-%d')\n",
    "# ,\"banda_stream_etl\":\"1\"\n",
    "# 为了注释还是选择分行\n",
    "tablemap={\n",
    "    \"banda\":{\n",
    "        \"t_customer_detail\":\"\"\"   with loan_situation as ( select loan_detail.*,app.status as last_loan_status, case when app.status in ('CURRENT','OVERDUE','PAID_OFF','GRACE_PERIOD') then pay.due_date else null end as last_loan_due_date, case when app.status in ('CURRENT','OVERDUE','GRACE_PERIOD') then coalesce (pay.principal_accr ,0)+ coalesce (pay.interest_accr,0) + coalesce (pay.default_accr,0) + coalesce (pay.service_fee_accr,0)+coalesce (pay.default_fee_accr,0)-(coalesce (pay.principal_paid ,0)+ coalesce (pay.interest_paid,0) + coalesce (pay.default_paid,0) + coalesce (pay.service_fee_paid,0)+coalesce (pay.default_fee_paid,0)) else null end as current_loan_out, case when app.status in ('CURRENT','OVERDUE','GRACE_PERIOD') then coalesce(pay.principal_accr,0)-coalesce(pay.principal_paid,0) else null end as current_loan_principal from ( select app.customer_id,min(app.create_time) as first_apply_time,min(cu_status.create_time) as first_issue_time, min(if(app.loan_type = 'RE_PAYDAY',app.create_time,null)) as first_repayday_create_time, count(if(cu_status.id>0 and app.loan_type != 'ROLLOVER',app.id,null)) as total_issue_time, sum(if(cu_status.id>0 and app.loan_type != 'ROLLOVER',app.amount,0)) as total_issue_amount, sum(if(cu_status.id>0 ,coalesce (pay.principal_paid ,0)+ coalesce (pay.interest_paid,0) + coalesce (pay.default_paid,0) + coalesce (pay.rollover_fee_paid,0)+ coalesce (pay.service_fee_paid,0)-coalesce (pay.erase_amount,0)-coalesce (pay.coupon_amount,0),0)) as total_paid_amount,max(app.id) as last_loan_id from `banda-etl-s3`.t_loan_app app left join `banda-etl-s3`.t_loan_app_status_log cu_status on app.id = cu_status.loan_app_id and cu_status.new_status = 'CURRENT' left join `banda-etl-s3`.t_lpay pay on app.id = pay.loan_app_id where app.create_time +interval '7'hour > date '2019-08-01' group by app.customer_id )loan_detail left join `banda-etl-s3`.t_loan_app app on loan_detail.last_loan_id=app.id left join `banda-etl-s3`.t_lpay pay on loan_detail.last_loan_id = pay.loan_app_id ), record_detail as ( select customer.id, min(pi.create_time) as verified_time, min(if(pi.marital_status is not null,pi.create_time,null)) as pi_time,min(emp.create_time) as emp_time, min(contact.create_time) as contact_time, min(if(file.file_type = 'KTP_PHOTO',file.create_time,null)) as ktp_time, min(if(file.file_type = 'KTP_HAND_PHOTO',file.create_time,null)) as ktp_hand_time, min(tongdun.create_time) as increase_time,min(if(file.file_type in( 'YITU_BIO_PACKAGE','FACEID_BIO_PACKAGE'),file.create_time,null)) as bio_time FROM `banda-etl-s3`.t_customer customer LEFT JOIN `banda-etl-s3`.t_record_personal_info pi ON pi.customer_id = customer.id LEFT JOIN `banda-etl-s3`.t_record_employment emp ON emp.customer_id = customer.id LEFT JOIN `banda-etl-s3`.t_record_contact contact ON contact.customer_id = customer.id LEFT JOIN `banda-etl-s3`.t_record_file file ON file.customer_id = customer.id LEFT JOIN `banda-etl-s3`.t_tongdun_data tongdun ON tongdun.customer_id = customer.id group by customer.id ), record as ( select id, case when pi_time > emp_time and pi_time > contact_time and pi_time > file_time and pi_time > file_h_time and pi_time > bio_time then pi_time when emp_time > pi_time and emp_time > contact_time and emp_time > file_time and emp_time > file_h_time and emp_time > bio_time then emp_time when contact_time > pi_time and contact_time > emp_time and contact_time > file_time and contact_time > file_h_time and contact_time > bio_time then contact_time when file_time > pi_time and file_time > emp_time and file_time > contact_time and file_time > file_h_time and file_time > bio_time then file_time when bio_time > pi_time and bio_time > emp_time and bio_time > contact_time and bio_time > file_time and bio_time > file_h_time then bio_time else file_h_time end as record_time from ( select customer.id, min(pi.create_time) as pi_time,min(emp.create_time) as emp_time, min(contact.create_time) as contact_time,min(if(file.file_type = 'KTP_PHOTO',file.create_time,null)) as file_time, min(if(file.file_type = 'KTP_HAND_PHOTO',file.create_time,null)) as file_h_time, min(if(file.file_type in( 'YITU_BIO_PACKAGE','FACEID_BIO_PACKAGE'),file.create_time,null)) as bio_time from `banda-etl-s3`.t_customer customer LEFT JOIN `banda-etl-s3`.t_record_personal_info pi ON pi.customer_id = customer.id and pi.marital_status !='' LEFT JOIN `banda-etl-s3`.t_record_employment emp ON emp.customer_id = customer.id LEFT JOIN `banda-etl-s3`.t_record_contact contact ON contact.customer_id = customer.id LEFT JOIN `banda-etl-s3`.t_record_file file ON file.customer_id = customer.id where date(customer.create_time + interval '7' hour) > date '2019-08-01' and pi.customer_id >0 and emp.customer_id >0 and contact.customer_id>0 and file.customer_id >0 group by customer.id )detail where file_time is not null and file_h_time is not null and bio_time is not null ), first_loan as ( select customer.id,min(auto_loan.create_time) as authorized_time,min(app.create_time) as apply_time, min(lg.create_time) as issue_time,min(lgt.create_time) as withdraw_time FROM `banda-etl-s3`.t_customer customer LEFT JOIN `banda-etl-s3`.t_auto_review_loan auto_loan ON customer.id = auto_loan.customer_id AND auto_loan.real_policy = 'payday_amount_scorecard' AND auto_loan.result = 'PASS' LEFT JOIN `banda-etl-s3`.t_loan_app app ON app.customer_id = customer.id AND app.loan_type = 'PAYDAY' LEFT JOIN `banda-etl-s3`.t_loan_app_status_log lg ON lg.loan_app_id = app.id AND lg.new_status = 'CURRENT' LEFT JOIN `banda-etl-s3`.t_loan_app app1 ON app1.id = lg.loan_app_id AND app1.loan_type != 'ROLLOVER' left join `banda-etl-s3`.t_loan_app_status_log lgt ON lgt.loan_app_id = app.id and lgt.old_status='AUTHORIZATION' and lgt.new_status='FINAL_REVIEW' group by customer.id ), customer_device as ( select customer_id,value,create_time from `banda-etl-s3`.`t_customer_device_info` where id in ( select id from ( SELECT customer_id,min(id) as id FROM `banda-etl-s3`.`t_customer_device_info` where type = 'ANDROID_ID'group by customer_id )a ) ), version as ( select android_id,app_version,min(cast(concat(partition_0,'-',partition_1,'-',partition_2) as date)) as version_time from `ddb_event_track_s3`.`id_adapundi_event_track` where partition_0 >= '2021' and app_version is not null group by android_id,app_version ), register_version as ( select rk.*,cu.create_time from ( select de.customer_id,de.value,de.create_time as device_time,ve.version_time,ve.app_version, rank() over (partition by de.customer_id order by ve.version_time desc) rnk from customer_device de left join version ve on de.value = ve.android_id and ve.version_time < de.create_time where ve.android_id is not null )rk left join `banda-etl-s3`.`t_customer` cu on rk.customer_id = cu.id where cu.create_time > rk.version_time and rk.rnk = 1 order by rk.customer_id ), change_mobile as ( select customer_id,first_CN_time, case when first_CN_time < first_CN_success_time then first_CN_success_time end as first_CN_success_time, case when first_CN_time < first_CN_success_time then 1 when first_CN_time is not null then 0 end as ch_end from ( select customer_id,min(if(tag_id = 10001,create_time,null)) as first_CN_time, min(if(tag_id = 10002,create_time,null)) as first_CN_success_time from `banda-etl-s3`.`t_customer_tag_rel` where tag_id in (10001,10002) group by customer_id )de ) select cus.id as customer_id,cus.create_time as register_time,cus.last_login_time,cus.inviter_id, case when whitelist.customer_id > 0 then 'Y' else 'N' end as is_whitelist, install.af_channel,install.media_source,install.campaign,install.agency,install.fb_campaign_id,install.channel_details_id,install.install_time, case when record.id >0 then 'Y' else 'N' end as is_record,record.record_time, loan.first_apply_time,loan.first_issue_time,loan.first_repayday_create_time,loan.total_issue_time, loan.total_issue_amount,loan.total_paid_amount,loan.last_loan_status,loan.last_loan_due_date, loan.current_loan_out, loan.current_loan_principal, rd.verified_time,rd.pi_time,rd.emp_time,rd.contact_time,rd.bio_time, case when rd.ktp_time > cus.create_time and rd.ktp_hand_time > cus.create_time and rd.ktp_time > rd.ktp_hand_time then rd.ktp_time when rd.ktp_time > cus.create_time and rd.ktp_hand_time > cus.create_time and rd.ktp_time < rd.ktp_hand_time then rd.ktp_hand_time end as ktp_time, rd.increase_time, record.record_time as required_time,fl.authorized_time,fl.withdraw_time, ve.app_version as register_version,ve.version_time as register_version_time, cus.main_account, case when cus.main_account is not null then 'N' else 'Y' end as is_main_account, cmo.ch_end,cus.status,cmo.first_CN_time,cmo.first_CN_success_time from `banda-etl-s3`.t_customer cus left join `banda-etl-s3`.t_customer_install_info install on cus.id = install.customer_id left join change_mobile cmo on cus.id = cmo.customer_id left join `banda-etl-s3`.t_whitelist_old_customer whitelist on cus.id = whitelist.customer_id left join loan_situation loan on cus.id = loan.customer_id left join record on cus.id = record.id left join record_detail rd on cus.id = rd.id left join first_loan fl on cus.id = fl.id left join register_version ve on cus.id = ve.customer_id\"\"\",\n",
    "#          \"t_customer_detail\":\"\"\" with loan_situation as ( select loan_detail.*,app.status as last_loan_status, case when app.status in ('CURRENT','OVERDUE','PAID_OFF','GRACE_PERIOD') then pay.due_date else null end as last_loan_due_date, case when app.status in ('CURRENT','OVERDUE','GRACE_PERIOD') then coalesce (pay.principal_accr ,0)+ coalesce (pay.interest_accr,0) + coalesce (pay.default_accr,0) + coalesce (pay.service_fee_accr,0)+coalesce (pay.default_fee_accr,0)-(coalesce (pay.principal_paid ,0)+ coalesce (pay.interest_paid,0) + coalesce (pay.default_paid,0) + coalesce (pay.service_fee_paid,0)+coalesce (pay.default_fee_paid,0)) else null end as current_loan_out, case when app.status in ('CURRENT','OVERDUE','GRACE_PERIOD') then coalesce(pay.principal_accr,0)-coalesce(pay.principal_paid,0) else null end as current_loan_principal from ( select app.customer_id,min(app.create_time) as first_apply_time,min(cu_status.create_time) as first_issue_time, min(if(app.loan_type = 'RE_PAYDAY',app.create_time,null)) as first_repayday_create_time, count(if(cu_status.id>0 and app.loan_type != 'ROLLOVER',app.id,null)) as total_issue_time, sum(if(cu_status.id>0 and app.loan_type != 'ROLLOVER',app.amount,0)) as total_issue_amount, sum(if(cu_status.id>0 ,coalesce (pay.principal_paid ,0)+ coalesce (pay.interest_paid,0) + coalesce (pay.default_paid,0) + coalesce (pay.rollover_fee_paid,0)+ coalesce (pay.service_fee_paid,0)-coalesce (pay.erase_amount,0)-coalesce (pay.coupon_amount,0),0)) as total_paid_amount,max(app.id) as last_loan_id from `banda-etl-s3`.t_loan_app app left join `banda-etl-s3`.t_loan_app_status_log cu_status on app.id = cu_status.loan_app_id and cu_status.new_status = 'CURRENT' left join `banda-etl-s3`.t_lpay pay on app.id = pay.loan_app_id where app.create_time +interval '7'hour > date '2019-08-01' group by app.customer_id )loan_detail left join `banda-etl-s3`.t_loan_app app on loan_detail.last_loan_id=app.id left join `banda-etl-s3`.t_lpay pay on loan_detail.last_loan_id = pay.loan_app_id ), record_detail as ( select customer.id, min(pi.create_time) as verified_time, min(if(pi.marital_status is not null,pi.create_time,null)) as pi_time,min(emp.create_time) as emp_time, min(contact.create_time) as contact_time, min(if(file.file_type = 'KTP_PHOTO',file.create_time,null)) as ktp_time, min(if(file.file_type = 'KTP_HAND_PHOTO',file.create_time,null)) as ktp_hand_time, min(tongdun.create_time) as increase_time,min(if(file.file_type = 'YITU_BIO_PACKAGE',file.create_time,null)) as bio_time FROM `banda-etl-s3`.t_customer customer LEFT JOIN `banda-etl-s3`.t_record_personal_info pi ON pi.customer_id = customer.id LEFT JOIN `banda-etl-s3`.t_record_employment emp ON emp.customer_id = customer.id LEFT JOIN `banda-etl-s3`.t_record_contact contact ON contact.customer_id = customer.id LEFT JOIN `banda-etl-s3`.t_record_file file ON file.customer_id = customer.id LEFT JOIN `banda-etl-s3`.t_tongdun_data tongdun ON tongdun.customer_id = customer.id group by customer.id ), record as ( select id, case when pi_time > emp_time and pi_time > contact_time and pi_time > file_time and pi_time > file_h_time and pi_time > bio_time then pi_time when emp_time > pi_time and emp_time > contact_time and emp_time > file_time and emp_time > file_h_time and emp_time > bio_time then emp_time when contact_time > pi_time and contact_time > emp_time and contact_time > file_time and contact_time > file_h_time and contact_time > bio_time then contact_time when file_time > pi_time and file_time > emp_time and file_time > contact_time and file_time > file_h_time and file_time > bio_time then file_time when bio_time > pi_time and bio_time > emp_time and bio_time > contact_time and bio_time > file_time and bio_time > file_h_time then bio_time else file_h_time end as record_time from ( select customer.id, min(pi.create_time) as pi_time,min(emp.create_time) as emp_time, min(contact.create_time) as contact_time,min(if(file.file_type = 'KTP_PHOTO',file.create_time,null)) as file_time, min(if(file.file_type = 'KTP_HAND_PHOTO',file.create_time,null)) as file_h_time, min(if(file.file_type = 'YITU_BIO_PACKAGE',file.create_time,null)) as bio_time from `banda-etl-s3`.t_customer customer LEFT JOIN `banda-etl-s3`.t_record_personal_info pi ON pi.customer_id = customer.id and pi.marital_status !='' LEFT JOIN `banda-etl-s3`.t_record_employment emp ON emp.customer_id = customer.id LEFT JOIN `banda-etl-s3`.t_record_contact contact ON contact.customer_id = customer.id LEFT JOIN `banda-etl-s3`.t_record_file file ON file.customer_id = customer.id where date(customer.create_time + interval '7' hour) > date '2019-08-01' and pi.customer_id >0 and emp.customer_id >0 and contact.customer_id>0 and file.customer_id >0 group by customer.id )detail where file_time is not null and file_h_time is not null and bio_time is not null ), first_loan as ( select customer.id,min(auto_loan.create_time) as authorized_time,min(app.create_time) as apply_time, min(lg.create_time) as issue_time,min(lgt.create_time) as withdraw_time FROM `banda-etl-s3`.t_customer customer LEFT JOIN `banda-etl-s3`.t_auto_review_loan auto_loan ON customer.id = auto_loan.customer_id AND auto_loan.real_policy = 'payday_amount_scorecard' AND auto_loan.result = 'PASS' LEFT JOIN `banda-etl-s3`.t_loan_app app ON app.customer_id = customer.id AND app.loan_type = 'PAYDAY' LEFT JOIN `banda-etl-s3`.t_loan_app_status_log lg ON lg.loan_app_id = app.id AND lg.new_status = 'CURRENT' LEFT JOIN `banda-etl-s3`.t_loan_app app1 ON app1.id = lg.loan_app_id AND app1.loan_type != 'ROLLOVER' left join `banda-etl-s3`.t_loan_app_status_log lgt ON lgt.loan_app_id = app.id and lgt.old_status='AUTHORIZATION' and lgt.new_status='FINAL_REVIEW' group by customer.id ), customer_device as ( select customer_id,value,create_time from `banda-etl-s3`.`t_customer_device_info` where id in ( select id from ( SELECT customer_id,min(id) as id FROM `banda-etl-s3`.`t_customer_device_info` where type = 'ANDROID_ID'group by customer_id )a ) ), version as ( select android_id,app_version,min(from_unixtime(create_time / 1000)) as version_time from `ddb_event_track_s3`.`id_adapundi_event_track` where app_version is not null group by android_id,app_version ), register_version as ( select rk.*,cu.create_time from ( select de.customer_id,de.value,de.create_time as device_time,ve.version_time,ve.app_version, rank() over (partition by de.customer_id order by ve.version_time desc) rnk from customer_device de left join version ve on de.value = ve.android_id and ve.version_time < de.create_time where ve.android_id is not null )rk left join `banda-etl-s3`.`t_customer` cu on rk.customer_id = cu.id where cu.create_time > rk.version_time and rk.rnk = 1 order by rk.customer_id ), change_mobile as ( select customer_id,case when tag_id = 10002 then 1 else 0 end as ch_end from `banda-etl-s3`.`t_customer_tag_rel` where id in ( select id from ( select customer_id,max(id) as id from `banda-etl-s3`.`t_customer_tag_rel` where tag_id in (10001,10002) group by customer_id ) ) ) select cus.id as customer_id,cus.create_time as register_time,cus.last_login_time,cus.inviter_id, case when whitelist.customer_id > 0 then 'Y' else 'N' end as is_whitelist, install.af_channel,install.media_source,install.campaign,install.agency,install.fb_campaign_id,install.channel_details_id,install.install_time, case when record.id >0 then 'Y' else 'N' end as is_record,record.record_time, loan.first_apply_time,loan.first_issue_time,loan.first_repayday_create_time,loan.total_issue_time, loan.total_issue_amount,loan.total_paid_amount,loan.last_loan_status,loan.last_loan_due_date, loan.current_loan_out, loan.current_loan_principal, rd.verified_time,rd.pi_time,rd.emp_time,rd.contact_time,rd.bio_time, case when rd.ktp_time > cus.create_time and rd.ktp_hand_time > cus.create_time and rd.ktp_time > rd.ktp_hand_time then rd.ktp_time when rd.ktp_time > cus.create_time and rd.ktp_hand_time > cus.create_time and rd.ktp_time < rd.ktp_hand_time then rd.ktp_hand_time end as ktp_time, rd.increase_time, record.record_time as required_time,fl.authorized_time,fl.withdraw_time, ve.app_version as register_version,ve.version_time as register_version_time, cus.main_account, case when cus.main_account is not null then 'Y' else 'N' end as is_main_account, cmo.ch_end,cus.status from `banda-etl-s3`.t_customer cus left join `banda-etl-s3`.t_customer_install_info install on cus.id = install.customer_id left join change_mobile cmo on cus.id = cmo.customer_id left join `banda-etl-s3`.t_whitelist_old_customer whitelist on cus.id = whitelist.customer_id left join loan_situation loan on cus.id = loan.customer_id left join record on cus.id = record.id left join record_detail rd on cus.id = rd.id left join first_loan fl on cus.id = fl.id left join register_version ve on cus.id = ve.customer_id order by cus.id desc  \"\"\",\n",
    "         \"t_loan_detail\":\"\"\"select app.id as loan_id,app.customer_id,app.loan_type as loan_type,app.create_time as loan_apply_time, issue.issue_time as loan_issue_time, enda.loan_status as loan_status, enda.pay_off_time as loan_paid_off_time, enda.end_id, app.amount as issue_amount, next.next_id as next_loan_id, next.next_apply_time from `banda-etl-s3`.`t_loan_app` app left join ( select loan_app_id,min(create_time) as issue_time from `banda-etl-s3`.`t_loan_app_status_log` where new_status = 'CURRENT' and date(create_time + interval '7' hour ) >= date '2019-08-01' group by loan_app_id )issue on app.id = issue.loan_app_id left join ( select en.primary_id,en.end_id as end_id,pay_off.pay_off_time,a.status as loan_status from ( SELECT t1.primary_id,t1.customer_id, case when t4.roloan3_id > 0 then t4.roloan3_id when t3.roloan2_id > 0 then t3.roloan2_id when t2.roloan1_id>0 then t2.roloan1_id else t1.primary_id end as end_id from ( SELECT app.id AS primary_id,app.status,app.customer_id FROM `banda-etl-s3`.`t_loan_app` app WHERE app.loan_type != 'ROLLOVER' AND date(app.create_time + interval '7' hour) >= date '2019-08-01' and app.status in ('CURRENT','PAID_OFF','OVERDUE','GRACE_PERIOD') ) t1 LEFT JOIN ( SELECT app1.id AS primary_id,app.id AS roloan1_id FROM `banda-etl-s3`.`t_loan_app` app LEFT JOIN `banda-etl-s3`.`t_loan_app` app1 ON app.parent_id = app1.id WHERE app1.loan_type != 'ROLLOVER' AND date(app1.create_time + interval '7' hour) >= date '2019-08-01' and app1.status in ('CURRENT','PAID_OFF','OVERDUE','GRACE_PERIOD') ) t2 ON t1.primary_id = t2.primary_id LEFT JOIN ( SELECT app2.id AS primary_id,app.id AS roloan2_id FROM `banda-etl-s3`.`t_loan_app` app LEFT JOIN `banda-etl-s3`.`t_loan_app` app1 ON app.parent_id = app1.id LEFT JOIN `banda-etl-s3`.`t_loan_app` app2 ON app1.parent_id = app2.id WHERE app2.loan_type != 'ROLLOVER' AND date(app2.create_time + interval '7' hour) >= date '2019-08-01' and app2.status in ('CURRENT','PAID_OFF','OVERDUE','GRACE_PERIOD') ) t3 ON t1.primary_id = t3.primary_id LEFT JOIN ( SELECT app3.id AS primary_id,app.id AS roloan3_id FROM `banda-etl-s3`.`t_loan_app` app LEFT JOIN `banda-etl-s3`.`t_loan_app` app1 ON app.parent_id = app1.id LEFT JOIN `banda-etl-s3`.`t_loan_app` app2 ON app1.parent_id = app2.id LEFT JOIN `banda-etl-s3`.`t_loan_app` app3 ON app2.parent_id = app3.id WHERE app3.loan_type != 'ROLLOVER' AND date(app3.create_time + interval '7' hour) >= date '2019-08-01' and app3.status in ('CURRENT','PAID_OFF','OVERDUE','GRACE_PERIOD') ) t4 ON t1.primary_id = t4.primary_id )en left join ( select loan_app_id,min(create_time) as pay_off_time from `banda-etl-s3`.`t_loan_app_status_log` where new_status = 'PAID_OFF' and date(create_time + interval '7' hour ) >= date '2019-08-01' group by loan_app_id )pay_off on en.end_id = pay_off.loan_app_id left join `banda-etl-s3`.`t_loan_app` a on en.end_id = a.id )enda on enda.primary_id = app.id left join ( select old.id as old_id,min(new.id) as next_id,min(new.create_time) as next_apply_time from `banda-etl-s3`.`t_loan_app` old left join `banda-etl-s3`.`t_loan_app` new on old.customer_id = new.customer_id where old.loan_type != 'ROLLOVER' and new.loan_type != 'ROLLOVER' and new.id > old.id and date(old.create_time + interval '7' hour ) >= date '2019-08-01' group by old.id )next on app.id = next.old_id where app.loan_type != 'ROLLOVER' and date(app.create_time + interval '7' hour ) >= date '2019-08-01'\"\"\",\n",
    "         \"t_user_behavior\":\"\"\"SELECT customer.id,customer.create_time as register_time, pi.create_time as verified_time,pi_update.create_time as pi_time, emp.create_time as emp_time,contact.create_time as contact_time, file1.create_time as bio_time,file.create_time as kpt_time, tongdun.create_time as increase_info_time, auto_loan.create_time as authorized_time, lgt.create_time as withdraw_time FROM `banda-etl-s3`.t_customer customer LEFT JOIN (select customer_id,min(create_time) as create_time from `banda-etl-s3`.t_record_personal_info where date(create_time + interval '7' hour) >= date '2019-08-01' group by customer_id) pi ON pi.customer_id = customer.id LEFT JOIN (select customer_id,min(create_time) as create_time from `banda-etl-s3`.t_record_personal_info where date(create_time + interval '7' hour) >= date '2019-08-01' and gender is not null group by customer_id) pi_update ON pi_update.customer_id = customer.id LEFT JOIN (select customer_id,min(create_time) as create_time from `banda-etl-s3`.t_record_employment where date(create_time + interval '7' hour) >= date '2019-08-01' group by customer_id) emp ON emp.customer_id = customer.id LEFT JOIN (select customer_id,min(create_time) as create_time from `banda-etl-s3`.t_record_contact where date(create_time + interval '7' hour) >= date '2019-08-01' group by customer_id)contact ON contact.customer_id = customer.id LEFT JOIN (select customer_id,min(create_time) as create_time from `banda-etl-s3`.t_record_file where date(create_time + interval '7' hour) >= date '2019-08-01' and file_type = 'YITU_BIO_PACKAGE' group by customer_id) file1 ON file1.customer_id = customer.id LEFT JOIN (select customer_id,min(create_time) as create_time from `banda-etl-s3`.t_record_file file where date(create_time + interval '7' hour) >= date '2019-08-01' and file_type = 'KTP_PHOTO' group by customer_id)file ON file.customer_id = customer.id LEFT JOIN (select customer_id,min(create_time) as create_time from `banda-etl-s3`.t_auto_review_loan where date(create_time + interval '7' hour) >= date '2019-08-01' and real_policy = 'payday_amount_scorecard' and result = 'PASS' group by customer_id) auto_loan ON customer.id = auto_loan.customer_id LEFT JOIN (select customer_id,min(create_time) as create_time from `banda-etl-s3`.t_tongdun_data where date(create_time + interval '7' hour) >= date '2019-08-01' group by customer_id) tongdun ON tongdun.customer_id = customer.id LEFT JOIN (select customer_id,min(lg.create_time) as create_time from `banda-etl-s3`.t_loan_app_status_log lg left join `banda-etl-s3`.t_loan_app app ON lg.loan_app_id = app.id where lg.old_status='AUTHORIZATION' and lg.new_status='FINAL_REVIEW' and date(lg.create_time + interval '7' hour) >= date '2019-08-01' group by customer_id) lgt ON customer.id = lgt.customer_id\"\"\",\n",
    "         \"t_loan_eft\":\"\"\"with             parent_table as (             SELECT  id loan_id                    ,customer_id             FROM `banda-etl-s3`.t_loan_app             WHERE paid_off_mode = 'ROLLOVER'              AND (parent_id is null or parent_id = 0)              AND date(create_time + interval '7' hour ) >= date '2019-08-01'                 ),             last_roll_table as (                                SELECT  last_loan_id                     ,status                     ,customer_id                 FROM                  (                     SELECT  l.id last_loan_id                         ,l.status                         ,l.customer_id                         ,rank() over (partition by l.customer_id ORDER BY p.loan_id) rnk                     FROM `banda-etl-s3`.t_loan_app l                     RIGHT JOIN parent_table p                     ON l.customer_id = p.customer_id AND p.loan_id < l.id                      AND (l.paid_off_mode is null AND l.status IN ('PAID_OFF', 'OVERDUE', 'GRACE_PERIOD', 'CURRENT'))                     WHERE date(l.create_time + interval '7' hour ) >= date '2019-08-01'                   ) rnk                 WHERE rnk.rnk = 1                  ),             rollover_table as (                      SELECT  id                    ,customer_id                    ,parent_loan_id                                       AS primary_id                     ,last_loan_id                    ,rank() over(partition by parent_loan_id ORDER BY id) AS rollover_rnk             FROM              (                 SELECT  l.id                        ,l.customer_id                        ,l.parent_id                        ,l.status                        ,l.loan_type                        ,l.paid_off_mode                        ,rank() over (partition by l.id ORDER BY p.loan_id desc,lr.last_loan_id) rnk                        ,p.loan_id parent_loan_id                        ,lr.last_loan_id                 FROM `banda-etl-s3`.t_loan_app l                 RIGHT JOIN parent_table p                 ON p.loan_id < l.id AND p.customer_id = l.customer_id                 LEFT JOIN last_roll_table lr                 ON l.id <= lr.last_loan_id AND lr.customer_id = l.customer_id                 WHERE l.status IN ('PAID_OFF', 'OVERDUE', 'GRACE_PERIOD', 'CURRENT')                  AND date(l.create_time + interval '7' hour ) >= date '2019-08-01'                  AND l.loan_type = 'ROLLOVER'                 ORDER BY l.id               )             WHERE rnk = 1             ORDER BY id                ),             last_loan as              (             SELECT  primary_id                     ,last_loan_id                    ,COUNT(*) AS k             FROM rollover_table             GROUP BY  primary_id                       ,last_loan_id             ),             issue as              (             SELECT  app.id                    ,MIN(status.create_time) AS issue_time             FROM `banda-etl-s3`.t_loan_app app             LEFT JOIN `banda-etl-s3`.t_loan_app_status_log status             ON app.id = status.loan_app_id             WHERE app.status IN ('PAID_OFF', 'OVERDUE', 'GRACE_PERIOD', 'CURRENT')              AND status.new_status = 'CURRENT'              AND date(app.create_time + interval '7' hour ) >= date '2019-08-01'              GROUP BY  app.id             ),             paid_off as              (             SELECT  app.id                    ,MIN(status.create_time) AS paid_off_time             FROM `banda-etl-s3`.t_loan_app app             LEFT JOIN `banda-etl-s3`.t_loan_app_status_log status             ON app.id = status.loan_app_id             WHERE app.status IN ('PAID_OFF', 'OVERDUE', 'GRACE_PERIOD', 'CURRENT')              AND status.new_status = 'PAID_OFF'              AND date(app.create_time + interval '7' hour ) >= date '2019-08-01'              GROUP BY  app.id             ),             issue_rank as              (             SELECT  app.id                    ,rank() over (partition by customer_id ORDER BY id) AS rnk             FROM `banda-etl-s3`.t_loan_app app             WHERE app.status IN ('PAID_OFF', 'OVERDUE', 'GRACE_PERIOD', 'CURRENT')              AND app.loan_type != 'ROLLOVER'              AND date(app.create_time + interval '7' hour ) >= date '2019-08-01'              )              SELECT  app.id                    ,app.amount                                                                                                AS issue_amount                    ,app.status                    ,app.create_time                    ,lpay.due_date                    ,app.customer_id                    ,CASE WHEN lpay.principal_paid IS NULL THEN 0  ELSE lpay.principal_paid END                                AS principal_paid                    ,CASE WHEN lpay.interest_paid IS NULL THEN 0  ELSE lpay.interest_paid END                                  AS interest_paid                    ,CASE WHEN lpay.default_paid IS NULL THEN 0  ELSE lpay.default_paid END                                    AS default_paid                    ,CASE WHEN lpay.default_fee_paid IS NULL THEN 0  ELSE lpay.default_fee_paid END                            AS default_fee_paid                    ,CASE WHEN lpay.rollover_fee_paid IS NULL THEN 0  ELSE lpay.rollover_fee_paid END                          AS rollover_fee_paid                    ,CASE WHEN lpay.default_fee_accr IS NULL THEN 0  ELSE lpay.default_fee_accr END                            AS default_fee_accr                    ,coalesce(if(lpay.erase_amount is null or lpay.erase_amount = 0,reduce.reduce_amount,lpay.erase_amount),0) AS erase_amount --减免金额                    ,CASE WHEN lpay.coupon_amount IS NULL THEN 0                          WHEN lpay.status = 'INACTIVE' THEN lpay.coupon_amount  ELSE 0 END                                    AS coupon_amount                    ,app.loan_type                    ,app.paid_off_mode                    ,app.parent_id                    ,CASE WHEN app.loan_type != 'ROLLOVER' THEN app.id  ELSE roll.primary_id END                               AS primary_id                    ,CASE WHEN app.paid_off_mode is null THEN app.id                          WHEN ll.last_loan_id is not null THEN ll.last_loan_id  ELSE roll.last_loan_id END                    AS last_loan_id                    ,CASE WHEN app.loan_type != 'ROLLOVER' THEN 0  ELSE roll.rollover_rnk END                                  AS rollover_rnk                    ,ie.issue_time                    ,po.paid_off_time                    ,ik.rnk                                                                                                    AS issue_rnk             FROM `banda-etl-s3`.t_loan_app app             LEFT JOIN `banda-etl-s3`.t_lpay lpay             ON app.id = lpay.loan_app_id             LEFT JOIN             (                 SELECT  loan_app_id                        ,reduce_amount                 FROM `banda-etl-s3`.t_reduce                 WHERE reduce_type = 'COLLECTION_REDUCE'                 AND reduce_status = 'SUCCEED'              )reduce             ON app.id = reduce.loan_app_id             LEFT JOIN rollover_table roll             ON app.id = roll.id             LEFT JOIN last_loan ll             ON app.id = ll.primary_id             LEFT JOIN issue ie             ON app.id = ie.id             LEFT JOIN paid_off po             ON app.id = po.id             LEFT JOIN issue_rank AS ik             ON app.id = ik.id             WHERE app.status IN ('PAID_OFF', 'OVERDUE', 'GRACE_PERIOD', 'CURRENT')             AND date(app.create_time + interval '7' hour ) >= date '2019-08-01'             AND app.customer_id not IN ( SELECT customer_id FROM `banda-etl-s3`.t_test_customer)  \"\"\",\n",
    "         \"t_distribute_detail_daily\" :  \"\"\"\n",
    "\n",
    "                                        -- 记录每个案件每次分案的信息\n",
    "                                        -- 一个案件在一个队列内部流转，对于队列来说计算最早那次流入算作流入队列时间，但是对于催收员来说，仅计算最后一次队列内流转的分案信息\n",
    "                                        -- 需要剔除分案之前结清的订单\n",
    "                                        -- 月初流转的数据怎么计算：月初流转以后进行判断，如果可以流转到下个队列就流转（fst_assign_ingroup_time），如果不可以，就停留在当前队列（final_assign_ingroup_time）\n",
    "                                        with paid_off_detail as \n",
    "                                        (\n",
    "                                        SELECT  lg.loan_app_id\n",
    "                                               ,lg.create_time AS paid_off_time\n",
    "                                        FROM `banda-etl-s3`.t_loan_app app2\n",
    "                                        JOIN `banda-etl-s3`.t_loan_app_status_log lg\n",
    "                                        ON lg.loan_app_id=app2.id AND lg.new_status='PAID_OFF'\n",
    "                                        WHERE app2.product_name='RUPIAHONE'\n",
    "                                        AND app2.status IN ('CURRENT', 'GRACE_PERIOD', 'OVERDUE', 'PAID_OFF')  \n",
    "                                        ),\n",
    "                                        assign_detail as \n",
    "                                        (\n",
    "                                            select*from\n",
    "                                            (\n",
    "                                            SELECT  new_assign.*\n",
    "                                                   ,row_number()OVER (PARTITION BY ref_id,date(create_time+interval'7'hour) ORDER BY create_time DESC )AS rn\n",
    "                                                   ,paid_off.paid_off_time --结清时间（分案之后的）\n",
    "                                            FROM `banda-etl-s3`.t_case_distribution_log new_assign\n",
    "                                            left join paid_off_detail paid_off on  new_assign.ref_id=paid_off.loan_app_id\n",
    "                                            WHERE topic='AVERAGE_ASSIGN_CASE_TO_REVIEWER'\n",
    "                                            and  (create_time<paid_off_time or  paid_off.loan_app_id is null)--剔除分案之前已结清分案\n",
    "                                            ) \n",
    "                                            where rn=1 --月初可能出现一天内分案两次的情况，取最后一次为准\n",
    "                                        ),\n",
    "                                        audit_final as\n",
    "                                        (\n",
    "                                            select*from \n",
    "                                            (\n",
    "                                            SELECT  ref_id                                           AS loan_app_id\n",
    "                                                   ,reviewer_id                                      AS collector_id\n",
    "                                                   ,trigger\n",
    "                                                   ,create_time as final_assign_ingroup_time -- 组内最后一次分案时间(当月)\n",
    "                                                   ,month(create_time+interval'7'hour) as assign_month\n",
    "                                                   ,paid_off_time\n",
    "                                                   ,row_number()OVER (PARTITION BY ref_id,trigger,month(create_time+interval'7'hour) ORDER BY create_time DESC )AS rn\n",
    "                                            FROM assign_detail\n",
    "                                            )\n",
    "                                            where rn=1\n",
    "                                        ),\n",
    "                                        audit_fst as \n",
    "                                        (\tselect \n",
    "                                            ref_id\n",
    "                                            ,trigger\n",
    "                                            ,month(create_time+interval'7'hour) as assign_month\n",
    "                                            ,min(create_time) as fst_assign_ingroup_time  -- 首次进入组内分案时间\n",
    "                                            FROM assign_detail\n",
    "                                            group by \n",
    "                                            ref_id\n",
    "                                            ,trigger\n",
    "                                            ,month(create_time+interval'7'hour)\n",
    "                                        ), \n",
    "                                        audit_detail as \n",
    "                                        (\n",
    "                                        select\n",
    "                                        a.*,b.fst_assign_ingroup_time\n",
    "                                        from audit_final a \n",
    "                                        left join audit_fst b on a.loan_app_id=b.ref_id and a.trigger=b.trigger and a.assign_month=b.assign_month\n",
    "                                        ),\n",
    "                                        assign_detail_nosold as -- 剔除分案并且被出售记录\n",
    "                                        (\n",
    "                                            SELECT  t1.loan_app_id\n",
    "                                                   ,t1.collector_id as final_assign_ingroup_collector_id\n",
    "                                                   ,t1.full_name_x  as final_assign_ingroup_collector\n",
    "                                                   ,trigger\n",
    "                                                   ,t1.amount\n",
    "                                                   ,t1.fst_assign_ingroup_time\n",
    "                                                   ,t1.final_assign_ingroup_time\n",
    "                                                   ,t1.overdue_assign\n",
    "                                                   ,t1.id\n",
    "                                                   ,t1.erase_amount\n",
    "                                                   ,t1.paid_off_time\n",
    "                                            FROM\n",
    "                                            (\n",
    "                                                SELECT  audit.loan_app_id\n",
    "                                                       ,audit.collector_id                                                                                       \n",
    "                                                       ,ad.full_name_x                                                                                           \n",
    "                                                       ,audit.fst_assign_ingroup_time\n",
    "                                                       ,audit.final_assign_ingroup_time\n",
    "                                                       ,audit.paid_off_time\n",
    "                                                       ,app.amount\n",
    "                                                       ,lpay.due_date\n",
    "                                                       ,lpay.id\n",
    "                                                       ,lpay.erase_amount\n",
    "                                                       ,trigger\n",
    "                                                       ,datediff(DATE(audit.fst_assign_ingroup_time+interval'7'hour),DATE(lpay.due_date+interval'7'hour)) AS overdue_assign --分案时逾期天数\n",
    "                                                FROM audit_detail audit \n",
    "                                                LEFT JOIN`banda-etl-s3`.t_admin ad\n",
    "                                                ON ad.id=audit.collector_id\n",
    "                                                LEFT JOIN `banda-etl-s3`.t_loan_app app\n",
    "                                                ON app.id=audit.loan_app_id\n",
    "                                                LEFT JOIN `banda-etl-s3`.t_lpay lpay\n",
    "                                                ON lpay.loan_app_id=audit.loan_app_id\n",
    "                                                LEFT JOIN\n",
    "                                                (\n",
    "                                                    SELECT  rel.loan_id\n",
    "                                                    FROM `banda-etl-s3`.t_loan_tag_rel rel\n",
    "                                                    WHERE rel.tag_id IN ( SELECT id FROM `banda-etl-s3`.t_tag WHERE type='SELLING_CASE' )\n",
    "                                                    AND rel.status='ACTIVE' \n",
    "                                                ) mba\n",
    "                                                ON mba.loan_id=audit.loan_app_id\n",
    "                                                LEFT JOIN `banda-etl-s3`.t_collection_blacklist blacklist\n",
    "                                                ON blacklist.customer_id=app.customer_id AND blacklist.status='ACTIVE'\n",
    "                                                WHERE blacklist.customer_id IS NULL\n",
    "                                                AND mba.loan_id IS NULL -- 出售资产 \n",
    "                                            )t1\n",
    "                                        )\n",
    "\n",
    "                                        -- 建立分案信息明细表 日全量刷新  t_distribute_detail_daily\n",
    "                                        SELECT  t3.*\n",
    "                                               ,CASE WHEN t3.paid_prin_before_assign IS NULL THEN t3.loan_amt  ELSE t3.loan_amt-t3.paid_prin_before_assign END AS assign_unpaid_amount -- 剔除在分案之前已还款的金额\n",
    "                                               ,now() as insert_time\n",
    "                                        FROM\n",
    "                                        (\n",
    "                                            SELECT  t2.loan_app_id\n",
    "                                                   ,t2.final_assign_ingroup_collector_id\n",
    "                                                   ,t2.final_assign_ingroup_collector\n",
    "                                                   ,t2.overdue_assign                            AS overduedays_assign\n",
    "                                                   ,t2.amount                                    AS loan_amt\n",
    "                                                   ,t2.fst_assign_ingroup_time+interval'7'hour   AS fst_assign_ingroup_time_ind\n",
    "                                                   ,t2.final_assign_ingroup_time+interval'7'hour AS final_assign_ingroup_time_ind\n",
    "                                                   ,t2.paid_off_time+interval'7'hour             AS paid_off_time_ind\n",
    "                                                   ,if(map_load.enum is not null,map_load.map,trigger_group.description) as assign_stage\n",
    "                                                   ,t2.trigger\n",
    "                                                   ,SUM(deposit.cleared_amount)                  AS paid_amt_before_assign\n",
    "                                                   ,SUM(clear.principal)                         AS paid_prin_before_assign\n",
    "                                            FROM assign_detail_nosold t2\n",
    "                                            LEFT JOIN `banda-etl-s3`.t_lpay_deposit deposit\n",
    "                                            ON deposit.lpay_id=t2.id AND deposit.status='CLEARED' AND deposit.create_time<t2.fst_assign_ingroup_time \n",
    "                                            AND ( deposit.deposit_method !='DIRECT_TRANSFER' OR (deposit.deposit_method ='DIRECT_TRANSFER' AND deposit.cleared_amount !=ceil(t2.erase_amount)))\n",
    "                                            LEFT JOIN `banda-etl-s3`.t_reduce reduce\n",
    "                                            ON reduce.deposit_id =deposit.id AND reduce.reduce_status='SUCCEED'\n",
    "                                            LEFT JOIN `banda-etl-s3`.t_clear_detail_log clear\n",
    "                                            ON clear.deposit_id=deposit.id\n",
    "                                            LEFT JOIN (select*from zhusu.enum_mapping_load_table where id='1001') map_load  on t2.trigger=map_load.enum\n",
    "                                            LEFT JOIN\n",
    "                                            (select*from (\n",
    "                                                SELECT  trigger\n",
    "                                                       ,description\n",
    "                                                       ,row_number()over(partition by trigger ORDER BY update_time desc)rn\n",
    "                                                FROM `banda-etl-s3`.t_trigger_group )\n",
    "                                                WHERE rn=1 \n",
    "                                            ) trigger_group\n",
    "                                            ON t2.trigger=trigger_group.trigger\n",
    "                                            WHERE (reduce.reduce_type IS NULL OR reduce.reduce_type NOT IN ('DELAY_CALLBACK', 'NONE_CALLBACK_REDUCE', 'COLLECTION_REDUCE'))\n",
    "                                            GROUP BY  t2.loan_app_id\n",
    "                                                     ,t2.final_assign_ingroup_collector_id\n",
    "                                                     ,t2.final_assign_ingroup_collector\n",
    "                                                     ,t2.overdue_assign\n",
    "                                                     ,t2.amount\n",
    "                                                     ,t2.fst_assign_ingroup_time+interval'7'hour\n",
    "                                                     ,t2.final_assign_ingroup_time+interval'7'hour\n",
    "                                                     ,t2.paid_off_time+interval'7'hour\n",
    "                                                     ,if(map_load.enum is not null,map_load.map,trigger_group.description)\n",
    "                                                     ,t2.trigger\n",
    "                                        )t3 \"\"\",\n",
    "    \n",
    "    }\n",
    "   \n",
    "}\n",
    "def make_col_temptable(tableType,tableNm):\n",
    "    sql=tablemap[tableType][tableNm]\n",
    "    tablepath=\"s3://rupiahplus-data-warehouse/etl/\"+tableType+\"/analysis/\"+tableNm\n",
    "    spark.sql(sql).write.mode(\"overwrite\").orc(tablepath)\n",
    "#     builtins\n",
    "# \n",
    "if __name__ == \"__main__\":\n",
    "    spark = SparkSession\\\n",
    "        .builder\\\n",
    "        .appName(\"Python Demo\")\\\n",
    "        .config(\"hive.metastore.client.factory.class\", \"com.amazonaws.glue.catalog.metastore.AWSGlueDataCatalogHiveClientFactory\") \\\n",
    "        .enableHiveSupport()\\\n",
    "        .getOrCreate()\n",
    "#     spark.conf.set(\"spark.scheduler.mode\",\"FAIR\")\n",
    "    spark.conf.set(\"spark.sql.shuffle.partitions\",20)\n",
    "    for tableType in tablemap:\n",
    "#         databasesql=\"show tables in \"+databaseName\n",
    "#         tables=spark.sql(databasesql)\n",
    "#         tablelist=tables.collect();\n",
    "        executor=None\n",
    "        with futures.ThreadPoolExecutor(max_workers=10) as executor:\n",
    "            futures_result=futures.wait([executor.submit(make_col_temptable,tableType, tableNm) for tableNm in tablemap[tableType]])\n",
    "            for  future in futures_result[0]:\n",
    "                print(future.result())\n",
    "           \n"
   ]
  }
 ],
 "metadata": {
  "kernelspec": {
   "display_name": "PySpark",
   "language": "",
   "name": "pysparkkernel"
  },
  "language_info": {
   "codemirror_mode": {
    "name": "python",
    "version": 2
   },
   "mimetype": "text/x-python",
   "name": "pyspark",
   "pygments_lexer": "python2"
  }
 },
 "nbformat": 4,
 "nbformat_minor": 4
}
