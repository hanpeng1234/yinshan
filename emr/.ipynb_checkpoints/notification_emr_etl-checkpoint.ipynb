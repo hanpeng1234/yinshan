{
 "cells": [
  {
   "cell_type": "code",
   "execution_count": null,
   "metadata": {},
   "outputs": [
    {
     "data": {
      "application/vnd.jupyter.widget-view+json": {
       "model_id": "09ee640c0703472698f5533e3908570d",
       "version_major": 2,
       "version_minor": 0
      },
      "text/plain": [
       "VBox()"
      ]
     },
     "metadata": {},
     "output_type": "display_data"
    },
    {
     "name": "stdout",
     "output_type": "stream",
     "text": [
      "Starting Spark application\n"
     ]
    },
    {
     "data": {
      "text/html": [
       "<table>\n",
       "<tr><th>ID</th><th>YARN Application ID</th><th>Kind</th><th>State</th><th>Spark UI</th><th>Driver log</th><th>Current session?</th></tr><tr><td>0</td><td>application_1623309155673_0004</td><td>pyspark</td><td>idle</td><td><a target=\"_blank\" href=\"http://ip-10-3-0-39.ap-southeast-1.compute.internal:20888/proxy/application_1623309155673_0004/\">Link</a></td><td><a target=\"_blank\" href=\"http://ip-10-3-0-37.ap-southeast-1.compute.internal:8042/node/containerlogs/container_1623309155673_0004_01_000001/livy\">Link</a></td><td>✔</td></tr></table>"
      ],
      "text/plain": [
       "<IPython.core.display.HTML object>"
      ]
     },
     "metadata": {},
     "output_type": "display_data"
    },
    {
     "data": {
      "application/vnd.jupyter.widget-view+json": {
       "model_id": "",
       "version_major": 2,
       "version_minor": 0
      },
      "text/plain": [
       "FloatProgress(value=0.0, bar_style='info', description='Progress:', layout=Layout(height='25px', width='50%'),…"
      ]
     },
     "metadata": {},
     "output_type": "display_data"
    },
    {
     "name": "stdout",
     "output_type": "stream",
     "text": [
      "SparkSession available as 'spark'.\n"
     ]
    },
    {
     "data": {
      "application/vnd.jupyter.widget-view+json": {
       "model_id": "4ded3be8ff8c4fc08c1718a61a9f6d2b",
       "version_major": 2,
       "version_minor": 0
      },
      "text/plain": [
       "FloatProgress(value=0.0, bar_style='info', description='Progress:', layout=Layout(height='25px', width='50%'),…"
      ]
     },
     "metadata": {},
     "output_type": "display_data"
    }
   ],
   "source": [
    "import sys\n",
    "\n",
    "import numpy as np\n",
    "from pyspark.sql import SparkSession\n",
    "#查詢最大值最小值\n",
    "# select 't_coupon_change_log' as tablenm  ,min(id)  as minid,max(id)as maxid, 1 as index  from t_coupon_change_log\n",
    "# union all\n",
    "# select 't_coupon_record' as tablenm , min(id) as minid ,max(id) as maxid ,2 as index  from t_coupon_record\n",
    "# union all\n",
    "# select 't_coupon_store' as tablenm , min(id) as minid ,max(id) as maxid ,3 as index from t_coupon_store\n",
    "#  \"t_message\":\"notification_t_message\",\n",
    "#               \"t_message_channel\":\"notification_t_message_channel\",\n",
    "#               \"t_message_template\":\"notification_t_message_template\",  \n",
    "#               \"t_product_department\":\"notification_t_product_department\",  \n",
    "#               \"t_template\":\"notification_t_template\",  \n",
    "#               \"t_trigger\":\"notification_t_trigger\",  \n",
    "#############################################################################################################################\n",
    "# builtins\n",
    "# __main__\n",
    "if __name__ == \"builtins\":\n",
    "    tableList={\n",
    "        \"notification\":{\n",
    "\"url\" : \"jdbc:postgresql://adapundi-services-cluster-instance-1.ct3lmpqmpvcq.ap-southeast-1.rds.amazonaws.com:5432/notification\",\n",
    "              \"user\":\"etl_sync\",\n",
    "              \"password\":\"3CN04h092qfU2FfUKzft\",\n",
    "              \"type\":\"notification\",\n",
    "              \"ls\":[\n",
    "                  {\"tablenm\":'t_message', \"lowerbound\":'1', \"upperbound\":'11188826', \"index\":'1' },\n",
    "                  {\"tablenm\":'t_message_channel', \"lowerbound\":'1', \"upperbound\":'467', \"index\":'2' },\n",
    "                  {\"tablenm\":'t_message_template', \"lowerbound\":'1', \"upperbound\":'467', \"index\":'3' },\n",
    "                  {\"tablenm\":'t_product_department', \"lowerbound\":'1', \"upperbound\":'3', \"index\":'4' },\n",
    "                  {\"tablenm\":'t_template', \"lowerbound\":'1', \"upperbound\":'500', \"index\":'5' },\n",
    "                  {\"tablenm\":'t_trigger', \"lowerbound\":'1', \"upperbound\":'265', \"index\":'6' },\n",
    "            ],\n",
    "        },\n",
    "    }\n",
    "    spark = SparkSession\\\n",
    "        .builder\\\n",
    "        .appName(\"Python Demo\")\\\n",
    "        .enableHiveSupport()\\\n",
    "        .getOrCreate()\n",
    "    for database in tableList:\n",
    "        print(database)\n",
    "        url = tableList[database][\"url\"]\n",
    "        user = tableList[database][\"user\"]\n",
    "        password = tableList[database][\"password\"]\n",
    "        tbtype = tableList[database][\"type\"]\n",
    "        ls = tableList[database][\"ls\"]\n",
    "        for row in ls:\n",
    "            print(row)\n",
    "            tableNm=row[\"tablenm\"]\n",
    "            lowerBound=row[\"lowerbound\"]\n",
    "            upperBound=row[\"upperbound\"]\n",
    "            df = spark.read.format(\"jdbc\").option(\"url\", url).option(\"user\", user).option(\"password\", password).option(\"partitionColumn\", \"id\").option(\"dbtable\", tableNm).option(\"lowerBound\", lowerBound).option(\"upperBound\", upperBound).option(\"numPartitions\", 10000).load()\n",
    "            df.createOrReplaceTempView(\"t\")\n",
    "            bound = spark.sql(\"select max(id) max, min(id) min from t\")\n",
    "            max = bound.collect()[0].max\n",
    "            min = bound.collect()[0].min\n",
    "            df_table = spark.read.format(\"jdbc\").option(\"url\", url).option(\"dbtable\",  tableNm).option(\"user\", user).option(\"password\", password).option(\"partitionColumn\", \"id\").option(\"lowerBound\", min).option(\"upperBound\", max).option(\"numPartitions\", 10000).load()\n",
    "            path=\"s3://rupiahplus-data-warehouse/aliyun/\"+tbtype+\"_emr/\"+tableNm\n",
    "            df_table.write.mode(\"overwrite\").orc(path)\n"
   ]
  },
  {
   "cell_type": "code",
   "execution_count": null,
   "metadata": {},
   "outputs": [],
   "source": []
  }
 ],
 "metadata": {
  "kernelspec": {
   "display_name": "PySpark",
   "language": "",
   "name": "pysparkkernel"
  },
  "language_info": {
   "codemirror_mode": {
    "name": "python",
    "version": 2
   },
   "mimetype": "text/x-python",
   "name": "pyspark",
   "pygments_lexer": "python2"
  }
 },
 "nbformat": 4,
 "nbformat_minor": 4
}
