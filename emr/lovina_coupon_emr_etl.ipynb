{
 "cells": [
  {
   "cell_type": "code",
   "execution_count": 1,
   "metadata": {},
   "outputs": [
    {
     "data": {
      "application/vnd.jupyter.widget-view+json": {
       "model_id": "f87b76a56fd7414486962b71b8cc97a3",
       "version_major": 2,
       "version_minor": 0
      },
      "text/plain": [
       "VBox()"
      ]
     },
     "metadata": {},
     "output_type": "display_data"
    },
    {
     "name": "stdout",
     "output_type": "stream",
     "text": [
      "Starting Spark application\n"
     ]
    },
    {
     "data": {
      "text/html": [
       "<table>\n",
       "<tr><th>ID</th><th>YARN Application ID</th><th>Kind</th><th>State</th><th>Spark UI</th><th>Driver log</th><th>Current session?</th></tr><tr><td>0</td><td>application_1613975431341_0006</td><td>pyspark</td><td>idle</td><td></td><td></td><td>✔</td></tr></table>"
      ],
      "text/plain": [
       "<IPython.core.display.HTML object>"
      ]
     },
     "metadata": {},
     "output_type": "display_data"
    },
    {
     "data": {
      "application/vnd.jupyter.widget-view+json": {
       "model_id": "",
       "version_major": 2,
       "version_minor": 0
      },
      "text/plain": [
       "FloatProgress(value=0.0, bar_style='info', description='Progress:', layout=Layout(height='25px', width='50%'),…"
      ]
     },
     "metadata": {},
     "output_type": "display_data"
    },
    {
     "name": "stdout",
     "output_type": "stream",
     "text": [
      "SparkSession available as 'spark'.\n"
     ]
    },
    {
     "data": {
      "application/vnd.jupyter.widget-view+json": {
       "model_id": "",
       "version_major": 2,
       "version_minor": 0
      },
      "text/plain": [
       "FloatProgress(value=0.0, bar_style='info', description='Progress:', layout=Layout(height='25px', width='50%'),…"
      ]
     },
     "metadata": {},
     "output_type": "display_data"
    }
   ],
   "source": [
    "from __future__ import print_function\n",
    "\n",
    "import sys\n",
    "\n",
    "import numpy as np\n",
    "from pyspark.sql import SparkSession\n",
    "#查詢最大值最小值\n",
    "# select 't_coupon_change_log' as tablenm  ,min(id)  as minid,max(id)as maxid, 1 as index  from t_coupon_change_log\n",
    "# union all\n",
    "# select 't_coupon_record' as tablenm , min(id) as minid ,max(id) as maxid ,2 as index  from t_coupon_record\n",
    "# union all\n",
    "# select 't_coupon_store' as tablenm , min(id) as minid ,max(id) as maxid ,3 as index from t_coupon_store\n",
    "#############################################################################################################################\n",
    "# builtins\n",
    "# __main__\n",
    "if __name__ == \"builtins\":\n",
    "    tableList=[{\"tablenm\":'t_coupon_change_log', \"lowerbound\":'1', \"upperbound\":'513383', \"index\":'1' },\n",
    "               {\"tablenm\":'t_coupon_record', \"lowerbound\":'1', \"upperbound\":'2238418', \"index\":'2' },\n",
    "               {\"tablenm\":'t_coupon_store', \"lowerbound\":'1', \"upperbound\":'238418', \"index\":'3'}]\n",
    "    spark = SparkSession\\\n",
    "        .builder\\\n",
    "        .appName(\"Python Demo\")\\\n",
    "        .enableHiveSupport()\\\n",
    "        .getOrCreate()\n",
    "\n",
    "    url = \"jdbc:postgresql://lovina-prod.ct3lmpqmpvcq.ap-southeast-1.rds.amazonaws.com:5432/coupon\"\n",
    "    user= \"elt_sync\"\n",
    "    password=\"VW7buZwvYWhVMusrkZN1\"\n",
    "    for row in tableList:\n",
    "        tableNm=row[\"tablenm\"]\n",
    "        lowerBound=row[\"lowerbound\"]\n",
    "        upperBound=row[\"upperbound\"]\n",
    "        df = spark.read.format(\"jdbc\").option(\"url\", url).option(\"user\", user).option(\"password\", password).option(\"partitionColumn\", \"id\").option(\"dbtable\", tableNm).option(\"lowerBound\", lowerBound).option(\"upperBound\", upperBound).option(\"numPartitions\", 1000).load()\n",
    "        df.createOrReplaceTempView(\"t\")\n",
    "        bound = spark.sql(\"select max(id) max, min(id) min from t\")\n",
    "        max = bound.collect()[0].max\n",
    "        min = bound.collect()[0].min\n",
    "        df_table = spark.read.format(\"jdbc\").option(\"url\", url).option(\"dbtable\",  tableNm).option(\"user\", user).option(\"password\", password).option(\"partitionColumn\", \"id\").option(\"lowerBound\", min).option(\"upperBound\", max).option(\"numPartitions\", 1000).load()\n",
    "        path=\"s3://rupiahplus-data-warehouse/aliyun/copuon_emr/\"+tableNm\n",
    "        df_table.write.mode(\"overwrite\").orc(path)\n",
    "    spark.stop()\n"
   ]
  }
 ],
 "metadata": {
  "kernelspec": {
   "display_name": "PySpark",
   "language": "",
   "name": "pysparkkernel"
  },
  "language_info": {
   "codemirror_mode": {
    "name": "python",
    "version": 2
   },
   "mimetype": "text/x-python",
   "name": "pyspark",
   "pygments_lexer": "python2"
  }
 },
 "nbformat": 4,
 "nbformat_minor": 4
}
