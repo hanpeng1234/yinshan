{
 "cells": [
  {
   "cell_type": "code",
   "execution_count": 1,
   "metadata": {},
   "outputs": [
    {
     "data": {
      "application/vnd.jupyter.widget-view+json": {
       "model_id": "e475e6ecfaa74ea1b6914ea3b4b3812a",
       "version_major": 2,
       "version_minor": 0
      },
      "text/plain": [
       "VBox()"
      ]
     },
     "metadata": {},
     "output_type": "display_data"
    },
    {
     "name": "stdout",
     "output_type": "stream",
     "text": [
      "Starting Spark application\n"
     ]
    },
    {
     "data": {
      "text/html": [
       "<table>\n",
       "<tr><th>ID</th><th>YARN Application ID</th><th>Kind</th><th>State</th><th>Spark UI</th><th>Driver log</th><th>Current session?</th></tr><tr><td>1</td><td>application_1609136646673_0002</td><td>pyspark</td><td>idle</td><td><a target=\"_blank\" href=\"http://ip-10-3-0-107.ap-southeast-1.compute.internal:20888/proxy/application_1609136646673_0002/\">Link</a></td><td><a target=\"_blank\" href=\"http://ip-10-3-0-81.ap-southeast-1.compute.internal:8042/node/containerlogs/container_1609136646673_0002_01_000001/livy\">Link</a></td><td>✔</td></tr></table>"
      ],
      "text/plain": [
       "<IPython.core.display.HTML object>"
      ]
     },
     "metadata": {},
     "output_type": "display_data"
    },
    {
     "data": {
      "application/vnd.jupyter.widget-view+json": {
       "model_id": "",
       "version_major": 2,
       "version_minor": 0
      },
      "text/plain": [
       "FloatProgress(value=0.0, bar_style='info', description='Progress:', layout=Layout(height='25px', width='50%'),…"
      ]
     },
     "metadata": {},
     "output_type": "display_data"
    },
    {
     "name": "stdout",
     "output_type": "stream",
     "text": [
      "SparkSession available as 'spark'.\n"
     ]
    },
    {
     "data": {
      "application/vnd.jupyter.widget-view+json": {
       "model_id": "",
       "version_major": 2,
       "version_minor": 0
      },
      "text/plain": [
       "FloatProgress(value=0.0, bar_style='info', description='Progress:', layout=Layout(height='25px', width='50%'),…"
      ]
     },
     "metadata": {},
     "output_type": "display_data"
    }
   ],
   "source": [
    "from __future__ import print_function\n",
    "\n",
    "import sys\n",
    "\n",
    "import numpy as np\n",
    "from pyspark.sql import SparkSession\n",
    "#查詢最大值最小值\n",
    "# select 't_channel_details' as tablenm  ,min(id)  as minid,max(id)as maxid  from t_channel_details\n",
    "# union all\n",
    "# select 't_channel_install_details' as tablenm , min(id) as minid ,max(id) as maxid   from t_channel_install_details\n",
    "# union all\n",
    "# select 't_customer' as tablenm , min(id) as minid ,max(id) as maxid   from t_customer\n",
    "# union all\n",
    "# select 't_date_range' as tablenm , min(id) as minid ,max(id) as maxid   from t_date_range\n",
    "# union all\n",
    "# select 't_loan_product' as tablenm , min(id) as minid ,max(id) as maxid   from t_loan_product\n",
    "# union all\n",
    "# select 't_track' as tablenm , min(id) as minid ,max(id) as maxid   from t_track\n",
    "# union all\n",
    "# select 't_track_banner' as tablenm , min(id) as minid ,max(id) as maxid   from t_track_banner\n",
    "# union all\n",
    "# select 't_track_click' as tablenm , min(id) as minid ,max(id) as maxid   from t_track_click\n",
    "# union all\n",
    "# select 't_track_detail' as tablenm , min(id) as minid ,max(id) as maxid   from t_track_detail\n",
    "# union all\n",
    "# select 't_track_impression' as tablenm , min(id) as minid ,max(id) as maxid   from t_track_impression\n",
    "# union all\n",
    "# select 't_track_main_page' as tablenm , min(id) as minid ,max(id) as maxid   from t_track_main_page\n",
    "# union all\n",
    "# select 't_track_main_page_log' as tablenm , min(id) as minid ,max(id) as maxid   from t_track_main_page_log\n",
    "# union all\n",
    "# select 't_track_site' as tablenm , min(id) as minid ,max(id) as maxid   from t_track_site\n",
    "#############################################################################################################################\n",
    "# builtins\n",
    "# __main__\n",
    "if __name__ == \"builtins\":\n",
    "    tableList=[\n",
    "        {\"tablenm\":'t_channel_details', \"minid\":'100002', \"maxid\":'2782669', \"index\":1}\n",
    "                {\"tablenm\":'t_channel_install_details', \"minid\":'100519', \"maxid\":'840240', \"index\":2},\n",
    "                {\"tablenm\":'t_customer', \"minid\":'100000', \"maxid\":'709480', \"index\":3},\n",
    "                {\"tablenm\":'t_date_range', \"minid\":'1', \"maxid\":'73201', \"index\":4},\n",
    "                {\"tablenm\":'t_loan_product', \"minid\":'100011', \"maxid\":'100475', \"index\":5 },\n",
    "                {\"tablenm\":'t_track', \"minid\":'100001', \"maxid\":'100004', \"index\":6 },\n",
    "                {\"tablenm\":'t_track_banner', \"minid\":'100000', \"maxid\":'258147', \"index\":7},\n",
    "                {\"tablenm\":'t_track_click', \"minid\":'100000', \"maxid\":'19131655', \"index\":8},\n",
    "                {\"tablenm\":'t_track_detail', \"minid\":'100000', \"maxid\":'1371826', \"index\":9 },\n",
    "                {\"tablenm\":'t_track_impression', \"minid\":'100000', \"maxid\":'4245287', \"index\":10 },\n",
    "                {\"tablenm\":'t_track_main_page', \"minid\":'100000', \"maxid\":'4191057', \"index\":11 },\n",
    "                {\"tablenm\":'t_track_main_page_log', \"minid\":'100000', \"maxid\":'429622', \"index\":12},\n",
    "                {\"tablenm\":'t_track_site', \"minid\":'3254831', \"maxid\":'30726642', \"index\":13},\n",
    "                {\"tableNm\":'t_sms', \"lowerBound\":'3254831', \"upperBound\":'30726642', \"index\":14} \n",
    "              ]\n",
    "    spark = SparkSession\\\n",
    "        .builder\\\n",
    "        .appName(\"Python Demo\")\\\n",
    "        .enableHiveSupport()\\\n",
    "        .getOrCreate()\n",
    "\n",
    "    url = \"jdbc:postgresql://dumarket.ct3lmpqmpvcq.ap-southeast-1.rds.amazonaws.com:5432/dumarket\"\n",
    "    user= \"dumarket\"\n",
    "    password=\"732dKf15sW9\"\n",
    "    for row in tableList:\n",
    "        tableNm=row[\"tableNm\"]\n",
    "        lowerBound=row[\"lowerBound\"]\n",
    "        upperBound=row[\"upperBound\"]\n",
    "        df = spark.read.format(\"jdbc\").option(\"url\", url).option(\"user\", user).option(\"password\", password).option(\"partitionColumn\", \"id\").option(\"dbtable\", tableNm).option(\"lowerBound\", lowerBound).option(\"upperBound\", upperBound).option(\"numPartitions\", 1000).load()\n",
    "        df.createOrReplaceTempView(\"t\")\n",
    "        bound = spark.sql(\"select max(id) max, min(id) min from t\")\n",
    "        max = bound.collect()[0].max\n",
    "        min = bound.collect()[0].min\n",
    "        df_table = spark.read.format(\"jdbc\").option(\"url\", url).option(\"dbtable\",  tableNm).option(\"user\", user).option(\"password\", password).option(\"partitionColumn\", \"id\").option(\"lowerBound\", min).option(\"upperBound\", max).option(\"numPartitions\", 1000).load()\n",
    "        path=\"s3://rupiahplus-data-warehouse/aliyun/dumarket/\"+tableNm\n",
    "        df_table.write.mode(\"overwrite\").orc(path)\n",
    "    spark.stop()\n"
   ]
  },
  {
   "cell_type": "code",
   "execution_count": null,
   "metadata": {},
   "outputs": [],
   "source": []
  }
 ],
 "metadata": {
  "kernelspec": {
   "display_name": "PySpark",
   "language": "",
   "name": "pysparkkernel"
  },
  "language_info": {
   "codemirror_mode": {
    "name": "python",
    "version": 2
   },
   "mimetype": "text/x-python",
   "name": "pyspark",
   "pygments_lexer": "python2"
  }
 },
 "nbformat": 4,
 "nbformat_minor": 4
}
