{
 "cells": [
  {
   "cell_type": "code",
   "execution_count": null,
   "metadata": {},
   "outputs": [
    {
     "data": {
      "application/vnd.jupyter.widget-view+json": {
       "model_id": "0e36ca8613474b6187278a8b4098b091",
       "version_major": 2,
       "version_minor": 0
      },
      "text/plain": [
       "VBox()"
      ]
     },
     "metadata": {},
     "output_type": "display_data"
    },
    {
     "name": "stdout",
     "output_type": "stream",
     "text": [
      "Starting Spark application\n"
     ]
    },
    {
     "data": {
      "text/html": [
       "<table>\n",
       "<tr><th>ID</th><th>YARN Application ID</th><th>Kind</th><th>State</th><th>Spark UI</th><th>Driver log</th><th>Current session?</th></tr><tr><td>0</td><td>application_1600855093556_0001</td><td>pyspark</td><td>idle</td><td><a target=\"_blank\" href=\"http://ip-172-31-14-240.ap-southeast-1.compute.internal:20888/proxy/application_1600855093556_0001/\">Link</a></td><td><a target=\"_blank\" href=\"http://ip-172-31-2-87.ap-southeast-1.compute.internal:8042/node/containerlogs/container_1600855093556_0001_01_000001/livy\">Link</a></td><td>✔</td></tr></table>"
      ],
      "text/plain": [
       "<IPython.core.display.HTML object>"
      ]
     },
     "metadata": {},
     "output_type": "display_data"
    },
    {
     "data": {
      "application/vnd.jupyter.widget-view+json": {
       "model_id": "",
       "version_major": 2,
       "version_minor": 0
      },
      "text/plain": [
       "FloatProgress(value=0.0, bar_style='info', description='Progress:', layout=Layout(height='25px', width='50%'),…"
      ]
     },
     "metadata": {},
     "output_type": "display_data"
    },
    {
     "name": "stdout",
     "output_type": "stream",
     "text": [
      "SparkSession available as 'spark'.\n"
     ]
    },
    {
     "data": {
      "application/vnd.jupyter.widget-view+json": {
       "model_id": "9b848f30dc784f19b4a5a86f2816f4c2",
       "version_major": 2,
       "version_minor": 0
      },
      "text/plain": [
       "FloatProgress(value=0.0, bar_style='info', description='Progress:', layout=Layout(height='25px', width='50%'),…"
      ]
     },
     "metadata": {},
     "output_type": "display_data"
    }
   ],
   "source": [
    "# from __future__ import print_function\n",
    "\n",
    "import sys\n",
    "\n",
    "from pyspark.sql import SparkSession\n",
    "from datetime import datetime, timedelta\n",
    "import pyspark.sql.functions as F\n",
    "import json\n",
    "import pyspark.sql.types as T\n",
    "import pytz\n",
    "import hashlib\n",
    "import pytz\n",
    "import re\n",
    "year = datetime.now().year\n",
    "partitionCol= str(year)+\" year \"\n",
    "dbmap = {\"banda_guest\": \"1\"}\n",
    "#是否特殊special，特殊的需要自己写sql\n",
    "guestTable = {\n",
    "            \"banda\":{\n",
    "                  \"thirdparty\":[\"select thirdparty_id, update_time, retry_times, create_time, parseJson(regexp_replace(response, '(\\d*)(8|62)(\\d{4})(\\d*)', '$1$2xxxx$4')) response,channel,id,customer_id,loan_id,status ,\"+partitionCol,\" where client_id = 0 and channel<10000 \"],\n",
    "                  \"t_ktp\":[\"select  id,accurate,channel,name,sha2(ktp, 256) ktp,parseJson(response) response ,create_time,update_time ,\"+partitionCol ],\n",
    "                  \"ddb_event_gps_filter_prod\":\"\",\n",
    "                  \"t_customer\":\"\",\n",
    "                  \"t_loan_app\":  \"\",\n",
    "                  \"t_loan_app_status_log\": \"\",\n",
    "                  \"t_lpay\":  \"\",\n",
    "                  \"t_personal_info\":[\"select id, customer_id, loan_app_id, gender, credential_type, province, city, district, area, address, last_education, marital_status, children_number, residence_duration, facebook_id, car_number, house_number, ethnic, religion, nationality, ktp_gender, ktp_province, ktp_city, ktp_district, ktp_date_of_birth, ktp_analyze_status, status, create_time, update_time, email, cast(substring(credential_no, 11, 2) as bigint) birth_year, case when cast(substring(credential_no, 11, 2) as bigint) > 37 then (year(current_date()) - cast(substring(credential_no, 11, 2) as bigint) - 1900) else (year(current_date()) - cast(substring(credential_no, 11, 2) as bigint) - 2000) end age ,\"+partitionCol+\" from\" ],\n",
    "                  \"t_auto_review_loan\":\"\",\n",
    "                  \"t_loan_app_review_summary\":  \"\",\n",
    "                  \"t_review_blacklist\": [\"select  id, admin_id, status, type,sha2(value, 256) value , reason, create_time, extension_value, source,  \"+partitionCol+\" from \"],\n",
    "                  \"t_review_step_execution\": \"\",\n",
    "                  \"t_lpay_deposit\": \"\",\n",
    "                  \"t_engine_rule_detail\":  \"\",\n",
    "                  \"t_thirdparty_data\": [\"select * from \",\" WHERE data_type IN (10, 5, 8)\"],\n",
    "                  \"t_employment\": \"\",\n",
    "                  \"t_contact\":  [\"select ct.id, ct.customer_id, ct.loan_app_id, ct.name, sha2(ct.format_new_mobile, 256) mobile, ct.relation, ct.credential_no, ct.credential_type, ct.address, ct.company_name, ct.job_title, ct.create_time, ct.update_time, ct.comment, ct.mobile_status, cm.id contact_customer_id, \"+partitionCol+\" from ( SELECT tmp.id, tmp.customer_id, tmp.loan_app_id, tmp.name, tmp.mobile, tmp.relation, tmp.credential_no, tmp.credential_type, tmp.address, tmp.company_name, tmp.job_title, tmp.create_time, tmp.update_time, tmp.comment, tmp.mobile_status, CASE WHEN tmp.new_mobile LIKE '62%' THEN '0' || substring(tmp.new_mobile, 3, length(tmp.new_mobile)) WHEN tmp.new_mobile LIKE '8%' THEN '0' || tmp.new_mobile ELSE tmp.new_mobile END format_new_mobile FROM (SELECT *, regexp_replace(mobile, '[^0-9]', '') new_mobile FROM\",\") as tmp ) ct left join \",\" cm on (ct.format_new_mobile = cm.mobile)\"],\n",
    "                  \"t_collection_audit\": \"\",\n",
    "                  \"t_channel_details\": \"\",\n",
    "                  \"t_loan_tag_rel\": \"\",\n",
    "                  \"t_loan_log\":  \"\",\n",
    "                  \"t_record_personal_info\": \"\",\n",
    "                  \"t_customer_app\":\"\",\n",
    "                  \"t_customer_device_info\": \"\",\n",
    "                  \"t_customer_install_info\":\"\",\n",
    "                  \"t_login_log\":\"\",\n",
    "                  \"t_group\":\"\",\n",
    "                  \"t_admin\":\"\",\n",
    "                  \"t_admin_group_rel\":\"\",\n",
    "                  \"t_af_bill\":\"\",\n",
    "                  \"t_test_customer\":\"\"\n",
    "            },\n",
    "        }\n",
    "patten='(\"phone\"|\"phone_number\"|\"user_mobile\"|\"number\"|\"id_card_no\"|\"nik\"|\"caller\"|\"callee\"|\"to\"|\"mobile_phone\"|\"mobile\"|\"accountnumber\"|\"identity_code\"):\"(?:[^\"\\\\\\\\]|\\\\\\\\.)*\"'\n",
    "\n",
    "patten_arr='(\"mh_value\"):\\[[^\\[\\]]*\\]'\n",
    "\n",
    "patten_sms='to=\\d*'\n",
    "\n",
    "mobileType=['\"phone\"','\"phone_number\"','\"user_mobile\"','\"number\"','\"caller\"','\"callee\"','\"to\"','\"mobile_phone\"','\"mobile\"']\n",
    "\n",
    "sms_channel_List=[10003,10004,10007,10010,10011,10012]\n",
    "# 替换手机号\n",
    "def getRelmobile(type,str):\n",
    "    if type in mobileType:\n",
    "        relmobile = str.strip().replace(\"+\", \"\").replace(\"-\", \"\").replace(\" \", \"\").replace('\"', '')\n",
    "        if (relmobile.startswith(\"62\")):\n",
    "            relmobile = relmobile.replace(\"62\", \"0\",1)\n",
    "        if relmobile.startswith(\"0\") == False:\n",
    "            relmobile = \"0\" + relmobile;\n",
    "        return relmobile\n",
    "    return str\n",
    "# 替换\"key\":\"value\"\n",
    "def match_replaceQuote(matchObj):\n",
    "    dic=matchObj.group()\n",
    "    diclist=dic.split(\":\")\n",
    "    str1=str(diclist[0])+':\"'+ sha2(str(diclist[0]),str(diclist[1]).replace('\"','')) +'\"'\n",
    "    return str1\n",
    "# 加密\n",
    "def sha2(type,obj):\n",
    "    return str(hashlib.sha256(str(getRelmobile(type,obj)).encode('utf-8')).hexdigest() if obj!=None else obj)\n",
    "# 替换\"key\":[\"value1\",\"value2\"]\n",
    "# 暂时略过，会报错\n",
    "def match_replaceQuote2(matchObj):\n",
    "    dic = matchObj.group()\n",
    "    diclist = dic.split(\":\")\n",
    "    if diclist!=None and len(diclist)>1:\n",
    "        arr = json.loads(diclist[1])\n",
    "        if arr!=None and len(arr)>0:\n",
    "            arr1=map(lambda x:sha2(str(diclist[0]),str(x)),arr)\n",
    "            return str(diclist[0])+':'+str(list(arr1)).replace(\"'\", '\"')\n",
    "        return matchObj\n",
    "    return matchObj\n",
    "def parseJson(d):\n",
    "    if d!=\"\" and d != None:\n",
    "        pattern1=re.compile(patten).sub(match_replaceQuote,d)\n",
    "#             pattern2=re.compile(patten_arr).sub(match_replaceQuote2,pattern1)\n",
    "        return pattern1\n",
    "    else:\n",
    "        return d\n",
    "\n",
    "# print(__name__)builtins\n",
    "# print(__main__)\n",
    "if __name__ == \"builtins\":\n",
    "    \n",
    "    spark = SparkSession \\\n",
    "        .builder \\\n",
    "        .appName(\"Python Demo\") \\\n",
    "        .config(\"hive.metastore.client.factory.class\",\n",
    "                \"com.amazonaws.glue.catalog.metastore.AWSGlueDataCatalogHiveClientFactory\") \\\n",
    "        .config(\"spark.driver.maxResultSize\", \"4g\") \\\n",
    "        .enableHiveSupport() \\\n",
    "        .getOrCreate()\n",
    "    spark.conf.set(\"hive.exec.dynamic.partition.mode\", \"nonstrict\");\n",
    "    spark.conf.set(\"spark.sql.sources.partitionOverwriteMode\", \"dynamic\")\n",
    "    spark.conf.set(\"spark.hadoop.orc.overwrite.output.file\", \"true\")\n",
    "#     ,T.StringType()\n",
    "    spark.udf.register(\"parseJson\",parseJson)\n",
    "    for row in guestTable:\n",
    "        tabletMap = row\n",
    "        for table in guestTable[tabletMap]:\n",
    "            tableName = table\n",
    "            if tabletMap=='banda':\n",
    "                if tableName==\"thirdparty\":\n",
    "                    sql=guestTable[tabletMap][tableName][0]+\" from thirdparty_etl.thirdparty_t_task \"+guestTable[tabletMap][tableName][1]\n",
    "                    guestPath = \"s3://rupiahplus-data-warehouse/etl/banda/guest/\" + tableName\n",
    "                    df=spark.sql(sql)\n",
    "                    df.write.mode(\"overwrite\").partitionBy(\"year\").orc(guestPath)\n",
    "                elif tableName=='t_ktp':\n",
    "                    sql= guestTable[tabletMap][tableName][0]+\"from  lovina_etl_s3.t_ktp \"\n",
    "                    guestPath = \"s3://rupiahplus-data-warehouse/etl/banda/guest/\" + tableName\n",
    "                    spark.sql(sql).write.mode(\"overwrite\").partitionBy(\"year\").orc(guestPath)   \n",
    "                elif tableName=='ddb_event_gps_filter_prod':\n",
    "                    sql= \"select * from ddb_event_track_s3.ddb_event_gps_filter_prod\"\n",
    "                    guestPath = \"s3://rupiahplus-data-warehouse/etl/banda/guest/\" + tableName\n",
    "                    spark.sql(sql).write.mode(\"overwrite\").partitionBy(\"year\").orc(guestPath)   \n",
    "                else :\n",
    "                    #先给banda加上今天的partitions\n",
    "                    tempDataBase = \" `banda-etl-s3`\"\n",
    "                    guestPath = \"s3://rupiahplus-data-warehouse/etl/banda/guest/\" + tableName\n",
    "                    if tableName==\"t_customer\":\n",
    "                        sql = \"select * from  \"+tempDataBase+\".\"+tableName\n",
    "                        spark.sql(sql).withColumn('mobile', F.sha2(F.col('mobile'), 256)).drop('imei').drop('password').drop('etldate').write.mode(\"overwrite\").partitionBy(\"year\").orc(guestPath)\n",
    "                    elif tableName==\"t_loan_app\":\n",
    "                        sql = \"select * from  \" + tempDataBase + \".\" + tableName\n",
    "                        spark.sql(sql).drop('credential_no').drop('etldate').write.mode(\"overwrite\").partitionBy(\"year\").orc(guestPath)\n",
    "                    elif tableName==\"t_personal_info\":\n",
    "                        sql = guestTable[tabletMap][tableName][0]+tempDataBase+\".\"+tableName\n",
    "                        spark.sql(sql).drop('credential_no').drop('etldate').write.mode(\"overwrite\").partitionBy(\"year\").orc(guestPath)\n",
    "                    elif tableName == \"t_auto_review_loan\":\n",
    "                        sql = \"select * from  \" + tempDataBase + \".\" + tableName\n",
    "                        spark.sql(sql).drop('name').drop('etldate').write.mode(\"overwrite\").partitionBy(\"year\").orc(guestPath)\n",
    "                    elif tableName == \"t_lpay_deposit\":\n",
    "                        sql = \"select *  from  \" + tempDataBase + \".\" + tableName\n",
    "                        spark.sql(sql).drop('name').drop(\"deposit_channel\").drop(\"out_deposit_no\").drop(\"payment_code\").drop('etldate').write.mode(\"overwrite\").partitionBy(\"year\").orc(guestPath)\n",
    "                    elif tableName == \"t_thirdparty_data\":\n",
    "                        sql = guestTable[tabletMap][tableName][0] + tempDataBase + \".\" + tableName+guestTable[tabletMap][tableName][1]\n",
    "                        spark.sql(sql).drop('etldate').write.mode(\"overwrite\").partitionBy(\"year\").orc(guestPath)\n",
    "                    elif tableName == \"t_contact\":\n",
    "                        # 先给t_customer加上今天的partitions\n",
    "                        sql = guestTable[tabletMap][tableName][0]+tempDataBase+\".\"+tableName+guestTable[tabletMap][tableName][1]+tempDataBase+\".t_customer \"+guestTable[tabletMap][tableName][2]\n",
    "                        spark.sql(sql).drop('etldate').write.mode(\"overwrite\").partitionBy(\"year\").orc(guestPath)\n",
    "                    elif tableName == \"t_record_personal_info\":\n",
    "                        sql = \"select * from  \" + tempDataBase + \".\" + tableName\n",
    "                        spark.sql(sql).drop('credential_no').drop('etldate').write.mode(\"overwrite\").partitionBy(\"year\").orc(guestPath)\n",
    "                    elif tableName == \"t_login_log\":\n",
    "                        sql = \"select * from  \" + tempDataBase + \".\" + tableName\n",
    "                        spark.sql(sql).drop('mobile').drop('etldate').write.mode(\"overwrite\").partitionBy(\"year\").orc(guestPath)\n",
    "                    elif tableName == \"t_admin\":\n",
    "                        sql = \"select * from  \" + tempDataBase + \".\" + tableName\n",
    "                        spark.sql(sql).drop('mobile').drop('etldate').write.mode(\"overwrite\").partitionBy(\"year\").orc(guestPath)\n",
    "                    elif tableName == \"t_review_blacklist\":\n",
    "                        sql =guestTable[tabletMap][tableName][0] + tempDataBase + \".\" + tableName\n",
    "                        spark.sql(sql).drop('etldate').write.mode(\"overwrite\").partitionBy(\"year\").orc(guestPath)\n",
    "                    else :\n",
    "                        sql = \"select * from  \" + tempDataBase + \".\" + tableName\n",
    "                        spark.sql(sql).drop('etldate').write.mode(\"overwrite\").partitionBy(\"year\").orc(guestPath)"
   ]
  },
  {
   "cell_type": "code",
   "execution_count": 6,
   "metadata": {},
   "outputs": [
    {
     "data": {
      "application/vnd.jupyter.widget-view+json": {
       "model_id": "82d6e68e7aa3423c8ae8228df8bcc03e",
       "version_major": 2,
       "version_minor": 0
      },
      "text/plain": [
       "VBox()"
      ]
     },
     "metadata": {},
     "output_type": "display_data"
    },
    {
     "data": {
      "application/vnd.jupyter.widget-view+json": {
       "model_id": "",
       "version_major": 2,
       "version_minor": 0
      },
      "text/plain": [
       "FloatProgress(value=0.0, bar_style='info', description='Progress:', layout=Layout(height='25px', width='50%'),…"
      ]
     },
     "metadata": {},
     "output_type": "display_data"
    },
    {
     "name": "stdout",
     "output_type": "stream",
     "text": [
      "2020 year"
     ]
    }
   ],
   "source": [
    "# from __future__ import print_function\n",
    "\n",
    "import sys\n",
    "\n",
    "from pyspark.sql import SparkSession\n",
    "from datetime import datetime, timedelta\n",
    "import pyspark.sql.functions as F\n",
    "import json\n",
    "import pyspark.sql.types as T\n",
    "import pytz\n",
    "import hashlib\n",
    "import pytz\n",
    "import re\n",
    "#北京时间0点半执行，相当于utc时间昨天的16:30 ，所以时间不-1天\n",
    "# print(datetime.now(pytz.timezone(\"Asia/Shanghai\")).strftime( '%Y-%m-%d'))\n",
    "year = datetime.now().year\n",
    "a= str(year)+\" year\"\n",
    "print(a)"
   ]
  },
  {
   "cell_type": "code",
   "execution_count": null,
   "metadata": {},
   "outputs": [
    {
     "data": {
      "application/vnd.jupyter.widget-view+json": {
       "model_id": "426373a323ce4c3cb9bd6ac54ef35826",
       "version_major": 2,
       "version_minor": 0
      },
      "text/plain": [
       "VBox()"
      ]
     },
     "metadata": {},
     "output_type": "display_data"
    },
    {
     "data": {
      "application/vnd.jupyter.widget-view+json": {
       "model_id": "",
       "version_major": 2,
       "version_minor": 0
      },
      "text/plain": [
       "FloatProgress(value=0.0, bar_style='info', description='Progress:', layout=Layout(height='25px', width='50%'),…"
      ]
     },
     "metadata": {},
     "output_type": "display_data"
    },
    {
     "name": "stdout",
     "output_type": "stream",
     "text": [
      "+------+----+\n",
      "|    id|year|\n",
      "+------+----+\n",
      "|100015|2020|\n",
      "|100019|2020|\n",
      "|100022|2020|\n",
      "|100031|2020|\n",
      "|100052|2020|\n",
      "|100075|2020|\n",
      "|100096|2020|\n",
      "|100127|2020|\n",
      "|100137|2020|\n",
      "|100141|2020|\n",
      "|100192|2020|\n",
      "|100219|2020|\n",
      "|100226|2020|\n",
      "|100238|2020|\n",
      "|100277|2020|\n",
      "|100287|2020|\n",
      "|100292|2020|\n",
      "|100334|2020|\n",
      "|100413|2020|\n",
      "|100427|2020|\n",
      "+------+----+\n",
      "only showing top 20 rows"
     ]
    }
   ],
   "source": [
    "year = datetime.now().year\n",
    "partitionCol= str(year)+\" year\"\n",
    "sql='select  id ,'+ a+ \" from  luzon_etl_s3.t_admin_audit  limit 100\"\n",
    "spark.sql(sql).show()"
   ]
  }
 ],
 "metadata": {
  "kernelspec": {
   "display_name": "PySpark",
   "language": "",
   "name": "pysparkkernel"
  },
  "language_info": {
   "codemirror_mode": {
    "name": "python",
    "version": 2
   },
   "mimetype": "text/x-python",
   "name": "pyspark",
   "pygments_lexer": "python2"
  }
 },
 "nbformat": 4,
 "nbformat_minor": 4
}
