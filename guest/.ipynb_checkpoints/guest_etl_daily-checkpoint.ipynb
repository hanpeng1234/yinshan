{
 "cells": [
  {
   "cell_type": "code",
   "execution_count": 1,
   "metadata": {},
   "outputs": [
    {
     "data": {
      "application/vnd.jupyter.widget-view+json": {
       "model_id": "f715244c8e6249c8a59d8678185b6697",
       "version_major": 2,
       "version_minor": 0
      },
      "text/plain": [
       "VBox()"
      ]
     },
     "metadata": {},
     "output_type": "display_data"
    },
    {
     "name": "stdout",
     "output_type": "stream",
     "text": [
      "Starting Spark application\n"
     ]
    },
    {
     "data": {
      "text/html": [
       "<table>\n",
       "<tr><th>ID</th><th>YARN Application ID</th><th>Kind</th><th>State</th><th>Spark UI</th><th>Driver log</th><th>Current session?</th></tr><tr><td>0</td><td>application_1628237349281_0002</td><td>pyspark</td><td>idle</td><td><a target=\"_blank\" href=\"http://ip-10-3-0-114.ap-southeast-1.compute.internal:20888/proxy/application_1628237349281_0002/\">Link</a></td><td><a target=\"_blank\" href=\"http://ip-10-3-0-44.ap-southeast-1.compute.internal:8042/node/containerlogs/container_1628237349281_0002_01_000001/livy\">Link</a></td><td>✔</td></tr></table>"
      ],
      "text/plain": [
       "<IPython.core.display.HTML object>"
      ]
     },
     "metadata": {},
     "output_type": "display_data"
    },
    {
     "data": {
      "application/vnd.jupyter.widget-view+json": {
       "model_id": "",
       "version_major": 2,
       "version_minor": 0
      },
      "text/plain": [
       "FloatProgress(value=0.0, bar_style='info', description='Progress:', layout=Layout(height='25px', width='50%'),…"
      ]
     },
     "metadata": {},
     "output_type": "display_data"
    },
    {
     "name": "stdout",
     "output_type": "stream",
     "text": [
      "SparkSession available as 'spark'.\n"
     ]
    },
    {
     "data": {
      "application/vnd.jupyter.widget-view+json": {
       "model_id": "",
       "version_major": 2,
       "version_minor": 0
      },
      "text/plain": [
       "FloatProgress(value=0.0, bar_style='info', description='Progress:', layout=Layout(height='25px', width='50%'),…"
      ]
     },
     "metadata": {},
     "output_type": "display_data"
    },
    {
     "name": "stdout",
     "output_type": "stream",
     "text": [
      "{'hmac_key': 'xUIAZ3grtPOxaPNK', 'mobileType': ['phone', 'phone_number', 'user_mobile', 'number', 'caller', 'callee', 'to', 'mobile_phone', 'mobile', 'backup_mobile'], 'extraColumn': {'banda': {'t_personal_info': ['cast(substring(credential_no_x, 11, 2) AS bigint) as birth_year', 'CASE WHEN cast(substring(credential_no_x, 11, 2) AS bigint) > 37 THEN (year(current_date()) - cast(substring(credential_no_x, 11, 2) AS bigint) - 1900) ELSE (year(current_date()) - cast(substring(credential_no_x, 11, 2) AS bigint) - 2000) END as age ']}}, 'luzon': {'t_auto_review_loan': ['ktp', 'mobile'], 't_bankcard': ['card_no'], 't_contact': ['mobile', 'credential_no'], 't_customer': ['mobile', 'imei'], 't_loan_app': ['credential_no'], 't_personal_info': ['credential_no', 'email'], 't_record_contact': ['mobile'], 't_record_personal_info': ['credential_no']}, 'ddb_event_track_s3': {'id_adapundi_event_track': ['nativePhoneNum', 'nativePhoneNum2', 'lineNumber']}, 'banda': {'t_admin': ['full_name'], 't_auto_review_loan': ['ktp', 'mobile'], 't_ai_rudder_schedule_mobile': ['mobile'], 't_bankcard': ['card_no', 'holder_name', 'verify_account_holder_name'], 't_bankcard_verify': ['holder_name', 'verify_account_holder_name'], 't_mobile_tag_rel': ['mobile'], 't_code': ['send_to'], 't_call_center_log': ['to_number'], 't_personal_info': ['credential_no', 'backup_mobile', 'full_name', 'family_name_in_law', 'email'], 't_review_blacklist': ['value'], 't_contact': ['mobile', 'name'], 't_customer': ['mobile', 'email'], 't_employment': ['company_phone', 'work_email'], 't_loan_app': ['credential_no', 'full_name'], 't_login_log': ['mobile'], 't_record_personal_info': ['credential_no', 'backup_mobile', 'full_name', 'family_name_in_law', 'email'], 't_record_employment': ['company_phone', 'work_email'], 't_record_contact': ['mobile', 'name'], 't_record_file': ['path'], 't_sms': ['sendto']}, 'notification': {'t_message': ['send_to']}, 'arkham': {'t_black_mobile': ['mobile'], 't_card_info': ['card_no'], 't_credential_snapshot': ['number'], 't_customer_tag_type': ['mobile'], 't_emergency_contact': ['tel_num'], 't_emergency_contact_snapshot': ['tel_num'], 't_file': ['file_url'], 't_file_snapshot': ['file_url'], 't_marketing_channel_info': ['mobile', 'credential_no'], 't_marketing_ref_info': ['credentials_no'], 't_user': ['idno', 'mobile'], 't_user_snapshot': ['idno', 'mobile']}, 'protoss': {'t_bni_bill': ['customer_phone']}, 'credinex_account': {'t_credit_balance': ['account_number', 'customer_email', 'customer_phone'], 't_credit_bill': ['customer_phone'], 't_customer_account': ['account_number', 'customer_email', 'customer_phone']}, 'credinex_repeater': {'t_risk_blacklist': ['value']}, 'telemarket': {'t_task_pool': ['mobile']}}\n",
      "<function parseJson at 0x7f0f473824d0>"
     ]
    }
   ],
   "source": [
    "# from __future__ import print_function\n",
    "\n",
    "import sys\n",
    "from pyspark.sql import SparkSession\n",
    "from pyspark import SparkContext\n",
    "import pyspark.sql.types as T\n",
    "import pytz\n",
    "import hashlib\n",
    "import re\n",
    "import hmac\n",
    "import json\n",
    "import pyspark.sql.functions as F\n",
    "from datetime import datetime, timedelta\n",
    "from hashlib import sha256 \n",
    "from pyspark.sql.functions import udf\n",
    "from pyspark.sql.functions import lit\n",
    "from pyspark.sql.column import Column\n",
    "#北京时间0点半执行，相当于utc时间昨天的16:30 ，所以时间不-1天\n",
    "# print(datetime.now(pytz.timezone(\"Asia/Shanghai\")).strftime( '%Y-%m-%d'))\n",
    "yesterday = datetime.now().strftime('%Y-%m-%d')\n",
    "partitionlist=yesterday.split(\"-\",3)\n",
    "beforeyesterday = (datetime.now() + timedelta(-1)).strftime('%Y-%m-%d')\n",
    "#防止当天出错之后,八点之后运行会丢失分区\n",
    "partitionlist.append(beforeyesterday.split(\"-\",3)[2])\n",
    "dbmap = {\"banda_guest\": \"1\"}\n",
    "#是否特殊special，特殊的需要自己写sql\n",
    "guestTable = {\n",
    "            \"banda\":{\n",
    "#                   \"thirdparty\":[\"select thirdparty_id, update_time, retry_times, create_time, parseJson(regexp_replace(response, '(\\d*)(8|62)(\\d{4})(\\d*)', '$1$2xxxx$4')) response,channel,id,customer_id,loan_id,status from \",\" where client_id = 0 and channel<10000 \"],\n",
    "#                   \"t_ktp\":[\"select  id,accurate,channel,name,hmac_sha256('{hmac_key}',ktp) ktp,parseJson(response) response ,create_time,update_time from \"],\n",
    "#                   \"ddb_event_gps_filter_prod\":\"\",\n",
    "#                   \"t_customer\":\"\",\n",
    "#                   \"t_loan_app\":  \"\",\n",
    "#                   \"t_loan_app_status_log\": \"\",\n",
    "#                   \"t_lpay\":  \"\",\n",
    "#                   \"t_personal_info\":[\"SELECT id, customer_id, loan_app_id, gender, credential_no, credential_type, province, city, district, area, address, last_education, marital_status, children_number, residence_duration, facebook_id, car_number, house_number, ethnic, religion, nationality, ktp_gender, ktp_province, ktp_city, ktp_district, ktp_date_of_birth, ktp_analyze_status, status, create_time, update_time, email, cast(substring(credential_no_x, 11, 2) AS bigint) birth_year, CASE WHEN cast(substring(credential_no_x, 11, 2) AS bigint) > 37 THEN (year(current_date()) - cast(substring(credential_no_x, 11, 2) AS bigint) - 1900) ELSE (year(current_date()) - cast(substring(credential_no_x, 11, 2) AS bigint) - 2000) END age from \"],\n",
    "#                   \"t_auto_review_loan\":\"\",\n",
    "#                   \"t_loan_app_review_summary\":  \"\",\n",
    "#                   \"t_review_blacklist\": [\"select  id, admin_id, status, type, value , reason, create_time, extension_value, source from  \"],\n",
    "#                   \"t_review_step_execution\": \"\",\n",
    "#                   \"t_lpay_deposit\": \"\",\n",
    "#                   \"t_engine_rule_detail\":  \"\",\n",
    "#                   \"t_thirdparty_data\": [\"select * FROM \",\" WHERE data_type IN (10, 5, 8)\"],\n",
    "#                   \"t_employment\": \"\",\n",
    "#                   \"t_contact\":[\"SELECT ct.id, ct.customer_id, ct.loan_app_id, ct.name, ct.mobile  mobile, ct.relation, ct.credential_no, ct.credential_type, ct.address, ct.company_name, ct.job_title, ct.create_time, ct.update_time, ct.comment, ct.mobile_status, cm.id contact_customer_id FROM (SELECT tmp.id, tmp.customer_id, tmp.loan_app_id, tmp.name, tmp.mobile_x, tmp.mobile,tmp.relation, tmp.credential_no, tmp.credential_type, tmp.address, tmp.company_name, tmp.job_title, tmp.create_time, tmp.update_time, tmp.comment, tmp.mobile_status  FROM (SELECT *, regexp_replace(mobile_x, '[^0-9]', '') new_mobile FROM  \",\") as tmp ) ct left join \",\" cm on (ct.mobile_x = cm.mobile_x)\"],\n",
    "#                   \"t_collection_audit\": \"\",\n",
    "#                   \"t_channel_details\": \"\",\n",
    "#                   \"t_loan_tag_rel\": \"\",\n",
    "#                   \"t_loan_log\":  \"\",\n",
    "#                   \"t_record_personal_info\": \"\",\n",
    "#                   \"t_customer_app\":\"\",\n",
    "#                   \"t_customer_device_info\": \"\",\n",
    "#                   \"t_customer_install_info\":\"\",\n",
    "#                   \"t_login_log\":\"\",\n",
    "#                   \"t_group\":\"\",\n",
    "#                   \"t_admin\":\"\",\n",
    "#                   \"t_admin_group_rel\":\"\",\n",
    "#                   \"t_af_bill\":\"\",\n",
    "#                   \"t_test_customer\":\"\",\n",
    "#                   \"t_record_contact\":\"\",\n",
    "#                   \"t_record_employment\":\"\",\n",
    "#                   \"t_record_file\":\"\",\n",
    "#                   \"t_case_distribution_log\":\"\",\n",
    "#                   \"t_call_center_log\":\"\",\n",
    "#                   \"t_coupon_request\":\"\"\n",
    "            },\n",
    "        }\n",
    "patten='(\"phone\"|\"phone_number\"|\"user_mobile\"|\"number\"|\"id_card_no\"|\"nik\"|\"caller\"|\"callee\"|\"to\"|\"mobile_phone\"|\"mobile\"|\"accountnumber\"|\"identity_code\"):\"(?:[^\"\\\\\\\\]|\\\\\\\\.)*\"'\n",
    "\n",
    "patten_arr='(\"mh_value\"):\\[[^\\[\\]]*\\]'\n",
    "\n",
    "patten_sms='to=\\d*'\n",
    "\n",
    "mobileType=['\"phone\"','\"phone_number\"','\"user_mobile\"','\"number\"','\"caller\"','\"callee\"','\"to\"','\"mobile_phone\"','\"mobile\"']\n",
    "\n",
    "sms_channel_List=[10003,10004,10007,10010,10011,10012]\n",
    "spark = SparkSession \\\n",
    "        .builder \\\n",
    "        .appName(\"Python Demo\") \\\n",
    "        .config(\"hive.metastore.client.factory.class\",\n",
    "                \"com.amazonaws.glue.catalog.metastore.AWSGlueDataCatalogHiveClientFactory\") \\\n",
    "        .config(\"spark.driver.maxResultSize\", \"4g\") \\\n",
    "        .enableHiveSupport() \\\n",
    "        .getOrCreate()\n",
    "spark.conf.set(\"hive.exec.dynamic.partition.mode\", \"nonstrict\");\n",
    "spark.conf.set(\"spark.sql.sources.partitionOverwriteMode\", \"dynamic\")\n",
    "spark.conf.set(\"spark.hadoop.orc.overwrite.output.file\", \"true\")\n",
    "# 获取加密列和加密key\n",
    "def get_secret_obj():\n",
    "    df=spark.read.text(\"s3://rupiahplus-configs/etl/data_secrt/col.json\").collect()\n",
    "    keymap=''\n",
    "    for  row in df:\n",
    "        keymap=keymap+row['value']\n",
    "    json_content=json.loads(keymap)\n",
    "    print(json_content)\n",
    "    return json_content\n",
    "colmap= get_secret_obj()\n",
    "hmac_key=colmap[\"hmac_key\"]\n",
    "# hmac加密\n",
    "def hmac_sha256(key,value):\n",
    "    print(key,value)\n",
    "    if value!=None and value!='':\n",
    "#         处理手机号\n",
    "#         rtn=getRelmobile(\"\",value)\n",
    "        rtn = value \n",
    "        h = hmac.new(key.encode('utf-8'),digestmod=sha256)\n",
    "        h.update(rtn.encode('utf-8'))\n",
    "        h_str = h.hexdigest()\n",
    "        return h_str\n",
    "    return \"\"\n",
    "spark.udf.register(\"hmac_sha256\",hmac_sha256,T.StringType())\n",
    "hmac_sha256=udf(hmac_sha256,returnType=T.StringType())\n",
    "\n",
    "# 替换手机号\n",
    "def getRelmobile(type,str):\n",
    "    if type in mobileType:\n",
    "        relmobile = str.strip().replace(\"+\", \"\").replace(\"-\", \"\").replace(\" \", \"\").replace('\"', '')\n",
    "        if (relmobile.startswith(\"62\")):\n",
    "            relmobile = relmobile.replace(\"62\", \"0\",1)\n",
    "        if relmobile.startswith(\"0\") == False:\n",
    "            relmobile = \"0\" + relmobile;\n",
    "        return relmobile\n",
    "    return str\n",
    "# 替换\"key\":\"value\"\n",
    "def match_replaceQuote(matchObj):\n",
    "    dic=matchObj.group()\n",
    "    diclist=dic.split(\":\")\n",
    "#     str1=str(diclist[0])+':\"'+ sha2(str(diclist[0]),str(diclist[1]).replace('\"','')) +'\"'\n",
    "    str1=str(diclist[0])+':\"'+ hmac_sha256_types(hmac_key,str(diclist[0]),str(diclist[1]).replace('\"','')) +'\"'\n",
    "    return str1\n",
    "def hmac_sha256_types(key,type,value):\n",
    "    if value!=None:\n",
    "        h = hmac.new(key.encode('utf-8'),digestmod=sha256)\n",
    "        h.update(str(getRelmobile(type,value)).encode('utf-8'))\n",
    "        h_str = h.hexdigest()\n",
    "        return h_str\n",
    "    return \"\"\n",
    "# sha256加密\n",
    "# def sha2(type,obj):\n",
    "#     return str(hashlib.sha256(str(getRelmobile(type,obj)).encode('utf-8')).hexdigest() if obj!=None else obj)\n",
    "# 替换\"key\":[\"value1\",\"value2\"]\n",
    "# 暂时略过，会报错\n",
    "def match_replaceQuote2(matchObj):\n",
    "    dic = matchObj.group()\n",
    "    diclist = dic.split(\":\")\n",
    "    if diclist!=None and len(diclist)>1:\n",
    "        arr = json.loads(diclist[1])\n",
    "        if arr!=None and len(arr)>0:\n",
    "#             arr1=map(lambda x:sha2(str(diclist[0]),str(x)),arr)\n",
    "            arr1=map(lambda x:hmac_sha256_types(hmac_key,str(diclist[0]),str(x)),arr)\n",
    "            return str(diclist[0])+':'+str(list(arr1)).replace(\"'\", '\"')\n",
    "        return matchObj\n",
    "    return matchObj\n",
    "def parseJson(d):\n",
    "    if d!=\"\" and d != None:\n",
    "        pattern1=re.compile(patten).sub(match_replaceQuote,d)\n",
    "#             pattern2=re.compile(patten_arr).sub(match_replaceQuote2,pattern1)\n",
    "        return pattern1\n",
    "    else:\n",
    "        return d\n",
    "\n",
    "# print(__name__)builtins\n",
    "# print(__main__)\n",
    "if __name__ == \"builtins\":\n",
    "    spark.udf.register(\"parseJson\",parseJson)\n",
    "    for row in guestTable:\n",
    "        tabletMap = row\n",
    "        for table in guestTable[tabletMap]:\n",
    "            tableName = table\n",
    "            if tabletMap=='banda':\n",
    "                if tableName==\"thirdparty\":\n",
    "                    sql=guestTable[tabletMap][tableName][0]+\" thirdparty_etl.thirdparty_t_task \"+guestTable[tabletMap][tableName][1] \n",
    "                    guestPath = \"s3://rupiahplus-data-warehouse/etl/banda/guest/\" + tableName\n",
    "                    spark.sql(sql).write.mode(\"overwrite\").orc(guestPath)   \n",
    "#                     spark.sql(sql).show(1,False)\n",
    "                elif tableName=='t_ktp':\n",
    "                    sql= guestTable[tabletMap][tableName][0]+\" lovina_etl_s3.t_ktp \"\n",
    "                    guestPath = \"s3://rupiahplus-data-warehouse/etl/banda/guest/\" + tableName\n",
    "                    spark.sql(sql.format(hmac_key=hmac_key)).write.mode(\"overwrite\").orc(guestPath)   \n",
    "                elif tableName=='ddb_event_gps_filter_prod':\n",
    "                    sql= \"select * from ddb_event_track_s3.ddb_event_gps_filter_prod\"\n",
    "                    guestPath = \"s3://rupiahplus-data-warehouse/etl/banda/guest/\" + tableName\n",
    "                    spark.sql(sql).write.mode(\"overwrite\").orc(guestPath)   \n",
    "                else :\n",
    "#                     #先给banda加上今天的partitions\n",
    "                    tempDataBase = \" `banda-etl-s3`\"\n",
    "                    guestPath = \"s3a://rupiahplus-data-warehouse/etl/banda/guest/\" + tableName\n",
    "                    if tableName==\"t_customer\":\n",
    "                        sql = \"select * from  \"+tempDataBase+\".\"+tableName\n",
    "                        df=spark.sql(sql).drop('imei').drop('password').drop('etldate').drop('mobile_x').write.mode(\"overwrite\").orc(guestPath)\n",
    "                    elif tableName==\"t_loan_app\":\n",
    "                        sql = \"select * from  \" + tempDataBase + \".\" + tableName\n",
    "                        spark.sql(sql).drop('etldate').drop('credential_no_x').drop('full_name_x').write.mode(\"overwrite\").orc(guestPath)\n",
    "                    elif tableName==\"t_personal_info\":\n",
    "                        sql = guestTable[tabletMap][tableName][0]+tempDataBase+\".\"+tableName\n",
    "                        spark.sql(sql).drop('etldate').drop('credential_no_x').write.mode(\"overwrite\").orc(guestPath)\n",
    "                    elif tableName == \"t_auto_review_loan\":\n",
    "                        sql = \"select * from  \" + tempDataBase + \".\" + tableName\n",
    "                        spark.sql(sql).drop('name').drop('etldate').drop('ktp_x').drop('mobile_x').write.mode(\"overwrite\").orc(guestPath)\n",
    "                    elif tableName == \"t_lpay_deposit\":\n",
    "                        sql = \"select *  from  \" + tempDataBase + \".\" + tableName\n",
    "                        spark.sql(sql).drop('name').drop(\"deposit_channel\").drop(\"out_deposit_no\").drop(\"payment_code\").drop('etldate').write.mode(\"overwrite\").orc(guestPath)\n",
    "                    elif tableName == \"t_thirdparty_data\":\n",
    "                        sql = guestTable[tabletMap][tableName][0] + tempDataBase + \".\" + tableName+guestTable[tabletMap][tableName][1]\n",
    "                        spark.sql(sql).drop('etldate').write.mode(\"overwrite\").orc(guestPath)\n",
    "                    elif tableName == \"t_contact\":\n",
    "                        # 先给t_customer加上今天的partitions\n",
    "                        sql = guestTable[tabletMap][tableName][0]+tempDataBase+\".\"+tableName+guestTable[tabletMap][tableName][1]+tempDataBase+\".t_customer \"+guestTable[tabletMap][tableName][2]\n",
    "                        spark.sql(sql).drop('etldate').write.mode(\"overwrite\").orc(guestPath)\n",
    "                    elif tableName == \"t_record_personal_info\":\n",
    "                        sql = \"select * from  \" + tempDataBase + \".\" + tableName\n",
    "                        spark.sql(sql).drop('etldate').drop('credential_no_x').drop('backup_mobil_x').drop('full_name_x').drop('family_name_in_law_x').drop('email_x').write.mode(\"overwrite\").orc(guestPath)\n",
    "                    elif tableName == \"t_login_log\" or tableName == \"t_admin\":\n",
    "                        sql = \"select * from  \" + tempDataBase + \".\" + tableName\n",
    "                        spark.sql(sql).drop('mobile').drop('full_name_x').drop('etldate').write.mode(\"overwrite\").orc(guestPath)\n",
    "                    elif tableName == \"t_review_blacklist\":\n",
    "                        sql =guestTable[tabletMap][tableName][0] + tempDataBase + \".\" + tableName\n",
    "                        spark.sql(sql).drop('etldate').drop('value_x').write.mode(\"overwrite\").orc(guestPath)\n",
    "                    elif tableName == \"t_record_contact\":\n",
    "                        sql = \"select * from  \" + tempDataBase + \".\" + tableName\n",
    "                        spark.sql(sql).drop('etldate').drop('mobile_x').drop('name_x').write.mode(\"overwrite\").orc(guestPath)\n",
    "                    elif tableName == \"t_record_employment\":\n",
    "                        sql = \"select * from  \" + tempDataBase + \".\" + tableName\n",
    "                        spark.sql(sql).drop('etldate').drop('company_phone_x').drop('work_email_x').write.mode(\"overwrite\").orc(guestPath)    \n",
    "                    elif tableName == \"t_employment\":\n",
    "                        sql = \"select * from  \" + tempDataBase + \".\" + tableName\n",
    "                        spark.sql(sql).drop('etldate').drop('company_phone_x').drop('work_email_x').write.mode(\"overwrite\").orc(guestPath)\n",
    "                    elif tableName == \"t_record_file\":\n",
    "                        sql = \"select * from  \" + tempDataBase + \".\" + tableName\n",
    "                        spark.sql(sql).drop('etldate').drop('path_x').write.mode(\"overwrite\").orc(guestPath)\n",
    "                    elif tableName == \"t_call_center_log\":\n",
    "                        sql = \"select * from  \" + tempDataBase + \".\" + tableName\n",
    "                        spark.sql(sql).drop('etldate').drop('to_number_x').write.mode(\"overwrite\").orc(guestPath)\n",
    "                    else :\n",
    "                        sql = \"select * from  \" + tempDataBase + \".\" + tableName\n",
    "                        spark.sql(sql).drop('etldate').write.mode(\"overwrite\").orc(guestPath)"
   ]
  },
  {
   "cell_type": "code",
   "execution_count": 2,
   "metadata": {},
   "outputs": [
    {
     "data": {
      "application/vnd.jupyter.widget-view+json": {
       "model_id": "12d7cb83e3524ff9beb450689041aaba",
       "version_major": 2,
       "version_minor": 0
      },
      "text/plain": [
       "VBox()"
      ]
     },
     "metadata": {},
     "output_type": "display_data"
    },
    {
     "data": {
      "application/vnd.jupyter.widget-view+json": {
       "model_id": "",
       "version_major": 2,
       "version_minor": 0
      },
      "text/plain": [
       "FloatProgress(value=0.0, bar_style='info', description='Progress:', layout=Layout(height='25px', width='50%'),…"
      ]
     },
     "metadata": {},
     "output_type": "display_data"
    },
    {
     "name": "stdout",
     "output_type": "stream",
     "text": [
      "<function parse_json_onChannel at 0x7f7748f5c488>"
     ]
    }
   ],
   "source": [
    "def parse_json_onChannel(d,channel):\n",
    "    if d.startswith(\"{\") :\n",
    "        text = json.loads(d)\n",
    "        if channel==640:\n",
    "            data=hashlib.sha256(text[\"display\"][\"data\"][\"result\"][\"nik\"].encode('utf-8')).hexdigest()\n",
    "#             sha256=hashlib.sha256()\n",
    "#             sha256.update(text[\"data\"][\"task_data\"][\"profile\"][\"nik\"].encode('utf-8'))\n",
    "#             data=sha256.hexdigest()   \n",
    "            text[\"display\"][\"data\"][\"result\"][\"nik\"]=data\n",
    "            return  json.dumps(text) \n",
    "        elif channel==50:\n",
    "            data=hashlib.sha256(text[\"data\"][\"task_data\"][\"profile\"][\"nik\"].encode('utf-8')).hexdigest()\n",
    "#             sha256=hashlib.sha256()\n",
    "#             sha256.update(text[\"data\"][\"task_data\"][\"profile\"][\"nik\"].encode('utf-8'))\n",
    "#             data=sha256.hexdigest()   \n",
    "            text[\"data\"][\"task_data\"][\"profile\"][\"nik\"]=data\n",
    "            return json.dumps(text) \n",
    "#             d1=json.dumps(text) \n",
    "        else:\n",
    "            return d\n",
    "    else:\n",
    "        return d\n",
    "spark.udf.register(\"parse_json_onChannel\",parse_json_onChannel,T.StringType())"
   ]
  },
  {
   "cell_type": "code",
   "execution_count": null,
   "metadata": {},
   "outputs": [],
   "source": []
  },
  {
   "cell_type": "code",
   "execution_count": 1,
   "metadata": {},
   "outputs": [
    {
     "data": {
      "application/vnd.jupyter.widget-view+json": {
       "model_id": "2a981ddc597a4f44859a5e4ded8cbf09",
       "version_major": 2,
       "version_minor": 0
      },
      "text/plain": [
       "VBox()"
      ]
     },
     "metadata": {},
     "output_type": "display_data"
    },
    {
     "name": "stdout",
     "output_type": "stream",
     "text": [
      "Starting Spark application\n"
     ]
    },
    {
     "data": {
      "text/html": [
       "<table>\n",
       "<tr><th>ID</th><th>YARN Application ID</th><th>Kind</th><th>State</th><th>Spark UI</th><th>Driver log</th><th>Current session?</th></tr><tr><td>0</td><td>application_1603851421330_0001</td><td>pyspark</td><td>idle</td><td><a target=\"_blank\" href=\"http://ip-172-31-0-236.ap-southeast-1.compute.internal:20888/proxy/application_1603851421330_0001/\">Link</a></td><td><a target=\"_blank\" href=\"http://ip-172-31-13-212.ap-southeast-1.compute.internal:8042/node/containerlogs/container_1603851421330_0001_01_000001/livy\">Link</a></td><td>✔</td></tr></table>"
      ],
      "text/plain": [
       "<IPython.core.display.HTML object>"
      ]
     },
     "metadata": {},
     "output_type": "display_data"
    },
    {
     "data": {
      "application/vnd.jupyter.widget-view+json": {
       "model_id": "",
       "version_major": 2,
       "version_minor": 0
      },
      "text/plain": [
       "FloatProgress(value=0.0, bar_style='info', description='Progress:', layout=Layout(height='25px', width='50%'),…"
      ]
     },
     "metadata": {},
     "output_type": "display_data"
    },
    {
     "name": "stdout",
     "output_type": "stream",
     "text": [
      "SparkSession available as 'spark'.\n"
     ]
    },
    {
     "data": {
      "application/vnd.jupyter.widget-view+json": {
       "model_id": "",
       "version_major": 2,
       "version_minor": 0
      },
      "text/plain": [
       "FloatProgress(value=0.0, bar_style='info', description='Progress:', layout=Layout(height='25px', width='50%'),…"
      ]
     },
     "metadata": {},
     "output_type": "display_data"
    },
    {
     "name": "stdout",
     "output_type": "stream",
     "text": [
      "\n",
      "Collecting boto3\n",
      "  Downloading boto3-1.16.6-py2.py3-none-any.whl (129 kB)\n",
      "Requirement already satisfied: jmespath<1.0.0,>=0.7.1 in /usr/local/lib/python3.6/site-packages (from boto3) (0.9.4)\n",
      "Collecting botocore<1.20.0,>=1.19.6\n",
      "  Downloading botocore-1.19.6-py2.py3-none-any.whl (6.7 MB)\n",
      "Collecting s3transfer<0.4.0,>=0.3.0\n",
      "  Downloading s3transfer-0.3.3-py2.py3-none-any.whl (69 kB)\n",
      "Collecting urllib3<1.26,>=1.25.4; python_version != \"3.4\"\n",
      "  Downloading urllib3-1.25.11-py2.py3-none-any.whl (127 kB)\n",
      "Collecting python-dateutil<3.0.0,>=2.1\n",
      "  Downloading python_dateutil-2.8.1-py2.py3-none-any.whl (227 kB)\n",
      "Requirement already satisfied: six>=1.5 in /usr/local/lib/python3.6/site-packages (from python-dateutil<3.0.0,>=2.1->botocore<1.20.0,>=1.19.6->boto3) (1.12.0)\n",
      "Installing collected packages: urllib3, python-dateutil, botocore, s3transfer, boto3\n",
      "Successfully installed boto3-1.16.6 botocore-1.19.6 python-dateutil-2.8.1 s3transfer-0.3.3 urllib3-1.25.11\n",
      "\n",
      "{'hmac_key': 'xUIAZ3grtPOxaPNK', 'luzon': {'t_auto_review_loan': ['ktp', 'mobile'], 't_bankcard': ['card_no'], 't_contact': ['mobile', 'credential_no'], 't_customer': ['mobile', 'imei'], 't_loan_app': ['credential_no'], 't_personal_info': ['credential_no', 'email'], 't_record_contact': ['mobile'], 't_record_personal_info': ['credential_no']}, 'banda': {'t_personal_info': ['credential_no']}}\n",
      "xUIAZ3grtPOxaPNK\n",
      "select hmac_sha256('xUIAZ3grtPOxaPNK','123456789') as sh2\n",
      "+----------------------------------------------------------------+\n",
      "|sh2                                                             |\n",
      "+----------------------------------------------------------------+\n",
      "|f20a8803ee92296b58cbbe82cc6d93f56cec365dab82d2434be990770739dcc8|\n",
      "+----------------------------------------------------------------+\n",
      "\n",
      "WARNING: Skipping boto3 as it is not installed."
     ]
    }
   ],
   "source": [
    "import sys\n",
    "import hmac\n",
    "from hashlib import sha256 \n",
    "from pyspark.sql.functions import udf\n",
    "from pyspark.sql import types as T\n",
    "import json\n",
    "def get_secret_obj():\n",
    "    df=spark.read.text(\"s3://rupiahplus-configs/etl/data_secrt/col.json\").collect()\n",
    "    keymap=''\n",
    "    for  row in df:\n",
    "        keymap=keymap+row['value']\n",
    "    json_content=json.loads(keymap)\n",
    "    print(json_content)\n",
    "    return json_content\n",
    "colmap= get_secret_obj()\n",
    "colmap= get_secret_obj()\n",
    "def hmac_sha256(key,value):\n",
    "    h = hmac.new(key.encode('utf-8'),digestmod=sha256)\n",
    "    h.update(value.encode('utf-8'))\n",
    "    h_str = h.hexdigest()\n",
    "    return h_str\n",
    "spark.udf.register(\"hmac_sha256\",hmac_sha256,T.StringType())\n",
    "hmac_key=colmap[\"hmac_key\"]\n",
    "print(hmac_key)\n",
    "sql=\"select hmac_sha256('{hmac_key}','123456789') as sh2\".format(hmac_key=hmac_key)\n",
    "print(sql)\n",
    "spark.sql(sql).show(1,False)"
   ]
  },
  {
   "cell_type": "code",
   "execution_count": null,
   "metadata": {},
   "outputs": [],
   "source": [
    "# from __future__ import print_function\n",
    "\n",
    "import sys\n",
    "\n",
    "import numpy as np\n",
    "from pyspark.sql import SparkSession\n",
    "from datetime import datetime, timedelta\n",
    "import pyspark.sql.functions as F\n",
    "import json\n",
    "import pyspark.sql.types as T\n",
    "import pytz\n",
    "import hashlib\n",
    "import pytz\n",
    "def parse_json_onChannel(d,channel):\n",
    "    if d.startswith(\"{\") :\n",
    "        text = json.loads(d)\n",
    "        if channel==640 and text[\"display\"][\"data\"][\"result\"][\"nik\"]!='':\n",
    "            data=hashlib.sha256(str(text[\"display\"][\"data\"][\"result\"][\"nik\"]).encode('utf-8')).hexdigest() \n",
    "            text[\"display\"][\"data\"][\"result\"][\"nik\"]=data\n",
    "#             return d\n",
    "            return json.dumps(text) \n",
    "        elif channel==50 and text[\"data\"][\"task_data\"][\"profile\"][\"nik\"]!='null' and text[\"data\"][\"task_data\"][\"profile\"][\"nik\"]!='' :\n",
    "            data=hashlib.sha256(str(text[\"data\"][\"task_data\"][\"profile\"][\"nik\"]).encode('utf-8')).hexdigest() \n",
    "            text[\"data\"][\"task_data\"][\"profile\"][\"nik\"]=data\n",
    "#             return d\n",
    "            return json.dumps(text) \n",
    "        else:\n",
    "            return d\n",
    "    return d\n",
    "if __name__ == \"builtins\":\n",
    "    spark = SparkSession \\\n",
    "        .builder \\\n",
    "        .appName(\"Python Demo\") \\\n",
    "        .config(\"hive.metastore.client.factory.class\",\n",
    "                \"com.amazonaws.glue.catalog.metastore.AWSGlueDataCatalogHiveClientFactory\") \\\n",
    "        .config(\"spark.driver.maxResultSize\", \"4g\") \\\n",
    "        .enableHiveSupport() \\\n",
    "        .getOrCreate()\n",
    "    spark.conf.set(\"hive.exec.dynamic.partition.mode\", \"nonstrict\");\n",
    "    spark.conf.set(\"spark.sql.sources.partitionOverwriteMode\", \"dynamic\")\n",
    "#     ,T.StringType()\n",
    "    spark.udf.register(\"parse_json_onChannel\",parse_json_onChannel)\n",
    "    guestPath = \"s3://rupiahplus-data-warehouse/etl/banda/guest1/thirdparty\" \n",
    "    spark.sql(\"\"\"\n",
    "    select thirdparty_id,\n",
    "    update_time, \n",
    "    retry_times, \n",
    "    create_time, \n",
    "    parse_json_onChannel(response,channel) response,\n",
    "    channel,id,\n",
    "    customer_id,\n",
    "    loan_id,\n",
    "    status\n",
    "    from thirdparty_etl.thirdparty_t_task \n",
    "    where client_id = 0\n",
    "    \"\"\").write.mode(\"overwrite\").orc(guestPath)"
   ]
  },
  {
   "cell_type": "code",
   "execution_count": 4,
   "metadata": {},
   "outputs": [
    {
     "data": {
      "application/vnd.jupyter.widget-view+json": {
       "model_id": "a3e0a82a89e3433aa67871fa0ce37335",
       "version_major": 2,
       "version_minor": 0
      },
      "text/plain": [
       "VBox()"
      ]
     },
     "metadata": {},
     "output_type": "display_data"
    },
    {
     "data": {
      "application/vnd.jupyter.widget-view+json": {
       "model_id": "",
       "version_major": 2,
       "version_minor": 0
      },
      "text/plain": [
       "FloatProgress(value=0.0, bar_style='info', description='Progress:', layout=Layout(height='25px', width='50%'),…"
      ]
     },
     "metadata": {},
     "output_type": "display_data"
    },
    {
     "name": "stdout",
     "output_type": "stream",
     "text": [
      "+--------+-----------+-----------+--------------------+--------------------+--------+-------------+---------------+-------+------------+---------+--------------------+--------------------+-------+-------------+-------------------+\n",
      "|      id|customer_id|loan_app_id|                name|              mobile|relation|credential_no|credential_type|address|company_name|job_title|         create_time|         update_time|comment|mobile_status|contact_customer_id|\n",
      "+--------+-----------+-----------+--------------------+--------------------+--------+-------------+---------------+-------+------------+---------+--------------------+--------------------+-------+-------------+-------------------+\n",
      "|34636791|    3514510|   10753883|c165b9dee19bd322b...|c1d193d180403fab7...| SIBLING|         null|           null|   null|        null|     null|2021-03-17 03:07:...|2021-03-17 03:07:...|   null|         null|               null|\n",
      "+--------+-----------+-----------+--------------------+--------------------+--------+-------------+---------------+-------+------------+---------+--------------------+--------------------+-------+-------------+-------------------+"
     ]
    }
   ],
   "source": [
    "spark.sql(\"\"\"SELECT ct.id, \n",
    "ct.customer_id, \n",
    "ct.loan_app_id, \n",
    "ct.name, \n",
    "ct.mobile,\n",
    "ct.relation, \n",
    "ct.credential_no, \n",
    "ct.credential_type,\n",
    "ct.address, \n",
    "ct.company_name, \n",
    "ct.job_title,\n",
    "ct.create_time, \n",
    "ct.update_time,\n",
    "ct.comment,\n",
    "ct.mobile_status,\n",
    "cm.id contact_customer_id\n",
    "FROM (\n",
    "SELECT tmp.id,\n",
    "tmp.customer_id, \n",
    "tmp.loan_app_id, \n",
    "tmp.name,\n",
    "tmp.mobile_x,\n",
    "tmp.mobile,\n",
    "tmp.relation,\n",
    "tmp.credential_no, \n",
    "tmp.credential_type, \n",
    "tmp.address,\n",
    "tmp.company_name,\n",
    "tmp.job_title,\n",
    "tmp.create_time, \n",
    "tmp.update_time, \n",
    "tmp.comment,\n",
    "tmp.mobile_status, \n",
    "CASE WHEN tmp.new_mobile LIKE '62%' THEN '0' || substring(tmp.new_mobile, 3, length(tmp.new_mobile)) WHEN tmp.new_mobile LIKE '8%' THEN '0' || tmp.new_mobile ELSE tmp.new_mobile END format_new_mobile\n",
    "FROM (\n",
    "SELECT *,\n",
    "regexp_replace('087878496080', '[^0-9]', '') new_mobile \n",
    "FROM   `banda-etl-s3`.t_contact where  id =34636791) as tmp ) ct\n",
    "left join  `banda-etl-s3`.t_customer  cm\n",
    "on (ct.mobile_x = cm.mobile_x)\"\"\").show()"
   ]
  },
  {
   "cell_type": "code",
   "execution_count": 1,
   "metadata": {},
   "outputs": [
    {
     "data": {
      "application/vnd.jupyter.widget-view+json": {
       "model_id": "a1bad79489f843ac980ad153ba8dc6a2",
       "version_major": 2,
       "version_minor": 0
      },
      "text/plain": [
       "VBox()"
      ]
     },
     "metadata": {},
     "output_type": "display_data"
    },
    {
     "name": "stdout",
     "output_type": "stream",
     "text": [
      "Starting Spark application\n"
     ]
    },
    {
     "data": {
      "text/html": [
       "<table>\n",
       "<tr><th>ID</th><th>YARN Application ID</th><th>Kind</th><th>State</th><th>Spark UI</th><th>Driver log</th><th>Current session?</th></tr><tr><td>5</td><td>application_1615894706778_0007</td><td>pyspark</td><td>idle</td><td><a target=\"_blank\" href=\"http://ip-10-3-0-13.ap-southeast-1.compute.internal:20888/proxy/application_1615894706778_0007/\">Link</a></td><td><a target=\"_blank\" href=\"http://ip-10-3-0-20.ap-southeast-1.compute.internal:8042/node/containerlogs/container_1615894706778_0007_01_000001/livy\">Link</a></td><td>✔</td></tr></table>"
      ],
      "text/plain": [
       "<IPython.core.display.HTML object>"
      ]
     },
     "metadata": {},
     "output_type": "display_data"
    },
    {
     "data": {
      "application/vnd.jupyter.widget-view+json": {
       "model_id": "",
       "version_major": 2,
       "version_minor": 0
      },
      "text/plain": [
       "FloatProgress(value=0.0, bar_style='info', description='Progress:', layout=Layout(height='25px', width='50%'),…"
      ]
     },
     "metadata": {},
     "output_type": "display_data"
    },
    {
     "name": "stdout",
     "output_type": "stream",
     "text": [
      "SparkSession available as 'spark'.\n"
     ]
    },
    {
     "data": {
      "application/vnd.jupyter.widget-view+json": {
       "model_id": "",
       "version_major": 2,
       "version_minor": 0
      },
      "text/plain": [
       "FloatProgress(value=0.0, bar_style='info', description='Progress:', layout=Layout(height='25px', width='50%'),…"
      ]
     },
     "metadata": {},
     "output_type": "display_data"
    },
    {
     "name": "stdout",
     "output_type": "stream",
     "text": [
      "+-----------------+\n",
      "|format_new_mobile|\n",
      "+-----------------+\n",
      "|     087878496080|\n",
      "+-----------------+"
     ]
    }
   ],
   "source": [
    "spark.sql(\"\"\"\n",
    "select CASE WHEN tmp.new_mobile LIKE '62%' THEN '0' || substring(tmp.new_mobile, 3, length(tmp.new_mobile)) WHEN tmp.new_mobile LIKE '8%' THEN '0' || tmp.new_mobile ELSE tmp.new_mobile END format_new_mobile from (SELECT *,\n",
    "regexp_replace('087878496080', '[^0-9]', '') new_mobile \n",
    "FROM   `banda-etl-s3`.t_contact where  id =34636791) tmp\n",
    "\"\"\").show()"
   ]
  }
 ],
 "metadata": {
  "kernelspec": {
   "display_name": "PySpark",
   "language": "",
   "name": "pysparkkernel"
  },
  "language_info": {
   "codemirror_mode": {
    "name": "python",
    "version": 2
   },
   "mimetype": "text/x-python",
   "name": "pyspark",
   "pygments_lexer": "python2"
  }
 },
 "nbformat": 4,
 "nbformat_minor": 4
}
