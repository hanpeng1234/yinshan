{
 "cells": [
  {
   "cell_type": "code",
   "execution_count": 2,
   "id": "a35d64b1",
   "metadata": {},
   "outputs": [
    {
     "data": {
      "application/vnd.jupyter.widget-view+json": {
       "model_id": "ed40624e6e21460bab4e85183430d168",
       "version_major": 2,
       "version_minor": 0
      },
      "text/plain": [
       "VBox()"
      ]
     },
     "metadata": {},
     "output_type": "display_data"
    },
    {
     "data": {
      "application/vnd.jupyter.widget-view+json": {
       "model_id": "",
       "version_major": 2,
       "version_minor": 0
      },
      "text/plain": [
       "FloatProgress(value=0.0, bar_style='info', description='Progress:', layout=Layout(height='25px', width='50%'),…"
      ]
     },
     "metadata": {},
     "output_type": "display_data"
    },
    {
     "name": "stdout",
     "output_type": "stream",
     "text": [
      "Collecting boto3\n",
      "  Downloading https://files.pythonhosted.org/packages/68/0b/d416af30ad98b57cfe999541ddcb71b7b4e6369d73d1f731cc5678908c6f/boto3-1.17.56.tar.gz (99kB)\n",
      "Collecting botocore<1.21.0,>=1.20.56 (from boto3)\n",
      "  Downloading https://files.pythonhosted.org/packages/f8/27/b27bfccc1fac989501d137476cbead6801f5b007634d1fe8a75415ca76e9/botocore-1.20.56-py2.py3-none-any.whl (7.4MB)\n",
      "Requirement already satisfied: jmespath<1.0.0,>=0.7.1 in /usr/local/lib/python3.7/site-packages (from boto3)\n",
      "Collecting s3transfer<0.5.0,>=0.4.0 (from boto3)\n",
      "  Downloading https://files.pythonhosted.org/packages/63/d0/693477c688348654ddc21dcdce0817653a294aa43f41771084c25e7ff9c7/s3transfer-0.4.2-py2.py3-none-any.whl (79kB)\n",
      "Collecting urllib3<1.27,>=1.25.4 (from botocore<1.21.0,>=1.20.56->boto3)\n",
      "  Using cached https://files.pythonhosted.org/packages/09/c6/d3e3abe5b4f4f16cf0dfc9240ab7ce10c2baa0e268989a4e3ec19e90c84e/urllib3-1.26.4-py2.py3-none-any.whl\n",
      "Collecting python-dateutil<3.0.0,>=2.1 (from botocore<1.21.0,>=1.20.56->boto3)\n",
      "  Using cached https://files.pythonhosted.org/packages/d4/70/d60450c3dd48ef87586924207ae8907090de0b306af2bce5d134d78615cb/python_dateutil-2.8.1-py2.py3-none-any.whl\n",
      "Requirement already satisfied: six>=1.5 in /usr/local/lib/python3.7/site-packages (from python-dateutil<3.0.0,>=2.1->botocore<1.21.0,>=1.20.56->boto3)\n",
      "Building wheels for collected packages: boto3\n",
      "  Running setup.py bdist_wheel for boto3: started\n",
      "  Running setup.py bdist_wheel for boto3: finished with status 'done'\n",
      "  Stored in directory: /var/lib/livy/.cache/pip/wheels/77/41/89/dd0e45e43a0a79971ee76752d9059b4c10b1edcd7b1fb14006\n",
      "Successfully built boto3\n",
      "Installing collected packages: urllib3, python-dateutil, botocore, s3transfer, boto3\n",
      "Successfully installed boto3-1.17.56 botocore-1.20.56 python-dateutil-2.8.1 s3transfer-0.4.2 urllib3-1.26.4\n",
      "\n",
      "Collecting uuid\n",
      "Installing collected packages: uuid\n",
      "Successfully installed uuid-1.30"
     ]
    }
   ],
   "source": [
    "sc.install_pypi_package(\"boto3\")\n",
    "sc.install_pypi_package(\"uuid\")"
   ]
  },
  {
   "cell_type": "markdown",
   "id": "4518a8d8",
   "metadata": {},
   "source": [
    "# 1，先创建一个sql,提交。(需要先测试，之后再封装成一个sparkjob)\n",
    "# 2,第一次运行且跑出结果\n",
    "# 3,获取名字和结果地址，生成一个mainfest的json文件(文件指定一个目录，数据应该保持一致性。)\n",
    "# 4,根据mainfest的json文件生成datasource\n",
    "# 5,用datasourceId生成dataset\n",
    "# 先创建一个datasource"
   ]
  },
  {
   "cell_type": "code",
   "execution_count": 3,
   "id": "2ca6d277",
   "metadata": {},
   "outputs": [
    {
     "data": {
      "application/vnd.jupyter.widget-view+json": {
       "model_id": "73246da0bee64d1d9f4dad5092aa4a00",
       "version_major": 2,
       "version_minor": 0
      },
      "text/plain": [
       "VBox()"
      ]
     },
     "metadata": {},
     "output_type": "display_data"
    },
    {
     "data": {
      "application/vnd.jupyter.widget-view+json": {
       "model_id": "",
       "version_major": 2,
       "version_minor": 0
      },
      "text/plain": [
       "FloatProgress(value=0.0, bar_style='info', description='Progress:', layout=Layout(height='25px', width='50%'),…"
      ]
     },
     "metadata": {},
     "output_type": "display_data"
    },
    {
     "name": "stdout",
     "output_type": "stream",
     "text": [
      "{\"fileLocations\": [{\"URIPrefixes\": [\"s3://floatingshelf114234-hanpeng/etl/athenaResult/ID_credinex_finance_detail_consumption/cc42a075-e171-4f5f-a50f-f7249bc3105f.csv\"]}], \"globalUploadSettings\": {\"textqualifier\": \"\\\"\"}}\n",
      "etl/floatingshelf_mainfest/ID_credinex_finance_detail_consumption/manifast.json\n",
      "{'ResponseMetadata': {'RequestId': 'e616ae56-f2fe-4a63-a0bf-3de41550a06a', 'HTTPStatusCode': 202, 'HTTPHeaders': {'date': 'Fri, 23 Apr 2021 03:48:50 GMT', 'content-type': 'application/json', 'content-length': '249', 'connection': 'keep-alive', 'x-amzn-requestid': 'e616ae56-f2fe-4a63-a0bf-3de41550a06a'}, 'RetryAttempts': 0}, 'Status': 202, 'Arn': 'arn:aws:quicksight:ap-southeast-1:855696220043:datasource/d0a0878a-a3e6-11eb-8880-06c70919848e', 'DataSourceId': 'd0a0878a-a3e6-11eb-8880-06c70919848e', 'CreationStatus': 'CREATION_IN_PROGRESS', 'RequestId': 'e616ae56-f2fe-4a63-a0bf-3de41550a06a'}"
     ]
    }
   ],
   "source": [
    "import boto3\n",
    "import sys\n",
    "import json\n",
    "\n",
    "import uuid\n",
    "client = boto3.client('quicksight',region_name='ap-southeast-1')\n",
    "s3=boto3.client('s3',region_name='ap-southeast-1')\n",
    "mainbucket=\"rupiahplus-configs\"\n",
    "mainpath=\"etl/floatingshelf_mainfest/\"\n",
    "mainfileNm=\"manifast.json\"\n",
    "def createDataSet(name,key):\n",
    "    print(key)\n",
    "    response = client.create_data_source(\n",
    "        AwsAccountId='855696220043',\n",
    "        DataSourceId=str(uuid.uuid1()),\n",
    "        Name=name+\"_demo\",\n",
    "        Type='S3',\n",
    "        DataSourceParameters={\n",
    "            'S3Parameters': {\n",
    "                'ManifestFileLocation': {\n",
    "                    'Bucket': mainbucket,\n",
    "                    'Key':key\n",
    "                }\n",
    "            },\n",
    "        })\n",
    "    print(response)\n",
    "def createDatasource(name,key):\n",
    "    print(key)\n",
    "    response = client.create_data_source(\n",
    "        AwsAccountId='855696220043',\n",
    "        DataSourceId=str(uuid.uuid1()),\n",
    "        Name=name+\"_demo\",\n",
    "        Type='S3',\n",
    "        DataSourceParameters={\n",
    "            'S3Parameters': {\n",
    "                'ManifestFileLocation': {\n",
    "                    'Bucket': mainbucket,\n",
    "                    'Key':key\n",
    "                }\n",
    "            },\n",
    "        })\n",
    "    print(response)\n",
    "def createMainJsonFile():\n",
    "    filebucket=\"floatingshelf114234-hanpeng\"\n",
    "    filepath=\"etl/athenaResult/ID_credinex_finance_detail_consumption/cc42a075-e171-4f5f-a50f-f7249bc3105f.csv\"\n",
    "    name=\"ID_credinex_finance_detail_consumption\"\n",
    "    # 开始生成文件\n",
    "    temp={\"fileLocations\":[{\"URIPrefixes\":[\"s3://\"+filebucket+\"/\"+filepath]}],\"globalUploadSettings\":{\"textqualifier\":\"\\\"\"}}\n",
    "    temp=json.dumps(temp)\n",
    "    print(temp)\n",
    "        # 上传文件\n",
    "    manikey=mainpath+name+\"/\"+mainfileNm\n",
    "    s3.put_object(Body=temp, Bucket=mainbucket, Key=manikey, ACL='public-read')\n",
    "#     创建datasource\n",
    "    createDatasource(name,manikey)\n",
    "# createAthenaDataSet()\n",
    "# createDataSource()\n",
    "# createdataSet()\n",
    "createMainJsonFile()"
   ]
  },
  {
   "cell_type": "code",
   "execution_count": 4,
   "id": "55757064",
   "metadata": {},
   "outputs": [
    {
     "data": {
      "application/vnd.jupyter.widget-view+json": {
       "model_id": "cf87efeb82b249559d7297a60b163ca3",
       "version_major": 2,
       "version_minor": 0
      },
      "text/plain": [
       "VBox()"
      ]
     },
     "metadata": {},
     "output_type": "display_data"
    },
    {
     "data": {
      "application/vnd.jupyter.widget-view+json": {
       "model_id": "",
       "version_major": 2,
       "version_minor": 0
      },
      "text/plain": [
       "FloatProgress(value=0.0, bar_style='info', description='Progress:', layout=Layout(height='25px', width='50%'),…"
      ]
     },
     "metadata": {},
     "output_type": "display_data"
    },
    {
     "name": "stdout",
     "output_type": "stream",
     "text": [
      "be8997dc-a353-11eb-94b0-06c70919848e"
     ]
    }
   ],
   "source": [
    "\n",
    "import uuid\n",
    "print(uuid.uuid1())"
   ]
  }
 ],
 "metadata": {
  "kernelspec": {
   "display_name": "PySpark",
   "language": "",
   "name": "pysparkkernel"
  },
  "language_info": {
   "codemirror_mode": {
    "name": "python",
    "version": 2
   },
   "mimetype": "text/x-python",
   "name": "pyspark",
   "pygments_lexer": "python2"
  }
 },
 "nbformat": 4,
 "nbformat_minor": 5
}
