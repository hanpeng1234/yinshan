{
 "cells": [
  {
   "cell_type": "code",
   "execution_count": null,
   "id": "aggressive-shoot",
   "metadata": {},
   "outputs": [
    {
     "data": {
      "application/vnd.jupyter.widget-view+json": {
       "model_id": "9c79bbf40b2a4248a09eeb492bf5e435",
       "version_major": 2,
       "version_minor": 0
      },
      "text/plain": [
       "VBox()"
      ]
     },
     "metadata": {},
     "output_type": "display_data"
    },
    {
     "name": "stdout",
     "output_type": "stream",
     "text": [
      "Starting Spark application\n"
     ]
    },
    {
     "data": {
      "text/html": [
       "<table>\n",
       "<tr><th>ID</th><th>YARN Application ID</th><th>Kind</th><th>State</th><th>Spark UI</th><th>Driver log</th><th>Current session?</th></tr><tr><td>1</td><td>application_1617950361449_0002</td><td>pyspark</td><td>idle</td><td><a target=\"_blank\" href=\"http://ip-10-3-0-76.ap-southeast-1.compute.internal:20888/proxy/application_1617950361449_0002/\">Link</a></td><td><a target=\"_blank\" href=\"http://ip-10-3-0-82.ap-southeast-1.compute.internal:8042/node/containerlogs/container_1617950361449_0002_01_000001/livy\">Link</a></td><td>✔</td></tr></table>"
      ],
      "text/plain": [
       "<IPython.core.display.HTML object>"
      ]
     },
     "metadata": {},
     "output_type": "display_data"
    },
    {
     "data": {
      "application/vnd.jupyter.widget-view+json": {
       "model_id": "",
       "version_major": 2,
       "version_minor": 0
      },
      "text/plain": [
       "FloatProgress(value=0.0, bar_style='info', description='Progress:', layout=Layout(height='25px', width='50%'),…"
      ]
     },
     "metadata": {},
     "output_type": "display_data"
    },
    {
     "name": "stdout",
     "output_type": "stream",
     "text": [
      "SparkSession available as 'spark'.\n"
     ]
    },
    {
     "data": {
      "application/vnd.jupyter.widget-view+json": {
       "model_id": "2c5650580dd44b2ea588a37c590c2e25",
       "version_major": 2,
       "version_minor": 0
      },
      "text/plain": [
       "FloatProgress(value=0.0, bar_style='info', description='Progress:', layout=Layout(height='25px', width='50%'),…"
      ]
     },
     "metadata": {},
     "output_type": "display_data"
    }
   ],
   "source": [
    "sc.install_pypi_package(\"boto3\")"
   ]
  },
  {
   "cell_type": "code",
   "execution_count": null,
   "id": "bearing-qatar",
   "metadata": {},
   "outputs": [],
   "source": [
    "import boto3\n",
    "dynamodb=boto3.client('dynamodb',region_name='ap-southeast-1')\n",
    "s3=boto3.client('s3',region_name='ap-southeast-1')\n",
    "athena=boto3.client('athena',region_name='ap-southeast-1')\n",
    "sqs=boto3.client('sqs',region_name='ap-southeast-1')\n",
    "queueUrl='https://sqs.ap-southeast-1.amazonaws.com/855696220043/floatingShelf_exec_sql'\n",
    "tableNm='AnalysisReportSql-v6q6okep3bebnkt4bszyldyyie-hanpeng'\n",
    "sqlList=[]\n",
    "execList=[]\n",
    "def getsqlDetail(bucket,path):\n",
    "    response = s3.get_object(\n",
    "        Bucket=bucket,\n",
    "        Key=path,\n",
    "    )\n",
    "    return response[\"Body\"].read().decode('utf-8') if response[\"Body\"] is not None else ''\n",
    "def execAthenaSql(sql,tableNm):\n",
    "    s3_output=\"s3://rupiahplus-data-warehouse/etl/floatingshelf/\"+tableNm\n",
    "    response = athena.start_query_execution(\n",
    "        QueryString=sql,\n",
    "        QueryExecutionContext={\n",
    "            'Database': \"han_test\"\n",
    "            },\n",
    "        ResultConfiguration={\n",
    "            'OutputLocation': s3_output,\n",
    "            }\n",
    "        )\n",
    "    return {\"tableNm\":tableNm,\"execId\":response[\"QueryExecutionId\"]}\n",
    "def getRecord(record):\n",
    "    sqlbucket=record[\"sqlbucket\"][\"S\"]\n",
    "    sqlpath=record[\"sqlpath\"][\"S\"]\n",
    "#     获取sql内容\n",
    "    sqlDetail=getsqlDetail(sqlbucket,sqlpath)\n",
    "    mobj={}\n",
    "    mobj['sqlbucket']=sqlbucket\n",
    "    mobj['sqlpath']=sqlpath\n",
    "    mobj['tableNm']=record[\"tableNm\"][\"S\"]\n",
    "    mobj['executecycle']=record[\"executecycle\"][\"S\"]\n",
    "    mobj['sqlDetail']=sqlDetail\n",
    "    return mobj\n",
    "def getsqlList():\n",
    "    response = dynamodb.scan(\n",
    "        TableName=tableNm,\n",
    "        Limit=1000,\n",
    "        Select='ALL_ATTRIBUTES',\n",
    "#         FilterExpression=\" executecycle =:executecycle\",\n",
    "        #             ':executecycle': {\n",
    "#                 'S': 'DAILY'\n",
    "#             }\n",
    "        FilterExpression=\"tbtype =:tbtype\",\n",
    "        ExpressionAttributeValues={\n",
    "             ':tbtype': {\n",
    "                'S': 'ID_CREDINEX'\n",
    "            }\n",
    "        }\n",
    "    )\n",
    "    sqlList=list(map(getRecord,response[\"Items\"]))\n",
    "    return sqlList\n",
    "# 发送集合到sqs\n",
    "def sendsqlDataToSqs():\n",
    "    # 获取sql目录集合\n",
    "    sqlList=getsqlList()\n",
    "    if len(sqlList)>0:\n",
    "        for i in sqlList:\n",
    "            print(i)\n",
    "            response = sqs.send_message(\n",
    "                QueueUrl=queueUrl,\n",
    "                MessageBody=str(i)\n",
    "            )\n",
    "            print(response)\n",
    "sendsqlDataToSqs()            \n",
    "# 执行sql\n",
    "# def refreshQs():\n",
    "#     # 获取sql目录集合\n",
    "#     sqlList=getsqlList()\n",
    "#     print(sqlList)\n",
    "#     sqllength=len(sqlList)\n",
    "#     i = 0\n",
    "#     countNum = 0\n",
    "#     while True:\n",
    "#         print(sqlList[i * 5:(i + 1) * 5 if (i + 1) * 5 < sqllength else sqllength])\n",
    "# #         countNum = execute(\n",
    "# #             sqlList[i * 5:(i + 1) * 5 if (i + 1) * 5 < len(sqllength) else len(sqllength)], countNum)\n",
    "#         i = i + 1\n",
    "#         if countNum >= sqllength:\n",
    "#             break\n",
    "        # 睡5分钟\n",
    "#         time.sleep(100)\n",
    "# refreshQs()\n",
    "# for i in sqlList:\n",
    "#     print(i)\n",
    "#     sql=getsqlDetail(i[\"sqlbucket\"],i[\"sqlpath\"])\n",
    "#     execRestult=execAthenaSql(sql,i[\"tableNm\"])\n",
    "#     execList.append(execRestult)\n",
    "# print(execList)"
   ]
  },
  {
   "cell_type": "code",
   "execution_count": null,
   "id": "difficult-discretion",
   "metadata": {},
   "outputs": [
    {
     "data": {
      "application/vnd.jupyter.widget-view+json": {
       "model_id": "9d3b9dbe80754012adba4d3a8805542f",
       "version_major": 2,
       "version_minor": 0
      },
      "text/plain": [
       "VBox()"
      ]
     },
     "metadata": {},
     "output_type": "display_data"
    }
   ],
   "source": [
    "import boto3\n",
    "import ast\n",
    "import time\n",
    "from datetime import datetime\n",
    "sqs=boto3.client('sqs',region_name='ap-southeast-1')\n",
    "s3=boto3.client('s3',region_name='ap-southeast-1')\n",
    "athena=boto3.client('athena',region_name='ap-southeast-1')\n",
    "dynamodb=boto3.client('dynamodb',region_name='ap-southeast-1')\n",
    "QueueUrl='https://sqs.ap-southeast-1.amazonaws.com/855696220043/floatingShelf_exec_sql'\n",
    "resultBucket=\"rupiahplus-data-warehouse\"\n",
    "resultpath=\"/etl/floatingshelf/\"\n",
    "\n",
    "# 更新dynamodb的状态\n",
    "def updateSqlState(execResult):\n",
    "    tableId = execResult['tableId']\n",
    "    sqlexecid=execResult['sqlexecid']\n",
    "    sqlexecdate = execResult['sqlexecdate']\n",
    "    resultbucket = execResult['resultbucket']\n",
    "    resultpath = execResult['resultpath']\n",
    "    response = dynamodb.update_item(\n",
    "        TableName='AnalysisReportSql-v6q6okep3bebnkt4bszyldyyie-hanpeng',\n",
    "        Key={\"id\":{\"S\":tableId}},\n",
    "        UpdateExpression=\"SET  sqlexecid=:sqlexecid,sqlexecdate =:sqlexecdate ,resultbucket=:resultbucket,resultpath=:resultpath\",\n",
    "        ExpressionAttributeValues={\n",
    "            ':sqlexecid': {'S': sqlexecid},\n",
    "            ':sqlexecdate': {'S': sqlexecdate},\n",
    "            ':resultbucket': {'S': resultbucket},\n",
    "            ':resultpath': {'S': resultpath},\n",
    "        },\n",
    "    )\n",
    "    print(response)\n",
    "def getsqlDetail(bucket,path):\n",
    "    response = s3.get_object(\n",
    "        Bucket=bucket,\n",
    "        Key=path,\n",
    "    )\n",
    "    return response[\"Body\"].read().decode('utf-8') if response[\"Body\"] is not None else ''\n",
    "def execAthenaSql(sql,tableNm):\n",
    "    s3_output=\"s3://rupiahplus-data-warehouse/etl/floatingshelf/\"+tableNm\n",
    "    response = athena.start_query_execution(\n",
    "        QueryString=sql,\n",
    "        QueryExecutionContext={\n",
    "            'Database': \"han_test\"\n",
    "            },\n",
    "        ResultConfiguration={\n",
    "            'OutputLocation': s3_output,\n",
    "            }\n",
    "        )\n",
    "    # 执行完成之后，更新记录\n",
    "    sqlstate={}\n",
    "    sqlstate['tableId']=tableNm\n",
    "    sqlstate['sqlexecid'] = response[\"QueryExecutionId\"]\n",
    "    sqlstate['sqlexecdate'] =datetime.now().strftime('%Y-%m-%d %H:%M:%S')\n",
    "    sqlstate['resultbucket'] = resultBucket\n",
    "    sqlstate['resultpath'] = resultpath+tableNm+\"/\"+response[\"QueryExecutionId\"]+\".csv\"\n",
    "    updateSqlState(sqlstate)\n",
    "    return {\"tableNm\":tableNm,\"execId\":response[\"QueryExecutionId\"]}\n",
    "def execSql(messagedetail):\n",
    "    print(messagedetail)\n",
    "    delFlag=1\n",
    "    if messagedetail.get(\"Body\") is None:\n",
    "        return\n",
    "    body = ast.literal_eval(messagedetail[\"Body\"])\n",
    "    if body[\"sqlbucket\"] is None \\\n",
    "            or body[\"sqlpath\"] is None \\\n",
    "            or body[\"tableNm\"] is None:\n",
    "        deleteMessage(messagedetail['ReceiptHandle'])\n",
    "        return\n",
    "    # sqlstr=getsqlDetail(body[\"sqlbucket\"],body[\"sqlpath\"])\n",
    "    if body.get(\"sqlDetail\")is None or body.get(\"sqlDetail\") is None or body.get(\"sqlDetail\") =='':\n",
    "        deleteMessage(messagedetail['ReceiptHandle'])\n",
    "        return\n",
    "    sqlstr = body[\"sqlDetail\"]\n",
    "    try:\n",
    "         execAthenaSql(sqlstr,body[\"tableNm\"])\n",
    "         # 执行完成之后把结果返回DynamoDb\n",
    "    except Exception as e:\n",
    "        import traceback\n",
    "        print(\"出错了------------------\",e)\n",
    "        print(traceback.format_exc())\n",
    "        delFlag=0\n",
    "    # 拿到消息之后删掉消息\n",
    "    if delFlag==1:\n",
    "        deleteMessage(messagedetail['ReceiptHandle'])\n",
    "def deleteMessage(receiptHandle):\n",
    "    print(\"执行删除------\")\n",
    "    response=sqs.delete_message(\n",
    "        QueueUrl=QueueUrl,\n",
    "        ReceiptHandle=receiptHandle\n",
    "    )\n",
    "    print(\"删除结果------\",response)\n",
    "noneNum=0\n",
    "while True:\n",
    "    time.sleep(60)\n",
    "    response = sqs.receive_message(\n",
    "        QueueUrl=QueueUrl,\n",
    "        AttributeNames=[\n",
    "            'All'\n",
    "        ],\n",
    "        MaxNumberOfMessages=10,\n",
    "        WaitTimeSeconds=20,\n",
    "    )\n",
    "    print(\"数据是---------\",response)\n",
    "    if response.get(\"Messages\") is not None :\n",
    "        noneNum=0\n",
    "        print(list(map(execSql,response[\"Messages\"])))\n",
    "    else:\n",
    "        noneNum=noneNum+1\n",
    "    print(noneNum)\n",
    "    if noneNum>5:\n",
    "        break"
   ]
  },
  {
   "cell_type": "code",
   "execution_count": null,
   "id": "sapphire-trading",
   "metadata": {},
   "outputs": [],
   "source": []
  }
 ],
 "metadata": {
  "kernelspec": {
   "display_name": "PySpark",
   "language": "",
   "name": "pysparkkernel"
  },
  "language_info": {
   "codemirror_mode": {
    "name": "python",
    "version": 2
   },
   "mimetype": "text/x-python",
   "name": "pyspark",
   "pygments_lexer": "python2"
  }
 },
 "nbformat": 4,
 "nbformat_minor": 5
}
