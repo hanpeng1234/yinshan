{
 "cells": [
  {
   "cell_type": "code",
   "execution_count": 2,
   "metadata": {},
   "outputs": [
    {
     "data": {
      "application/vnd.jupyter.widget-view+json": {
       "model_id": "fb6755f3fa044acdac5f62ffcfdad635",
       "version_major": 2,
       "version_minor": 0
      },
      "text/plain": [
       "VBox()"
      ]
     },
     "metadata": {},
     "output_type": "display_data"
    },
    {
     "data": {
      "application/vnd.jupyter.widget-view+json": {
       "model_id": "",
       "version_major": 2,
       "version_minor": 0
      },
      "text/plain": [
       "FloatProgress(value=0.0, bar_style='info', description='Progress:', layout=Layout(height='25px', width='50%'),…"
      ]
     },
     "metadata": {},
     "output_type": "display_data"
    },
    {
     "name": "stdout",
     "output_type": "stream",
     "text": [
      "a\n",
      "a\n",
      "a\n",
      "a\n",
      "a\n",
      "a"
     ]
    }
   ],
   "source": [
    "import sys\n",
    "from concurrent import futures\n",
    "import numpy as np\n",
    "from pyspark.sql import SparkSession\n",
    "from datetime import datetime,timedelta\n",
    "import pytz\n",
    "tablemap={\"notification_emr_etl\":\"notification\"} #,\n",
    "first=\" select 'insert' as kind, '2021-01-01 23:59:59' as etldate,0 as  etlindex, \"\n",
    "end=\" , '2021' as year,   '01' as month,  '01' as day from  \"\n",
    "def getTableColum(tableNm,b):\n",
    "    colum=\"\"\n",
    "    for index in range(len(b)):\n",
    "        colum=colum+setDef(b[index][\"data_type\"],b[index][\"col_name\"],tableNm)+\", \"\n",
    "    return colum[0:len(colum)-2]\n",
    "def setDef(type,table_col,tableNm):\n",
    "    if(tableNm=='t_auto_review_loan' and type[:7] == 'boolean'):\n",
    "        return \"cast (\"+table_col+\" as string ) as \"+table_col\n",
    "    else:\n",
    "        return table_col\n",
    "def make_col_temptable(databaseName,row):\n",
    "    tableName=row[\"tableName\"]\n",
    "    if tableName=='t_message':\n",
    "        tablecolum=\"desc \" +databaseName+\".\"+tableName;\n",
    "        tableSchema= spark.sql(tablecolum).collect()\n",
    "        sql=first+ getTableColum(tableName,tableSchema)+end+databaseName+\".\"+tableName\n",
    "        path=\"s3://rupiahplus-data-warehouse/stream/\"+tablemap[databaseName]+\"_etl/\"+tableName+\"/\"\n",
    "        spark.sql(sql).write.mode(\"append\").partitionBy(\"year\",\"month\",\"day\").orc(path)\n",
    "if __name__ == \"builtins\":\n",
    "    spark = SparkSession\\\n",
    "        .builder\\\n",
    "        .appName(\"Python Demo\")\\\n",
    "        .config(\"hive.metastore.client.factory.class\", \"com.amazonaws.glue.catalog.metastore.AWSGlueDataCatalogHiveClientFactory\") \\\n",
    "        .enableHiveSupport()\\\n",
    "        .getOrCreate()\n",
    "#     spark.conf.set(\"spark.scheduler.mode\",\"FAIR\")\n",
    "    spark.conf.set(\"spark.sql.shuffle.partitions\",20)\n",
    "    for databaseName in tablemap:\n",
    "        databasesql=\"show tables in \"+databaseName\n",
    "        tables=spark.sql(databasesql)\n",
    "        tablelist=tables.collect();\n",
    "        executor=None\n",
    "        with futures.ThreadPoolExecutor(max_workers=10) as executor:\n",
    "            futures_result=futures.wait([executor.submit(make_col_temptable,databaseName, tableNm) for tableNm in tablelist])\n",
    "            for  future in futures_result[0]:\n",
    "                print(\"a\")\n"
   ]
  },
  {
   "cell_type": "code",
   "execution_count": null,
   "metadata": {},
   "outputs": [],
   "source": [
    "t_message=spark.sql(\"\"\"\n",
    "    select\n",
    "      'insert' as kind,\n",
    "     '2020-06-01 23:59:59' as etldate,\n",
    "        0 as  etlindex,\n",
    "     *,\n",
    "    '2020' as year,\n",
    "    '06' as month,\n",
    "     '01' as day\n",
    "    from `notification_emr_etl`.`t_message`\n",
    "  \n",
    "\"\"\")\n",
    "t_message.write.mode(\"append\").partitionBy(\"year\",\"month\",\"day\").orc(\"s3://rupiahplus-data-warehouse/stream/notification_etl/t_message/\")\n"
   ]
  },
  {
   "cell_type": "code",
   "execution_count": 2,
   "metadata": {},
   "outputs": [
    {
     "data": {
      "application/vnd.jupyter.widget-view+json": {
       "model_id": "53d9dc6f096a465e9044499fcb3c2b28",
       "version_major": 2,
       "version_minor": 0
      },
      "text/plain": [
       "VBox()"
      ]
     },
     "metadata": {},
     "output_type": "display_data"
    },
    {
     "data": {
      "application/vnd.jupyter.widget-view+json": {
       "model_id": "",
       "version_major": 2,
       "version_minor": 0
      },
      "text/plain": [
       "FloatProgress(value=0.0, bar_style='info', description='Progress:', layout=Layout(height='25px', width='50%'),…"
      ]
     },
     "metadata": {},
     "output_type": "display_data"
    }
   ],
   "source": [
    "t_message_channel=spark.sql(\"\"\"\n",
    "    select\n",
    "      'insert' as kind,\n",
    "     '2020-06-01 23:59:59' as etldate,\n",
    "        0 as  etlindex,\n",
    "     *,\n",
    "    '2020' as year,\n",
    "    '06' as month,\n",
    "     '01' as day\n",
    "    from `notification_emr_etl`.`t_message_channel`\n",
    "\"\"\")\n",
    "t_message_channel.write.mode(\"append\").partitionBy(\"year\",\"month\",\"day\").orc(\"s3://rupiahplus-data-warehouse/stream/notification_etl/t_message_channel/\")\n"
   ]
  },
  {
   "cell_type": "code",
   "execution_count": 3,
   "metadata": {},
   "outputs": [
    {
     "data": {
      "application/vnd.jupyter.widget-view+json": {
       "model_id": "4bf2afa865334d7781d8aa02e8bed370",
       "version_major": 2,
       "version_minor": 0
      },
      "text/plain": [
       "VBox()"
      ]
     },
     "metadata": {},
     "output_type": "display_data"
    },
    {
     "data": {
      "application/vnd.jupyter.widget-view+json": {
       "model_id": "",
       "version_major": 2,
       "version_minor": 0
      },
      "text/plain": [
       "FloatProgress(value=0.0, bar_style='info', description='Progress:', layout=Layout(height='25px', width='50%'),…"
      ]
     },
     "metadata": {},
     "output_type": "display_data"
    }
   ],
   "source": [
    "t_message_template=spark.sql(\"\"\"\n",
    "    select\n",
    "      'insert' as kind,\n",
    "     '2020-06-01 23:59:59' as etldate,\n",
    "        0 as  etlindex,\n",
    "     *,\n",
    "    '2020' as year,\n",
    "    '06' as month,\n",
    "     '01' as day\n",
    "    from `notification_emr_etl`.`t_message_template`\n",
    "\"\"\")\n",
    "t_message_template.write.mode(\"append\").partitionBy(\"year\",\"month\",\"day\").orc(\"s3://rupiahplus-data-warehouse/stream/notification_etl/t_message_template/\")\n"
   ]
  },
  {
   "cell_type": "code",
   "execution_count": 4,
   "metadata": {},
   "outputs": [
    {
     "data": {
      "application/vnd.jupyter.widget-view+json": {
       "model_id": "eefadae9852a4f9399352e9c4174dd5a",
       "version_major": 2,
       "version_minor": 0
      },
      "text/plain": [
       "VBox()"
      ]
     },
     "metadata": {},
     "output_type": "display_data"
    },
    {
     "data": {
      "application/vnd.jupyter.widget-view+json": {
       "model_id": "",
       "version_major": 2,
       "version_minor": 0
      },
      "text/plain": [
       "FloatProgress(value=0.0, bar_style='info', description='Progress:', layout=Layout(height='25px', width='50%'),…"
      ]
     },
     "metadata": {},
     "output_type": "display_data"
    }
   ],
   "source": [
    "t_product_department=spark.sql(\"\"\"\n",
    "    select\n",
    "      'insert' as kind,\n",
    "     '2020-06-01 23:59:59' as etldate,\n",
    "        0 as  etlindex,\n",
    "     *,\n",
    "    '2020' as year,\n",
    "    '06' as month,\n",
    "     '01' as day\n",
    "    from `notification_emr_etl`.`t_product_department`\n",
    "\"\"\")\n",
    "t_product_department.write.mode(\"append\").partitionBy(\"year\",\"month\",\"day\").orc(\"s3://rupiahplus-data-warehouse/stream/notification_etl/t_product_department/\")\n"
   ]
  },
  {
   "cell_type": "code",
   "execution_count": 7,
   "metadata": {},
   "outputs": [
    {
     "data": {
      "application/vnd.jupyter.widget-view+json": {
       "model_id": "d1fe4acd701a448ba6a3427707c6d1b5",
       "version_major": 2,
       "version_minor": 0
      },
      "text/plain": [
       "VBox()"
      ]
     },
     "metadata": {},
     "output_type": "display_data"
    },
    {
     "data": {
      "application/vnd.jupyter.widget-view+json": {
       "model_id": "",
       "version_major": 2,
       "version_minor": 0
      },
      "text/plain": [
       "FloatProgress(value=0.0, bar_style='info', description='Progress:', layout=Layout(height='25px', width='50%'),…"
      ]
     },
     "metadata": {},
     "output_type": "display_data"
    }
   ],
   "source": [
    "t_template=spark.sql(\"\"\"\n",
    "    select\n",
    "      'insert' as kind,\n",
    "     '2020-06-01 23:59:59' as etldate,\n",
    "        0 as  etlindex,\n",
    "     *,\n",
    "    '2020' as year,\n",
    "    '06' as month,\n",
    "     '01' as day\n",
    "    from `notification_emr_etl`.`t_template`\n",
    "\n",
    "\"\"\")\n",
    "t_template.write.mode(\"append\").partitionBy(\"year\",\"month\",\"day\").orc(\"s3://rupiahplus-data-warehouse/stream/notification_etl/t_template/\")\n"
   ]
  },
  {
   "cell_type": "code",
   "execution_count": 6,
   "metadata": {},
   "outputs": [
    {
     "data": {
      "application/vnd.jupyter.widget-view+json": {
       "model_id": "39910a002a9d47d49e456a4e3c4d1c63",
       "version_major": 2,
       "version_minor": 0
      },
      "text/plain": [
       "VBox()"
      ]
     },
     "metadata": {},
     "output_type": "display_data"
    },
    {
     "data": {
      "application/vnd.jupyter.widget-view+json": {
       "model_id": "",
       "version_major": 2,
       "version_minor": 0
      },
      "text/plain": [
       "FloatProgress(value=0.0, bar_style='info', description='Progress:', layout=Layout(height='25px', width='50%'),…"
      ]
     },
     "metadata": {},
     "output_type": "display_data"
    }
   ],
   "source": [
    "t_trigger=spark.sql(\"\"\"\n",
    "    select\n",
    "      'insert' as kind,\n",
    "     '2020-06-01 23:59:59' as etldate,\n",
    "        0 as  etlindex,\n",
    "     *,\n",
    "    '2020' as year,\n",
    "    '06' as month,\n",
    "     '01' as day\n",
    "    from `notification_emr_etl`.`t_trigger`\n",
    " \n",
    "\"\"\")\n",
    "t_trigger.write.mode(\"append\").partitionBy(\"year\",\"month\",\"day\").orc(\"s3://rupiahplus-data-warehouse/stream/notification_etl/t_trigger/\")\n",
    "#    where  id< 11161410"
   ]
  }
 ],
 "metadata": {
  "kernelspec": {
   "display_name": "PySpark",
   "language": "",
   "name": "pysparkkernel"
  },
  "language_info": {
   "codemirror_mode": {
    "name": "python",
    "version": 2
   },
   "mimetype": "text/x-python",
   "name": "pyspark",
   "pygments_lexer": "python2"
  }
 },
 "nbformat": 4,
 "nbformat_minor": 4
}
