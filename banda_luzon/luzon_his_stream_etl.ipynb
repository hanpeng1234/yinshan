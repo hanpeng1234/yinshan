{
 "cells": [
  {
   "cell_type": "code",
   "execution_count": 1,
   "metadata": {},
   "outputs": [
    {
     "data": {
      "application/vnd.jupyter.widget-view+json": {
       "model_id": "c60e190a12204c72a7233cf6f58b7631",
       "version_major": 2,
       "version_minor": 0
      },
      "text/plain": [
       "VBox()"
      ]
     },
     "metadata": {},
     "output_type": "display_data"
    },
    {
     "name": "stdout",
     "output_type": "stream",
     "text": [
      "Starting Spark application\n"
     ]
    },
    {
     "data": {
      "text/html": [
       "<table>\n",
       "<tr><th>ID</th><th>YARN Application ID</th><th>Kind</th><th>State</th><th>Spark UI</th><th>Driver log</th><th>Current session?</th></tr><tr><td>2</td><td>application_1599621111434_0003</td><td>pyspark</td><td>idle</td><td><a target=\"_blank\" href=\"http://ip-172-31-6-66.ap-southeast-1.compute.internal:20888/proxy/application_1599621111434_0003/\">Link</a></td><td><a target=\"_blank\" href=\"http://ip-172-31-3-41.ap-southeast-1.compute.internal:8042/node/containerlogs/container_1599621111434_0003_01_000001/livy\">Link</a></td><td>✔</td></tr></table>"
      ],
      "text/plain": [
       "<IPython.core.display.HTML object>"
      ]
     },
     "metadata": {},
     "output_type": "display_data"
    },
    {
     "data": {
      "application/vnd.jupyter.widget-view+json": {
       "model_id": "",
       "version_major": 2,
       "version_minor": 0
      },
      "text/plain": [
       "FloatProgress(value=0.0, bar_style='info', description='Progress:', layout=Layout(height='25px', width='50%'),…"
      ]
     },
     "metadata": {},
     "output_type": "display_data"
    },
    {
     "name": "stdout",
     "output_type": "stream",
     "text": [
      "SparkSession available as 'spark'.\n"
     ]
    },
    {
     "data": {
      "application/vnd.jupyter.widget-view+json": {
       "model_id": "",
       "version_major": 2,
       "version_minor": 0
      },
      "text/plain": [
       "FloatProgress(value=0.0, bar_style='info', description='Progress:', layout=Layout(height='25px', width='50%'),…"
      ]
     },
     "metadata": {},
     "output_type": "display_data"
    },
    {
     "name": "stdout",
     "output_type": "stream",
     "text": [
      "+------+-------------------+--------+------+--------+-----------+--------------------------+-------+-----------+------------+--------------------+---------------------------------------------------------------------------------------------------------------------------------------------------------------------------------------------------------------------------------------------------------------+--------------------------+---------------+----+-----+---+\n",
      "|kind  |etldate            |etlindex|id    |admin_id|access_mode|topic                     |subject|loan_app_id|param_l     |param_h             |comment                                                                                                                                                                                                                                                        |create_time               |ip             |year|month|day|\n",
      "+------+-------------------+--------+------+--------+-----------+--------------------------+-------+-----------+------------+--------------------+---------------------------------------------------------------------------------------------------------------------------------------------------------------------------------------------------------------------------------------------------------------+--------------------------+---------------+----+-----+---+\n",
      "|insert|2019-12-30 23:59:59|0       |231944|100035  |PRIVATE    |REVIEW_COMMENTS           |INSERT |131710     |null        |null                |2 EC NOT FOUND IN P.B                                                                                                                                                                                                                                          |2019-06-21 07:55:53.318168|null           |2019|12   |30 |\n",
      "|insert|2019-12-30 23:59:59|0       |233360|100015  |PRIVATE    |UN_APPLIED_USER_ASSIGNMENT|INSERT |139539     |100038      |139539              |marketing assign                                                                                                                                                                                                                                               |2019-06-23 02:57:32.636889|110.54.243.13  |2019|12   |30 |\n",
      "|insert|2019-12-30 23:59:59|0       |242345|100     |PRIVATE    |ASSIGN_LOAN_TO_REVIEWER   |UPDATE |124650     |100028      |OVERDUEOVER15DAYINM1|averageAssignCollectionToCollector                                                                                                                                                                                                                             |2019-06-30 17:10:01.663326|null           |2019|12   |30 |\n",
      "|insert|2019-12-30 23:59:59|0       |749762|100042  |PRIVATE    |REVIEW_COMMENTS           |INSERT |229715     |null        |null                |CL# KOR/ 2ND# UA/ Manang Marvs\t09350177267, KOR/ SEND A PAYMENT REMINDER SMS                                                                                                                                                                                   |2019-11-20 02:29:12.722728|null           |2019|12   |30 |\n",
      "|insert|2019-12-30 23:59:59|0       |294984|100038  |PRIVATE    |ASSIGN_LOAN_TO_REVIEWER   |UPDATE |146956     |100038      |FIRST_REVIEW        |assignLoanAppToAdmin                                                                                                                                                                                                                                           |2019-07-29 06:28:51.519279|180.191.159.160|2019|12   |30 |\n",
      "|insert|2019-12-30 23:59:59|0       |438020|100007  |PRIVATE    |REVIEW_REJECT             |INSERT |174297     |FIRST_REVIEW|REJECTED            |LGU                                                                                                                                                                                                                                                            |2019-09-06 05:11:00.52365 |110.54.249.63  |2019|12   |30 |\n",
      "|insert|2019-12-30 23:59:59|0       |446467|100007  |PRIVATE    |REVIEW_REJECT             |INSERT |176100     |FIRST_REVIEW|REJECTED            |field                                                                                                                                                                                                                                                          |2019-09-08 05:54:57.5673  |180.191.158.190|2019|12   |30 |\n",
      "|insert|2019-12-30 23:59:59|0       |645923|100060  |PRIVATE    |REVIEW_COMMENTS           |INSERT |205870     |null        |null                |CALL RESULT TO PRIMARY# KOR// 2ND# KOR// (SEND A ENCOURAGE SMS)                                                                                                                                                                                                |2019-10-21 06:54:38.675697|null           |2019|12   |30 |\n",
      "|insert|2019-12-30 23:59:59|0       |955045|100076  |PRIVATE    |REVIEW_COLLECTION_COMMENTS|INSERT |274798     |null        |null                |{\"collectionMethod\":\"PhoneCall\",\"userPhoneStatus\":\"UnContacted\",\"overdueReason\":\"Others\",\"conclusion\":\"PTPFollowUp\",\"callbackTime\":\"\",\"comments\":\"call result to primary #KDTC and 2nd #KDTC ( send SMS will get a additional charges if cannot settle today)\"}|2020-02-13 03:41:12.60094 |null           |2019|12   |30 |\n",
      "|insert|2019-12-30 23:59:59|0       |188768|100032  |PRIVATE    |REVIEW_COLLECTION_COMMENTS|INSERT |120020     |2019-05-23  |null                |{\"collectionMethod\":\"PhoneCall\",\"userPhoneStatus\":\"PtpFollowUp\",\"overdueReason\":\"Ill\",\"conclusion\":\"PromiseToPay\",\"comments\":\"CL confirmed payment today in the afternoon 5 PM\"}                                                                               |2019-05-23 03:21:41.142554|null           |2019|12   |30 |\n",
      "+------+-------------------+--------+------+--------+-----------+--------------------------+-------+-----------+------------+--------------------+---------------------------------------------------------------------------------------------------------------------------------------------------------------------------------------------------------------------------------------------------------------+--------------------------+---------------+----+-----+---+\n",
      "only showing top 10 rows"
     ]
    }
   ],
   "source": [
    "df1=spark.sql(\"\"\"\n",
    "select \n",
    "  * from  luzon_stream_etl.t_admin_audit\n",
    "\"\"\").show(10,False)\n",
    "# thirdparty_advance_ai_multi_platform_records.write.mode(\"append\").partitionBy(\"year\",\"month\",\"day\").orc(\"s3://rupiahplus-data-warehouse/stream/thirdparty/thirdparty_advance_ai_multi_platform_records/\")"
   ]
  },
  {
   "cell_type": "code",
   "execution_count": 2,
   "metadata": {},
   "outputs": [
    {
     "data": {
      "application/vnd.jupyter.widget-view+json": {
       "model_id": "84f07a00f3c7413dac15add88b2777be",
       "version_major": 2,
       "version_minor": 0
      },
      "text/plain": [
       "VBox()"
      ]
     },
     "metadata": {},
     "output_type": "display_data"
    },
    {
     "data": {
      "application/vnd.jupyter.widget-view+json": {
       "model_id": "",
       "version_major": 2,
       "version_minor": 0
      },
      "text/plain": [
       "FloatProgress(value=0.0, bar_style='info', description='Progress:', layout=Layout(height='25px', width='50%'),…"
      ]
     },
     "metadata": {},
     "output_type": "display_data"
    },
    {
     "name": "stdout",
     "output_type": "stream",
     "text": [
      "+--------+\n",
      "|count(1)|\n",
      "+--------+\n",
      "|  698679|\n",
      "+--------+"
     ]
    }
   ],
   "source": [
    "t_admin_audit=spark.sql(\"\"\"\n",
    "select \n",
    "  count(1)\n",
    "  from  `luzon_etl_s3`.`t_admin_audit` \n",
    "  where id< 798826\n",
    "\"\"\").show();\n",
    "# t_admin_audit.write.mode(\"append\").partitionBy(\"year\",\"month\",\"day\").orc(\"s3://rupiahplus-data-warehouse/stream/luzon_etl/t_admin_audit/\")"
   ]
  },
  {
   "cell_type": "code",
   "execution_count": 1,
   "metadata": {},
   "outputs": [
    {
     "data": {
      "application/vnd.jupyter.widget-view+json": {
       "model_id": "deab7325b482458d8ddf43e7ce849d65",
       "version_major": 2,
       "version_minor": 0
      },
      "text/plain": [
       "VBox()"
      ]
     },
     "metadata": {},
     "output_type": "display_data"
    },
    {
     "name": "stdout",
     "output_type": "stream",
     "text": [
      "Starting Spark application\n"
     ]
    },
    {
     "data": {
      "text/html": [
       "<table>\n",
       "<tr><th>ID</th><th>YARN Application ID</th><th>Kind</th><th>State</th><th>Spark UI</th><th>Driver log</th><th>Current session?</th></tr><tr><td>2</td><td>application_1582082288226_0003</td><td>pyspark</td><td>idle</td><td><a target=\"_blank\" href=\"http://ip-172-31-9-140.ap-southeast-1.compute.internal:20888/proxy/application_1582082288226_0003/\">Link</a></td><td><a target=\"_blank\" href=\"http://ip-172-31-15-12.ap-southeast-1.compute.internal:8042/node/containerlogs/container_1582082288226_0003_01_000001/livy\">Link</a></td><td>✔</td></tr></table>"
      ],
      "text/plain": [
       "<IPython.core.display.HTML object>"
      ]
     },
     "metadata": {},
     "output_type": "display_data"
    },
    {
     "data": {
      "application/vnd.jupyter.widget-view+json": {
       "model_id": "",
       "version_major": 2,
       "version_minor": 0
      },
      "text/plain": [
       "FloatProgress(value=0.0, bar_style='info', description='Progress:', layout=Layout(height='25px', width='50%'),…"
      ]
     },
     "metadata": {},
     "output_type": "display_data"
    },
    {
     "name": "stdout",
     "output_type": "stream",
     "text": [
      "SparkSession available as 'spark'.\n"
     ]
    },
    {
     "data": {
      "application/vnd.jupyter.widget-view+json": {
       "model_id": "",
       "version_major": 2,
       "version_minor": 0
      },
      "text/plain": [
       "FloatProgress(value=0.0, bar_style='info', description='Progress:', layout=Layout(height='25px', width='50%'),…"
      ]
     },
     "metadata": {},
     "output_type": "display_data"
    }
   ],
   "source": [
    "t_admin_audit=spark.sql(\"\"\"\n",
    "select \n",
    "  'insert' as kind,\n",
    "  '2019-12-30 23:59:59' as etldate,\n",
    "  0 as etlindex,\n",
    "  id,\n",
    "  admin_id,\n",
    "  access_mode,\n",
    "  topic,\n",
    "  subject,\n",
    "  loan_app_id,\n",
    "  param_l,\n",
    "  param_h,\n",
    "  comment,\n",
    "  create_time,\n",
    "  ip,\n",
    "  '2019' as year,\n",
    "  '12' as month,\n",
    "  '30' as day\n",
    "  from  `luzon_etl_s3`.`t_admin_audit` \n",
    "  where id< 972775\n",
    "\"\"\")\n",
    "t_admin_audit.write.mode(\"append\").partitionBy(\"year\",\"month\",\"day\").orc(\"s3://rupiahplus-data-warehouse/stream/luzon_etl/t_admin_audit/\")"
   ]
  },
  {
   "cell_type": "code",
   "execution_count": 1,
   "metadata": {},
   "outputs": [
    {
     "data": {
      "application/vnd.jupyter.widget-view+json": {
       "model_id": "c87e5384e4c94587877f0109c9838fa8",
       "version_major": 2,
       "version_minor": 0
      },
      "text/plain": [
       "VBox()"
      ]
     },
     "metadata": {},
     "output_type": "display_data"
    },
    {
     "name": "stdout",
     "output_type": "stream",
     "text": [
      "Starting Spark application\n"
     ]
    },
    {
     "data": {
      "text/html": [
       "<table>\n",
       "<tr><th>ID</th><th>YARN Application ID</th><th>Kind</th><th>State</th><th>Spark UI</th><th>Driver log</th><th>Current session?</th></tr><tr><td>0</td><td>application_1576057367579_0001</td><td>pyspark</td><td>idle</td><td><a target=\"_blank\" href=\"http://ip-172-31-0-146.ap-southeast-1.compute.internal:20888/proxy/application_1576057367579_0001/\">Link</a></td><td><a target=\"_blank\" href=\"http://ip-172-31-14-8.ap-southeast-1.compute.internal:8042/node/containerlogs/container_1576057367579_0001_01_000001/livy\">Link</a></td><td>✔</td></tr></table>"
      ],
      "text/plain": [
       "<IPython.core.display.HTML object>"
      ]
     },
     "metadata": {},
     "output_type": "display_data"
    },
    {
     "data": {
      "application/vnd.jupyter.widget-view+json": {
       "model_id": "",
       "version_major": 2,
       "version_minor": 0
      },
      "text/plain": [
       "FloatProgress(value=0.0, bar_style='info', description='Progress:', layout=Layout(height='25px', width='50%'),…"
      ]
     },
     "metadata": {},
     "output_type": "display_data"
    },
    {
     "name": "stdout",
     "output_type": "stream",
     "text": [
      "SparkSession available as 'spark'.\n"
     ]
    },
    {
     "data": {
      "application/vnd.jupyter.widget-view+json": {
       "model_id": "",
       "version_major": 2,
       "version_minor": 0
      },
      "text/plain": [
       "FloatProgress(value=0.0, bar_style='info', description='Progress:', layout=Layout(height='25px', width='50%'),…"
      ]
     },
     "metadata": {},
     "output_type": "display_data"
    }
   ],
   "source": [
    "t_admin_audit=spark.sql(\"\"\"\n",
    "select \n",
    "  id,\n",
    "  admin_id,\n",
    "  access_mode,\n",
    "  topic,\n",
    "  subject,\n",
    "  loan_app_id,\n",
    "  param_l,\n",
    "  param_h,\n",
    "  \n",
    "  comment,\n",
    "  create_time,\n",
    "  ip,\n",
    "  'insert' as kind,\n",
    "  't_admin_audit' as tablenm,\n",
    "  'public' as schema,\n",
    "  '2019-12-11 9:51:17.485' as etldate,\n",
    "  '2019' as year,\n",
    "  '12' as month,\n",
    "  '11' as day\n",
    "  from  `luzon_etl_s3`.`t_admin_audit` \n",
    "  where id in (809256,809257,809258,809259,809260,809261,809262)\n",
    "\"\"\")\n",
    "t_admin_audit.write.mode(\"append\").partitionBy(\"year\",\"month\",\"day\").orc(\"s3://rupiahplus-data-warehouse/stream/luzon_etl/t_admin_audit/\")"
   ]
  },
  {
   "cell_type": "code",
   "execution_count": 2,
   "metadata": {},
   "outputs": [
    {
     "data": {
      "application/vnd.jupyter.widget-view+json": {
       "model_id": "75dca24d7d274f11a3748a721253aca5",
       "version_major": 2,
       "version_minor": 0
      },
      "text/plain": [
       "VBox()"
      ]
     },
     "metadata": {},
     "output_type": "display_data"
    },
    {
     "data": {
      "application/vnd.jupyter.widget-view+json": {
       "model_id": "",
       "version_major": 2,
       "version_minor": 0
      },
      "text/plain": [
       "FloatProgress(value=0.0, bar_style='info', description='Progress:', layout=Layout(height='25px', width='50%'),…"
      ]
     },
     "metadata": {},
     "output_type": "display_data"
    }
   ],
   "source": [
    "t_auto_review_loan=spark.sql(\"\"\"\n",
    "select \n",
    "  'insert' as kind,\n",
    "  '2019-12-30 23:59:59' as etldate,\n",
    "   0 as etlindex,\n",
    "  id,\n",
    "  riskengine_id,\n",
    "  customer_id,\n",
    "  loan_id,\n",
    "  name,\n",
    "  ktp,\n",
    "  mobile,\n",
    "  cast(success as string) as success,\n",
    "  error_message,\n",
    "  result,\n",
    "  reject_message,\n",
    "  create_time,\n",
    "  finish_time,\n",
    "  duration,\n",
    "  real_policy,\n",
    "  switch_manual_reason,\n",
    "  raw_data,\n",
    "  '2019' as year,\n",
    "  '12' as month,\n",
    "  '30' as day\n",
    "  from  `luzon_etl_s3`.`t_auto_review_loan` \n",
    "  where id< 1199025\n",
    "\"\"\")\n",
    "t_auto_review_loan.write.mode(\"append\").partitionBy(\"year\",\"month\",\"day\").orc(\"s3://rupiahplus-data-warehouse/stream/luzon_etl/t_auto_review_loan/\")"
   ]
  },
  {
   "cell_type": "code",
   "execution_count": 3,
   "metadata": {},
   "outputs": [
    {
     "data": {
      "application/vnd.jupyter.widget-view+json": {
       "model_id": "3368b4d1a2364068892fe479026ccecc",
       "version_major": 2,
       "version_minor": 0
      },
      "text/plain": [
       "VBox()"
      ]
     },
     "metadata": {},
     "output_type": "display_data"
    },
    {
     "data": {
      "application/vnd.jupyter.widget-view+json": {
       "model_id": "",
       "version_major": 2,
       "version_minor": 0
      },
      "text/plain": [
       "FloatProgress(value=0.0, bar_style='info', description='Progress:', layout=Layout(height='25px', width='50%'),…"
      ]
     },
     "metadata": {},
     "output_type": "display_data"
    }
   ],
   "source": [
    "t_auto_review_loan=spark.sql(\"\"\"\n",
    "select \n",
    "  id,\n",
    "  riskengine_id,\n",
    "  customer_id,\n",
    "  loan_id,\n",
    "  name,\n",
    "  ktp,\n",
    "  mobile,\n",
    "  cast(success as string) as success,\n",
    "  error_message,\n",
    "  result,\n",
    "  reject_message,\n",
    "  create_time,\n",
    "  finish_time,\n",
    "  duration,\n",
    "  real_policy,\n",
    "  switch_manual_reason,\n",
    "  raw_data,\n",
    "  'insert' as kind,\n",
    "  't_auto_review_loan' as tablenm,\n",
    "  'public' as schema,\n",
    "  '2019-12-11 09:52:40.76' as etldate,\n",
    "  '2019' as year,\n",
    "  '12' as month,\n",
    "  '11' as day\n",
    "  from  `luzon_etl_s3`.`t_auto_review_loan` \n",
    "  where id in (1147526,1147527,1147528,1147529)\n",
    "\"\"\")\n",
    "t_auto_review_loan.write.mode(\"append\").partitionBy(\"year\",\"month\",\"day\").orc(\"s3://rupiahplus-data-warehouse/stream/luzon_etl/t_auto_review_loan/\")"
   ]
  },
  {
   "cell_type": "code",
   "execution_count": 3,
   "metadata": {},
   "outputs": [
    {
     "data": {
      "application/vnd.jupyter.widget-view+json": {
       "model_id": "5bd150631e064aa49df7188725b737ce",
       "version_major": 2,
       "version_minor": 0
      },
      "text/plain": [
       "VBox()"
      ]
     },
     "metadata": {},
     "output_type": "display_data"
    },
    {
     "data": {
      "application/vnd.jupyter.widget-view+json": {
       "model_id": "",
       "version_major": 2,
       "version_minor": 0
      },
      "text/plain": [
       "FloatProgress(value=0.0, bar_style='info', description='Progress:', layout=Layout(height='25px', width='50%'),…"
      ]
     },
     "metadata": {},
     "output_type": "display_data"
    }
   ],
   "source": [
    "t_bankcard=spark.sql(\"\"\"\n",
    "select \n",
    "  'insert' as kind,\n",
    "  '2019-12-30 23:59:59' as etldate,\n",
    "   0 as etlindex,\n",
    "  id,\n",
    "  customer_id,\n",
    "  loan_app_id,\n",
    "  card_no,\n",
    "  bank_code,\n",
    "  province,\n",
    "  city,\n",
    "  branch,\n",
    "  verify_account_holder_name,\n",
    "  verify_status,\n",
    "  create_time,\n",
    "  update_time,\n",
    "  holder_name,\n",
    "  validation_id,\n",
    "  '2019' as year,\n",
    "  '12' as month,\n",
    "  '30' as day\n",
    "  from  `luzon_etl_s3`.`t_bankcard` \n",
    "  where id< 158411\n",
    "\"\"\")\n",
    "t_bankcard.write.mode(\"append\").partitionBy(\"year\",\"month\",\"day\").orc(\"s3://rupiahplus-data-warehouse/stream/luzon_etl/t_bankcard/\")"
   ]
  },
  {
   "cell_type": "code",
   "execution_count": 5,
   "metadata": {},
   "outputs": [
    {
     "data": {
      "application/vnd.jupyter.widget-view+json": {
       "model_id": "09bc563791444fcaaf4b83976e3604de",
       "version_major": 2,
       "version_minor": 0
      },
      "text/plain": [
       "VBox()"
      ]
     },
     "metadata": {},
     "output_type": "display_data"
    },
    {
     "data": {
      "application/vnd.jupyter.widget-view+json": {
       "model_id": "",
       "version_major": 2,
       "version_minor": 0
      },
      "text/plain": [
       "FloatProgress(value=0.0, bar_style='info', description='Progress:', layout=Layout(height='25px', width='50%'),…"
      ]
     },
     "metadata": {},
     "output_type": "display_data"
    }
   ],
   "source": [
    "t_bankcard=spark.sql(\"\"\"\n",
    "select \n",
    "  id,\n",
    "  customer_id,\n",
    "  loan_app_id,\n",
    "  card_no,\n",
    "  bank_code,\n",
    "  province,\n",
    "  city,\n",
    "  branch,\n",
    "  verify_account_holder_name,\n",
    "  verify_status,\n",
    "  create_time,\n",
    "  update_time,\n",
    "  holder_name,\n",
    "  validation_id,\n",
    "  'insert' as kind,\n",
    "  't_bankcard' as tablenm,\n",
    "  'public' as schema,\n",
    "  '2019-12-11 10:07:03.855' as etldate,\n",
    "  '2019' as year,\n",
    "  '12' as month,\n",
    "  '11' as day\n",
    "  from  `luzon_etl_s3`.`t_bankcard` \n",
    "  where id in (141355,141356)\n",
    "\"\"\")\n",
    "t_bankcard.write.mode(\"append\").partitionBy(\"year\",\"month\",\"day\").orc(\"s3://rupiahplus-data-warehouse/stream/luzon_etl/t_bankcard/\")"
   ]
  },
  {
   "cell_type": "code",
   "execution_count": 6,
   "metadata": {},
   "outputs": [
    {
     "data": {
      "application/vnd.jupyter.widget-view+json": {
       "model_id": "3d28e884982d4fcaa91c1e0d8bf9b527",
       "version_major": 2,
       "version_minor": 0
      },
      "text/plain": [
       "VBox()"
      ]
     },
     "metadata": {},
     "output_type": "display_data"
    },
    {
     "data": {
      "application/vnd.jupyter.widget-view+json": {
       "model_id": "",
       "version_major": 2,
       "version_minor": 0
      },
      "text/plain": [
       "FloatProgress(value=0.0, bar_style='info', description='Progress:', layout=Layout(height='25px', width='50%'),…"
      ]
     },
     "metadata": {},
     "output_type": "display_data"
    }
   ],
   "source": [
    "# t_auto_review_loan 丢失的三条数据\n",
    "spark.catalog.refreshTable(\"`luzon_etl_s3`.`t_auto_review_loan` \")\n",
    "t_auto_review_loan=spark.sql(\"\"\"\n",
    "select \n",
    "  id,\n",
    "  riskengine_id,\n",
    "  customer_id,\n",
    "  loan_id,\n",
    "  name,\n",
    "  ktp,\n",
    "  mobile,\n",
    "  cast(success as string) as success,\n",
    "  error_message,\n",
    "  result,\n",
    "  reject_message,\n",
    "  create_time,\n",
    "  finish_time,\n",
    "  duration,\n",
    "  real_policy,\n",
    "  switch_manual_reason,\n",
    "  raw_data,\n",
    "  'insert' as kind,\n",
    "  't_admin_audit' as tablenm,\n",
    "  'public' as schema,\n",
    "  '2019-12-07 08:02:40.80' as etldate,\n",
    "  '2019' as year,\n",
    "  '12' as month,\n",
    "  '07' as day\n",
    "  from  `luzon_etl_s3`.`t_auto_review_loan` \n",
    "  where id = 1143550\n",
    "        OR id = 1143549 or id = 1143548\n",
    "\"\"\")\n",
    "t_auto_review_loan.write.mode(\"append\").partitionBy(\"year\",\"month\",\"day\").orc(\"s3://rupiahplus-data-warehouse/stream/luzon_etl/t_auto_review_loan/\")"
   ]
  },
  {
   "cell_type": "code",
   "execution_count": 7,
   "metadata": {},
   "outputs": [
    {
     "data": {
      "application/vnd.jupyter.widget-view+json": {
       "model_id": "710bcde7f0fb4d47a58cc5b3ef90b121",
       "version_major": 2,
       "version_minor": 0
      },
      "text/plain": [
       "VBox()"
      ]
     },
     "metadata": {},
     "output_type": "display_data"
    },
    {
     "data": {
      "application/vnd.jupyter.widget-view+json": {
       "model_id": "66f54bf0b0554463a221e9ab4b033a8e",
       "version_major": 2,
       "version_minor": 0
      },
      "text/plain": [
       "FloatProgress(value=0.0, bar_style='info', description='Progress:', layout=Layout(height='25px', width='50%'),…"
      ]
     },
     "metadata": {},
     "output_type": "display_data"
    },
    {
     "ename": "KeyboardInterrupt",
     "evalue": "",
     "output_type": "error",
     "traceback": [
      "\u001b[0;31m---------------------------------------------------------------------------\u001b[0m",
      "\u001b[0;31mKeyboardInterrupt\u001b[0m                         Traceback (most recent call last)",
      "\u001b[0;32m<ipython-input-7-440c9a0df6ac>\u001b[0m in \u001b[0;36m<module>\u001b[0;34m\u001b[0m\n\u001b[0;32m----> 1\u001b[0;31m \u001b[0mget_ipython\u001b[0m\u001b[0;34m(\u001b[0m\u001b[0;34m)\u001b[0m\u001b[0;34m.\u001b[0m\u001b[0mrun_cell_magic\u001b[0m\u001b[0;34m(\u001b[0m\u001b[0;34m'spark'\u001b[0m\u001b[0;34m,\u001b[0m \u001b[0;34m''\u001b[0m\u001b[0;34m,\u001b[0m \u001b[0;34m't_channel_details=spark.sql(\"\"\"\\nselect \\n  \\'insert\\' as kind,\\n  \\'2019-12-30 23:59:59\\' as etldate,\\n   0 as etlindex,\\n  id,\\n  channel_key,\\n  af_channel,\\n  media_source,\\n  event_name,\\n  body,\\n  ip_address,\\n  create_time,\\n  fb_campaign_name,\\n  campaign,\\n  agency,\\n  fb_campaign_id,\\n  \\'2019\\' as year,\\n  \\'12\\' as month,\\n  \\'30\\' as day\\n  from  `luzon_etl_s3`.`t_channel_details` \\n  where id< 320479\\n\"\"\")\\nt_channel_details.write.mode(\"append\").partitionBy(\"year\",\"month\",\"day\").orc(\"s3://rupiahplus-data-warehouse/stream/luzon_etl/t_channel_details/\")\\n'\u001b[0m\u001b[0;34m)\u001b[0m\u001b[0;34m\u001b[0m\u001b[0;34m\u001b[0m\u001b[0m\n\u001b[0m",
      "\u001b[0;32m/opt/conda/lib/python3.7/site-packages/IPython/core/interactiveshell.py\u001b[0m in \u001b[0;36mrun_cell_magic\u001b[0;34m(self, magic_name, line, cell)\u001b[0m\n\u001b[1;32m   2350\u001b[0m             \u001b[0;32mwith\u001b[0m \u001b[0mself\u001b[0m\u001b[0;34m.\u001b[0m\u001b[0mbuiltin_trap\u001b[0m\u001b[0;34m:\u001b[0m\u001b[0;34m\u001b[0m\u001b[0;34m\u001b[0m\u001b[0m\n\u001b[1;32m   2351\u001b[0m                 \u001b[0margs\u001b[0m \u001b[0;34m=\u001b[0m \u001b[0;34m(\u001b[0m\u001b[0mmagic_arg_s\u001b[0m\u001b[0;34m,\u001b[0m \u001b[0mcell\u001b[0m\u001b[0;34m)\u001b[0m\u001b[0;34m\u001b[0m\u001b[0;34m\u001b[0m\u001b[0m\n\u001b[0;32m-> 2352\u001b[0;31m                 \u001b[0mresult\u001b[0m \u001b[0;34m=\u001b[0m \u001b[0mfn\u001b[0m\u001b[0;34m(\u001b[0m\u001b[0;34m*\u001b[0m\u001b[0margs\u001b[0m\u001b[0;34m,\u001b[0m \u001b[0;34m**\u001b[0m\u001b[0mkwargs\u001b[0m\u001b[0;34m)\u001b[0m\u001b[0;34m\u001b[0m\u001b[0;34m\u001b[0m\u001b[0m\n\u001b[0m\u001b[1;32m   2353\u001b[0m             \u001b[0;32mreturn\u001b[0m \u001b[0mresult\u001b[0m\u001b[0;34m\u001b[0m\u001b[0;34m\u001b[0m\u001b[0m\n\u001b[1;32m   2354\u001b[0m \u001b[0;34m\u001b[0m\u001b[0m\n",
      "\u001b[0;32m</opt/conda/lib/python3.7/site-packages/decorator.py:decorator-gen-124>\u001b[0m in \u001b[0;36mspark\u001b[0;34m(self, *args, **kwargs)\u001b[0m\n",
      "\u001b[0;32m/opt/conda/lib/python3.7/site-packages/IPython/core/magic.py\u001b[0m in \u001b[0;36m<lambda>\u001b[0;34m(f, *a, **k)\u001b[0m\n\u001b[1;32m    185\u001b[0m     \u001b[0;31m# but it's overkill for just that one bit of state.\u001b[0m\u001b[0;34m\u001b[0m\u001b[0;34m\u001b[0m\u001b[0;34m\u001b[0m\u001b[0m\n\u001b[1;32m    186\u001b[0m     \u001b[0;32mdef\u001b[0m \u001b[0mmagic_deco\u001b[0m\u001b[0;34m(\u001b[0m\u001b[0marg\u001b[0m\u001b[0;34m)\u001b[0m\u001b[0;34m:\u001b[0m\u001b[0;34m\u001b[0m\u001b[0;34m\u001b[0m\u001b[0m\n\u001b[0;32m--> 187\u001b[0;31m         \u001b[0mcall\u001b[0m \u001b[0;34m=\u001b[0m \u001b[0;32mlambda\u001b[0m \u001b[0mf\u001b[0m\u001b[0;34m,\u001b[0m \u001b[0;34m*\u001b[0m\u001b[0ma\u001b[0m\u001b[0;34m,\u001b[0m \u001b[0;34m**\u001b[0m\u001b[0mk\u001b[0m\u001b[0;34m:\u001b[0m \u001b[0mf\u001b[0m\u001b[0;34m(\u001b[0m\u001b[0;34m*\u001b[0m\u001b[0ma\u001b[0m\u001b[0;34m,\u001b[0m \u001b[0;34m**\u001b[0m\u001b[0mk\u001b[0m\u001b[0;34m)\u001b[0m\u001b[0;34m\u001b[0m\u001b[0;34m\u001b[0m\u001b[0m\n\u001b[0m\u001b[1;32m    188\u001b[0m \u001b[0;34m\u001b[0m\u001b[0m\n\u001b[1;32m    189\u001b[0m         \u001b[0;32mif\u001b[0m \u001b[0mcallable\u001b[0m\u001b[0;34m(\u001b[0m\u001b[0marg\u001b[0m\u001b[0;34m)\u001b[0m\u001b[0;34m:\u001b[0m\u001b[0;34m\u001b[0m\u001b[0;34m\u001b[0m\u001b[0m\n",
      "\u001b[0;32m/opt/conda/lib/python3.7/site-packages/sparkmagic/livyclientlib/exceptions.py\u001b[0m in \u001b[0;36mwrapped\u001b[0;34m(self, *args, **kwargs)\u001b[0m\n\u001b[1;32m     94\u001b[0m     \u001b[0;32mdef\u001b[0m \u001b[0mwrapped\u001b[0m\u001b[0;34m(\u001b[0m\u001b[0mself\u001b[0m\u001b[0;34m,\u001b[0m \u001b[0;34m*\u001b[0m\u001b[0margs\u001b[0m\u001b[0;34m,\u001b[0m \u001b[0;34m**\u001b[0m\u001b[0mkwargs\u001b[0m\u001b[0;34m)\u001b[0m\u001b[0;34m:\u001b[0m\u001b[0;34m\u001b[0m\u001b[0;34m\u001b[0m\u001b[0m\n\u001b[1;32m     95\u001b[0m         \u001b[0;32mtry\u001b[0m\u001b[0;34m:\u001b[0m\u001b[0;34m\u001b[0m\u001b[0;34m\u001b[0m\u001b[0m\n\u001b[0;32m---> 96\u001b[0;31m             \u001b[0mout\u001b[0m \u001b[0;34m=\u001b[0m \u001b[0mf\u001b[0m\u001b[0;34m(\u001b[0m\u001b[0mself\u001b[0m\u001b[0;34m,\u001b[0m \u001b[0;34m*\u001b[0m\u001b[0margs\u001b[0m\u001b[0;34m,\u001b[0m \u001b[0;34m**\u001b[0m\u001b[0mkwargs\u001b[0m\u001b[0;34m)\u001b[0m\u001b[0;34m\u001b[0m\u001b[0;34m\u001b[0m\u001b[0m\n\u001b[0m\u001b[1;32m     97\u001b[0m         \u001b[0;32mexcept\u001b[0m \u001b[0mException\u001b[0m \u001b[0;32mas\u001b[0m \u001b[0me\u001b[0m\u001b[0;34m:\u001b[0m\u001b[0;34m\u001b[0m\u001b[0;34m\u001b[0m\u001b[0m\n\u001b[1;32m     98\u001b[0m             \u001b[0mself\u001b[0m\u001b[0;34m.\u001b[0m\u001b[0mlogger\u001b[0m\u001b[0;34m.\u001b[0m\u001b[0merror\u001b[0m\u001b[0;34m(\u001b[0m\u001b[0;34mu\"ENCOUNTERED AN INTERNAL ERROR: {}\\n\\tTraceback:\\n{}\"\u001b[0m\u001b[0;34m.\u001b[0m\u001b[0mformat\u001b[0m\u001b[0;34m(\u001b[0m\u001b[0me\u001b[0m\u001b[0;34m,\u001b[0m \u001b[0mtraceback\u001b[0m\u001b[0;34m.\u001b[0m\u001b[0mformat_exc\u001b[0m\u001b[0;34m(\u001b[0m\u001b[0;34m)\u001b[0m\u001b[0;34m)\u001b[0m\u001b[0;34m)\u001b[0m\u001b[0;34m\u001b[0m\u001b[0;34m\u001b[0m\u001b[0m\n",
      "\u001b[0;32m/opt/conda/lib/python3.7/site-packages/sparkmagic/livyclientlib/exceptions.py\u001b[0m in \u001b[0;36mwrapped\u001b[0;34m(self, *args, **kwargs)\u001b[0m\n\u001b[1;32m     70\u001b[0m     \u001b[0;32mdef\u001b[0m \u001b[0mwrapped\u001b[0m\u001b[0;34m(\u001b[0m\u001b[0mself\u001b[0m\u001b[0;34m,\u001b[0m \u001b[0;34m*\u001b[0m\u001b[0margs\u001b[0m\u001b[0;34m,\u001b[0m \u001b[0;34m**\u001b[0m\u001b[0mkwargs\u001b[0m\u001b[0;34m)\u001b[0m\u001b[0;34m:\u001b[0m\u001b[0;34m\u001b[0m\u001b[0;34m\u001b[0m\u001b[0m\n\u001b[1;32m     71\u001b[0m         \u001b[0;32mtry\u001b[0m\u001b[0;34m:\u001b[0m\u001b[0;34m\u001b[0m\u001b[0;34m\u001b[0m\u001b[0m\n\u001b[0;32m---> 72\u001b[0;31m             \u001b[0mout\u001b[0m \u001b[0;34m=\u001b[0m \u001b[0mf\u001b[0m\u001b[0;34m(\u001b[0m\u001b[0mself\u001b[0m\u001b[0;34m,\u001b[0m \u001b[0;34m*\u001b[0m\u001b[0margs\u001b[0m\u001b[0;34m,\u001b[0m \u001b[0;34m**\u001b[0m\u001b[0mkwargs\u001b[0m\u001b[0;34m)\u001b[0m\u001b[0;34m\u001b[0m\u001b[0;34m\u001b[0m\u001b[0m\n\u001b[0m\u001b[1;32m     73\u001b[0m         \u001b[0;32mexcept\u001b[0m \u001b[0mexceptions_to_handle\u001b[0m \u001b[0;32mas\u001b[0m \u001b[0merr\u001b[0m\u001b[0;34m:\u001b[0m\u001b[0;34m\u001b[0m\u001b[0;34m\u001b[0m\u001b[0m\n\u001b[1;32m     74\u001b[0m             \u001b[0;31m# Do not log! as some messages may contain private client information\u001b[0m\u001b[0;34m\u001b[0m\u001b[0;34m\u001b[0m\u001b[0;34m\u001b[0m\u001b[0m\n",
      "\u001b[0;32m/opt/conda/lib/python3.7/site-packages/sparkmagic/kernels/kernelmagics.py\u001b[0m in \u001b[0;36mspark\u001b[0;34m(self, line, cell, local_ns)\u001b[0m\n\u001b[1;32m    236\u001b[0m             \u001b[0mcoerce\u001b[0m \u001b[0;34m=\u001b[0m \u001b[0mget_coerce_value\u001b[0m\u001b[0;34m(\u001b[0m\u001b[0margs\u001b[0m\u001b[0;34m.\u001b[0m\u001b[0mcoerce\u001b[0m\u001b[0;34m)\u001b[0m\u001b[0;34m\u001b[0m\u001b[0;34m\u001b[0m\u001b[0m\n\u001b[1;32m    237\u001b[0m \u001b[0;34m\u001b[0m\u001b[0m\n\u001b[0;32m--> 238\u001b[0;31m             \u001b[0mself\u001b[0m\u001b[0;34m.\u001b[0m\u001b[0mexecute_spark\u001b[0m\u001b[0;34m(\u001b[0m\u001b[0mcell\u001b[0m\u001b[0;34m,\u001b[0m \u001b[0margs\u001b[0m\u001b[0;34m.\u001b[0m\u001b[0moutput\u001b[0m\u001b[0;34m,\u001b[0m \u001b[0margs\u001b[0m\u001b[0;34m.\u001b[0m\u001b[0msamplemethod\u001b[0m\u001b[0;34m,\u001b[0m \u001b[0margs\u001b[0m\u001b[0;34m.\u001b[0m\u001b[0mmaxrows\u001b[0m\u001b[0;34m,\u001b[0m \u001b[0margs\u001b[0m\u001b[0;34m.\u001b[0m\u001b[0msamplefraction\u001b[0m\u001b[0;34m,\u001b[0m \u001b[0;32mNone\u001b[0m\u001b[0;34m,\u001b[0m \u001b[0mcoerce\u001b[0m\u001b[0;34m)\u001b[0m\u001b[0;34m\u001b[0m\u001b[0;34m\u001b[0m\u001b[0m\n\u001b[0m\u001b[1;32m    239\u001b[0m         \u001b[0;32melse\u001b[0m\u001b[0;34m:\u001b[0m\u001b[0;34m\u001b[0m\u001b[0;34m\u001b[0m\u001b[0m\n\u001b[1;32m    240\u001b[0m             \u001b[0;32mreturn\u001b[0m\u001b[0;34m\u001b[0m\u001b[0;34m\u001b[0m\u001b[0m\n",
      "\u001b[0;32m/opt/conda/lib/python3.7/site-packages/sparkmagic/magics/sparkmagicsbase.py\u001b[0m in \u001b[0;36mexecute_spark\u001b[0;34m(self, cell, output_var, samplemethod, maxrows, samplefraction, session_name, coerce)\u001b[0m\n\u001b[1;32m     42\u001b[0m \u001b[0;34m\u001b[0m\u001b[0m\n\u001b[1;32m     43\u001b[0m     \u001b[0;32mdef\u001b[0m \u001b[0mexecute_spark\u001b[0m\u001b[0;34m(\u001b[0m\u001b[0mself\u001b[0m\u001b[0;34m,\u001b[0m \u001b[0mcell\u001b[0m\u001b[0;34m,\u001b[0m \u001b[0moutput_var\u001b[0m\u001b[0;34m,\u001b[0m \u001b[0msamplemethod\u001b[0m\u001b[0;34m,\u001b[0m \u001b[0mmaxrows\u001b[0m\u001b[0;34m,\u001b[0m \u001b[0msamplefraction\u001b[0m\u001b[0;34m,\u001b[0m \u001b[0msession_name\u001b[0m\u001b[0;34m,\u001b[0m \u001b[0mcoerce\u001b[0m\u001b[0;34m)\u001b[0m\u001b[0;34m:\u001b[0m\u001b[0;34m\u001b[0m\u001b[0;34m\u001b[0m\u001b[0m\n\u001b[0;32m---> 44\u001b[0;31m         \u001b[0;34m(\u001b[0m\u001b[0msuccess\u001b[0m\u001b[0;34m,\u001b[0m \u001b[0mout\u001b[0m\u001b[0;34m)\u001b[0m \u001b[0;34m=\u001b[0m \u001b[0mself\u001b[0m\u001b[0;34m.\u001b[0m\u001b[0mspark_controller\u001b[0m\u001b[0;34m.\u001b[0m\u001b[0mrun_command\u001b[0m\u001b[0;34m(\u001b[0m\u001b[0mCommand\u001b[0m\u001b[0;34m(\u001b[0m\u001b[0mcell\u001b[0m\u001b[0;34m)\u001b[0m\u001b[0;34m,\u001b[0m \u001b[0msession_name\u001b[0m\u001b[0;34m)\u001b[0m\u001b[0;34m\u001b[0m\u001b[0;34m\u001b[0m\u001b[0m\n\u001b[0m\u001b[1;32m     45\u001b[0m         \u001b[0;32mif\u001b[0m \u001b[0;32mnot\u001b[0m \u001b[0msuccess\u001b[0m\u001b[0;34m:\u001b[0m\u001b[0;34m\u001b[0m\u001b[0;34m\u001b[0m\u001b[0m\n\u001b[1;32m     46\u001b[0m             \u001b[0mself\u001b[0m\u001b[0;34m.\u001b[0m\u001b[0mipython_display\u001b[0m\u001b[0;34m.\u001b[0m\u001b[0msend_error\u001b[0m\u001b[0;34m(\u001b[0m\u001b[0mout\u001b[0m\u001b[0;34m)\u001b[0m\u001b[0;34m\u001b[0m\u001b[0;34m\u001b[0m\u001b[0m\n",
      "\u001b[0;32m/opt/conda/lib/python3.7/site-packages/sparkmagic/livyclientlib/sparkcontroller.py\u001b[0m in \u001b[0;36mrun_command\u001b[0;34m(self, command, client_name)\u001b[0m\n\u001b[1;32m     42\u001b[0m     \u001b[0;32mdef\u001b[0m \u001b[0mrun_command\u001b[0m\u001b[0;34m(\u001b[0m\u001b[0mself\u001b[0m\u001b[0;34m,\u001b[0m \u001b[0mcommand\u001b[0m\u001b[0;34m,\u001b[0m \u001b[0mclient_name\u001b[0m\u001b[0;34m=\u001b[0m\u001b[0;32mNone\u001b[0m\u001b[0;34m)\u001b[0m\u001b[0;34m:\u001b[0m\u001b[0;34m\u001b[0m\u001b[0;34m\u001b[0m\u001b[0m\n\u001b[1;32m     43\u001b[0m         \u001b[0msession_to_use\u001b[0m \u001b[0;34m=\u001b[0m \u001b[0mself\u001b[0m\u001b[0;34m.\u001b[0m\u001b[0mget_session_by_name_or_default\u001b[0m\u001b[0;34m(\u001b[0m\u001b[0mclient_name\u001b[0m\u001b[0;34m)\u001b[0m\u001b[0;34m\u001b[0m\u001b[0;34m\u001b[0m\u001b[0m\n\u001b[0;32m---> 44\u001b[0;31m         \u001b[0;32mreturn\u001b[0m \u001b[0mcommand\u001b[0m\u001b[0;34m.\u001b[0m\u001b[0mexecute\u001b[0m\u001b[0;34m(\u001b[0m\u001b[0msession_to_use\u001b[0m\u001b[0;34m)\u001b[0m\u001b[0;34m\u001b[0m\u001b[0;34m\u001b[0m\u001b[0m\n\u001b[0m\u001b[1;32m     45\u001b[0m \u001b[0;34m\u001b[0m\u001b[0m\n\u001b[1;32m     46\u001b[0m     \u001b[0;32mdef\u001b[0m \u001b[0mrun_sqlquery\u001b[0m\u001b[0;34m(\u001b[0m\u001b[0mself\u001b[0m\u001b[0;34m,\u001b[0m \u001b[0msqlquery\u001b[0m\u001b[0;34m,\u001b[0m \u001b[0mclient_name\u001b[0m\u001b[0;34m=\u001b[0m\u001b[0;32mNone\u001b[0m\u001b[0;34m)\u001b[0m\u001b[0;34m:\u001b[0m\u001b[0;34m\u001b[0m\u001b[0;34m\u001b[0m\u001b[0m\n",
      "\u001b[0;32m/opt/conda/lib/python3.7/site-packages/sparkmagic/livyclientlib/command.py\u001b[0m in \u001b[0;36mexecute\u001b[0;34m(self, session)\u001b[0m\n\u001b[1;32m     41\u001b[0m             \u001b[0mresponse\u001b[0m \u001b[0;34m=\u001b[0m \u001b[0msession\u001b[0m\u001b[0;34m.\u001b[0m\u001b[0mhttp_client\u001b[0m\u001b[0;34m.\u001b[0m\u001b[0mpost_statement\u001b[0m\u001b[0;34m(\u001b[0m\u001b[0msession\u001b[0m\u001b[0;34m.\u001b[0m\u001b[0mid\u001b[0m\u001b[0;34m,\u001b[0m \u001b[0mdata\u001b[0m\u001b[0;34m)\u001b[0m\u001b[0;34m\u001b[0m\u001b[0;34m\u001b[0m\u001b[0m\n\u001b[1;32m     42\u001b[0m             \u001b[0mstatement_id\u001b[0m \u001b[0;34m=\u001b[0m \u001b[0mresponse\u001b[0m\u001b[0;34m[\u001b[0m\u001b[0;34mu'id'\u001b[0m\u001b[0;34m]\u001b[0m\u001b[0;34m\u001b[0m\u001b[0;34m\u001b[0m\u001b[0m\n\u001b[0;32m---> 43\u001b[0;31m             \u001b[0moutput\u001b[0m \u001b[0;34m=\u001b[0m \u001b[0mself\u001b[0m\u001b[0;34m.\u001b[0m\u001b[0m_get_statement_output\u001b[0m\u001b[0;34m(\u001b[0m\u001b[0msession\u001b[0m\u001b[0;34m,\u001b[0m \u001b[0mstatement_id\u001b[0m\u001b[0;34m)\u001b[0m\u001b[0;34m\u001b[0m\u001b[0;34m\u001b[0m\u001b[0m\n\u001b[0m\u001b[1;32m     44\u001b[0m         \u001b[0;32mexcept\u001b[0m \u001b[0mException\u001b[0m \u001b[0;32mas\u001b[0m \u001b[0me\u001b[0m\u001b[0;34m:\u001b[0m\u001b[0;34m\u001b[0m\u001b[0;34m\u001b[0m\u001b[0m\n\u001b[1;32m     45\u001b[0m             self._spark_events.emit_statement_execution_end_event(session.guid, session.kind, session.id,\n",
      "\u001b[0;32m/opt/conda/lib/python3.7/site-packages/sparkmagic/livyclientlib/command.py\u001b[0m in \u001b[0;36m_get_statement_output\u001b[0;34m(self, session, statement_id)\u001b[0m\n\u001b[1;32m     74\u001b[0m             \u001b[0;32mif\u001b[0m \u001b[0mstatus\u001b[0m \u001b[0;32mnot\u001b[0m \u001b[0;32min\u001b[0m \u001b[0mFINAL_STATEMENT_STATUS\u001b[0m\u001b[0;34m:\u001b[0m\u001b[0;34m\u001b[0m\u001b[0;34m\u001b[0m\u001b[0m\n\u001b[1;32m     75\u001b[0m                 \u001b[0mprogress\u001b[0m\u001b[0;34m.\u001b[0m\u001b[0mvalue\u001b[0m \u001b[0;34m=\u001b[0m \u001b[0mstatement\u001b[0m\u001b[0;34m.\u001b[0m\u001b[0mget\u001b[0m\u001b[0;34m(\u001b[0m\u001b[0;34m'progress'\u001b[0m\u001b[0;34m,\u001b[0m \u001b[0;36m0.0\u001b[0m\u001b[0;34m)\u001b[0m\u001b[0;34m\u001b[0m\u001b[0;34m\u001b[0m\u001b[0m\n\u001b[0;32m---> 76\u001b[0;31m                 \u001b[0msession\u001b[0m\u001b[0;34m.\u001b[0m\u001b[0msleep\u001b[0m\u001b[0;34m(\u001b[0m\u001b[0mretries\u001b[0m\u001b[0;34m)\u001b[0m\u001b[0;34m\u001b[0m\u001b[0;34m\u001b[0m\u001b[0m\n\u001b[0m\u001b[1;32m     77\u001b[0m                 \u001b[0mretries\u001b[0m \u001b[0;34m+=\u001b[0m \u001b[0;36m1\u001b[0m\u001b[0;34m\u001b[0m\u001b[0;34m\u001b[0m\u001b[0m\n\u001b[1;32m     78\u001b[0m             \u001b[0;32melse\u001b[0m\u001b[0;34m:\u001b[0m\u001b[0;34m\u001b[0m\u001b[0;34m\u001b[0m\u001b[0m\n",
      "\u001b[0;32m/opt/conda/lib/python3.7/site-packages/sparkmagic/livyclientlib/livysession.py\u001b[0m in \u001b[0;36msleep\u001b[0;34m(self, retries)\u001b[0m\n\u001b[1;32m    280\u001b[0m \u001b[0;34m\u001b[0m\u001b[0m\n\u001b[1;32m    281\u001b[0m     \u001b[0;32mdef\u001b[0m \u001b[0msleep\u001b[0m\u001b[0;34m(\u001b[0m\u001b[0mself\u001b[0m\u001b[0;34m,\u001b[0m \u001b[0mretries\u001b[0m\u001b[0;34m)\u001b[0m\u001b[0;34m:\u001b[0m\u001b[0;34m\u001b[0m\u001b[0;34m\u001b[0m\u001b[0m\n\u001b[0;32m--> 282\u001b[0;31m         \u001b[0msleep\u001b[0m\u001b[0;34m(\u001b[0m\u001b[0mself\u001b[0m\u001b[0;34m.\u001b[0m\u001b[0m_policy\u001b[0m\u001b[0;34m.\u001b[0m\u001b[0mseconds_to_sleep\u001b[0m\u001b[0;34m(\u001b[0m\u001b[0mretries\u001b[0m\u001b[0;34m)\u001b[0m\u001b[0;34m)\u001b[0m\u001b[0;34m\u001b[0m\u001b[0;34m\u001b[0m\u001b[0m\n\u001b[0m\u001b[1;32m    283\u001b[0m \u001b[0;34m\u001b[0m\u001b[0m\n\u001b[1;32m    284\u001b[0m     \u001b[0;31m# This function will refresh the status and get the logs in a single call.\u001b[0m\u001b[0;34m\u001b[0m\u001b[0;34m\u001b[0m\u001b[0;34m\u001b[0m\u001b[0m\n",
      "\u001b[0;31mKeyboardInterrupt\u001b[0m: "
     ]
    }
   ],
   "source": [
    "t_channel_details=spark.sql(\"\"\"\n",
    "select \n",
    "  'insert' as kind,\n",
    "  '2019-12-30 23:59:59' as etldate,\n",
    "   0 as etlindex,\n",
    "  id,\n",
    "  channel_key,\n",
    "  af_channel,\n",
    "  media_source,\n",
    "  event_name,\n",
    "  body,\n",
    "  ip_address,\n",
    "  create_time,\n",
    "  fb_campaign_name,\n",
    "  campaign,\n",
    "  agency,\n",
    "  fb_campaign_id,\n",
    "  '2019' as year,\n",
    "  '12' as month,\n",
    "  '30' as day\n",
    "  from  `luzon_etl_s3`.`t_channel_details` \n",
    "  where id< 320479\n",
    "\"\"\")\n",
    "t_channel_details.write.mode(\"append\").partitionBy(\"year\",\"month\",\"day\").orc(\"s3://rupiahplus-data-warehouse/stream/luzon_etl/t_channel_details/\")"
   ]
  },
  {
   "cell_type": "code",
   "execution_count": 1,
   "metadata": {},
   "outputs": [
    {
     "data": {
      "application/vnd.jupyter.widget-view+json": {
       "model_id": "3ef8c74ee1d546249644b50f236b77a1",
       "version_major": 2,
       "version_minor": 0
      },
      "text/plain": [
       "VBox()"
      ]
     },
     "metadata": {},
     "output_type": "display_data"
    },
    {
     "name": "stdout",
     "output_type": "stream",
     "text": [
      "Starting Spark application\n"
     ]
    },
    {
     "data": {
      "text/html": [
       "<table>\n",
       "<tr><th>ID</th><th>YARN Application ID</th><th>Kind</th><th>State</th><th>Spark UI</th><th>Driver log</th><th>Current session?</th></tr><tr><td>6</td><td>application_1582161677001_0008</td><td>pyspark</td><td>idle</td><td></td><td></td><td>✔</td></tr></table>"
      ],
      "text/plain": [
       "<IPython.core.display.HTML object>"
      ]
     },
     "metadata": {},
     "output_type": "display_data"
    },
    {
     "data": {
      "application/vnd.jupyter.widget-view+json": {
       "model_id": "",
       "version_major": 2,
       "version_minor": 0
      },
      "text/plain": [
       "FloatProgress(value=0.0, bar_style='info', description='Progress:', layout=Layout(height='25px', width='50%'),…"
      ]
     },
     "metadata": {},
     "output_type": "display_data"
    },
    {
     "name": "stdout",
     "output_type": "stream",
     "text": [
      "SparkSession available as 'spark'.\n"
     ]
    },
    {
     "data": {
      "application/vnd.jupyter.widget-view+json": {
       "model_id": "",
       "version_major": 2,
       "version_minor": 0
      },
      "text/plain": [
       "FloatProgress(value=0.0, bar_style='info', description='Progress:', layout=Layout(height='25px', width='50%'),…"
      ]
     },
     "metadata": {},
     "output_type": "display_data"
    }
   ],
   "source": [
    "t_channel_details=spark.sql(\"\"\"\n",
    "select \n",
    "  'insert' as kind,\n",
    "   cast(create_time as string) as etldate,\n",
    "   0 as etlindex,\n",
    "  id,\n",
    "  channel_key,\n",
    "  af_channel,\n",
    "  media_source,\n",
    "  event_name,\n",
    "  body,\n",
    "  ip_address,\n",
    "  create_time,\n",
    "  fb_campaign_name,\n",
    "  campaign,\n",
    "  agency,\n",
    "  fb_campaign_id,\n",
    "  year(to_date(create_time)) as year,\n",
    "  if(length(MONTH(to_date(create_time)))=1,concat(\"0\",MONTH(to_date(create_time))),MONTH(to_date(create_time))) as month,\n",
    "  if(length(day(to_date(create_time)))=1,concat(\"0\",day(to_date(create_time))),day(to_date(create_time))) as day\n",
    "  from  `luzon_etl_s3`.`t_channel_details` \n",
    "  where id<320479 and id>320406\n",
    "\"\"\")\n",
    "t_channel_details.write.mode(\"append\").partitionBy(\"year\",\"month\",\"day\").orc(\"s3://rupiahplus-data-warehouse/stream/luzon_etl/t_channel_details/\")"
   ]
  },
  {
   "cell_type": "code",
   "execution_count": 5,
   "metadata": {},
   "outputs": [
    {
     "data": {
      "application/vnd.jupyter.widget-view+json": {
       "model_id": "f253d7cefb4d4ec49a7215b4b55d862d",
       "version_major": 2,
       "version_minor": 0
      },
      "text/plain": [
       "VBox()"
      ]
     },
     "metadata": {},
     "output_type": "display_data"
    },
    {
     "data": {
      "application/vnd.jupyter.widget-view+json": {
       "model_id": "",
       "version_major": 2,
       "version_minor": 0
      },
      "text/plain": [
       "FloatProgress(value=0.0, bar_style='info', description='Progress:', layout=Layout(height='25px', width='50%'),…"
      ]
     },
     "metadata": {},
     "output_type": "display_data"
    }
   ],
   "source": [
    "t_collection_audit=spark.sql(\"\"\"\n",
    "select \n",
    "  'insert' as kind,\n",
    "  '2019-12-30 23:59:59' as etldate,\n",
    "   0 as etlindex,\n",
    "  id,\n",
    "  admin_id,\n",
    "  collector_id,\n",
    "  access_mode,\n",
    "  topic,\n",
    "  subject,\n",
    "  loan_app_id,\n",
    "  group_name,\n",
    "  param,\n",
    "  comment,\n",
    "  create_time,\n",
    "  ip,\n",
    "  '2019' as year,\n",
    "  '12' as month,\n",
    "  '30' as day\n",
    "  from  `luzon_etl_s3`.`t_collection_audit` \n",
    "  where id< 532908\n",
    "\"\"\")\n",
    "t_collection_audit.write.mode(\"append\").partitionBy(\"year\",\"month\",\"day\").orc(\"s3://rupiahplus-data-warehouse/stream/luzon_etl/t_collection_audit/\")"
   ]
  },
  {
   "cell_type": "code",
   "execution_count": 7,
   "metadata": {},
   "outputs": [
    {
     "data": {
      "application/vnd.jupyter.widget-view+json": {
       "model_id": "344f283be6d54cd6981c67404bb8da67",
       "version_major": 2,
       "version_minor": 0
      },
      "text/plain": [
       "VBox()"
      ]
     },
     "metadata": {},
     "output_type": "display_data"
    },
    {
     "data": {
      "application/vnd.jupyter.widget-view+json": {
       "model_id": "",
       "version_major": 2,
       "version_minor": 0
      },
      "text/plain": [
       "FloatProgress(value=0.0, bar_style='info', description='Progress:', layout=Layout(height='25px', width='50%'),…"
      ]
     },
     "metadata": {},
     "output_type": "display_data"
    }
   ],
   "source": [
    "t_collection_audit=spark.sql(\"\"\"\n",
    "select \n",
    "  id,\n",
    "  admin_id,\n",
    "  collector_id,\n",
    "  access_mode,\n",
    "  topic,\n",
    "  subject,\n",
    "  loan_app_id,\n",
    "  group_name,\n",
    "  param,\n",
    "  comment,\n",
    "  create_time,\n",
    "  ip,\n",
    "  'insert' as kind,\n",
    "  't_collection_audit' as tablenm,\n",
    "  'public' as schema,\n",
    "  '\t2019-12-11 09:51:33.200' as etldate,\n",
    "  '2019' as year,\n",
    "  '12' as month,\n",
    "  '11' as day\n",
    "  from  `luzon_etl_s3`.`t_collection_audit` \n",
    "  where id  in (417324,417325,417326,417327,417328,417329,417330,417331,417332,417333)\n",
    "\"\"\")\n",
    "t_collection_audit.write.mode(\"append\").partitionBy(\"year\",\"month\",\"day\").orc(\"s3://rupiahplus-data-warehouse/stream/luzon_etl/t_collection_audit/\")"
   ]
  },
  {
   "cell_type": "code",
   "execution_count": 6,
   "metadata": {},
   "outputs": [
    {
     "data": {
      "application/vnd.jupyter.widget-view+json": {
       "model_id": "ab268bce3dde48dd955145aada3d620e",
       "version_major": 2,
       "version_minor": 0
      },
      "text/plain": [
       "VBox()"
      ]
     },
     "metadata": {},
     "output_type": "display_data"
    },
    {
     "data": {
      "application/vnd.jupyter.widget-view+json": {
       "model_id": "",
       "version_major": 2,
       "version_minor": 0
      },
      "text/plain": [
       "FloatProgress(value=0.0, bar_style='info', description='Progress:', layout=Layout(height='25px', width='50%'),…"
      ]
     },
     "metadata": {},
     "output_type": "display_data"
    }
   ],
   "source": [
    "t_collection_blacklist=spark.sql(\"\"\"\n",
    "select \n",
    "  'insert' as kind,\n",
    "  '2019-12-30 23:59:59' as etldate,\n",
    "   0 as etlindex,\n",
    "  id,\n",
    "  admin_id,\n",
    "  customer_id,\n",
    "  status,\n",
    "  create_time,\n",
    "  update_time,\n",
    "  comment,\n",
    "  '2019' as year,\n",
    "  '12' as month,\n",
    "  '30' as day\n",
    "  from  `luzon_etl_s3`.`t_collection_blacklist` \n",
    "\"\"\")\n",
    "t_collection_blacklist.write.mode(\"append\").partitionBy(\"year\",\"month\",\"day\").orc(\"s3://rupiahplus-data-warehouse/stream/luzon_etl/t_collection_blacklist/\")"
   ]
  },
  {
   "cell_type": "code",
   "execution_count": 7,
   "metadata": {},
   "outputs": [
    {
     "data": {
      "application/vnd.jupyter.widget-view+json": {
       "model_id": "85cf586b1cf94b7098b98efe18af20b5",
       "version_major": 2,
       "version_minor": 0
      },
      "text/plain": [
       "VBox()"
      ]
     },
     "metadata": {},
     "output_type": "display_data"
    },
    {
     "data": {
      "application/vnd.jupyter.widget-view+json": {
       "model_id": "",
       "version_major": 2,
       "version_minor": 0
      },
      "text/plain": [
       "FloatProgress(value=0.0, bar_style='info', description='Progress:', layout=Layout(height='25px', width='50%'),…"
      ]
     },
     "metadata": {},
     "output_type": "display_data"
    }
   ],
   "source": [
    "t_contact=spark.sql(\"\"\"\n",
    "select \n",
    "  'insert' as kind,\n",
    "  '2019-12-30 23:59:59' as etldate,\n",
    "   0 as etlindex,\n",
    "  id,\n",
    "  customer_id,\n",
    "  loan_app_id,\n",
    "  name,\n",
    "  mobile,\n",
    "  relation,\n",
    "  credential_no,\n",
    "  credential_type,\n",
    "  address,\n",
    "  company_name,\n",
    "  job_title,\n",
    "  create_time ,\n",
    "  update_time,\n",
    "  comment,\n",
    "  mobile_status,\n",
    "  '2019' as year,\n",
    "  '12' as month,\n",
    "  '30' as day\n",
    "  from  `luzon_etl_s3`.`t_contact`\n",
    "  where id<661443\n",
    "\"\"\")\n",
    "t_contact.write.mode(\"append\").partitionBy(\"year\",\"month\",\"day\").orc(\"s3://rupiahplus-data-warehouse/stream/luzon_etl/t_contact/\")"
   ]
  },
  {
   "cell_type": "code",
   "execution_count": 8,
   "metadata": {},
   "outputs": [
    {
     "data": {
      "application/vnd.jupyter.widget-view+json": {
       "model_id": "d0bf0b806e234c25849916fd1fd19e0d",
       "version_major": 2,
       "version_minor": 0
      },
      "text/plain": [
       "VBox()"
      ]
     },
     "metadata": {},
     "output_type": "display_data"
    },
    {
     "data": {
      "application/vnd.jupyter.widget-view+json": {
       "model_id": "",
       "version_major": 2,
       "version_minor": 0
      },
      "text/plain": [
       "FloatProgress(value=0.0, bar_style='info', description='Progress:', layout=Layout(height='25px', width='50%'),…"
      ]
     },
     "metadata": {},
     "output_type": "display_data"
    }
   ],
   "source": [
    "# t_contact 丢失的三条数据\n",
    "spark.catalog.refreshTable(\"`luzon_etl_s3`.`t_contact` \")\n",
    "t_contact=spark.sql(\"\"\"\n",
    "select \n",
    "  id,\n",
    "  customer_id,\n",
    "  loan_app_id,\n",
    "  name,\n",
    "  mobile,\n",
    "  relation,\n",
    "  credential_no,\n",
    "  credential_type,\n",
    "  address,\n",
    "  company_name,\n",
    "  job_title,\n",
    "  create_time ,\n",
    "  update_time,\n",
    "  comment,\n",
    "  mobile_status,\n",
    "  'insert' as kind,\n",
    "  't_admin_audit' as tablenm,\n",
    "  'public' as schema,\n",
    "  '\t2019-12-11 09:54:00.169' as etldate,\n",
    "  '2019' as year,\n",
    "  '12' as month,\n",
    "  '11' as day\n",
    "  from  `luzon_etl_s3`.`t_contact`\n",
    "  where id in (559094,559095,559096,559097,559098,559099)\n",
    "\"\"\")\n",
    "t_contact.write.mode(\"append\").partitionBy(\"year\",\"month\",\"day\").orc(\"s3://rupiahplus-data-warehouse/stream/luzon_etl/t_contact/\")"
   ]
  },
  {
   "cell_type": "code",
   "execution_count": 8,
   "metadata": {},
   "outputs": [
    {
     "data": {
      "application/vnd.jupyter.widget-view+json": {
       "model_id": "58d26b9f15c94b7da86ad6979abdcc7a",
       "version_major": 2,
       "version_minor": 0
      },
      "text/plain": [
       "VBox()"
      ]
     },
     "metadata": {},
     "output_type": "display_data"
    },
    {
     "data": {
      "application/vnd.jupyter.widget-view+json": {
       "model_id": "",
       "version_major": 2,
       "version_minor": 0
      },
      "text/plain": [
       "FloatProgress(value=0.0, bar_style='info', description='Progress:', layout=Layout(height='25px', width='50%'),…"
      ]
     },
     "metadata": {},
     "output_type": "display_data"
    }
   ],
   "source": [
    "t_customer=spark.sql(\"\"\"\n",
    "select \n",
    "  'insert' as kind,\n",
    "  '2019-12-30 23:59:59' as etldate,\n",
    "   0 as etlindex,\n",
    "  id,\n",
    "  uid,\n",
    "  mobile,\n",
    "  email,\n",
    "  password,\n",
    "  invite_code,\n",
    "  status,\n",
    "  status_expired_time,\n",
    "  last_login_time,\n",
    "  failed_login_count,\n",
    "  create_time,\n",
    "  update_time ,\n",
    "  channel_key,\n",
    "  imei,\n",
    "  rated_interest_rate,\n",
    "  inviter_id,\n",
    "  rank,\n",
    "  mobile_status,\n",
    "  pre_sale_status,\n",
    "  rated_interest_rate_14d,\n",
    "  '2019' as year,\n",
    "  '12' as month,\n",
    "  '30' as day\n",
    "  from  `luzon_etl_s3`.`t_customer`\n",
    "  where id <291113 \n",
    "\"\"\")\n",
    "t_customer.write.mode(\"append\").partitionBy(\"year\",\"month\",\"day\").orc(\"s3://rupiahplus-data-warehouse/stream/luzon_etl/t_customer/\")"
   ]
  },
  {
   "cell_type": "code",
   "execution_count": 22,
   "metadata": {},
   "outputs": [
    {
     "data": {
      "application/vnd.jupyter.widget-view+json": {
       "model_id": "6ef6b77e9d0e4927a34be046ee3f02ce",
       "version_major": 2,
       "version_minor": 0
      },
      "text/plain": [
       "VBox()"
      ]
     },
     "metadata": {},
     "output_type": "display_data"
    },
    {
     "data": {
      "application/vnd.jupyter.widget-view+json": {
       "model_id": "",
       "version_major": 2,
       "version_minor": 0
      },
      "text/plain": [
       "FloatProgress(value=0.0, bar_style='info', description='Progress:', layout=Layout(height='25px', width='50%'),…"
      ]
     },
     "metadata": {},
     "output_type": "display_data"
    }
   ],
   "source": [
    "t_employment=spark.sql(\"\"\"\n",
    "select \n",
    "  id,\n",
    "  customer_id,\n",
    "  loan_app_id,\n",
    "  company_name,\n",
    "  company_type,\n",
    "  company_phone,\n",
    "  company_size,\n",
    "  company_province,\n",
    "  company_city,\n",
    "  company_district,\n",
    "  company_area,\n",
    "  company_address ,\n",
    "  company_establish_time,\n",
    "  work_province,\n",
    "  work_city,\n",
    "  work_district,\n",
    "  work_area,\n",
    "  work_address,\n",
    "  profession,\n",
    "  title,\n",
    "  salary,\n",
    "  work_email,\n",
    "  work_start_from,\n",
    "  create_time,\n",
    "  update_time,\n",
    "  salary_day,\n",
    "  working_years,\n",
    "  'insert' as kind,\n",
    "  '2019-12-30 23:59:59' as etldate,\n",
    "  '2019' as year,\n",
    "  '12' as month,\n",
    "  '30' as day\n",
    "  from  `luzon_etl_s3`.`t_employment`\n",
    "  where id <262749 \n",
    "\"\"\")\n",
    "t_employment.write.mode(\"append\").partitionBy(\"year\",\"month\",\"day\").orc(\"s3://rupiahplus-data-warehouse/stream/luzon_etl/t_employment/\")"
   ]
  },
  {
   "cell_type": "code",
   "execution_count": 9,
   "metadata": {},
   "outputs": [
    {
     "data": {
      "application/vnd.jupyter.widget-view+json": {
       "model_id": "c6f0aa28cac945fa84e673846c206156",
       "version_major": 2,
       "version_minor": 0
      },
      "text/plain": [
       "VBox()"
      ]
     },
     "metadata": {},
     "output_type": "display_data"
    },
    {
     "data": {
      "application/vnd.jupyter.widget-view+json": {
       "model_id": "",
       "version_major": 2,
       "version_minor": 0
      },
      "text/plain": [
       "FloatProgress(value=0.0, bar_style='info', description='Progress:', layout=Layout(height='25px', width='50%'),…"
      ]
     },
     "metadata": {},
     "output_type": "display_data"
    }
   ],
   "source": [
    "t_employment=spark.sql(\"\"\"\n",
    "select \n",
    "  'insert' as kind,\n",
    "  '2019-12-30 23:59:59' as etldate,\n",
    "   0 as etlindex,\n",
    "  id,\n",
    "  customer_id,\n",
    "  loan_app_id,\n",
    "  company_name,\n",
    "  company_type,\n",
    "  company_phone,\n",
    "  company_size,\n",
    "  company_province,\n",
    "  company_city,\n",
    "  company_district,\n",
    "  company_area,\n",
    "  company_address ,\n",
    "  company_establish_time,\n",
    "  work_province,\n",
    "  work_city,\n",
    "  work_district,\n",
    "  work_area,\n",
    "  work_address,\n",
    "  profession,\n",
    "  title,\n",
    "  salary,\n",
    "  work_email,\n",
    "  work_start_from,\n",
    "  create_time,\n",
    "  update_time,\n",
    "  salary_day,\n",
    "  working_years,\n",
    "  '2019' as year,\n",
    "  '12' as month,\n",
    "  '30' as day\n",
    "  from  `luzon_etl_s3`.`t_employment`\n",
    "  where id <287129\n",
    "\"\"\")\n",
    "t_employment.write.mode(\"append\").partitionBy(\"year\",\"month\",\"day\").orc(\"s3://rupiahplus-data-warehouse/stream/luzon_etl/t_employment/\")"
   ]
  },
  {
   "cell_type": "code",
   "execution_count": 10,
   "metadata": {},
   "outputs": [
    {
     "data": {
      "application/vnd.jupyter.widget-view+json": {
       "model_id": "94d60344d065407795e4f82e44a841bb",
       "version_major": 2,
       "version_minor": 0
      },
      "text/plain": [
       "VBox()"
      ]
     },
     "metadata": {},
     "output_type": "display_data"
    },
    {
     "data": {
      "application/vnd.jupyter.widget-view+json": {
       "model_id": "",
       "version_major": 2,
       "version_minor": 0
      },
      "text/plain": [
       "FloatProgress(value=0.0, bar_style='info', description='Progress:', layout=Layout(height='25px', width='50%'),…"
      ]
     },
     "metadata": {},
     "output_type": "display_data"
    }
   ],
   "source": [
    "spark.catalog.refreshTable(\"`luzon_etl_s3`.`t_engine_rule_detail` \")\n",
    "t_engine_rule_detail=spark.sql(\"\"\"\n",
    "select \n",
    "  'insert' as kind,\n",
    "  '2019-12-30 23:59:59' as etldate,\n",
    "   0 as etlindex,\n",
    "   id,\n",
    "   loan_id,\n",
    "   auto_review_loan_id,\n",
    "   code,\n",
    "   value,\n",
    "   result,\n",
    "   rule_name,\n",
    "   description,\n",
    "  '2019' as year,\n",
    "  '12' as month,\n",
    "  '30' as day\n",
    "  from  `luzon_etl_s3`.`t_engine_rule_detail`\n",
    "  where id <645125 \n",
    "\"\"\")\n",
    "t_engine_rule_detail.write.mode(\"append\").partitionBy(\"year\",\"month\",\"day\").orc(\"s3://rupiahplus-data-warehouse/stream/luzon_etl/t_engine_rule_detail/\")"
   ]
  },
  {
   "cell_type": "code",
   "execution_count": 2,
   "metadata": {},
   "outputs": [
    {
     "data": {
      "application/vnd.jupyter.widget-view+json": {
       "model_id": "5136af1ea591436391644d4656a97ac4",
       "version_major": 2,
       "version_minor": 0
      },
      "text/plain": [
       "VBox()"
      ]
     },
     "metadata": {},
     "output_type": "display_data"
    },
    {
     "data": {
      "application/vnd.jupyter.widget-view+json": {
       "model_id": "",
       "version_major": 2,
       "version_minor": 0
      },
      "text/plain": [
       "FloatProgress(value=0.0, bar_style='info', description='Progress:', layout=Layout(height='25px', width='50%'),…"
      ]
     },
     "metadata": {},
     "output_type": "display_data"
    }
   ],
   "source": [
    "t_engine_rule_detail=spark.sql(\"\"\"\n",
    "select \n",
    "  id,\n",
    "   loan_id,\n",
    "   auto_review_loan_id,\n",
    "   code,\n",
    "   value,\n",
    "   result,\n",
    "   rule_name,\n",
    "   description,\n",
    "  'insert' as kind,\n",
    "  't_engine_rule_detail' as tablenm,\n",
    "  'public' as schema,\n",
    "  '2019-12-11 09:48:00.275' as etldate,\n",
    "  '2019' as year,\n",
    "  '12' as month,\n",
    "  '11' as day\n",
    "  from  `luzon_etl_s3`.`t_engine_rule_detail`\n",
    "  where id <166730 and  id> 166818\n",
    "\"\"\")\n",
    "t_engine_rule_detail.write.mode(\"append\").partitionBy(\"year\",\"month\",\"day\").orc(\"s3://rupiahplus-data-warehouse/stream/luzon_etl/t_engine_rule_detail/\")"
   ]
  },
  {
   "cell_type": "code",
   "execution_count": 11,
   "metadata": {},
   "outputs": [
    {
     "data": {
      "application/vnd.jupyter.widget-view+json": {
       "model_id": "9c36492709254acd8bd904ad2913c481",
       "version_major": 2,
       "version_minor": 0
      },
      "text/plain": [
       "VBox()"
      ]
     },
     "metadata": {},
     "output_type": "display_data"
    },
    {
     "data": {
      "application/vnd.jupyter.widget-view+json": {
       "model_id": "",
       "version_major": 2,
       "version_minor": 0
      },
      "text/plain": [
       "FloatProgress(value=0.0, bar_style='info', description='Progress:', layout=Layout(height='25px', width='50%'),…"
      ]
     },
     "metadata": {},
     "output_type": "display_data"
    }
   ],
   "source": [
    "t_loan_app=spark.sql(\"\"\"\n",
    "select \n",
    "  'insert' as kind,\n",
    "  '2019-12-30 23:59:59' as etldate,\n",
    "   0 as etlindex,\n",
    "  `id` , \n",
    "  `customer_id` , \n",
    "  `status` , \n",
    "  `sub_status` , \n",
    "  `full_name` , \n",
    "  `credential_no` , \n",
    "  `credential_type` , \n",
    "  `loan_type` , \n",
    "  `amount`, \n",
    "  `repayment_type` , \n",
    "  `service_fee` , \n",
    "  `pre_service_fee` , \n",
    "  `interest_rate`, \n",
    "  `period` , \n",
    "  `period_unit` , \n",
    "  `effective_time` , \n",
    "  `apply_for` , \n",
    "  `apply_channel` , \n",
    "  `apply_platform` , \n",
    "  `comment` , \n",
    "  `reviewer_id` , \n",
    "  `create_time` , \n",
    "  `update_time` , \n",
    "  `paid_off_mode` , \n",
    "  `parent_id` , \n",
    "  `apply_purpose` , \n",
    "  `imei` , \n",
    "  `ip` ,\n",
    "  skypay_channel,\n",
    "  android_id,\n",
    "  handling_fee,\n",
    "  main_loan_id,\n",
    "  '2019' as year,\n",
    "  '12' as month,\n",
    "  '30' as day\n",
    "  from  `luzon_etl_s3`.`t_loan_app`\n",
    "  where id <287135 \n",
    "\"\"\")\n",
    "t_loan_app.write.mode(\"append\").partitionBy(\"year\",\"month\",\"day\").orc(\"s3://rupiahplus-data-warehouse/stream/luzon_etl/t_loan_app/\")"
   ]
  },
  {
   "cell_type": "code",
   "execution_count": 2,
   "metadata": {},
   "outputs": [
    {
     "data": {
      "application/vnd.jupyter.widget-view+json": {
       "model_id": "662d07a034264cb7ad236e465b7c547d",
       "version_major": 2,
       "version_minor": 0
      },
      "text/plain": [
       "VBox()"
      ]
     },
     "metadata": {},
     "output_type": "display_data"
    },
    {
     "data": {
      "application/vnd.jupyter.widget-view+json": {
       "model_id": "",
       "version_major": 2,
       "version_minor": 0
      },
      "text/plain": [
       "FloatProgress(value=0.0, bar_style='info', description='Progress:', layout=Layout(height='25px', width='50%'),…"
      ]
     },
     "metadata": {},
     "output_type": "display_data"
    },
    {
     "name": "stdout",
     "output_type": "stream",
     "text": [
      "root\n",
      " |-- skypay_channel: string (nullable = true)"
     ]
    }
   ],
   "source": [
    "t_loan_app=spark.sql(\"\"\"\n",
    "select \n",
    " skypay_channel\n",
    "  from  `luzon_etl_s3`.`t_loan_app`\n",
    "  where id <252623 \n",
    "\"\"\").printSchema()\n",
    "# t_loan_app.write.mode(\"append\").partitionBy(\"year\",\"month\",\"day\").orc(\"s3://rupiahplus-data-warehouse/stream/luzon_etl/t_loan_app/\")"
   ]
  },
  {
   "cell_type": "code",
   "execution_count": 12,
   "metadata": {},
   "outputs": [
    {
     "data": {
      "application/vnd.jupyter.widget-view+json": {
       "model_id": "452371cef6a44e49b374112d64a048ad",
       "version_major": 2,
       "version_minor": 0
      },
      "text/plain": [
       "VBox()"
      ]
     },
     "metadata": {},
     "output_type": "display_data"
    },
    {
     "data": {
      "application/vnd.jupyter.widget-view+json": {
       "model_id": "",
       "version_major": 2,
       "version_minor": 0
      },
      "text/plain": [
       "FloatProgress(value=0.0, bar_style='info', description='Progress:', layout=Layout(height='25px', width='50%'),…"
      ]
     },
     "metadata": {},
     "output_type": "display_data"
    }
   ],
   "source": [
    "t_loan_app_review_summary=spark.sql(\"\"\"\n",
    "select \n",
    "  'insert' as kind,\n",
    "  '2019-12-30 23:59:59' as etldate,\n",
    "   0 as etlindex,\n",
    "   `id` , \n",
    "  `loan_app_id` , \n",
    "  `reviewing_loans_status` , \n",
    "  `repaying_loans_status` , \n",
    "  `rejected_loans_status` , \n",
    "  `in_blacklist_status` , \n",
    "  `info_completed_status` , \n",
    "  `occupation_in_blacklist` , \n",
    "  `first_review_admin_id` , \n",
    "  `second_review_admin_id` , \n",
    "  `final_review_admin_id` , \n",
    "  `create_time` , \n",
    "  `update_time` , \n",
    "  `close_reason` , \n",
    "  `reject_reason` , \n",
    "  `analytic_result` , \n",
    "  `profile` , \n",
    "  '2019' as year,\n",
    "  '12' as month,\n",
    "  '30' as day\n",
    "  from  `luzon_etl_s3`.`t_loan_app_review_summary`\n",
    "  where id <276010 \n",
    "\"\"\")\n",
    "t_loan_app_review_summary.write.mode(\"append\").partitionBy(\"year\",\"month\",\"day\").orc(\"s3://rupiahplus-data-warehouse/stream/luzon_etl/t_loan_app_review_summary/\")"
   ]
  },
  {
   "cell_type": "code",
   "execution_count": 13,
   "metadata": {},
   "outputs": [
    {
     "data": {
      "application/vnd.jupyter.widget-view+json": {
       "model_id": "ed1f47e4780f41d69cf9bab58ed2f5ce",
       "version_major": 2,
       "version_minor": 0
      },
      "text/plain": [
       "VBox()"
      ]
     },
     "metadata": {},
     "output_type": "display_data"
    },
    {
     "data": {
      "application/vnd.jupyter.widget-view+json": {
       "model_id": "",
       "version_major": 2,
       "version_minor": 0
      },
      "text/plain": [
       "FloatProgress(value=0.0, bar_style='info', description='Progress:', layout=Layout(height='25px', width='50%'),…"
      ]
     },
     "metadata": {},
     "output_type": "display_data"
    }
   ],
   "source": [
    "t_loan_app_status_log=spark.sql(\"\"\"\n",
    "select \n",
    "  'insert' as kind,\n",
    "  '2019-12-30 23:59:59' as etldate,\n",
    "   0 as etlindex,\n",
    "   `id` , \n",
    "  `loan_app_id` , \n",
    "  `operator_id` , \n",
    "  `old_status` , \n",
    "  `new_status` , \n",
    "  `create_time` , \n",
    "  '2019' as year,\n",
    "  '12' as month,\n",
    "  '30' as day\n",
    "  from  `luzon_etl_s3`.`t_loan_app_status_log`\n",
    "  where id <916705 \n",
    "\"\"\")\n",
    "t_loan_app_status_log.write.mode(\"append\").partitionBy(\"year\",\"month\",\"day\").orc(\"s3://rupiahplus-data-warehouse/stream/luzon_etl/t_loan_app_status_log/\")"
   ]
  },
  {
   "cell_type": "code",
   "execution_count": 10,
   "metadata": {},
   "outputs": [
    {
     "data": {
      "application/vnd.jupyter.widget-view+json": {
       "model_id": "31c511c1898d40f2b58bcdd9455ef297",
       "version_major": 2,
       "version_minor": 0
      },
      "text/plain": [
       "VBox()"
      ]
     },
     "metadata": {},
     "output_type": "display_data"
    },
    {
     "data": {
      "application/vnd.jupyter.widget-view+json": {
       "model_id": "",
       "version_major": 2,
       "version_minor": 0
      },
      "text/plain": [
       "FloatProgress(value=0.0, bar_style='info', description='Progress:', layout=Layout(height='25px', width='50%'),…"
      ]
     },
     "metadata": {},
     "output_type": "display_data"
    }
   ],
   "source": [
    "t_loan_app_status_log=spark.sql(\"\"\"\n",
    "select \n",
    "   `id` , \n",
    "  `loan_app_id` , \n",
    "  `operator_id` , \n",
    "  `old_status` , \n",
    "  `new_status` , \n",
    "  `create_time` , \n",
    "  'insert' as kind,\n",
    "  't_loan_app_status_log' as tablenm,\n",
    "  'public' as schema,\n",
    "  '\t2019-12-11 09:51:17.300' as etldate,\n",
    "  '2019' as year,\n",
    "  '12' as month,\n",
    "  '11' as day\n",
    "  from  `luzon_etl_s3`.`t_loan_app_status_log`\n",
    "  where id <771542 and id > 771506\n",
    "\"\"\")\n",
    "t_loan_app_status_log.write.mode(\"append\").partitionBy(\"year\",\"month\",\"day\").orc(\"s3://rupiahplus-data-warehouse/stream/luzon_etl/t_loan_app_status_log/\")"
   ]
  },
  {
   "cell_type": "code",
   "execution_count": 14,
   "metadata": {},
   "outputs": [
    {
     "data": {
      "application/vnd.jupyter.widget-view+json": {
       "model_id": "21631563337248b6a37efa33c153f624",
       "version_major": 2,
       "version_minor": 0
      },
      "text/plain": [
       "VBox()"
      ]
     },
     "metadata": {},
     "output_type": "display_data"
    },
    {
     "data": {
      "application/vnd.jupyter.widget-view+json": {
       "model_id": "",
       "version_major": 2,
       "version_minor": 0
      },
      "text/plain": [
       "FloatProgress(value=0.0, bar_style='info', description='Progress:', layout=Layout(height='25px', width='50%'),…"
      ]
     },
     "metadata": {},
     "output_type": "display_data"
    }
   ],
   "source": [
    "t_lpay=spark.sql(\"\"\"\n",
    "select \n",
    "  'insert' as kind,\n",
    "  '2019-12-30 23:59:59' as etldate,\n",
    "   0 as etlindex,\n",
    "   `id` , \n",
    "  `loan_app_id` , \n",
    "  `status` , \n",
    "  `current_period` , \n",
    "  `total_period` , \n",
    "  `principal_accr` , \n",
    "  principal_paid,\n",
    "  interest_accr,\n",
    "  interest_paid,\n",
    "  default_accr,\n",
    "  default_paid,\n",
    " service_fee_accr ,\n",
    "  service_fee_paid,\n",
    "  due_date,\n",
    "  last_punishment_time,\n",
    "  create_time,\n",
    "  update_time,\n",
    "  rollover_fee_accr,\n",
    "  rollover_fee_paid,\n",
    "  erase_amount,\n",
    "  '2019' as year,\n",
    "  '12' as month,\n",
    "  '30' as day\n",
    "  from  `luzon_etl_s3`.`t_lpay`\n",
    "  where id <133910 \n",
    "\"\"\")\n",
    "t_lpay.write.mode(\"append\").partitionBy(\"year\",\"month\",\"day\").orc(\"s3://rupiahplus-data-warehouse/stream/luzon_etl/t_lpay/\")"
   ]
  },
  {
   "cell_type": "code",
   "execution_count": 11,
   "metadata": {},
   "outputs": [
    {
     "data": {
      "application/vnd.jupyter.widget-view+json": {
       "model_id": "ca2e2872c0cf4da5b7e8b6614e66f59a",
       "version_major": 2,
       "version_minor": 0
      },
      "text/plain": [
       "VBox()"
      ]
     },
     "metadata": {},
     "output_type": "display_data"
    },
    {
     "data": {
      "application/vnd.jupyter.widget-view+json": {
       "model_id": "",
       "version_major": 2,
       "version_minor": 0
      },
      "text/plain": [
       "FloatProgress(value=0.0, bar_style='info', description='Progress:', layout=Layout(height='25px', width='50%'),…"
      ]
     },
     "metadata": {},
     "output_type": "display_data"
    }
   ],
   "source": [
    "t_lpay=spark.sql(\"\"\"\n",
    "select \n",
    "   `id` , \n",
    "  `loan_app_id` , \n",
    "  `status` , \n",
    "  `current_period` , \n",
    "  `total_period` , \n",
    "  `principal_accr` , \n",
    "  principal_paid,\n",
    "  interest_accr,\n",
    "  interest_paid,\n",
    "  default_accr,\n",
    "  default_paid,\n",
    " service_fee_accr ,\n",
    "  service_fee_paid,\n",
    "  due_date,\n",
    "  last_punishment_time,\n",
    "  create_time,\n",
    "  update_time,\n",
    "  rollover_fee_accr,\n",
    "  rollover_fee_paid,\n",
    "  erase_amount,\n",
    "  'insert' as kind,\n",
    "  't_lpay' as tablenm,\n",
    "  'public' as schema,\n",
    "  '\t2019-12-11 09:54:00.169' as etldate,\n",
    "  '2019' as year,\n",
    "  '12' as month,\n",
    "  '11' as day\n",
    "  from  `luzon_etl_s3`.`t_lpay`\n",
    "  where id  in (124351,124352,124353)\n",
    "\"\"\")\n",
    "t_lpay.write.mode(\"append\").partitionBy(\"year\",\"month\",\"day\").orc(\"s3://rupiahplus-data-warehouse/stream/luzon_etl/t_lpay/\")"
   ]
  },
  {
   "cell_type": "code",
   "execution_count": 15,
   "metadata": {},
   "outputs": [
    {
     "data": {
      "application/vnd.jupyter.widget-view+json": {
       "model_id": "041f7bb315dc456abc052fcb8f2b6dd2",
       "version_major": 2,
       "version_minor": 0
      },
      "text/plain": [
       "VBox()"
      ]
     },
     "metadata": {},
     "output_type": "display_data"
    },
    {
     "data": {
      "application/vnd.jupyter.widget-view+json": {
       "model_id": "",
       "version_major": 2,
       "version_minor": 0
      },
      "text/plain": [
       "FloatProgress(value=0.0, bar_style='info', description='Progress:', layout=Layout(height='25px', width='50%'),…"
      ]
     },
     "metadata": {},
     "output_type": "display_data"
    }
   ],
   "source": [
    "t_lpay_deposit=spark.sql(\"\"\"\n",
    "select \n",
    "  'insert' as kind,\n",
    "  '2019-12-30 23:59:59' as etldate,\n",
    "   0 as etlindex,\n",
    "   `id` , \n",
    "  `lpay_id` , \n",
    "  `customer_id` , \n",
    "  `status` , \n",
    "  `deposit_amount` , \n",
    "  `arrived_amount` , \n",
    "  cleared_amount,\n",
    "  deposit_channel,\n",
    "  out_deposit_no,\n",
    "  payment_code,\n",
    "  deposit_method,\n",
    "  reconcile_status ,\n",
    "  create_time,\n",
    "  update_time,\n",
    "  type,\n",
    "  subtype,\n",
    "  transaction_time,\n",
    "  collector_id, \n",
    "  '2019' as year,\n",
    "  '12' as month,\n",
    "  '30' as day\n",
    "  from  `luzon_etl_s3`.`t_lpay_deposit`\n",
    "  where id <124557 \n",
    "\"\"\")\n",
    "t_lpay_deposit.write.mode(\"append\").partitionBy(\"year\",\"month\",\"day\").orc(\"s3://rupiahplus-data-warehouse/stream/luzon_etl/t_lpay_deposit/\")"
   ]
  },
  {
   "cell_type": "code",
   "execution_count": 1,
   "metadata": {},
   "outputs": [
    {
     "data": {
      "application/vnd.jupyter.widget-view+json": {
       "model_id": "e436fc9a0197487ba63be4e497defa77",
       "version_major": 2,
       "version_minor": 0
      },
      "text/plain": [
       "VBox()"
      ]
     },
     "metadata": {},
     "output_type": "display_data"
    },
    {
     "name": "stdout",
     "output_type": "stream",
     "text": [
      "Starting Spark application\n"
     ]
    },
    {
     "data": {
      "text/html": [
       "<table>\n",
       "<tr><th>ID</th><th>YARN Application ID</th><th>Kind</th><th>State</th><th>Spark UI</th><th>Driver log</th><th>Current session?</th></tr><tr><td>1</td><td>application_1576723050808_0002</td><td>pyspark</td><td>idle</td><td></td><td></td><td>✔</td></tr></table>"
      ],
      "text/plain": [
       "<IPython.core.display.HTML object>"
      ]
     },
     "metadata": {},
     "output_type": "display_data"
    },
    {
     "data": {
      "application/vnd.jupyter.widget-view+json": {
       "model_id": "",
       "version_major": 2,
       "version_minor": 0
      },
      "text/plain": [
       "FloatProgress(value=0.0, bar_style='info', description='Progress:', layout=Layout(height='25px', width='50%'),…"
      ]
     },
     "metadata": {},
     "output_type": "display_data"
    },
    {
     "name": "stdout",
     "output_type": "stream",
     "text": [
      "SparkSession available as 'spark'.\n"
     ]
    },
    {
     "data": {
      "application/vnd.jupyter.widget-view+json": {
       "model_id": "",
       "version_major": 2,
       "version_minor": 0
      },
      "text/plain": [
       "FloatProgress(value=0.0, bar_style='info', description='Progress:', layout=Layout(height='25px', width='50%'),…"
      ]
     },
     "metadata": {},
     "output_type": "display_data"
    }
   ],
   "source": [
    "t_lpay_deposit=spark.sql(\"\"\"\n",
    "select \n",
    "   `id` , \n",
    "  `lpay_id` , \n",
    "  `customer_id` , \n",
    "  `status` , \n",
    "  `deposit_amount` , \n",
    "  `arrived_amount` , \n",
    "  cleared_amount,\n",
    "  deposit_channel,\n",
    "  out_deposit_no,\n",
    "  payment_code,\n",
    "  deposit_method,\n",
    "  reconcile_status ,\n",
    "  create_time,\n",
    "  update_time,\n",
    "  type,\n",
    "  subtype,\n",
    "  transaction_time,\n",
    "  collector_id, \n",
    "  'insert' as kind,\n",
    "  't_lpay_deposit' as tablenm,\n",
    "  'public' as schema,\n",
    "  '2019-12-30 09:54:00.169' as etldate,\n",
    "  '2019' as year,\n",
    "  '12' as month,\n",
    "  '30' as day\n",
    "  from  `luzon_etl_s3`.`t_lpay_deposit`\n",
    "  where id =116367\n",
    "\"\"\")\n",
    "t_lpay_deposit.write.mode(\"append\").partitionBy(\"year\",\"month\",\"day\").orc(\"s3://rupiahplus-data-warehouse/stream/luzon_etl/t_lpay_deposit/\")"
   ]
  },
  {
   "cell_type": "code",
   "execution_count": 16,
   "metadata": {},
   "outputs": [
    {
     "data": {
      "application/vnd.jupyter.widget-view+json": {
       "model_id": "7dc2378c2046450ab24db102aa2ed8d7",
       "version_major": 2,
       "version_minor": 0
      },
      "text/plain": [
       "VBox()"
      ]
     },
     "metadata": {},
     "output_type": "display_data"
    },
    {
     "data": {
      "application/vnd.jupyter.widget-view+json": {
       "model_id": "",
       "version_major": 2,
       "version_minor": 0
      },
      "text/plain": [
       "FloatProgress(value=0.0, bar_style='info', description='Progress:', layout=Layout(height='25px', width='50%'),…"
      ]
     },
     "metadata": {},
     "output_type": "display_data"
    }
   ],
   "source": [
    "t_message=spark.sql(\"\"\"\n",
    "select \n",
    "  'insert' as kind,\n",
    "  '2019-12-30 09:54:00.169' as etldate,\n",
    "   0 as etlindex,\n",
    "   `id` , \n",
    "  `customer_id` , \n",
    "  `loan_app_id` , \n",
    "  `trigger` , \n",
    "  `status` , \n",
    "  `sms_status` , \n",
    "  app_push_status,\n",
    "  app_inbox_status,\n",
    "  message_body,\n",
    "  create_time,\n",
    "  update_time,\n",
    " voice_status ,\n",
    "  '2019' as year,\n",
    "  '12' as month,\n",
    "  '30' as day\n",
    "  from  `luzon_etl_s3`.`t_message`\n",
    "  where id <1037194 \n",
    "\"\"\")\n",
    "t_message.write.mode(\"append\").partitionBy(\"year\",\"month\",\"day\").orc(\"s3://rupiahplus-data-warehouse/stream/luzon_etl/t_message/\")"
   ]
  },
  {
   "cell_type": "code",
   "execution_count": 1,
   "metadata": {},
   "outputs": [
    {
     "data": {
      "application/vnd.jupyter.widget-view+json": {
       "model_id": "22d0be956bf0414bbe43aa25bd44f46c",
       "version_major": 2,
       "version_minor": 0
      },
      "text/plain": [
       "VBox()"
      ]
     },
     "metadata": {},
     "output_type": "display_data"
    },
    {
     "name": "stdout",
     "output_type": "stream",
     "text": [
      "Starting Spark application\n"
     ]
    },
    {
     "data": {
      "text/html": [
       "<table>\n",
       "<tr><th>ID</th><th>YARN Application ID</th><th>Kind</th><th>State</th><th>Spark UI</th><th>Driver log</th><th>Current session?</th></tr><tr><td>4</td><td>application_1576116773731_0005</td><td>pyspark</td><td>idle</td><td></td><td></td><td>✔</td></tr></table>"
      ],
      "text/plain": [
       "<IPython.core.display.HTML object>"
      ]
     },
     "metadata": {},
     "output_type": "display_data"
    },
    {
     "data": {
      "application/vnd.jupyter.widget-view+json": {
       "model_id": "",
       "version_major": 2,
       "version_minor": 0
      },
      "text/plain": [
       "FloatProgress(value=0.0, bar_style='info', description='Progress:', layout=Layout(height='25px', width='50%'),…"
      ]
     },
     "metadata": {},
     "output_type": "display_data"
    },
    {
     "name": "stdout",
     "output_type": "stream",
     "text": [
      "SparkSession available as 'spark'.\n"
     ]
    },
    {
     "data": {
      "application/vnd.jupyter.widget-view+json": {
       "model_id": "",
       "version_major": 2,
       "version_minor": 0
      },
      "text/plain": [
       "FloatProgress(value=0.0, bar_style='info', description='Progress:', layout=Layout(height='25px', width='50%'),…"
      ]
     },
     "metadata": {},
     "output_type": "display_data"
    }
   ],
   "source": [
    "t_message=spark.sql(\"\"\"\n",
    "select \n",
    "   `id` , \n",
    "  `customer_id` , \n",
    "  `loan_app_id` , \n",
    "  `trigger` , \n",
    "  `status` , \n",
    "  `sms_status` , \n",
    "  app_push_status,\n",
    "  app_inbox_status,\n",
    "  message_body,\n",
    "  create_time,\n",
    "  update_time,\n",
    " voice_status ,\n",
    "  'insert' as kind,\n",
    "  't_message' as tablenm,\n",
    "  'public' as schema,\n",
    "  '2019-12-11 09:51:49.670' as etldate,\n",
    "  '2019' as year,\n",
    "  '12' as month,\n",
    "  '11' as day\n",
    "  from  `luzon_etl_s3`.`t_message`\n",
    "  where id > 897248  and id < 897269\n",
    "\"\"\")\n",
    "t_message.write.mode(\"append\").partitionBy(\"year\",\"month\",\"day\").orc(\"s3://rupiahplus-data-warehouse/stream/luzon_etl/t_message/\")"
   ]
  },
  {
   "cell_type": "code",
   "execution_count": 17,
   "metadata": {},
   "outputs": [
    {
     "data": {
      "application/vnd.jupyter.widget-view+json": {
       "model_id": "030701d8081d40128dceb5db82daa81e",
       "version_major": 2,
       "version_minor": 0
      },
      "text/plain": [
       "VBox()"
      ]
     },
     "metadata": {},
     "output_type": "display_data"
    },
    {
     "data": {
      "application/vnd.jupyter.widget-view+json": {
       "model_id": "",
       "version_major": 2,
       "version_minor": 0
      },
      "text/plain": [
       "FloatProgress(value=0.0, bar_style='info', description='Progress:', layout=Layout(height='25px', width='50%'),…"
      ]
     },
     "metadata": {},
     "output_type": "display_data"
    }
   ],
   "source": [
    "spark.catalog.refreshTable(\"`luzon_etl_s3`.`t_personal_info` \")\n",
    "t_personal_info=spark.sql(\"\"\"\n",
    "select  \n",
    "  'insert' as kind,\n",
    "  '2019-12-30 09:54:00.169' as etldate,\n",
    "   0 as etlindex,\n",
    "  id,\n",
    "  customer_id,\n",
    "  loan_app_id,\n",
    "  full_name,\n",
    "  gender,\n",
    "  credential_no,\n",
    "  credential_type,\n",
    "  province,\n",
    "  city,\n",
    "  district,\n",
    "  area,\n",
    "  address,\n",
    "  last_education,\n",
    "  marital_status,\n",
    "  children_number,\n",
    "  residence_duration,\n",
    "  family_name_in_law,\n",
    "  facebook_id,\n",
    "  car_number,\n",
    "  house_number,\n",
    "  ethnic,\n",
    "  religion,\n",
    "  nationality,\n",
    "  ktp_gender,\n",
    "  ktp_province,\n",
    "  ktp_city,\n",
    "  ktp_district,\n",
    "  ktp_date_of_birth,\n",
    "  ktp_analyze_status,\n",
    "  status,\n",
    "  create_time,\n",
    "  update_time,\n",
    "  email,\n",
    "  active_credential_id,\n",
    "  first_name,\n",
    "  middle_name,\n",
    "  birthday,\n",
    "  last_name,\n",
    "  other_mobile,\n",
    "  '2019' as year,\n",
    "  '12' as month,\n",
    "  '30' as day\n",
    "  from  `luzon_etl_s3`.`t_personal_info`\n",
    "  where id <287128 \n",
    "\"\"\")\n",
    "t_personal_info.write.mode(\"append\").partitionBy(\"year\",\"month\",\"day\").orc(\"s3://rupiahplus-data-warehouse/stream/luzon_etl/t_personal_info/\")"
   ]
  },
  {
   "cell_type": "code",
   "execution_count": 18,
   "metadata": {},
   "outputs": [
    {
     "data": {
      "application/vnd.jupyter.widget-view+json": {
       "model_id": "cca149224b5e464ab5190cef220971c4",
       "version_major": 2,
       "version_minor": 0
      },
      "text/plain": [
       "VBox()"
      ]
     },
     "metadata": {},
     "output_type": "display_data"
    },
    {
     "data": {
      "application/vnd.jupyter.widget-view+json": {
       "model_id": "",
       "version_major": 2,
       "version_minor": 0
      },
      "text/plain": [
       "FloatProgress(value=0.0, bar_style='info', description='Progress:', layout=Layout(height='25px', width='50%'),…"
      ]
     },
     "metadata": {},
     "output_type": "display_data"
    }
   ],
   "source": [
    "t_record_bankcard=spark.sql(\"\"\"\n",
    "select \n",
    " 'insert' as kind,\n",
    "  '2019-12-30 23:59:59' as etldate,\n",
    "   0 as etlindex,\n",
    "  *,\n",
    "  '2019' as year,\n",
    "  '12' as month,\n",
    "  '30' as day\n",
    "  from  `luzon_etl_s3`.`t_record_bankcard`\n",
    "  where id <151125 \n",
    "\"\"\")\n",
    "t_record_bankcard.write.mode(\"append\").partitionBy(\"year\",\"month\",\"day\").orc(\"s3://rupiahplus-data-warehouse/stream/luzon_etl/t_record_bankcard/\")"
   ]
  },
  {
   "cell_type": "code",
   "execution_count": 19,
   "metadata": {},
   "outputs": [
    {
     "data": {
      "application/vnd.jupyter.widget-view+json": {
       "model_id": "fc6a11d4c7494c88af9a957728d98165",
       "version_major": 2,
       "version_minor": 0
      },
      "text/plain": [
       "VBox()"
      ]
     },
     "metadata": {},
     "output_type": "display_data"
    },
    {
     "data": {
      "application/vnd.jupyter.widget-view+json": {
       "model_id": "",
       "version_major": 2,
       "version_minor": 0
      },
      "text/plain": [
       "FloatProgress(value=0.0, bar_style='info', description='Progress:', layout=Layout(height='25px', width='50%'),…"
      ]
     },
     "metadata": {},
     "output_type": "display_data"
    }
   ],
   "source": [
    "t_record_contact=spark.sql(\"\"\"\n",
    "select \n",
    "  'insert' as kind,\n",
    "  '2019-12-30 23:59:59' as etldate,\n",
    "   0 as etlindex,\n",
    "  *,\n",
    "  '2019' as year,\n",
    "  '12' as month,\n",
    "  '30' as day\n",
    "  from  `luzon_etl_s3`.`t_record_contact`\n",
    "  where id <532483 \n",
    "\"\"\")\n",
    "t_record_contact.write.mode(\"append\").partitionBy(\"year\",\"month\",\"day\").orc(\"s3://rupiahplus-data-warehouse/stream/luzon_etl/t_record_contact/\")"
   ]
  },
  {
   "cell_type": "code",
   "execution_count": 12,
   "metadata": {},
   "outputs": [
    {
     "data": {
      "application/vnd.jupyter.widget-view+json": {
       "model_id": "a427772fa99f4a3687ae3a4103e4a797",
       "version_major": 2,
       "version_minor": 0
      },
      "text/plain": [
       "VBox()"
      ]
     },
     "metadata": {},
     "output_type": "display_data"
    },
    {
     "data": {
      "application/vnd.jupyter.widget-view+json": {
       "model_id": "",
       "version_major": 2,
       "version_minor": 0
      },
      "text/plain": [
       "FloatProgress(value=0.0, bar_style='info', description='Progress:', layout=Layout(height='25px', width='50%'),…"
      ]
     },
     "metadata": {},
     "output_type": "display_data"
    }
   ],
   "source": [
    "t_record_contact=spark.sql(\"\"\"\n",
    "select \n",
    "  *,\n",
    "  'insert' as kind,\n",
    "  't_record_contact' as tablenm,\n",
    "  'public' as schema,\n",
    "  '2019-12-11 09:54:02.863' as etldate,\n",
    "  '2019' as year,\n",
    "  '12' as month,\n",
    "  '11' as day\n",
    "  from  `luzon_etl_s3`.`t_record_contact`\n",
    "  where id in (461410,461411,461412)\n",
    "\"\"\")\n",
    "t_record_contact.write.mode(\"append\").partitionBy(\"year\",\"month\",\"day\").orc(\"s3://rupiahplus-data-warehouse/stream/luzon_etl/t_record_contact/\")"
   ]
  },
  {
   "cell_type": "code",
   "execution_count": 20,
   "metadata": {},
   "outputs": [
    {
     "data": {
      "application/vnd.jupyter.widget-view+json": {
       "model_id": "80a7a16f690b49dc8072fae6d20c6066",
       "version_major": 2,
       "version_minor": 0
      },
      "text/plain": [
       "VBox()"
      ]
     },
     "metadata": {},
     "output_type": "display_data"
    },
    {
     "data": {
      "application/vnd.jupyter.widget-view+json": {
       "model_id": "",
       "version_major": 2,
       "version_minor": 0
      },
      "text/plain": [
       "FloatProgress(value=0.0, bar_style='info', description='Progress:', layout=Layout(height='25px', width='50%'),…"
      ]
     },
     "metadata": {},
     "output_type": "display_data"
    }
   ],
   "source": [
    "t_record_employment=spark.sql(\"\"\"\n",
    "select \n",
    "  'insert' as kind,\n",
    "  '2019-12-30 23:59:59' as etldate,\n",
    "   0 as etlindex,\n",
    "  *,\n",
    "  '2019' as year,\n",
    "  '12' as month,\n",
    "  '30' as day\n",
    "  from  `luzon_etl_s3`.`t_record_employment`\n",
    "  where id <249530 \n",
    "\"\"\")\n",
    "t_record_employment.write.mode(\"append\").partitionBy(\"year\",\"month\",\"day\").orc(\"s3://rupiahplus-data-warehouse/stream/luzon_etl/t_record_employment/\")"
   ]
  },
  {
   "cell_type": "code",
   "execution_count": 1,
   "metadata": {},
   "outputs": [
    {
     "data": {
      "application/vnd.jupyter.widget-view+json": {
       "model_id": "24be4288dfa94ee084b08f890b523031",
       "version_major": 2,
       "version_minor": 0
      },
      "text/plain": [
       "VBox()"
      ]
     },
     "metadata": {},
     "output_type": "display_data"
    },
    {
     "name": "stdout",
     "output_type": "stream",
     "text": [
      "Starting Spark application\n"
     ]
    },
    {
     "data": {
      "text/html": [
       "<table>\n",
       "<tr><th>ID</th><th>YARN Application ID</th><th>Kind</th><th>State</th><th>Spark UI</th><th>Driver log</th><th>Current session?</th></tr><tr><td>0</td><td>application_1576116773731_0001</td><td>pyspark</td><td>idle</td><td><a target=\"_blank\" href=\"http://ip-172-31-4-129.ap-southeast-1.compute.internal:20888/proxy/application_1576116773731_0001/\">Link</a></td><td><a target=\"_blank\" href=\"http://ip-172-31-6-62.ap-southeast-1.compute.internal:8042/node/containerlogs/container_1576116773731_0001_01_000001/livy\">Link</a></td><td>✔</td></tr></table>"
      ],
      "text/plain": [
       "<IPython.core.display.HTML object>"
      ]
     },
     "metadata": {},
     "output_type": "display_data"
    },
    {
     "data": {
      "application/vnd.jupyter.widget-view+json": {
       "model_id": "",
       "version_major": 2,
       "version_minor": 0
      },
      "text/plain": [
       "FloatProgress(value=0.0, bar_style='info', description='Progress:', layout=Layout(height='25px', width='50%'),…"
      ]
     },
     "metadata": {},
     "output_type": "display_data"
    },
    {
     "name": "stdout",
     "output_type": "stream",
     "text": [
      "SparkSession available as 'spark'.\n"
     ]
    },
    {
     "data": {
      "application/vnd.jupyter.widget-view+json": {
       "model_id": "",
       "version_major": 2,
       "version_minor": 0
      },
      "text/plain": [
       "FloatProgress(value=0.0, bar_style='info', description='Progress:', layout=Layout(height='25px', width='50%'),…"
      ]
     },
     "metadata": {},
     "output_type": "display_data"
    }
   ],
   "source": [
    "t_record_employment=spark.sql(\"\"\"\n",
    "select \n",
    "  *,\n",
    "  'insert' as kind,\n",
    "  't_record_employment' as tablenm,\n",
    "  'public' as schema,\n",
    "  '\t2019-12-11 09:53:19.116' as etldate,\n",
    "  '2019' as year,\n",
    "  '12' as month,\n",
    "  '11' as day\n",
    "  from  `luzon_etl_s3`.`t_record_employment`\n",
    "  where id  = 225450\n",
    "\"\"\")\n",
    "t_record_employment.write.mode(\"append\").partitionBy(\"year\",\"month\",\"day\").orc(\"s3://rupiahplus-data-warehouse/stream/luzon_etl/t_record_employment/\")"
   ]
  },
  {
   "cell_type": "code",
   "execution_count": 21,
   "metadata": {},
   "outputs": [
    {
     "data": {
      "application/vnd.jupyter.widget-view+json": {
       "model_id": "825408e3f3f447c0a81b4002d7898054",
       "version_major": 2,
       "version_minor": 0
      },
      "text/plain": [
       "VBox()"
      ]
     },
     "metadata": {},
     "output_type": "display_data"
    },
    {
     "data": {
      "application/vnd.jupyter.widget-view+json": {
       "model_id": "",
       "version_major": 2,
       "version_minor": 0
      },
      "text/plain": [
       "FloatProgress(value=0.0, bar_style='info', description='Progress:', layout=Layout(height='25px', width='50%'),…"
      ]
     },
     "metadata": {},
     "output_type": "display_data"
    }
   ],
   "source": [
    "t_record_file=spark.sql(\"\"\"\n",
    "select \n",
    "  'insert' as kind,\n",
    "  '2019-12-30 23:59:59' as etldate,\n",
    "   0 as etlindex,\n",
    "  *,\n",
    "  '2019' as year,\n",
    "  '12' as month,\n",
    "  '30' as day\n",
    "  from  `luzon_etl_s3`.`t_record_file`\n",
    "  where id <367048 \n",
    "\"\"\")\n",
    "t_record_file.write.mode(\"append\").partitionBy(\"year\",\"month\",\"day\").orc(\"s3://rupiahplus-data-warehouse/stream/luzon_etl/t_record_file/\")"
   ]
  },
  {
   "cell_type": "code",
   "execution_count": 22,
   "metadata": {},
   "outputs": [
    {
     "data": {
      "application/vnd.jupyter.widget-view+json": {
       "model_id": "8cd58d4f7a124808b28ce87bb74d1bca",
       "version_major": 2,
       "version_minor": 0
      },
      "text/plain": [
       "VBox()"
      ]
     },
     "metadata": {},
     "output_type": "display_data"
    },
    {
     "data": {
      "application/vnd.jupyter.widget-view+json": {
       "model_id": "",
       "version_major": 2,
       "version_minor": 0
      },
      "text/plain": [
       "FloatProgress(value=0.0, bar_style='info', description='Progress:', layout=Layout(height='25px', width='50%'),…"
      ]
     },
     "metadata": {},
     "output_type": "display_data"
    }
   ],
   "source": [
    "t_record_personal_info=spark.sql(\"\"\"\n",
    "select \n",
    "  'insert' as kind,\n",
    "  '2019-12-30 23:59:59' as etldate,\n",
    "   0 as etlindex,\n",
    "  *,\n",
    "  '2019' as year,\n",
    "  '12' as month,\n",
    "  '30' as day\n",
    "  from  `luzon_etl_s3`.`t_record_personal_info`\n",
    "  where id <261619 \n",
    "\"\"\")\n",
    "t_record_personal_info.write.mode(\"append\").partitionBy(\"year\",\"month\",\"day\").orc(\"s3://rupiahplus-data-warehouse/stream/luzon_etl/t_record_personal_info/\")"
   ]
  },
  {
   "cell_type": "code",
   "execution_count": 23,
   "metadata": {},
   "outputs": [
    {
     "data": {
      "application/vnd.jupyter.widget-view+json": {
       "model_id": "5e2eab64a3bb41c99db2374243242430",
       "version_major": 2,
       "version_minor": 0
      },
      "text/plain": [
       "VBox()"
      ]
     },
     "metadata": {},
     "output_type": "display_data"
    },
    {
     "data": {
      "application/vnd.jupyter.widget-view+json": {
       "model_id": "",
       "version_major": 2,
       "version_minor": 0
      },
      "text/plain": [
       "FloatProgress(value=0.0, bar_style='info', description='Progress:', layout=Layout(height='25px', width='50%'),…"
      ]
     },
     "metadata": {},
     "output_type": "display_data"
    }
   ],
   "source": [
    "t_review_step_execution=spark.sql(\"\"\"\n",
    "select \n",
    "  'insert' as kind,\n",
    "  '2019-12-30 23:59:59' as etldate,\n",
    "   0 as etlindex,\n",
    "  *,\n",
    "  '2019' as year,\n",
    "  '12' as month,\n",
    "  '30' as day\n",
    "  from  `luzon_etl_s3`.`t_review_step_execution`\n",
    "  where id <430122 \n",
    "\"\"\")\n",
    "t_review_step_execution.write.mode(\"append\").partitionBy(\"year\",\"month\",\"day\").orc(\"s3://rupiahplus-data-warehouse/stream/luzon_etl/t_review_step_execution/\")"
   ]
  },
  {
   "cell_type": "code",
   "execution_count": 4,
   "metadata": {},
   "outputs": [
    {
     "data": {
      "application/vnd.jupyter.widget-view+json": {
       "model_id": "dcf263d17cae4c22a0d9ffde8df7df9e",
       "version_major": 2,
       "version_minor": 0
      },
      "text/plain": [
       "VBox()"
      ]
     },
     "metadata": {},
     "output_type": "display_data"
    },
    {
     "data": {
      "application/vnd.jupyter.widget-view+json": {
       "model_id": "",
       "version_major": 2,
       "version_minor": 0
      },
      "text/plain": [
       "FloatProgress(value=0.0, bar_style='info', description='Progress:', layout=Layout(height='25px', width='50%'),…"
      ]
     },
     "metadata": {},
     "output_type": "display_data"
    }
   ],
   "source": [
    "t_review_step_execution=spark.sql(\"\"\"\n",
    "select \n",
    "  *,\n",
    "  'insert' as kind,\n",
    "  't_review_step_execution' as tablenm,\n",
    "  'public' as schema,\n",
    "  '2019-12-10 19:08:20.33' as etldate,\n",
    "  '2019' as year,\n",
    "  '12' as month,\n",
    "  '10' as day\n",
    "  from  `luzon_etl_s3`.`t_review_step_execution`\n",
    "  where id =381433\n",
    "\"\"\")\n",
    "t_review_step_execution.write.mode(\"append\").partitionBy(\"year\",\"month\",\"day\").orc(\"s3://rupiahplus-data-warehouse/stream/luzon_etl/t_review_step_execution/\")"
   ]
  },
  {
   "cell_type": "code",
   "execution_count": 24,
   "metadata": {},
   "outputs": [
    {
     "data": {
      "application/vnd.jupyter.widget-view+json": {
       "model_id": "e8fdcfe6973543eb8f06e3ccf270c6fa",
       "version_major": 2,
       "version_minor": 0
      },
      "text/plain": [
       "VBox()"
      ]
     },
     "metadata": {},
     "output_type": "display_data"
    },
    {
     "data": {
      "application/vnd.jupyter.widget-view+json": {
       "model_id": "",
       "version_major": 2,
       "version_minor": 0
      },
      "text/plain": [
       "FloatProgress(value=0.0, bar_style='info', description='Progress:', layout=Layout(height='25px', width='50%'),…"
      ]
     },
     "metadata": {},
     "output_type": "display_data"
    }
   ],
   "source": [
    "t_sms=spark.sql(\"\"\"\n",
    "select \n",
    "  'insert' as kind,\n",
    "  '2019-12-30 23:59:59' as etldate,\n",
    "   0 as etlindex,\n",
    "  *,\n",
    "  '2019' as year,\n",
    "  '12' as month,\n",
    "  '30' as day\n",
    "  from  `luzon_etl_s3`.`t_sms`\n",
    "  where id < 940164\n",
    "\"\"\")\n",
    "t_sms.write.mode(\"append\").partitionBy(\"year\",\"month\",\"day\").orc(\"s3://rupiahplus-data-warehouse/stream/luzon_etl/t_sms/\")"
   ]
  },
  {
   "cell_type": "code",
   "execution_count": 5,
   "metadata": {},
   "outputs": [
    {
     "data": {
      "application/vnd.jupyter.widget-view+json": {
       "model_id": "fb78b7ed80284bb08e60a320c1cdab29",
       "version_major": 2,
       "version_minor": 0
      },
      "text/plain": [
       "VBox()"
      ]
     },
     "metadata": {},
     "output_type": "display_data"
    },
    {
     "data": {
      "application/vnd.jupyter.widget-view+json": {
       "model_id": "",
       "version_major": 2,
       "version_minor": 0
      },
      "text/plain": [
       "FloatProgress(value=0.0, bar_style='info', description='Progress:', layout=Layout(height='25px', width='50%'),…"
      ]
     },
     "metadata": {},
     "output_type": "display_data"
    }
   ],
   "source": [
    "t_sms=spark.sql(\"\"\"\n",
    "select \n",
    "  *,\n",
    "  'insert' as kind,\n",
    "  't_sms' as tablenm,\n",
    "  'public' as schema,\n",
    "  '2019-12-11 09:51:49.655' as etldate,\n",
    "  '2019' as year,\n",
    "  '12' as month,\n",
    "  '11' as day\n",
    "  from  `luzon_etl_s3`.`t_sms`\n",
    "  where id <787408 and id > 787394\n",
    "\"\"\")\n",
    "t_sms.write.mode(\"append\").partitionBy(\"year\",\"month\",\"day\").orc(\"s3://rupiahplus-data-warehouse/stream/luzon_etl/t_sms/\")"
   ]
  },
  {
   "cell_type": "code",
   "execution_count": 25,
   "metadata": {},
   "outputs": [
    {
     "data": {
      "application/vnd.jupyter.widget-view+json": {
       "model_id": "3a2aa7a899174df386c37bdf0957166d",
       "version_major": 2,
       "version_minor": 0
      },
      "text/plain": [
       "VBox()"
      ]
     },
     "metadata": {},
     "output_type": "display_data"
    },
    {
     "data": {
      "application/vnd.jupyter.widget-view+json": {
       "model_id": "",
       "version_major": 2,
       "version_minor": 0
      },
      "text/plain": [
       "FloatProgress(value=0.0, bar_style='info', description='Progress:', layout=Layout(height='25px', width='50%'),…"
      ]
     },
     "metadata": {},
     "output_type": "display_data"
    }
   ],
   "source": [
    "t_virtual_account=spark.sql(\"\"\"\n",
    "select \n",
    "  'insert' as kind,\n",
    "  '2019-12-30 23:59:59' as etldate,\n",
    "   0 as etlindex,\n",
    "  *,\n",
    "  '2019' as year,\n",
    "  '12' as month,\n",
    "  '30' as day\n",
    "  from  `luzon_etl_s3`.`t_virtual_account`\n",
    "\"\"\")\n",
    "t_virtual_account.write.mode(\"append\").partitionBy(\"year\",\"month\",\"day\").orc(\"s3://rupiahplus-data-warehouse/stream/luzon_etl/t_virtual_account/\")"
   ]
  },
  {
   "cell_type": "code",
   "execution_count": 26,
   "metadata": {},
   "outputs": [
    {
     "data": {
      "application/vnd.jupyter.widget-view+json": {
       "model_id": "2401b36d43514deaad26fd11692ac42e",
       "version_major": 2,
       "version_minor": 0
      },
      "text/plain": [
       "VBox()"
      ]
     },
     "metadata": {},
     "output_type": "display_data"
    },
    {
     "data": {
      "application/vnd.jupyter.widget-view+json": {
       "model_id": "",
       "version_major": 2,
       "version_minor": 0
      },
      "text/plain": [
       "FloatProgress(value=0.0, bar_style='info', description='Progress:', layout=Layout(height='25px', width='50%'),…"
      ]
     },
     "metadata": {},
     "output_type": "display_data"
    }
   ],
   "source": [
    "t_review_blacklist=spark.sql(\"\"\"\n",
    "select \n",
    "  'insert' as kind,\n",
    "  '2019-12-30 23:59:59' as etldate,\n",
    "   0 as etlindex,\n",
    "  *,\n",
    "  '2019' as year,\n",
    "  '12' as month,\n",
    "  '30' as day\n",
    "  from  `luzon_etl_s3`.`t_review_blacklist`\n",
    "\"\"\")\n",
    "t_review_blacklist.write.mode(\"append\").partitionBy(\"year\",\"month\",\"day\").orc(\"s3://rupiahplus-data-warehouse/stream/luzon_etl/t_review_blacklist/\")"
   ]
  },
  {
   "cell_type": "code",
   "execution_count": 28,
   "metadata": {},
   "outputs": [
    {
     "data": {
      "application/vnd.jupyter.widget-view+json": {
       "model_id": "aae8c9085b4d413e97556003ac991c86",
       "version_major": 2,
       "version_minor": 0
      },
      "text/plain": [
       "VBox()"
      ]
     },
     "metadata": {},
     "output_type": "display_data"
    },
    {
     "data": {
      "application/vnd.jupyter.widget-view+json": {
       "model_id": "",
       "version_major": 2,
       "version_minor": 0
      },
      "text/plain": [
       "FloatProgress(value=0.0, bar_style='info', description='Progress:', layout=Layout(height='25px', width='50%'),…"
      ]
     },
     "metadata": {},
     "output_type": "display_data"
    }
   ],
   "source": [
    "t_loan_issue=spark.sql(\"\"\"\n",
    "select \n",
    "  'insert' as kind,\n",
    "  '2019-12-30 23:59:59' as etldate,\n",
    "   0 as etlindex,\n",
    "  *,\n",
    "  '2019' as year,\n",
    "  '12' as month,\n",
    "  '30' as day\n",
    "  from  `luzon_etl_s3`.`t_loan_issue`\n",
    "  where  id<130655\n",
    "\"\"\")\n",
    "t_loan_issue.write.mode(\"append\").partitionBy(\"year\",\"month\",\"day\").orc(\"s3://rupiahplus-data-warehouse/stream/luzon_etl/t_loan_issue/\")"
   ]
  },
  {
   "cell_type": "code",
   "execution_count": 6,
   "metadata": {},
   "outputs": [
    {
     "data": {
      "application/vnd.jupyter.widget-view+json": {
       "model_id": "fe0c6a7cd87549d3b804f12965bd236d",
       "version_major": 2,
       "version_minor": 0
      },
      "text/plain": [
       "VBox()"
      ]
     },
     "metadata": {},
     "output_type": "display_data"
    },
    {
     "data": {
      "application/vnd.jupyter.widget-view+json": {
       "model_id": "",
       "version_major": 2,
       "version_minor": 0
      },
      "text/plain": [
       "FloatProgress(value=0.0, bar_style='info', description='Progress:', layout=Layout(height='25px', width='50%'),…"
      ]
     },
     "metadata": {},
     "output_type": "display_data"
    },
    {
     "name": "stderr",
     "output_type": "stream",
     "text": [
      "'path s3://rupiahplus-data-warehouse/stream/luzon_etl/test already exists.;'\n",
      "Traceback (most recent call last):\n",
      "  File \"/usr/lib/spark/python/lib/pyspark.zip/pyspark/sql/readwriter.py\", line 959, in orc\n",
      "    self._jwrite.orc(path)\n",
      "  File \"/usr/lib/spark/python/lib/py4j-0.10.7-src.zip/py4j/java_gateway.py\", line 1257, in __call__\n",
      "    answer, self.gateway_client, self.target_id, self.name)\n",
      "  File \"/usr/lib/spark/python/lib/pyspark.zip/pyspark/sql/utils.py\", line 69, in deco\n",
      "    raise AnalysisException(s.split(': ', 1)[1], stackTrace)\n",
      "pyspark.sql.utils.AnalysisException: 'path s3://rupiahplus-data-warehouse/stream/luzon_etl/test already exists.;'\n",
      "\n"
     ]
    }
   ],
   "source": [
    "test=spark.sql(\"\"\"\n",
    "select \n",
    "1 as id,\n",
    "2 as count,\n",
    "  '2019' as year,\n",
    "  '12' as month,\n",
    "  '12' as day\n",
    "\"\"\")\n",
    "test.write.mode(\"error\").partitionBy(\"year\",\"month\",\"day\").orc(\"s3://rupiahplus-data-warehouse/stream/luzon_etl/test/\")"
   ]
  },
  {
   "cell_type": "code",
   "execution_count": 5,
   "metadata": {},
   "outputs": [
    {
     "data": {
      "application/vnd.jupyter.widget-view+json": {
       "model_id": "6559ea4bbbc94891aca8f2767825aa79",
       "version_major": 2,
       "version_minor": 0
      },
      "text/plain": [
       "VBox()"
      ]
     },
     "metadata": {},
     "output_type": "display_data"
    },
    {
     "data": {
      "application/vnd.jupyter.widget-view+json": {
       "model_id": "",
       "version_major": 2,
       "version_minor": 0
      },
      "text/plain": [
       "FloatProgress(value=0.0, bar_style='info', description='Progress:', layout=Layout(height='25px', width='50%'),…"
      ]
     },
     "metadata": {},
     "output_type": "display_data"
    }
   ],
   "source": [
    "t_loan_issue=spark.sql(\"\"\"\n",
    "select \n",
    "'insert' as kind,\n",
    "  '2019-12-30 23:59:59' as etldate,\n",
    "   0 as etlindex,\n",
    "  a.*,\n",
    "  '2019' as year,\n",
    "  '12' as month,\n",
    "  '30' as day\n",
    "from \n",
    "luzon_stream_etl_daily.t_loan_issue a \n",
    "left join \n",
    "  luzon_etl_s3.t_loan_issue  b \n",
    "  on a.id =b.id \n",
    "  where 1=1\n",
    "  and b.id is null\n",
    "  and cast(substr(a.create_time, 1, 19) AS timestamp) < cast('2020-02-19 00:00:00'  AS timestamp)\n",
    "  order by a.create_time desc\n",
    "\"\"\")\n",
    "\n",
    "#  and cast(substr(b.create_time, 1, 19) AS timestamp) >= cast('2020-02-05 00:00:00'  AS timestamp) \n",
    "#   and cast(substr(b.create_time, 1, 19) AS timestamp) < cast('2020-02-06 00:00:00'  AS timestamp)\n",
    "#  and a.create_time >= cast('2020-02-05 00:00:00'  AS timestamp) \n",
    "#   and a.create_time < cast('2020-02-06 00:00:00'  AS timestamp) \n",
    "t_loan_issue.write.mode(\"append\").partitionBy(\"year\",\"month\",\"day\").orc(\"s3://rupiahplus-data-warehouse/stream/luzon_etl/t_loan_issue/\")"
   ]
  },
  {
   "cell_type": "code",
   "execution_count": 4,
   "metadata": {},
   "outputs": [
    {
     "data": {
      "application/vnd.jupyter.widget-view+json": {
       "model_id": "86d119dedb9a4444bbe8a549e7cc96b9",
       "version_major": 2,
       "version_minor": 0
      },
      "text/plain": [
       "VBox()"
      ]
     },
     "metadata": {},
     "output_type": "display_data"
    },
    {
     "data": {
      "application/vnd.jupyter.widget-view+json": {
       "model_id": "",
       "version_major": 2,
       "version_minor": 0
      },
      "text/plain": [
       "FloatProgress(value=0.0, bar_style='info', description='Progress:', layout=Layout(height='25px', width='50%'),…"
      ]
     },
     "metadata": {},
     "output_type": "display_data"
    },
    {
     "name": "stdout",
     "output_type": "stream",
     "text": [
      "+--------------------+\n",
      "|                date|\n",
      "+--------------------+\n",
      "|17873-09-14 08:00...|\n",
      "+--------------------+"
     ]
    }
   ],
   "source": [
    "t_loan_issue=spark.sql(\"\"\"\n",
    "select \n",
    " cast(501872400000 as timestamp) as date\n",
    "\"\"\").show()\n"
   ]
  }
 ],
 "metadata": {
  "kernelspec": {
   "display_name": "PySpark",
   "language": "",
   "name": "pysparkkernel"
  },
  "language_info": {
   "codemirror_mode": {
    "name": "python",
    "version": 2
   },
   "mimetype": "text/x-python",
   "name": "pyspark",
   "pygments_lexer": "python2"
  }
 },
 "nbformat": 4,
 "nbformat_minor": 4
}
