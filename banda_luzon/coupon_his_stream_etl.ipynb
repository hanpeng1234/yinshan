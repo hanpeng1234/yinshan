{
 "cells": [
  {
   "cell_type": "code",
   "execution_count": 3,
   "metadata": {},
   "outputs": [
    {
     "data": {
      "application/vnd.jupyter.widget-view+json": {
       "model_id": "8ab326473a1f47e59059680e6b5fa1a6",
       "version_major": 2,
       "version_minor": 0
      },
      "text/plain": [
       "VBox()"
      ]
     },
     "metadata": {},
     "output_type": "display_data"
    },
    {
     "name": "stderr",
     "output_type": "stream",
     "text": [
      "Exception in thread cell_monitor-3:\n",
      "Traceback (most recent call last):\n",
      "  File \"/opt/conda/lib/python3.7/threading.py\", line 926, in _bootstrap_inner\n",
      "    self.run()\n",
      "  File \"/opt/conda/lib/python3.7/threading.py\", line 870, in run\n",
      "    self._target(*self._args, **self._kwargs)\n",
      "  File \"/opt/conda/lib/python3.7/site-packages/awseditorssparkmonitoringwidget-1.0-py3.7.egg/awseditorssparkmonitoringwidget/cellmonitor.py\", line 154, in cell_monitor\n",
      "    job_group_filtered_jobs = [job for job in jobs_data if job['jobGroup'] == str(statement_id)]\n",
      "  File \"/opt/conda/lib/python3.7/site-packages/awseditorssparkmonitoringwidget-1.0-py3.7.egg/awseditorssparkmonitoringwidget/cellmonitor.py\", line 154, in <listcomp>\n",
      "    job_group_filtered_jobs = [job for job in jobs_data if job['jobGroup'] == str(statement_id)]\n",
      "KeyError: 'jobGroup'\n",
      "\n"
     ]
    },
    {
     "data": {
      "application/vnd.jupyter.widget-view+json": {
       "model_id": "",
       "version_major": 2,
       "version_minor": 0
      },
      "text/plain": [
       "FloatProgress(value=0.0, bar_style='info', description='Progress:', layout=Layout(height='25px', width='50%'),…"
      ]
     },
     "metadata": {},
     "output_type": "display_data"
    },
    {
     "name": "stdout",
     "output_type": "stream",
     "text": [
      "aa\n",
      "aa\n",
      "aa"
     ]
    }
   ],
   "source": [
    "import sys\n",
    "from concurrent import futures\n",
    "import numpy as np\n",
    "from pyspark.sql import SparkSession\n",
    "from datetime import datetime,timedelta\n",
    "import pytz\n",
    "tablemap={\"coupon_emr_etl\":\"coupon\"} #,\n",
    "# 'insert' as kind,\n",
    "#     '2020-08-01 23:59:59' as etldate,\n",
    "#         0 as  etlindex,\n",
    "#      a.*,\n",
    "#     '2020' as year,\n",
    "#     '' as month,\n",
    "#      '01' as day\n",
    "first=\" select 'insert' as kind, '2021-01-01 23:59:59' as etldate,0 as  etlindex, \"\n",
    "end=\" , '2021' as year,   '01' as month,  '01' as day from  \"\n",
    "def getTableColum(tableNm,b):\n",
    "    colum=\"\"\n",
    "    for index in range(len(b)):\n",
    "        colum=colum+setDef(b[index][\"data_type\"],b[index][\"col_name\"],tableNm)+\", \"\n",
    "    return colum[0:len(colum)-2]\n",
    "def setDef(type,table_col,tableNm):\n",
    "    if(tableNm=='t_auto_review_loan' and type[:7] == 'boolean'):\n",
    "        return \"cast (\"+table_col+\" as string ) as \"+table_col\n",
    "    else:\n",
    "        return table_col\n",
    "def make_col_temptable(databaseName,row):\n",
    "    tableName=row[\"tableName\"]\n",
    "#     if tableName=='t_customer':\n",
    "    tablecolum=\"desc \" +databaseName+\".\"+tableName;\n",
    "    tableSchema= spark.sql(tablecolum).collect()\n",
    "    sql=first+ getTableColum(tableName,tableSchema)+end+databaseName+\".\"+tableName\n",
    "    path=\"s3://rupiahplus-data-warehouse/stream/\"+tablemap[databaseName]+\"_etl/\"+tableName+\"/\"\n",
    "    spark.sql(sql).write.mode(\"append\").partitionBy(\"year\",\"month\",\"day\").orc(path)\n",
    "if __name__ == \"builtins\":\n",
    "    spark = SparkSession\\\n",
    "        .builder\\\n",
    "        .appName(\"Python Demo\")\\\n",
    "        .config(\"hive.metastore.client.factory.class\", \"com.amazonaws.glue.catalog.metastore.AWSGlueDataCatalogHiveClientFactory\") \\\n",
    "        .enableHiveSupport()\\\n",
    "        .getOrCreate()\n",
    "#     spark.conf.set(\"spark.scheduler.mode\",\"FAIR\")\n",
    "    spark.conf.set(\"spark.sql.shuffle.partitions\",20)\n",
    "    for databaseName in tablemap:\n",
    "        databasesql=\"show tables in \"+databaseName\n",
    "        tables=spark.sql(databasesql)\n",
    "        tablelist=tables.collect();\n",
    "        executor=None\n",
    "        with futures.ThreadPoolExecutor(max_workers=10) as executor:\n",
    "            futures_result=futures.wait([executor.submit(make_col_temptable,databaseName, tableNm) for tableNm in tablelist])\n",
    "            for  future in futures_result[0]:\n",
    "                print(\"aa\")\n"
   ]
  },
  {
   "cell_type": "code",
   "execution_count": null,
   "metadata": {},
   "outputs": [],
   "source": [
    "t_coupon_change_log=spark.sql(\"\"\"\n",
    "    select\n",
    "      'insert' as kind,\n",
    "     '2020-03-04 23:59:59' as etldate,\n",
    "        0 as  etlindex,\n",
    "     *,\n",
    "    '2020' as year,\n",
    "    '03' as month,\n",
    "     '04' as day\n",
    "    from `coupon_emr_etl`.t_coupon_change_log\n",
    "    where  id< 595640\n",
    "\"\"\")\n",
    "t_coupon_change_log.write.mode(\"append\").partitionBy(\"year\",\"month\",\"day\").orc(\"s3://rupiahplus-data-warehouse/stream/coupon_etl/t_coupon_change_log/\")\n"
   ]
  },
  {
   "cell_type": "code",
   "execution_count": 1,
   "metadata": {},
   "outputs": [
    {
     "data": {
      "application/vnd.jupyter.widget-view+json": {
       "model_id": "f5556e06291a4e1c9acd0122f33aca52",
       "version_major": 2,
       "version_minor": 0
      },
      "text/plain": [
       "VBox()"
      ]
     },
     "metadata": {},
     "output_type": "display_data"
    },
    {
     "name": "stdout",
     "output_type": "stream",
     "text": [
      "Starting Spark application\n"
     ]
    },
    {
     "data": {
      "text/html": [
       "<table>\n",
       "<tr><th>ID</th><th>YARN Application ID</th><th>Kind</th><th>State</th><th>Spark UI</th><th>Driver log</th><th>Current session?</th></tr><tr><td>1</td><td>application_1596076399298_0002</td><td>pyspark</td><td>idle</td><td><a target=\"_blank\" href=\"http://ip-172-31-12-231.ap-southeast-1.compute.internal:20888/proxy/application_1596076399298_0002/\">Link</a></td><td><a target=\"_blank\" href=\"http://ip-172-31-6-88.ap-southeast-1.compute.internal:8042/node/containerlogs/container_1596076399298_0002_01_000001/livy\">Link</a></td><td>✔</td></tr></table>"
      ],
      "text/plain": [
       "<IPython.core.display.HTML object>"
      ]
     },
     "metadata": {},
     "output_type": "display_data"
    },
    {
     "data": {
      "application/vnd.jupyter.widget-view+json": {
       "model_id": "",
       "version_major": 2,
       "version_minor": 0
      },
      "text/plain": [
       "FloatProgress(value=0.0, bar_style='info', description='Progress:', layout=Layout(height='25px', width='50%'),…"
      ]
     },
     "metadata": {},
     "output_type": "display_data"
    },
    {
     "name": "stdout",
     "output_type": "stream",
     "text": [
      "SparkSession available as 'spark'.\n"
     ]
    },
    {
     "data": {
      "application/vnd.jupyter.widget-view+json": {
       "model_id": "",
       "version_major": 2,
       "version_minor": 0
      },
      "text/plain": [
       "FloatProgress(value=0.0, bar_style='info', description='Progress:', layout=Layout(height='25px', width='50%'),…"
      ]
     },
     "metadata": {},
     "output_type": "display_data"
    }
   ],
   "source": [
    "t_coupon_record=spark.sql(\"\"\"\n",
    "    select\n",
    "      'insert' as kind,\n",
    "     '2020-03-04 23:59:59' as etldate,\n",
    "        0 as  etlindex,\n",
    "     *,\n",
    "    '2020' as year,\n",
    "    '03' as month,\n",
    "     '04' as day\n",
    "    from `coupon_emr_etl`.t_coupon_record\n",
    "\n",
    "\"\"\")\n",
    "t_coupon_record.write.mode(\"append\").partitionBy(\"year\",\"month\",\"day\").orc(\"s3://rupiahplus-data-warehouse/stream/coupon_etl/t_coupon_record/\")\n",
    "#     where  id< 274996"
   ]
  },
  {
   "cell_type": "code",
   "execution_count": 4,
   "metadata": {},
   "outputs": [
    {
     "data": {
      "application/vnd.jupyter.widget-view+json": {
       "model_id": "92841397da2f48dba68f9768e33d3eca",
       "version_major": 2,
       "version_minor": 0
      },
      "text/plain": [
       "VBox()"
      ]
     },
     "metadata": {},
     "output_type": "display_data"
    },
    {
     "data": {
      "application/vnd.jupyter.widget-view+json": {
       "model_id": "",
       "version_major": 2,
       "version_minor": 0
      },
      "text/plain": [
       "FloatProgress(value=0.0, bar_style='info', description='Progress:', layout=Layout(height='25px', width='50%'),…"
      ]
     },
     "metadata": {},
     "output_type": "display_data"
    }
   ],
   "source": [
    "t_coupon_store=spark.sql(\"\"\"\n",
    "    select\n",
    "      'insert' as kind,\n",
    "     '2020-03-04 23:59:59' as etldate,\n",
    "        0 as  etlindex,\n",
    "     *,\n",
    "    '2020' as year,\n",
    "    '03' as month,\n",
    "     '04' as day\n",
    "    from `coupon_emr_etl`.t_coupon_store\n",
    "    where id < 274996 \n",
    "\"\"\")\n",
    "t_coupon_store.write.mode(\"append\").partitionBy(\"year\",\"month\",\"day\").orc(\"s3://rupiahplus-data-warehouse/stream/coupon_etl/t_coupon_store/\")\n",
    "# where  id< 233791"
   ]
  }
 ],
 "metadata": {
  "kernelspec": {
   "display_name": "PySpark",
   "language": "",
   "name": "pysparkkernel"
  },
  "language_info": {
   "codemirror_mode": {
    "name": "python",
    "version": 2
   },
   "mimetype": "text/x-python",
   "name": "pyspark",
   "pygments_lexer": "python2"
  }
 },
 "nbformat": 4,
 "nbformat_minor": 4
}
