{
 "cells": [
  {
   "cell_type": "markdown",
   "metadata": {},
   "source": [
    "arkham-------------etl\n",
    " \"t_black_mobile\":\"arkham_t_black_mobile\",\n",
    " \"t_card_info\":\"arkham_t_card_info\",\n",
    " \"t_credential\":\"arkham_t_credential\",\n",
    " \"t_credential_snapshot\":\"arkham_t_credential_snapshot\",\n",
    " \"t_emergency_contact\":\"arkham_t_emergency_contact\",\n",
    " \"t_emergency_contact_snapshot\":\"arkham_t_emergency_contact_snapshot\",\n",
    " \"t_experience\":\"arkham_t_experience\",\n",
    " \"t_experience_snapshot\":\"arkham_t_experience_snapshot\",\n",
    " \"t_file\":\"arkham_t_file\",\n",
    " \"t_file_snapshot\":\"arkham_t_file_snapshot\",\n",
    " \"t_login_log\":\"arkham_t_login_log\",\n",
    " \"t_order_flow\":\"arkham_t_order_flow\",\n",
    " \"t_order_info\":\"arkham_t_order_info\",\n",
    " \"t_question_result\":\"arkham_t_question_result\",\n",
    " \"t_region\":\"arkham_t_region\",\n",
    " \"t_risksqs_log\":\"arkham_t_risksqs_log\",\n",
    " \"t_user\":\"arkham_t_user\",\n",
    " \"t_user_profile\":\"arkham_t_user_profile\",\n",
    " \"t_user_profile_snapshot\":\"arkham_t_user_profile_snapshot\",\n",
    " \"t_user_snapshot\":\"arkham_t_user_snapshot\",\n",
    " \"t_yituface_verify\":\"arkham_t_yituface_verify\",\n",
    " \"t_marketing_channel_info\":\"t_marketing_channel_info\",\n",
    " \"t_marketing_ref_info\":\"t_marketing_ref_info\"\n"
   ]
  },
  {
   "cell_type": "code",
   "execution_count": 1,
   "metadata": {},
   "outputs": [
    {
     "data": {
      "application/vnd.jupyter.widget-view+json": {
       "model_id": "c3a58d1a67b642ecb7f9a003d23f30e3",
       "version_major": 2,
       "version_minor": 0
      },
      "text/plain": [
       "VBox()"
      ]
     },
     "metadata": {},
     "output_type": "display_data"
    },
    {
     "name": "stdout",
     "output_type": "stream",
     "text": [
      "Starting Spark application\n"
     ]
    },
    {
     "data": {
      "text/html": [
       "<table>\n",
       "<tr><th>ID</th><th>YARN Application ID</th><th>Kind</th><th>State</th><th>Spark UI</th><th>Driver log</th><th>Current session?</th></tr><tr><td>1</td><td>application_1623141101698_0002</td><td>pyspark</td><td>idle</td><td><a target=\"_blank\" href=\"http://ip-10-3-0-22.ap-southeast-1.compute.internal:20888/proxy/application_1623141101698_0002/\">Link</a></td><td><a target=\"_blank\" href=\"http://ip-10-3-0-117.ap-southeast-1.compute.internal:8042/node/containerlogs/container_1623141101698_0002_01_000001/livy\">Link</a></td><td>✔</td></tr></table>"
      ],
      "text/plain": [
       "<IPython.core.display.HTML object>"
      ]
     },
     "metadata": {},
     "output_type": "display_data"
    },
    {
     "data": {
      "application/vnd.jupyter.widget-view+json": {
       "model_id": "",
       "version_major": 2,
       "version_minor": 0
      },
      "text/plain": [
       "FloatProgress(value=0.0, bar_style='info', description='Progress:', layout=Layout(height='25px', width='50%'),…"
      ]
     },
     "metadata": {},
     "output_type": "display_data"
    },
    {
     "name": "stdout",
     "output_type": "stream",
     "text": [
      "SparkSession available as 'spark'.\n"
     ]
    },
    {
     "data": {
      "application/vnd.jupyter.widget-view+json": {
       "model_id": "",
       "version_major": 2,
       "version_minor": 0
      },
      "text/plain": [
       "FloatProgress(value=0.0, bar_style='info', description='Progress:', layout=Layout(height='25px', width='50%'),…"
      ]
     },
     "metadata": {},
     "output_type": "display_data"
    },
    {
     "name": "stdout",
     "output_type": "stream",
     "text": [
      "bigint\n",
      "string\n",
      "string\n",
      "string\n",
      "string\n",
      "string\n",
      "string\n",
      "timesta\n",
      "string\n",
      "decimal\n",
      "string\n",
      "string\n",
      "string\n",
      "string\n",
      "string\n",
      "string\n",
      "string\n",
      "string\n",
      "string\n",
      "string\n",
      "string\n",
      "string\n",
      "string\n",
      "string\n",
      "string\n",
      "timesta\n",
      "timesta\n",
      "timesta\n",
      " select 'insert' as kind, '2021-01-01 23:59:59' as etldate,0 as  etlindex, cast (id as string ) as id, user_id, platform_name, relation_id, business_id, channel_type, client_name, transaction_date, third_id, amount, from_bank, from_account_number, from_account_name, to_bank, to_account_number, to_account_name, direction, currency_unit, business_type, pay_type, status, message, remark1, remark2, groups, finish_time, create_time, update_time , '2021' as year,   '01' as month,  '01' as day from  protoss_emr_etl.t_pay_order\n",
      "None\n",
      "None\n",
      "None"
     ]
    }
   ],
   "source": [
    "import sys\n",
    "from concurrent import futures\n",
    "import numpy as np\n",
    "from pyspark.sql import SparkSession\n",
    "from datetime import datetime,timedelta\n",
    "import pytz\n",
    "tablemap={\"credinex_account_emr_etl\":\"credinex_account\"} #,\n",
    "first=\" select 'insert' as kind, '2021-01-01 23:59:59' as etldate,0 as  etlindex, \"\n",
    "end=\" , '2021' as year,   '01' as month,  '01' as day from  \"\n",
    "def getTableColum(tableNm,b):\n",
    "    colum=\"\"\n",
    "    for index in range(len(b)):\n",
    "        colum=colum+setDef(b[index][\"data_type\"],b[index][\"col_name\"],tableNm)+\", \"\n",
    "    return colum[0:len(colum)-2]\n",
    "def setDef(type,table_col,tableNm):\n",
    "    print(type[:7])\n",
    "    if tableNm=='t_pay_order' and table_col=='id':\n",
    "        return \"cast (\"+table_col+\" as string ) as \"+table_col\n",
    "    if type[:7] == 'boolean' :\n",
    "        return \"cast (\"+table_col+\" as string ) as \"+table_col\n",
    "    else:\n",
    "        return table_col\n",
    "def make_col_temptable(databaseName,row):\n",
    "    tableName=row[\"tableName\"]\n",
    "#     if  tableName=='t_pay_order':\n",
    "    tablecolum=\"desc \" +databaseName+\".\"+tableName;\n",
    "    tableSchema= spark.sql(tablecolum).collect()\n",
    "    sql=first+ getTableColum(tableName,tableSchema)+end+databaseName+\".\"+tableName\n",
    "    path=\"s3://rupiahplus-data-warehouse/stream/\"+tablemap[databaseName]+\"_etl/\"+tableName+\"/\"\n",
    "    print(sql)\n",
    "    spark.sql(sql).write.mode(\"append\").partitionBy(\"year\",\"month\",\"day\").orc(path)\n",
    "if __name__ == \"builtins\":\n",
    "    spark = SparkSession\\\n",
    "        .builder\\\n",
    "        .appName(\"Python Demo\")\\\n",
    "        .config(\"hive.metastore.client.factory.class\", \"com.amazonaws.glue.catalog.metastore.AWSGlueDataCatalogHiveClientFactory\") \\\n",
    "        .enableHiveSupport()\\\n",
    "        .getOrCreate()\n",
    "#     spark.conf.set(\"spark.scheduler.mode\",\"FAIR\")\n",
    "    spark.conf.set(\"spark.sql.shuffle.partitions\",20)\n",
    "    for databaseName in tablemap:\n",
    "        databasesql=\"show tables in \"+databaseName\n",
    "        tables=spark.sql(databasesql)\n",
    "        tablelist=tables.collect();\n",
    "        executor=None\n",
    "        with futures.ThreadPoolExecutor(max_workers=10) as executor:\n",
    "            futures_result=futures.wait([executor.submit(make_col_temptable,databaseName, tableNm) for tableNm in tablelist])\n",
    "            for  future in futures_result[0]:\n",
    "                print(future.result())\n"
   ]
  },
  {
   "cell_type": "code",
   "execution_count": 1,
   "metadata": {},
   "outputs": [
    {
     "data": {
      "application/vnd.jupyter.widget-view+json": {
       "model_id": "7e4be035c36f4959a2696e0b0f730bf0",
       "version_major": 2,
       "version_minor": 0
      },
      "text/plain": [
       "VBox()"
      ]
     },
     "metadata": {},
     "output_type": "display_data"
    },
    {
     "name": "stdout",
     "output_type": "stream",
     "text": [
      "Starting Spark application\n"
     ]
    },
    {
     "data": {
      "text/html": [
       "<table>\n",
       "<tr><th>ID</th><th>YARN Application ID</th><th>Kind</th><th>State</th><th>Spark UI</th><th>Driver log</th><th>Current session?</th></tr><tr><td>1</td><td>application_1606703533544_0002</td><td>pyspark</td><td>idle</td><td><a target=\"_blank\" href=\"http://ip-172-31-1-229.ap-southeast-1.compute.internal:20888/proxy/application_1606703533544_0002/\">Link</a></td><td><a target=\"_blank\" href=\"http://ip-172-31-4-17.ap-southeast-1.compute.internal:8042/node/containerlogs/container_1606703533544_0002_01_000001/livy\">Link</a></td><td>✔</td></tr></table>"
      ],
      "text/plain": [
       "<IPython.core.display.HTML object>"
      ]
     },
     "metadata": {},
     "output_type": "display_data"
    },
    {
     "data": {
      "application/vnd.jupyter.widget-view+json": {
       "model_id": "",
       "version_major": 2,
       "version_minor": 0
      },
      "text/plain": [
       "FloatProgress(value=0.0, bar_style='info', description='Progress:', layout=Layout(height='25px', width='50%'),…"
      ]
     },
     "metadata": {},
     "output_type": "display_data"
    },
    {
     "name": "stdout",
     "output_type": "stream",
     "text": [
      "SparkSession available as 'spark'.\n"
     ]
    },
    {
     "data": {
      "application/vnd.jupyter.widget-view+json": {
       "model_id": "",
       "version_major": 2,
       "version_minor": 0
      },
      "text/plain": [
       "FloatProgress(value=0.0, bar_style='info', description='Progress:', layout=Layout(height='25px', width='50%'),…"
      ]
     },
     "metadata": {},
     "output_type": "display_data"
    },
    {
     "name": "stdout",
     "output_type": "stream",
     "text": [
      "<function getsql at 0x7f30a9b276a8>"
     ]
    }
   ],
   "source": [
    "def getTableColum(b):\n",
    "    colum=\" \"\n",
    "    for index in range(len(b)):\n",
    "        colum=colum+setDef(b[index][\"data_type\"],b[index][\"col_name\"])+\", \"\n",
    "    return colum\n",
    "def setDef(type,table_col):\n",
    "    if(type[:7] == 'boolean'):\n",
    "        return \"cast(\"+table_col+\" as string) as \"+table_col\n",
    "    else:\n",
    "        return table_col\n",
    "def getsql(col1,col2,b):\n",
    "    return col1+getTableColum(b)+\" \"+col2\n",
    "spark.udf.register(\"getsql\",getsql)"
   ]
  },
  {
   "cell_type": "code",
   "execution_count": 2,
   "metadata": {},
   "outputs": [
    {
     "data": {
      "application/vnd.jupyter.widget-view+json": {
       "model_id": "9c118aa72d7042d293855c09e81f96cc",
       "version_major": 2,
       "version_minor": 0
      },
      "text/plain": [
       "VBox()"
      ]
     },
     "metadata": {},
     "output_type": "display_data"
    },
    {
     "data": {
      "application/vnd.jupyter.widget-view+json": {
       "model_id": "",
       "version_major": 2,
       "version_minor": 0
      },
      "text/plain": [
       "FloatProgress(value=0.0, bar_style='info', description='Progress:', layout=Layout(height='25px', width='50%'),…"
      ]
     },
     "metadata": {},
     "output_type": "display_data"
    }
   ],
   "source": [
    "select=\"select 'insert' as kind, '2020-08-01 23:59:59' as etldate, 0 as  etlindex,\"\n",
    "partitions=\"'2020' as year,  '08' as month, '01' as day\""
   ]
  },
  {
   "cell_type": "code",
   "execution_count": 4,
   "metadata": {},
   "outputs": [
    {
     "data": {
      "application/vnd.jupyter.widget-view+json": {
       "model_id": "b0a2d2cb85d748a39704fd11b4170d49",
       "version_major": 2,
       "version_minor": 0
      },
      "text/plain": [
       "VBox()"
      ]
     },
     "metadata": {},
     "output_type": "display_data"
    },
    {
     "data": {
      "application/vnd.jupyter.widget-view+json": {
       "model_id": "",
       "version_major": 2,
       "version_minor": 0
      },
      "text/plain": [
       "FloatProgress(value=0.0, bar_style='info', description='Progress:', layout=Layout(height='25px', width='50%'),…"
      ]
     },
     "metadata": {},
     "output_type": "display_data"
    },
    {
     "name": "stdout",
     "output_type": "stream",
     "text": [
      "select 'insert' as kind, '2020-07-01 23:59:59' as etldate, 0 as  etlindex, id, user_id, card_no, order_id, card_status, express_number, create_time, update_time, cast(is_validated as string) as is_validated, cast(is_deleted as string) as is_deleted,  '2020' as year,  '07' as month, '01' as day"
     ]
    }
   ],
   "source": [
    "tablecolum=\"desc `arkham_emr_etl`.t_card_info\"\n",
    "tableSchema= spark.sql(tablecolum).collect()\n",
    "sql=getsql(select,partitions,tableSchema)\n",
    "print(sql)"
   ]
  },
  {
   "cell_type": "code",
   "execution_count": 4,
   "metadata": {},
   "outputs": [
    {
     "data": {
      "application/vnd.jupyter.widget-view+json": {
       "model_id": "9e5f5ea087f54b13a7a4be66544a7f9b",
       "version_major": 2,
       "version_minor": 0
      },
      "text/plain": [
       "VBox()"
      ]
     },
     "metadata": {},
     "output_type": "display_data"
    },
    {
     "data": {
      "application/vnd.jupyter.widget-view+json": {
       "model_id": "",
       "version_major": 2,
       "version_minor": 0
      },
      "text/plain": [
       "FloatProgress(value=0.0, bar_style='info', description='Progress:', layout=Layout(height='25px', width='50%'),…"
      ]
     },
     "metadata": {},
     "output_type": "display_data"
    },
    {
     "name": "stderr",
     "output_type": "stream",
     "text": [
      "\"Table or view 't_black_mobile' not found in database 'arkham_emr_etl';\"\n",
      "Traceback (most recent call last):\n",
      "  File \"/usr/lib/spark/python/lib/pyspark.zip/pyspark/sql/session.py\", line 767, in sql\n",
      "    return DataFrame(self._jsparkSession.sql(sqlQuery), self._wrapped)\n",
      "  File \"/usr/lib/spark/python/lib/py4j-0.10.7-src.zip/py4j/java_gateway.py\", line 1257, in __call__\n",
      "    answer, self.gateway_client, self.target_id, self.name)\n",
      "  File \"/usr/lib/spark/python/lib/pyspark.zip/pyspark/sql/utils.py\", line 71, in deco\n",
      "    raise AnalysisException(s.split(': ', 1)[1], stackTrace)\n",
      "pyspark.sql.utils.AnalysisException: \"Table or view 't_black_mobile' not found in database 'arkham_emr_etl';\"\n",
      "\n"
     ]
    }
   ],
   "source": [
    "s3path=\"arkham_etl\"\n",
    "databaseNm=\" `arkham_emr_etl`\"\n",
    "tableNm=\"t_black_mobile\"\n",
    "tablecolum=\"desc\"+databaseNm+\".\"+tableNm\n",
    "tableSchema= spark.sql(tablecolum).collect()\n",
    "sql=getsql(select,partitions,tableSchema)+\" from\"+databaseNm+\".\"+tableNm\n",
    "# print(sql)\n",
    "df1=spark.sql(sql)\n",
    "path=\"s3://rupiahplus-data-warehouse/stream/\"+s3path+\"/\"+tableNm+\"/\"\n",
    "# print(path)\n",
    "df1.write.mode(\"append\").partitionBy(\"year\",\"month\",\"day\").orc(path)\n"
   ]
  },
  {
   "cell_type": "code",
   "execution_count": 4,
   "metadata": {},
   "outputs": [
    {
     "data": {
      "application/vnd.jupyter.widget-view+json": {
       "model_id": "bf09fa8ae248455a8eb3e57c22f3a817",
       "version_major": 2,
       "version_minor": 0
      },
      "text/plain": [
       "VBox()"
      ]
     },
     "metadata": {},
     "output_type": "display_data"
    },
    {
     "data": {
      "application/vnd.jupyter.widget-view+json": {
       "model_id": "",
       "version_major": 2,
       "version_minor": 0
      },
      "text/plain": [
       "FloatProgress(value=0.0, bar_style='info', description='Progress:', layout=Layout(height='25px', width='50%'),…"
      ]
     },
     "metadata": {},
     "output_type": "display_data"
    }
   ],
   "source": [
    "s3path=\"arkham_etl\"\n",
    "databaseNm=\" `arkham_emr_etl`\"\n",
    "tableNm=\"t_customer_tag_type\"\n",
    "tablecolum=\"desc\"+databaseNm+\".\"+tableNm\n",
    "tableSchema= spark.sql(tablecolum).collect()\n",
    "sql=getsql(select,partitions,tableSchema)+\" from\"+databaseNm+\".\"+tableNm\n",
    "# print(sql)\n",
    "df1=spark.sql(sql)\n",
    "path=\"s3://rupiahplus-data-warehouse/stream/\"+s3path+\"/\"+tableNm+\"/\"\n",
    "# print(path)\n",
    "df1.write.mode(\"append\").partitionBy(\"year\",\"month\",\"day\").orc(path)\n"
   ]
  },
  {
   "cell_type": "code",
   "execution_count": 3,
   "metadata": {},
   "outputs": [
    {
     "data": {
      "application/vnd.jupyter.widget-view+json": {
       "model_id": "fe1edd391d124ece9b5622b117969e6c",
       "version_major": 2,
       "version_minor": 0
      },
      "text/plain": [
       "VBox()"
      ]
     },
     "metadata": {},
     "output_type": "display_data"
    },
    {
     "data": {
      "application/vnd.jupyter.widget-view+json": {
       "model_id": "",
       "version_major": 2,
       "version_minor": 0
      },
      "text/plain": [
       "FloatProgress(value=0.0, bar_style='info', description='Progress:', layout=Layout(height='25px', width='50%'),…"
      ]
     },
     "metadata": {},
     "output_type": "display_data"
    }
   ],
   "source": [
    "s3path=\"arkham_etl\"\n",
    "databaseNm=\" `arkham_emr_etl`\"\n",
    "tableNm=\"t_card_info\"\n",
    "tablecolum=\"desc\"+databaseNm+\".\"+tableNm\n",
    "tableSchema= spark.sql(tablecolum).collect()\n",
    "sql=getsql(select,partitions,tableSchema)+\" from\"+databaseNm+\".\"+tableNm\n",
    "# sql+where\n",
    "# sql=sql+\"where id <10000\"\n",
    "df1=spark.sql(sql)\n",
    "path=\"s3://rupiahplus-data-warehouse/stream/\"+s3path+\"/\"+tableNm+\"/\"\n",
    "df1.write.mode(\"append\").partitionBy(\"year\",\"month\",\"day\").orc(path)\n",
    "\n",
    "\n"
   ]
  },
  {
   "cell_type": "code",
   "execution_count": null,
   "metadata": {},
   "outputs": [],
   "source": [
    "s3path=\"arkham_etl\"\n",
    "databaseNm=\" `arkham_emr_etl`\"\n",
    "tableNm=\"t_card_info\"\n",
    "tablecolum=\"desc\"+databaseNm+\".\"+tableNm\n",
    "tableSchema= spark.sql(tablecolum).collect()\n",
    "sql=getsql(select,partitions,tableSchema)+\" from\"+databaseNm+\".\"+tableNm\n",
    "# sql+where\n",
    "# sql=sql+\"where id <10000\"\n",
    "df1=spark.sql(sql)\n",
    "path=\"s3://rupiahplus-data-warehouse/stream/\"+s3path+\"/\"+tableNm+\"/\"\n",
    "df1.write.mode(\"append\").partitionBy(\"year\",\"month\",\"day\").orc(path)\n",
    "\n",
    "\n"
   ]
  },
  {
   "cell_type": "code",
   "execution_count": 6,
   "metadata": {},
   "outputs": [
    {
     "data": {
      "application/vnd.jupyter.widget-view+json": {
       "model_id": "0067d8a06d584014be7cf0163f45a803",
       "version_major": 2,
       "version_minor": 0
      },
      "text/plain": [
       "VBox()"
      ]
     },
     "metadata": {},
     "output_type": "display_data"
    },
    {
     "data": {
      "application/vnd.jupyter.widget-view+json": {
       "model_id": "",
       "version_major": 2,
       "version_minor": 0
      },
      "text/plain": [
       "FloatProgress(value=0.0, bar_style='info', description='Progress:', layout=Layout(height='25px', width='50%'),…"
      ]
     },
     "metadata": {},
     "output_type": "display_data"
    }
   ],
   "source": [
    "s3path=\"arkham_etl\"\n",
    "databaseNm=\" `arkham_emr_etl`\"\n",
    "tableNm=\"t_channel_detail\"\n",
    "tablecolum=\"desc\"+databaseNm+\".\"+tableNm\n",
    "tableSchema= spark.sql(tablecolum).collect()\n",
    "sql=getsql(select,partitions,tableSchema)+\" from\"+databaseNm+\".\"+tableNm\n",
    "# sql+where\n",
    "# sql=sql+\"where id <10000\"\n",
    "df1=spark.sql(sql)\n",
    "path=\"s3://rupiahplus-data-warehouse/stream/\"+s3path+\"/\"+tableNm+\"/\"\n",
    "df1.write.mode(\"append\").partitionBy(\"year\",\"month\",\"day\").orc(path)"
   ]
  },
  {
   "cell_type": "code",
   "execution_count": 7,
   "metadata": {},
   "outputs": [
    {
     "data": {
      "application/vnd.jupyter.widget-view+json": {
       "model_id": "dc382e7b33bb4119b070632e988e54af",
       "version_major": 2,
       "version_minor": 0
      },
      "text/plain": [
       "VBox()"
      ]
     },
     "metadata": {},
     "output_type": "display_data"
    },
    {
     "data": {
      "application/vnd.jupyter.widget-view+json": {
       "model_id": "",
       "version_major": 2,
       "version_minor": 0
      },
      "text/plain": [
       "FloatProgress(value=0.0, bar_style='info', description='Progress:', layout=Layout(height='25px', width='50%'),…"
      ]
     },
     "metadata": {},
     "output_type": "display_data"
    },
    {
     "name": "stderr",
     "output_type": "stream",
     "text": [
      "\"Table or view 't_credential_snapshot' not found in database 'arkham_emr_etl';\"\n",
      "Traceback (most recent call last):\n",
      "  File \"/usr/lib/spark/python/lib/pyspark.zip/pyspark/sql/session.py\", line 767, in sql\n",
      "    return DataFrame(self._jsparkSession.sql(sqlQuery), self._wrapped)\n",
      "  File \"/usr/lib/spark/python/lib/py4j-0.10.7-src.zip/py4j/java_gateway.py\", line 1257, in __call__\n",
      "    answer, self.gateway_client, self.target_id, self.name)\n",
      "  File \"/usr/lib/spark/python/lib/pyspark.zip/pyspark/sql/utils.py\", line 71, in deco\n",
      "    raise AnalysisException(s.split(': ', 1)[1], stackTrace)\n",
      "pyspark.sql.utils.AnalysisException: \"Table or view 't_credential_snapshot' not found in database 'arkham_emr_etl';\"\n",
      "\n"
     ]
    }
   ],
   "source": [
    "s3path=\"arkham_etl\"\n",
    "databaseNm=\" `arkham_emr_etl`\"\n",
    "tableNm=\"t_credential_snapshot\"\n",
    "tablecolum=\"desc\"+databaseNm+\".\"+tableNm\n",
    "tableSchema= spark.sql(tablecolum).collect()\n",
    "sql=getsql(select,partitions,tableSchema)+\" from\"+databaseNm+\".\"+tableNm\n",
    "# sql+where\n",
    "# sql=sql+\"where id <10000\"\n",
    "df1=spark.sql(sql)\n",
    "path=\"s3://rupiahplus-data-warehouse/stream/\"+s3path+\"/\"+tableNm+\"/\"\n",
    "df1.write.mode(\"append\").partitionBy(\"year\",\"month\",\"day\").orc(path)\n"
   ]
  },
  {
   "cell_type": "code",
   "execution_count": 6,
   "metadata": {},
   "outputs": [
    {
     "data": {
      "application/vnd.jupyter.widget-view+json": {
       "model_id": "07e0aa952fe543cda9471a47d2af0b85",
       "version_major": 2,
       "version_minor": 0
      },
      "text/plain": [
       "VBox()"
      ]
     },
     "metadata": {},
     "output_type": "display_data"
    },
    {
     "data": {
      "application/vnd.jupyter.widget-view+json": {
       "model_id": "",
       "version_major": 2,
       "version_minor": 0
      },
      "text/plain": [
       "FloatProgress(value=0.0, bar_style='info', description='Progress:', layout=Layout(height='25px', width='50%'),…"
      ]
     },
     "metadata": {},
     "output_type": "display_data"
    }
   ],
   "source": [
    "s3path=\"arkham_etl\"\n",
    "databaseNm=\" `arkham_emr_etl`\"\n",
    "tableNm=\"t_emergency_contact\"\n",
    "tablecolum=\"desc\"+databaseNm+\".\"+tableNm\n",
    "tableSchema= spark.sql(tablecolum).collect()\n",
    "sql=getsql(select,partitions,tableSchema)+\" from\"+databaseNm+\".\"+tableNm\n",
    "# sql+where\n",
    "# sql=sql+\"where id <10000\"\n",
    "df1=spark.sql(sql)\n",
    "path=\"s3://rupiahplus-data-warehouse/stream/\"+s3path+\"/\"+tableNm+\"/\"\n",
    "df1.write.mode(\"append\").partitionBy(\"year\",\"month\",\"day\").orc(path)\n",
    "\n",
    "\n",
    "\n"
   ]
  },
  {
   "cell_type": "code",
   "execution_count": 8,
   "metadata": {},
   "outputs": [
    {
     "data": {
      "application/vnd.jupyter.widget-view+json": {
       "model_id": "c32e7e6ecfa649f5b9e43124696f9fc1",
       "version_major": 2,
       "version_minor": 0
      },
      "text/plain": [
       "VBox()"
      ]
     },
     "metadata": {},
     "output_type": "display_data"
    },
    {
     "data": {
      "application/vnd.jupyter.widget-view+json": {
       "model_id": "",
       "version_major": 2,
       "version_minor": 0
      },
      "text/plain": [
       "FloatProgress(value=0.0, bar_style='info', description='Progress:', layout=Layout(height='25px', width='50%'),…"
      ]
     },
     "metadata": {},
     "output_type": "display_data"
    }
   ],
   "source": [
    "s3path=\"arkham_etl\"\n",
    "databaseNm=\" `arkham_emr_etl`\"\n",
    "tableNm=\"t_emergency_contact_snapshot\"\n",
    "tablecolum=\"desc\"+databaseNm+\".\"+tableNm\n",
    "tableSchema= spark.sql(tablecolum).collect()\n",
    "sql=getsql(select,partitions,tableSchema)+\" from\"+databaseNm+\".\"+tableNm\n",
    "# sql+where\n",
    "sql=sql+\"  where id <17137\"\n",
    "df1=spark.sql(sql)\n",
    "path=\"s3://rupiahplus-data-warehouse/stream/\"+s3path+\"/\"+tableNm+\"/\"\n",
    "df1.write.mode(\"append\").partitionBy(\"year\",\"month\",\"day\").orc(path)\n",
    "\n",
    "\n",
    "\n",
    "\n",
    "\n",
    "# t_emergency_contact_snapshot=spark.sql(\"\"\"\n",
    "#     select\n",
    "#       'insert' as kind,\n",
    "#      '2020-07-01 23:59:59' as etldate,\n",
    "#         0 as  etlindex,\n",
    "#      *,\n",
    "#     '2020' as year,\n",
    "#     '07' as month,\n",
    "#      '01' as day\n",
    "#     from `arkham_emr_etl`.t_emergency_contact_snapshot\n",
    "#     where  id <10037\n",
    "# \"\"\")\n",
    "# t_emergency_contact_snapshot.write.mode(\"append\").partitionBy(\"year\",\"month\",\"day\").orc(\"s3://rupiahplus-data-warehouse/stream/arkham_etl/t_emergency_contact_snapshot/\")\n"
   ]
  },
  {
   "cell_type": "code",
   "execution_count": 9,
   "metadata": {},
   "outputs": [
    {
     "data": {
      "application/vnd.jupyter.widget-view+json": {
       "model_id": "cb7b23d696884aca83343f6a4e4e52e2",
       "version_major": 2,
       "version_minor": 0
      },
      "text/plain": [
       "VBox()"
      ]
     },
     "metadata": {},
     "output_type": "display_data"
    },
    {
     "data": {
      "application/vnd.jupyter.widget-view+json": {
       "model_id": "",
       "version_major": 2,
       "version_minor": 0
      },
      "text/plain": [
       "FloatProgress(value=0.0, bar_style='info', description='Progress:', layout=Layout(height='25px', width='50%'),…"
      ]
     },
     "metadata": {},
     "output_type": "display_data"
    }
   ],
   "source": [
    "s3path=\"arkham_etl\"\n",
    "databaseNm=\" `arkham_emr_etl`\"\n",
    "tableNm=\"t_experience\"\n",
    "tablecolum=\"desc\"+databaseNm+\".\"+tableNm\n",
    "tableSchema= spark.sql(tablecolum).collect()\n",
    "sql=getsql(select,partitions,tableSchema)+\" from\"+databaseNm+\".\"+tableNm\n",
    "# sql+where\n",
    "# sql=sql+\"where id <10000\"\n",
    "df1=spark.sql(sql)\n",
    "path=\"s3://rupiahplus-data-warehouse/stream/\"+s3path+\"/\"+tableNm+\"/\"\n",
    "df1.write.mode(\"append\").partitionBy(\"year\",\"month\",\"day\").orc(path)\n",
    "\n",
    "\n",
    "\n",
    "# t_experience=spark.sql(\"\"\"\n",
    "#     select\n",
    "#       'insert' as kind,\n",
    "#      '2020-07-01 23:59:59' as etldate,\n",
    "#         0 as  etlindex,\n",
    "#      *,\n",
    "#     '2020' as year,\n",
    "#     '07' as month,\n",
    "#      '01' as day\n",
    "#     from `arkham_emr_etl`.t_experience\n",
    "#     where  id <10013\n",
    "# \"\"\")\n",
    "# t_experience.write.mode(\"append\").partitionBy(\"year\",\"month\",\"day\").orc(\"s3://rupiahplus-data-warehouse/stream/arkham_etl/t_experience/\")\n"
   ]
  },
  {
   "cell_type": "code",
   "execution_count": 10,
   "metadata": {},
   "outputs": [
    {
     "data": {
      "application/vnd.jupyter.widget-view+json": {
       "model_id": "2cce201a129545049712e72bc8f330e3",
       "version_major": 2,
       "version_minor": 0
      },
      "text/plain": [
       "VBox()"
      ]
     },
     "metadata": {},
     "output_type": "display_data"
    },
    {
     "data": {
      "application/vnd.jupyter.widget-view+json": {
       "model_id": "",
       "version_major": 2,
       "version_minor": 0
      },
      "text/plain": [
       "FloatProgress(value=0.0, bar_style='info', description='Progress:', layout=Layout(height='25px', width='50%'),…"
      ]
     },
     "metadata": {},
     "output_type": "display_data"
    }
   ],
   "source": [
    "s3path=\"arkham_etl\"\n",
    "databaseNm=\" `arkham_emr_etl`\"\n",
    "tableNm=\"t_experience_snapshot\"\n",
    "tablecolum=\"desc\"+databaseNm+\".\"+tableNm\n",
    "tableSchema= spark.sql(tablecolum).collect()\n",
    "sql=getsql(select,partitions,tableSchema)+\" from\"+databaseNm+\".\"+tableNm\n",
    "# sql+where\n",
    "sql=sql+\"  where id <12379\"\n",
    "df1=spark.sql(sql)\n",
    "path=\"s3://rupiahplus-data-warehouse/stream/\"+s3path+\"/\"+tableNm+\"/\"\n",
    "df1.write.mode(\"append\").partitionBy(\"year\",\"month\",\"day\").orc(path)\n",
    "\n",
    "\n",
    "# t_experience_snapshot=spark.sql(\"\"\"\n",
    "#     select\n",
    "#       'insert' as kind,\n",
    "#      '2020-07-01 23:59:59' as etldate,\n",
    "#         0 as  etlindex,\n",
    "#      *,\n",
    "#     '2020' as year,\n",
    "#     '07' as month,\n",
    "#      '01' as day\n",
    "#     from `arkham_emr_etl`.t_experience_snapshot\n",
    "#     where  id <10013\n",
    "# \"\"\")\n",
    "# t_experience_snapshot.write.mode(\"append\").partitionBy(\"year\",\"month\",\"day\").orc(\"s3://rupiahplus-data-warehouse/stream/arkham_etl/t_experience_snapshot/\")\n"
   ]
  },
  {
   "cell_type": "code",
   "execution_count": 11,
   "metadata": {},
   "outputs": [
    {
     "data": {
      "application/vnd.jupyter.widget-view+json": {
       "model_id": "7d4b4d69134849719eb135c636aaecb9",
       "version_major": 2,
       "version_minor": 0
      },
      "text/plain": [
       "VBox()"
      ]
     },
     "metadata": {},
     "output_type": "display_data"
    },
    {
     "data": {
      "application/vnd.jupyter.widget-view+json": {
       "model_id": "",
       "version_major": 2,
       "version_minor": 0
      },
      "text/plain": [
       "FloatProgress(value=0.0, bar_style='info', description='Progress:', layout=Layout(height='25px', width='50%'),…"
      ]
     },
     "metadata": {},
     "output_type": "display_data"
    }
   ],
   "source": [
    "s3path=\"arkham_etl\"\n",
    "databaseNm=\" `arkham_emr_etl`\"\n",
    "tableNm=\"t_file\"\n",
    "tablecolum=\"desc\"+databaseNm+\".\"+tableNm\n",
    "tableSchema= spark.sql(tablecolum).collect()\n",
    "sql=getsql(select,partitions,tableSchema)+\" from\"+databaseNm+\".\"+tableNm\n",
    "# sql+where\n",
    "sql=sql+\" where id <18512\"\n",
    "df1=spark.sql(sql)\n",
    "path=\"s3://rupiahplus-data-warehouse/stream/\"+s3path+\"/\"+tableNm+\"/\"\n",
    "df1.write.mode(\"append\").partitionBy(\"year\",\"month\",\"day\").orc(path)\n",
    "# t_file=spark.sql(\"\"\"\n",
    "#     select\n",
    "#       'insert' as kind,\n",
    "#      '2020-07-01 23:59:59' as etldate,\n",
    "#         0 as  etlindex,\n",
    "#      *,\n",
    "#     '2020' as year,\n",
    "#     '07' as month,\n",
    "#      '01' as day\n",
    "#     from `arkham_emr_etl`.t_file\n",
    "#     where  id <10047\n",
    "# \"\"\")\n",
    "# t_file.write.mode(\"append\").partitionBy(\"year\",\"month\",\"day\").orc(\"s3://rupiahplus-data-warehouse/stream/arkham_etl/t_file/\")\n"
   ]
  },
  {
   "cell_type": "code",
   "execution_count": 7,
   "metadata": {},
   "outputs": [
    {
     "data": {
      "application/vnd.jupyter.widget-view+json": {
       "model_id": "80d2550fe8424346b240b63cbefa1cd3",
       "version_major": 2,
       "version_minor": 0
      },
      "text/plain": [
       "VBox()"
      ]
     },
     "metadata": {},
     "output_type": "display_data"
    },
    {
     "data": {
      "application/vnd.jupyter.widget-view+json": {
       "model_id": "",
       "version_major": 2,
       "version_minor": 0
      },
      "text/plain": [
       "FloatProgress(value=0.0, bar_style='info', description='Progress:', layout=Layout(height='25px', width='50%'),…"
      ]
     },
     "metadata": {},
     "output_type": "display_data"
    },
    {
     "name": "stderr",
     "output_type": "stream",
     "text": [
      "\"Table or view 't_file_snapshot' not found in database 'arkham_emr_etl';\"\n",
      "Traceback (most recent call last):\n",
      "  File \"/usr/lib/spark/python/lib/pyspark.zip/pyspark/sql/session.py\", line 767, in sql\n",
      "    return DataFrame(self._jsparkSession.sql(sqlQuery), self._wrapped)\n",
      "  File \"/usr/lib/spark/python/lib/py4j-0.10.7-src.zip/py4j/java_gateway.py\", line 1257, in __call__\n",
      "    answer, self.gateway_client, self.target_id, self.name)\n",
      "  File \"/usr/lib/spark/python/lib/pyspark.zip/pyspark/sql/utils.py\", line 71, in deco\n",
      "    raise AnalysisException(s.split(': ', 1)[1], stackTrace)\n",
      "pyspark.sql.utils.AnalysisException: \"Table or view 't_file_snapshot' not found in database 'arkham_emr_etl';\"\n",
      "\n"
     ]
    }
   ],
   "source": [
    "s3path=\"arkham_etl\"\n",
    "databaseNm=\" `arkham_emr_etl`\"\n",
    "tableNm=\"t_file_snapshot\"\n",
    "tablecolum=\"desc\"+databaseNm+\".\"+tableNm\n",
    "tableSchema= spark.sql(tablecolum).collect()\n",
    "sql=getsql(select,partitions,tableSchema)+\" from\"+databaseNm+\".\"+tableNm\n",
    "# sql+where\n",
    "# sql=sql+\"where id <10000\"\n",
    "df1=spark.sql(sql)\n",
    "path=\"s3://rupiahplus-data-warehouse/stream/\"+s3path+\"/\"+tableNm+\"/\"\n",
    "df1.write.mode(\"append\").partitionBy(\"year\",\"month\",\"day\").orc(path)\n",
    "\n",
    "# t_file_snapshot=spark.sql(\"\"\"\n",
    "#     select\n",
    "#       'insert' as kind,\n",
    "#      '2020-07-01 23:59:59' as etldate,\n",
    "#         0 as  etlindex,\n",
    "#      *,\n",
    "#     '2020' as year,\n",
    "#     '07' as month,\n",
    "#      '01' as day\n",
    "#     from `arkham_emr_etl`.t_file_snapshot\n",
    "#     where  id <10047\n",
    "# \"\"\")\n",
    "# t_file_snapshot.write.mode(\"append\").partitionBy(\"year\",\"month\",\"day\").orc(\"s3://rupiahplus-data-warehouse/stream/arkham_etl/t_file_snapshot/\")\n"
   ]
  },
  {
   "cell_type": "code",
   "execution_count": 13,
   "metadata": {},
   "outputs": [
    {
     "data": {
      "application/vnd.jupyter.widget-view+json": {
       "model_id": "e50dafbfc427491ba3ff729f8b22418d",
       "version_major": 2,
       "version_minor": 0
      },
      "text/plain": [
       "VBox()"
      ]
     },
     "metadata": {},
     "output_type": "display_data"
    },
    {
     "data": {
      "application/vnd.jupyter.widget-view+json": {
       "model_id": "",
       "version_major": 2,
       "version_minor": 0
      },
      "text/plain": [
       "FloatProgress(value=0.0, bar_style='info', description='Progress:', layout=Layout(height='25px', width='50%'),…"
      ]
     },
     "metadata": {},
     "output_type": "display_data"
    },
    {
     "name": "stderr",
     "output_type": "stream",
     "text": [
      "\"Table or view 't_login_log' not found in database 'arkham_emr_etl';\"\n",
      "Traceback (most recent call last):\n",
      "  File \"/usr/lib/spark/python/lib/pyspark.zip/pyspark/sql/session.py\", line 767, in sql\n",
      "    return DataFrame(self._jsparkSession.sql(sqlQuery), self._wrapped)\n",
      "  File \"/usr/lib/spark/python/lib/py4j-0.10.7-src.zip/py4j/java_gateway.py\", line 1257, in __call__\n",
      "    answer, self.gateway_client, self.target_id, self.name)\n",
      "  File \"/usr/lib/spark/python/lib/pyspark.zip/pyspark/sql/utils.py\", line 71, in deco\n",
      "    raise AnalysisException(s.split(': ', 1)[1], stackTrace)\n",
      "pyspark.sql.utils.AnalysisException: \"Table or view 't_login_log' not found in database 'arkham_emr_etl';\"\n",
      "\n"
     ]
    }
   ],
   "source": [
    "s3path=\"arkham_etl\"\n",
    "databaseNm=\" `arkham_emr_etl`\"\n",
    "tableNm=\"t_login_log\"\n",
    "tablecolum=\"desc\"+databaseNm+\".\"+tableNm\n",
    "tableSchema= spark.sql(tablecolum).collect()\n",
    "sql=getsql(select,partitions,tableSchema)+\" from\"+databaseNm+\".\"+tableNm\n",
    "# sql+where\n",
    "# sql=sql+\"where id <10000\"\n",
    "df1=spark.sql(sql)\n",
    "path=\"s3://rupiahplus-data-warehouse/stream/\"+s3path+\"/\"+tableNm+\"/\"\n",
    "df1.write.mode(\"append\").partitionBy(\"year\",\"month\",\"day\").orc(path)\n",
    "\n",
    "\n",
    "# t_login_log=spark.sql(\"\"\"\n",
    "#     select\n",
    "#       'insert' as kind,\n",
    "#      '2020-07-01 23:59:59' as etldate,\n",
    "#         0 as  etlindex,\n",
    "#      *,\n",
    "#     '2020' as year,\n",
    "#     '07' as month,\n",
    "#      '01' as day\n",
    "#     from `arkham_emr_etl`.t_login_log\n",
    "#     where  id <10047\n",
    "# \"\"\")\n",
    "# t_login_log.write.mode(\"append\").partitionBy(\"year\",\"month\",\"day\").orc(\"s3://rupiahplus-data-warehouse/stream/arkham_etl/t_login_log/\")\n"
   ]
  },
  {
   "cell_type": "code",
   "execution_count": 14,
   "metadata": {},
   "outputs": [
    {
     "data": {
      "application/vnd.jupyter.widget-view+json": {
       "model_id": "c8d91f04d8ce4c549e1270f3444c42da",
       "version_major": 2,
       "version_minor": 0
      },
      "text/plain": [
       "VBox()"
      ]
     },
     "metadata": {},
     "output_type": "display_data"
    },
    {
     "data": {
      "application/vnd.jupyter.widget-view+json": {
       "model_id": "",
       "version_major": 2,
       "version_minor": 0
      },
      "text/plain": [
       "FloatProgress(value=0.0, bar_style='info', description='Progress:', layout=Layout(height='25px', width='50%'),…"
      ]
     },
     "metadata": {},
     "output_type": "display_data"
    }
   ],
   "source": [
    "s3path=\"arkham_etl\"\n",
    "databaseNm=\" `arkham_emr_etl`\"\n",
    "tableNm=\"t_order_flow\"\n",
    "tablecolum=\"desc\"+databaseNm+\".\"+tableNm\n",
    "tableSchema= spark.sql(tablecolum).collect()\n",
    "sql=getsql(select,partitions,tableSchema)+\" from\"+databaseNm+\".\"+tableNm\n",
    "# sql+where\n",
    "# sql=sql+\"where id <10000\"\n",
    "df1=spark.sql(sql)\n",
    "path=\"s3://rupiahplus-data-warehouse/stream/\"+s3path+\"/\"+tableNm+\"/\"\n",
    "df1.write.mode(\"append\").partitionBy(\"year\",\"month\",\"day\").orc(path)\n",
    "# t_order_flow=spark.sql(\"\"\"\n",
    "#     select\n",
    "#       'insert' as kind,\n",
    "#      '2020-07-01 23:59:59' as etldate,\n",
    "#         0 as  etlindex,\n",
    "#      *,\n",
    "#     '2020' as year,\n",
    "#     '07' as month,\n",
    "#      '01' as day\n",
    "#     from `arkham_emr_etl`.t_order_flow\n",
    "#     where  id <10143\n",
    "# \"\"\")\n",
    "# t_order_flow.write.mode(\"append\").partitionBy(\"year\",\"month\",\"day\").orc(\"s3://rupiahplus-data-warehouse/stream/arkham_etl/t_order_flow/\")\n"
   ]
  },
  {
   "cell_type": "code",
   "execution_count": 15,
   "metadata": {},
   "outputs": [
    {
     "data": {
      "application/vnd.jupyter.widget-view+json": {
       "model_id": "d3e0177699c04035b898e5163c150018",
       "version_major": 2,
       "version_minor": 0
      },
      "text/plain": [
       "VBox()"
      ]
     },
     "metadata": {},
     "output_type": "display_data"
    },
    {
     "data": {
      "application/vnd.jupyter.widget-view+json": {
       "model_id": "",
       "version_major": 2,
       "version_minor": 0
      },
      "text/plain": [
       "FloatProgress(value=0.0, bar_style='info', description='Progress:', layout=Layout(height='25px', width='50%'),…"
      ]
     },
     "metadata": {},
     "output_type": "display_data"
    }
   ],
   "source": [
    "s3path=\"arkham_etl\"\n",
    "databaseNm=\" `arkham_emr_etl`\"\n",
    "tableNm=\"t_order_info\"\n",
    "tablecolum=\"desc\"+databaseNm+\".\"+tableNm\n",
    "tableSchema= spark.sql(tablecolum).collect()\n",
    "sql=getsql(select,partitions,tableSchema)+\" from\"+databaseNm+\".\"+tableNm\n",
    "# sql+where\n",
    "sql=sql+\" where id <12389\"\n",
    "df1=spark.sql(sql)\n",
    "path=\"s3://rupiahplus-data-warehouse/stream/\"+s3path+\"/\"+tableNm+\"/\"\n",
    "df1.write.mode(\"append\").partitionBy(\"year\",\"month\",\"day\").orc(path)\n",
    "# t_order_info=spark.sql(\"\"\"\n",
    "#     select\n",
    "#       'insert' as kind,\n",
    "#      '2020-07-01 23:59:59' as etldate,\n",
    "#         0 as  etlindex,\n",
    "#      *,\n",
    "#     '2020' as year,\n",
    "#     '07' as month,\n",
    "#      '01' as day\n",
    "#     from `arkham_emr_etl`.t_order_info\n",
    "#     where  id <10017\n",
    "# \"\"\")\n",
    "# t_order_info.write.mode(\"append\").partitionBy(\"year\",\"month\",\"day\").orc(\"s3://rupiahplus-data-warehouse/stream/arkham_etl/t_order_info/\")\n"
   ]
  },
  {
   "cell_type": "code",
   "execution_count": 16,
   "metadata": {},
   "outputs": [
    {
     "data": {
      "application/vnd.jupyter.widget-view+json": {
       "model_id": "d5d7e22a9483491289bf0ff34a6e522e",
       "version_major": 2,
       "version_minor": 0
      },
      "text/plain": [
       "VBox()"
      ]
     },
     "metadata": {},
     "output_type": "display_data"
    },
    {
     "data": {
      "application/vnd.jupyter.widget-view+json": {
       "model_id": "",
       "version_major": 2,
       "version_minor": 0
      },
      "text/plain": [
       "FloatProgress(value=0.0, bar_style='info', description='Progress:', layout=Layout(height='25px', width='50%'),…"
      ]
     },
     "metadata": {},
     "output_type": "display_data"
    }
   ],
   "source": [
    "s3path=\"arkham_etl\"\n",
    "databaseNm=\" `arkham_emr_etl`\"\n",
    "tableNm=\"t_order_device_log\"\n",
    "tablecolum=\"desc\"+databaseNm+\".\"+tableNm\n",
    "tableSchema= spark.sql(tablecolum).collect()\n",
    "sql=getsql(select,partitions,tableSchema)+\" from\"+databaseNm+\".\"+tableNm\n",
    "# sql+where\n",
    "# sql=sql+\"where id <10000\"\n",
    "df1=spark.sql(sql)\n",
    "path=\"s3://rupiahplus-data-warehouse/stream/\"+s3path+\"/\"+tableNm+\"/\"\n",
    "df1.write.mode(\"append\").partitionBy(\"year\",\"month\",\"day\").orc(path)\n",
    "# t_order_info=spark.sql(\"\"\"\n",
    "#     select\n",
    "#       'insert' as kind,\n",
    "#      '2020-07-01 23:59:59' as etldate,\n",
    "#         0 as  etlindex,\n",
    "#      *,\n",
    "#     '2020' as year,\n",
    "#     '07' as month,\n",
    "#      '01' as day\n",
    "#     from `arkham_emr_etl`.t_order_info\n",
    "#     where  id <10017\n",
    "# \"\"\")\n",
    "# t_order_info.write.mode(\"append\").partitionBy(\"year\",\"month\",\"day\").orc(\"s3://rupiahplus-data-warehouse/stream/arkham_etl/t_order_info/\")\n"
   ]
  },
  {
   "cell_type": "code",
   "execution_count": 17,
   "metadata": {},
   "outputs": [
    {
     "data": {
      "application/vnd.jupyter.widget-view+json": {
       "model_id": "9493933235e742fc9bdabb254f5258f8",
       "version_major": 2,
       "version_minor": 0
      },
      "text/plain": [
       "VBox()"
      ]
     },
     "metadata": {},
     "output_type": "display_data"
    },
    {
     "data": {
      "application/vnd.jupyter.widget-view+json": {
       "model_id": "",
       "version_major": 2,
       "version_minor": 0
      },
      "text/plain": [
       "FloatProgress(value=0.0, bar_style='info', description='Progress:', layout=Layout(height='25px', width='50%'),…"
      ]
     },
     "metadata": {},
     "output_type": "display_data"
    }
   ],
   "source": [
    "s3path=\"arkham_etl\"\n",
    "databaseNm=\" `arkham_emr_etl`\"\n",
    "tableNm=\"t_question_result\"\n",
    "tablecolum=\"desc\"+databaseNm+\".\"+tableNm\n",
    "tableSchema= spark.sql(tablecolum).collect()\n",
    "sql=getsql(select,partitions,tableSchema)+\" from\"+databaseNm+\".\"+tableNm\n",
    "# sql+where\n",
    "# sql=sql+\"where id <10000\"\n",
    "df1=spark.sql(sql)\n",
    "path=\"s3://rupiahplus-data-warehouse/stream/\"+s3path+\"/\"+tableNm+\"/\"\n",
    "df1.write.mode(\"append\").partitionBy(\"year\",\"month\",\"day\").orc(path)\n",
    "\n",
    "\n",
    "# t_question_result=spark.sql(\"\"\"\n",
    "#     select\n",
    "#       'insert' as kind,\n",
    "#      '2020-07-01 23:59:59' as etldate,\n",
    "#         0 as  etlindex,\n",
    "#      *,\n",
    "#     '2020' as year,\n",
    "#     '07' as month,\n",
    "#      '01' as day\n",
    "#     from `arkham_emr_etl`.t_question_result\n",
    "#     where  id <10000\n",
    "# \"\"\")\n",
    "# t_question_result.write.mode(\"append\").partitionBy(\"year\",\"month\",\"day\").orc(\"s3://rupiahplus-data-warehouse/stream/arkham_etl/t_question_result/\")\n"
   ]
  },
  {
   "cell_type": "code",
   "execution_count": 18,
   "metadata": {},
   "outputs": [
    {
     "data": {
      "application/vnd.jupyter.widget-view+json": {
       "model_id": "c2b0dcfa1a1a48e0adb4f37bc514c4de",
       "version_major": 2,
       "version_minor": 0
      },
      "text/plain": [
       "VBox()"
      ]
     },
     "metadata": {},
     "output_type": "display_data"
    },
    {
     "data": {
      "application/vnd.jupyter.widget-view+json": {
       "model_id": "",
       "version_major": 2,
       "version_minor": 0
      },
      "text/plain": [
       "FloatProgress(value=0.0, bar_style='info', description='Progress:', layout=Layout(height='25px', width='50%'),…"
      ]
     },
     "metadata": {},
     "output_type": "display_data"
    }
   ],
   "source": [
    "s3path=\"arkham_etl\"\n",
    "databaseNm=\" `arkham_emr_etl`\"\n",
    "tableNm=\"t_region\"\n",
    "tablecolum=\"desc\"+databaseNm+\".\"+tableNm\n",
    "tableSchema= spark.sql(tablecolum).collect()\n",
    "sql=getsql(select,partitions,tableSchema)+\" from\"+databaseNm+\".\"+tableNm\n",
    "# sql+where\n",
    "# sql=sql+\"where id <10000\"\n",
    "df1=spark.sql(sql)\n",
    "path=\"s3://rupiahplus-data-warehouse/stream/\"+s3path+\"/\"+tableNm+\"/\"\n",
    "df1.write.mode(\"append\").partitionBy(\"year\",\"month\",\"day\").orc(path)\n",
    "\n",
    "# t_region=spark.sql(\"\"\"\n",
    "#     select\n",
    "#       'insert' as kind,\n",
    "#      '2020-07-01 23:59:59' as etldate,\n",
    "#         0 as  etlindex,\n",
    "#      *,\n",
    "#     '2020' as year,\n",
    "#     '07' as month,\n",
    "#      '01' as day\n",
    "#     from `arkham_emr_etl`.t_region\n",
    "#     where  id <10000\n",
    "# \"\"\")\n",
    "# t_region.write.mode(\"append\").partitionBy(\"year\",\"month\",\"day\").orc(\"s3://rupiahplus-data-warehouse/stream/arkham_etl/t_region/\")\n"
   ]
  },
  {
   "cell_type": "code",
   "execution_count": 4,
   "metadata": {},
   "outputs": [
    {
     "data": {
      "application/vnd.jupyter.widget-view+json": {
       "model_id": "44ca4cdbaf2e456cbeb96fe04bbb8c7d",
       "version_major": 2,
       "version_minor": 0
      },
      "text/plain": [
       "VBox()"
      ]
     },
     "metadata": {},
     "output_type": "display_data"
    },
    {
     "data": {
      "application/vnd.jupyter.widget-view+json": {
       "model_id": "",
       "version_major": 2,
       "version_minor": 0
      },
      "text/plain": [
       "FloatProgress(value=0.0, bar_style='info', description='Progress:', layout=Layout(height='25px', width='50%'),…"
      ]
     },
     "metadata": {},
     "output_type": "display_data"
    }
   ],
   "source": [
    "\n",
    "s3path=\"arkham_etl\"\n",
    "databaseNm=\" `arkham_emr_etl`\"\n",
    "tableNm=\"t_risksqs_log\"\n",
    "tablecolum=\"desc\"+databaseNm+\".\"+tableNm\n",
    "tableSchema= spark.sql(tablecolum).collect()\n",
    "sql=getsql(select,partitions,tableSchema)+\" from\"+databaseNm+\".\"+tableNm\n",
    "# sql+where\n",
    "# sql=sql+\" where id <13762\"\n",
    "df1=spark.sql(sql)\n",
    "path=\"s3://rupiahplus-data-warehouse/stream/\"+s3path+\"/\"+tableNm+\"/\"\n",
    "df1.write.mode(\"append\").partitionBy(\"year\",\"month\",\"day\").orc(path)\n",
    "\n",
    "\n",
    "# t_risksqs_log=spark.sql(\"\"\"\n",
    "#     select\n",
    "#       'insert' as kind,\n",
    "#      '2020-07-01 23:59:59' as etldate,\n",
    "#         0 as  etlindex,\n",
    "#      *,\n",
    "#     '2020' as year,\n",
    "#     '07' as month,\n",
    "#      '01' as day\n",
    "#     from `arkham_emr_etl`.t_risksqs_log\n",
    "#     where  id <10005\n",
    "# \"\"\")\n",
    "# t_risksqs_log.write.mode(\"append\").partitionBy(\"year\",\"month\",\"day\").orc(\"s3://rupiahplus-data-warehouse/stream/arkham_etl/t_risksqs_log/\")\n"
   ]
  },
  {
   "cell_type": "code",
   "execution_count": 21,
   "metadata": {},
   "outputs": [
    {
     "data": {
      "application/vnd.jupyter.widget-view+json": {
       "model_id": "d670178beac54f92b84dba5d019148d0",
       "version_major": 2,
       "version_minor": 0
      },
      "text/plain": [
       "VBox()"
      ]
     },
     "metadata": {},
     "output_type": "display_data"
    },
    {
     "data": {
      "application/vnd.jupyter.widget-view+json": {
       "model_id": "",
       "version_major": 2,
       "version_minor": 0
      },
      "text/plain": [
       "FloatProgress(value=0.0, bar_style='info', description='Progress:', layout=Layout(height='25px', width='50%'),…"
      ]
     },
     "metadata": {},
     "output_type": "display_data"
    }
   ],
   "source": [
    "\n",
    "s3path=\"arkham_etl\"\n",
    "databaseNm=\" `arkham_emr_etl`\"\n",
    "tableNm=\"t_user\"\n",
    "tablecolum=\"desc\"+databaseNm+\".\"+tableNm\n",
    "tableSchema= spark.sql(tablecolum).collect()\n",
    "sql=getsql(select,partitions,tableSchema)+\" from\"+databaseNm+\".\"+tableNm\n",
    "# sql+where\n",
    "sql=sql+\" where id <12771 \"\n",
    "df1=spark.sql(sql)\n",
    "path=\"s3://rupiahplus-data-warehouse/stream/\"+s3path+\"/\"+tableNm+\"/\"\n",
    "df1.write.mode(\"append\").partitionBy(\"year\",\"month\",\"day\").orc(path)\n",
    "\n",
    "\n",
    "\n",
    "# t_user=spark.sql(\"\"\"\n",
    "#     select\n",
    "#       'insert' as kind,\n",
    "#      '2020-07-01 23:59:59' as etldate,\n",
    "#         0 as  etlindex,\n",
    "#      *,\n",
    "#     '2020' as year,\n",
    "#     '07' as month,\n",
    "#      '01' as day\n",
    "#     from `arkham_emr_etl`.t_user\n",
    "#     where  id <10020\n",
    "# \"\"\")\n",
    "# t_user.write.mode(\"append\").partitionBy(\"year\",\"month\",\"day\").orc(\"s3://rupiahplus-data-warehouse/stream/arkham_etl/t_user/\")\n"
   ]
  },
  {
   "cell_type": "code",
   "execution_count": 22,
   "metadata": {},
   "outputs": [
    {
     "data": {
      "application/vnd.jupyter.widget-view+json": {
       "model_id": "364867ae5f9640d69fd88a79b6cd9cf7",
       "version_major": 2,
       "version_minor": 0
      },
      "text/plain": [
       "VBox()"
      ]
     },
     "metadata": {},
     "output_type": "display_data"
    },
    {
     "data": {
      "application/vnd.jupyter.widget-view+json": {
       "model_id": "",
       "version_major": 2,
       "version_minor": 0
      },
      "text/plain": [
       "FloatProgress(value=0.0, bar_style='info', description='Progress:', layout=Layout(height='25px', width='50%'),…"
      ]
     },
     "metadata": {},
     "output_type": "display_data"
    }
   ],
   "source": [
    "\n",
    "s3path=\"arkham_etl\"\n",
    "databaseNm=\" `arkham_emr_etl`\"\n",
    "tableNm=\"t_user_install_info\"\n",
    "tablecolum=\"desc\"+databaseNm+\".\"+tableNm\n",
    "tableSchema= spark.sql(tablecolum).collect()\n",
    "sql=getsql(select,partitions,tableSchema)+\" from\"+databaseNm+\".\"+tableNm\n",
    "# sql+where\n",
    "# sql=sql+\"where id <10000\"\n",
    "df1=spark.sql(sql)\n",
    "path=\"s3://rupiahplus-data-warehouse/stream/\"+s3path+\"/\"+tableNm+\"/\"\n",
    "df1.write.mode(\"append\").partitionBy(\"year\",\"month\",\"day\").orc(path)\n",
    "\n",
    "\n",
    "\n",
    "# t_user=spark.sql(\"\"\"\n",
    "#     select\n",
    "#       'insert' as kind,\n",
    "#      '2020-07-01 23:59:59' as etldate,\n",
    "#         0 as  etlindex,\n",
    "#      *,\n",
    "#     '2020' as year,\n",
    "#     '07' as month,\n",
    "#      '01' as day\n",
    "#     from `arkham_emr_etl`.t_user\n",
    "#     where  id <10020\n",
    "# \"\"\")\n",
    "# t_user.write.mode(\"append\").partitionBy(\"year\",\"month\",\"day\").orc(\"s3://rupiahplus-data-warehouse/stream/arkham_etl/t_user/\")\n"
   ]
  },
  {
   "cell_type": "code",
   "execution_count": 23,
   "metadata": {},
   "outputs": [
    {
     "data": {
      "application/vnd.jupyter.widget-view+json": {
       "model_id": "5332ed5592cf48abaf4868c6ec630564",
       "version_major": 2,
       "version_minor": 0
      },
      "text/plain": [
       "VBox()"
      ]
     },
     "metadata": {},
     "output_type": "display_data"
    },
    {
     "data": {
      "application/vnd.jupyter.widget-view+json": {
       "model_id": "",
       "version_major": 2,
       "version_minor": 0
      },
      "text/plain": [
       "FloatProgress(value=0.0, bar_style='info', description='Progress:', layout=Layout(height='25px', width='50%'),…"
      ]
     },
     "metadata": {},
     "output_type": "display_data"
    }
   ],
   "source": [
    "s3path=\"arkham_etl\"\n",
    "databaseNm=\" `arkham_emr_etl`\"\n",
    "tableNm=\"t_user_profile\"\n",
    "tablecolum=\"desc\"+databaseNm+\".\"+tableNm\n",
    "tableSchema= spark.sql(tablecolum).collect()\n",
    "sql=getsql(select,partitions,tableSchema)+\" from\"+databaseNm+\".\"+tableNm\n",
    "# sql+where\n",
    "sql=sql+\" where id <12422\"\n",
    "df1=spark.sql(sql)\n",
    "path=\"s3://rupiahplus-data-warehouse/stream/\"+s3path+\"/\"+tableNm+\"/\"\n",
    "df1.write.mode(\"append\").partitionBy(\"year\",\"month\",\"day\").orc(path)\n",
    "# t_user_profile=spark.sql(\"\"\"\n",
    "#     select\n",
    "#       'insert' as kind,\n",
    "#      '2020-07-01 23:59:59' as etldate,\n",
    "#         0 as  etlindex,\n",
    "#      *,\n",
    "#     '2020' as year,\n",
    "#     '07' as month,\n",
    "#      '01' as day\n",
    "#     from `arkham_emr_etl`.t_user_profile\n",
    "#     where  id <10013\n",
    "# \"\"\")\n",
    "# t_user_profile.write.mode(\"append\").partitionBy(\"year\",\"month\",\"day\").orc(\"s3://rupiahplus-data-warehouse/stream/arkham_etl/t_user_profile/\")\n"
   ]
  },
  {
   "cell_type": "code",
   "execution_count": 24,
   "metadata": {},
   "outputs": [
    {
     "data": {
      "application/vnd.jupyter.widget-view+json": {
       "model_id": "1b9b3d8088d44fad96fead231980856b",
       "version_major": 2,
       "version_minor": 0
      },
      "text/plain": [
       "VBox()"
      ]
     },
     "metadata": {},
     "output_type": "display_data"
    },
    {
     "data": {
      "application/vnd.jupyter.widget-view+json": {
       "model_id": "",
       "version_major": 2,
       "version_minor": 0
      },
      "text/plain": [
       "FloatProgress(value=0.0, bar_style='info', description='Progress:', layout=Layout(height='25px', width='50%'),…"
      ]
     },
     "metadata": {},
     "output_type": "display_data"
    }
   ],
   "source": [
    "s3path=\"arkham_etl\"\n",
    "databaseNm=\" `arkham_emr_etl`\"\n",
    "tableNm=\"t_user_profile_snapshot\"\n",
    "tablecolum=\"desc\"+databaseNm+\".\"+tableNm\n",
    "tableSchema= spark.sql(tablecolum).collect()\n",
    "sql=getsql(select,partitions,tableSchema)+\" from\"+databaseNm+\".\"+tableNm\n",
    "# sql+where\n",
    "sql=sql+\"  where id <12379\"\n",
    "df1=spark.sql(sql)\n",
    "path=\"s3://rupiahplus-data-warehouse/stream/\"+s3path+\"/\"+tableNm+\"/\"\n",
    "df1.write.mode(\"append\").partitionBy(\"year\",\"month\",\"day\").orc(path)\n",
    "# t_user_profile_snapshot=spark.sql(\"\"\"\n",
    "#     select\n",
    "#       'insert' as kind,\n",
    "#      '2020-07-01 23:59:59' as etldate,\n",
    "#         0 as  etlindex,\n",
    "#      *,\n",
    "#     '2020' as year,\n",
    "#     '07' as month,\n",
    "#      '01' as day\n",
    "#     from `arkham_emr_etl`.t_user_profile_snapshot\n",
    "#     where  id <10013\n",
    "# \"\"\")\n",
    "# t_user_profile_snapshot.write.mode(\"append\").partitionBy(\"year\",\"month\",\"day\").orc(\"s3://rupiahplus-data-warehouse/stream/arkham_etl/t_user_profile_snapshot/\")\n"
   ]
  },
  {
   "cell_type": "code",
   "execution_count": 25,
   "metadata": {},
   "outputs": [
    {
     "data": {
      "application/vnd.jupyter.widget-view+json": {
       "model_id": "c1fabba1f4f7407fad4ffead6bcd6aca",
       "version_major": 2,
       "version_minor": 0
      },
      "text/plain": [
       "VBox()"
      ]
     },
     "metadata": {},
     "output_type": "display_data"
    },
    {
     "data": {
      "application/vnd.jupyter.widget-view+json": {
       "model_id": "",
       "version_major": 2,
       "version_minor": 0
      },
      "text/plain": [
       "FloatProgress(value=0.0, bar_style='info', description='Progress:', layout=Layout(height='25px', width='50%'),…"
      ]
     },
     "metadata": {},
     "output_type": "display_data"
    }
   ],
   "source": [
    "s3path=\"arkham_etl\"\n",
    "databaseNm=\" `arkham_emr_etl`\"\n",
    "tableNm=\"t_yituface_verify\"\n",
    "tablecolum=\"desc\"+databaseNm+\".\"+tableNm\n",
    "tableSchema= spark.sql(tablecolum).collect()\n",
    "sql=getsql(select,partitions,tableSchema)+\" from\"+databaseNm+\".\"+tableNm\n",
    "# sql+where\n",
    "# sql=sql+\"where id <10000\"\n",
    "df1=spark.sql(sql)\n",
    "path=\"s3://rupiahplus-data-warehouse/stream/\"+s3path+\"/\"+tableNm+\"/\"\n",
    "df1.write.mode(\"append\").partitionBy(\"year\",\"month\",\"day\").orc(path)\n",
    "\n",
    "\n",
    "# t_yituface_verify=spark.sql(\"\"\"\n",
    "#     select\n",
    "#       'insert' as kind,\n",
    "#      '2020-07-01 23:59:59' as etldate,\n",
    "#         0 as  etlindex,\n",
    "#      *,\n",
    "#     '2020' as year,\n",
    "#     '07' as month,\n",
    "#      '01' as day\n",
    "#     from `arkham_emr_etl`.t_yituface_verify\n",
    "#     where  id <\t10000\n",
    "# \"\"\")\n",
    "# t_yituface_verify.write.mode(\"append\").partitionBy(\"year\",\"month\",\"day\").orc(\"s3://rupiahplus-data-warehouse/stream/arkham_etl/t_yituface_verify/\")\n"
   ]
  },
  {
   "cell_type": "code",
   "execution_count": 4,
   "metadata": {},
   "outputs": [
    {
     "data": {
      "application/vnd.jupyter.widget-view+json": {
       "model_id": "6dee05adbf7c4f47add1c7ea7e550cf9",
       "version_major": 2,
       "version_minor": 0
      },
      "text/plain": [
       "VBox()"
      ]
     },
     "metadata": {},
     "output_type": "display_data"
    },
    {
     "data": {
      "application/vnd.jupyter.widget-view+json": {
       "model_id": "",
       "version_major": 2,
       "version_minor": 0
      },
      "text/plain": [
       "FloatProgress(value=0.0, bar_style='info', description='Progress:', layout=Layout(height='25px', width='50%'),…"
      ]
     },
     "metadata": {},
     "output_type": "display_data"
    }
   ],
   "source": [
    "s3path=\"arkham_etl\"\n",
    "databaseNm=\" `arkham_emr_etl`\"\n",
    "tableNm=\"t_marketing_channel_info\"\n",
    "tablecolum=\"desc\"+databaseNm+\".\"+tableNm\n",
    "tableSchema= spark.sql(tablecolum).collect()\n",
    "sql=getsql(select,partitions,tableSchema)+\" from\"+databaseNm+\".\"+tableNm\n",
    "# sql+where\n",
    "# sql=sql+\"where id <10000\"\n",
    "df1=spark.sql(sql)\n",
    "path=\"s3://rupiahplus-data-warehouse/stream/\"+s3path+\"/\"+tableNm+\"/\"\n",
    "df1.write.mode(\"append\").partitionBy(\"year\",\"month\",\"day\").orc(path)\n"
   ]
  },
  {
   "cell_type": "code",
   "execution_count": 3,
   "metadata": {},
   "outputs": [
    {
     "data": {
      "application/vnd.jupyter.widget-view+json": {
       "model_id": "0e0805a3bb394e6ca1a82f14c36d377b",
       "version_major": 2,
       "version_minor": 0
      },
      "text/plain": [
       "VBox()"
      ]
     },
     "metadata": {},
     "output_type": "display_data"
    },
    {
     "data": {
      "application/vnd.jupyter.widget-view+json": {
       "model_id": "",
       "version_major": 2,
       "version_minor": 0
      },
      "text/plain": [
       "FloatProgress(value=0.0, bar_style='info', description='Progress:', layout=Layout(height='25px', width='50%'),…"
      ]
     },
     "metadata": {},
     "output_type": "display_data"
    }
   ],
   "source": [
    "\n",
    "s3path=\"arkham_etl\"\n",
    "databaseNm=\" `arkham_emr_etl`\"\n",
    "tableNm=\"t_marketing_ref_info\"\n",
    "tablecolum=\"desc\"+databaseNm+\".\"+tableNm\n",
    "tableSchema= spark.sql(tablecolum).collect()\n",
    "sql=getsql(select,partitions,tableSchema)+\" from\"+databaseNm+\".\"+tableNm\n",
    "# sql+where\n",
    "# sql=sql+\"where id <10000\"\n",
    "df1=spark.sql(sql)\n",
    "path=\"s3://rupiahplus-data-warehouse/stream/\"+s3path+\"/\"+tableNm+\"/\"\n",
    "df1.write.mode(\"append\").partitionBy(\"year\",\"month\",\"day\").orc(path)\n"
   ]
  },
  {
   "cell_type": "markdown",
   "metadata": {},
   "source": [
    "protoss-------------etl\n",
    "\"t_bni_bill\":\"protoss_t_bni_bill\",\n",
    "\"t_pay_order\":\"protoss_t_pay_order\",\n",
    "\"t_request_log\":\"protoss_t_request_log\"\n"
   ]
  },
  {
   "cell_type": "code",
   "execution_count": 1,
   "metadata": {},
   "outputs": [
    {
     "data": {
      "application/vnd.jupyter.widget-view+json": {
       "model_id": "707d1573126f42bdbdbc339f6acc58a4",
       "version_major": 2,
       "version_minor": 0
      },
      "text/plain": [
       "VBox()"
      ]
     },
     "metadata": {},
     "output_type": "display_data"
    },
    {
     "name": "stdout",
     "output_type": "stream",
     "text": [
      "Starting Spark application\n"
     ]
    },
    {
     "data": {
      "text/html": [
       "<table>\n",
       "<tr><th>ID</th><th>YARN Application ID</th><th>Kind</th><th>State</th><th>Spark UI</th><th>Driver log</th><th>Current session?</th></tr><tr><td>1</td><td>application_1602490446913_0002</td><td>pyspark</td><td>idle</td><td><a target=\"_blank\" href=\"http://ip-172-31-7-194.ap-southeast-1.compute.internal:20888/proxy/application_1602490446913_0002/\">Link</a></td><td><a target=\"_blank\" href=\"http://ip-172-31-0-15.ap-southeast-1.compute.internal:8042/node/containerlogs/container_1602490446913_0002_01_000002/livy\">Link</a></td><td>✔</td></tr></table>"
      ],
      "text/plain": [
       "<IPython.core.display.HTML object>"
      ]
     },
     "metadata": {},
     "output_type": "display_data"
    },
    {
     "data": {
      "application/vnd.jupyter.widget-view+json": {
       "model_id": "",
       "version_major": 2,
       "version_minor": 0
      },
      "text/plain": [
       "FloatProgress(value=0.0, bar_style='info', description='Progress:', layout=Layout(height='25px', width='50%'),…"
      ]
     },
     "metadata": {},
     "output_type": "display_data"
    },
    {
     "name": "stdout",
     "output_type": "stream",
     "text": [
      "SparkSession available as 'spark'.\n"
     ]
    },
    {
     "data": {
      "application/vnd.jupyter.widget-view+json": {
       "model_id": "",
       "version_major": 2,
       "version_minor": 0
      },
      "text/plain": [
       "FloatProgress(value=0.0, bar_style='info', description='Progress:', layout=Layout(height='25px', width='50%'),…"
      ]
     },
     "metadata": {},
     "output_type": "display_data"
    }
   ],
   "source": [
    "t_bni_bill=spark.sql(\"\"\"\n",
    "    select\n",
    "      'insert' as kind,\n",
    "     '2020-08-01 23:59:59' as etldate,\n",
    "        0 as  etlindex,\n",
    "     *,\n",
    "    '2020' as year,\n",
    "    '08' as month,\n",
    "     '01' as day\n",
    "    from `protoss_emr_etl`.t_bni_bill\n",
    "    \n",
    "\"\"\")\n",
    "t_bni_bill.write.mode(\"append\").partitionBy(\"year\",\"month\",\"day\").orc(\"s3://rupiahplus-data-warehouse/stream/protoss_etl/t_bni_bill/\")\n"
   ]
  },
  {
   "cell_type": "code",
   "execution_count": 1,
   "metadata": {},
   "outputs": [
    {
     "data": {
      "application/vnd.jupyter.widget-view+json": {
       "model_id": "b953be4bfe7e40188adad73d223d09b4",
       "version_major": 2,
       "version_minor": 0
      },
      "text/plain": [
       "VBox()"
      ]
     },
     "metadata": {},
     "output_type": "display_data"
    },
    {
     "name": "stdout",
     "output_type": "stream",
     "text": [
      "Starting Spark application\n"
     ]
    },
    {
     "data": {
      "text/html": [
       "<table>\n",
       "<tr><th>ID</th><th>YARN Application ID</th><th>Kind</th><th>State</th><th>Spark UI</th><th>Driver log</th><th>Current session?</th></tr><tr><td>2</td><td>application_1604889467743_0003</td><td>pyspark</td><td>idle</td><td><a target=\"_blank\" href=\"http://ip-172-31-9-241.ap-southeast-1.compute.internal:20888/proxy/application_1604889467743_0003/\">Link</a></td><td><a target=\"_blank\" href=\"http://ip-172-31-8-159.ap-southeast-1.compute.internal:8042/node/containerlogs/container_1604889467743_0003_01_000001/livy\">Link</a></td><td>✔</td></tr></table>"
      ],
      "text/plain": [
       "<IPython.core.display.HTML object>"
      ]
     },
     "metadata": {},
     "output_type": "display_data"
    },
    {
     "data": {
      "application/vnd.jupyter.widget-view+json": {
       "model_id": "",
       "version_major": 2,
       "version_minor": 0
      },
      "text/plain": [
       "FloatProgress(value=0.0, bar_style='info', description='Progress:', layout=Layout(height='25px', width='50%'),…"
      ]
     },
     "metadata": {},
     "output_type": "display_data"
    },
    {
     "name": "stdout",
     "output_type": "stream",
     "text": [
      "SparkSession available as 'spark'.\n"
     ]
    },
    {
     "data": {
      "application/vnd.jupyter.widget-view+json": {
       "model_id": "",
       "version_major": 2,
       "version_minor": 0
      },
      "text/plain": [
       "FloatProgress(value=0.0, bar_style='info', description='Progress:', layout=Layout(height='25px', width='50%'),…"
      ]
     },
     "metadata": {},
     "output_type": "display_data"
    }
   ],
   "source": [
    "t_pay_order=spark.sql(\"\"\"\n",
    "    select\n",
    "      'insert' as kind,\n",
    "     '2020-08-01 23:59:59' as etldate,\n",
    "        0 as  etlindex,\n",
    "     cast(id as string) as id ,\n",
    "     user_id,\n",
    "     platform_name,\n",
    "     relation_id,\n",
    "     business_id,\n",
    "     channel_type,\n",
    "     client_name,\n",
    "     transaction_date,\n",
    "     third_id,\n",
    "     amount,\n",
    "     from_bank,\n",
    "     from_account_number,\n",
    "     from_account_name,\n",
    "     to_bank,\n",
    "     to_account_number,\n",
    "     to_account_name,\n",
    "     direction,\n",
    "     currency_unit,\n",
    "     business_type,\n",
    "     pay_type,\n",
    "     status,\n",
    "     message,\n",
    "     remark1,\n",
    "     remark2,\n",
    "     groups,\n",
    "     finish_time,\n",
    "     create_time,\n",
    "     update_time,\n",
    "    '2020' as year,\n",
    "    '08' as month,\n",
    "     '01' as day\n",
    "    from `protoss_emr_etl`.t_pay_order\n",
    " \n",
    "\"\"\")\n",
    "t_pay_order.write.mode(\"append\").partitionBy(\"year\",\"month\",\"day\").orc(\"s3://rupiahplus-data-warehouse/stream/protoss_etl/t_pay_order/\")\n"
   ]
  },
  {
   "cell_type": "code",
   "execution_count": 3,
   "metadata": {},
   "outputs": [
    {
     "data": {
      "application/vnd.jupyter.widget-view+json": {
       "model_id": "90c33316cab9401aa29ab83b15d6eca8",
       "version_major": 2,
       "version_minor": 0
      },
      "text/plain": [
       "VBox()"
      ]
     },
     "metadata": {},
     "output_type": "display_data"
    },
    {
     "data": {
      "application/vnd.jupyter.widget-view+json": {
       "model_id": "",
       "version_major": 2,
       "version_minor": 0
      },
      "text/plain": [
       "FloatProgress(value=0.0, bar_style='info', description='Progress:', layout=Layout(height='25px', width='50%'),…"
      ]
     },
     "metadata": {},
     "output_type": "display_data"
    }
   ],
   "source": [
    "t_request_log=spark.sql(\"\"\"\n",
    "    select\n",
    "      'insert' as kind,\n",
    "     '2020-07-01 23:59:59' as etldate,\n",
    "        0 as  etlindex,\n",
    "     *,\n",
    "    '2020' as year,\n",
    "    '07' as month,\n",
    "     '01' as day\n",
    "    from `protoss_emr_etl`.t_request_log\n",
    "\n",
    "\"\"\")\n",
    "t_request_log.write.mode(\"append\").partitionBy(\"year\",\"month\",\"day\").orc(\"s3://rupiahplus-data-warehouse/stream/protoss_etl/t_request_log/\")\n"
   ]
  },
  {
   "cell_type": "markdown",
   "metadata": {},
   "source": [
    "credinex_repeater-------------etl\n",
    "  \"t_rule_result\":\"credinex_repeater_t_rule_result\",\n",
    "              \"t_rule_history\":\"credinex_repeater_t_rule_history\",\n",
    "              \"t_risk_param\":\"\",\n",
    "              \"t_risk_blacklist\":\"t_risk_blacklist\""
   ]
  },
  {
   "cell_type": "code",
   "execution_count": 3,
   "metadata": {},
   "outputs": [
    {
     "data": {
      "application/vnd.jupyter.widget-view+json": {
       "model_id": "46f8e120c75f40b984aaff64d8203b32",
       "version_major": 2,
       "version_minor": 0
      },
      "text/plain": [
       "VBox()"
      ]
     },
     "metadata": {},
     "output_type": "display_data"
    },
    {
     "data": {
      "application/vnd.jupyter.widget-view+json": {
       "model_id": "",
       "version_major": 2,
       "version_minor": 0
      },
      "text/plain": [
       "FloatProgress(value=0.0, bar_style='info', description='Progress:', layout=Layout(height='25px', width='50%'),…"
      ]
     },
     "metadata": {},
     "output_type": "display_data"
    },
    {
     "name": "stderr",
     "output_type": "stream",
     "text": [
      "'Partition column `year` not found in schema struct<id:bigint,reference_id:bigint,task_id:string,code:string,version:string,result:string,create_time:timestamp,param:string,rule_name:string>;'\n",
      "Traceback (most recent call last):\n",
      "  File \"/usr/lib64/python3.6/concurrent/futures/_base.py\", line 425, in result\n",
      "    return self.__get_result()\n",
      "  File \"/usr/lib64/python3.6/concurrent/futures/_base.py\", line 384, in __get_result\n",
      "    raise self._exception\n",
      "  File \"/usr/lib64/python3.6/concurrent/futures/thread.py\", line 56, in run\n",
      "    result = self.fn(*self.args, **self.kwargs)\n",
      "  File \"<stdin>\", line 26, in make_col_temptable\n",
      "  File \"/usr/lib/spark/python/lib/pyspark.zip/pyspark/sql/readwriter.py\", line 959, in orc\n",
      "    self._jwrite.orc(path)\n",
      "  File \"/usr/lib/spark/python/lib/py4j-0.10.7-src.zip/py4j/java_gateway.py\", line 1257, in __call__\n",
      "    answer, self.gateway_client, self.target_id, self.name)\n",
      "  File \"/usr/lib/spark/python/lib/pyspark.zip/pyspark/sql/utils.py\", line 69, in deco\n",
      "    raise AnalysisException(s.split(': ', 1)[1], stackTrace)\n",
      "pyspark.sql.utils.AnalysisException: 'Partition column `year` not found in schema struct<id:bigint,reference_id:bigint,task_id:string,code:string,version:string,result:string,create_time:timestamp,param:string,rule_name:string>;'\n",
      "\n"
     ]
    }
   ],
   "source": [
    "import sys\n",
    "from concurrent import futures\n",
    "import numpy as np\n",
    "from pyspark.sql import SparkSession\n",
    "from datetime import datetime,timedelta\n",
    "import pytz\n",
    "tablemap={\"credinex_repeater_emr_etl\":\"credinex_repeater\"} #,\n",
    "def getTableColum(tableNm,b):\n",
    "    colum=\"\"\n",
    "    for index in range(len(b)):\n",
    "        colum=colum+setDef(b[index][\"data_type\"],b[index][\"col_name\"],tableNm)+\", \"\n",
    "    return colum[0:len(colum)-2]\n",
    "def setDef(type,table_col,tableNm):\n",
    "    if(tableNm=='t_auto_review_loan' and type[:7] == 'boolean'):\n",
    "        return \"cast (\"+table_col+\" as string ) as \"+table_col\n",
    "    else:\n",
    "        return table_col\n",
    "def make_col_temptable(databaseName,row):\n",
    "    tableName=row[\"tableName\"]\n",
    "    if tableName=='t_rule_result':\n",
    "        tablecolum=\"desc \" +databaseName+\".\"+tableName;\n",
    "        tableSchema= spark.sql(tablecolum).collect()\n",
    "        sql=\"select \"+ getTableColum(tableName,tableSchema)+\" from  \"+databaseName+\".\"+tableName\n",
    "        path=\"s3://rupiahplus-data-warehouse/stream/\"+tablemap[databaseName]+\"_etl/\"+tableName+\"/\"\n",
    "#         print(path)\n",
    "        spark.sql(sql).write.mode(\"append\").partitionBy(\"year\",\"month\",\"day\").orc(path)\n",
    "if __name__ == \"builtins\":\n",
    "    spark = SparkSession\\\n",
    "        .builder\\\n",
    "        .appName(\"Python Demo\")\\\n",
    "        .config(\"hive.metastore.client.factory.class\", \"com.amazonaws.glue.catalog.metastore.AWSGlueDataCatalogHiveClientFactory\") \\\n",
    "        .enableHiveSupport()\\\n",
    "        .getOrCreate()\n",
    "#     spark.conf.set(\"spark.scheduler.mode\",\"FAIR\")\n",
    "    spark.conf.set(\"spark.sql.shuffle.partitions\",20)\n",
    "    for databaseName in tablemap:\n",
    "        databasesql=\"show tables in \"+databaseName\n",
    "        tables=spark.sql(databasesql)\n",
    "        tablelist=tables.collect();\n",
    "        executor=None\n",
    "        with futures.ThreadPoolExecutor(max_workers=10) as executor:\n",
    "            futures_result=futures.wait([executor.submit(make_col_temptable,databaseName, tableNm) for tableNm in tablelist])\n",
    "            for  future in futures_result[0]:\n",
    "                print(future.result())"
   ]
  },
  {
   "cell_type": "code",
   "execution_count": 1,
   "metadata": {},
   "outputs": [
    {
     "data": {
      "application/vnd.jupyter.widget-view+json": {
       "model_id": "5cc7968ea6844a0a8882f93cc9bd2e0e",
       "version_major": 2,
       "version_minor": 0
      },
      "text/plain": [
       "VBox()"
      ]
     },
     "metadata": {},
     "output_type": "display_data"
    },
    {
     "name": "stdout",
     "output_type": "stream",
     "text": [
      "Starting Spark application\n"
     ]
    },
    {
     "data": {
      "text/html": [
       "<table>\n",
       "<tr><th>ID</th><th>YARN Application ID</th><th>Kind</th><th>State</th><th>Spark UI</th><th>Driver log</th><th>Current session?</th></tr><tr><td>1</td><td>application_1604544630370_0002</td><td>pyspark</td><td>idle</td><td><a target=\"_blank\" href=\"http://ip-172-31-5-115.ap-southeast-1.compute.internal:20888/proxy/application_1604544630370_0002/\">Link</a></td><td><a target=\"_blank\" href=\"http://ip-172-31-8-250.ap-southeast-1.compute.internal:8042/node/containerlogs/container_1604544630370_0002_01_000001/livy\">Link</a></td><td>✔</td></tr></table>"
      ],
      "text/plain": [
       "<IPython.core.display.HTML object>"
      ]
     },
     "metadata": {},
     "output_type": "display_data"
    },
    {
     "data": {
      "application/vnd.jupyter.widget-view+json": {
       "model_id": "",
       "version_major": 2,
       "version_minor": 0
      },
      "text/plain": [
       "FloatProgress(value=0.0, bar_style='info', description='Progress:', layout=Layout(height='25px', width='50%'),…"
      ]
     },
     "metadata": {},
     "output_type": "display_data"
    },
    {
     "name": "stdout",
     "output_type": "stream",
     "text": [
      "SparkSession available as 'spark'.\n"
     ]
    },
    {
     "data": {
      "application/vnd.jupyter.widget-view+json": {
       "model_id": "",
       "version_major": 2,
       "version_minor": 0
      },
      "text/plain": [
       "FloatProgress(value=0.0, bar_style='info', description='Progress:', layout=Layout(height='25px', width='50%'),…"
      ]
     },
     "metadata": {},
     "output_type": "display_data"
    }
   ],
   "source": [
    "t_risk_param=spark.sql(\"\"\"\n",
    "    select\n",
    "      'insert' as kind,\n",
    "     '2020-08-01 23:59:59' as etldate,\n",
    "        0 as  etlindex,\n",
    "     *,\n",
    "    '2020' as year,\n",
    "    '08' as month,\n",
    "     '01' as day\n",
    "    from `credinex_repeater_emr_etl`.t_risk_param\n",
    "    where  id< 17398357\n",
    "\"\"\")\n",
    "t_risk_param.write.mode(\"append\").partitionBy(\"year\",\"month\",\"day\").orc(\"s3://rupiahplus-data-warehouse/stream/credinex_repeater_etl/t_risk_param/\")\n"
   ]
  },
  {
   "cell_type": "code",
   "execution_count": 4,
   "metadata": {},
   "outputs": [
    {
     "data": {
      "application/vnd.jupyter.widget-view+json": {
       "model_id": "6ef3cd95ce58453f82d71bec30a9f51f",
       "version_major": 2,
       "version_minor": 0
      },
      "text/plain": [
       "VBox()"
      ]
     },
     "metadata": {},
     "output_type": "display_data"
    },
    {
     "data": {
      "application/vnd.jupyter.widget-view+json": {
       "model_id": "",
       "version_major": 2,
       "version_minor": 0
      },
      "text/plain": [
       "FloatProgress(value=0.0, bar_style='info', description='Progress:', layout=Layout(height='25px', width='50%'),…"
      ]
     },
     "metadata": {},
     "output_type": "display_data"
    }
   ],
   "source": [
    "t_rule_result=spark.sql(\"\"\"\n",
    "    select\n",
    "      'insert' as kind,\n",
    "     '2020-08-01 23:59:59' as etldate,\n",
    "        0 as  etlindex,\n",
    "     *,\n",
    "    '2020' as year,\n",
    "    '08' as month,\n",
    "     '01' as day\n",
    "    from `credinex_repeater_emr_etl`.t_rule_result\n",
    "\"\"\")\n",
    "t_rule_result.write.mode(\"append\").partitionBy(\"year\",\"month\",\"day\").orc(\"s3://rupiahplus-data-warehouse/stream/credinex_repeater_etl/t_rule_result/\")\n"
   ]
  },
  {
   "cell_type": "code",
   "execution_count": 3,
   "metadata": {},
   "outputs": [
    {
     "data": {
      "application/vnd.jupyter.widget-view+json": {
       "model_id": "430b8afce0d14b30a88ab323e0d27287",
       "version_major": 2,
       "version_minor": 0
      },
      "text/plain": [
       "VBox()"
      ]
     },
     "metadata": {},
     "output_type": "display_data"
    },
    {
     "data": {
      "application/vnd.jupyter.widget-view+json": {
       "model_id": "",
       "version_major": 2,
       "version_minor": 0
      },
      "text/plain": [
       "FloatProgress(value=0.0, bar_style='info', description='Progress:', layout=Layout(height='25px', width='50%'),…"
      ]
     },
     "metadata": {},
     "output_type": "display_data"
    }
   ],
   "source": [
    "t_rule_history=spark.sql(\"\"\"\n",
    "    select\n",
    "      'insert' as kind,\n",
    "     '2020-07-01 23:59:59' as etldate,\n",
    "        0 as  etlindex,\n",
    "     *,\n",
    "    '2020' as year,\n",
    "    '07' as month,\n",
    "     '01' as day\n",
    "    from `credinex_repeater_emr_etl`.t_rule_history\n",
    "\"\"\")\n",
    "t_rule_history.write.mode(\"append\").partitionBy(\"year\",\"month\",\"day\").orc(\"s3://rupiahplus-data-warehouse/stream/credinex_repeater_etl/t_rule_history/\")\n"
   ]
  },
  {
   "cell_type": "code",
   "execution_count": 4,
   "metadata": {},
   "outputs": [
    {
     "data": {
      "application/vnd.jupyter.widget-view+json": {
       "model_id": "9709a1eaafd04e4db7f0fba1c7f6b99e",
       "version_major": 2,
       "version_minor": 0
      },
      "text/plain": [
       "VBox()"
      ]
     },
     "metadata": {},
     "output_type": "display_data"
    },
    {
     "data": {
      "application/vnd.jupyter.widget-view+json": {
       "model_id": "",
       "version_major": 2,
       "version_minor": 0
      },
      "text/plain": [
       "FloatProgress(value=0.0, bar_style='info', description='Progress:', layout=Layout(height='25px', width='50%'),…"
      ]
     },
     "metadata": {},
     "output_type": "display_data"
    }
   ],
   "source": [
    "t_risk_blacklist=spark.sql(\"\"\"\n",
    "    select\n",
    "      'insert' as kind,\n",
    "     '2020-08-01 23:59:59' as etldate,\n",
    "        0 as  etlindex,\n",
    "     *,\n",
    "    '2020' as year,\n",
    "    '08' as month,\n",
    "     '01' as day\n",
    "    from `credinex_repeater_emr_etl`.t_risk_blacklist\n",
    "\"\"\")\n",
    "t_risk_blacklist.write.mode(\"append\").partitionBy(\"year\",\"month\",\"day\").orc(\"s3://rupiahplus-data-warehouse/stream/credinex_repeater_etl/t_risk_blacklist/\")\n"
   ]
  },
  {
   "cell_type": "markdown",
   "metadata": {},
   "source": [
    "credinex_hive\n",
    "\"t_role\":\"credinex_hive_t_role\",\n",
    "              \"t_order_pool\":\"credinex_hive_t_order_pool\",\n",
    "              \"t_admin_group_rel\":\"credinex_hive_t_admin_group_rel\"\n",
    "               \"t_group\":\"\"\n",
    "               \"t_code_group\":\"\""
   ]
  },
  {
   "cell_type": "code",
   "execution_count": 36,
   "metadata": {},
   "outputs": [
    {
     "data": {
      "application/vnd.jupyter.widget-view+json": {
       "model_id": "1921e6b3e7984c0d866cb7c648ef0cf1",
       "version_major": 2,
       "version_minor": 0
      },
      "text/plain": [
       "VBox()"
      ]
     },
     "metadata": {},
     "output_type": "display_data"
    },
    {
     "data": {
      "application/vnd.jupyter.widget-view+json": {
       "model_id": "",
       "version_major": 2,
       "version_minor": 0
      },
      "text/plain": [
       "FloatProgress(value=0.0, bar_style='info', description='Progress:', layout=Layout(height='25px', width='50%'),…"
      ]
     },
     "metadata": {},
     "output_type": "display_data"
    }
   ],
   "source": [
    "t_role=spark.sql(\"\"\"\n",
    "    select\n",
    "      'insert' as kind,\n",
    "     '2020-08-01 23:59:59' as etldate,\n",
    "        0 as  etlindex,\n",
    "     *,\n",
    "    '2020' as year,\n",
    "    '08' as month,\n",
    "     '01' as day\n",
    "    from `credinex_hive_emr_etl`.t_role\n",
    "\"\"\")\n",
    "t_role.write.mode(\"append\").partitionBy(\"year\",\"month\",\"day\").orc(\"s3://rupiahplus-data-warehouse/stream/credinex_hive_etl/t_role/\")\n"
   ]
  },
  {
   "cell_type": "code",
   "execution_count": 35,
   "metadata": {},
   "outputs": [
    {
     "data": {
      "application/vnd.jupyter.widget-view+json": {
       "model_id": "90636d71330842c6a92df4d93c0b9cfd",
       "version_major": 2,
       "version_minor": 0
      },
      "text/plain": [
       "VBox()"
      ]
     },
     "metadata": {},
     "output_type": "display_data"
    },
    {
     "data": {
      "application/vnd.jupyter.widget-view+json": {
       "model_id": "",
       "version_major": 2,
       "version_minor": 0
      },
      "text/plain": [
       "FloatProgress(value=0.0, bar_style='info', description='Progress:', layout=Layout(height='25px', width='50%'),…"
      ]
     },
     "metadata": {},
     "output_type": "display_data"
    }
   ],
   "source": [
    "t_order_pool=spark.sql(\"\"\"\n",
    "    select\n",
    "      'insert' as kind,\n",
    "     '2020-08-01 23:59:59' as etldate,\n",
    "        0 as  etlindex,\n",
    "     *,\n",
    "    '2020' as year,\n",
    "    '08' as month,\n",
    "     '01' as day\n",
    "    from `credinex_hive_emr_etl`.t_order_pool\n",
    "\"\"\")\n",
    "t_order_pool.write.mode(\"append\").partitionBy(\"year\",\"month\",\"day\").orc(\"s3://rupiahplus-data-warehouse/stream/credinex_hive_etl/t_order_pool/\")\n"
   ]
  },
  {
   "cell_type": "code",
   "execution_count": 32,
   "metadata": {},
   "outputs": [
    {
     "data": {
      "application/vnd.jupyter.widget-view+json": {
       "model_id": "888b1517705b432cb4b09fcf0d93ba95",
       "version_major": 2,
       "version_minor": 0
      },
      "text/plain": [
       "VBox()"
      ]
     },
     "metadata": {},
     "output_type": "display_data"
    },
    {
     "data": {
      "application/vnd.jupyter.widget-view+json": {
       "model_id": "",
       "version_major": 2,
       "version_minor": 0
      },
      "text/plain": [
       "FloatProgress(value=0.0, bar_style='info', description='Progress:', layout=Layout(height='25px', width='50%'),…"
      ]
     },
     "metadata": {},
     "output_type": "display_data"
    }
   ],
   "source": [
    "t_admin_group_rel=spark.sql(\"\"\"\n",
    "    select\n",
    "      'insert' as kind,\n",
    "     '2020-08-01 23:59:59' as etldate,\n",
    "        0 as  etlindex,\n",
    "     *,\n",
    "    '2020' as year,\n",
    "    '08' as month,\n",
    "     '01' as day\n",
    "    from `credinex_hive_emr_etl`.t_admin_group_rel\n",
    "\"\"\")\n",
    "t_admin_group_rel.write.mode(\"append\").partitionBy(\"year\",\"month\",\"day\").orc(\"s3://rupiahplus-data-warehouse/stream/credinex_hive_etl/t_admin_group_rel/\")\n"
   ]
  },
  {
   "cell_type": "code",
   "execution_count": 34,
   "metadata": {},
   "outputs": [
    {
     "data": {
      "application/vnd.jupyter.widget-view+json": {
       "model_id": "9e32a297d86e48499b679899fbc9f572",
       "version_major": 2,
       "version_minor": 0
      },
      "text/plain": [
       "VBox()"
      ]
     },
     "metadata": {},
     "output_type": "display_data"
    },
    {
     "data": {
      "application/vnd.jupyter.widget-view+json": {
       "model_id": "",
       "version_major": 2,
       "version_minor": 0
      },
      "text/plain": [
       "FloatProgress(value=0.0, bar_style='info', description='Progress:', layout=Layout(height='25px', width='50%'),…"
      ]
     },
     "metadata": {},
     "output_type": "display_data"
    }
   ],
   "source": [
    "t_group=spark.sql(\"\"\"\n",
    "    select\n",
    "      'insert' as kind,\n",
    "     '2020-08-01 23:59:59' as etldate,\n",
    "        0 as  etlindex,\n",
    "     *,\n",
    "    '2020' as year,\n",
    "    '08' as month,\n",
    "     '01' as day\n",
    "    from `credinex_hive_emr_etl`.t_group\n",
    "\"\"\")\n",
    "t_group.write.mode(\"append\").partitionBy(\"year\",\"month\",\"day\").orc(\"s3://rupiahplus-data-warehouse/stream/credinex_hive_etl/t_group/\")\n"
   ]
  },
  {
   "cell_type": "code",
   "execution_count": 33,
   "metadata": {},
   "outputs": [
    {
     "data": {
      "application/vnd.jupyter.widget-view+json": {
       "model_id": "04202f96403d4c379f9ccec417ffc5f6",
       "version_major": 2,
       "version_minor": 0
      },
      "text/plain": [
       "VBox()"
      ]
     },
     "metadata": {},
     "output_type": "display_data"
    },
    {
     "data": {
      "application/vnd.jupyter.widget-view+json": {
       "model_id": "",
       "version_major": 2,
       "version_minor": 0
      },
      "text/plain": [
       "FloatProgress(value=0.0, bar_style='info', description='Progress:', layout=Layout(height='25px', width='50%'),…"
      ]
     },
     "metadata": {},
     "output_type": "display_data"
    }
   ],
   "source": [
    "\n",
    "t_code_group=spark.sql(\"\"\"\n",
    "    select\n",
    "      'insert' as kind,\n",
    "     '2020-08-01 23:59:59' as etldate,\n",
    "        0 as  etlindex,\n",
    "     *,\n",
    "    '2020' as year,\n",
    "    '08' as month,\n",
    "     '01' as day\n",
    "    from `credinex_hive_emr_etl`.t_code_group\n",
    "\"\"\")\n",
    "t_code_group.write.mode(\"append\").partitionBy(\"year\",\"month\",\"day\").orc(\"s3://rupiahplus-data-warehouse/stream/credinex_hive_etl/t_code_group/\")\n"
   ]
  },
  {
   "cell_type": "markdown",
   "metadata": {},
   "source": [
    " \"credinex_account\":{\n",
    "              \"t_credit_balance\":\"credinex_account_t_credit_balance\",\n",
    "              \"t_customer_account\":\"credinex_account_t_customer_account\",\n",
    "              \"t_balance_config\":\"credinex_account_t_balance_config\",\n",
    "              \"t_payment_order\":\"credinex_account_t_payment_order\",\n",
    "              \"t_credit_bill\":\"credinex_account_t_credit_bill\",\n",
    "              \"t_daily_interest\":\"credinex_account_t_daily_interest\",\n",
    "              \"t_ledger_order\":\"credinex_account_t_ledger_order\",\n",
    "              \"t_bill_flow\":\"credinex_account_t_bill_flow\",\n",
    "              \"t_status_history\"\n",
    "       },"
   ]
  },
  {
   "cell_type": "code",
   "execution_count": 1,
   "metadata": {},
   "outputs": [
    {
     "data": {
      "application/vnd.jupyter.widget-view+json": {
       "model_id": "aacc3f5785754d93870f5af062fc4598",
       "version_major": 2,
       "version_minor": 0
      },
      "text/plain": [
       "VBox()"
      ]
     },
     "metadata": {},
     "output_type": "display_data"
    },
    {
     "name": "stdout",
     "output_type": "stream",
     "text": [
      "Starting Spark application\n"
     ]
    },
    {
     "data": {
      "text/html": [
       "<table>\n",
       "<tr><th>ID</th><th>YARN Application ID</th><th>Kind</th><th>State</th><th>Spark UI</th><th>Driver log</th><th>Current session?</th></tr><tr><td>2</td><td>application_1599017567645_0003</td><td>pyspark</td><td>idle</td><td><a target=\"_blank\" href=\"http://ip-172-31-14-2.ap-southeast-1.compute.internal:20888/proxy/application_1599017567645_0003/\">Link</a></td><td><a target=\"_blank\" href=\"http://ip-172-31-13-63.ap-southeast-1.compute.internal:8042/node/containerlogs/container_1599017567645_0003_01_000001/livy\">Link</a></td><td>✔</td></tr></table>"
      ],
      "text/plain": [
       "<IPython.core.display.HTML object>"
      ]
     },
     "metadata": {},
     "output_type": "display_data"
    },
    {
     "data": {
      "application/vnd.jupyter.widget-view+json": {
       "model_id": "",
       "version_major": 2,
       "version_minor": 0
      },
      "text/plain": [
       "FloatProgress(value=0.0, bar_style='info', description='Progress:', layout=Layout(height='25px', width='50%'),…"
      ]
     },
     "metadata": {},
     "output_type": "display_data"
    },
    {
     "name": "stdout",
     "output_type": "stream",
     "text": [
      "SparkSession available as 'spark'.\n"
     ]
    },
    {
     "data": {
      "application/vnd.jupyter.widget-view+json": {
       "model_id": "",
       "version_major": 2,
       "version_minor": 0
      },
      "text/plain": [
       "FloatProgress(value=0.0, bar_style='info', description='Progress:', layout=Layout(height='25px', width='50%'),…"
      ]
     },
     "metadata": {},
     "output_type": "display_data"
    }
   ],
   "source": [
    "t_credit_balance=spark.sql(\"\"\"\n",
    "    select\n",
    "      'insert' as kind,\n",
    "     '2020-08-01 23:59:59' as etldate,\n",
    "        0 as  etlindex,\n",
    "     *,\n",
    "    '2020' as year,\n",
    "    '08' as month,\n",
    "     '01' as day\n",
    "    from `credinex_account_emr_etl`.t_credit_balance\n",
    "\"\"\")\n",
    "t_credit_balance.write.mode(\"append\").partitionBy(\"year\",\"month\",\"day\").orc(\"s3://rupiahplus-data-warehouse/stream/credinex_account_etl/t_credit_balance/\")\n"
   ]
  },
  {
   "cell_type": "code",
   "execution_count": 2,
   "metadata": {},
   "outputs": [
    {
     "data": {
      "application/vnd.jupyter.widget-view+json": {
       "model_id": "c88705344b924c69b228461c20c77ebb",
       "version_major": 2,
       "version_minor": 0
      },
      "text/plain": [
       "VBox()"
      ]
     },
     "metadata": {},
     "output_type": "display_data"
    },
    {
     "data": {
      "application/vnd.jupyter.widget-view+json": {
       "model_id": "",
       "version_major": 2,
       "version_minor": 0
      },
      "text/plain": [
       "FloatProgress(value=0.0, bar_style='info', description='Progress:', layout=Layout(height='25px', width='50%'),…"
      ]
     },
     "metadata": {},
     "output_type": "display_data"
    }
   ],
   "source": [
    "t_customer_account=spark.sql(\"\"\"\n",
    "    select\n",
    "      'insert' as kind,\n",
    "     '2020-08-01 23:59:59' as etldate,\n",
    "        0 as  etlindex,\n",
    "     *,\n",
    "    '2020' as year,\n",
    "    '08' as month,\n",
    "     '01' as day\n",
    "    from `credinex_account_emr_etl`.t_customer_account\n",
    "\"\"\")\n",
    "t_customer_account.write.mode(\"append\").partitionBy(\"year\",\"month\",\"day\").orc(\"s3://rupiahplus-data-warehouse/stream/credinex_account_etl/t_customer_account/\")\n"
   ]
  },
  {
   "cell_type": "code",
   "execution_count": 1,
   "metadata": {},
   "outputs": [
    {
     "name": "stdout",
     "output_type": "stream",
     "text": [
      "Starting Spark application\n"
     ]
    },
    {
     "data": {
      "text/html": [
       "<table>\n",
       "<tr><th>ID</th><th>YARN Application ID</th><th>Kind</th><th>State</th><th>Spark UI</th><th>Driver log</th><th>Current session?</th></tr><tr><td>7</td><td>application_1605152029142_0004</td><td>pyspark</td><td>idle</td><td><a target=\"_blank\" href=\"http://ip-172-31-4-8.ap-southeast-1.compute.internal:20888/proxy/application_1605152029142_0004/\">Link</a></td><td><a target=\"_blank\" href=\"http://ip-172-31-4-227.ap-southeast-1.compute.internal:8042/node/containerlogs/container_1605152029142_0004_01_000001/livy\">Link</a></td><td>✔</td></tr></table>"
      ],
      "text/plain": [
       "<IPython.core.display.HTML object>"
      ]
     },
     "metadata": {},
     "output_type": "display_data"
    },
    {
     "data": {
      "application/vnd.jupyter.widget-view+json": {
       "model_id": "",
       "version_major": 2,
       "version_minor": 0
      },
      "text/plain": [
       "FloatProgress(value=0.0, bar_style='info', description='Progress:', layout=Layout(height='25px', width='50%'),…"
      ]
     },
     "metadata": {},
     "output_type": "display_data"
    },
    {
     "name": "stdout",
     "output_type": "stream",
     "text": [
      "SparkSession available as 'spark'.\n"
     ]
    },
    {
     "data": {
      "application/vnd.jupyter.widget-view+json": {
       "model_id": "",
       "version_major": 2,
       "version_minor": 0
      },
      "text/plain": [
       "FloatProgress(value=0.0, bar_style='info', description='Progress:', layout=Layout(height='25px', width='50%'),…"
      ]
     },
     "metadata": {},
     "output_type": "display_data"
    }
   ],
   "source": [
    "t_balance_config=spark.sql(\"\"\"\n",
    "    select\n",
    "      'insert' as kind,\n",
    "     '2020-08-01 23:59:59' as etldate,\n",
    "        0 as  etlindex,\n",
    "     *,\n",
    "    '2020' as year,\n",
    "    '08' as month,\n",
    "     '01' as day\n",
    "    from `credinex_account_emr_etl`.t_balance_config\n",
    "\"\"\")\n",
    "t_balance_config.write.mode(\"append\").partitionBy(\"year\",\"month\",\"day\").orc(\"s3://rupiahplus-data-warehouse/stream/credinex_account_etl/t_balance_config/\")\n"
   ]
  },
  {
   "cell_type": "code",
   "execution_count": 4,
   "metadata": {},
   "outputs": [
    {
     "data": {
      "application/vnd.jupyter.widget-view+json": {
       "model_id": "4e12a16e17e7443c87cf71626e65c5be",
       "version_major": 2,
       "version_minor": 0
      },
      "text/plain": [
       "VBox()"
      ]
     },
     "metadata": {},
     "output_type": "display_data"
    },
    {
     "data": {
      "application/vnd.jupyter.widget-view+json": {
       "model_id": "",
       "version_major": 2,
       "version_minor": 0
      },
      "text/plain": [
       "FloatProgress(value=0.0, bar_style='info', description='Progress:', layout=Layout(height='25px', width='50%'),…"
      ]
     },
     "metadata": {},
     "output_type": "display_data"
    }
   ],
   "source": [
    "t_payment_order=spark.sql(\"\"\"\n",
    "    select\n",
    "      'insert' as kind,\n",
    "     '2020-08-01 23:59:59' as etldate,\n",
    "        0 as  etlindex,\n",
    "     *,\n",
    "    '2020' as year,\n",
    "    '08' as month,\n",
    "     '01' as day\n",
    "    from `credinex_account_emr_etl`.t_payment_order\n",
    "\"\"\")\n",
    "t_payment_order.write.mode(\"append\").partitionBy(\"year\",\"month\",\"day\").orc(\"s3://rupiahplus-data-warehouse/stream/credinex_account_etl/t_payment_order/\")\n"
   ]
  },
  {
   "cell_type": "code",
   "execution_count": 4,
   "metadata": {},
   "outputs": [
    {
     "data": {
      "application/vnd.jupyter.widget-view+json": {
       "model_id": "78b9720faa294a4dbbaea362e3f5c472",
       "version_major": 2,
       "version_minor": 0
      },
      "text/plain": [
       "VBox()"
      ]
     },
     "metadata": {},
     "output_type": "display_data"
    },
    {
     "data": {
      "application/vnd.jupyter.widget-view+json": {
       "model_id": "",
       "version_major": 2,
       "version_minor": 0
      },
      "text/plain": [
       "FloatProgress(value=0.0, bar_style='info', description='Progress:', layout=Layout(height='25px', width='50%'),…"
      ]
     },
     "metadata": {},
     "output_type": "display_data"
    }
   ],
   "source": [
    "t_credit_bill=spark.sql(\"\"\"\n",
    "    select\n",
    "      'insert' as kind,\n",
    "     '2020-08-01 23:59:59' as etldate,\n",
    "        0 as  etlindex,\n",
    "     *,\n",
    "    '2020' as year,\n",
    "    '08' as month,\n",
    "     '01' as day\n",
    "    from `credinex_account_emr_etl`.t_credit_bill\n",
    "\"\"\")\n",
    "t_credit_bill.write.mode(\"append\").partitionBy(\"year\",\"month\",\"day\").orc(\"s3://rupiahplus-data-warehouse/stream/credinex_account_etl/t_credit_bill/\")\n"
   ]
  },
  {
   "cell_type": "code",
   "execution_count": 6,
   "metadata": {},
   "outputs": [
    {
     "data": {
      "application/vnd.jupyter.widget-view+json": {
       "model_id": "a860d80a22004ae983d767eb39447cc6",
       "version_major": 2,
       "version_minor": 0
      },
      "text/plain": [
       "VBox()"
      ]
     },
     "metadata": {},
     "output_type": "display_data"
    },
    {
     "data": {
      "application/vnd.jupyter.widget-view+json": {
       "model_id": "",
       "version_major": 2,
       "version_minor": 0
      },
      "text/plain": [
       "FloatProgress(value=0.0, bar_style='info', description='Progress:', layout=Layout(height='25px', width='50%'),…"
      ]
     },
     "metadata": {},
     "output_type": "display_data"
    }
   ],
   "source": [
    "t_daily_interest=spark.sql(\"\"\"\n",
    "    select\n",
    "      'insert' as kind,\n",
    "     '2020-08-01 23:59:59' as etldate,\n",
    "        0 as  etlindex,\n",
    "     *,\n",
    "    '2020' as year,\n",
    "    '08' as month,\n",
    "     '01' as day\n",
    "    from `credinex_account_emr_etl`.t_daily_interest\n",
    "\n",
    "\"\"\")\n",
    "t_daily_interest.write.mode(\"append\").partitionBy(\"year\",\"month\",\"day\").orc(\"s3://rupiahplus-data-warehouse/stream/credinex_account_etl/t_daily_interest/\")\n"
   ]
  },
  {
   "cell_type": "code",
   "execution_count": 7,
   "metadata": {},
   "outputs": [
    {
     "data": {
      "application/vnd.jupyter.widget-view+json": {
       "model_id": "7023f0fbe9ec4241b7d603f7bac88ab5",
       "version_major": 2,
       "version_minor": 0
      },
      "text/plain": [
       "VBox()"
      ]
     },
     "metadata": {},
     "output_type": "display_data"
    },
    {
     "data": {
      "application/vnd.jupyter.widget-view+json": {
       "model_id": "",
       "version_major": 2,
       "version_minor": 0
      },
      "text/plain": [
       "FloatProgress(value=0.0, bar_style='info', description='Progress:', layout=Layout(height='25px', width='50%'),…"
      ]
     },
     "metadata": {},
     "output_type": "display_data"
    }
   ],
   "source": [
    "t_ledger_order=spark.sql(\"\"\"\n",
    "    select\n",
    "      'insert' as kind,\n",
    "     '2020-07-01 23:59:59' as etldate,\n",
    "        0 as  etlindex,\n",
    "     *,\n",
    "    '2020' as year,\n",
    "    '07' as month,\n",
    "     '01' as day\n",
    "    from `credinex_account_emr_etl`.t_ledger_order\n",
    "\n",
    "\"\"\")\n",
    "t_ledger_order.write.mode(\"append\").partitionBy(\"year\",\"month\",\"day\").orc(\"s3://rupiahplus-data-warehouse/stream/credinex_account_etl/t_ledger_order/\")\n"
   ]
  },
  {
   "cell_type": "code",
   "execution_count": 3,
   "metadata": {},
   "outputs": [
    {
     "data": {
      "application/vnd.jupyter.widget-view+json": {
       "model_id": "360f291d54064bda8a81e2c76f6a5945",
       "version_major": 2,
       "version_minor": 0
      },
      "text/plain": [
       "VBox()"
      ]
     },
     "metadata": {},
     "output_type": "display_data"
    },
    {
     "data": {
      "application/vnd.jupyter.widget-view+json": {
       "model_id": "",
       "version_major": 2,
       "version_minor": 0
      },
      "text/plain": [
       "FloatProgress(value=0.0, bar_style='info', description='Progress:', layout=Layout(height='25px', width='50%'),…"
      ]
     },
     "metadata": {},
     "output_type": "display_data"
    }
   ],
   "source": [
    "t_bill_flow=spark.sql(\"\"\"\n",
    "    select\n",
    "      'insert' as kind,\n",
    "     '2020-07-01 23:59:59' as etldate,\n",
    "        0 as  etlindex,\n",
    "     *,\n",
    "    '2020' as year,\n",
    "    '07' as month,\n",
    "     '01' as day\n",
    "    from `credinex_account_emr_etl`.t_bill_flow\n",
    "\n",
    "\"\"\")\n",
    "t_bill_flow.write.mode(\"append\").partitionBy(\"year\",\"month\",\"day\").orc(\"s3://rupiahplus-data-warehouse/stream/credinex_account_etl/t_bill_flow/\")\n"
   ]
  },
  {
   "cell_type": "code",
   "execution_count": 1,
   "metadata": {},
   "outputs": [
    {
     "data": {
      "application/vnd.jupyter.widget-view+json": {
       "model_id": "3c65c919f3084ec582ae18d6e1d76d9f",
       "version_major": 2,
       "version_minor": 0
      },
      "text/plain": [
       "VBox()"
      ]
     },
     "metadata": {},
     "output_type": "display_data"
    },
    {
     "name": "stdout",
     "output_type": "stream",
     "text": [
      "Starting Spark application\n"
     ]
    },
    {
     "data": {
      "text/html": [
       "<table>\n",
       "<tr><th>ID</th><th>YARN Application ID</th><th>Kind</th><th>State</th><th>Spark UI</th><th>Driver log</th><th>Current session?</th></tr><tr><td>4</td><td>application_1606961950568_0005</td><td>pyspark</td><td>idle</td><td><a target=\"_blank\" href=\"http://ip-172-31-4-186.ap-southeast-1.compute.internal:20888/proxy/application_1606961950568_0005/\">Link</a></td><td><a target=\"_blank\" href=\"http://ip-172-31-6-49.ap-southeast-1.compute.internal:8042/node/containerlogs/container_1606961950568_0005_01_000001/livy\">Link</a></td><td>✔</td></tr></table>"
      ],
      "text/plain": [
       "<IPython.core.display.HTML object>"
      ]
     },
     "metadata": {},
     "output_type": "display_data"
    },
    {
     "data": {
      "application/vnd.jupyter.widget-view+json": {
       "model_id": "",
       "version_major": 2,
       "version_minor": 0
      },
      "text/plain": [
       "FloatProgress(value=0.0, bar_style='info', description='Progress:', layout=Layout(height='25px', width='50%'),…"
      ]
     },
     "metadata": {},
     "output_type": "display_data"
    },
    {
     "name": "stdout",
     "output_type": "stream",
     "text": [
      "SparkSession available as 'spark'.\n"
     ]
    },
    {
     "data": {
      "application/vnd.jupyter.widget-view+json": {
       "model_id": "",
       "version_major": 2,
       "version_minor": 0
      },
      "text/plain": [
       "FloatProgress(value=0.0, bar_style='info', description='Progress:', layout=Layout(height='25px', width='50%'),…"
      ]
     },
     "metadata": {},
     "output_type": "display_data"
    }
   ],
   "source": [
    "t_status_history=spark.sql(\"\"\"\n",
    "    select\n",
    "      'insert' as kind,\n",
    "     '2020-08-01 23:59:59' as etldate,\n",
    "        0 as  etlindex,\n",
    "     *,\n",
    "    '2020' as year,\n",
    "    '08' as month,\n",
    "     '01' as day\n",
    "    from `credinex_account_emr_etl`.t_status_history\n",
    "\n",
    "\"\"\")\n",
    "t_status_history.write.mode(\"append\").partitionBy(\"year\",\"month\",\"day\").orc(\"s3://rupiahplus-data-warehouse/stream/credinex_account_etl/t_status_history/\")\n"
   ]
  },
  {
   "cell_type": "code",
   "execution_count": 1,
   "metadata": {},
   "outputs": [
    {
     "data": {
      "application/vnd.jupyter.widget-view+json": {
       "model_id": "faacb2068cf04688b77492e424b73737",
       "version_major": 2,
       "version_minor": 0
      },
      "text/plain": [
       "VBox()"
      ]
     },
     "metadata": {},
     "output_type": "display_data"
    },
    {
     "name": "stdout",
     "output_type": "stream",
     "text": [
      "Starting Spark application\n"
     ]
    },
    {
     "data": {
      "text/html": [
       "<table>\n",
       "<tr><th>ID</th><th>YARN Application ID</th><th>Kind</th><th>State</th><th>Spark UI</th><th>Driver log</th><th>Current session?</th></tr><tr><td>2</td><td>application_1608177785920_0003</td><td>pyspark</td><td>idle</td><td><a target=\"_blank\" href=\"http://ip-10-3-0-84.ap-southeast-1.compute.internal:20888/proxy/application_1608177785920_0003/\">Link</a></td><td><a target=\"_blank\" href=\"http://ip-10-3-0-34.ap-southeast-1.compute.internal:8042/node/containerlogs/container_1608177785920_0003_01_000001/livy\">Link</a></td><td>✔</td></tr></table>"
      ],
      "text/plain": [
       "<IPython.core.display.HTML object>"
      ]
     },
     "metadata": {},
     "output_type": "display_data"
    },
    {
     "data": {
      "application/vnd.jupyter.widget-view+json": {
       "model_id": "",
       "version_major": 2,
       "version_minor": 0
      },
      "text/plain": [
       "FloatProgress(value=0.0, bar_style='info', description='Progress:', layout=Layout(height='25px', width='50%'),…"
      ]
     },
     "metadata": {},
     "output_type": "display_data"
    },
    {
     "name": "stdout",
     "output_type": "stream",
     "text": [
      "SparkSession available as 'spark'.\n"
     ]
    },
    {
     "data": {
      "application/vnd.jupyter.widget-view+json": {
       "model_id": "",
       "version_major": 2,
       "version_minor": 0
      },
      "text/plain": [
       "FloatProgress(value=0.0, bar_style='info', description='Progress:', layout=Layout(height='25px', width='50%'),…"
      ]
     },
     "metadata": {},
     "output_type": "display_data"
    }
   ],
   "source": [
    "t_daily_info=spark.sql(\"\"\"\n",
    "    select\n",
    "      'insert' as kind,\n",
    "     '2020-08-01 23:59:59' as etldate,\n",
    "        0 as  etlindex,\n",
    "     *,\n",
    "    '2020' as year,\n",
    "    '08' as month,\n",
    "     '01' as day\n",
    "    from `credinex_account_emr_etl`.t_daily_info\n",
    "\n",
    "\"\"\")\n",
    "t_daily_info.write.mode(\"append\").partitionBy(\"year\",\"month\",\"day\").orc(\"s3://rupiahplus-data-warehouse/stream/credinex_account_etl/t_daily_info/\")\n"
   ]
  }
 ],
 "metadata": {
  "kernelspec": {
   "display_name": "PySpark",
   "language": "",
   "name": "pysparkkernel"
  },
  "language_info": {
   "codemirror_mode": {
    "name": "python",
    "version": 2
   },
   "mimetype": "text/x-python",
   "name": "pyspark",
   "pygments_lexer": "python2"
  }
 },
 "nbformat": 4,
 "nbformat_minor": 4
}
