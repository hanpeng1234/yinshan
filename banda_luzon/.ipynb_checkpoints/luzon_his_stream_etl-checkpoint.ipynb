{
 "cells": [
  {
   "cell_type": "code",
   "execution_count": 3,
   "metadata": {},
   "outputs": [
    {
     "data": {
      "application/vnd.jupyter.widget-view+json": {
       "model_id": "80b35fc908244da48864df3836a2578a",
       "version_major": 2,
       "version_minor": 0
      },
      "text/plain": [
       "VBox()"
      ]
     },
     "metadata": {},
     "output_type": "display_data"
    },
    {
     "data": {
      "application/vnd.jupyter.widget-view+json": {
       "model_id": "",
       "version_major": 2,
       "version_minor": 0
      },
      "text/plain": [
       "FloatProgress(value=0.0, bar_style='info', description='Progress:', layout=Layout(height='25px', width='50%'),…"
      ]
     },
     "metadata": {},
     "output_type": "display_data"
    },
    {
     "name": "stdout",
     "output_type": "stream",
     "text": [
      "+------+--------+-----------+--------------------------+-------+-----------+----------+-------+---------------------------------------------------------------------------------------------------------------------------------------------------------------------------------------------------------------------------------------------------------------------------------------------------------+-----------------------+----+------+-------------+------+-----------------------+----+-----+---+\n",
      "|id    |admin_id|access_mode|topic                     |subject|loan_app_id|param_l   |param_h|comment                                                                                                                                                                                                                                                                                                  |create_time            |ip  |kind  |tablenm      |schema|etldate                |year|month|day|\n",
      "+------+--------+-----------+--------------------------+-------+-----------+----------+-------+---------------------------------------------------------------------------------------------------------------------------------------------------------------------------------------------------------------------------------------------------------------------------------------------------------+-----------------------+----+------+-------------+------+-----------------------+----+-----+---+\n",
      "|795142|100059  |PRIVATE    |REVIEW_COMMENTS           |INSERT |240590     |null      |null   |call- Will Pay(primary number)( Send Payment Details)(date: 12/06/2019)(time: 6PM)(call back time: 5:30PM)(payment channel: ml )(updated number:NONE )                                                                                                                                                   |2019-12-05 07:40:05.983|null|insert|t_admin_audit|public|2019-12-05 15:40:5.986 |2019|12   |05 |\n",
      "|795143|100059  |PRIVATE    |REVIEW_COLLECTION_COMMENTS|INSERT |240590     |2019-12-06|null   |{\"collectionMethod\":\"PhoneCall\",\"userPhoneStatus\":\"Contacted\",\"overdueReason\":\"Others\",\"conclusion\":\"PromiseToPay\",\"callbackTime\":\"\",\"comments\":\"call- Will Pay(primary number)( Send Payment Details)(date: 12/06/2019)(time: 6PM)(call back time: 5:30PM)(payment channel: ml )(updated number:NONE )\"}|2019-12-05 07:40:05.983|null|insert|t_admin_audit|public|2019-12-05 15:40:5.986 |2019|12   |05 |\n",
      "|795144|100061  |PRIVATE    |REVIEW_COMMENTS           |INSERT |228799     |null      |null   |Primary Number ll 639359838751 REJECT CALL l 09124854136 U/A l Task: Uncontacted ll Send Suitcase SMS                                                                                                                                                                                                    |2019-12-05 07:41:11.715|null|insert|t_admin_audit|public|2019-12-05 15:41:11.717|2019|12   |05 |\n",
      "|795145|100061  |PRIVATE    |REVIEW_COLLECTION_COMMENTS|INSERT |228799     |null      |null   |{\"collectionMethod\":\"PhoneCall\",\"userPhoneStatus\":\"UnContacted\",\"overdueReason\":\"Others\",\"conclusion\":\"AutoReject\",\"callbackTime\":\"\",\"comments\":\"Primary Number ll 639359838751 REJECT CALL l 09124854136 U/A l Task: Uncontacted ll Send Suitcase SMS\"}                                                 |2019-12-05 07:41:11.715|null|insert|t_admin_audit|public|2019-12-05 15:41:11.717|2019|12   |05 |\n",
      "|795146|100069  |PRIVATE    |REVIEW_COMMENTS           |INSERT |235188     |null      |null   |call will Pay(primary number)( Send Payment Details)(date: 12/5/2019)(time: 5pm)(call back time: 4:30pm) (payment channel: 711) (updated number:none)                                                                                                                                                    |2019-12-05 07:41:23.245|null|insert|t_admin_audit|public|2019-12-05 15:41:23.249|2019|12   |05 |\n",
      "|795147|100069  |PRIVATE    |REVIEW_COLLECTION_COMMENTS|INSERT |235188     |2019-12-05|null   |{\"collectionMethod\":\"PhoneCall\",\"userPhoneStatus\":\"Contacted\",\"overdueReason\":\"Others\",\"conclusion\":\"PromiseToPay\",\"callbackTime\":\"\",\"comments\":\"call will Pay(primary number)( Send Payment Details)(date: 12/5/2019)(time: 5pm)(call back time: 4:30pm) (payment channel: 711) (updated number:none)\"} |2019-12-05 07:41:23.245|null|insert|t_admin_audit|public|2019-12-05 15:41:23.249|2019|12   |05 |\n",
      "|795148|100072  |PRIVATE    |REVIEW_COMMENTS           |INSERT |237190     |null      |null   |call result to primary # CBR 2ND # CBR ( SEND A ENCOURAGE SMS)                                                                                                                                                                                                                                           |2019-12-05 07:41:45.368|null|insert|t_admin_audit|public|2019-12-05 15:41:45.370|2019|12   |05 |\n",
      "|795149|100072  |PRIVATE    |REVIEW_COLLECTION_COMMENTS|INSERT |237190     |null      |null   |{\"collectionMethod\":\"PhoneCall\",\"userPhoneStatus\":\"UnContacted\",\"overdueReason\":\"Others\",\"conclusion\":\"Unattended\",\"callbackTime\":\"\",\"comments\":\"call result to primary # CBR 2ND # CBR ( SEND A ENCOURAGE SMS)\"}                                                                                        |2019-12-05 07:41:45.368|null|insert|t_admin_audit|public|2019-12-05 15:41:45.370|2019|12   |05 |\n",
      "|795150|100059  |PRIVATE    |REVIEW_COMMENTS           |INSERT |240419     |null      |null   |call result to primary #cbr  and 2nd #none ( send a payment reminder)                                                                                                                                                                                                                                    |2019-12-05 07:42:13.577|null|insert|t_admin_audit|public|2019-12-05 15:42:13.585|2019|12   |05 |\n",
      "|795151|100059  |PRIVATE    |REVIEW_COLLECTION_COMMENTS|INSERT |240419     |null      |null   |{\"collectionMethod\":\"PhoneCall\",\"userPhoneStatus\":\"UnContacted\",\"overdueReason\":\"Others\",\"conclusion\":\"PTPFollowUp\",\"callbackTime\":\"\",\"comments\":\"call result to primary #cbr  and 2nd #none ( send a payment reminder)\"}                                                                                |2019-12-05 07:42:13.577|null|insert|t_admin_audit|public|2019-12-05 15:42:13.585|2019|12   |05 |\n",
      "+------+--------+-----------+--------------------------+-------+-----------+----------+-------+---------------------------------------------------------------------------------------------------------------------------------------------------------------------------------------------------------------------------------------------------------------------------------------------------------+-----------------------+----+------+-------------+------+-----------------------+----+-----+---+\n",
      "only showing top 10 rows"
     ]
    }
   ],
   "source": [
    "df1=spark.sql(\"\"\"\n",
    "select \n",
    "  * from  luzon_stream_etl.t_admin_audit\n",
    "\"\"\").show(10,False)\n",
    "# thirdparty_advance_ai_multi_platform_records.write.mode(\"append\").partitionBy(\"year\",\"month\",\"day\").orc(\"s3://rupiahplus-data-warehouse/stream/thirdparty/thirdparty_advance_ai_multi_platform_records/\")"
   ]
  },
  {
   "cell_type": "code",
   "execution_count": 2,
   "metadata": {},
   "outputs": [
    {
     "data": {
      "application/vnd.jupyter.widget-view+json": {
       "model_id": "55a1f34e604d43848ddd442fb09fbd9c",
       "version_major": 2,
       "version_minor": 0
      },
      "text/plain": [
       "VBox()"
      ]
     },
     "metadata": {},
     "output_type": "display_data"
    },
    {
     "data": {
      "application/vnd.jupyter.widget-view+json": {
       "model_id": "",
       "version_major": 2,
       "version_minor": 0
      },
      "text/plain": [
       "FloatProgress(value=0.0, bar_style='info', description='Progress:', layout=Layout(height='25px', width='50%'),…"
      ]
     },
     "metadata": {},
     "output_type": "display_data"
    },
    {
     "name": "stdout",
     "output_type": "stream",
     "text": [
      "+--------+\n",
      "|count(1)|\n",
      "+--------+\n",
      "|  698679|\n",
      "+--------+"
     ]
    }
   ],
   "source": [
    "t_admin_audit=spark.sql(\"\"\"\n",
    "select \n",
    "  count(1)\n",
    "  from  `luzon_etl_s3`.`t_admin_audit` \n",
    "  where id< 798826\n",
    "\"\"\").show();\n",
    "# t_admin_audit.write.mode(\"append\").partitionBy(\"year\",\"month\",\"day\").orc(\"s3://rupiahplus-data-warehouse/stream/luzon_etl/t_admin_audit/\")"
   ]
  },
  {
   "cell_type": "code",
   "execution_count": 1,
   "metadata": {},
   "outputs": [
    {
     "data": {
      "application/vnd.jupyter.widget-view+json": {
       "model_id": "4c7c57b128084ee78b158812d3f88423",
       "version_major": 2,
       "version_minor": 0
      },
      "text/plain": [
       "VBox()"
      ]
     },
     "metadata": {},
     "output_type": "display_data"
    },
    {
     "name": "stdout",
     "output_type": "stream",
     "text": [
      "Starting Spark application\n"
     ]
    },
    {
     "data": {
      "text/html": [
       "<table>\n",
       "<tr><th>ID</th><th>YARN Application ID</th><th>Kind</th><th>State</th><th>Spark UI</th><th>Driver log</th><th>Current session?</th></tr><tr><td>5</td><td>application_1580712666449_0006</td><td>pyspark</td><td>idle</td><td><a target=\"_blank\" href=\"http://ip-172-31-4-142.ap-southeast-1.compute.internal:20888/proxy/application_1580712666449_0006/\">Link</a></td><td><a target=\"_blank\" href=\"http://ip-172-31-3-248.ap-southeast-1.compute.internal:8042/node/containerlogs/container_1580712666449_0006_01_000001/livy\">Link</a></td><td>✔</td></tr></table>"
      ],
      "text/plain": [
       "<IPython.core.display.HTML object>"
      ]
     },
     "metadata": {},
     "output_type": "display_data"
    },
    {
     "data": {
      "application/vnd.jupyter.widget-view+json": {
       "model_id": "",
       "version_major": 2,
       "version_minor": 0
      },
      "text/plain": [
       "FloatProgress(value=0.0, bar_style='info', description='Progress:', layout=Layout(height='25px', width='50%'),…"
      ]
     },
     "metadata": {},
     "output_type": "display_data"
    },
    {
     "name": "stdout",
     "output_type": "stream",
     "text": [
      "SparkSession available as 'spark'.\n"
     ]
    },
    {
     "data": {
      "application/vnd.jupyter.widget-view+json": {
       "model_id": "",
       "version_major": 2,
       "version_minor": 0
      },
      "text/plain": [
       "FloatProgress(value=0.0, bar_style='info', description='Progress:', layout=Layout(height='25px', width='50%'),…"
      ]
     },
     "metadata": {},
     "output_type": "display_data"
    }
   ],
   "source": [
    "t_admin_audit=spark.sql(\"\"\"\n",
    "select \n",
    "  'insert' as kind,\n",
    "  '2019-12-30 23:59:59' as etldate,\n",
    "  id,\n",
    "  admin_id,\n",
    "  access_mode,\n",
    "  topic,\n",
    "  subject,\n",
    "  loan_app_id,\n",
    "  param_l,\n",
    "  param_h,\n",
    "  comment,\n",
    "  create_time,\n",
    "  ip,\n",
    "  '2019' as year,\n",
    "  '12' as month,\n",
    "  '30' as day\n",
    "  from  `luzon_etl_s3`.`t_admin_audit` \n",
    "  where id< 928887\n",
    "\"\"\")\n",
    "t_admin_audit.write.mode(\"append\").partitionBy(\"year\",\"month\",\"day\").orc(\"s3://rupiahplus-data-warehouse/stream/luzon_etl/t_admin_audit/\")"
   ]
  },
  {
   "cell_type": "code",
   "execution_count": 1,
   "metadata": {},
   "outputs": [
    {
     "data": {
      "application/vnd.jupyter.widget-view+json": {
       "model_id": "c87e5384e4c94587877f0109c9838fa8",
       "version_major": 2,
       "version_minor": 0
      },
      "text/plain": [
       "VBox()"
      ]
     },
     "metadata": {},
     "output_type": "display_data"
    },
    {
     "name": "stdout",
     "output_type": "stream",
     "text": [
      "Starting Spark application\n"
     ]
    },
    {
     "data": {
      "text/html": [
       "<table>\n",
       "<tr><th>ID</th><th>YARN Application ID</th><th>Kind</th><th>State</th><th>Spark UI</th><th>Driver log</th><th>Current session?</th></tr><tr><td>0</td><td>application_1576057367579_0001</td><td>pyspark</td><td>idle</td><td><a target=\"_blank\" href=\"http://ip-172-31-0-146.ap-southeast-1.compute.internal:20888/proxy/application_1576057367579_0001/\">Link</a></td><td><a target=\"_blank\" href=\"http://ip-172-31-14-8.ap-southeast-1.compute.internal:8042/node/containerlogs/container_1576057367579_0001_01_000001/livy\">Link</a></td><td>✔</td></tr></table>"
      ],
      "text/plain": [
       "<IPython.core.display.HTML object>"
      ]
     },
     "metadata": {},
     "output_type": "display_data"
    },
    {
     "data": {
      "application/vnd.jupyter.widget-view+json": {
       "model_id": "",
       "version_major": 2,
       "version_minor": 0
      },
      "text/plain": [
       "FloatProgress(value=0.0, bar_style='info', description='Progress:', layout=Layout(height='25px', width='50%'),…"
      ]
     },
     "metadata": {},
     "output_type": "display_data"
    },
    {
     "name": "stdout",
     "output_type": "stream",
     "text": [
      "SparkSession available as 'spark'.\n"
     ]
    },
    {
     "data": {
      "application/vnd.jupyter.widget-view+json": {
       "model_id": "",
       "version_major": 2,
       "version_minor": 0
      },
      "text/plain": [
       "FloatProgress(value=0.0, bar_style='info', description='Progress:', layout=Layout(height='25px', width='50%'),…"
      ]
     },
     "metadata": {},
     "output_type": "display_data"
    }
   ],
   "source": [
    "t_admin_audit=spark.sql(\"\"\"\n",
    "select \n",
    "  id,\n",
    "  admin_id,\n",
    "  access_mode,\n",
    "  topic,\n",
    "  subject,\n",
    "  loan_app_id,\n",
    "  param_l,\n",
    "  param_h,\n",
    "  \n",
    "  comment,\n",
    "  create_time,\n",
    "  ip,\n",
    "  'insert' as kind,\n",
    "  't_admin_audit' as tablenm,\n",
    "  'public' as schema,\n",
    "  '2019-12-11 9:51:17.485' as etldate,\n",
    "  '2019' as year,\n",
    "  '12' as month,\n",
    "  '11' as day\n",
    "  from  `luzon_etl_s3`.`t_admin_audit` \n",
    "  where id in (809256,809257,809258,809259,809260,809261,809262)\n",
    "\"\"\")\n",
    "t_admin_audit.write.mode(\"append\").partitionBy(\"year\",\"month\",\"day\").orc(\"s3://rupiahplus-data-warehouse/stream/luzon_etl/t_admin_audit/\")"
   ]
  },
  {
   "cell_type": "code",
   "execution_count": 2,
   "metadata": {},
   "outputs": [
    {
     "data": {
      "application/vnd.jupyter.widget-view+json": {
       "model_id": "520db2d0a4fc4832b94b6030081f719d",
       "version_major": 2,
       "version_minor": 0
      },
      "text/plain": [
       "VBox()"
      ]
     },
     "metadata": {},
     "output_type": "display_data"
    },
    {
     "data": {
      "application/vnd.jupyter.widget-view+json": {
       "model_id": "",
       "version_major": 2,
       "version_minor": 0
      },
      "text/plain": [
       "FloatProgress(value=0.0, bar_style='info', description='Progress:', layout=Layout(height='25px', width='50%'),…"
      ]
     },
     "metadata": {},
     "output_type": "display_data"
    }
   ],
   "source": [
    "t_auto_review_loan=spark.sql(\"\"\"\n",
    "select \n",
    "  'insert' as kind,\n",
    "  '2019-12-30 23:59:59' as etldate,\n",
    "  id,\n",
    "  riskengine_id,\n",
    "  customer_id,\n",
    "  loan_id,\n",
    "  name,\n",
    "  ktp,\n",
    "  mobile,\n",
    "  cast(success as string) as success,\n",
    "  error_message,\n",
    "  result,\n",
    "  reject_message,\n",
    "  create_time,\n",
    "  finish_time,\n",
    "  duration,\n",
    "  real_policy,\n",
    "  switch_manual_reason,\n",
    "  raw_data,\n",
    "  '2019' as year,\n",
    "  '12' as month,\n",
    "  '30' as day\n",
    "  from  `luzon_etl_s3`.`t_auto_review_loan` \n",
    "  where id< 1182918\n",
    "\"\"\")\n",
    "t_auto_review_loan.write.mode(\"append\").partitionBy(\"year\",\"month\",\"day\").orc(\"s3://rupiahplus-data-warehouse/stream/luzon_etl/t_auto_review_loan/\")"
   ]
  },
  {
   "cell_type": "code",
   "execution_count": 3,
   "metadata": {},
   "outputs": [
    {
     "data": {
      "application/vnd.jupyter.widget-view+json": {
       "model_id": "3368b4d1a2364068892fe479026ccecc",
       "version_major": 2,
       "version_minor": 0
      },
      "text/plain": [
       "VBox()"
      ]
     },
     "metadata": {},
     "output_type": "display_data"
    },
    {
     "data": {
      "application/vnd.jupyter.widget-view+json": {
       "model_id": "",
       "version_major": 2,
       "version_minor": 0
      },
      "text/plain": [
       "FloatProgress(value=0.0, bar_style='info', description='Progress:', layout=Layout(height='25px', width='50%'),…"
      ]
     },
     "metadata": {},
     "output_type": "display_data"
    }
   ],
   "source": [
    "t_auto_review_loan=spark.sql(\"\"\"\n",
    "select \n",
    "  id,\n",
    "  riskengine_id,\n",
    "  customer_id,\n",
    "  loan_id,\n",
    "  name,\n",
    "  ktp,\n",
    "  mobile,\n",
    "  cast(success as string) as success,\n",
    "  error_message,\n",
    "  result,\n",
    "  reject_message,\n",
    "  create_time,\n",
    "  finish_time,\n",
    "  duration,\n",
    "  real_policy,\n",
    "  switch_manual_reason,\n",
    "  raw_data,\n",
    "  'insert' as kind,\n",
    "  't_auto_review_loan' as tablenm,\n",
    "  'public' as schema,\n",
    "  '2019-12-11 09:52:40.76' as etldate,\n",
    "  '2019' as year,\n",
    "  '12' as month,\n",
    "  '11' as day\n",
    "  from  `luzon_etl_s3`.`t_auto_review_loan` \n",
    "  where id in (1147526,1147527,1147528,1147529)\n",
    "\"\"\")\n",
    "t_auto_review_loan.write.mode(\"append\").partitionBy(\"year\",\"month\",\"day\").orc(\"s3://rupiahplus-data-warehouse/stream/luzon_etl/t_auto_review_loan/\")"
   ]
  },
  {
   "cell_type": "code",
   "execution_count": 3,
   "metadata": {},
   "outputs": [
    {
     "data": {
      "application/vnd.jupyter.widget-view+json": {
       "model_id": "18df29455762451f9ca562b2a5cda2f5",
       "version_major": 2,
       "version_minor": 0
      },
      "text/plain": [
       "VBox()"
      ]
     },
     "metadata": {},
     "output_type": "display_data"
    },
    {
     "data": {
      "application/vnd.jupyter.widget-view+json": {
       "model_id": "",
       "version_major": 2,
       "version_minor": 0
      },
      "text/plain": [
       "FloatProgress(value=0.0, bar_style='info', description='Progress:', layout=Layout(height='25px', width='50%'),…"
      ]
     },
     "metadata": {},
     "output_type": "display_data"
    }
   ],
   "source": [
    "t_bankcard=spark.sql(\"\"\"\n",
    "select \n",
    "  'insert' as kind,\n",
    "  '2019-12-30 23:59:59' as etldate,\n",
    "  id,\n",
    "  customer_id,\n",
    "  loan_app_id,\n",
    "  card_no,\n",
    "  bank_code,\n",
    "  province,\n",
    "  city,\n",
    "  branch,\n",
    "  verify_account_holder_name,\n",
    "  verify_status,\n",
    "  create_time,\n",
    "  update_time,\n",
    "  holder_name,\n",
    "  validation_id,\n",
    "  '2019' as year,\n",
    "  '12' as month,\n",
    "  '30' as day\n",
    "  from  `luzon_etl_s3`.`t_bankcard` \n",
    "  where id< 153146\n",
    "\"\"\")\n",
    "t_bankcard.write.mode(\"append\").partitionBy(\"year\",\"month\",\"day\").orc(\"s3://rupiahplus-data-warehouse/stream/luzon_etl/t_bankcard/\")"
   ]
  },
  {
   "cell_type": "code",
   "execution_count": 5,
   "metadata": {},
   "outputs": [
    {
     "data": {
      "application/vnd.jupyter.widget-view+json": {
       "model_id": "09bc563791444fcaaf4b83976e3604de",
       "version_major": 2,
       "version_minor": 0
      },
      "text/plain": [
       "VBox()"
      ]
     },
     "metadata": {},
     "output_type": "display_data"
    },
    {
     "data": {
      "application/vnd.jupyter.widget-view+json": {
       "model_id": "",
       "version_major": 2,
       "version_minor": 0
      },
      "text/plain": [
       "FloatProgress(value=0.0, bar_style='info', description='Progress:', layout=Layout(height='25px', width='50%'),…"
      ]
     },
     "metadata": {},
     "output_type": "display_data"
    }
   ],
   "source": [
    "t_bankcard=spark.sql(\"\"\"\n",
    "select \n",
    "  id,\n",
    "  customer_id,\n",
    "  loan_app_id,\n",
    "  card_no,\n",
    "  bank_code,\n",
    "  province,\n",
    "  city,\n",
    "  branch,\n",
    "  verify_account_holder_name,\n",
    "  verify_status,\n",
    "  create_time,\n",
    "  update_time,\n",
    "  holder_name,\n",
    "  validation_id,\n",
    "  'insert' as kind,\n",
    "  't_bankcard' as tablenm,\n",
    "  'public' as schema,\n",
    "  '2019-12-11 10:07:03.855' as etldate,\n",
    "  '2019' as year,\n",
    "  '12' as month,\n",
    "  '11' as day\n",
    "  from  `luzon_etl_s3`.`t_bankcard` \n",
    "  where id in (141355,141356)\n",
    "\"\"\")\n",
    "t_bankcard.write.mode(\"append\").partitionBy(\"year\",\"month\",\"day\").orc(\"s3://rupiahplus-data-warehouse/stream/luzon_etl/t_bankcard/\")"
   ]
  },
  {
   "cell_type": "code",
   "execution_count": 6,
   "metadata": {},
   "outputs": [
    {
     "data": {
      "application/vnd.jupyter.widget-view+json": {
       "model_id": "3d28e884982d4fcaa91c1e0d8bf9b527",
       "version_major": 2,
       "version_minor": 0
      },
      "text/plain": [
       "VBox()"
      ]
     },
     "metadata": {},
     "output_type": "display_data"
    },
    {
     "data": {
      "application/vnd.jupyter.widget-view+json": {
       "model_id": "",
       "version_major": 2,
       "version_minor": 0
      },
      "text/plain": [
       "FloatProgress(value=0.0, bar_style='info', description='Progress:', layout=Layout(height='25px', width='50%'),…"
      ]
     },
     "metadata": {},
     "output_type": "display_data"
    }
   ],
   "source": [
    "# t_auto_review_loan 丢失的三条数据\n",
    "spark.catalog.refreshTable(\"`luzon_etl_s3`.`t_auto_review_loan` \")\n",
    "t_auto_review_loan=spark.sql(\"\"\"\n",
    "select \n",
    "  id,\n",
    "  riskengine_id,\n",
    "  customer_id,\n",
    "  loan_id,\n",
    "  name,\n",
    "  ktp,\n",
    "  mobile,\n",
    "  cast(success as string) as success,\n",
    "  error_message,\n",
    "  result,\n",
    "  reject_message,\n",
    "  create_time,\n",
    "  finish_time,\n",
    "  duration,\n",
    "  real_policy,\n",
    "  switch_manual_reason,\n",
    "  raw_data,\n",
    "  'insert' as kind,\n",
    "  't_admin_audit' as tablenm,\n",
    "  'public' as schema,\n",
    "  '2019-12-07 08:02:40.80' as etldate,\n",
    "  '2019' as year,\n",
    "  '12' as month,\n",
    "  '07' as day\n",
    "  from  `luzon_etl_s3`.`t_auto_review_loan` \n",
    "  where id = 1143550\n",
    "        OR id = 1143549 or id = 1143548\n",
    "\"\"\")\n",
    "t_auto_review_loan.write.mode(\"append\").partitionBy(\"year\",\"month\",\"day\").orc(\"s3://rupiahplus-data-warehouse/stream/luzon_etl/t_auto_review_loan/\")"
   ]
  },
  {
   "cell_type": "code",
   "execution_count": 4,
   "metadata": {},
   "outputs": [
    {
     "data": {
      "application/vnd.jupyter.widget-view+json": {
       "model_id": "b4aa63219b194af0b9b705bafe72cd53",
       "version_major": 2,
       "version_minor": 0
      },
      "text/plain": [
       "VBox()"
      ]
     },
     "metadata": {},
     "output_type": "display_data"
    },
    {
     "data": {
      "application/vnd.jupyter.widget-view+json": {
       "model_id": "",
       "version_major": 2,
       "version_minor": 0
      },
      "text/plain": [
       "FloatProgress(value=0.0, bar_style='info', description='Progress:', layout=Layout(height='25px', width='50%'),…"
      ]
     },
     "metadata": {},
     "output_type": "display_data"
    }
   ],
   "source": [
    "t_channel_details=spark.sql(\"\"\"\n",
    "select \n",
    "  'insert' as kind,\n",
    "  '2019-12-30 23:59:59' as etldate,\n",
    "  id,\n",
    "  channel_key,\n",
    "  af_channel,\n",
    "  media_source,\n",
    "  event_name,\n",
    "  body,\n",
    "  ip_address,\n",
    "  create_time,\n",
    "  fb_campaign_name,\n",
    "  campaign,\n",
    "  agency,\n",
    "  fb_campaign_id,\n",
    "  '2019' as year,\n",
    "  '12' as month,\n",
    "  '30' as day\n",
    "  from  `luzon_etl_s3`.`t_channel_details` \n",
    "  where id< 310280\n",
    "\"\"\")\n",
    "t_channel_details.write.mode(\"append\").partitionBy(\"year\",\"month\",\"day\").orc(\"s3://rupiahplus-data-warehouse/stream/luzon_etl/t_channel_details/\")"
   ]
  },
  {
   "cell_type": "code",
   "execution_count": 6,
   "metadata": {},
   "outputs": [
    {
     "data": {
      "application/vnd.jupyter.widget-view+json": {
       "model_id": "96b440fbf64240a382166ef581ccb283",
       "version_major": 2,
       "version_minor": 0
      },
      "text/plain": [
       "VBox()"
      ]
     },
     "metadata": {},
     "output_type": "display_data"
    },
    {
     "data": {
      "application/vnd.jupyter.widget-view+json": {
       "model_id": "",
       "version_major": 2,
       "version_minor": 0
      },
      "text/plain": [
       "FloatProgress(value=0.0, bar_style='info', description='Progress:', layout=Layout(height='25px', width='50%'),…"
      ]
     },
     "metadata": {},
     "output_type": "display_data"
    }
   ],
   "source": [
    "t_channel_details=spark.sql(\"\"\"\n",
    "select \n",
    "  id,\n",
    "  channel_key,\n",
    "  af_channel,\n",
    "  media_source,\n",
    "  event_name,\n",
    "  body,\n",
    "  ip_address,\n",
    "  create_time,\n",
    "  fb_campaign_name,\n",
    "  campaign,\n",
    "  agency,\n",
    "  fb_campaign_id,\n",
    "  'insert' as kind,\n",
    "  't_channel_details' as tablenm,\n",
    "  'public' as schema,\n",
    "  '\t2019-12-30 09:56:59.143' as etldate,\n",
    "  '2019' as year,\n",
    "  '12' as month,\n",
    "  '30' as day\n",
    "  from  `luzon_etl_s3`.`t_channel_details` \n",
    "  where id = 291552\n",
    "\"\"\")\n",
    "t_channel_details.write.mode(\"append\").partitionBy(\"year\",\"month\",\"day\").orc(\"s3://rupiahplus-data-warehouse/stream/luzon_etl/t_channel_details/\")"
   ]
  },
  {
   "cell_type": "code",
   "execution_count": 5,
   "metadata": {},
   "outputs": [
    {
     "data": {
      "application/vnd.jupyter.widget-view+json": {
       "model_id": "9ed58e66152848f593484e3571f7af60",
       "version_major": 2,
       "version_minor": 0
      },
      "text/plain": [
       "VBox()"
      ]
     },
     "metadata": {},
     "output_type": "display_data"
    },
    {
     "data": {
      "application/vnd.jupyter.widget-view+json": {
       "model_id": "",
       "version_major": 2,
       "version_minor": 0
      },
      "text/plain": [
       "FloatProgress(value=0.0, bar_style='info', description='Progress:', layout=Layout(height='25px', width='50%'),…"
      ]
     },
     "metadata": {},
     "output_type": "display_data"
    }
   ],
   "source": [
    "t_collection_audit=spark.sql(\"\"\"\n",
    "select \n",
    "  'insert' as kind,\n",
    "  '2019-12-30 23:59:59' as etldate,\n",
    "  id,\n",
    "  admin_id,\n",
    "  collector_id,\n",
    "  access_mode,\n",
    "  topic,\n",
    "  subject,\n",
    "  loan_app_id,\n",
    "  group_name,\n",
    "  param,\n",
    "  comment,\n",
    "  create_time,\n",
    "  ip,\n",
    "  '2019' as year,\n",
    "  '12' as month,\n",
    "  '30' as day\n",
    "  from  `luzon_etl_s3`.`t_collection_audit` \n",
    "  where id< 505359\n",
    "\"\"\")\n",
    "t_collection_audit.write.mode(\"append\").partitionBy(\"year\",\"month\",\"day\").orc(\"s3://rupiahplus-data-warehouse/stream/luzon_etl/t_collection_audit/\")"
   ]
  },
  {
   "cell_type": "code",
   "execution_count": 7,
   "metadata": {},
   "outputs": [
    {
     "data": {
      "application/vnd.jupyter.widget-view+json": {
       "model_id": "344f283be6d54cd6981c67404bb8da67",
       "version_major": 2,
       "version_minor": 0
      },
      "text/plain": [
       "VBox()"
      ]
     },
     "metadata": {},
     "output_type": "display_data"
    },
    {
     "data": {
      "application/vnd.jupyter.widget-view+json": {
       "model_id": "",
       "version_major": 2,
       "version_minor": 0
      },
      "text/plain": [
       "FloatProgress(value=0.0, bar_style='info', description='Progress:', layout=Layout(height='25px', width='50%'),…"
      ]
     },
     "metadata": {},
     "output_type": "display_data"
    }
   ],
   "source": [
    "t_collection_audit=spark.sql(\"\"\"\n",
    "select \n",
    "  id,\n",
    "  admin_id,\n",
    "  collector_id,\n",
    "  access_mode,\n",
    "  topic,\n",
    "  subject,\n",
    "  loan_app_id,\n",
    "  group_name,\n",
    "  param,\n",
    "  comment,\n",
    "  create_time,\n",
    "  ip,\n",
    "  'insert' as kind,\n",
    "  't_collection_audit' as tablenm,\n",
    "  'public' as schema,\n",
    "  '\t2019-12-11 09:51:33.200' as etldate,\n",
    "  '2019' as year,\n",
    "  '12' as month,\n",
    "  '11' as day\n",
    "  from  `luzon_etl_s3`.`t_collection_audit` \n",
    "  where id  in (417324,417325,417326,417327,417328,417329,417330,417331,417332,417333)\n",
    "\"\"\")\n",
    "t_collection_audit.write.mode(\"append\").partitionBy(\"year\",\"month\",\"day\").orc(\"s3://rupiahplus-data-warehouse/stream/luzon_etl/t_collection_audit/\")"
   ]
  },
  {
   "cell_type": "code",
   "execution_count": 6,
   "metadata": {},
   "outputs": [
    {
     "data": {
      "application/vnd.jupyter.widget-view+json": {
       "model_id": "0b81d8ae96864be18ee8585b03d8fced",
       "version_major": 2,
       "version_minor": 0
      },
      "text/plain": [
       "VBox()"
      ]
     },
     "metadata": {},
     "output_type": "display_data"
    },
    {
     "data": {
      "application/vnd.jupyter.widget-view+json": {
       "model_id": "",
       "version_major": 2,
       "version_minor": 0
      },
      "text/plain": [
       "FloatProgress(value=0.0, bar_style='info', description='Progress:', layout=Layout(height='25px', width='50%'),…"
      ]
     },
     "metadata": {},
     "output_type": "display_data"
    }
   ],
   "source": [
    "t_collection_blacklist=spark.sql(\"\"\"\n",
    "select \n",
    "  'insert' as kind,\n",
    "  '2019-12-30 23:59:59' as etldate,\n",
    "  id,\n",
    "  admin_id,\n",
    "  customer_id,\n",
    "  status,\n",
    "  create_time,\n",
    "  update_time,\n",
    "  comment,\n",
    "  '2019' as year,\n",
    "  '12' as month,\n",
    "  '30' as day\n",
    "  from  `luzon_etl_s3`.`t_collection_blacklist` \n",
    "\"\"\")\n",
    "t_collection_blacklist.write.mode(\"append\").partitionBy(\"year\",\"month\",\"day\").orc(\"s3://rupiahplus-data-warehouse/stream/luzon_etl/t_collection_blacklist/\")"
   ]
  },
  {
   "cell_type": "code",
   "execution_count": 7,
   "metadata": {},
   "outputs": [
    {
     "data": {
      "application/vnd.jupyter.widget-view+json": {
       "model_id": "43d5fe11421644219163153f7c13dd4d",
       "version_major": 2,
       "version_minor": 0
      },
      "text/plain": [
       "VBox()"
      ]
     },
     "metadata": {},
     "output_type": "display_data"
    },
    {
     "data": {
      "application/vnd.jupyter.widget-view+json": {
       "model_id": "",
       "version_major": 2,
       "version_minor": 0
      },
      "text/plain": [
       "FloatProgress(value=0.0, bar_style='info', description='Progress:', layout=Layout(height='25px', width='50%'),…"
      ]
     },
     "metadata": {},
     "output_type": "display_data"
    }
   ],
   "source": [
    "t_contact=spark.sql(\"\"\"\n",
    "select \n",
    "  'insert' as kind,\n",
    "  '2019-12-30 23:59:59' as etldate,\n",
    "  id,\n",
    "  customer_id,\n",
    "  loan_app_id,\n",
    "  name,\n",
    "  mobile,\n",
    "  relation,\n",
    "  credential_no,\n",
    "  credential_type,\n",
    "  address,\n",
    "  company_name,\n",
    "  job_title,\n",
    "  create_time ,\n",
    "  update_time,\n",
    "  comment,\n",
    "  mobile_status,\n",
    "  '2019' as year,\n",
    "  '12' as month,\n",
    "  '30' as day\n",
    "  from  `luzon_etl_s3`.`t_contact`\n",
    "  where id<630728\n",
    "\"\"\")\n",
    "t_contact.write.mode(\"append\").partitionBy(\"year\",\"month\",\"day\").orc(\"s3://rupiahplus-data-warehouse/stream/luzon_etl/t_contact/\")"
   ]
  },
  {
   "cell_type": "code",
   "execution_count": 8,
   "metadata": {},
   "outputs": [
    {
     "data": {
      "application/vnd.jupyter.widget-view+json": {
       "model_id": "d0bf0b806e234c25849916fd1fd19e0d",
       "version_major": 2,
       "version_minor": 0
      },
      "text/plain": [
       "VBox()"
      ]
     },
     "metadata": {},
     "output_type": "display_data"
    },
    {
     "data": {
      "application/vnd.jupyter.widget-view+json": {
       "model_id": "",
       "version_major": 2,
       "version_minor": 0
      },
      "text/plain": [
       "FloatProgress(value=0.0, bar_style='info', description='Progress:', layout=Layout(height='25px', width='50%'),…"
      ]
     },
     "metadata": {},
     "output_type": "display_data"
    }
   ],
   "source": [
    "# t_contact 丢失的三条数据\n",
    "spark.catalog.refreshTable(\"`luzon_etl_s3`.`t_contact` \")\n",
    "t_contact=spark.sql(\"\"\"\n",
    "select \n",
    "  id,\n",
    "  customer_id,\n",
    "  loan_app_id,\n",
    "  name,\n",
    "  mobile,\n",
    "  relation,\n",
    "  credential_no,\n",
    "  credential_type,\n",
    "  address,\n",
    "  company_name,\n",
    "  job_title,\n",
    "  create_time ,\n",
    "  update_time,\n",
    "  comment,\n",
    "  mobile_status,\n",
    "  'insert' as kind,\n",
    "  't_admin_audit' as tablenm,\n",
    "  'public' as schema,\n",
    "  '\t2019-12-11 09:54:00.169' as etldate,\n",
    "  '2019' as year,\n",
    "  '12' as month,\n",
    "  '11' as day\n",
    "  from  `luzon_etl_s3`.`t_contact`\n",
    "  where id in (559094,559095,559096,559097,559098,559099)\n",
    "\"\"\")\n",
    "t_contact.write.mode(\"append\").partitionBy(\"year\",\"month\",\"day\").orc(\"s3://rupiahplus-data-warehouse/stream/luzon_etl/t_contact/\")"
   ]
  },
  {
   "cell_type": "code",
   "execution_count": 8,
   "metadata": {},
   "outputs": [
    {
     "data": {
      "application/vnd.jupyter.widget-view+json": {
       "model_id": "92366b8baa4f4111b87ed0bb77256430",
       "version_major": 2,
       "version_minor": 0
      },
      "text/plain": [
       "VBox()"
      ]
     },
     "metadata": {},
     "output_type": "display_data"
    },
    {
     "data": {
      "application/vnd.jupyter.widget-view+json": {
       "model_id": "",
       "version_major": 2,
       "version_minor": 0
      },
      "text/plain": [
       "FloatProgress(value=0.0, bar_style='info', description='Progress:', layout=Layout(height='25px', width='50%'),…"
      ]
     },
     "metadata": {},
     "output_type": "display_data"
    }
   ],
   "source": [
    "t_customer=spark.sql(\"\"\"\n",
    "select \n",
    "  'insert' as kind,\n",
    "  '2019-12-30 23:59:59' as etldate,\n",
    "  id,\n",
    "  uid,\n",
    "  mobile,\n",
    "  email,\n",
    "  password,\n",
    "  invite_code,\n",
    "  status,\n",
    "  status_expired_time,\n",
    "  last_login_time,\n",
    "  failed_login_count,\n",
    "  create_time,\n",
    "  update_time ,\n",
    "  channel_key,\n",
    "  imei,\n",
    "  rated_interest_rate,\n",
    "  inviter_id,\n",
    "  rank,\n",
    "  mobile_status,\n",
    "  pre_sale_status,\n",
    "  rated_interest_rate_14d,\n",
    "  '2019' as year,\n",
    "  '12' as month,\n",
    "  '30' as day\n",
    "  from  `luzon_etl_s3`.`t_customer`\n",
    "  where id <281475 \n",
    "\"\"\")\n",
    "t_customer.write.mode(\"append\").partitionBy(\"year\",\"month\",\"day\").orc(\"s3://rupiahplus-data-warehouse/stream/luzon_etl/t_customer/\")"
   ]
  },
  {
   "cell_type": "code",
   "execution_count": 22,
   "metadata": {
    "jupyter": {
     "source_hidden": true
    }
   },
   "outputs": [
    {
     "data": {
      "application/vnd.jupyter.widget-view+json": {
       "model_id": "6ef6b77e9d0e4927a34be046ee3f02ce",
       "version_major": 2,
       "version_minor": 0
      },
      "text/plain": [
       "VBox()"
      ]
     },
     "metadata": {},
     "output_type": "display_data"
    },
    {
     "data": {
      "application/vnd.jupyter.widget-view+json": {
       "model_id": "",
       "version_major": 2,
       "version_minor": 0
      },
      "text/plain": [
       "FloatProgress(value=0.0, bar_style='info', description='Progress:', layout=Layout(height='25px', width='50%'),…"
      ]
     },
     "metadata": {},
     "output_type": "display_data"
    }
   ],
   "source": [
    "t_employment=spark.sql(\"\"\"\n",
    "select \n",
    "  id,\n",
    "  customer_id,\n",
    "  loan_app_id,\n",
    "  company_name,\n",
    "  company_type,\n",
    "  company_phone,\n",
    "  company_size,\n",
    "  company_province,\n",
    "  company_city,\n",
    "  company_district,\n",
    "  company_area,\n",
    "  company_address ,\n",
    "  company_establish_time,\n",
    "  work_province,\n",
    "  work_city,\n",
    "  work_district,\n",
    "  work_area,\n",
    "  work_address,\n",
    "  profession,\n",
    "  title,\n",
    "  salary,\n",
    "  work_email,\n",
    "  work_start_from,\n",
    "  create_time,\n",
    "  update_time,\n",
    "  salary_day,\n",
    "  working_years,\n",
    "  'insert' as kind,\n",
    "  '2019-12-30 23:59:59' as etldate,\n",
    "  '2019' as year,\n",
    "  '12' as month,\n",
    "  '30' as day\n",
    "  from  `luzon_etl_s3`.`t_employment`\n",
    "  where id <262749 \n",
    "\"\"\")\n",
    "t_employment.write.mode(\"append\").partitionBy(\"year\",\"month\",\"day\").orc(\"s3://rupiahplus-data-warehouse/stream/luzon_etl/t_employment/\")"
   ]
  },
  {
   "cell_type": "code",
   "execution_count": 9,
   "metadata": {},
   "outputs": [
    {
     "data": {
      "application/vnd.jupyter.widget-view+json": {
       "model_id": "9216bcb3e7224292a3fc1de22037d8aa",
       "version_major": 2,
       "version_minor": 0
      },
      "text/plain": [
       "VBox()"
      ]
     },
     "metadata": {},
     "output_type": "display_data"
    },
    {
     "data": {
      "application/vnd.jupyter.widget-view+json": {
       "model_id": "",
       "version_major": 2,
       "version_minor": 0
      },
      "text/plain": [
       "FloatProgress(value=0.0, bar_style='info', description='Progress:', layout=Layout(height='25px', width='50%'),…"
      ]
     },
     "metadata": {},
     "output_type": "display_data"
    }
   ],
   "source": [
    "t_employment=spark.sql(\"\"\"\n",
    "select \n",
    "  'insert' as kind,\n",
    "  '2019-12-30 23:59:59' as etldate,\n",
    "  id,\n",
    "  customer_id,\n",
    "  loan_app_id,\n",
    "  company_name,\n",
    "  company_type,\n",
    "  company_phone,\n",
    "  company_size,\n",
    "  company_province,\n",
    "  company_city,\n",
    "  company_district,\n",
    "  company_area,\n",
    "  company_address ,\n",
    "  company_establish_time,\n",
    "  work_province,\n",
    "  work_city,\n",
    "  work_district,\n",
    "  work_area,\n",
    "  work_address,\n",
    "  profession,\n",
    "  title,\n",
    "  salary,\n",
    "  work_email,\n",
    "  work_start_from,\n",
    "  create_time,\n",
    "  update_time,\n",
    "  salary_day,\n",
    "  working_years,\n",
    "  '2019' as year,\n",
    "  '12' as month,\n",
    "  '30' as day\n",
    "  from  `luzon_etl_s3`.`t_employment`\n",
    "  where id <276890\n",
    "\"\"\")\n",
    "t_employment.write.mode(\"append\").partitionBy(\"year\",\"month\",\"day\").orc(\"s3://rupiahplus-data-warehouse/stream/luzon_etl/t_employment/\")"
   ]
  },
  {
   "cell_type": "code",
   "execution_count": 10,
   "metadata": {},
   "outputs": [
    {
     "data": {
      "application/vnd.jupyter.widget-view+json": {
       "model_id": "b6b1162084784ba684c1c70bee527fe5",
       "version_major": 2,
       "version_minor": 0
      },
      "text/plain": [
       "VBox()"
      ]
     },
     "metadata": {},
     "output_type": "display_data"
    },
    {
     "data": {
      "application/vnd.jupyter.widget-view+json": {
       "model_id": "",
       "version_major": 2,
       "version_minor": 0
      },
      "text/plain": [
       "FloatProgress(value=0.0, bar_style='info', description='Progress:', layout=Layout(height='25px', width='50%'),…"
      ]
     },
     "metadata": {},
     "output_type": "display_data"
    }
   ],
   "source": [
    "spark.catalog.refreshTable(\"`luzon_etl_s3`.`t_engine_rule_detail` \")\n",
    "t_engine_rule_detail=spark.sql(\"\"\"\n",
    "select \n",
    "  'insert' as kind,\n",
    "  '2019-12-30 23:59:59' as etldate,\n",
    "   id,\n",
    "   loan_id,\n",
    "   auto_review_loan_id,\n",
    "   code,\n",
    "   value,\n",
    "   result,\n",
    "   rule_name,\n",
    "   description,\n",
    "  '2019' as year,\n",
    "  '12' as month,\n",
    "  '30' as day\n",
    "  from  `luzon_etl_s3`.`t_engine_rule_detail`\n",
    "  where id <484044 \n",
    "\"\"\")\n",
    "t_engine_rule_detail.write.mode(\"append\").partitionBy(\"year\",\"month\",\"day\").orc(\"s3://rupiahplus-data-warehouse/stream/luzon_etl/t_engine_rule_detail/\")"
   ]
  },
  {
   "cell_type": "code",
   "execution_count": 2,
   "metadata": {},
   "outputs": [
    {
     "data": {
      "application/vnd.jupyter.widget-view+json": {
       "model_id": "5136af1ea591436391644d4656a97ac4",
       "version_major": 2,
       "version_minor": 0
      },
      "text/plain": [
       "VBox()"
      ]
     },
     "metadata": {},
     "output_type": "display_data"
    },
    {
     "data": {
      "application/vnd.jupyter.widget-view+json": {
       "model_id": "",
       "version_major": 2,
       "version_minor": 0
      },
      "text/plain": [
       "FloatProgress(value=0.0, bar_style='info', description='Progress:', layout=Layout(height='25px', width='50%'),…"
      ]
     },
     "metadata": {},
     "output_type": "display_data"
    }
   ],
   "source": [
    "t_engine_rule_detail=spark.sql(\"\"\"\n",
    "select \n",
    "  id,\n",
    "   loan_id,\n",
    "   auto_review_loan_id,\n",
    "   code,\n",
    "   value,\n",
    "   result,\n",
    "   rule_name,\n",
    "   description,\n",
    "  'insert' as kind,\n",
    "  't_engine_rule_detail' as tablenm,\n",
    "  'public' as schema,\n",
    "  '2019-12-11 09:48:00.275' as etldate,\n",
    "  '2019' as year,\n",
    "  '12' as month,\n",
    "  '11' as day\n",
    "  from  `luzon_etl_s3`.`t_engine_rule_detail`\n",
    "  where id <166730 and  id> 166818\n",
    "\"\"\")\n",
    "t_engine_rule_detail.write.mode(\"append\").partitionBy(\"year\",\"month\",\"day\").orc(\"s3://rupiahplus-data-warehouse/stream/luzon_etl/t_engine_rule_detail/\")"
   ]
  },
  {
   "cell_type": "code",
   "execution_count": 11,
   "metadata": {},
   "outputs": [
    {
     "data": {
      "application/vnd.jupyter.widget-view+json": {
       "model_id": "a40e0e261bbb4c059c2b787149bab7ba",
       "version_major": 2,
       "version_minor": 0
      },
      "text/plain": [
       "VBox()"
      ]
     },
     "metadata": {},
     "output_type": "display_data"
    },
    {
     "data": {
      "application/vnd.jupyter.widget-view+json": {
       "model_id": "",
       "version_major": 2,
       "version_minor": 0
      },
      "text/plain": [
       "FloatProgress(value=0.0, bar_style='info', description='Progress:', layout=Layout(height='25px', width='50%'),…"
      ]
     },
     "metadata": {},
     "output_type": "display_data"
    }
   ],
   "source": [
    "t_loan_app=spark.sql(\"\"\"\n",
    "select \n",
    "  'insert' as kind,\n",
    "  '2019-12-30 23:59:59' as etldate,\n",
    "  `id` , \n",
    "  `customer_id` , \n",
    "  `status` , \n",
    "  `sub_status` , \n",
    "  `full_name` , \n",
    "  `credential_no` , \n",
    "  `credential_type` , \n",
    "  `loan_type` , \n",
    "  `amount`, \n",
    "  `repayment_type` , \n",
    "  `service_fee` , \n",
    "  `pre_service_fee` , \n",
    "  `interest_rate`, \n",
    "  `period` , \n",
    "  `period_unit` , \n",
    "  `effective_time` , \n",
    "  `apply_for` , \n",
    "  `apply_channel` , \n",
    "  `apply_platform` , \n",
    "  `comment` , \n",
    "  `reviewer_id` , \n",
    "  `create_time` , \n",
    "  `update_time` , \n",
    "  `paid_off_mode` , \n",
    "  `parent_id` , \n",
    "  `apply_purpose` , \n",
    "  `imei` , \n",
    "  `ip` ,\n",
    "  skypay_channel,\n",
    "  android_id,\n",
    "  handling_fee,\n",
    "  main_loan_id,\n",
    "  '2019' as year,\n",
    "  '12' as month,\n",
    "  '30' as day\n",
    "  from  `luzon_etl_s3`.`t_loan_app`\n",
    "  where id <276897 \n",
    "\"\"\")\n",
    "t_loan_app.write.mode(\"append\").partitionBy(\"year\",\"month\",\"day\").orc(\"s3://rupiahplus-data-warehouse/stream/luzon_etl/t_loan_app/\")"
   ]
  },
  {
   "cell_type": "code",
   "execution_count": 2,
   "metadata": {},
   "outputs": [
    {
     "data": {
      "application/vnd.jupyter.widget-view+json": {
       "model_id": "662d07a034264cb7ad236e465b7c547d",
       "version_major": 2,
       "version_minor": 0
      },
      "text/plain": [
       "VBox()"
      ]
     },
     "metadata": {},
     "output_type": "display_data"
    },
    {
     "data": {
      "application/vnd.jupyter.widget-view+json": {
       "model_id": "",
       "version_major": 2,
       "version_minor": 0
      },
      "text/plain": [
       "FloatProgress(value=0.0, bar_style='info', description='Progress:', layout=Layout(height='25px', width='50%'),…"
      ]
     },
     "metadata": {},
     "output_type": "display_data"
    },
    {
     "name": "stdout",
     "output_type": "stream",
     "text": [
      "root\n",
      " |-- skypay_channel: string (nullable = true)"
     ]
    }
   ],
   "source": [
    "t_loan_app=spark.sql(\"\"\"\n",
    "select \n",
    " skypay_channel\n",
    "  from  `luzon_etl_s3`.`t_loan_app`\n",
    "  where id <252623 \n",
    "\"\"\").printSchema()\n",
    "# t_loan_app.write.mode(\"append\").partitionBy(\"year\",\"month\",\"day\").orc(\"s3://rupiahplus-data-warehouse/stream/luzon_etl/t_loan_app/\")"
   ]
  },
  {
   "cell_type": "code",
   "execution_count": 12,
   "metadata": {},
   "outputs": [
    {
     "data": {
      "application/vnd.jupyter.widget-view+json": {
       "model_id": "010b13a05eba4dd988554ac51dedf96b",
       "version_major": 2,
       "version_minor": 0
      },
      "text/plain": [
       "VBox()"
      ]
     },
     "metadata": {},
     "output_type": "display_data"
    },
    {
     "data": {
      "application/vnd.jupyter.widget-view+json": {
       "model_id": "",
       "version_major": 2,
       "version_minor": 0
      },
      "text/plain": [
       "FloatProgress(value=0.0, bar_style='info', description='Progress:', layout=Layout(height='25px', width='50%'),…"
      ]
     },
     "metadata": {},
     "output_type": "display_data"
    }
   ],
   "source": [
    "t_loan_app_review_summary=spark.sql(\"\"\"\n",
    "select \n",
    "  'insert' as kind,\n",
    "  '2019-12-30 23:59:59' as etldate,\n",
    "   `id` , \n",
    "  `loan_app_id` , \n",
    "  `reviewing_loans_status` , \n",
    "  `repaying_loans_status` , \n",
    "  `rejected_loans_status` , \n",
    "  `in_blacklist_status` , \n",
    "  `info_completed_status` , \n",
    "  `occupation_in_blacklist` , \n",
    "  `first_review_admin_id` , \n",
    "  `second_review_admin_id` , \n",
    "  `final_review_admin_id` , \n",
    "  `create_time` , \n",
    "  `update_time` , \n",
    "  `close_reason` , \n",
    "  `reject_reason` , \n",
    "  `analytic_result` , \n",
    "  `profile` , \n",
    "  '2019' as year,\n",
    "  '12' as month,\n",
    "  '30' as day\n",
    "  from  `luzon_etl_s3`.`t_loan_app_review_summary`\n",
    "  where id <266790 \n",
    "\"\"\")\n",
    "t_loan_app_review_summary.write.mode(\"append\").partitionBy(\"year\",\"month\",\"day\").orc(\"s3://rupiahplus-data-warehouse/stream/luzon_etl/t_loan_app_review_summary/\")"
   ]
  },
  {
   "cell_type": "code",
   "execution_count": 13,
   "metadata": {},
   "outputs": [
    {
     "data": {
      "application/vnd.jupyter.widget-view+json": {
       "model_id": "0ebe731c69cd41d186d728ca353ac033",
       "version_major": 2,
       "version_minor": 0
      },
      "text/plain": [
       "VBox()"
      ]
     },
     "metadata": {},
     "output_type": "display_data"
    },
    {
     "data": {
      "application/vnd.jupyter.widget-view+json": {
       "model_id": "",
       "version_major": 2,
       "version_minor": 0
      },
      "text/plain": [
       "FloatProgress(value=0.0, bar_style='info', description='Progress:', layout=Layout(height='25px', width='50%'),…"
      ]
     },
     "metadata": {},
     "output_type": "display_data"
    }
   ],
   "source": [
    "t_loan_app_status_log=spark.sql(\"\"\"\n",
    "select \n",
    "  'insert' as kind,\n",
    "  '2019-12-30 23:59:59' as etldate,\n",
    "   `id` , \n",
    "  `loan_app_id` , \n",
    "  `operator_id` , \n",
    "  `old_status` , \n",
    "  `new_status` , \n",
    "  `create_time` , \n",
    "  '2019' as year,\n",
    "  '12' as month,\n",
    "  '30' as day\n",
    "  from  `luzon_etl_s3`.`t_loan_app_status_log`\n",
    "  where id <874527 \n",
    "\"\"\")\n",
    "t_loan_app_status_log.write.mode(\"append\").partitionBy(\"year\",\"month\",\"day\").orc(\"s3://rupiahplus-data-warehouse/stream/luzon_etl/t_loan_app_status_log/\")"
   ]
  },
  {
   "cell_type": "code",
   "execution_count": 10,
   "metadata": {},
   "outputs": [
    {
     "data": {
      "application/vnd.jupyter.widget-view+json": {
       "model_id": "31c511c1898d40f2b58bcdd9455ef297",
       "version_major": 2,
       "version_minor": 0
      },
      "text/plain": [
       "VBox()"
      ]
     },
     "metadata": {},
     "output_type": "display_data"
    },
    {
     "data": {
      "application/vnd.jupyter.widget-view+json": {
       "model_id": "",
       "version_major": 2,
       "version_minor": 0
      },
      "text/plain": [
       "FloatProgress(value=0.0, bar_style='info', description='Progress:', layout=Layout(height='25px', width='50%'),…"
      ]
     },
     "metadata": {},
     "output_type": "display_data"
    }
   ],
   "source": [
    "t_loan_app_status_log=spark.sql(\"\"\"\n",
    "select \n",
    "   `id` , \n",
    "  `loan_app_id` , \n",
    "  `operator_id` , \n",
    "  `old_status` , \n",
    "  `new_status` , \n",
    "  `create_time` , \n",
    "  'insert' as kind,\n",
    "  't_loan_app_status_log' as tablenm,\n",
    "  'public' as schema,\n",
    "  '\t2019-12-11 09:51:17.300' as etldate,\n",
    "  '2019' as year,\n",
    "  '12' as month,\n",
    "  '11' as day\n",
    "  from  `luzon_etl_s3`.`t_loan_app_status_log`\n",
    "  where id <771542 and id > 771506\n",
    "\"\"\")\n",
    "t_loan_app_status_log.write.mode(\"append\").partitionBy(\"year\",\"month\",\"day\").orc(\"s3://rupiahplus-data-warehouse/stream/luzon_etl/t_loan_app_status_log/\")"
   ]
  },
  {
   "cell_type": "code",
   "execution_count": 14,
   "metadata": {},
   "outputs": [
    {
     "data": {
      "application/vnd.jupyter.widget-view+json": {
       "model_id": "2186131df58b4a03858b53934113d21f",
       "version_major": 2,
       "version_minor": 0
      },
      "text/plain": [
       "VBox()"
      ]
     },
     "metadata": {},
     "output_type": "display_data"
    },
    {
     "data": {
      "application/vnd.jupyter.widget-view+json": {
       "model_id": "",
       "version_major": 2,
       "version_minor": 0
      },
      "text/plain": [
       "FloatProgress(value=0.0, bar_style='info', description='Progress:', layout=Layout(height='25px', width='50%'),…"
      ]
     },
     "metadata": {},
     "output_type": "display_data"
    }
   ],
   "source": [
    "t_lpay=spark.sql(\"\"\"\n",
    "select \n",
    "  'insert' as kind,\n",
    "  '2019-12-30 23:59:59' as etldate,\n",
    "   `id` , \n",
    "  `loan_app_id` , \n",
    "  `status` , \n",
    "  `current_period` , \n",
    "  `total_period` , \n",
    "  `principal_accr` , \n",
    "  principal_paid,\n",
    "  interest_accr,\n",
    "  interest_paid,\n",
    "  default_accr,\n",
    "  default_paid,\n",
    " service_fee_accr ,\n",
    "  service_fee_paid,\n",
    "  due_date,\n",
    "  last_punishment_time,\n",
    "  create_time,\n",
    "  update_time,\n",
    "  rollover_fee_accr,\n",
    "  rollover_fee_paid,\n",
    "  erase_amount,\n",
    "  '2019' as year,\n",
    "  '12' as month,\n",
    "  '30' as day\n",
    "  from  `luzon_etl_s3`.`t_lpay`\n",
    "  where id <131410 \n",
    "\"\"\")\n",
    "t_lpay.write.mode(\"append\").partitionBy(\"year\",\"month\",\"day\").orc(\"s3://rupiahplus-data-warehouse/stream/luzon_etl/t_lpay/\")"
   ]
  },
  {
   "cell_type": "code",
   "execution_count": 11,
   "metadata": {},
   "outputs": [
    {
     "data": {
      "application/vnd.jupyter.widget-view+json": {
       "model_id": "ca2e2872c0cf4da5b7e8b6614e66f59a",
       "version_major": 2,
       "version_minor": 0
      },
      "text/plain": [
       "VBox()"
      ]
     },
     "metadata": {},
     "output_type": "display_data"
    },
    {
     "data": {
      "application/vnd.jupyter.widget-view+json": {
       "model_id": "",
       "version_major": 2,
       "version_minor": 0
      },
      "text/plain": [
       "FloatProgress(value=0.0, bar_style='info', description='Progress:', layout=Layout(height='25px', width='50%'),…"
      ]
     },
     "metadata": {},
     "output_type": "display_data"
    }
   ],
   "source": [
    "t_lpay=spark.sql(\"\"\"\n",
    "select \n",
    "   `id` , \n",
    "  `loan_app_id` , \n",
    "  `status` , \n",
    "  `current_period` , \n",
    "  `total_period` , \n",
    "  `principal_accr` , \n",
    "  principal_paid,\n",
    "  interest_accr,\n",
    "  interest_paid,\n",
    "  default_accr,\n",
    "  default_paid,\n",
    " service_fee_accr ,\n",
    "  service_fee_paid,\n",
    "  due_date,\n",
    "  last_punishment_time,\n",
    "  create_time,\n",
    "  update_time,\n",
    "  rollover_fee_accr,\n",
    "  rollover_fee_paid,\n",
    "  erase_amount,\n",
    "  'insert' as kind,\n",
    "  't_lpay' as tablenm,\n",
    "  'public' as schema,\n",
    "  '\t2019-12-11 09:54:00.169' as etldate,\n",
    "  '2019' as year,\n",
    "  '12' as month,\n",
    "  '11' as day\n",
    "  from  `luzon_etl_s3`.`t_lpay`\n",
    "  where id  in (124351,124352,124353)\n",
    "\"\"\")\n",
    "t_lpay.write.mode(\"append\").partitionBy(\"year\",\"month\",\"day\").orc(\"s3://rupiahplus-data-warehouse/stream/luzon_etl/t_lpay/\")"
   ]
  },
  {
   "cell_type": "code",
   "execution_count": 15,
   "metadata": {},
   "outputs": [
    {
     "data": {
      "application/vnd.jupyter.widget-view+json": {
       "model_id": "573d44c2dff744dc8753f0403e309359",
       "version_major": 2,
       "version_minor": 0
      },
      "text/plain": [
       "VBox()"
      ]
     },
     "metadata": {},
     "output_type": "display_data"
    },
    {
     "data": {
      "application/vnd.jupyter.widget-view+json": {
       "model_id": "",
       "version_major": 2,
       "version_minor": 0
      },
      "text/plain": [
       "FloatProgress(value=0.0, bar_style='info', description='Progress:', layout=Layout(height='25px', width='50%'),…"
      ]
     },
     "metadata": {},
     "output_type": "display_data"
    }
   ],
   "source": [
    "t_lpay_deposit=spark.sql(\"\"\"\n",
    "select \n",
    "  'insert' as kind,\n",
    "  '2019-12-30 23:59:59' as etldate,\n",
    "   `id` , \n",
    "  `lpay_id` , \n",
    "  `customer_id` , \n",
    "  `status` , \n",
    "  `deposit_amount` , \n",
    "  `arrived_amount` , \n",
    "  cleared_amount,\n",
    "  deposit_channel,\n",
    "  out_deposit_no,\n",
    "  payment_code,\n",
    "  deposit_method,\n",
    "  reconcile_status ,\n",
    "  create_time,\n",
    "  update_time,\n",
    "  type,\n",
    "  subtype,\n",
    "  transaction_time,\n",
    "  collector_id, \n",
    "  '2019' as year,\n",
    "  '12' as month,\n",
    "  '30' as day\n",
    "  from  `luzon_etl_s3`.`t_lpay_deposit`\n",
    "  where id <122660 \n",
    "\"\"\")\n",
    "t_lpay_deposit.write.mode(\"append\").partitionBy(\"year\",\"month\",\"day\").orc(\"s3://rupiahplus-data-warehouse/stream/luzon_etl/t_lpay_deposit/\")"
   ]
  },
  {
   "cell_type": "code",
   "execution_count": 1,
   "metadata": {},
   "outputs": [
    {
     "data": {
      "application/vnd.jupyter.widget-view+json": {
       "model_id": "e436fc9a0197487ba63be4e497defa77",
       "version_major": 2,
       "version_minor": 0
      },
      "text/plain": [
       "VBox()"
      ]
     },
     "metadata": {},
     "output_type": "display_data"
    },
    {
     "name": "stdout",
     "output_type": "stream",
     "text": [
      "Starting Spark application\n"
     ]
    },
    {
     "data": {
      "text/html": [
       "<table>\n",
       "<tr><th>ID</th><th>YARN Application ID</th><th>Kind</th><th>State</th><th>Spark UI</th><th>Driver log</th><th>Current session?</th></tr><tr><td>1</td><td>application_1576723050808_0002</td><td>pyspark</td><td>idle</td><td></td><td></td><td>✔</td></tr></table>"
      ],
      "text/plain": [
       "<IPython.core.display.HTML object>"
      ]
     },
     "metadata": {},
     "output_type": "display_data"
    },
    {
     "data": {
      "application/vnd.jupyter.widget-view+json": {
       "model_id": "",
       "version_major": 2,
       "version_minor": 0
      },
      "text/plain": [
       "FloatProgress(value=0.0, bar_style='info', description='Progress:', layout=Layout(height='25px', width='50%'),…"
      ]
     },
     "metadata": {},
     "output_type": "display_data"
    },
    {
     "name": "stdout",
     "output_type": "stream",
     "text": [
      "SparkSession available as 'spark'.\n"
     ]
    },
    {
     "data": {
      "application/vnd.jupyter.widget-view+json": {
       "model_id": "",
       "version_major": 2,
       "version_minor": 0
      },
      "text/plain": [
       "FloatProgress(value=0.0, bar_style='info', description='Progress:', layout=Layout(height='25px', width='50%'),…"
      ]
     },
     "metadata": {},
     "output_type": "display_data"
    }
   ],
   "source": [
    "t_lpay_deposit=spark.sql(\"\"\"\n",
    "select \n",
    "   `id` , \n",
    "  `lpay_id` , \n",
    "  `customer_id` , \n",
    "  `status` , \n",
    "  `deposit_amount` , \n",
    "  `arrived_amount` , \n",
    "  cleared_amount,\n",
    "  deposit_channel,\n",
    "  out_deposit_no,\n",
    "  payment_code,\n",
    "  deposit_method,\n",
    "  reconcile_status ,\n",
    "  create_time,\n",
    "  update_time,\n",
    "  type,\n",
    "  subtype,\n",
    "  transaction_time,\n",
    "  collector_id, \n",
    "  'insert' as kind,\n",
    "  't_lpay_deposit' as tablenm,\n",
    "  'public' as schema,\n",
    "  '2019-12-30 09:54:00.169' as etldate,\n",
    "  '2019' as year,\n",
    "  '12' as month,\n",
    "  '30' as day\n",
    "  from  `luzon_etl_s3`.`t_lpay_deposit`\n",
    "  where id =116367\n",
    "\"\"\")\n",
    "t_lpay_deposit.write.mode(\"append\").partitionBy(\"year\",\"month\",\"day\").orc(\"s3://rupiahplus-data-warehouse/stream/luzon_etl/t_lpay_deposit/\")"
   ]
  },
  {
   "cell_type": "code",
   "execution_count": 16,
   "metadata": {},
   "outputs": [
    {
     "data": {
      "application/vnd.jupyter.widget-view+json": {
       "model_id": "babd8918fc804a9699378757fff3b1dc",
       "version_major": 2,
       "version_minor": 0
      },
      "text/plain": [
       "VBox()"
      ]
     },
     "metadata": {},
     "output_type": "display_data"
    },
    {
     "data": {
      "application/vnd.jupyter.widget-view+json": {
       "model_id": "",
       "version_major": 2,
       "version_minor": 0
      },
      "text/plain": [
       "FloatProgress(value=0.0, bar_style='info', description='Progress:', layout=Layout(height='25px', width='50%'),…"
      ]
     },
     "metadata": {},
     "output_type": "display_data"
    }
   ],
   "source": [
    "t_message=spark.sql(\"\"\"\n",
    "select \n",
    "  'insert' as kind,\n",
    "  '2019-12-30 09:54:00.169' as etldate,\n",
    "   `id` , \n",
    "  `customer_id` , \n",
    "  `loan_app_id` , \n",
    "  `trigger` , \n",
    "  `status` , \n",
    "  `sms_status` , \n",
    "  app_push_status,\n",
    "  app_inbox_status,\n",
    "  message_body,\n",
    "  create_time,\n",
    "  update_time,\n",
    " voice_status ,\n",
    "  '2019' as year,\n",
    "  '12' as month,\n",
    "  '30' as day\n",
    "  from  `luzon_etl_s3`.`t_message`\n",
    "  where id <993901 \n",
    "\"\"\")\n",
    "t_message.write.mode(\"append\").partitionBy(\"year\",\"month\",\"day\").orc(\"s3://rupiahplus-data-warehouse/stream/luzon_etl/t_message/\")"
   ]
  },
  {
   "cell_type": "code",
   "execution_count": 1,
   "metadata": {},
   "outputs": [
    {
     "data": {
      "application/vnd.jupyter.widget-view+json": {
       "model_id": "22d0be956bf0414bbe43aa25bd44f46c",
       "version_major": 2,
       "version_minor": 0
      },
      "text/plain": [
       "VBox()"
      ]
     },
     "metadata": {},
     "output_type": "display_data"
    },
    {
     "name": "stdout",
     "output_type": "stream",
     "text": [
      "Starting Spark application\n"
     ]
    },
    {
     "data": {
      "text/html": [
       "<table>\n",
       "<tr><th>ID</th><th>YARN Application ID</th><th>Kind</th><th>State</th><th>Spark UI</th><th>Driver log</th><th>Current session?</th></tr><tr><td>4</td><td>application_1576116773731_0005</td><td>pyspark</td><td>idle</td><td></td><td></td><td>✔</td></tr></table>"
      ],
      "text/plain": [
       "<IPython.core.display.HTML object>"
      ]
     },
     "metadata": {},
     "output_type": "display_data"
    },
    {
     "data": {
      "application/vnd.jupyter.widget-view+json": {
       "model_id": "",
       "version_major": 2,
       "version_minor": 0
      },
      "text/plain": [
       "FloatProgress(value=0.0, bar_style='info', description='Progress:', layout=Layout(height='25px', width='50%'),…"
      ]
     },
     "metadata": {},
     "output_type": "display_data"
    },
    {
     "name": "stdout",
     "output_type": "stream",
     "text": [
      "SparkSession available as 'spark'.\n"
     ]
    },
    {
     "data": {
      "application/vnd.jupyter.widget-view+json": {
       "model_id": "",
       "version_major": 2,
       "version_minor": 0
      },
      "text/plain": [
       "FloatProgress(value=0.0, bar_style='info', description='Progress:', layout=Layout(height='25px', width='50%'),…"
      ]
     },
     "metadata": {},
     "output_type": "display_data"
    }
   ],
   "source": [
    "t_message=spark.sql(\"\"\"\n",
    "select \n",
    "   `id` , \n",
    "  `customer_id` , \n",
    "  `loan_app_id` , \n",
    "  `trigger` , \n",
    "  `status` , \n",
    "  `sms_status` , \n",
    "  app_push_status,\n",
    "  app_inbox_status,\n",
    "  message_body,\n",
    "  create_time,\n",
    "  update_time,\n",
    " voice_status ,\n",
    "  'insert' as kind,\n",
    "  't_message' as tablenm,\n",
    "  'public' as schema,\n",
    "  '2019-12-11 09:51:49.670' as etldate,\n",
    "  '2019' as year,\n",
    "  '12' as month,\n",
    "  '11' as day\n",
    "  from  `luzon_etl_s3`.`t_message`\n",
    "  where id > 897248  and id < 897269\n",
    "\"\"\")\n",
    "t_message.write.mode(\"append\").partitionBy(\"year\",\"month\",\"day\").orc(\"s3://rupiahplus-data-warehouse/stream/luzon_etl/t_message/\")"
   ]
  },
  {
   "cell_type": "code",
   "execution_count": 17,
   "metadata": {},
   "outputs": [
    {
     "data": {
      "application/vnd.jupyter.widget-view+json": {
       "model_id": "7dd0148622394846a1c91c346ddb1baf",
       "version_major": 2,
       "version_minor": 0
      },
      "text/plain": [
       "VBox()"
      ]
     },
     "metadata": {},
     "output_type": "display_data"
    },
    {
     "data": {
      "application/vnd.jupyter.widget-view+json": {
       "model_id": "",
       "version_major": 2,
       "version_minor": 0
      },
      "text/plain": [
       "FloatProgress(value=0.0, bar_style='info', description='Progress:', layout=Layout(height='25px', width='50%'),…"
      ]
     },
     "metadata": {},
     "output_type": "display_data"
    }
   ],
   "source": [
    "spark.catalog.refreshTable(\"`luzon_etl_s3`.`t_personal_info` \")\n",
    "t_personal_info=spark.sql(\"\"\"\n",
    "select  \n",
    "  'insert' as kind,\n",
    "  '2019-12-30 09:54:00.169' as etldate,\n",
    "  id,\n",
    "  customer_id,\n",
    "  loan_app_id,\n",
    "  full_name,\n",
    "  gender,\n",
    "  credential_no,\n",
    "  credential_type,\n",
    "  province,\n",
    "  city,\n",
    "  district,\n",
    "  area,\n",
    "  address,\n",
    "  last_education,\n",
    "  marital_status,\n",
    "  children_number,\n",
    "  residence_duration,\n",
    "  family_name_in_law,\n",
    "  facebook_id,\n",
    "  car_number,\n",
    "  house_number,\n",
    "  ethnic,\n",
    "  religion,\n",
    "  nationality,\n",
    "  ktp_gender,\n",
    "  ktp_province,\n",
    "  ktp_city,\n",
    "  ktp_district,\n",
    "  ktp_date_of_birth,\n",
    "  ktp_analyze_status,\n",
    "  status,\n",
    "  create_time,\n",
    "  update_time,\n",
    "  email,\n",
    "  active_credential_id,\n",
    "  first_name,\n",
    "  middle_name,\n",
    "  birthday,\n",
    "  last_name,\n",
    "  other_mobile,\n",
    "  '2019' as year,\n",
    "  '12' as month,\n",
    "  '30' as day\n",
    "  from  `luzon_etl_s3`.`t_personal_info`\n",
    "  where id <276897 \n",
    "\"\"\")\n",
    "t_personal_info.write.mode(\"append\").partitionBy(\"year\",\"month\",\"day\").orc(\"s3://rupiahplus-data-warehouse/stream/luzon_etl/t_personal_info/\")"
   ]
  },
  {
   "cell_type": "code",
   "execution_count": 18,
   "metadata": {},
   "outputs": [
    {
     "data": {
      "application/vnd.jupyter.widget-view+json": {
       "model_id": "19542ade37454905bfe044c319fc521e",
       "version_major": 2,
       "version_minor": 0
      },
      "text/plain": [
       "VBox()"
      ]
     },
     "metadata": {},
     "output_type": "display_data"
    },
    {
     "data": {
      "application/vnd.jupyter.widget-view+json": {
       "model_id": "",
       "version_major": 2,
       "version_minor": 0
      },
      "text/plain": [
       "FloatProgress(value=0.0, bar_style='info', description='Progress:', layout=Layout(height='25px', width='50%'),…"
      ]
     },
     "metadata": {},
     "output_type": "display_data"
    }
   ],
   "source": [
    "t_record_bankcard=spark.sql(\"\"\"\n",
    "select \n",
    " 'insert' as kind,\n",
    "  '2019-12-30 23:59:59' as etldate,\n",
    "  *,\n",
    "  '2019' as year,\n",
    "  '12' as month,\n",
    "  '30' as day\n",
    "  from  `luzon_etl_s3`.`t_record_bankcard`\n",
    "  where id <146712 \n",
    "\"\"\")\n",
    "t_record_bankcard.write.mode(\"append\").partitionBy(\"year\",\"month\",\"day\").orc(\"s3://rupiahplus-data-warehouse/stream/luzon_etl/t_record_bankcard/\")"
   ]
  },
  {
   "cell_type": "code",
   "execution_count": 19,
   "metadata": {},
   "outputs": [
    {
     "data": {
      "application/vnd.jupyter.widget-view+json": {
       "model_id": "f5bb184141bb41a1a145a716b6f76099",
       "version_major": 2,
       "version_minor": 0
      },
      "text/plain": [
       "VBox()"
      ]
     },
     "metadata": {},
     "output_type": "display_data"
    },
    {
     "data": {
      "application/vnd.jupyter.widget-view+json": {
       "model_id": "",
       "version_major": 2,
       "version_minor": 0
      },
      "text/plain": [
       "FloatProgress(value=0.0, bar_style='info', description='Progress:', layout=Layout(height='25px', width='50%'),…"
      ]
     },
     "metadata": {},
     "output_type": "display_data"
    }
   ],
   "source": [
    "t_record_contact=spark.sql(\"\"\"\n",
    "select \n",
    "  'insert' as kind,\n",
    "  '2019-12-30 23:59:59' as etldate,\n",
    "  *,\n",
    "  '2019' as year,\n",
    "  '12' as month,\n",
    "  '30' as day\n",
    "  from  `luzon_etl_s3`.`t_record_contact`\n",
    "  where id <507435 \n",
    "\"\"\")\n",
    "t_record_contact.write.mode(\"append\").partitionBy(\"year\",\"month\",\"day\").orc(\"s3://rupiahplus-data-warehouse/stream/luzon_etl/t_record_contact/\")"
   ]
  },
  {
   "cell_type": "code",
   "execution_count": 12,
   "metadata": {},
   "outputs": [
    {
     "data": {
      "application/vnd.jupyter.widget-view+json": {
       "model_id": "a427772fa99f4a3687ae3a4103e4a797",
       "version_major": 2,
       "version_minor": 0
      },
      "text/plain": [
       "VBox()"
      ]
     },
     "metadata": {},
     "output_type": "display_data"
    },
    {
     "data": {
      "application/vnd.jupyter.widget-view+json": {
       "model_id": "",
       "version_major": 2,
       "version_minor": 0
      },
      "text/plain": [
       "FloatProgress(value=0.0, bar_style='info', description='Progress:', layout=Layout(height='25px', width='50%'),…"
      ]
     },
     "metadata": {},
     "output_type": "display_data"
    }
   ],
   "source": [
    "t_record_contact=spark.sql(\"\"\"\n",
    "select \n",
    "  *,\n",
    "  'insert' as kind,\n",
    "  't_record_contact' as tablenm,\n",
    "  'public' as schema,\n",
    "  '2019-12-11 09:54:02.863' as etldate,\n",
    "  '2019' as year,\n",
    "  '12' as month,\n",
    "  '11' as day\n",
    "  from  `luzon_etl_s3`.`t_record_contact`\n",
    "  where id in (461410,461411,461412)\n",
    "\"\"\")\n",
    "t_record_contact.write.mode(\"append\").partitionBy(\"year\",\"month\",\"day\").orc(\"s3://rupiahplus-data-warehouse/stream/luzon_etl/t_record_contact/\")"
   ]
  },
  {
   "cell_type": "code",
   "execution_count": 33,
   "metadata": {},
   "outputs": [
    {
     "data": {
      "application/vnd.jupyter.widget-view+json": {
       "model_id": "b9c6d245d0fb4f44b5ae29e7032a892b",
       "version_major": 2,
       "version_minor": 0
      },
      "text/plain": [
       "VBox()"
      ]
     },
     "metadata": {},
     "output_type": "display_data"
    },
    {
     "data": {
      "application/vnd.jupyter.widget-view+json": {
       "model_id": "",
       "version_major": 2,
       "version_minor": 0
      },
      "text/plain": [
       "FloatProgress(value=0.0, bar_style='info', description='Progress:', layout=Layout(height='25px', width='50%'),…"
      ]
     },
     "metadata": {},
     "output_type": "display_data"
    }
   ],
   "source": [
    "t_record_employment=spark.sql(\"\"\"\n",
    "select \n",
    "  'insert' as kind,\n",
    "  '2019-12-30 23:59:59' as etldate,\n",
    "  *,\n",
    "  '2019' as year,\n",
    "  '12' as month,\n",
    "  '30' as day\n",
    "  from  `luzon_etl_s3`.`t_record_employment`\n",
    "  where id <231013 \n",
    "\"\"\")\n",
    "t_record_employment.write.mode(\"append\").partitionBy(\"year\",\"month\",\"day\").orc(\"s3://rupiahplus-data-warehouse/stream/luzon_etl/t_record_employment/\")"
   ]
  },
  {
   "cell_type": "code",
   "execution_count": 1,
   "metadata": {},
   "outputs": [
    {
     "data": {
      "application/vnd.jupyter.widget-view+json": {
       "model_id": "24be4288dfa94ee084b08f890b523031",
       "version_major": 2,
       "version_minor": 0
      },
      "text/plain": [
       "VBox()"
      ]
     },
     "metadata": {},
     "output_type": "display_data"
    },
    {
     "name": "stdout",
     "output_type": "stream",
     "text": [
      "Starting Spark application\n"
     ]
    },
    {
     "data": {
      "text/html": [
       "<table>\n",
       "<tr><th>ID</th><th>YARN Application ID</th><th>Kind</th><th>State</th><th>Spark UI</th><th>Driver log</th><th>Current session?</th></tr><tr><td>0</td><td>application_1576116773731_0001</td><td>pyspark</td><td>idle</td><td><a target=\"_blank\" href=\"http://ip-172-31-4-129.ap-southeast-1.compute.internal:20888/proxy/application_1576116773731_0001/\">Link</a></td><td><a target=\"_blank\" href=\"http://ip-172-31-6-62.ap-southeast-1.compute.internal:8042/node/containerlogs/container_1576116773731_0001_01_000001/livy\">Link</a></td><td>✔</td></tr></table>"
      ],
      "text/plain": [
       "<IPython.core.display.HTML object>"
      ]
     },
     "metadata": {},
     "output_type": "display_data"
    },
    {
     "data": {
      "application/vnd.jupyter.widget-view+json": {
       "model_id": "",
       "version_major": 2,
       "version_minor": 0
      },
      "text/plain": [
       "FloatProgress(value=0.0, bar_style='info', description='Progress:', layout=Layout(height='25px', width='50%'),…"
      ]
     },
     "metadata": {},
     "output_type": "display_data"
    },
    {
     "name": "stdout",
     "output_type": "stream",
     "text": [
      "SparkSession available as 'spark'.\n"
     ]
    },
    {
     "data": {
      "application/vnd.jupyter.widget-view+json": {
       "model_id": "",
       "version_major": 2,
       "version_minor": 0
      },
      "text/plain": [
       "FloatProgress(value=0.0, bar_style='info', description='Progress:', layout=Layout(height='25px', width='50%'),…"
      ]
     },
     "metadata": {},
     "output_type": "display_data"
    }
   ],
   "source": [
    "t_record_employment=spark.sql(\"\"\"\n",
    "select \n",
    "  *,\n",
    "  'insert' as kind,\n",
    "  't_record_employment' as tablenm,\n",
    "  'public' as schema,\n",
    "  '\t2019-12-11 09:53:19.116' as etldate,\n",
    "  '2019' as year,\n",
    "  '12' as month,\n",
    "  '11' as day\n",
    "  from  `luzon_etl_s3`.`t_record_employment`\n",
    "  where id  = 225450\n",
    "\"\"\")\n",
    "t_record_employment.write.mode(\"append\").partitionBy(\"year\",\"month\",\"day\").orc(\"s3://rupiahplus-data-warehouse/stream/luzon_etl/t_record_employment/\")"
   ]
  },
  {
   "cell_type": "code",
   "execution_count": 34,
   "metadata": {},
   "outputs": [
    {
     "data": {
      "application/vnd.jupyter.widget-view+json": {
       "model_id": "cfc4893ed559410cb6d83e00d5f76094",
       "version_major": 2,
       "version_minor": 0
      },
      "text/plain": [
       "VBox()"
      ]
     },
     "metadata": {},
     "output_type": "display_data"
    },
    {
     "data": {
      "application/vnd.jupyter.widget-view+json": {
       "model_id": "",
       "version_major": 2,
       "version_minor": 0
      },
      "text/plain": [
       "FloatProgress(value=0.0, bar_style='info', description='Progress:', layout=Layout(height='25px', width='50%'),…"
      ]
     },
     "metadata": {},
     "output_type": "display_data"
    }
   ],
   "source": [
    "t_record_file=spark.sql(\"\"\"\n",
    "select \n",
    "  *,\n",
    "  'insert' as kind,\n",
    "  't_record_file' as tablenm,\n",
    "  'public' as schema,\n",
    "  '2019-12-30 23:59:59' as etldate,\n",
    "  '2019' as year,\n",
    "  '12' as month,\n",
    "  '30' as day\n",
    "  from  `luzon_etl_s3`.`t_record_file`\n",
    "  where id <344321 \n",
    "\"\"\")\n",
    "t_record_file.write.mode(\"append\").partitionBy(\"year\",\"month\",\"day\").orc(\"s3://rupiahplus-data-warehouse/stream/luzon_etl/t_record_file/\")"
   ]
  },
  {
   "cell_type": "code",
   "execution_count": 35,
   "metadata": {},
   "outputs": [
    {
     "data": {
      "application/vnd.jupyter.widget-view+json": {
       "model_id": "818d1e2824ba462da0207eb5cda3c382",
       "version_major": 2,
       "version_minor": 0
      },
      "text/plain": [
       "VBox()"
      ]
     },
     "metadata": {},
     "output_type": "display_data"
    },
    {
     "data": {
      "application/vnd.jupyter.widget-view+json": {
       "model_id": "",
       "version_major": 2,
       "version_minor": 0
      },
      "text/plain": [
       "FloatProgress(value=0.0, bar_style='info', description='Progress:', layout=Layout(height='25px', width='50%'),…"
      ]
     },
     "metadata": {},
     "output_type": "display_data"
    }
   ],
   "source": [
    "t_record_personal_info=spark.sql(\"\"\"\n",
    "select \n",
    "  *,\n",
    "  'insert' as kind,\n",
    "  't_record_personal_info' as tablenm,\n",
    "  'public' as schema,\n",
    "  '2019-12-30 23:59:59' as etldate,\n",
    "  '2019' as year,\n",
    "  '12' as month,\n",
    "  '30' as day\n",
    "  from  `luzon_etl_s3`.`t_record_personal_info`\n",
    "  where id <241990 \n",
    "\"\"\")\n",
    "t_record_personal_info.write.mode(\"append\").partitionBy(\"year\",\"month\",\"day\").orc(\"s3://rupiahplus-data-warehouse/stream/luzon_etl/t_record_personal_info/\")"
   ]
  },
  {
   "cell_type": "code",
   "execution_count": 36,
   "metadata": {},
   "outputs": [
    {
     "data": {
      "application/vnd.jupyter.widget-view+json": {
       "model_id": "7ca67e9f5bd749a58df51671945b66f8",
       "version_major": 2,
       "version_minor": 0
      },
      "text/plain": [
       "VBox()"
      ]
     },
     "metadata": {},
     "output_type": "display_data"
    },
    {
     "data": {
      "application/vnd.jupyter.widget-view+json": {
       "model_id": "",
       "version_major": 2,
       "version_minor": 0
      },
      "text/plain": [
       "FloatProgress(value=0.0, bar_style='info', description='Progress:', layout=Layout(height='25px', width='50%'),…"
      ]
     },
     "metadata": {},
     "output_type": "display_data"
    }
   ],
   "source": [
    "t_review_step_execution=spark.sql(\"\"\"\n",
    "select \n",
    "  *,\n",
    "  'insert' as kind,\n",
    "  't_review_step_execution' as tablenm,\n",
    "  'public' as schema,\n",
    "  '2019-12-30 23:59:59' as etldate,\n",
    "  '2019' as year,\n",
    "  '12' as month,\n",
    "  '30' as day\n",
    "  from  `luzon_etl_s3`.`t_review_step_execution`\n",
    "  where id <395963 \n",
    "\"\"\")\n",
    "t_review_step_execution.write.mode(\"append\").partitionBy(\"year\",\"month\",\"day\").orc(\"s3://rupiahplus-data-warehouse/stream/luzon_etl/t_review_step_execution/\")"
   ]
  },
  {
   "cell_type": "code",
   "execution_count": 4,
   "metadata": {},
   "outputs": [
    {
     "data": {
      "application/vnd.jupyter.widget-view+json": {
       "model_id": "dcf263d17cae4c22a0d9ffde8df7df9e",
       "version_major": 2,
       "version_minor": 0
      },
      "text/plain": [
       "VBox()"
      ]
     },
     "metadata": {},
     "output_type": "display_data"
    },
    {
     "data": {
      "application/vnd.jupyter.widget-view+json": {
       "model_id": "",
       "version_major": 2,
       "version_minor": 0
      },
      "text/plain": [
       "FloatProgress(value=0.0, bar_style='info', description='Progress:', layout=Layout(height='25px', width='50%'),…"
      ]
     },
     "metadata": {},
     "output_type": "display_data"
    }
   ],
   "source": [
    "t_review_step_execution=spark.sql(\"\"\"\n",
    "select \n",
    "  *,\n",
    "  'insert' as kind,\n",
    "  't_review_step_execution' as tablenm,\n",
    "  'public' as schema,\n",
    "  '2019-12-10 19:08:20.33' as etldate,\n",
    "  '2019' as year,\n",
    "  '12' as month,\n",
    "  '10' as day\n",
    "  from  `luzon_etl_s3`.`t_review_step_execution`\n",
    "  where id =381433\n",
    "\"\"\")\n",
    "t_review_step_execution.write.mode(\"append\").partitionBy(\"year\",\"month\",\"day\").orc(\"s3://rupiahplus-data-warehouse/stream/luzon_etl/t_review_step_execution/\")"
   ]
  },
  {
   "cell_type": "code",
   "execution_count": 37,
   "metadata": {},
   "outputs": [
    {
     "data": {
      "application/vnd.jupyter.widget-view+json": {
       "model_id": "223e6978ce7c4912b8993dabb8b2b8ff",
       "version_major": 2,
       "version_minor": 0
      },
      "text/plain": [
       "VBox()"
      ]
     },
     "metadata": {},
     "output_type": "display_data"
    },
    {
     "data": {
      "application/vnd.jupyter.widget-view+json": {
       "model_id": "",
       "version_major": 2,
       "version_minor": 0
      },
      "text/plain": [
       "FloatProgress(value=0.0, bar_style='info', description='Progress:', layout=Layout(height='25px', width='50%'),…"
      ]
     },
     "metadata": {},
     "output_type": "display_data"
    }
   ],
   "source": [
    "t_sms=spark.sql(\"\"\"\n",
    "select \n",
    "  *,\n",
    "  'insert' as kind,\n",
    "  't_sms' as tablenm,\n",
    "  'public' as schema,\n",
    "  '2019-12-30 23:59:59' as etldate,\n",
    "  '2019' as year,\n",
    "  '12' as month,\n",
    "  '30' as day\n",
    "  from  `luzon_etl_s3`.`t_sms`\n",
    "  where id < 827645\n",
    "\"\"\")\n",
    "t_sms.write.mode(\"append\").partitionBy(\"year\",\"month\",\"day\").orc(\"s3://rupiahplus-data-warehouse/stream/luzon_etl/t_sms/\")"
   ]
  },
  {
   "cell_type": "code",
   "execution_count": 5,
   "metadata": {},
   "outputs": [
    {
     "data": {
      "application/vnd.jupyter.widget-view+json": {
       "model_id": "fb78b7ed80284bb08e60a320c1cdab29",
       "version_major": 2,
       "version_minor": 0
      },
      "text/plain": [
       "VBox()"
      ]
     },
     "metadata": {},
     "output_type": "display_data"
    },
    {
     "data": {
      "application/vnd.jupyter.widget-view+json": {
       "model_id": "",
       "version_major": 2,
       "version_minor": 0
      },
      "text/plain": [
       "FloatProgress(value=0.0, bar_style='info', description='Progress:', layout=Layout(height='25px', width='50%'),…"
      ]
     },
     "metadata": {},
     "output_type": "display_data"
    }
   ],
   "source": [
    "t_sms=spark.sql(\"\"\"\n",
    "select \n",
    "  *,\n",
    "  'insert' as kind,\n",
    "  't_sms' as tablenm,\n",
    "  'public' as schema,\n",
    "  '2019-12-11 09:51:49.655' as etldate,\n",
    "  '2019' as year,\n",
    "  '12' as month,\n",
    "  '11' as day\n",
    "  from  `luzon_etl_s3`.`t_sms`\n",
    "  where id <787408 and id > 787394\n",
    "\"\"\")\n",
    "t_sms.write.mode(\"append\").partitionBy(\"year\",\"month\",\"day\").orc(\"s3://rupiahplus-data-warehouse/stream/luzon_etl/t_sms/\")"
   ]
  },
  {
   "cell_type": "code",
   "execution_count": 38,
   "metadata": {},
   "outputs": [
    {
     "data": {
      "application/vnd.jupyter.widget-view+json": {
       "model_id": "8c86035f8bca4f12961af7f1c0cc58ab",
       "version_major": 2,
       "version_minor": 0
      },
      "text/plain": [
       "VBox()"
      ]
     },
     "metadata": {},
     "output_type": "display_data"
    },
    {
     "data": {
      "application/vnd.jupyter.widget-view+json": {
       "model_id": "",
       "version_major": 2,
       "version_minor": 0
      },
      "text/plain": [
       "FloatProgress(value=0.0, bar_style='info', description='Progress:', layout=Layout(height='25px', width='50%'),…"
      ]
     },
     "metadata": {},
     "output_type": "display_data"
    }
   ],
   "source": [
    "t_virtual_account=spark.sql(\"\"\"\n",
    "select \n",
    "  *,\n",
    "  'insert' as kind,\n",
    "  't_virtual_account' as tablenm,\n",
    "  'public' as schema,\n",
    "  '2019-12-30 23:59:59' as etldate,\n",
    "  '2019' as year,\n",
    "  '12' as month,\n",
    "  '30' as day\n",
    "  from  `luzon_etl_s3`.`t_virtual_account`\n",
    "\"\"\")\n",
    "t_virtual_account.write.mode(\"append\").partitionBy(\"year\",\"month\",\"day\").orc(\"s3://rupiahplus-data-warehouse/stream/luzon_etl/t_virtual_account/\")"
   ]
  },
  {
   "cell_type": "code",
   "execution_count": 39,
   "metadata": {},
   "outputs": [
    {
     "data": {
      "application/vnd.jupyter.widget-view+json": {
       "model_id": "6c661ee7799c469bb2e91fe3a0ef98be",
       "version_major": 2,
       "version_minor": 0
      },
      "text/plain": [
       "VBox()"
      ]
     },
     "metadata": {},
     "output_type": "display_data"
    },
    {
     "data": {
      "application/vnd.jupyter.widget-view+json": {
       "model_id": "",
       "version_major": 2,
       "version_minor": 0
      },
      "text/plain": [
       "FloatProgress(value=0.0, bar_style='info', description='Progress:', layout=Layout(height='25px', width='50%'),…"
      ]
     },
     "metadata": {},
     "output_type": "display_data"
    }
   ],
   "source": [
    "t_review_blacklist=spark.sql(\"\"\"\n",
    "select \n",
    "  *,\n",
    "  'insert' as kind,\n",
    "  't_review_blacklist' as tablenm,\n",
    "  'public' as schema,\n",
    "  '2019-12-30 23:59:59' as etldate,\n",
    "  '2019' as year,\n",
    "  '12' as month,\n",
    "  '30' as day\n",
    "  from  `luzon_etl_s3`.`t_review_blacklist`\n",
    "\"\"\")\n",
    "t_review_blacklist.write.mode(\"append\").partitionBy(\"year\",\"month\",\"day\").orc(\"s3://rupiahplus-data-warehouse/stream/luzon_etl/t_review_blacklist/\")"
   ]
  },
  {
   "cell_type": "code",
   "execution_count": 6,
   "metadata": {},
   "outputs": [
    {
     "data": {
      "application/vnd.jupyter.widget-view+json": {
       "model_id": "fe0c6a7cd87549d3b804f12965bd236d",
       "version_major": 2,
       "version_minor": 0
      },
      "text/plain": [
       "VBox()"
      ]
     },
     "metadata": {},
     "output_type": "display_data"
    },
    {
     "data": {
      "application/vnd.jupyter.widget-view+json": {
       "model_id": "",
       "version_major": 2,
       "version_minor": 0
      },
      "text/plain": [
       "FloatProgress(value=0.0, bar_style='info', description='Progress:', layout=Layout(height='25px', width='50%'),…"
      ]
     },
     "metadata": {},
     "output_type": "display_data"
    },
    {
     "name": "stderr",
     "output_type": "stream",
     "text": [
      "'path s3://rupiahplus-data-warehouse/stream/luzon_etl/test already exists.;'\n",
      "Traceback (most recent call last):\n",
      "  File \"/usr/lib/spark/python/lib/pyspark.zip/pyspark/sql/readwriter.py\", line 959, in orc\n",
      "    self._jwrite.orc(path)\n",
      "  File \"/usr/lib/spark/python/lib/py4j-0.10.7-src.zip/py4j/java_gateway.py\", line 1257, in __call__\n",
      "    answer, self.gateway_client, self.target_id, self.name)\n",
      "  File \"/usr/lib/spark/python/lib/pyspark.zip/pyspark/sql/utils.py\", line 69, in deco\n",
      "    raise AnalysisException(s.split(': ', 1)[1], stackTrace)\n",
      "pyspark.sql.utils.AnalysisException: 'path s3://rupiahplus-data-warehouse/stream/luzon_etl/test already exists.;'\n",
      "\n"
     ]
    }
   ],
   "source": [
    "test=spark.sql(\"\"\"\n",
    "select \n",
    "1 as id,\n",
    "2 as count,\n",
    "  '2019' as year,\n",
    "  '12' as month,\n",
    "  '12' as day\n",
    "\"\"\")\n",
    "test.write.mode(\"error\").partitionBy(\"year\",\"month\",\"day\").orc(\"s3://rupiahplus-data-warehouse/stream/luzon_etl/test/\")"
   ]
  }
 ],
 "metadata": {
  "kernelspec": {
   "display_name": "PySpark",
   "language": "",
   "name": "pysparkkernel"
  },
  "language_info": {
   "codemirror_mode": {
    "name": "python",
    "version": 2
   },
   "mimetype": "text/x-python",
   "name": "pyspark",
   "pygments_lexer": "python2"
  }
 },
 "nbformat": 4,
 "nbformat_minor": 4
}
