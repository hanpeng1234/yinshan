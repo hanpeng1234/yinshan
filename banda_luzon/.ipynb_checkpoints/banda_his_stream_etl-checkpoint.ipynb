{
 "cells": [
  {
   "cell_type": "markdown",
   "metadata": {},
   "source": [
    ">\n",
    ">\n",
    ">  同步历史数据\n",
    ">\n",
    ">"
   ]
  },
  {
   "cell_type": "code",
   "execution_count": 1,
   "metadata": {},
   "outputs": [
    {
     "data": {
      "application/vnd.jupyter.widget-view+json": {
       "model_id": "6272d99b967944e5bb53e137070394e2",
       "version_major": 2,
       "version_minor": 0
      },
      "text/plain": [
       "VBox()"
      ]
     },
     "metadata": {},
     "output_type": "display_data"
    },
    {
     "name": "stdout",
     "output_type": "stream",
     "text": [
      "Starting Spark application\n"
     ]
    },
    {
     "data": {
      "text/html": [
       "<table>\n",
       "<tr><th>ID</th><th>YARN Application ID</th><th>Kind</th><th>State</th><th>Spark UI</th><th>Driver log</th><th>Current session?</th></tr><tr><td>1</td><td>application_1629793254659_0004</td><td>pyspark</td><td>idle</td><td><a target=\"_blank\" href=\"http://ip-10-3-0-76.ap-southeast-1.compute.internal:20888/proxy/application_1629793254659_0004/\">Link</a></td><td><a target=\"_blank\" href=\"http://ip-10-3-0-20.ap-southeast-1.compute.internal:8042/node/containerlogs/container_1629793254659_0004_01_000001/livy\">Link</a></td><td>✔</td></tr></table>"
      ],
      "text/plain": [
       "<IPython.core.display.HTML object>"
      ]
     },
     "metadata": {},
     "output_type": "display_data"
    },
    {
     "data": {
      "application/vnd.jupyter.widget-view+json": {
       "model_id": "",
       "version_major": 2,
       "version_minor": 0
      },
      "text/plain": [
       "FloatProgress(value=0.0, bar_style='info', description='Progress:', layout=Layout(height='25px', width='50%'),…"
      ]
     },
     "metadata": {},
     "output_type": "display_data"
    },
    {
     "name": "stdout",
     "output_type": "stream",
     "text": [
      "SparkSession available as 'spark'.\n"
     ]
    },
    {
     "data": {
      "application/vnd.jupyter.widget-view+json": {
       "model_id": "",
       "version_major": 2,
       "version_minor": 0
      },
      "text/plain": [
       "FloatProgress(value=0.0, bar_style='info', description='Progress:', layout=Layout(height='25px', width='50%'),…"
      ]
     },
     "metadata": {},
     "output_type": "display_data"
    },
    {
     "name": "stdout",
     "output_type": "stream",
     "text": [
      "t_admin\n",
      "t_admin_audit\n",
      "t_admin_group\n",
      "t_admin_group_rel\n",
      "t_af_bill\n",
      "t_ai_rudder_schedule_mobile\n",
      "t_amount_reduce_record\n",
      "t_auto_review_loan\n",
      "t_bankcard\n",
      "t_bankcard_merchant\n",
      "t_bankcard_verify\n",
      "t_brick\n",
      "t_call_center_info\n",
      "t_call_center_log\n",
      "t_case_distribution_log\n",
      "t_case_reviewer\n",
      "t_channel_details\n",
      "t_clear_detail_log\n",
      "t_code\n",
      "t_collection_audit\n",
      "t_collection_blacklist\n",
      "t_contact\n",
      "t_coupon_request\n",
      "t_coupon_send\n",
      "t_customer\n",
      "t_customer_app\n",
      "t_customer_device_info\n",
      "t_customer_install_info\n",
      "t_customer_tag_rel\n",
      "t_data_upload_loan\n",
      "t_data_upload_log\n",
      "t_data_upload_repay\n",
      "t_data_upload_user\n",
      "t_date_range\n",
      "t_department_group\n",
      "t_deposit_callback_log\n",
      "t_employment\n",
      "t_engine_rule_detail\n",
      "t_file\n",
      "t_fraud_check\n",
      "t_group\n",
      "t_hit_blacklist_record\n",
      "t_invitation\n",
      "t_job_metric\n",
      "t_loan_app\n",
      "t_loan_app_review_summary\n",
      "t_loan_app_status_log\n",
      "t_loan_issue\n",
      "t_loan_log\n",
      "t_loan_tag_rel\n",
      "t_login_log\n",
      "t_lpay\n",
      "t_lpay_deposit\n",
      "t_message\n",
      "t_mobile_tag_rel\n",
      "t_out_standing_loan_balance\n",
      "t_password_update_record\n",
      "t_personal_info\n",
      "t_record_bankcard\n",
      "t_record_contact\n",
      "t_record_employment\n",
      "t_record_file\n",
      "t_record_personal_info\n",
      "t_reduce\n",
      "t_review_blacklist\n",
      "t_review_step_execution\n",
      "t_send_coupon_rel\n",
      "t_sms\n",
      "t_tag\n",
      "t_test_customer\n",
      "t_thirdparty_data\n",
      "t_tongdun_data\n",
      "t_trigger_group\n",
      "t_virtual_account\n",
      "None\n",
      "None\n",
      "None\n",
      "None\n",
      "None\n",
      "None\n",
      "None\n",
      "None\n",
      "None\n",
      "None\n",
      "None\n",
      "None\n",
      "None\n",
      "None\n",
      "None\n",
      "None\n",
      "None\n",
      "None\n",
      "None\n",
      "None\n",
      "None\n",
      "None\n",
      "None\n",
      "None\n",
      "None\n",
      "None\n",
      "None\n",
      "None\n",
      "None\n",
      "None\n",
      "None\n",
      "None\n",
      "None\n",
      "None\n",
      "None\n",
      "None\n",
      "None\n",
      "None\n",
      "None\n",
      "None\n",
      "None\n",
      "None\n",
      "None\n",
      "None\n",
      "None\n",
      "None\n",
      "None\n",
      "None\n",
      "None\n",
      "None\n",
      "None\n",
      "None\n",
      "None\n",
      "None\n",
      "None\n",
      "None\n",
      "None\n",
      "None\n",
      "None\n",
      "None\n",
      "None\n",
      "None\n",
      "None\n",
      "None\n",
      "None\n",
      "None\n",
      "None\n",
      "None\n",
      "None\n",
      "None\n",
      "None\n",
      "None\n",
      "None\n",
      "None"
     ]
    }
   ],
   "source": [
    "import sys\n",
    "from concurrent import futures\n",
    "import numpy as np\n",
    "from pyspark.sql import SparkSession\n",
    "from datetime import datetime,timedelta\n",
    "import pytz\n",
    "tablemap={\"banda_emr_etl\":\"banda\"} #,\n",
    "first=\" select 'insert' as kind, '2021-01-01 23:59:59' as etldate,0 as  etlindex, \"\n",
    "end=\" , '2021' as year,   '01' as month,  '01' as day from  \"\n",
    "def getTableColum(tableNm,b):\n",
    "    colum=\"\"\n",
    "    for index in range(len(b)):\n",
    "        colum=colum+setDef(b[index][\"data_type\"],b[index][\"col_name\"],tableNm)+\", \"\n",
    "    return colum[0:len(colum)-2]\n",
    "def setDef(type,table_col,tableNm):\n",
    "    if(type[:7] == 'boolean'):\n",
    "        return \"cast (\"+table_col+\" as string ) as \"+table_col\n",
    "    else:\n",
    "        return table_col\n",
    "def make_col_temptable(databaseName,row,stream_tableList):\n",
    "    tableName=row[\"tableName\"]\n",
    "#     tableName in stream_tableList and \n",
    "    print(tableName)\n",
    "#      and (tableName=='t_data_upload_log' or tableName=='t_data_upload_loan' or tableName=='t_data_upload_repay' or tableName=='t_data_upload_user')\n",
    "    if tableName=='t_call_center_info'  :\n",
    "        tablecolum=\"desc \" +databaseName+\".\"+tableName;\n",
    "        tableSchema= spark.sql(tablecolum).collect()\n",
    "        sql=first+ getTableColum(tableName,tableSchema)+end+databaseName+\".\"+tableName\n",
    "        path=\"s3://rupiahplus-data-warehouse/stream/\"+tablemap[databaseName]+\"_etl/\"+tableName+\"/\"\n",
    "    #         print(sql)\n",
    "        spark.sql(sql).write.mode(\"append\").partitionBy(\"year\",\"month\",\"day\").orc(path)\n",
    "if __name__ == \"builtins\":\n",
    "    spark = SparkSession\\\n",
    "        .builder\\\n",
    "        .appName(\"Python Demo\")\\\n",
    "        .config(\"hive.metastore.client.factory.class\", \"com.amazonaws.glue.catalog.metastore.AWSGlueDataCatalogHiveClientFactory\") \\\n",
    "        .enableHiveSupport()\\\n",
    "        .getOrCreate() \n",
    "#     spark.conf.set(\"spark.scheduler.mode\",\"FAIR\")\n",
    "    spark.conf.set(\"spark.sql.shuffle.partitions\",20)\n",
    "    df=spark.sql(\"\"\"show tables in banda_stream_etl\"\"\").collect()\n",
    "    stream_tableList=[]\n",
    "    for i in df:\n",
    "        stream_tableList.append(i['tableName'])\n",
    "    for databaseName in tablemap:\n",
    "        databasesql=\"show tables in \"+\"banda_emr_etl\"\n",
    "        tables=spark.sql(databasesql)\n",
    "        tablelist=tables.collect();\n",
    "        executor=None\n",
    "        with futures.ThreadPoolExecutor(max_workers=10) as executor:\n",
    "            futures_result=futures.wait([executor.submit(make_col_temptable,databaseName, tableNm,stream_tableList) for tableNm in tablelist])\n",
    "            for  future in futures_result[0]:\n",
    "                print(future.result())\n"
   ]
  },
  {
   "cell_type": "markdown",
   "metadata": {},
   "source": [
    ">>>>>>>>>>>>\n",
    ">>>>>>>>>>>\n",
    ">>>>>>>>>\n",
    "step function的代碼\n",
    ">>>>>>>>>>>\n",
    ">>>>>>>>>>>"
   ]
  },
  {
   "cell_type": "code",
   "execution_count": 2,
   "metadata": {},
   "outputs": [
    {
     "data": {
      "application/vnd.jupyter.widget-view+json": {
       "model_id": "94e207f133034e8ebace24527853a491",
       "version_major": 2,
       "version_minor": 0
      },
      "text/plain": [
       "VBox()"
      ]
     },
     "metadata": {},
     "output_type": "display_data"
    },
    {
     "data": {
      "application/vnd.jupyter.widget-view+json": {
       "model_id": "",
       "version_major": 2,
       "version_minor": 0
      },
      "text/plain": [
       "FloatProgress(value=0.0, bar_style='info', description='Progress:', layout=Layout(height='25px', width='50%'),…"
      ]
     },
     "metadata": {},
     "output_type": "display_data"
    },
    {
     "name": "stdout",
     "output_type": "stream",
     "text": [
      "banda"
     ]
    }
   ],
   "source": [
    "# -*- coding: UTF-8 -*-\n",
    "import sys\n",
    "from concurrent import futures\n",
    "import numpy as np\n",
    "from pyspark.sql import SparkSession\n",
    "from datetime import datetime,timedelta\n",
    "import pytz\n",
    "streamDataBase=\"banda_stream_etl\"\n",
    "tablemap={\"undi\":\"banda\"} #,\n",
    "# tablemap=\"#tableMapParams#\"\n",
    "tableList={\"banda\":[\"t_admin\",\"t_admin_audit\"]} \n",
    "# tableList=\"#tableListParams#\"\n",
    "first=\" select 'insert' as kind, '2020-08-01 23:59:59' as etldate,0 as  etlindex, \"\n",
    "end=\" , '2020' as year,   '08' as month,  '01' as day from  \"\n",
    "def getTableColum(tableNm,b):\n",
    "    colum=\"\"\n",
    "    for index in range(len(b)):\n",
    "        colum=colum+setDef(b[index][\"data_type\"],b[index][\"col_name\"],tableNm)+\", \"\n",
    "    return colum[0:len(colum)-2]\n",
    "def setDef(type,table_col,tableNm):\n",
    "    if(tableNm=='t_auto_review_loan' and type[:7] == 'boolean'):\n",
    "        return \"cast (\"+table_col+\" as string ) as \"+table_col\n",
    "    else:\n",
    "        return table_col\n",
    "def make_col_temptable(databaseName,row):\n",
    "    tableName=row[\"tableName\"]\n",
    "#     tablecolum=\"desc \" +databaseName+\".\"+tableName;\n",
    "#     tableSchema= spark.sql(tablecolum).collect()\n",
    "#     sql=first+ getTableColum(tableName,tableSchema)+end+databaseName+\".\"+tableName\n",
    "#     path=\"s3://rupiahplus-data-warehouse/stream/\"+tablemap[databaseName]+\"_etl/\"+tableName+\"/\"\n",
    "#     spark.sql(sql).write.mode(\"append\").partitionBy(\"year\",\"month\",\"day\").orc(path)\n",
    "if __name__ == \"builtins\":\n",
    "    spark = SparkSession\\\n",
    "        .builder\\\n",
    "        .appName(\"Python Demo\")\\\n",
    "        .config(\"hive.metastore.client.factory.class\", \"com.amazonaws.glue.catalog.metastore.AWSGlueDataCatalogHiveClientFactory\") \\\n",
    "        .enableHiveSupport()\\\n",
    "        .getOrCreate()\n",
    "#     spark.conf.set(\"spark.scheduler.mode\",\"FAIR\")\n",
    "    spark.conf.set(\"spark.sql.shuffle.partitions\",20)\n",
    "    for databaseName in tablemap:\n",
    "        databasesql=\"show tables in \"+streamDataBase\n",
    "        tables=spark.sql(databasesql)\n",
    "        tablelist=tables.collect();\n",
    "        ls=[]\n",
    "        if tablemap[databaseName] in tableList :\n",
    "            print(tablemap[databaseName])\n",
    "#             for table in tableList[tablemap[databaseName]]:\n",
    "#                 if table=='*':\n",
    "#                     ls =tablelist\n",
    "#                 else:\n",
    "#                     ls=ls+[tb for tb in tablelist if tb[\"tableName\"]==table]\n",
    "#             print(ls)\n",
    "#             executor=None\n",
    "#             with futures.ThreadPoolExecutor(max_workers=10) as executor:\n",
    "#                 futures_result=futures.wait([executor.submit(make_col_temptable,databaseName, tableNm) for tableNm in ls])\n",
    "#                 for  future in futures_result[0]:\n",
    "#                     print(future.result())\n"
   ]
  },
  {
   "cell_type": "code",
   "execution_count": 1,
   "metadata": {},
   "outputs": [
    {
     "data": {
      "application/vnd.jupyter.widget-view+json": {
       "model_id": "c629c19ffca748af87a965928a7f6a4e",
       "version_major": 2,
       "version_minor": 0
      },
      "text/plain": [
       "VBox()"
      ]
     },
     "metadata": {},
     "output_type": "display_data"
    },
    {
     "name": "stdout",
     "output_type": "stream",
     "text": [
      "Starting Spark application\n"
     ]
    },
    {
     "data": {
      "text/html": [
       "<table>\n",
       "<tr><th>ID</th><th>YARN Application ID</th><th>Kind</th><th>State</th><th>Spark UI</th><th>Driver log</th><th>Current session?</th></tr><tr><td>0</td><td>application_1605495800754_0002</td><td>pyspark</td><td>idle</td><td><a target=\"_blank\" href=\"http://ip-172-31-2-145.ap-southeast-1.compute.internal:20888/proxy/application_1605495800754_0002/\">Link</a></td><td><a target=\"_blank\" href=\"http://ip-172-31-10-95.ap-southeast-1.compute.internal:8042/node/containerlogs/container_1605495800754_0002_01_000001/livy\">Link</a></td><td>✔</td></tr></table>"
      ],
      "text/plain": [
       "<IPython.core.display.HTML object>"
      ]
     },
     "metadata": {},
     "output_type": "display_data"
    },
    {
     "data": {
      "application/vnd.jupyter.widget-view+json": {
       "model_id": "",
       "version_major": 2,
       "version_minor": 0
      },
      "text/plain": [
       "FloatProgress(value=0.0, bar_style='info', description='Progress:', layout=Layout(height='25px', width='50%'),…"
      ]
     },
     "metadata": {},
     "output_type": "display_data"
    },
    {
     "name": "stdout",
     "output_type": "stream",
     "text": [
      "SparkSession available as 'spark'.\n"
     ]
    },
    {
     "data": {
      "application/vnd.jupyter.widget-view+json": {
       "model_id": "",
       "version_major": 2,
       "version_minor": 0
      },
      "text/plain": [
       "FloatProgress(value=0.0, bar_style='info', description='Progress:', layout=Layout(height='25px', width='50%'),…"
      ]
     },
     "metadata": {},
     "output_type": "display_data"
    }
   ],
   "source": [
    "#缺失\n",
    "t_admin_audit=spark.sql(\"\"\"\n",
    "    select\n",
    "      'insert' as kind,\n",
    "     '2020-08-01 23:59:59' as etldate,\n",
    "        0 as  etlindex,\n",
    "     *,\n",
    "    '2020' as year,\n",
    "    '08' as month,\n",
    "     '01' as day\n",
    "    from `banda_emr_etl`.`t_admin_audit`\n",
    "\n",
    "\"\"\")\n",
    "t_admin_audit.write.mode(\"append\").partitionBy(\"year\",\"month\",\"day\").orc(\"s3://rupiahplus-data-warehouse/stream/banda_etl/t_admin_audit/\")\n"
   ]
  },
  {
   "cell_type": "code",
   "execution_count": 1,
   "metadata": {},
   "outputs": [
    {
     "data": {
      "application/vnd.jupyter.widget-view+json": {
       "model_id": "7e51804f5a664706bf775d5dc851828a",
       "version_major": 2,
       "version_minor": 0
      },
      "text/plain": [
       "VBox()"
      ]
     },
     "metadata": {},
     "output_type": "display_data"
    },
    {
     "name": "stdout",
     "output_type": "stream",
     "text": [
      "Starting Spark application\n"
     ]
    },
    {
     "data": {
      "text/html": [
       "<table>\n",
       "<tr><th>ID</th><th>YARN Application ID</th><th>Kind</th><th>State</th><th>Spark UI</th><th>Driver log</th><th>Current session?</th></tr><tr><td>1</td><td>application_1604375599691_0003</td><td>pyspark</td><td>idle</td><td><a target=\"_blank\" href=\"http://ip-172-31-0-17.ap-southeast-1.compute.internal:20888/proxy/application_1604375599691_0003/\">Link</a></td><td><a target=\"_blank\" href=\"http://ip-172-31-12-19.ap-southeast-1.compute.internal:8042/node/containerlogs/container_1604375599691_0003_01_000001/livy\">Link</a></td><td>✔</td></tr></table>"
      ],
      "text/plain": [
       "<IPython.core.display.HTML object>"
      ]
     },
     "metadata": {},
     "output_type": "display_data"
    },
    {
     "data": {
      "application/vnd.jupyter.widget-view+json": {
       "model_id": "",
       "version_major": 2,
       "version_minor": 0
      },
      "text/plain": [
       "FloatProgress(value=0.0, bar_style='info', description='Progress:', layout=Layout(height='25px', width='50%'),…"
      ]
     },
     "metadata": {},
     "output_type": "display_data"
    },
    {
     "name": "stdout",
     "output_type": "stream",
     "text": [
      "SparkSession available as 'spark'.\n"
     ]
    },
    {
     "data": {
      "application/vnd.jupyter.widget-view+json": {
       "model_id": "",
       "version_major": 2,
       "version_minor": 0
      },
      "text/plain": [
       "FloatProgress(value=0.0, bar_style='info', description='Progress:', layout=Layout(height='25px', width='50%'),…"
      ]
     },
     "metadata": {},
     "output_type": "display_data"
    }
   ],
   "source": [
    "\n",
    "t_customer_tag_rel=spark.sql(\"\"\"\n",
    "    select 'insert' as kind,\n",
    "     '2020-08-01 23:59:59' as etldate,\n",
    "        0 as  etlindex,\n",
    "     *,\n",
    "    '2020' as year,\n",
    "    '08' as month,\n",
    "     '01' as day\n",
    "    from `banda_emr_etl`.`t_customer_tag_rel`\n",
    "\n",
    "\"\"\")\n",
    "t_customer_tag_rel.write.mode(\"append\").partitionBy(\"year\",\"month\",\"day\").orc(\"s3://rupiahplus-data-warehouse/stream/banda_etl/t_customer_tag_rel/\")\n",
    "#   where  id  < 7080681\n",
    "#无数据\n",
    "t_record_bankcard=spark.sql(\"\"\"\n",
    "    select\n",
    "    'insert' as kind,\n",
    "     '2020-08-01 23:59:59' as etldate,\n",
    "        0 as  etlindex,\n",
    "     *,\n",
    "    '2020' as year,\n",
    "    '08' as month,\n",
    "     '01' as day\n",
    "    from `banda_emr_etl`.`t_record_bankcard`\n",
    "\"\"\")\n",
    "t_record_bankcard.write.mode(\"append\").partitionBy(\"year\",\"month\",\"day\").orc(\"s3://rupiahplus-data-warehouse/stream/banda_etl/t_record_bankcard/\")\n"
   ]
  },
  {
   "cell_type": "code",
   "execution_count": 1,
   "metadata": {},
   "outputs": [
    {
     "data": {
      "application/vnd.jupyter.widget-view+json": {
       "model_id": "cb4f8517b5e548ea82440caca2501611",
       "version_major": 2,
       "version_minor": 0
      },
      "text/plain": [
       "VBox()"
      ]
     },
     "metadata": {},
     "output_type": "display_data"
    },
    {
     "name": "stdout",
     "output_type": "stream",
     "text": [
      "Starting Spark application\n"
     ]
    },
    {
     "data": {
      "text/html": [
       "<table>\n",
       "<tr><th>ID</th><th>YARN Application ID</th><th>Kind</th><th>State</th><th>Spark UI</th><th>Driver log</th><th>Current session?</th></tr><tr><td>0</td><td>application_1605781233008_0001</td><td>pyspark</td><td>idle</td><td><a target=\"_blank\" href=\"http://ip-172-31-5-228.ap-southeast-1.compute.internal:20888/proxy/application_1605781233008_0001/\">Link</a></td><td><a target=\"_blank\" href=\"http://ip-172-31-11-210.ap-southeast-1.compute.internal:8042/node/containerlogs/container_1605781233008_0001_01_000001/livy\">Link</a></td><td>✔</td></tr></table>"
      ],
      "text/plain": [
       "<IPython.core.display.HTML object>"
      ]
     },
     "metadata": {},
     "output_type": "display_data"
    },
    {
     "data": {
      "application/vnd.jupyter.widget-view+json": {
       "model_id": "",
       "version_major": 2,
       "version_minor": 0
      },
      "text/plain": [
       "FloatProgress(value=0.0, bar_style='info', description='Progress:', layout=Layout(height='25px', width='50%'),…"
      ]
     },
     "metadata": {},
     "output_type": "display_data"
    },
    {
     "name": "stdout",
     "output_type": "stream",
     "text": [
      "SparkSession available as 'spark'.\n"
     ]
    },
    {
     "data": {
      "application/vnd.jupyter.widget-view+json": {
       "model_id": "",
       "version_major": 2,
       "version_minor": 0
      },
      "text/plain": [
       "FloatProgress(value=0.0, bar_style='info', description='Progress:', layout=Layout(height='25px', width='50%'),…"
      ]
     },
     "metadata": {},
     "output_type": "display_data"
    }
   ],
   "source": [
    "t_auto_review_loan=spark.sql(\"\"\"\n",
    "    select \n",
    "    'insert' as kind,\n",
    "    '2020-08-01 23:59:59' as etldate,\n",
    "    0 as  etlindex,\n",
    "    id,\n",
    "    riskengine_id,\n",
    "    customer_id,\n",
    "    loan_id,\n",
    "    name,\n",
    "    ktp,\n",
    "    mobile,\n",
    "    cast(success as string) as success,\n",
    "    error_message,\n",
    "    result,\n",
    "    reject_message,\n",
    "    create_time,\n",
    "    finish_time,\n",
    "    duration,\n",
    "    real_policy,\n",
    "    switch_manual_reason,\n",
    "    raw_data,\n",
    "    '2020' as year,\n",
    "    '08' as month,\n",
    "     '01' as day\n",
    "    from `banda_emr_etl`.`t_auto_review_loan`\n",
    "\"\"\")\n",
    "t_auto_review_loan.write.mode(\"append\").partitionBy(\"year\",\"month\",\"day\").orc(\"s3://rupiahplus-data-warehouse/stream/banda_etl/t_auto_review_loan/\")\n"
   ]
  },
  {
   "cell_type": "code",
   "execution_count": 3,
   "metadata": {},
   "outputs": [
    {
     "data": {
      "application/vnd.jupyter.widget-view+json": {
       "model_id": "5eb63a2bedf24bdab194c9e438afccbe",
       "version_major": 2,
       "version_minor": 0
      },
      "text/plain": [
       "VBox()"
      ]
     },
     "metadata": {},
     "output_type": "display_data"
    },
    {
     "data": {
      "application/vnd.jupyter.widget-view+json": {
       "model_id": "",
       "version_major": 2,
       "version_minor": 0
      },
      "text/plain": [
       "FloatProgress(value=0.0, bar_style='info', description='Progress:', layout=Layout(height='25px', width='50%'),…"
      ]
     },
     "metadata": {},
     "output_type": "display_data"
    }
   ],
   "source": [
    "\n",
    "t_admin=spark.sql(\"\"\"\n",
    "    select 'insert' as kind,\n",
    "     '2020-08-01 23:59:59' as etldate,\n",
    "        0 as  etlindex,\n",
    "     *,\n",
    "    '2020' as year,\n",
    "    '08' as month,\n",
    "     '01' as day\n",
    "    from `banda_emr_etl`.`t_admin`\n",
    "\"\"\")\n",
    "t_admin.write.mode(\"append\").partitionBy(\"year\",\"month\",\"day\").orc(\"s3://rupiahplus-data-warehouse/stream/banda_etl/t_admin/\")"
   ]
  },
  {
   "cell_type": "code",
   "execution_count": 4,
   "metadata": {},
   "outputs": [
    {
     "data": {
      "application/vnd.jupyter.widget-view+json": {
       "model_id": "987a044bd4b34ea6b7d108816386365d",
       "version_major": 2,
       "version_minor": 0
      },
      "text/plain": [
       "VBox()"
      ]
     },
     "metadata": {},
     "output_type": "display_data"
    },
    {
     "data": {
      "application/vnd.jupyter.widget-view+json": {
       "model_id": "",
       "version_major": 2,
       "version_minor": 0
      },
      "text/plain": [
       "FloatProgress(value=0.0, bar_style='info', description='Progress:', layout=Layout(height='25px', width='50%'),…"
      ]
     },
     "metadata": {},
     "output_type": "display_data"
    }
   ],
   "source": [
    "\n",
    "t_admin_group_rel=spark.sql(\"\"\"\n",
    "    select 'insert' as kind,\n",
    "     '2020-08-01 23:59:59' as etldate,\n",
    "        0 as  etlindex,\n",
    "     *,\n",
    "    '2020' as year,\n",
    "    '08' as month,\n",
    "     '01' as day\n",
    "    from `banda_emr_etl`.`t_admin_group_rel`\n",
    "\"\"\")\n",
    "t_admin_group_rel.write.mode(\"append\").partitionBy(\"year\",\"month\",\"day\").orc(\"s3://rupiahplus-data-warehouse/stream/banda_etl/t_admin_group_rel/\")"
   ]
  },
  {
   "cell_type": "code",
   "execution_count": 5,
   "metadata": {},
   "outputs": [
    {
     "data": {
      "application/vnd.jupyter.widget-view+json": {
       "model_id": "b99c0536a649454480e4605215b439ba",
       "version_major": 2,
       "version_minor": 0
      },
      "text/plain": [
       "VBox()"
      ]
     },
     "metadata": {},
     "output_type": "display_data"
    },
    {
     "data": {
      "application/vnd.jupyter.widget-view+json": {
       "model_id": "",
       "version_major": 2,
       "version_minor": 0
      },
      "text/plain": [
       "FloatProgress(value=0.0, bar_style='info', description='Progress:', layout=Layout(height='25px', width='50%'),…"
      ]
     },
     "metadata": {},
     "output_type": "display_data"
    }
   ],
   "source": [
    "\n",
    "t_af_bill=spark.sql(\"\"\"\n",
    "    select 'insert' as kind,\n",
    "     '2020-08-01 23:59:59' as etldate,\n",
    "        0 as  etlindex,\n",
    "     *,\n",
    "    '2020' as year,\n",
    "    '08' as month,\n",
    "     '01' as day\n",
    "    from `banda_emr_etl`.`t_af_bill`\n",
    "\"\"\")\n",
    "t_af_bill.write.mode(\"append\").partitionBy(\"year\",\"month\",\"day\").orc(\"s3://rupiahplus-data-warehouse/stream/banda_etl/t_af_bill/\")"
   ]
  },
  {
   "cell_type": "code",
   "execution_count": 6,
   "metadata": {},
   "outputs": [
    {
     "data": {
      "application/vnd.jupyter.widget-view+json": {
       "model_id": "edb0d386cbe040f9b556378504e392aa",
       "version_major": 2,
       "version_minor": 0
      },
      "text/plain": [
       "VBox()"
      ]
     },
     "metadata": {},
     "output_type": "display_data"
    },
    {
     "data": {
      "application/vnd.jupyter.widget-view+json": {
       "model_id": "",
       "version_major": 2,
       "version_minor": 0
      },
      "text/plain": [
       "FloatProgress(value=0.0, bar_style='info', description='Progress:', layout=Layout(height='25px', width='50%'),…"
      ]
     },
     "metadata": {},
     "output_type": "display_data"
    }
   ],
   "source": [
    "\n",
    "t_ai_rudder_schedule_mobile=spark.sql(\"\"\"\n",
    "    select 'insert' as kind,\n",
    "     '2020-08-01 23:59:59' as etldate,\n",
    "        0 as  etlindex,\n",
    "     *,\n",
    "    '2020' as year,\n",
    "    '08' as month,\n",
    "     '01' as day\n",
    "    from `banda_emr_etl`.`t_ai_rudder_schedule_mobile`\n",
    "\"\"\")\n",
    "t_ai_rudder_schedule_mobile.write.mode(\"append\").partitionBy(\"year\",\"month\",\"day\").orc(\"s3://rupiahplus-data-warehouse/stream/banda_etl/t_ai_rudder_schedule_mobile/\")"
   ]
  },
  {
   "cell_type": "code",
   "execution_count": 7,
   "metadata": {},
   "outputs": [
    {
     "data": {
      "application/vnd.jupyter.widget-view+json": {
       "model_id": "81b2349c0c7843a6927db964f69e05b0",
       "version_major": 2,
       "version_minor": 0
      },
      "text/plain": [
       "VBox()"
      ]
     },
     "metadata": {},
     "output_type": "display_data"
    },
    {
     "data": {
      "application/vnd.jupyter.widget-view+json": {
       "model_id": "",
       "version_major": 2,
       "version_minor": 0
      },
      "text/plain": [
       "FloatProgress(value=0.0, bar_style='info', description='Progress:', layout=Layout(height='25px', width='50%'),…"
      ]
     },
     "metadata": {},
     "output_type": "display_data"
    }
   ],
   "source": [
    "t_bankcard=spark.sql(\"\"\"\n",
    "    select \n",
    "     'insert' as kind,\n",
    "     '2020-08-01 23:59:59' as etldate,\n",
    "        0 as  etlindex,\n",
    "     *,\n",
    "    '2020' as year,\n",
    "    '08' as month,\n",
    "     '01' as day\n",
    "    from `banda_emr_etl`.`t_bankcard`\n",
    "\n",
    "\"\"\")\n",
    "t_bankcard.write.mode(\"append\").partitionBy(\"year\",\"month\",\"day\").orc(\"s3://rupiahplus-data-warehouse/stream/banda_etl/t_bankcard/\")\n"
   ]
  },
  {
   "cell_type": "code",
   "execution_count": 8,
   "metadata": {},
   "outputs": [
    {
     "data": {
      "application/vnd.jupyter.widget-view+json": {
       "model_id": "784def3ded8e4ee29a7b27eb056b3b37",
       "version_major": 2,
       "version_minor": 0
      },
      "text/plain": [
       "VBox()"
      ]
     },
     "metadata": {},
     "output_type": "display_data"
    },
    {
     "data": {
      "application/vnd.jupyter.widget-view+json": {
       "model_id": "",
       "version_major": 2,
       "version_minor": 0
      },
      "text/plain": [
       "FloatProgress(value=0.0, bar_style='info', description='Progress:', layout=Layout(height='25px', width='50%'),…"
      ]
     },
     "metadata": {},
     "output_type": "display_data"
    }
   ],
   "source": [
    "t_bankcard_verify=spark.sql(\"\"\"\n",
    "    select \n",
    "     'insert' as kind,\n",
    "     '2020-08-01 23:59:59' as etldate,\n",
    "        0 as  etlindex,\n",
    "     *,\n",
    "    '2020' as year,\n",
    "    '08' as month,\n",
    "     '01' as day\n",
    "    from `banda_emr_etl`.`t_bankcard_verify`\n",
    "\"\"\")\n",
    "t_bankcard_verify.write.mode(\"append\").partitionBy(\"year\",\"month\",\"day\").orc(\"s3://rupiahplus-data-warehouse/stream/banda_etl/t_bankcard_verify/\")\n"
   ]
  },
  {
   "cell_type": "code",
   "execution_count": 9,
   "metadata": {},
   "outputs": [
    {
     "data": {
      "application/vnd.jupyter.widget-view+json": {
       "model_id": "a69ad09b30d342939870ccc84ccab0b8",
       "version_major": 2,
       "version_minor": 0
      },
      "text/plain": [
       "VBox()"
      ]
     },
     "metadata": {},
     "output_type": "display_data"
    },
    {
     "data": {
      "application/vnd.jupyter.widget-view+json": {
       "model_id": "",
       "version_major": 2,
       "version_minor": 0
      },
      "text/plain": [
       "FloatProgress(value=0.0, bar_style='info', description='Progress:', layout=Layout(height='25px', width='50%'),…"
      ]
     },
     "metadata": {},
     "output_type": "display_data"
    }
   ],
   "source": [
    "t_bankcard_merchant=spark.sql(\"\"\"\n",
    "    select \n",
    "     'insert' as kind,\n",
    "     '2020-08-01 23:59:59' as etldate,\n",
    "        0 as  etlindex,\n",
    "     *,\n",
    "    '2020' as year,\n",
    "    '08' as month,\n",
    "     '01' as day\n",
    "    from `banda_emr_etl`.`t_bankcard_merchant`\n",
    "\"\"\")\n",
    "t_bankcard_merchant.write.mode(\"append\").partitionBy(\"year\",\"month\",\"day\").orc(\"s3://rupiahplus-data-warehouse/stream/banda_etl/t_bankcard_merchant/\")\n"
   ]
  },
  {
   "cell_type": "code",
   "execution_count": 10,
   "metadata": {},
   "outputs": [
    {
     "data": {
      "application/vnd.jupyter.widget-view+json": {
       "model_id": "0e33fdbd24774253b8dbe3c35cb1326f",
       "version_major": 2,
       "version_minor": 0
      },
      "text/plain": [
       "VBox()"
      ]
     },
     "metadata": {},
     "output_type": "display_data"
    },
    {
     "data": {
      "application/vnd.jupyter.widget-view+json": {
       "model_id": "",
       "version_major": 2,
       "version_minor": 0
      },
      "text/plain": [
       "FloatProgress(value=0.0, bar_style='info', description='Progress:', layout=Layout(height='25px', width='50%'),…"
      ]
     },
     "metadata": {},
     "output_type": "display_data"
    }
   ],
   "source": [
    "t_channel_details=spark.sql(\"\"\"\n",
    "    select   'insert' as kind,\n",
    "     '2020-08-01 23:59:59' as etldate,\n",
    "        0 as  etlindex,\n",
    "     *,\n",
    "    '2020' as year,\n",
    "    '08' as month,\n",
    "     '01' as day\n",
    "    from `banda_emr_etl`.`t_channel_details`\n",
    "\"\"\")\n",
    "t_channel_details.write.mode(\"append\").partitionBy(\"year\",\"month\",\"day\").orc(\"s3://rupiahplus-data-warehouse/stream/banda_etl/t_channel_details/\")\n"
   ]
  },
  {
   "cell_type": "code",
   "execution_count": 12,
   "metadata": {},
   "outputs": [
    {
     "data": {
      "application/vnd.jupyter.widget-view+json": {
       "model_id": "a38dbab349774e42817dfc0fa1e607b4",
       "version_major": 2,
       "version_minor": 0
      },
      "text/plain": [
       "VBox()"
      ]
     },
     "metadata": {},
     "output_type": "display_data"
    },
    {
     "data": {
      "application/vnd.jupyter.widget-view+json": {
       "model_id": "",
       "version_major": 2,
       "version_minor": 0
      },
      "text/plain": [
       "FloatProgress(value=0.0, bar_style='info', description='Progress:', layout=Layout(height='25px', width='50%'),…"
      ]
     },
     "metadata": {},
     "output_type": "display_data"
    }
   ],
   "source": [
    "t_clear_detail_log=spark.sql(\"\"\"\n",
    "    select   'insert' as kind,\n",
    "     '2020-08-01 23:59:59' as etldate,\n",
    "        0 as  etlindex,\n",
    "     *,\n",
    "    '2020' as year,\n",
    "    '08' as month,\n",
    "     '01' as day\n",
    "    from `banda_emr_etl`.`t_clear_detail_log`\n",
    "\n",
    "\"\"\")\n",
    "t_clear_detail_log.write.mode(\"append\").partitionBy(\"year\",\"month\",\"day\").orc(\"s3://rupiahplus-data-warehouse/stream/banda_etl/t_clear_detail_log/\")"
   ]
  },
  {
   "cell_type": "code",
   "execution_count": 13,
   "metadata": {},
   "outputs": [
    {
     "data": {
      "application/vnd.jupyter.widget-view+json": {
       "model_id": "19a8a489cbba454ba56e76fe77261e91",
       "version_major": 2,
       "version_minor": 0
      },
      "text/plain": [
       "VBox()"
      ]
     },
     "metadata": {},
     "output_type": "display_data"
    },
    {
     "data": {
      "application/vnd.jupyter.widget-view+json": {
       "model_id": "",
       "version_major": 2,
       "version_minor": 0
      },
      "text/plain": [
       "FloatProgress(value=0.0, bar_style='info', description='Progress:', layout=Layout(height='25px', width='50%'),…"
      ]
     },
     "metadata": {},
     "output_type": "display_data"
    }
   ],
   "source": [
    "t_code=spark.sql(\"\"\"\n",
    "    select   'insert' as kind,\n",
    "     '2020-08-01 23:59:59' as etldate,\n",
    "        0 as  etlindex,\n",
    "     *,\n",
    "    '2020' as year,\n",
    "    '08' as month,\n",
    "     '01' as day\n",
    "    from `banda_emr_etl`.`t_code`\n",
    "\n",
    "\"\"\")\n",
    "t_code.write.mode(\"append\").partitionBy(\"year\",\"month\",\"day\").orc(\"s3://rupiahplus-data-warehouse/stream/banda_etl/t_code/\")"
   ]
  },
  {
   "cell_type": "code",
   "execution_count": 14,
   "metadata": {},
   "outputs": [
    {
     "data": {
      "application/vnd.jupyter.widget-view+json": {
       "model_id": "9a69819d5cec406fa3435f7724bfe65f",
       "version_major": 2,
       "version_minor": 0
      },
      "text/plain": [
       "VBox()"
      ]
     },
     "metadata": {},
     "output_type": "display_data"
    },
    {
     "data": {
      "application/vnd.jupyter.widget-view+json": {
       "model_id": "",
       "version_major": 2,
       "version_minor": 0
      },
      "text/plain": [
       "FloatProgress(value=0.0, bar_style='info', description='Progress:', layout=Layout(height='25px', width='50%'),…"
      ]
     },
     "metadata": {},
     "output_type": "display_data"
    }
   ],
   "source": [
    "t_collection_audit=spark.sql(\"\"\"\n",
    "    select 'insert' as kind,\n",
    "     '2020-08-01 23:59:59' as etldate,\n",
    "        0 as  etlindex,\n",
    "     *,\n",
    "    '2020' as year,\n",
    "    '08' as month,\n",
    "     '01' as day\n",
    "    from `banda_emr_etl`.`t_collection_audit`\n",
    "\n",
    "\"\"\")\n",
    "t_collection_audit.write.mode(\"append\").partitionBy(\"year\",\"month\",\"day\").orc(\"s3://rupiahplus-data-warehouse/stream/banda_etl/t_collection_audit/\")\n",
    "#   where  id < 23830557"
   ]
  },
  {
   "cell_type": "code",
   "execution_count": 15,
   "metadata": {},
   "outputs": [
    {
     "data": {
      "application/vnd.jupyter.widget-view+json": {
       "model_id": "44484dec55d14767a392624a8e86529a",
       "version_major": 2,
       "version_minor": 0
      },
      "text/plain": [
       "VBox()"
      ]
     },
     "metadata": {},
     "output_type": "display_data"
    },
    {
     "data": {
      "application/vnd.jupyter.widget-view+json": {
       "model_id": "",
       "version_major": 2,
       "version_minor": 0
      },
      "text/plain": [
       "FloatProgress(value=0.0, bar_style='info', description='Progress:', layout=Layout(height='25px', width='50%'),…"
      ]
     },
     "metadata": {},
     "output_type": "display_data"
    }
   ],
   "source": [
    "t_collection_blacklist=spark.sql(\"\"\"\n",
    "    select 'insert' as kind,\n",
    "      '2020-08-01 23:59:59' as etldate,\n",
    "        0 as  etlindex,\n",
    "     *,\n",
    "    '2020' as year,\n",
    "    '08' as month,\n",
    "     '01' as day\n",
    "    from `banda_emr_etl`.`t_collection_blacklist`\n",
    "\"\"\")\n",
    "t_collection_blacklist.write.mode(\"append\").partitionBy(\"year\",\"month\",\"day\").orc(\"s3://rupiahplus-data-warehouse/stream/banda_etl/t_collection_blacklist/\")\n",
    "#     where id< 100862"
   ]
  },
  {
   "cell_type": "code",
   "execution_count": 16,
   "metadata": {},
   "outputs": [
    {
     "data": {
      "application/vnd.jupyter.widget-view+json": {
       "model_id": "ffdf3dfd0c4341f39084ecd6a5e160e3",
       "version_major": 2,
       "version_minor": 0
      },
      "text/plain": [
       "VBox()"
      ]
     },
     "metadata": {},
     "output_type": "display_data"
    },
    {
     "data": {
      "application/vnd.jupyter.widget-view+json": {
       "model_id": "",
       "version_major": 2,
       "version_minor": 0
      },
      "text/plain": [
       "FloatProgress(value=0.0, bar_style='info', description='Progress:', layout=Layout(height='25px', width='50%'),…"
      ]
     },
     "metadata": {},
     "output_type": "display_data"
    }
   ],
   "source": [
    "t_contact=spark.sql(\"\"\"\n",
    "    select    'insert' as kind,\n",
    "     '2020-08-01 23:59:59' as etldate,\n",
    "        0 as  etlindex,\n",
    "     *,\n",
    "    '2020' as year,\n",
    "    '08' as month,\n",
    "     '01' as day\n",
    "    from `banda_emr_etl`.`t_contact`\n",
    "\"\"\")\n",
    "t_contact.write.mode(\"append\").partitionBy(\"year\",\"month\",\"day\").orc(\"s3://rupiahplus-data-warehouse/stream/banda_etl/t_contact/\")\n",
    "#  where  id < 23674011"
   ]
  },
  {
   "cell_type": "code",
   "execution_count": 17,
   "metadata": {},
   "outputs": [
    {
     "data": {
      "application/vnd.jupyter.widget-view+json": {
       "model_id": "e1afa14f6ced4ab5a4ee8321b6ce96c3",
       "version_major": 2,
       "version_minor": 0
      },
      "text/plain": [
       "VBox()"
      ]
     },
     "metadata": {},
     "output_type": "display_data"
    },
    {
     "data": {
      "application/vnd.jupyter.widget-view+json": {
       "model_id": "",
       "version_major": 2,
       "version_minor": 0
      },
      "text/plain": [
       "FloatProgress(value=0.0, bar_style='info', description='Progress:', layout=Layout(height='25px', width='50%'),…"
      ]
     },
     "metadata": {},
     "output_type": "display_data"
    }
   ],
   "source": [
    "t_coupon_send=spark.sql(\"\"\"\n",
    "    select    'insert' as kind,\n",
    "    '2020-08-01 23:59:59' as etldate,\n",
    "        0 as  etlindex,\n",
    "     *,\n",
    "    '2020' as year,\n",
    "    '08' as month,\n",
    "     '01' as day\n",
    "    from `banda_emr_etl`.`t_coupon_send`\n",
    " \n",
    "\"\"\")\n",
    "t_coupon_send.write.mode(\"append\").partitionBy(\"year\",\"month\",\"day\").orc(\"s3://rupiahplus-data-warehouse/stream/banda_etl/t_coupon_send/\")\n",
    "#     where id <25323678"
   ]
  },
  {
   "cell_type": "code",
   "execution_count": 18,
   "metadata": {},
   "outputs": [
    {
     "data": {
      "application/vnd.jupyter.widget-view+json": {
       "model_id": "0c68b314c317422d810a6fca19cf0b7a",
       "version_major": 2,
       "version_minor": 0
      },
      "text/plain": [
       "VBox()"
      ]
     },
     "metadata": {},
     "output_type": "display_data"
    },
    {
     "data": {
      "application/vnd.jupyter.widget-view+json": {
       "model_id": "",
       "version_major": 2,
       "version_minor": 0
      },
      "text/plain": [
       "FloatProgress(value=0.0, bar_style='info', description='Progress:', layout=Layout(height='25px', width='50%'),…"
      ]
     },
     "metadata": {},
     "output_type": "display_data"
    }
   ],
   "source": [
    "t_customer=spark.sql(\"\"\"\n",
    "    select    'insert' as kind,\n",
    "    '2020-08-01 23:59:59' as etldate,\n",
    "        0 as  etlindex,\n",
    "     *,\n",
    "    '2020' as year,\n",
    "    '08' as month,\n",
    "     '01' as day\n",
    "    from `banda_emr_etl`.`t_customer`\n",
    "\n",
    "\"\"\")\n",
    "t_customer.write.mode(\"append\").partitionBy(\"year\",\"month\",\"day\").orc(\"s3://rupiahplus-data-warehouse/stream/banda_etl/t_customer/\")\n",
    "#     where  id<4288305"
   ]
  },
  {
   "cell_type": "code",
   "execution_count": 19,
   "metadata": {},
   "outputs": [
    {
     "data": {
      "application/vnd.jupyter.widget-view+json": {
       "model_id": "37435cc396884c84ae9aadd3de851ec1",
       "version_major": 2,
       "version_minor": 0
      },
      "text/plain": [
       "VBox()"
      ]
     },
     "metadata": {},
     "output_type": "display_data"
    },
    {
     "data": {
      "application/vnd.jupyter.widget-view+json": {
       "model_id": "",
       "version_major": 2,
       "version_minor": 0
      },
      "text/plain": [
       "FloatProgress(value=0.0, bar_style='info', description='Progress:', layout=Layout(height='25px', width='50%'),…"
      ]
     },
     "metadata": {},
     "output_type": "display_data"
    }
   ],
   "source": [
    "t_customer_app=spark.sql(\"\"\"\n",
    "    select  'insert' as kind,\n",
    "    '2020-08-01 23:59:59' as etldate,\n",
    "        0 as  etlindex,\n",
    "     *,\n",
    "    '2020' as year,\n",
    "    '08' as month,\n",
    "     '01' as day\n",
    "    from `banda_emr_etl`.`t_customer_app`\n",
    "\"\"\")\n",
    "t_customer_app.write.mode(\"append\").partitionBy(\"year\",\"month\",\"day\").orc(\"s3://rupiahplus-data-warehouse/stream/banda_etl/t_customer_app/\")\n",
    "# where  id  <= 180688"
   ]
  },
  {
   "cell_type": "code",
   "execution_count": null,
   "metadata": {},
   "outputs": [],
   "source": []
  },
  {
   "cell_type": "code",
   "execution_count": 20,
   "metadata": {},
   "outputs": [
    {
     "data": {
      "application/vnd.jupyter.widget-view+json": {
       "model_id": "9cde6e65ee6143afac121624e79c60a7",
       "version_major": 2,
       "version_minor": 0
      },
      "text/plain": [
       "VBox()"
      ]
     },
     "metadata": {},
     "output_type": "display_data"
    },
    {
     "data": {
      "application/vnd.jupyter.widget-view+json": {
       "model_id": "",
       "version_major": 2,
       "version_minor": 0
      },
      "text/plain": [
       "FloatProgress(value=0.0, bar_style='info', description='Progress:', layout=Layout(height='25px', width='50%'),…"
      ]
     },
     "metadata": {},
     "output_type": "display_data"
    }
   ],
   "source": [
    "###############################################################################################\n",
    "t_customer_device_info=spark.sql(\"\"\"\n",
    "    select    'insert' as kind,\n",
    "    '2020-08-01 23:59:59' as etldate,\n",
    "        0 as  etlindex,\n",
    "     *,\n",
    "    '2020' as year,\n",
    "    '08' as month,\n",
    "     '01' as day\n",
    "    from `banda_emr_etl`.`t_customer_device_info`\n",
    "\"\"\")\n",
    "t_customer_device_info.write.mode(\"append\").partitionBy(\"year\",\"month\",\"day\").orc(\"s3://rupiahplus-data-warehouse/stream/banda_etl/t_customer_device_info/\")\n"
   ]
  },
  {
   "cell_type": "code",
   "execution_count": 21,
   "metadata": {},
   "outputs": [
    {
     "data": {
      "application/vnd.jupyter.widget-view+json": {
       "model_id": "d2efeee86155457da1f420166f218e43",
       "version_major": 2,
       "version_minor": 0
      },
      "text/plain": [
       "VBox()"
      ]
     },
     "metadata": {},
     "output_type": "display_data"
    },
    {
     "data": {
      "application/vnd.jupyter.widget-view+json": {
       "model_id": "",
       "version_major": 2,
       "version_minor": 0
      },
      "text/plain": [
       "FloatProgress(value=0.0, bar_style='info', description='Progress:', layout=Layout(height='25px', width='50%'),…"
      ]
     },
     "metadata": {},
     "output_type": "display_data"
    }
   ],
   "source": [
    "###############################################################################################\n",
    "t_customer_install_info=spark.sql(\"\"\"\n",
    "    select    'insert' as kind,\n",
    "    '2020-08-01 23:59:59' as etldate,\n",
    "        0 as  etlindex,\n",
    "     *,\n",
    "    '2020' as year,\n",
    "    '08' as month,\n",
    "     '01' as day\n",
    "    from `banda_emr_etl`.`t_customer_install_info`\n",
    "\"\"\")\n",
    "t_customer_install_info.write.mode(\"append\").partitionBy(\"year\",\"month\",\"day\").orc(\"s3://rupiahplus-data-warehouse/stream/banda_etl/t_customer_install_info/\")\n"
   ]
  },
  {
   "cell_type": "code",
   "execution_count": 22,
   "metadata": {},
   "outputs": [
    {
     "data": {
      "application/vnd.jupyter.widget-view+json": {
       "model_id": "006cfad0bbb64f50baf61e259d631c4a",
       "version_major": 2,
       "version_minor": 0
      },
      "text/plain": [
       "VBox()"
      ]
     },
     "metadata": {},
     "output_type": "display_data"
    },
    {
     "data": {
      "application/vnd.jupyter.widget-view+json": {
       "model_id": "",
       "version_major": 2,
       "version_minor": 0
      },
      "text/plain": [
       "FloatProgress(value=0.0, bar_style='info', description='Progress:', layout=Layout(height='25px', width='50%'),…"
      ]
     },
     "metadata": {},
     "output_type": "display_data"
    }
   ],
   "source": [
    "t_customer_tag_rel=spark.sql(\"\"\"\n",
    "    select    'insert' as kind,\n",
    "    '2020-08-01 23:59:59' as etldate,\n",
    "        0 as  etlindex,\n",
    "     *,\n",
    "    '2020' as year,\n",
    "    '08' as month,\n",
    "     '01' as day\n",
    "    from `banda_emr_etl`.`t_customer_tag_rel`\n",
    "\"\"\")\n",
    "t_customer_tag_rel.write.mode(\"append\").partitionBy(\"year\",\"month\",\"day\").orc(\"s3://rupiahplus-data-warehouse/stream/banda_etl/t_customer_tag_rel/\")\n"
   ]
  },
  {
   "cell_type": "code",
   "execution_count": 1,
   "metadata": {},
   "outputs": [
    {
     "data": {
      "application/vnd.jupyter.widget-view+json": {
       "model_id": "d24be67807dc4ca19830d777c22298d8",
       "version_major": 2,
       "version_minor": 0
      },
      "text/plain": [
       "VBox()"
      ]
     },
     "metadata": {},
     "output_type": "display_data"
    },
    {
     "name": "stdout",
     "output_type": "stream",
     "text": [
      "Starting Spark application\n"
     ]
    },
    {
     "data": {
      "text/html": [
       "<table>\n",
       "<tr><th>ID</th><th>YARN Application ID</th><th>Kind</th><th>State</th><th>Spark UI</th><th>Driver log</th><th>Current session?</th></tr><tr><td>4</td><td>application_1608545228227_0011</td><td>pyspark</td><td>idle</td><td><a target=\"_blank\" href=\"http://ip-10-3-0-114.ap-southeast-1.compute.internal:20888/proxy/application_1608545228227_0011/\">Link</a></td><td><a target=\"_blank\" href=\"http://ip-10-3-0-91.ap-southeast-1.compute.internal:8042/node/containerlogs/container_1608545228227_0011_01_000001/livy\">Link</a></td><td>✔</td></tr></table>"
      ],
      "text/plain": [
       "<IPython.core.display.HTML object>"
      ]
     },
     "metadata": {},
     "output_type": "display_data"
    },
    {
     "data": {
      "application/vnd.jupyter.widget-view+json": {
       "model_id": "",
       "version_major": 2,
       "version_minor": 0
      },
      "text/plain": [
       "FloatProgress(value=0.0, bar_style='info', description='Progress:', layout=Layout(height='25px', width='50%'),…"
      ]
     },
     "metadata": {},
     "output_type": "display_data"
    },
    {
     "name": "stdout",
     "output_type": "stream",
     "text": [
      "SparkSession available as 'spark'.\n"
     ]
    },
    {
     "data": {
      "application/vnd.jupyter.widget-view+json": {
       "model_id": "",
       "version_major": 2,
       "version_minor": 0
      },
      "text/plain": [
       "FloatProgress(value=0.0, bar_style='info', description='Progress:', layout=Layout(height='25px', width='50%'),…"
      ]
     },
     "metadata": {},
     "output_type": "display_data"
    }
   ],
   "source": [
    "t_coupon_request=spark.sql(\"\"\"\n",
    "    select    'insert' as kind,\n",
    "    '2020-12-01 23:59:59' as etldate,\n",
    "        0 as  etlindex,\n",
    "     *,\n",
    "    '2020' as year,\n",
    "    '12' as month,\n",
    "     '01' as day\n",
    "    from `banda_emr_etl`.`t_coupon_request`\n",
    "\"\"\")\n",
    "t_coupon_request.write.mode(\"append\").partitionBy(\"year\",\"month\",\"day\").orc(\"s3://rupiahplus-data-warehouse/stream/banda_etl/t_coupon_request/\")\n"
   ]
  },
  {
   "cell_type": "code",
   "execution_count": 23,
   "metadata": {},
   "outputs": [
    {
     "data": {
      "application/vnd.jupyter.widget-view+json": {
       "model_id": "14a4a5898ef3461ba2ee48bb488a0a49",
       "version_major": 2,
       "version_minor": 0
      },
      "text/plain": [
       "VBox()"
      ]
     },
     "metadata": {},
     "output_type": "display_data"
    },
    {
     "data": {
      "application/vnd.jupyter.widget-view+json": {
       "model_id": "",
       "version_major": 2,
       "version_minor": 0
      },
      "text/plain": [
       "FloatProgress(value=0.0, bar_style='info', description='Progress:', layout=Layout(height='25px', width='50%'),…"
      ]
     },
     "metadata": {},
     "output_type": "display_data"
    }
   ],
   "source": [
    "t_employment=spark.sql(\"\"\"\n",
    "    select  'insert' as kind,\n",
    "     '2020-08-01 23:59:59' as etldate,\n",
    "        0 as  etlindex,\n",
    "     *,\n",
    "    '2020' as year,\n",
    "    '08' as month,\n",
    "     '01' as day\n",
    "    from `banda_emr_etl`.`t_employment`\n",
    "\n",
    "\"\"\")\n",
    "t_employment.write.mode(\"append\").partitionBy(\"year\",\"month\",\"day\").orc(\"s3://rupiahplus-data-warehouse/stream/banda_etl/t_employment/\")\n",
    "#   where  id  < 7080681"
   ]
  },
  {
   "cell_type": "code",
   "execution_count": 24,
   "metadata": {},
   "outputs": [
    {
     "data": {
      "application/vnd.jupyter.widget-view+json": {
       "model_id": "1c4a8d56eb57441aadc1da60e73e5b50",
       "version_major": 2,
       "version_minor": 0
      },
      "text/plain": [
       "VBox()"
      ]
     },
     "metadata": {},
     "output_type": "display_data"
    },
    {
     "data": {
      "application/vnd.jupyter.widget-view+json": {
       "model_id": "",
       "version_major": 2,
       "version_minor": 0
      },
      "text/plain": [
       "FloatProgress(value=0.0, bar_style='info', description='Progress:', layout=Layout(height='25px', width='50%'),…"
      ]
     },
     "metadata": {},
     "output_type": "display_data"
    }
   ],
   "source": [
    "t_engine_rule_detail=spark.sql(\"\"\"\n",
    "    select    'insert' as kind,\n",
    "    '2020-08-01 23:59:59' as etldate,\n",
    "        0 as  etlindex,\n",
    "     *,\n",
    "    '2020' as year,\n",
    "    '08' as month,\n",
    "     '01' as day\n",
    "    from `banda_emr_etl`.`t_engine_rule_detail`\n",
    "\n",
    "\"\"\")\n",
    "t_engine_rule_detail.write.mode(\"append\").partitionBy(\"year\",\"month\",\"day\").orc(\"s3://rupiahplus-data-warehouse/stream/banda_etl/t_engine_rule_detail/\")\n",
    "#   where  id  < 17301935"
   ]
  },
  {
   "cell_type": "code",
   "execution_count": 25,
   "metadata": {},
   "outputs": [
    {
     "data": {
      "application/vnd.jupyter.widget-view+json": {
       "model_id": "4b191753b70848f5ac740ec9424c9973",
       "version_major": 2,
       "version_minor": 0
      },
      "text/plain": [
       "VBox()"
      ]
     },
     "metadata": {},
     "output_type": "display_data"
    },
    {
     "data": {
      "application/vnd.jupyter.widget-view+json": {
       "model_id": "",
       "version_major": 2,
       "version_minor": 0
      },
      "text/plain": [
       "FloatProgress(value=0.0, bar_style='info', description='Progress:', layout=Layout(height='25px', width='50%'),…"
      ]
     },
     "metadata": {},
     "output_type": "display_data"
    }
   ],
   "source": [
    "t_file=spark.sql(\"\"\"\n",
    "    select    'insert' as kind,\n",
    "    '2020-08-01 23:59:59' as etldate,\n",
    "        0 as  etlindex,\n",
    "     *,\n",
    "    '2020' as year,\n",
    "    '08' as month,\n",
    "     '01' as day\n",
    "    from `banda_emr_etl`.`t_file`\n",
    "\"\"\")\n",
    "t_file.write.mode(\"append\").partitionBy(\"year\",\"month\",\"day\").orc(\"s3://rupiahplus-data-warehouse/stream/banda_etl/t_file/\")\n",
    "#   where  id  < 17301935"
   ]
  },
  {
   "cell_type": "code",
   "execution_count": 26,
   "metadata": {},
   "outputs": [
    {
     "data": {
      "application/vnd.jupyter.widget-view+json": {
       "model_id": "68a2e4f304e447268d43fdb91923ed63",
       "version_major": 2,
       "version_minor": 0
      },
      "text/plain": [
       "VBox()"
      ]
     },
     "metadata": {},
     "output_type": "display_data"
    },
    {
     "data": {
      "application/vnd.jupyter.widget-view+json": {
       "model_id": "",
       "version_major": 2,
       "version_minor": 0
      },
      "text/plain": [
       "FloatProgress(value=0.0, bar_style='info', description='Progress:', layout=Layout(height='25px', width='50%'),…"
      ]
     },
     "metadata": {},
     "output_type": "display_data"
    }
   ],
   "source": [
    "t_group=spark.sql(\"\"\"\n",
    "    select \n",
    "     'insert' as kind,\n",
    "     '2020-08-01 23:59:59' as etldate,\n",
    "        0 as  etlindex,\n",
    "     *,\n",
    "    '2020' as year,\n",
    "    '08' as month,\n",
    "     '01' as day\n",
    "    from `banda_emr_etl`.`t_group`\n",
    "\"\"\")\n",
    "t_group.write.mode(\"append\").partitionBy(\"year\",\"month\",\"day\").orc(\"s3://rupiahplus-data-warehouse/stream/banda_etl/t_group/\")\n"
   ]
  },
  {
   "cell_type": "code",
   "execution_count": 27,
   "metadata": {},
   "outputs": [
    {
     "data": {
      "application/vnd.jupyter.widget-view+json": {
       "model_id": "90fe3f0d534646698b57df7e709b6f69",
       "version_major": 2,
       "version_minor": 0
      },
      "text/plain": [
       "VBox()"
      ]
     },
     "metadata": {},
     "output_type": "display_data"
    },
    {
     "data": {
      "application/vnd.jupyter.widget-view+json": {
       "model_id": "",
       "version_major": 2,
       "version_minor": 0
      },
      "text/plain": [
       "FloatProgress(value=0.0, bar_style='info', description='Progress:', layout=Layout(height='25px', width='50%'),…"
      ]
     },
     "metadata": {},
     "output_type": "display_data"
    }
   ],
   "source": [
    "t_hit_blacklist_record=spark.sql(\"\"\"\n",
    "    select \n",
    "     'insert' as kind,\n",
    "     '2020-08-01 23:59:59' as etldate,\n",
    "        0 as  etlindex,\n",
    "     *,\n",
    "    '2020' as year,\n",
    "    '08' as month,\n",
    "     '01' as day\n",
    "    from `banda_emr_etl`.`t_hit_blacklist_record`\n",
    "\"\"\")\n",
    "t_hit_blacklist_record.write.mode(\"append\").partitionBy(\"year\",\"month\",\"day\").orc(\"s3://rupiahplus-data-warehouse/stream/banda_etl/t_hit_blacklist_record/\")\n"
   ]
  },
  {
   "cell_type": "code",
   "execution_count": 28,
   "metadata": {},
   "outputs": [
    {
     "data": {
      "application/vnd.jupyter.widget-view+json": {
       "model_id": "6e3449b03ab646ffa6d558e94515aea4",
       "version_major": 2,
       "version_minor": 0
      },
      "text/plain": [
       "VBox()"
      ]
     },
     "metadata": {},
     "output_type": "display_data"
    },
    {
     "data": {
      "application/vnd.jupyter.widget-view+json": {
       "model_id": "",
       "version_major": 2,
       "version_minor": 0
      },
      "text/plain": [
       "FloatProgress(value=0.0, bar_style='info', description='Progress:', layout=Layout(height='25px', width='50%'),…"
      ]
     },
     "metadata": {},
     "output_type": "display_data"
    }
   ],
   "source": [
    "t_invitation=spark.sql(\"\"\"\n",
    "    select    'insert' as kind,\n",
    "    '2020-08-01 23:59:59' as etldate,\n",
    "        0 as  etlindex,\n",
    "     *,\n",
    "    '2020' as year,\n",
    "    '08' as month,\n",
    "     '01' as day\n",
    "    from `banda_emr_etl`.`t_invitation`\n",
    "\n",
    "\"\"\")\n",
    "t_invitation.write.mode(\"append\").partitionBy(\"year\",\"month\",\"day\").orc(\"s3://rupiahplus-data-warehouse/stream/banda_etl/t_invitation/\")\n",
    "#    where  id <399154"
   ]
  },
  {
   "cell_type": "code",
   "execution_count": 29,
   "metadata": {},
   "outputs": [
    {
     "data": {
      "application/vnd.jupyter.widget-view+json": {
       "model_id": "4dd631d525ee446baa3dd82546ecb78b",
       "version_major": 2,
       "version_minor": 0
      },
      "text/plain": [
       "VBox()"
      ]
     },
     "metadata": {},
     "output_type": "display_data"
    },
    {
     "data": {
      "application/vnd.jupyter.widget-view+json": {
       "model_id": "",
       "version_major": 2,
       "version_minor": 0
      },
      "text/plain": [
       "FloatProgress(value=0.0, bar_style='info', description='Progress:', layout=Layout(height='25px', width='50%'),…"
      ]
     },
     "metadata": {},
     "output_type": "display_data"
    }
   ],
   "source": [
    "t_job_metric=spark.sql(\"\"\"\n",
    "    select  'insert' as kind,\n",
    "    '2020-08-01 23:59:59' as etldate,\n",
    "        0 as  etlindex,\n",
    "     *,\n",
    "    '2020' as year,\n",
    "    '08' as month,\n",
    "     '01' as day\n",
    "    from `banda_emr_etl`.`t_job_metric`\n",
    "\n",
    "\n",
    "\n",
    "\"\"\")\n",
    "t_job_metric.write.mode(\"append\").partitionBy(\"year\",\"month\",\"day\").orc(\"s3://rupiahplus-data-warehouse/stream/banda_etl/t_job_metric/\")"
   ]
  },
  {
   "cell_type": "code",
   "execution_count": 30,
   "metadata": {},
   "outputs": [
    {
     "data": {
      "application/vnd.jupyter.widget-view+json": {
       "model_id": "2abbfeb005724025b5592dd58fb29d0b",
       "version_major": 2,
       "version_minor": 0
      },
      "text/plain": [
       "VBox()"
      ]
     },
     "metadata": {},
     "output_type": "display_data"
    },
    {
     "data": {
      "application/vnd.jupyter.widget-view+json": {
       "model_id": "",
       "version_major": 2,
       "version_minor": 0
      },
      "text/plain": [
       "FloatProgress(value=0.0, bar_style='info', description='Progress:', layout=Layout(height='25px', width='50%'),…"
      ]
     },
     "metadata": {},
     "output_type": "display_data"
    }
   ],
   "source": [
    "t_loan_app=spark.sql(\"\"\"\n",
    "    select    'insert' as kind,\n",
    "    '2020-08-01 23:59:59' as etldate,\n",
    "        0 as  etlindex,\n",
    "     *,\n",
    "    '2020' as year,\n",
    "    '08' as month,\n",
    "     '01' as day\n",
    "    from `banda_emr_etl`.`t_loan_app`\n",
    "\n",
    "\"\"\")\n",
    "t_loan_app.write.mode(\"append\").partitionBy(\"year\",\"month\",\"day\").orc(\"s3://rupiahplus-data-warehouse/stream/banda_etl/t_loan_app/\")\n",
    "#  where  id  < 7052364"
   ]
  },
  {
   "cell_type": "code",
   "execution_count": 31,
   "metadata": {},
   "outputs": [
    {
     "data": {
      "application/vnd.jupyter.widget-view+json": {
       "model_id": "32a139bf0cd447749bcf31e8206ec281",
       "version_major": 2,
       "version_minor": 0
      },
      "text/plain": [
       "VBox()"
      ]
     },
     "metadata": {},
     "output_type": "display_data"
    },
    {
     "data": {
      "application/vnd.jupyter.widget-view+json": {
       "model_id": "",
       "version_major": 2,
       "version_minor": 0
      },
      "text/plain": [
       "FloatProgress(value=0.0, bar_style='info', description='Progress:', layout=Layout(height='25px', width='50%'),…"
      ]
     },
     "metadata": {},
     "output_type": "display_data"
    }
   ],
   "source": [
    "t_loan_app_review_summary=spark.sql(\"\"\"\n",
    "    select \n",
    "    'insert' as kind,\n",
    "     '2020-08-01 23:59:59' as etldate,\n",
    "        0 as  etlindex,\n",
    "     *,\n",
    "    '2020' as year,\n",
    "    '08' as month,\n",
    "     '01' as day\n",
    "    from `banda_emr_etl`.`t_loan_app_review_summary`\n",
    "\n",
    "  \n",
    "\"\"\")\n",
    "t_loan_app_review_summary.write.mode(\"append\").partitionBy(\"year\",\"month\",\"day\").orc(\"s3://rupiahplus-data-warehouse/stream/banda_etl/t_loan_app_review_summary/\")\n",
    "#   "
   ]
  },
  {
   "cell_type": "code",
   "execution_count": 32,
   "metadata": {},
   "outputs": [
    {
     "data": {
      "application/vnd.jupyter.widget-view+json": {
       "model_id": "58f0bfefe8104cc68cf0f7ffe7902952",
       "version_major": 2,
       "version_minor": 0
      },
      "text/plain": [
       "VBox()"
      ]
     },
     "metadata": {},
     "output_type": "display_data"
    },
    {
     "data": {
      "application/vnd.jupyter.widget-view+json": {
       "model_id": "",
       "version_major": 2,
       "version_minor": 0
      },
      "text/plain": [
       "FloatProgress(value=0.0, bar_style='info', description='Progress:', layout=Layout(height='25px', width='50%'),…"
      ]
     },
     "metadata": {},
     "output_type": "display_data"
    }
   ],
   "source": [
    "t_loan_app_status_log=spark.sql(\"\"\"\n",
    "    select  'insert' as kind,\n",
    "    '2020-08-01 23:59:59' as etldate,\n",
    "        0 as  etlindex,\n",
    "     *,\n",
    "    '2020' as year,\n",
    "    '08' as month,\n",
    "     '01' as day\n",
    "    from `banda_emr_etl`.`t_loan_app_status_log`\n",
    "\n",
    "\"\"\")\n",
    "t_loan_app_status_log.write.mode(\"append\").partitionBy(\"year\",\"month\",\"day\").orc(\"s3://rupiahplus-data-warehouse/stream/banda_etl/t_loan_app_status_log/\")\n"
   ]
  },
  {
   "cell_type": "code",
   "execution_count": 29,
   "metadata": {},
   "outputs": [
    {
     "data": {
      "application/vnd.jupyter.widget-view+json": {
       "model_id": "051de9ef7b7d48a187e8bb3e4f290ac9",
       "version_major": 2,
       "version_minor": 0
      },
      "text/plain": [
       "VBox()"
      ]
     },
     "metadata": {},
     "output_type": "display_data"
    },
    {
     "data": {
      "application/vnd.jupyter.widget-view+json": {
       "model_id": "",
       "version_major": 2,
       "version_minor": 0
      },
      "text/plain": [
       "FloatProgress(value=0.0, bar_style='info', description='Progress:', layout=Layout(height='25px', width='50%'),…"
      ]
     },
     "metadata": {},
     "output_type": "display_data"
    }
   ],
   "source": [
    "t_loan_issue=spark.sql(\"\"\"\n",
    "    select\n",
    "    'insert' as kind,\n",
    "    '2020-08-01 23:59:59' as etldate,\n",
    "        0 as  etlindex,\n",
    "     *,\n",
    "    '2020' as year,\n",
    "    '08' as month,\n",
    "     '01' as day\n",
    "    from `banda_emr_etl`.`t_loan_issue`\n",
    "     where  id  < 4163212\n",
    "\"\"\")\n",
    "t_loan_issue.write.mode(\"append\").partitionBy(\"year\",\"month\",\"day\").orc(\"s3://rupiahplus-data-warehouse/stream/banda_etl/t_loan_issue/\")\n",
    "#    "
   ]
  },
  {
   "cell_type": "code",
   "execution_count": 33,
   "metadata": {},
   "outputs": [
    {
     "data": {
      "application/vnd.jupyter.widget-view+json": {
       "model_id": "3ec74bc14ef841c693ad61b5dece9ce3",
       "version_major": 2,
       "version_minor": 0
      },
      "text/plain": [
       "VBox()"
      ]
     },
     "metadata": {},
     "output_type": "display_data"
    },
    {
     "data": {
      "application/vnd.jupyter.widget-view+json": {
       "model_id": "",
       "version_major": 2,
       "version_minor": 0
      },
      "text/plain": [
       "FloatProgress(value=0.0, bar_style='info', description='Progress:', layout=Layout(height='25px', width='50%'),…"
      ]
     },
     "metadata": {},
     "output_type": "display_data"
    }
   ],
   "source": [
    "t_loan_log=spark.sql(\"\"\"\n",
    "    select    'insert' as kind,\n",
    "    '2020-08-01 23:59:59' as etldate,\n",
    "        0 as  etlindex,\n",
    "     *,\n",
    "    '2020' as year,\n",
    "    '08' as month,\n",
    "     '01' as day\n",
    "    from `banda_emr_etl`.`t_loan_log`\n",
    "\"\"\")\n",
    "t_loan_log.write.mode(\"append\").partitionBy(\"year\",\"month\",\"day\").orc(\"s3://rupiahplus-data-warehouse/stream/banda_etl/t_loan_log/\")\n"
   ]
  },
  {
   "cell_type": "code",
   "execution_count": 2,
   "metadata": {},
   "outputs": [
    {
     "data": {
      "application/vnd.jupyter.widget-view+json": {
       "model_id": "a3efe6232c264ba380b488632f74780c",
       "version_major": 2,
       "version_minor": 0
      },
      "text/plain": [
       "VBox()"
      ]
     },
     "metadata": {},
     "output_type": "display_data"
    },
    {
     "data": {
      "application/vnd.jupyter.widget-view+json": {
       "model_id": "",
       "version_major": 2,
       "version_minor": 0
      },
      "text/plain": [
       "FloatProgress(value=0.0, bar_style='info', description='Progress:', layout=Layout(height='25px', width='50%'),…"
      ]
     },
     "metadata": {},
     "output_type": "display_data"
    }
   ],
   "source": []
  },
  {
   "cell_type": "code",
   "execution_count": 34,
   "metadata": {},
   "outputs": [
    {
     "data": {
      "application/vnd.jupyter.widget-view+json": {
       "model_id": "a2c21b9f636245d784609cba4fc741cc",
       "version_major": 2,
       "version_minor": 0
      },
      "text/plain": [
       "VBox()"
      ]
     },
     "metadata": {},
     "output_type": "display_data"
    },
    {
     "data": {
      "application/vnd.jupyter.widget-view+json": {
       "model_id": "",
       "version_major": 2,
       "version_minor": 0
      },
      "text/plain": [
       "FloatProgress(value=0.0, bar_style='info', description='Progress:', layout=Layout(height='25px', width='50%'),…"
      ]
     },
     "metadata": {},
     "output_type": "display_data"
    }
   ],
   "source": [
    "t_loan_tag_rel=spark.sql(\"\"\"\n",
    "    select     'insert' as kind,\n",
    "     '2020-08-01 23:59:59' as etldate,\n",
    "        0 as  etlindex,\n",
    "     *,\n",
    "    '2020' as year,\n",
    "    '08' as month,\n",
    "     '01' as day\n",
    "    from `banda_emr_etl`.`t_loan_tag_rel`\n",
    "\"\"\")\n",
    "t_loan_tag_rel.write.mode(\"append\").partitionBy(\"year\",\"month\",\"day\").orc(\"s3://rupiahplus-data-warehouse/stream/banda_etl/t_loan_tag_rel/\")\n",
    "#"
   ]
  },
  {
   "cell_type": "code",
   "execution_count": 35,
   "metadata": {},
   "outputs": [
    {
     "data": {
      "application/vnd.jupyter.widget-view+json": {
       "model_id": "dad63ae37d8d46998fc8574505371c9a",
       "version_major": 2,
       "version_minor": 0
      },
      "text/plain": [
       "VBox()"
      ]
     },
     "metadata": {},
     "output_type": "display_data"
    },
    {
     "data": {
      "application/vnd.jupyter.widget-view+json": {
       "model_id": "",
       "version_major": 2,
       "version_minor": 0
      },
      "text/plain": [
       "FloatProgress(value=0.0, bar_style='info', description='Progress:', layout=Layout(height='25px', width='50%'),…"
      ]
     },
     "metadata": {},
     "output_type": "display_data"
    }
   ],
   "source": [
    "t_login_log=spark.sql(\"\"\"\n",
    "    select     'insert' as kind,\n",
    "     '2020-08-01 23:59:59' as etldate,\n",
    "        0 as  etlindex,\n",
    "     *,\n",
    "    '2020' as year,\n",
    "    '08' as month,\n",
    "     '01' as day\n",
    "    from `banda_emr_etl`.`t_login_log`\n",
    "\n",
    "\"\"\")\n",
    "t_login_log.write.mode(\"append\").partitionBy(\"year\",\"month\",\"day\").orc(\"s3://rupiahplus-data-warehouse/stream/banda_etl/t_login_log/\")\n",
    "#"
   ]
  },
  {
   "cell_type": "code",
   "execution_count": 36,
   "metadata": {},
   "outputs": [
    {
     "data": {
      "application/vnd.jupyter.widget-view+json": {
       "model_id": "a0e3731409f140b7af364b02008d909a",
       "version_major": 2,
       "version_minor": 0
      },
      "text/plain": [
       "VBox()"
      ]
     },
     "metadata": {},
     "output_type": "display_data"
    },
    {
     "data": {
      "application/vnd.jupyter.widget-view+json": {
       "model_id": "",
       "version_major": 2,
       "version_minor": 0
      },
      "text/plain": [
       "FloatProgress(value=0.0, bar_style='info', description='Progress:', layout=Layout(height='25px', width='50%'),…"
      ]
     },
     "metadata": {},
     "output_type": "display_data"
    }
   ],
   "source": [
    "t_lpay=spark.sql(\"\"\"\n",
    "    select     'insert' as kind,\n",
    "   '2020-08-01 23:59:59' as etldate,\n",
    "        0 as  etlindex,\n",
    "     *,\n",
    "    '2020' as year,\n",
    "    '08' as month,\n",
    "     '01' as day\n",
    "    from `banda_emr_etl`.`t_lpay`\n",
    "\n",
    "\"\"\")\n",
    "t_lpay.write.mode(\"append\").partitionBy(\"year\",\"month\",\"day\").orc(\"s3://rupiahplus-data-warehouse/stream/banda_etl/t_lpay/\")\n",
    "#    "
   ]
  },
  {
   "cell_type": "code",
   "execution_count": 37,
   "metadata": {},
   "outputs": [
    {
     "data": {
      "application/vnd.jupyter.widget-view+json": {
       "model_id": "46db794e221641929d3a2a821ca67946",
       "version_major": 2,
       "version_minor": 0
      },
      "text/plain": [
       "VBox()"
      ]
     },
     "metadata": {},
     "output_type": "display_data"
    },
    {
     "data": {
      "application/vnd.jupyter.widget-view+json": {
       "model_id": "",
       "version_major": 2,
       "version_minor": 0
      },
      "text/plain": [
       "FloatProgress(value=0.0, bar_style='info', description='Progress:', layout=Layout(height='25px', width='50%'),…"
      ]
     },
     "metadata": {},
     "output_type": "display_data"
    }
   ],
   "source": [
    "t_lpay_deposit=spark.sql(\"\"\"\n",
    "    select  'insert' as kind,\n",
    "    '2020-08-01 23:59:59' as etldate,\n",
    "        0 as  etlindex,\n",
    "     *,\n",
    "    '2020' as year,\n",
    "    '08' as month,\n",
    "     '01' as day\n",
    "    from `banda_emr_etl`.`t_lpay_deposit`\n",
    "\n",
    "\"\"\")\n",
    "t_lpay_deposit.write.mode(\"append\").partitionBy(\"year\",\"month\",\"day\").orc(\"s3://rupiahplus-data-warehouse/stream/banda_etl/t_lpay_deposit/\")\n",
    "#    "
   ]
  },
  {
   "cell_type": "code",
   "execution_count": 38,
   "metadata": {},
   "outputs": [
    {
     "data": {
      "application/vnd.jupyter.widget-view+json": {
       "model_id": "9b81047bf0c64e0c87fedee6f11bd18a",
       "version_major": 2,
       "version_minor": 0
      },
      "text/plain": [
       "VBox()"
      ]
     },
     "metadata": {},
     "output_type": "display_data"
    },
    {
     "data": {
      "application/vnd.jupyter.widget-view+json": {
       "model_id": "",
       "version_major": 2,
       "version_minor": 0
      },
      "text/plain": [
       "FloatProgress(value=0.0, bar_style='info', description='Progress:', layout=Layout(height='25px', width='50%'),…"
      ]
     },
     "metadata": {},
     "output_type": "display_data"
    }
   ],
   "source": [
    "t_message=spark.sql(\"\"\"\n",
    "    select  'insert' as kind,\n",
    "    '2020-08-01 23:59:59' as etldate,\n",
    "        0 as  etlindex,\n",
    "     *,\n",
    "    '2020' as year,\n",
    "    '08' as month,\n",
    "     '01' as day\n",
    "    from `banda_emr_etl`.`t_message`\n",
    "\n",
    "\"\"\")\n",
    "t_message.write.mode(\"append\").partitionBy(\"year\",\"month\",\"day\").orc(\"s3://rupiahplus-data-warehouse/stream/banda_etl/t_message/\")\n",
    "# "
   ]
  },
  {
   "cell_type": "code",
   "execution_count": 39,
   "metadata": {},
   "outputs": [
    {
     "data": {
      "application/vnd.jupyter.widget-view+json": {
       "model_id": "606e7104be65452c9219cd04d4c91f74",
       "version_major": 2,
       "version_minor": 0
      },
      "text/plain": [
       "VBox()"
      ]
     },
     "metadata": {},
     "output_type": "display_data"
    },
    {
     "data": {
      "application/vnd.jupyter.widget-view+json": {
       "model_id": "",
       "version_major": 2,
       "version_minor": 0
      },
      "text/plain": [
       "FloatProgress(value=0.0, bar_style='info', description='Progress:', layout=Layout(height='25px', width='50%'),…"
      ]
     },
     "metadata": {},
     "output_type": "display_data"
    }
   ],
   "source": [
    "t_mobile_tag_rel=spark.sql(\"\"\"\n",
    "    select  'insert' as kind,\n",
    "    '2020-08-01 23:59:59' as etldate,\n",
    "        0 as  etlindex,\n",
    "     *,\n",
    "    '2020' as year,\n",
    "    '08' as month,\n",
    "     '01' as day\n",
    "    from `banda_emr_etl`.`t_mobile_tag_rel`\n",
    "\"\"\")\n",
    "t_mobile_tag_rel.write.mode(\"append\").partitionBy(\"year\",\"month\",\"day\").orc(\"s3://rupiahplus-data-warehouse/stream/banda_etl/t_mobile_tag_rel/\")\n",
    "# "
   ]
  },
  {
   "cell_type": "code",
   "execution_count": 40,
   "metadata": {},
   "outputs": [
    {
     "data": {
      "application/vnd.jupyter.widget-view+json": {
       "model_id": "1e41638d4cc14d0f8471cf035f699962",
       "version_major": 2,
       "version_minor": 0
      },
      "text/plain": [
       "VBox()"
      ]
     },
     "metadata": {},
     "output_type": "display_data"
    },
    {
     "data": {
      "application/vnd.jupyter.widget-view+json": {
       "model_id": "",
       "version_major": 2,
       "version_minor": 0
      },
      "text/plain": [
       "FloatProgress(value=0.0, bar_style='info', description='Progress:', layout=Layout(height='25px', width='50%'),…"
      ]
     },
     "metadata": {},
     "output_type": "display_data"
    }
   ],
   "source": [
    "t_personal_info=spark.sql(\"\"\"\n",
    "    select     'insert' as kind,\n",
    "    '2020-08-01 23:59:59' as etldate,\n",
    "        0 as  etlindex,\n",
    "     *,\n",
    "    '2020' as year,\n",
    "    '08' as month,\n",
    "     '01' as day\n",
    "    from `banda_emr_etl`.`t_personal_info`\n",
    "\"\"\")\n",
    "t_personal_info.write.mode(\"append\").partitionBy(\"year\",\"month\",\"day\").orc(\"s3://rupiahplus-data-warehouse/stream/banda_etl/t_personal_info/\")\n",
    "#"
   ]
  },
  {
   "cell_type": "code",
   "execution_count": 41,
   "metadata": {},
   "outputs": [
    {
     "data": {
      "application/vnd.jupyter.widget-view+json": {
       "model_id": "90b5a35927b24b6f88a204b8acc934b9",
       "version_major": 2,
       "version_minor": 0
      },
      "text/plain": [
       "VBox()"
      ]
     },
     "metadata": {},
     "output_type": "display_data"
    },
    {
     "data": {
      "application/vnd.jupyter.widget-view+json": {
       "model_id": "",
       "version_major": 2,
       "version_minor": 0
      },
      "text/plain": [
       "FloatProgress(value=0.0, bar_style='info', description='Progress:', layout=Layout(height='25px', width='50%'),…"
      ]
     },
     "metadata": {},
     "output_type": "display_data"
    }
   ],
   "source": [
    "t_record_bankcard=spark.sql(\"\"\"\n",
    "    select     'insert' as kind,\n",
    "     '2020-08-01 23:59:59' as etldate,\n",
    "        0 as  etlindex,\n",
    "     *,\n",
    "    '2020' as year,\n",
    "    '08' as month,\n",
    "     '01' as day\n",
    "    from `banda_emr_etl`.`t_record_bankcard`\n",
    "\"\"\")\n",
    "t_record_bankcard.write.mode(\"append\").partitionBy(\"year\",\"month\",\"day\").orc(\"s3://rupiahplus-data-warehouse/stream/banda_etl/t_record_bankcard/\")\n",
    "#"
   ]
  },
  {
   "cell_type": "code",
   "execution_count": 42,
   "metadata": {},
   "outputs": [
    {
     "data": {
      "application/vnd.jupyter.widget-view+json": {
       "model_id": "4ae72429bc7640e59d14b10b17faafb9",
       "version_major": 2,
       "version_minor": 0
      },
      "text/plain": [
       "VBox()"
      ]
     },
     "metadata": {},
     "output_type": "display_data"
    },
    {
     "data": {
      "application/vnd.jupyter.widget-view+json": {
       "model_id": "",
       "version_major": 2,
       "version_minor": 0
      },
      "text/plain": [
       "FloatProgress(value=0.0, bar_style='info', description='Progress:', layout=Layout(height='25px', width='50%'),…"
      ]
     },
     "metadata": {},
     "output_type": "display_data"
    }
   ],
   "source": [
    "t_record_contact=spark.sql(\"\"\"\n",
    "    select    'insert' as kind,\n",
    "     '2020-08-01 23:59:59' as etldate,\n",
    "        0 as  etlindex,\n",
    "     *,\n",
    "    '2020' as year,\n",
    "    '08' as month,\n",
    "     '01' as day\n",
    "    from `banda_emr_etl`.`t_record_contact`\n",
    "\n",
    "\"\"\")\n",
    "t_record_contact.write.mode(\"append\").partitionBy(\"year\",\"month\",\"day\").orc(\"s3://rupiahplus-data-warehouse/stream/banda_etl/t_record_contact/\")\n",
    "#  "
   ]
  },
  {
   "cell_type": "code",
   "execution_count": 43,
   "metadata": {},
   "outputs": [
    {
     "data": {
      "application/vnd.jupyter.widget-view+json": {
       "model_id": "e2473f449e204f8eb476aed6000a55ba",
       "version_major": 2,
       "version_minor": 0
      },
      "text/plain": [
       "VBox()"
      ]
     },
     "metadata": {},
     "output_type": "display_data"
    },
    {
     "data": {
      "application/vnd.jupyter.widget-view+json": {
       "model_id": "",
       "version_major": 2,
       "version_minor": 0
      },
      "text/plain": [
       "FloatProgress(value=0.0, bar_style='info', description='Progress:', layout=Layout(height='25px', width='50%'),…"
      ]
     },
     "metadata": {},
     "output_type": "display_data"
    }
   ],
   "source": [
    "t_record_employment=spark.sql(\"\"\"\n",
    "    select 'insert' as kind,\n",
    "     '2020-08-01 23:59:59' as etldate,\n",
    "        0 as  etlindex,\n",
    "     *,\n",
    "    '2020' as year,\n",
    "    '08' as month,\n",
    "     '01' as day\n",
    "    from `banda_emr_etl`.`t_record_employment`\n",
    "\"\"\")\n",
    "t_record_employment.write.mode(\"append\").partitionBy(\"year\",\"month\",\"day\").orc(\"s3://rupiahplus-data-warehouse/stream/banda_etl/t_record_employment/\")\n",
    "# "
   ]
  },
  {
   "cell_type": "code",
   "execution_count": 44,
   "metadata": {},
   "outputs": [
    {
     "data": {
      "application/vnd.jupyter.widget-view+json": {
       "model_id": "f5969a900f834bf9aec41b5a8949d76a",
       "version_major": 2,
       "version_minor": 0
      },
      "text/plain": [
       "VBox()"
      ]
     },
     "metadata": {},
     "output_type": "display_data"
    },
    {
     "data": {
      "application/vnd.jupyter.widget-view+json": {
       "model_id": "",
       "version_major": 2,
       "version_minor": 0
      },
      "text/plain": [
       "FloatProgress(value=0.0, bar_style='info', description='Progress:', layout=Layout(height='25px', width='50%'),…"
      ]
     },
     "metadata": {},
     "output_type": "display_data"
    }
   ],
   "source": [
    "t_record_file=spark.sql(\"\"\"\n",
    "    select     'insert' as kind,\n",
    "     '2020-08-01 23:59:59' as etldate,\n",
    "        0 as  etlindex,\n",
    "     *,\n",
    "    '2020' as year,\n",
    "    '08' as month,\n",
    "     '01' as day\n",
    "    from `banda_emr_etl`.`t_record_file`\n",
    "\"\"\")\n",
    "t_record_file.write.mode(\"append\").partitionBy(\"year\",\"month\",\"day\").orc(\"s3://rupiahplus-data-warehouse/stream/banda_etl/t_record_file/\")\n",
    "# "
   ]
  },
  {
   "cell_type": "code",
   "execution_count": 45,
   "metadata": {},
   "outputs": [
    {
     "data": {
      "application/vnd.jupyter.widget-view+json": {
       "model_id": "716558b7b97942bdb83310d625200906",
       "version_major": 2,
       "version_minor": 0
      },
      "text/plain": [
       "VBox()"
      ]
     },
     "metadata": {},
     "output_type": "display_data"
    },
    {
     "data": {
      "application/vnd.jupyter.widget-view+json": {
       "model_id": "",
       "version_major": 2,
       "version_minor": 0
      },
      "text/plain": [
       "FloatProgress(value=0.0, bar_style='info', description='Progress:', layout=Layout(height='25px', width='50%'),…"
      ]
     },
     "metadata": {},
     "output_type": "display_data"
    }
   ],
   "source": [
    "t_record_personal_info=spark.sql(\"\"\"\n",
    "    select 'insert' as kind,\n",
    "     '2020-08-01 23:59:59' as etldate,\n",
    "        0 as  etlindex,\n",
    "     *,\n",
    "    '2020' as year,\n",
    "    '08' as month,\n",
    "     '01' as day\n",
    "    from `banda_emr_etl`.`t_record_personal_info`\n",
    "\"\"\")\n",
    "t_record_personal_info.write.mode(\"append\").partitionBy(\"year\",\"month\",\"day\").orc(\"s3://rupiahplus-data-warehouse/stream/banda_etl/t_record_personal_info/\")\n",
    "#     "
   ]
  },
  {
   "cell_type": "code",
   "execution_count": 46,
   "metadata": {},
   "outputs": [
    {
     "data": {
      "application/vnd.jupyter.widget-view+json": {
       "model_id": "7a9308f804b740449654ef61b5a3fba4",
       "version_major": 2,
       "version_minor": 0
      },
      "text/plain": [
       "VBox()"
      ]
     },
     "metadata": {},
     "output_type": "display_data"
    },
    {
     "data": {
      "application/vnd.jupyter.widget-view+json": {
       "model_id": "",
       "version_major": 2,
       "version_minor": 0
      },
      "text/plain": [
       "FloatProgress(value=0.0, bar_style='info', description='Progress:', layout=Layout(height='25px', width='50%'),…"
      ]
     },
     "metadata": {},
     "output_type": "display_data"
    }
   ],
   "source": [
    "t_review_blacklist=spark.sql(\"\"\"\n",
    "    select     'insert' as kind,\n",
    "     '2020-08-01 23:59:59' as etldate,\n",
    "        0 as  etlindex,\n",
    "     *,\n",
    "    '2020' as year,\n",
    "    '08' as month,\n",
    "     '01' as day\n",
    "    from `banda_emr_etl`.`t_review_blacklist`\n",
    "   \n",
    "\"\"\")\n",
    "t_review_blacklist.write.mode(\"append\").partitionBy(\"year\",\"month\",\"day\").orc(\"s3://rupiahplus-data-warehouse/stream/banda_etl/t_review_blacklist/\")\n",
    "#    where  id   <= 101159 "
   ]
  },
  {
   "cell_type": "code",
   "execution_count": 47,
   "metadata": {},
   "outputs": [
    {
     "data": {
      "application/vnd.jupyter.widget-view+json": {
       "model_id": "9eddb03211014732bbfedf681e8edd34",
       "version_major": 2,
       "version_minor": 0
      },
      "text/plain": [
       "VBox()"
      ]
     },
     "metadata": {},
     "output_type": "display_data"
    },
    {
     "data": {
      "application/vnd.jupyter.widget-view+json": {
       "model_id": "",
       "version_major": 2,
       "version_minor": 0
      },
      "text/plain": [
       "FloatProgress(value=0.0, bar_style='info', description='Progress:', layout=Layout(height='25px', width='50%'),…"
      ]
     },
     "metadata": {},
     "output_type": "display_data"
    }
   ],
   "source": [
    "t_review_step_execution=spark.sql(\"\"\"\n",
    "    select    'insert' as kind,\n",
    "    '2020-08-01 23:59:59' as etldate,\n",
    "        0 as  etlindex,\n",
    "     *,\n",
    "    '2020' as year,\n",
    "    '08' as month,\n",
    "     '01' as day\n",
    "    from `banda_emr_etl`.`t_review_step_execution`\n",
    "\"\"\")\n",
    "t_review_step_execution.write.mode(\"append\").partitionBy(\"year\",\"month\",\"day\").orc(\"s3://rupiahplus-data-warehouse/stream/banda_etl/t_review_step_execution/\")\n"
   ]
  },
  {
   "cell_type": "code",
   "execution_count": 48,
   "metadata": {},
   "outputs": [
    {
     "data": {
      "application/vnd.jupyter.widget-view+json": {
       "model_id": "94ffd98a280d4d468e9082a65efb4441",
       "version_major": 2,
       "version_minor": 0
      },
      "text/plain": [
       "VBox()"
      ]
     },
     "metadata": {},
     "output_type": "display_data"
    },
    {
     "data": {
      "application/vnd.jupyter.widget-view+json": {
       "model_id": "",
       "version_major": 2,
       "version_minor": 0
      },
      "text/plain": [
       "FloatProgress(value=0.0, bar_style='info', description='Progress:', layout=Layout(height='25px', width='50%'),…"
      ]
     },
     "metadata": {},
     "output_type": "display_data"
    }
   ],
   "source": [
    "t_send_coupon_rel=spark.sql(\"\"\"\n",
    "    select    'insert' as kind,\n",
    "   '2020-08-01 23:59:59' as etldate,\n",
    "        0 as  etlindex,\n",
    "     *,\n",
    "    '2020' as year,\n",
    "    '08' as month,\n",
    "     '01' as day\n",
    "    from `banda_emr_etl`.`t_send_coupon_rel`\n",
    "  \n",
    "\"\"\")\n",
    "t_send_coupon_rel.write.mode(\"append\").partitionBy(\"year\",\"month\",\"day\").orc(\"s3://rupiahplus-data-warehouse/stream/banda_etl/t_send_coupon_rel/\")\n"
   ]
  },
  {
   "cell_type": "code",
   "execution_count": 49,
   "metadata": {},
   "outputs": [
    {
     "data": {
      "application/vnd.jupyter.widget-view+json": {
       "model_id": "fbfdeb32b025471bb27e4e3572249eb4",
       "version_major": 2,
       "version_minor": 0
      },
      "text/plain": [
       "VBox()"
      ]
     },
     "metadata": {},
     "output_type": "display_data"
    },
    {
     "data": {
      "application/vnd.jupyter.widget-view+json": {
       "model_id": "",
       "version_major": 2,
       "version_minor": 0
      },
      "text/plain": [
       "FloatProgress(value=0.0, bar_style='info', description='Progress:', layout=Layout(height='25px', width='50%'),…"
      ]
     },
     "metadata": {},
     "output_type": "display_data"
    }
   ],
   "source": [
    "t_sms=spark.sql(\"\"\"\n",
    "    select     'insert' as kind,\n",
    "      '2020-08-01 23:59:59' as etldate,\n",
    "        0 as  etlindex,\n",
    "     *,\n",
    "    '2020' as year,\n",
    "    '08' as month,\n",
    "     '01' as day\n",
    "    from `banda_emr_etl`.`t_sms`\n",
    "\"\"\")\n",
    "t_sms.write.mode(\"append\").partitionBy(\"year\",\"month\",\"day\").orc(\"s3://rupiahplus-data-warehouse/stream/banda_etl/t_sms/\")\n",
    "#  "
   ]
  },
  {
   "cell_type": "code",
   "execution_count": 50,
   "metadata": {},
   "outputs": [
    {
     "data": {
      "application/vnd.jupyter.widget-view+json": {
       "model_id": "f1603153c2434832b533c2d9831b7e5f",
       "version_major": 2,
       "version_minor": 0
      },
      "text/plain": [
       "VBox()"
      ]
     },
     "metadata": {},
     "output_type": "display_data"
    },
    {
     "data": {
      "application/vnd.jupyter.widget-view+json": {
       "model_id": "",
       "version_major": 2,
       "version_minor": 0
      },
      "text/plain": [
       "FloatProgress(value=0.0, bar_style='info', description='Progress:', layout=Layout(height='25px', width='50%'),…"
      ]
     },
     "metadata": {},
     "output_type": "display_data"
    }
   ],
   "source": [
    "t_thirdparty_data=spark.sql(\"\"\"\n",
    "    select     'insert' as kind,\n",
    "    '2020-08-01 23:59:59' as etldate,\n",
    "        0 as  etlindex,\n",
    "     *,\n",
    "    '2020' as year,\n",
    "    '08' as month,\n",
    "     '01' as day\n",
    "    from `banda_emr_etl`.`t_thirdparty_data`\n",
    "\"\"\")\n",
    "t_thirdparty_data.write.mode(\"append\").partitionBy(\"year\",\"month\",\"day\").orc(\"s3://rupiahplus-data-warehouse/stream/banda_etl/t_thirdparty_data/\")\n",
    "#  "
   ]
  },
  {
   "cell_type": "code",
   "execution_count": 51,
   "metadata": {},
   "outputs": [
    {
     "data": {
      "application/vnd.jupyter.widget-view+json": {
       "model_id": "2f14db8028764fc482d6e7f02a829989",
       "version_major": 2,
       "version_minor": 0
      },
      "text/plain": [
       "VBox()"
      ]
     },
     "metadata": {},
     "output_type": "display_data"
    },
    {
     "data": {
      "application/vnd.jupyter.widget-view+json": {
       "model_id": "",
       "version_major": 2,
       "version_minor": 0
      },
      "text/plain": [
       "FloatProgress(value=0.0, bar_style='info', description='Progress:', layout=Layout(height='25px', width='50%'),…"
      ]
     },
     "metadata": {},
     "output_type": "display_data"
    }
   ],
   "source": [
    "t_tongdun_data=spark.sql(\"\"\"\n",
    "    select     'insert' as kind,\n",
    "    '2020-08-01 23:59:59' as etldate,\n",
    "        0 as  etlindex,\n",
    "     *,\n",
    "    '2020' as year,\n",
    "    '08' as month,\n",
    "     '01' as day\n",
    "    from `banda_emr_etl`.`t_tongdun_data`\n",
    "\n",
    "\"\"\")\n",
    "t_tongdun_data.write.mode(\"append\").partitionBy(\"year\",\"month\",\"day\").orc(\"s3://rupiahplus-data-warehouse/stream/banda_etl/t_tongdun_data/\")\n",
    "#  "
   ]
  },
  {
   "cell_type": "code",
   "execution_count": 52,
   "metadata": {},
   "outputs": [
    {
     "data": {
      "application/vnd.jupyter.widget-view+json": {
       "model_id": "ec2bd77f76864e42b551ba82b99a80f0",
       "version_major": 2,
       "version_minor": 0
      },
      "text/plain": [
       "VBox()"
      ]
     },
     "metadata": {},
     "output_type": "display_data"
    },
    {
     "data": {
      "application/vnd.jupyter.widget-view+json": {
       "model_id": "",
       "version_major": 2,
       "version_minor": 0
      },
      "text/plain": [
       "FloatProgress(value=0.0, bar_style='info', description='Progress:', layout=Layout(height='25px', width='50%'),…"
      ]
     },
     "metadata": {},
     "output_type": "display_data"
    }
   ],
   "source": [
    "t_virtual_account=spark.sql(\"\"\"\n",
    "    select    'insert' as kind,\n",
    "    '2020-08-01 23:59:59' as etldate,\n",
    "        0 as  etlindex,\n",
    "     *,\n",
    "    '2020' as year,\n",
    "    '08' as month,\n",
    "     '01' as day\n",
    "    from `banda_emr_etl`.`t_virtual_account`\n",
    "\"\"\")\n",
    "t_virtual_account.write.mode(\"append\").partitionBy(\"year\",\"month\",\"day\").orc(\"s3://rupiahplus-data-warehouse/stream/banda_etl/t_virtual_account/\")\n",
    "#    "
   ]
  },
  {
   "cell_type": "code",
   "execution_count": 38,
   "metadata": {},
   "outputs": [
    {
     "data": {
      "application/vnd.jupyter.widget-view+json": {
       "model_id": "4030e3bb4d514c97b9c8d062ee30fb1b",
       "version_major": 2,
       "version_minor": 0
      },
      "text/plain": [
       "VBox()"
      ]
     },
     "metadata": {},
     "output_type": "display_data"
    },
    {
     "data": {
      "application/vnd.jupyter.widget-view+json": {
       "model_id": "",
       "version_major": 2,
       "version_minor": 0
      },
      "text/plain": [
       "FloatProgress(value=0.0, bar_style='info', description='Progress:', layout=Layout(height='25px', width='50%'),…"
      ]
     },
     "metadata": {},
     "output_type": "display_data"
    }
   ],
   "source": [
    "t_customer_install_info=spark.sql(\"\"\"\n",
    "    select    'insert' as kind,\n",
    "    '2020-08-01 23:59:59' as etldate,\n",
    "        0 as  etlindex,\n",
    "     *,\n",
    "    '2020' as year,\n",
    "    '08' as month,\n",
    "     '01' as day\n",
    "    from `banda_emr_etl`.`t_customer_install_info`\n",
    "   \n",
    "\"\"\")\n",
    "t_customer_install_info.write.mode(\"append\").partitionBy(\"year\",\"month\",\"day\").orc(\"s3://rupiahplus-data-warehouse/stream/banda_etl/t_customer_install_info/\")\n",
    "#     where  id   < 1833507 "
   ]
  },
  {
   "cell_type": "code",
   "execution_count": 54,
   "metadata": {},
   "outputs": [
    {
     "data": {
      "application/vnd.jupyter.widget-view+json": {
       "model_id": "0ced767065da4974bd1b8ab27c95315b",
       "version_major": 2,
       "version_minor": 0
      },
      "text/plain": [
       "VBox()"
      ]
     },
     "metadata": {},
     "output_type": "display_data"
    },
    {
     "data": {
      "application/vnd.jupyter.widget-view+json": {
       "model_id": "",
       "version_major": 2,
       "version_minor": 0
      },
      "text/plain": [
       "FloatProgress(value=0.0, bar_style='info', description='Progress:', layout=Layout(height='25px', width='50%'),…"
      ]
     },
     "metadata": {},
     "output_type": "display_data"
    },
    {
     "name": "stderr",
     "output_type": "stream",
     "text": [
      "\"Table or view not found: `banda_emr_etl`.`t_whitelist_old_customer`; line 9 pos 9;\\n'Project [insert AS kind#3681, 2020-02-28 23:59:59 AS etldate#3682, 0 AS etlindex#3683, *, 2020 AS year#3684, 02 AS month#3685, 28 AS day#3686]\\n+- 'UnresolvedRelation `banda_emr_etl`.`t_whitelist_old_customer`\\n\"\n",
      "Traceback (most recent call last):\n",
      "  File \"/usr/lib/spark/python/lib/pyspark.zip/pyspark/sql/session.py\", line 767, in sql\n",
      "    return DataFrame(self._jsparkSession.sql(sqlQuery), self._wrapped)\n",
      "  File \"/usr/lib/spark/python/lib/py4j-0.10.7-src.zip/py4j/java_gateway.py\", line 1257, in __call__\n",
      "    answer, self.gateway_client, self.target_id, self.name)\n",
      "  File \"/usr/lib/spark/python/lib/pyspark.zip/pyspark/sql/utils.py\", line 69, in deco\n",
      "    raise AnalysisException(s.split(': ', 1)[1], stackTrace)\n",
      "pyspark.sql.utils.AnalysisException: \"Table or view not found: `banda_emr_etl`.`t_whitelist_old_customer`; line 9 pos 9;\\n'Project [insert AS kind#3681, 2020-02-28 23:59:59 AS etldate#3682, 0 AS etlindex#3683, *, 2020 AS year#3684, 02 AS month#3685, 28 AS day#3686]\\n+- 'UnresolvedRelation `banda_emr_etl`.`t_whitelist_old_customer`\\n\"\n",
      "\n"
     ]
    }
   ],
   "source": [
    "t_whitelist_old_customer=spark.sql(\"\"\"\n",
    "    select    'insert' as kind,\n",
    "     '2020-02-28 23:59:59' as etldate,\n",
    "        0 as  etlindex,\n",
    "    *,\n",
    "    '2020' as year,\n",
    "    '02' as month,\n",
    "    '28' as day\n",
    "    from `banda_emr_etl`.`t_whitelist_old_customer`\n",
    "   \n",
    "\"\"\")\n",
    "t_whitelist_old_customer.write.mode(\"append\").partitionBy(\"year\",\"month\",\"day\").orc(\"s3://rupiahplus-data-warehouse/stream/banda_etl/t_whitelist_old_customer/\")\n",
    "#     where  id   < 1833507 "
   ]
  },
  {
   "cell_type": "code",
   "execution_count": null,
   "metadata": {},
   "outputs": [],
   "source": [
    "t_test_customer=spark.sql(\"\"\"\n",
    "    select    'insert' as kind,\n",
    "     '2020-08-01 23:59:59' as etldate,\n",
    "        0 as  etlindex,\n",
    "    *,\n",
    "    '2020' as year,\n",
    "    '08' as month,\n",
    "    '01' as day\n",
    "    from `banda_emr_etl`.`t_test_customer`\n",
    "   \n",
    "\"\"\")\n",
    "t_test_customer.write.mode(\"append\").partitionBy(\"year\",\"month\",\"day\").orc(\"s3://rupiahplus-data-warehouse/stream/banda_etl/t_test_customer/\")\n",
    "#     where  id   < 1833507 "
   ]
  },
  {
   "cell_type": "code",
   "execution_count": 4,
   "metadata": {},
   "outputs": [
    {
     "data": {
      "application/vnd.jupyter.widget-view+json": {
       "model_id": "feaf68a4703f43199b46baa10c1fa975",
       "version_major": 2,
       "version_minor": 0
      },
      "text/plain": [
       "VBox()"
      ]
     },
     "metadata": {},
     "output_type": "display_data"
    },
    {
     "data": {
      "application/vnd.jupyter.widget-view+json": {
       "model_id": "",
       "version_major": 2,
       "version_minor": 0
      },
      "text/plain": [
       "FloatProgress(value=0.0, bar_style='info', description='Progress:', layout=Layout(height='25px', width='50%'),…"
      ]
     },
     "metadata": {},
     "output_type": "display_data"
    },
    {
     "name": "stdout",
     "output_type": "stream",
     "text": [
      "+-----------------------+-----------------------+----+-----+---+\n",
      "|create_time            |etldate                |year|month|day|\n",
      "+-----------------------+-----------------------+----+-----+---+\n",
      "|2019-12-11 12:21:51.107|2019-12-11 12:21:51.107|2019|12   |11 |\n",
      "+-----------------------+-----------------------+----+-----+---+"
     ]
    }
   ],
   "source": [
    "thirdparty_t_task=spark.sql(\"\"\"\n",
    "select \n",
    "create_time,\n",
    " cast(create_time as string) as etldate,\n",
    "year(to_date(create_time)) as year,\n",
    "if(length(MONTH(to_date(create_time)))=1,concat(\"0\",MONTH(to_date(create_time))),MONTH(to_date(create_time))) as month,\n",
    "if(length(day(to_date(create_time)))=1,concat(\"0\",day(to_date(create_time))),day(to_date(create_time))) as day\n",
    "from \n",
    "`banda-etl-s3`.`t_auto_review_loan`      a \n",
    " limit 1\n",
    "\"\"\").show(100,False)"
   ]
  },
  {
   "cell_type": "code",
   "execution_count": 6,
   "metadata": {},
   "outputs": [
    {
     "data": {
      "application/vnd.jupyter.widget-view+json": {
       "model_id": "e4a1afe20efe41f5aeaa7c87ad29b179",
       "version_major": 2,
       "version_minor": 0
      },
      "text/plain": [
       "VBox()"
      ]
     },
     "metadata": {},
     "output_type": "display_data"
    },
    {
     "data": {
      "application/vnd.jupyter.widget-view+json": {
       "model_id": "",
       "version_major": 2,
       "version_minor": 0
      },
      "text/plain": [
       "FloatProgress(value=0.0, bar_style='info', description='Progress:', layout=Layout(height='25px', width='50%'),…"
      ]
     },
     "metadata": {},
     "output_type": "display_data"
    }
   ],
   "source": [
    "t_loan_app_status_log=spark.sql(\"\"\"\n",
    "select  \n",
    "'insert' as kind,\n",
    "    '2020-08-01 23:59:59' as etldate,\n",
    "        0 as  etlindex,\n",
    "     a.*,\n",
    "    '2020' as year,\n",
    "    '' as month,\n",
    "     '01' as day\n",
    "from \n",
    "`banda_emr_etl`.`t_loan_app_status_log` a \n",
    "left join \n",
    "  `banda_stream_etl`.`t_loan_app_status_log`  b \n",
    "  on a.id =b.id \n",
    "  where 1=1\n",
    "  and b.id is null\n",
    "\"\"\")\n",
    "#  and a.id>1729793\n",
    "t_loan_app_status_log.write.mode(\"append\").partitionBy(\"year\",\"month\",\"day\").orc(\"s3://rupiahplus-data-warehouse/stream/banda_etl/t_loan_app_status_log/\")"
   ]
  },
  {
   "cell_type": "code",
   "execution_count": 3,
   "metadata": {},
   "outputs": [],
   "source": [
    "t_sms=spark.sql(\"\"\"\n",
    "select \n",
    "count(1)\n",
    "from \n",
    "`banda_emr_etl`.`t_auto_review_loan` a \n",
    "left join \n",
    "  `banda_stream_etl`.`t_auto_review_loan`  b \n",
    "  on a.id =b.id \n",
    "  where 1=1\n",
    "  and b.id is null\n",
    "\"\"\").show()"
   ]
  },
  {
   "cell_type": "code",
   "execution_count": 1,
   "metadata": {},
   "outputs": [
    {
     "data": {
      "application/vnd.jupyter.widget-view+json": {
       "model_id": "dd23753979684eb6861d65094c0a08f7",
       "version_major": 2,
       "version_minor": 0
      },
      "text/plain": [
       "VBox()"
      ]
     },
     "metadata": {},
     "output_type": "display_data"
    },
    {
     "name": "stdout",
     "output_type": "stream",
     "text": [
      "Starting Spark application\n"
     ]
    },
    {
     "data": {
      "text/html": [
       "<table>\n",
       "<tr><th>ID</th><th>YARN Application ID</th><th>Kind</th><th>State</th><th>Spark UI</th><th>Driver log</th><th>Current session?</th></tr><tr><td>21</td><td>application_1607913558731_0022</td><td>pyspark</td><td>idle</td><td><a target=\"_blank\" href=\"http://ip-10-3-0-54.ap-southeast-1.compute.internal:20888/proxy/application_1607913558731_0022/\">Link</a></td><td><a target=\"_blank\" href=\"http://ip-10-3-0-8.ap-southeast-1.compute.internal:8042/node/containerlogs/container_1607913558731_0022_01_000001/livy\">Link</a></td><td>✔</td></tr></table>"
      ],
      "text/plain": [
       "<IPython.core.display.HTML object>"
      ]
     },
     "metadata": {},
     "output_type": "display_data"
    },
    {
     "data": {
      "application/vnd.jupyter.widget-view+json": {
       "model_id": "",
       "version_major": 2,
       "version_minor": 0
      },
      "text/plain": [
       "FloatProgress(value=0.0, bar_style='info', description='Progress:', layout=Layout(height='25px', width='50%'),…"
      ]
     },
     "metadata": {},
     "output_type": "display_data"
    },
    {
     "name": "stdout",
     "output_type": "stream",
     "text": [
      "SparkSession available as 'spark'.\n"
     ]
    },
    {
     "data": {
      "application/vnd.jupyter.widget-view+json": {
       "model_id": "",
       "version_major": 2,
       "version_minor": 0
      },
      "text/plain": [
       "FloatProgress(value=0.0, bar_style='info', description='Progress:', layout=Layout(height='25px', width='50%'),…"
      ]
     },
     "metadata": {},
     "output_type": "display_data"
    },
    {
     "name": "stdout",
     "output_type": "stream",
     "text": [
      "root\n",
      " |-- id: long (nullable = true)\n",
      " |-- admin_id: long (nullable = true)\n",
      " |-- ref_id: long (nullable = true)\n",
      " |-- reviewer_id: long (nullable = true)\n",
      " |-- trigger: string (nullable = true)\n",
      " |-- topic: string (nullable = true)\n",
      " |-- subject: string (nullable = true)\n",
      " |-- comment: string (nullable = true)\n",
      " |-- group_id: long (nullable = true)\n",
      " |-- create_time: timestamp (nullable = true)"
     ]
    }
   ],
   "source": [
    "spark.sql(\"\"\"select  * from  banda_emr_etl.t_case_distribution_log\"\"\").printSchema()"
   ]
  },
  {
   "cell_type": "code",
   "execution_count": 17,
   "metadata": {},
   "outputs": [
    {
     "data": {
      "application/vnd.jupyter.widget-view+json": {
       "model_id": "43563de65340444f8e99fa96b20ca1a0",
       "version_major": 2,
       "version_minor": 0
      },
      "text/plain": [
       "VBox()"
      ]
     },
     "metadata": {},
     "output_type": "display_data"
    },
    {
     "data": {
      "application/vnd.jupyter.widget-view+json": {
       "model_id": "",
       "version_major": 2,
       "version_minor": 0
      },
      "text/plain": [
       "FloatProgress(value=0.0, bar_style='info', description='Progress:', layout=Layout(height='25px', width='50%'),…"
      ]
     },
     "metadata": {},
     "output_type": "display_data"
    }
   ],
   "source": [
    "df=spark.sql(\"\"\"show tables in coupon_stream_etl\"\"\").collect()\n",
    "stream_tableMap=[]\n",
    "for i in df:\n",
    "    sql='desc  coupon_stream_etl.'+i['tableName']\n",
    "    df=spark.sql(sql).collect()\n",
    "    for j in df:\n",
    "        if j[\"data_type\"]=='boolean':\n",
    "            print(i['tableName'],j[\"data_type\"])\n"
   ]
  },
  {
   "cell_type": "code",
   "execution_count": null,
   "metadata": {},
   "outputs": [],
   "source": []
  }
 ],
 "metadata": {
  "kernelspec": {
   "display_name": "PySpark",
   "language": "",
   "name": "pysparkkernel"
  },
  "language_info": {
   "codemirror_mode": {
    "name": "python",
    "version": 2
   },
   "mimetype": "text/x-python",
   "name": "pyspark",
   "pygments_lexer": "python2"
  }
 },
 "nbformat": 4,
 "nbformat_minor": 4
}
