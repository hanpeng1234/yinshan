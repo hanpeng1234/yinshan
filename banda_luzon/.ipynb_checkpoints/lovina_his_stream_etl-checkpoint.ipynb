{
 "cells": [
  {
   "cell_type": "code",
   "execution_count": 1,
   "metadata": {},
   "outputs": [
    {
     "data": {
      "application/vnd.jupyter.widget-view+json": {
       "model_id": "9da28cf8a05c42ef925f7a83b1b273a8",
       "version_major": 2,
       "version_minor": 0
      },
      "text/plain": [
       "VBox()"
      ]
     },
     "metadata": {},
     "output_type": "display_data"
    },
    {
     "name": "stdout",
     "output_type": "stream",
     "text": [
      "Starting Spark application\n"
     ]
    },
    {
     "data": {
      "text/html": [
       "<table>\n",
       "<tr><th>ID</th><th>YARN Application ID</th><th>Kind</th><th>State</th><th>Spark UI</th><th>Driver log</th><th>Current session?</th></tr><tr><td>4</td><td>application_1600140075104_0005</td><td>pyspark</td><td>idle</td><td><a target=\"_blank\" href=\"http://ip-172-31-2-140.ap-southeast-1.compute.internal:20888/proxy/application_1600140075104_0005/\">Link</a></td><td><a target=\"_blank\" href=\"http://ip-172-31-2-222.ap-southeast-1.compute.internal:8042/node/containerlogs/container_1600140075104_0005_01_000001/livy\">Link</a></td><td>✔</td></tr></table>"
      ],
      "text/plain": [
       "<IPython.core.display.HTML object>"
      ]
     },
     "metadata": {},
     "output_type": "display_data"
    },
    {
     "data": {
      "application/vnd.jupyter.widget-view+json": {
       "model_id": "",
       "version_major": 2,
       "version_minor": 0
      },
      "text/plain": [
       "FloatProgress(value=0.0, bar_style='info', description='Progress:', layout=Layout(height='25px', width='50%'),…"
      ]
     },
     "metadata": {},
     "output_type": "display_data"
    },
    {
     "name": "stdout",
     "output_type": "stream",
     "text": [
      "SparkSession available as 'spark'.\n"
     ]
    },
    {
     "data": {
      "application/vnd.jupyter.widget-view+json": {
       "model_id": "",
       "version_major": 2,
       "version_minor": 0
      },
      "text/plain": [
       "FloatProgress(value=0.0, bar_style='info', description='Progress:', layout=Layout(height='25px', width='50%'),…"
      ]
     },
     "metadata": {},
     "output_type": "display_data"
    }
   ],
   "source": [
    "t_charging=spark.sql(\"\"\"\n",
    "    select\n",
    "          'insert' as kind,\n",
    "          '2020-09-01 23:59:59' as etldate,\n",
    "          0 as  etlindex,\n",
    "          `id`,\n",
    "          `client_id` ,\n",
    "          `tag` ,\n",
    "          `channel`,\n",
    "          `channel_name` ,\n",
    "          `charging_number`,\n",
    "          `charge_task_count`,\n",
    "          cast(price as  decimal(38,24)), \n",
    "          `currency`,\n",
    "          `create_time`,\n",
    "          `update_time` ,\n",
    "         '2020' as year,\n",
    "         '09' as month,\n",
    "         '01' as day\n",
    "    from `lovina_emr_etl`.t_charging\n",
    "\"\"\")\n",
    "t_charging.write.mode(\"append\").partitionBy(\"year\",\"month\",\"day\").orc(\"s3://rupiahplus-data-warehouse/stream/lovina_etl/t_charging/\")\n"
   ]
  },
  {
   "cell_type": "code",
   "execution_count": 2,
   "metadata": {},
   "outputs": [
    {
     "data": {
      "application/vnd.jupyter.widget-view+json": {
       "model_id": "f5609c3e1bae4ff1bc506df028e026cc",
       "version_major": 2,
       "version_minor": 0
      },
      "text/plain": [
       "VBox()"
      ]
     },
     "metadata": {},
     "output_type": "display_data"
    },
    {
     "data": {
      "application/vnd.jupyter.widget-view+json": {
       "model_id": "",
       "version_major": 2,
       "version_minor": 0
      },
      "text/plain": [
       "FloatProgress(value=0.0, bar_style='info', description='Progress:', layout=Layout(height='25px', width='50%'),…"
      ]
     },
     "metadata": {},
     "output_type": "display_data"
    }
   ],
   "source": [
    "t_ktp=spark.sql(\"\"\"\n",
    "    select\n",
    "          'insert' as kind,\n",
    "          '2020-09-01 23:59:59' as etldate,\n",
    "          0 as  etlindex,\n",
    "         *,\n",
    "         '2020' as year,\n",
    "         '09' as month,\n",
    "         '01' as day\n",
    "    from `lovina_emr_etl`.t_ktp\n",
    "\"\"\")\n",
    "t_ktp.write.mode(\"append\").partitionBy(\"year\",\"month\",\"day\").orc(\"s3://rupiahplus-data-warehouse/stream/lovina_etl/t_ktp/\")\n"
   ]
  },
  {
   "cell_type": "code",
   "execution_count": 2,
   "metadata": {},
   "outputs": [
    {
     "data": {
      "application/vnd.jupyter.widget-view+json": {
       "model_id": "0725b3c0720c4499ba2c0638406dc511",
       "version_major": 2,
       "version_minor": 0
      },
      "text/plain": [
       "VBox()"
      ]
     },
     "metadata": {},
     "output_type": "display_data"
    },
    {
     "data": {
      "application/vnd.jupyter.widget-view+json": {
       "model_id": "",
       "version_major": 2,
       "version_minor": 0
      },
      "text/plain": [
       "FloatProgress(value=0.0, bar_style='info', description='Progress:', layout=Layout(height='25px', width='50%'),…"
      ]
     },
     "metadata": {},
     "output_type": "display_data"
    }
   ],
   "source": [
    "t_jne_express=spark.sql(\"\"\"\n",
    "    select\n",
    "          'insert' as kind,\n",
    "          '2021-01-01 23:59:59' as etldate,\n",
    "          0 as  etlindex,\n",
    "         *,\n",
    "         '2021' as year,\n",
    "         '01' as month,\n",
    "         '01' as day\n",
    "    from `lovina_emr_etl`.t_jne_express\n",
    "\"\"\")\n",
    "t_jne_express.write.mode(\"append\").partitionBy(\"year\",\"month\",\"day\").orc(\"s3://rupiahplus-data-warehouse/stream/lovina_etl/t_jne_express/\")\n"
   ]
  },
  {
   "cell_type": "code",
   "execution_count": 1,
   "metadata": {},
   "outputs": [
    {
     "data": {
      "application/vnd.jupyter.widget-view+json": {
       "model_id": "8f0f77d2a6484cf0a4bd0846f815306c",
       "version_major": 2,
       "version_minor": 0
      },
      "text/plain": [
       "VBox()"
      ]
     },
     "metadata": {},
     "output_type": "display_data"
    },
    {
     "name": "stdout",
     "output_type": "stream",
     "text": [
      "Starting Spark application\n"
     ]
    },
    {
     "data": {
      "text/html": [
       "<table>\n",
       "<tr><th>ID</th><th>YARN Application ID</th><th>Kind</th><th>State</th><th>Spark UI</th><th>Driver log</th><th>Current session?</th></tr><tr><td>3</td><td>application_1617862937705_0004</td><td>pyspark</td><td>idle</td><td><a target=\"_blank\" href=\"http://ip-10-3-0-77.ap-southeast-1.compute.internal:20888/proxy/application_1617862937705_0004/\">Link</a></td><td><a target=\"_blank\" href=\"http://ip-10-3-0-39.ap-southeast-1.compute.internal:8042/node/containerlogs/container_1617862937705_0004_01_000001/livy\">Link</a></td><td>✔</td></tr></table>"
      ],
      "text/plain": [
       "<IPython.core.display.HTML object>"
      ]
     },
     "metadata": {},
     "output_type": "display_data"
    },
    {
     "data": {
      "application/vnd.jupyter.widget-view+json": {
       "model_id": "",
       "version_major": 2,
       "version_minor": 0
      },
      "text/plain": [
       "FloatProgress(value=0.0, bar_style='info', description='Progress:', layout=Layout(height='25px', width='50%'),…"
      ]
     },
     "metadata": {},
     "output_type": "display_data"
    },
    {
     "name": "stdout",
     "output_type": "stream",
     "text": [
      "SparkSession available as 'spark'.\n"
     ]
    },
    {
     "data": {
      "application/vnd.jupyter.widget-view+json": {
       "model_id": "",
       "version_major": 2,
       "version_minor": 0
      },
      "text/plain": [
       "FloatProgress(value=0.0, bar_style='info', description='Progress:', layout=Layout(height='25px', width='50%'),…"
      ]
     },
     "metadata": {},
     "output_type": "display_data"
    }
   ],
   "source": [
    "t_client=spark.sql(\"\"\"\n",
    "    select\n",
    "          'insert' as kind,\n",
    "          '2021-01-01 23:59:59' as etldate,\n",
    "          0 as  etlindex,\n",
    "         *,\n",
    "         '2021' as year,\n",
    "         '01' as month,\n",
    "         '01' as day\n",
    "    from `lovina_emr_etl`.t_client\n",
    "\"\"\")\n",
    "t_client.write.mode(\"append\").partitionBy(\"year\",\"month\",\"day\").orc(\"s3://rupiahplus-data-warehouse/stream/lovina_etl/t_client/\")\n"
   ]
  },
  {
   "cell_type": "code",
   "execution_count": 1,
   "metadata": {},
   "outputs": [
    {
     "data": {
      "application/vnd.jupyter.widget-view+json": {
       "model_id": "c26e5afce4df4175b7e172c420b68f73",
       "version_major": 2,
       "version_minor": 0
      },
      "text/plain": [
       "VBox()"
      ]
     },
     "metadata": {},
     "output_type": "display_data"
    },
    {
     "name": "stdout",
     "output_type": "stream",
     "text": [
      "Starting Spark application\n"
     ]
    },
    {
     "data": {
      "text/html": [
       "<table>\n",
       "<tr><th>ID</th><th>YARN Application ID</th><th>Kind</th><th>State</th><th>Spark UI</th><th>Driver log</th><th>Current session?</th></tr><tr><td>2</td><td>application_1622692591997_0003</td><td>pyspark</td><td>idle</td><td><a target=\"_blank\" href=\"http://ip-10-3-0-41.ap-southeast-1.compute.internal:20888/proxy/application_1622692591997_0003/\">Link</a></td><td><a target=\"_blank\" href=\"http://ip-10-3-0-28.ap-southeast-1.compute.internal:8042/node/containerlogs/container_1622692591997_0003_01_000001/livy\">Link</a></td><td>✔</td></tr></table>"
      ],
      "text/plain": [
       "<IPython.core.display.HTML object>"
      ]
     },
     "metadata": {},
     "output_type": "display_data"
    },
    {
     "data": {
      "application/vnd.jupyter.widget-view+json": {
       "model_id": "",
       "version_major": 2,
       "version_minor": 0
      },
      "text/plain": [
       "FloatProgress(value=0.0, bar_style='info', description='Progress:', layout=Layout(height='25px', width='50%'),…"
      ]
     },
     "metadata": {},
     "output_type": "display_data"
    },
    {
     "name": "stdout",
     "output_type": "stream",
     "text": [
      "SparkSession available as 'spark'.\n"
     ]
    },
    {
     "data": {
      "application/vnd.jupyter.widget-view+json": {
       "model_id": "",
       "version_major": 2,
       "version_minor": 0
      },
      "text/plain": [
       "FloatProgress(value=0.0, bar_style='info', description='Progress:', layout=Layout(height='25px', width='50%'),…"
      ]
     },
     "metadata": {},
     "output_type": "display_data"
    }
   ],
   "source": [
    "t_channel=spark.sql(\"\"\"\n",
    "    select\n",
    "          'insert' as kind,\n",
    "          '2021-01-01 23:59:59' as etldate,\n",
    "          0 as  etlindex,\n",
    "         *,\n",
    "         '2021' as year,\n",
    "         '01' as month,\n",
    "         '01' as day\n",
    "    from `lovina_emr_etl`.t_channel\n",
    "\"\"\")\n",
    "t_channel.write.mode(\"append\").partitionBy(\"year\",\"month\",\"day\").orc(\"s3://rupiahplus-data-warehouse/stream/lovina_etl/t_channel/\")"
   ]
  },
  {
   "cell_type": "code",
   "execution_count": null,
   "metadata": {},
   "outputs": [],
   "source": [
    "t_department=spark.sql(\"\"\"\n",
    "    select\n",
    "          'insert' as kind,\n",
    "          '2021-01-01 23:59:59' as etldate,\n",
    "          0 as  etlindex,\n",
    "         *,\n",
    "         '2021' as year,\n",
    "         '01' as month,\n",
    "         '01' as day\n",
    "    from `lovina_emr_etl`.t_department\n",
    "\"\"\")\n",
    "t_department.write.mode(\"append\").partitionBy(\"year\",\"month\",\"day\").orc(\"s3://rupiahplus-data-warehouse/stream/lovina_etl/t_department/\")"
   ]
  }
 ],
 "metadata": {
  "kernelspec": {
   "display_name": "PySpark",
   "language": "",
   "name": "pysparkkernel"
  },
  "language_info": {
   "codemirror_mode": {
    "name": "python",
    "version": 2
   },
   "mimetype": "text/x-python",
   "name": "pyspark",
   "pygments_lexer": "python2"
  }
 },
 "nbformat": 4,
 "nbformat_minor": 4
}
