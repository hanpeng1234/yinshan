{
 "cells": [
  {
   "cell_type": "markdown",
   "metadata": {},
   "source": [
    ">####\n",
    ">####  \n",
    ">####有加密列的全量banda_etl\n",
    "=================?\n",
    ">#####\n",
    ">#####  \n",
    ">#####\n",
    ">#####\n",
    ">#####\n",
    ">##"
   ]
  },
  {
   "cell_type": "code",
   "execution_count": 1,
   "metadata": {},
   "outputs": [
    {
     "data": {
      "application/vnd.jupyter.widget-view+json": {
       "model_id": "f5083405c9a54821bdd147d7f05a97be",
       "version_major": 2,
       "version_minor": 0
      },
      "text/plain": [
       "VBox()"
      ]
     },
     "metadata": {},
     "output_type": "display_data"
    },
    {
     "name": "stdout",
     "output_type": "stream",
     "text": [
      "Starting Spark application\n"
     ]
    },
    {
     "data": {
      "text/html": [
       "<table>\n",
       "<tr><th>ID</th><th>YARN Application ID</th><th>Kind</th><th>State</th><th>Spark UI</th><th>Driver log</th><th>Current session?</th></tr><tr><td>2</td><td>application_1629793254659_0005</td><td>pyspark</td><td>idle</td><td><a target=\"_blank\" href=\"http://ip-10-3-0-76.ap-southeast-1.compute.internal:20888/proxy/application_1629793254659_0005/\">Link</a></td><td><a target=\"_blank\" href=\"http://ip-10-3-0-118.ap-southeast-1.compute.internal:8042/node/containerlogs/container_1629793254659_0005_01_000001/livy\">Link</a></td><td>✔</td></tr></table>"
      ],
      "text/plain": [
       "<IPython.core.display.HTML object>"
      ]
     },
     "metadata": {},
     "output_type": "display_data"
    },
    {
     "data": {
      "application/vnd.jupyter.widget-view+json": {
       "model_id": "",
       "version_major": 2,
       "version_minor": 0
      },
      "text/plain": [
       "FloatProgress(value=0.0, bar_style='info', description='Progress:', layout=Layout(height='25px', width='50%'),…"
      ]
     },
     "metadata": {},
     "output_type": "display_data"
    },
    {
     "name": "stdout",
     "output_type": "stream",
     "text": [
      "SparkSession available as 'spark'.\n"
     ]
    },
    {
     "data": {
      "application/vnd.jupyter.widget-view+json": {
       "model_id": "",
       "version_major": 2,
       "version_minor": 0
      },
      "text/plain": [
       "FloatProgress(value=0.0, bar_style='info', description='Progress:', layout=Layout(height='25px', width='50%'),…"
      ]
     },
     "metadata": {},
     "output_type": "display_data"
    },
    {
     "name": "stdout",
     "output_type": "stream",
     "text": [
      "{'hmac_key': 'xUIAZ3grtPOxaPNK', 'mobileType': ['phone', 'phone_number', 'user_mobile', 'number', 'caller', 'callee', 'to', 'mobile_phone', 'mobile', 'backup_mobile'], 'extraColumn': {'banda': {'t_personal_info': ['cast(substring(credential_no_x, 11, 2) AS bigint) as birth_year', 'CASE WHEN cast(substring(credential_no_x, 11, 2) AS bigint) > 37 THEN (year(current_date()) - cast(substring(credential_no_x, 11, 2) AS bigint) - 1900) ELSE (year(current_date()) - cast(substring(credential_no_x, 11, 2) AS bigint) - 2000) END as age ']}}, 'luzon': {'t_auto_review_loan': ['ktp', 'mobile'], 't_bankcard': ['card_no'], 't_contact': ['mobile', 'credential_no'], 't_customer': ['mobile', 'imei'], 't_loan_app': ['credential_no'], 't_personal_info': ['credential_no', 'email'], 't_record_contact': ['mobile'], 't_record_personal_info': ['credential_no']}, 'ddb_event_track_s3': {'id_adapundi_event_track': ['nativePhoneNum', 'nativePhoneNum2', 'lineNumber']}, 'banda': {'t_admin': ['full_name'], 't_auto_review_loan': ['ktp', 'mobile'], 't_ai_rudder_schedule_mobile': ['mobile'], 't_bankcard': ['card_no', 'holder_name', 'verify_account_holder_name'], 't_bankcard_verify': ['holder_name', 'verify_account_holder_name'], 't_mobile_tag_rel': ['mobile'], 't_code': ['send_to'], 't_call_center_log': ['to_number'], 't_personal_info': ['credential_no', 'backup_mobile', 'full_name', 'family_name_in_law', 'email'], 't_review_blacklist': ['value'], 't_contact': ['mobile', 'name'], 't_customer': ['mobile', 'email'], 't_employment': ['company_phone', 'work_email'], 't_loan_app': ['credential_no', 'full_name'], 't_login_log': ['mobile'], 't_record_personal_info': ['credential_no', 'backup_mobile', 'full_name', 'family_name_in_law', 'email'], 't_record_employment': ['company_phone', 'work_email'], 't_record_contact': ['mobile', 'name'], 't_record_file': ['path'], 't_sms': ['sendto']}, 'notification': {'t_message': ['send_to']}, 'arkham': {'t_black_mobile': ['mobile'], 't_card_info': ['card_no'], 't_credential_snapshot': ['number'], 't_customer_tag_type': ['mobile'], 't_emergency_contact': ['tel_num'], 't_emergency_contact_snapshot': ['tel_num'], 't_file': ['file_url'], 't_file_snapshot': ['file_url'], 't_marketing_channel_info': ['mobile', 'credential_no'], 't_marketing_ref_info': ['credentials_no'], 't_user': ['idno', 'mobile'], 't_user_snapshot': ['idno', 'mobile']}, 'protoss': {'t_bni_bill': ['customer_phone']}, 'credinex_account': {'t_credit_balance': ['account_number', 'customer_email', 'customer_phone'], 't_credit_bill': ['customer_phone'], 't_customer_account': ['account_number', 'customer_email', 'customer_phone']}, 'credinex_repeater': {'t_risk_blacklist': ['value']}, 'telemarket': {'t_task_pool': ['mobile']}}\n",
      "<function hmac_sha256 at 0x7f9edbfee560>\n",
      "banda_stream_etl\n",
      "None\n",
      "None\n",
      "None\n",
      "None\n",
      "None\n",
      "None\n",
      "None\n",
      "None\n",
      "None\n",
      "None\n",
      "None\n",
      "None\n",
      "None\n",
      "None\n",
      "None\n",
      "None\n",
      "None\n",
      "None\n",
      "None\n",
      "None\n",
      "None\n",
      "None\n",
      "None\n",
      "None\n",
      "None\n",
      "None\n",
      "None\n",
      "None\n",
      "None\n",
      "None\n",
      "None\n",
      "None\n",
      "None\n",
      "None\n",
      "None\n",
      "None\n",
      "None\n",
      "None\n",
      "None\n",
      "None\n",
      "None\n",
      "None\n",
      "None\n",
      "None\n",
      "None\n",
      "None\n",
      "None\n",
      "None\n",
      "None\n",
      "None\n",
      "None\n",
      "None\n",
      "None\n",
      "None\n",
      "None\n",
      "None\n",
      "None\n",
      "None\n",
      "None\n",
      "None\n",
      "None\n",
      "None\n",
      "None\n",
      "None\n",
      "None\n",
      "None\n",
      "None\n",
      "None\n",
      "None\n",
      "None\n",
      "None\n",
      "None\n",
      "None"
     ]
    }
   ],
   "source": [
    "import sys\n",
    "#notification导表到notification_etl_s3\n",
    "from concurrent import futures\n",
    "import numpy as np\n",
    "from pyspark.sql import SparkSession\n",
    "from datetime import datetime,timedelta\n",
    "import pytz\n",
    "import json\n",
    "import pytz\n",
    "import hmac\n",
    "import pyspark.sql.functions as F\n",
    "from hashlib import sha256 \n",
    "from pyspark.sql.functions import col\n",
    "from pyspark.sql import types as T\n",
    "from pyspark.sql.functions import lit\n",
    "from pyspark.sql.types import StringType\n",
    "\n",
    "# print(datetime.now(pytz.timezone(\"Asia/Shanghai\")).strftime( '%Y-%m-%d'))\n",
    "today=(datetime.now()+ timedelta(-1)).strftime( '%Y-%m-%d')\n",
    "yesterday=(datetime.now(pytz.timezone(\"Asia/Shanghai\"))+ timedelta(-1)).strftime( '%Y-%m-%d')\n",
    "tablemap={\"banda_stream_etl\":\"banda\"} #,\n",
    "# ,\"banda_stream_etl\":\"1\"\n",
    "tablesql_1=\" FROM  (   SELECT    *  , row_number() OVER (PARTITION BY id  ORDER BY date_format(etldate,'yyyy-MM-dd HH:mm:ss.SSS') DESC  , if(etlindex is null ,0,etlindex)  desc)  row_num FROM  \"\n",
    "tablesql_2=\" ORDER BY id  ASC )  a  WHERE a.row_num = 1   AND a.kind <> 'delete' \"\n",
    "spark = SparkSession\\\n",
    "    .builder\\\n",
    "    .appName(\"Python Demo\")\\\n",
    "    .config(\"hive.metastore.client.factory.class\", \"com.amazonaws.glue.catalog.metastore.AWSGlueDataCatalogHiveClientFactory\") \\\n",
    "    .enableHiveSupport()\\\n",
    "    .getOrCreate()\n",
    "#     spark.conf.set(\"spark.scheduler.mode\",\"FAIR\")\n",
    "# 替换手机号\n",
    "def get_secret_obj():\n",
    "    df=spark.read.text(\"s3://rupiahplus-configs/etl/data_secrt/col.json\").collect()\n",
    "    keymap=''\n",
    "    for  row in df:\n",
    "        keymap=keymap+row['value']\n",
    "    json_content=json.loads(keymap)\n",
    "    print(json_content)\n",
    "    return json_content\n",
    "colmap= get_secret_obj()\n",
    "mobileType=colmap[\"mobileType\"]\n",
    "def getRelmobile(colNm,str):\n",
    "    if colNm in mobileType:\n",
    "        relmobile = str.strip().replace(\"+\", \"\").replace(\"-\", \"\").replace(\" \", \"\").replace('\"', '')\n",
    "        if (relmobile.startswith(\"62\")):\n",
    "            relmobile = relmobile.replace(\"62\", \"0\",1)\n",
    "        if relmobile.startswith(\"0\") == False:\n",
    "            relmobile = \"0\" + relmobile;\n",
    "        return relmobile\n",
    "    return str\n",
    "# hmac_256加密\n",
    "def hmac_sha256(key,colNm,value):\n",
    "    if value!=None:\n",
    "#         处理手机号\n",
    "        rtn=getRelmobile(colNm,value)\n",
    "        h = hmac.new(key.encode('utf-8'),digestmod=sha256)\n",
    "        h.update(rtn.encode('utf-8'))\n",
    "        h_str = h.hexdigest()\n",
    "        return h_str\n",
    "    return \"\"\n",
    "spark.udf.register(\"hmac_sha256\",hmac_sha256,T.StringType())\n",
    "def getTableColum(b):\n",
    "    colum=\"\"\n",
    "    for index in range(len(b)):\n",
    "        if(index>0 and index<len(b)-8):   \n",
    "            colum=colum+setDef(b[index][\"data_type\"],b[index][\"col_name\"])+\", \"\n",
    "    return colum[0:len(colum)-2]\n",
    "def setDef(type,table_col):\n",
    "    if(type[:7] == 'decimal'):\n",
    "        return \"ifnull(\"+table_col+\",0) as \"+table_col\n",
    "    else:\n",
    "        return table_col\n",
    "def add_secret_col(dbType,tableNm,col):\n",
    "    secret_Col=[]\n",
    "    if colmap.get(dbType)!=None and colmap[dbType]!=None and colmap[dbType].get(tableNm)!=None:\n",
    "        secret_Col=colmap[tablemap[databaseName]][tableNm]\n",
    "    sh256Col =col\n",
    "    hmac_key=colmap[\"hmac_key\"]\n",
    "#     sql=\"select hmac_sha256('{hmac_key}','123456789') as sh2\".format(hmac_key=hmac_key)\n",
    "    for i in secret_Col:\n",
    "        sh256Col=sh256Col+ \", hmac_sha256('{hmac_key}','\"+i+\"', \"+i+\") \"+ i+\"_x\"\n",
    "    return sh256Col.format(hmac_key=hmac_key)\n",
    "def make_col_temptable(databaseName,row):\n",
    "    tableName=row[\"tableName\"]\n",
    "    if tableName=='t_call_center_info' :\n",
    "        tablecolum=\"desc \" +databaseName+\".\"+tableName;\n",
    "        tableSchema= spark.sql(tablecolum).collect()\n",
    "        tablepath=\"s3://rupiahplus-data-warehouse/aliyun/\"+tablemap[databaseName]+\"/\"+row[\"tableName\"]\n",
    "        spark.catalog.refreshTable(databaseName+\".\"+tableName)\n",
    "        dbtype=tablemap[databaseName]\n",
    "        secret_sql=add_secret_col(dbtype,tableName,getTableColum(tableSchema))+\", year\"\n",
    "        sql=\"select \"+secret_sql+ tablesql_1+databaseName+\".\"+tableName+tablesql_2\n",
    "        df=spark.sql(sql).drop(\"etlindex\")\n",
    "        if colmap.get(dbtype) and colmap[dbtype].get(tableName)!=None :\n",
    "            for i in colmap[tablemap[databaseName]][tableName]:\n",
    "                df=df.withColumn(\"col_x\",F.col(i+\"_x\")).withColumn(i+\"_x\",F.col(i)).withColumn(i,F.col(\"col_x\"))\n",
    "        if colmap[\"extraColumn\"]!=None and colmap[\"extraColumn\"].get(dbtype)!=None and colmap[\"extraColumn\"][dbtype].get(tableName)!=None and len(colmap[\"extraColumn\"][dbtype][tableName])>0:\n",
    "            colmap[\"extraColumn\"][dbtype][tableName].insert(0,\"*\")\n",
    "            df=df.selectExpr(colmap[\"extraColumn\"][dbtype][tableName])\n",
    "            df=df.withColumn(\"year_new\",F.col(\"year\")).drop(\"year\").withColumnRenamed(\"year_new\",\"year\")\n",
    "    #     df.drop(\"col_x\").show()\n",
    "        df.drop(\"col_x\").write.mode(\"overwrite\").partitionBy(\"year\").orc(tablepath)\n",
    "# print(__name__)\n",
    "if __name__ == \"builtins\":\n",
    "#     注册udf\n",
    "    spark.udf.register(\"hmac_sha256\",hmac_sha256,T.StringType())\n",
    "#     spark.conf.set(\"spark.sql.shuffle.partitions\",10000000)\n",
    "#     spark.conf.set(\"spark.sql.files.maxPartitionBytes\",20)\n",
    "    for databaseName in tablemap:\n",
    "        print(databaseName) \n",
    "        databasesql=\"show tables in \"+databaseName\n",
    "        tables=spark.sql(databasesql)\n",
    "        tablelist=tables.collect();\n",
    "        executor=None\n",
    "        with futures.ThreadPoolExecutor(max_workers=10) as executor:\n",
    "            futures_result=futures.wait([executor.submit(make_col_temptable,databaseName, tableNm) for tableNm in tablelist])\n",
    "            for  future in futures_result[0]:\n",
    "                print(future.result())"
   ]
  },
  {
   "cell_type": "markdown",
   "metadata": {},
   "source": [
    ">>>>>>\n",
    ">>>>>>\n",
    ">>>>>>\n",
    ">>>>>>\n",
    "step function的代碼\n",
    "\n",
    ">>>>>>\n",
    ">>>>>>"
   ]
  },
  {
   "cell_type": "code",
   "execution_count": 7,
   "metadata": {},
   "outputs": [
    {
     "data": {
      "application/vnd.jupyter.widget-view+json": {
       "model_id": "e0fbb0ef324d4e34a03742ea9eebd17e",
       "version_major": 2,
       "version_minor": 0
      },
      "text/plain": [
       "VBox()"
      ]
     },
     "metadata": {},
     "output_type": "display_data"
    },
    {
     "data": {
      "application/vnd.jupyter.widget-view+json": {
       "model_id": "",
       "version_major": 2,
       "version_minor": 0
      },
      "text/plain": [
       "FloatProgress(value=0.0, bar_style='info', description='Progress:', layout=Layout(height='25px', width='50%'),…"
      ]
     },
     "metadata": {},
     "output_type": "display_data"
    },
    {
     "name": "stdout",
     "output_type": "stream",
     "text": [
      "builtins\n",
      "<function hmac_sha256 at 0x7fa3b84279e0>\n",
      "banda_stream_etl\n",
      "[Row(database='banda_stream_etl', tableName='t_admin', isTemporary=False), Row(database='banda_stream_etl', tableName='t_admin_audit', isTemporary=False), Row(database='banda_stream_etl', tableName='t_admin_group_rel', isTemporary=False), Row(database='banda_stream_etl', tableName='t_af_bill', isTemporary=False), Row(database='banda_stream_etl', tableName='t_ai_rudder_schedule_mobile', isTemporary=False), Row(database='banda_stream_etl', tableName='t_auto_review_loan', isTemporary=False), Row(database='banda_stream_etl', tableName='t_bankcard', isTemporary=False), Row(database='banda_stream_etl', tableName='t_bankcard_merchant', isTemporary=False), Row(database='banda_stream_etl', tableName='t_bankcard_verify', isTemporary=False), Row(database='banda_stream_etl', tableName='t_case_distribution_log', isTemporary=False), Row(database='banda_stream_etl', tableName='t_channel_details', isTemporary=False), Row(database='banda_stream_etl', tableName='t_clear_detail_log', isTemporary=False), Row(database='banda_stream_etl', tableName='t_code', isTemporary=False), Row(database='banda_stream_etl', tableName='t_collection_audit', isTemporary=False), Row(database='banda_stream_etl', tableName='t_collection_blacklist', isTemporary=False), Row(database='banda_stream_etl', tableName='t_contact', isTemporary=False), Row(database='banda_stream_etl', tableName='t_coupon_request', isTemporary=False), Row(database='banda_stream_etl', tableName='t_coupon_send', isTemporary=False), Row(database='banda_stream_etl', tableName='t_customer', isTemporary=False), Row(database='banda_stream_etl', tableName='t_customer_app', isTemporary=False), Row(database='banda_stream_etl', tableName='t_customer_device_info', isTemporary=False), Row(database='banda_stream_etl', tableName='t_customer_install_info', isTemporary=False), Row(database='banda_stream_etl', tableName='t_customer_tag_rel', isTemporary=False), Row(database='banda_stream_etl', tableName='t_employment', isTemporary=False), Row(database='banda_stream_etl', tableName='t_engine_rule_detail', isTemporary=False), Row(database='banda_stream_etl', tableName='t_file', isTemporary=False), Row(database='banda_stream_etl', tableName='t_group', isTemporary=False), Row(database='banda_stream_etl', tableName='t_hit_blacklist_record', isTemporary=False), Row(database='banda_stream_etl', tableName='t_invitation', isTemporary=False), Row(database='banda_stream_etl', tableName='t_job_metric', isTemporary=False), Row(database='banda_stream_etl', tableName='t_loan_app', isTemporary=False), Row(database='banda_stream_etl', tableName='t_loan_app_review_summary', isTemporary=False), Row(database='banda_stream_etl', tableName='t_loan_app_status_log', isTemporary=False), Row(database='banda_stream_etl', tableName='t_loan_issue', isTemporary=False), Row(database='banda_stream_etl', tableName='t_loan_log', isTemporary=False), Row(database='banda_stream_etl', tableName='t_loan_tag_rel', isTemporary=False), Row(database='banda_stream_etl', tableName='t_login_log', isTemporary=False), Row(database='banda_stream_etl', tableName='t_lpay', isTemporary=False), Row(database='banda_stream_etl', tableName='t_lpay_deposit', isTemporary=False), Row(database='banda_stream_etl', tableName='t_message', isTemporary=False), Row(database='banda_stream_etl', tableName='t_mobile_tag_rel', isTemporary=False), Row(database='banda_stream_etl', tableName='t_personal_info', isTemporary=False), Row(database='banda_stream_etl', tableName='t_record_bankcard', isTemporary=False), Row(database='banda_stream_etl', tableName='t_record_contact', isTemporary=False), Row(database='banda_stream_etl', tableName='t_record_employment', isTemporary=False), Row(database='banda_stream_etl', tableName='t_record_file', isTemporary=False), Row(database='banda_stream_etl', tableName='t_record_personal_info', isTemporary=False), Row(database='banda_stream_etl', tableName='t_review_blacklist', isTemporary=False), Row(database='banda_stream_etl', tableName='t_review_step_execution', isTemporary=False), Row(database='banda_stream_etl', tableName='t_send_coupon_rel', isTemporary=False), Row(database='banda_stream_etl', tableName='t_sms', isTemporary=False), Row(database='banda_stream_etl', tableName='t_test_customer', isTemporary=False), Row(database='banda_stream_etl', tableName='t_thirdparty_data', isTemporary=False), Row(database='banda_stream_etl', tableName='t_tongdun_data', isTemporary=False), Row(database='banda_stream_etl', tableName='t_virtual_account', isTemporary=False)]"
     ]
    }
   ],
   "source": [
    "# -*- coding: UTF-8 -*-\n",
    "import sys\n",
    "#notification导表到notification_etl_s3\n",
    "from concurrent import futures\n",
    "import numpy as np\n",
    "from pyspark.sql import SparkSession\n",
    "from datetime import datetime,timedelta\n",
    "import pytz\n",
    "import json\n",
    "import pytz\n",
    "import hmac\n",
    "import pyspark.sql.functions as F\n",
    "from hashlib import sha256 \n",
    "from pyspark.sql.functions import col\n",
    "from pyspark.sql import types as T\n",
    "from pyspark.sql.functions import lit\n",
    "from pyspark.sql.types import StringType\n",
    "\n",
    "# print(datetime.now(pytz.timezone(\"Asia/Shanghai\")).strftime( '%Y-%m-%d'))\n",
    "today=(datetime.now()+ timedelta(-1)).strftime( '%Y-%m-%d')\n",
    "yesterday=(datetime.now(pytz.timezone(\"Asia/Shanghai\"))+ timedelta(-1)).strftime( '%Y-%m-%d')\n",
    "# tablemap={\"banda_stream_etl\":\"banda\"} #,\n",
    "tablemap=\"#tableMapParams#\"\n",
    "# tableList={\"banda\":[\"*\"]} \n",
    "tableList=\"#tableListParams#\"\n",
    "tablesql_1=\" FROM  (   SELECT    *  , row_number() OVER (PARTITION BY id  ORDER BY date_format(etldate,'yyyy-MM-dd HH:mm:ss.SSS') DESC  , if(etlindex is null ,0,etlindex)  desc)  row_num FROM  \"\n",
    "tablesql_2=\" ORDER BY id  ASC )  a  WHERE a.row_num = 1   AND a.kind <> 'delete' \"\n",
    "spark = SparkSession\\\n",
    "    .builder\\\n",
    "    .appName(\"Python Demo\")\\\n",
    "    .config(\"hive.metastore.client.factory.class\", \"com.amazonaws.glue.catalog.metastore.AWSGlueDataCatalogHiveClientFactory\") \\\n",
    "    .enableHiveSupport()\\\n",
    "    .getOrCreate()\n",
    "#     spark.conf.set(\"spark.scheduler.mode\",\"FAIR\")\n",
    "# 替换手机号\n",
    "def get_secret_obj():\n",
    "    df=spark.read.text(\"s3://rupiahplus-configs/etl/data_secrt/col.json\").collect()\n",
    "    keymap=''\n",
    "    for  row in df:\n",
    "        keymap=keymap+row['value']\n",
    "    json_content=json.loads(keymap)\n",
    "    return json_content\n",
    "colmap= get_secret_obj()\n",
    "mobileType=colmap[\"mobileType\"]\n",
    "def getRelmobile(colNm,str):\n",
    "    if colNm in mobileType:\n",
    "        relmobile = str.strip().replace(\"+\", \"\").replace(\"-\", \"\").replace(\" \", \"\").replace('\"', '')\n",
    "        if (relmobile.startswith(\"62\")):\n",
    "            relmobile = relmobile.replace(\"62\", \"0\",1)\n",
    "        if relmobile.startswith(\"0\") == False:\n",
    "            relmobile = \"0\" + relmobile;\n",
    "        return relmobile\n",
    "    return str\n",
    "# hmac_256加密\n",
    "def hmac_sha256(key,colNm,value):\n",
    "    if value!=None:\n",
    "#         处理手机号\n",
    "        rtn=getRelmobile(colNm,value)\n",
    "        h = hmac.new(key.encode('utf-8'),digestmod=sha256)\n",
    "        h.update(rtn.encode('utf-8'))\n",
    "        h_str = h.hexdigest()\n",
    "        return h_str\n",
    "    return \"\"\n",
    "spark.udf.register(\"hmac_sha256\",hmac_sha256,T.StringType())\n",
    "def getTableColum(b):\n",
    "    colum=\"\"\n",
    "    for index in range(len(b)):\n",
    "        if(index>0 and index<len(b)-8):   \n",
    "            colum=colum+setDef(b[index][\"data_type\"],b[index][\"col_name\"])+\", \"\n",
    "    return colum[0:len(colum)-2]\n",
    "def setDef(type,table_col):\n",
    "    if(type[:7] == 'decimal'):\n",
    "        return \"ifnull(\"+table_col+\",0) as \"+table_col\n",
    "    else:\n",
    "        return table_col\n",
    "def add_secret_col(dbType,tableNm,col):\n",
    "    secret_Col=[]\n",
    "    if colmap.get(dbType)!=None and colmap[dbType]!=None and colmap[dbType].get(tableNm)!=None:\n",
    "        secret_Col=colmap[tablemap[databaseName]][tableNm]\n",
    "    sh256Col =col\n",
    "    hmac_key=colmap[\"hmac_key\"]\n",
    "#     sql=\"select hmac_sha256('{hmac_key}','123456789') as sh2\".format(hmac_key=hmac_key)\n",
    "    for i in secret_Col:\n",
    "        sh256Col=sh256Col+ \", hmac_sha256('{hmac_key}','\"+i+\"', \"+i+\") \"+ i+\"_x\"\n",
    "    return sh256Col.format(hmac_key=hmac_key)\n",
    "def make_col_temptable(databaseName,row):\n",
    "    tableName=row[\"tableName\"]\n",
    "    tablecolum=\"desc \" +databaseName+\".\"+tableName;\n",
    "    tableSchema= spark.sql(tablecolum).collect()\n",
    "    tablepath=\"s3://rupiahplus-data-warehouse/aliyun/\"+tablemap[databaseName]+\"/\"+row[\"tableName\"]\n",
    "    spark.catalog.refreshTable(databaseName+\".\"+tableName)\n",
    "    dbtype=tablemap[databaseName]\n",
    "    secret_sql=add_secret_col(dbtype,tableName,getTableColum(tableSchema))+\", year\"\n",
    "    sql=\"select \"+secret_sql+ tablesql_1+databaseName+\".\"+tableName+tablesql_2\n",
    "    df=spark.sql(sql).drop(\"etlindex\")\n",
    "    if colmap.get(dbtype) and colmap[dbtype].get(tableName)!=None :\n",
    "        for i in colmap[tablemap[databaseName]][tableName]:\n",
    "            df=df.withColumn(\"col_x\",F.col(i+\"_x\")).withColumn(i+\"_x\",F.col(i)).withColumn(i,F.col(\"col_x\"))\n",
    "    if colmap[\"extraColumn\"]!=None and colmap[\"extraColumn\"].get(dbtype)!=None and colmap[\"extraColumn\"][dbtype].get(tableName)!=None and len(colmap[\"extraColumn\"][dbtype][tableName])>0:\n",
    "        colmap[\"extraColumn\"][dbtype][tableName].insert(0,\"*\")\n",
    "        df=df.selectExpr(colmap[\"extraColumn\"][dbtype][tableName])\n",
    "        df=df.withColumn(\"year_new\",F.col(\"year\")).drop(\"year\").withColumnRenamed(\"year_new\",\"year\")\n",
    "#     df.drop(\"col_x\").show()\n",
    "    df.drop(\"col_x\").write.mode(\"overwrite\").partitionBy(\"year\").orc(tablepath)\n",
    "print(__name__)\n",
    "if __name__ == \"__main__\":\n",
    "#     注册udf\n",
    "    spark.udf.register(\"hmac_sha256\",hmac_sha256,T.StringType())\n",
    "    spark.conf.set(\"spark.sql.shuffle.partitions\",20)\n",
    "    for databaseName in tablemap:\n",
    "        print(databaseName)\n",
    "        databasesql=\"show tables in \"+databaseName\n",
    "        tables=spark.sql(databasesql)\n",
    "        tablelist=tables.collect();\n",
    "        if tablemap[databaseName] in tableList :\n",
    "            ls=[]\n",
    "            for table in tableList[tablemap[databaseName]]:\n",
    "                if table=='*':\n",
    "                    ls =tablelist\n",
    "                else:\n",
    "                    ls=ls+[tb for tb in tablelist if tb[\"tableName\"]==table]\n",
    "            print(ls)\n",
    "            executor=None\n",
    "            with futures.ThreadPoolExecutor(max_workers=10) as executor:\n",
    "                futures_result=futures.wait([executor.submit(make_col_temptable,databaseName, tableNm) for tableNm in tablelist])\n",
    "                for  future in futures_result[0]:\n",
    "                    print(future.result())"
   ]
  },
  {
   "cell_type": "markdown",
   "metadata": {},
   "source": [
    ">####\n",
    ">####  \n",
    ">####有加密列的增量banda测试\n",
    "=================?\n",
    ">#####\n",
    ">#####  \n",
    "\n",
    ">#####\n",
    ">#####\n",
    ">##"
   ]
  },
  {
   "cell_type": "code",
   "execution_count": 34,
   "metadata": {},
   "outputs": [
    {
     "data": {
      "application/vnd.jupyter.widget-view+json": {
       "model_id": "f62aa5e505ec41cb8825ad48de39763a",
       "version_major": 2,
       "version_minor": 0
      },
      "text/plain": [
       "VBox()"
      ]
     },
     "metadata": {},
     "output_type": "display_data"
    },
    {
     "data": {
      "application/vnd.jupyter.widget-view+json": {
       "model_id": "",
       "version_major": 2,
       "version_minor": 0
      },
      "text/plain": [
       "FloatProgress(value=0.0, bar_style='info', description='Progress:', layout=Layout(height='25px', width='50%'),…"
      ]
     },
     "metadata": {},
     "output_type": "display_data"
    },
    {
     "name": "stdout",
     "output_type": "stream",
     "text": [
      "start----- 2021-03-25 08:09:22.707359\n",
      "t_admin\n",
      "t_admin_audit\n",
      "t_admin_group\n",
      "t_admin_group_rel\n",
      "t_af_bill\n",
      "t_ai_rudder_schedule_mobile\n",
      "t_amount_reduce_record\n",
      "t_auto_review_loan\n",
      "t_bankcard\n",
      "t_bankcard_merchant\n",
      "t_bankcard_verify\n",
      "t_call_center_log\n",
      "t_case_distribution_log\n",
      "t_channel_details\n",
      "t_clear_detail_log\n",
      "t_code\n",
      "t_collection_audit\n",
      "t_collection_blacklist\n",
      "t_contact\n",
      "t_coupon_request\n",
      "t_coupon_send\n",
      "t_customer\n",
      "t_customer_app\n",
      "t_customer_device_info\n",
      "t_customer_install_info\n",
      "t_customer_tag_rel\n",
      "t_department_group\n",
      "t_deposit_callback_log\n",
      "t_employment\n",
      "t_engine_rule_detail\n",
      "t_file\n",
      "t_group\n",
      "t_hit_blacklist_record\n",
      "t_invitation\n",
      "t_job_metric\n",
      "t_loan_app\n",
      "t_loan_app_review_summary\n",
      "t_loan_app_status_log\n",
      "t_loan_issue\n",
      "t_loan_log\n",
      "t_loan_tag_rel\n",
      "t_login_log\n",
      "t_lpay\n",
      "t_lpay_deposit\n",
      "t_message\n",
      "t_mobile_tag_rel\n",
      "t_personal_info\n",
      "t_record_bankcard\n",
      "t_record_contact\n",
      "t_record_employment\n",
      "t_record_file\n",
      "t_record_personal_info\n",
      "t_reduce\n",
      "t_review_blacklist\n",
      "t_review_step_execution\n",
      "t_send_coupon_rel\n",
      "t_sms\n",
      "t_test_customer\n",
      "t_thirdparty_data\n",
      "t_tongdun_data\n",
      "t_virtual_account\n",
      "with update_snapshot_banda_t_loan_issue as (\n",
      "  select *\n",
      "    from (\n",
      "      SELECT * ,\n",
      "         row_number() OVER (PARTITION BY id ORDER BY date_format(etldate,'yyyy-MM-dd HH:mm:ss.SSS') DESC, if(etlindex is NULL, 0, etlindex) desc) row_num\n",
      "      FROM `banda_stream_etl`.`t_loan_issue`\n",
      "      where date(year || '-' || month || '-' || day) <=date('2021-03-25') and date(year || '-' || month || '-' || day) >= date('2021-03-24')\n",
      "      )\n",
      "    where row_num = 1\n",
      "  )\n",
      "select  if(update_snapshot_banda_t_loan_issue.id is null, l.etldate     , update_snapshot_banda_t_loan_issue.etldate)  etldate ,if(update_snapshot_banda_t_loan_issue.id is null, l.id     , update_snapshot_banda_t_loan_issue.id)  id ,if(update_snapshot_banda_t_loan_issue.id is null, l.loan_app_id     , update_snapshot_banda_t_loan_issue.loan_app_id)  loan_app_id ,if(update_snapshot_banda_t_loan_issue.id is null, l.customer_id     , update_snapshot_banda_t_loan_issue.customer_id)  customer_id ,if(update_snapshot_banda_t_loan_issue.id is null, l.status     , update_snapshot_banda_t_loan_issue.status)  status ,if(update_snapshot_banda_t_loan_issue.id is null, ifnull(l.issue_amount,0)      , ifnull(update_snapshot_banda_t_loan_issue.issue_amount,0)  )  issue_amount ,if(update_snapshot_banda_t_loan_issue.id is null, ifnull(l.reached_amount,0)      , ifnull(update_snapshot_banda_t_loan_issue.reached_amount,0)  )  reached_amount ,if(update_snapshot_banda_t_loan_issue.id is null, l.out_disbursement_no     , update_snapshot_banda_t_loan_issue.out_disbursement_no)  out_disbursement_no ,if(update_snapshot_banda_t_loan_issue.id is null, l.disbursement_method     , update_snapshot_banda_t_loan_issue.disbursement_method)  disbursement_method ,if(update_snapshot_banda_t_loan_issue.id is null, l.expire_time     , update_snapshot_banda_t_loan_issue.expire_time)  expire_time ,if(update_snapshot_banda_t_loan_issue.id is null, l.reconcile_status     , update_snapshot_banda_t_loan_issue.reconcile_status)  reconcile_status ,if(update_snapshot_banda_t_loan_issue.id is null, l.create_time     , update_snapshot_banda_t_loan_issue.create_time)  create_time ,if(update_snapshot_banda_t_loan_issue.id is null, l.update_time     , update_snapshot_banda_t_loan_issue.update_time)  update_time ,if(update_snapshot_banda_t_loan_issue.id is null, l.type     , update_snapshot_banda_t_loan_issue.type)  type ,if(update_snapshot_banda_t_loan_issue.id is null, l.product_name     , update_snapshot_banda_t_loan_issue.product_name)  product_name ,if(update_snapshot_banda_t_loan_issue.id is null, l.year     , update_snapshot_banda_t_loan_issue.year)  year \n",
      "from `banda-etl-s3`.`t_loan_issue` l\n",
      "left join update_snapshot_banda_t_loan_issue\n",
      "on l.id = update_snapshot_banda_t_loan_issue.id\n",
      "where if(update_snapshot_banda_t_loan_issue.kind is not null,update_snapshot_banda_t_loan_issue.kind,'') <> 'delete'\n",
      "union\n",
      "select update_snapshot_banda_t_loan_issue.etldate ,update_snapshot_banda_t_loan_issue.id ,update_snapshot_banda_t_loan_issue.loan_app_id ,update_snapshot_banda_t_loan_issue.customer_id ,update_snapshot_banda_t_loan_issue.status ,ifnull(update_snapshot_banda_t_loan_issue.issue_amount,0) issue_amount ,ifnull(update_snapshot_banda_t_loan_issue.reached_amount,0) reached_amount ,update_snapshot_banda_t_loan_issue.out_disbursement_no ,update_snapshot_banda_t_loan_issue.disbursement_method ,update_snapshot_banda_t_loan_issue.expire_time ,update_snapshot_banda_t_loan_issue.reconcile_status ,update_snapshot_banda_t_loan_issue.create_time ,update_snapshot_banda_t_loan_issue.update_time ,update_snapshot_banda_t_loan_issue.type ,update_snapshot_banda_t_loan_issue.product_name ,update_snapshot_banda_t_loan_issue.year from (\n",
      "  select *\n",
      "  from `banda_stream_etl`.`t_loan_issue`\n",
      "  where\n",
      "    date(year || '-' || month || '-' || day) <=date('2021-03-25') and date(year || '-' || month || '-' || day) >= date('2021-03-24')\n",
      "    and kind = 'insert'\n",
      "  ) new\n",
      "left join update_snapshot_banda_t_loan_issue\n",
      "on new.id = update_snapshot_banda_t_loan_issue.id where if(update_snapshot_banda_t_loan_issue.kind is not null,update_snapshot_banda_t_loan_issue.kind,'') <> 'delete' \n",
      "None\n",
      "end----- 2021-03-25 08:09:23.623061\n",
      "None\n",
      "end----- 2021-03-25 08:09:23.623104\n",
      "None\n",
      "end----- 2021-03-25 08:09:23.623130\n",
      "None\n",
      "end----- 2021-03-25 08:09:23.623155\n",
      "None\n",
      "end----- 2021-03-25 08:09:23.623180\n",
      "None\n",
      "end----- 2021-03-25 08:09:23.623201\n",
      "None\n",
      "end----- 2021-03-25 08:09:23.623227\n",
      "None\n",
      "end----- 2021-03-25 08:09:23.623247\n",
      "None\n",
      "end----- 2021-03-25 08:09:23.623266\n",
      "None\n",
      "end----- 2021-03-25 08:09:23.623283\n",
      "None\n",
      "end----- 2021-03-25 08:09:23.623300\n",
      "None\n",
      "end----- 2021-03-25 08:09:23.623317\n",
      "None\n",
      "end----- 2021-03-25 08:09:23.623333\n",
      "None\n",
      "end----- 2021-03-25 08:09:23.623350\n",
      "None\n",
      "end----- 2021-03-25 08:09:23.623366\n",
      "None\n",
      "end----- 2021-03-25 08:09:23.623383\n",
      "None\n",
      "end----- 2021-03-25 08:09:23.623399\n",
      "None\n",
      "end----- 2021-03-25 08:09:23.623416\n",
      "None\n",
      "end----- 2021-03-25 08:09:23.623432\n",
      "None\n",
      "end----- 2021-03-25 08:09:23.623448\n",
      "None\n",
      "end----- 2021-03-25 08:09:23.623465\n",
      "None\n",
      "end----- 2021-03-25 08:09:23.623481\n",
      "None\n",
      "end----- 2021-03-25 08:09:23.623498\n",
      "None\n",
      "end----- 2021-03-25 08:09:23.623514\n",
      "None\n",
      "end----- 2021-03-25 08:09:23.623531\n",
      "None\n",
      "end----- 2021-03-25 08:09:23.623548\n",
      "None\n",
      "end----- 2021-03-25 08:09:23.623565\n",
      "None\n",
      "end----- 2021-03-25 08:09:23.623581\n",
      "None\n",
      "end----- 2021-03-25 08:09:23.623598\n",
      "None\n",
      "end----- 2021-03-25 08:09:23.623614\n",
      "None\n",
      "end----- 2021-03-25 08:09:23.623630\n",
      "None\n",
      "end----- 2021-03-25 08:09:23.623647\n",
      "None\n",
      "end----- 2021-03-25 08:09:23.623664\n",
      "None\n",
      "end----- 2021-03-25 08:09:23.623680\n",
      "None\n",
      "end----- 2021-03-25 08:09:23.623696\n",
      "None\n",
      "end----- 2021-03-25 08:09:23.623713\n",
      "None\n",
      "end----- 2021-03-25 08:09:23.623729\n",
      "None\n",
      "end----- 2021-03-25 08:09:23.623746\n",
      "None\n",
      "end----- 2021-03-25 08:09:23.623763\n",
      "None\n",
      "end----- 2021-03-25 08:09:23.623780\n",
      "None\n",
      "end----- 2021-03-25 08:09:23.623796\n",
      "None\n",
      "end----- 2021-03-25 08:09:23.623812\n",
      "None\n",
      "end----- 2021-03-25 08:09:23.623829\n",
      "None\n",
      "end----- 2021-03-25 08:09:23.623845\n",
      "None\n",
      "end----- 2021-03-25 08:09:23.623861\n",
      "None\n",
      "end----- 2021-03-25 08:09:23.623877\n",
      "None\n",
      "end----- 2021-03-25 08:09:23.623894\n",
      "None\n",
      "end----- 2021-03-25 08:09:23.623910\n",
      "None\n",
      "end----- 2021-03-25 08:09:23.623927\n",
      "None\n",
      "end----- 2021-03-25 08:09:23.623943\n",
      "None\n",
      "end----- 2021-03-25 08:09:23.623959\n",
      "None\n",
      "end----- 2021-03-25 08:09:23.623976\n",
      "None\n",
      "end----- 2021-03-25 08:09:23.623992\n",
      "None\n",
      "end----- 2021-03-25 08:09:23.624009\n",
      "None\n",
      "end----- 2021-03-25 08:09:23.624025\n",
      "None\n",
      "end----- 2021-03-25 08:09:23.624041\n",
      "None\n",
      "end----- 2021-03-25 08:09:23.624058\n",
      "None\n",
      "end----- 2021-03-25 08:09:23.624074\n",
      "None\n",
      "end----- 2021-03-25 08:09:23.624091\n",
      "None\n",
      "end----- 2021-03-25 08:09:23.624107\n",
      "None\n",
      "end----- 2021-03-25 08:09:23.624124"
     ]
    }
   ],
   "source": [
    "import sys\n",
    "from concurrent import futures\n",
    "import numpy as np\n",
    "from pyspark.sql import SparkSession\n",
    "import pyspark.sql.functions as F\n",
    "from datetime import datetime,timedelta\n",
    "import copy\n",
    "import json\n",
    "import pytz\n",
    "import hmac\n",
    "from hashlib import sha256 \n",
    "from pyspark.sql.functions import col\n",
    "from pyspark.sql.functions import lit\n",
    "from pyspark.sql.types import StringType\n",
    "from pyspark.sql import types as T\n",
    "dbmap={\n",
    "    \"banda\":{\n",
    "        \"increment_database\":\"banda_stream_etl\",\n",
    "        \"database\":\"banda-etl-s3\",\n",
    "        \"realTime_path\":\"banda\"\n",
    "    }\n",
    "}\n",
    "nowdate=(datetime.now()).strftime('%Y-%m-%d')\n",
    "yesterday=(datetime.now()+ timedelta(-1)).strftime('%Y-%m-%d')\n",
    "sqltemp=\"\"\"with {update_snapshot_table} as (\n",
    "  select *\n",
    "    from (\n",
    "      SELECT * ,\n",
    "         row_number() OVER (PARTITION BY id ORDER BY date_format(etldate,'yyyy-MM-dd HH:mm:ss.SSS') DESC, if(etlindex is NULL, 0, etlindex) desc) row_num\n",
    "      FROM `{increment_database}`.`{tableNm}`\n",
    "      where date(year || '-' || month || '-' || day) <=date('{nowdate}') and date(year || '-' || month || '-' || day) >= date('{yesterday}')\n",
    "      )\n",
    "    where row_num = 1\n",
    "  )\n",
    "select  {select_sql} \n",
    "from `{database}`.`{tableNm}` l\n",
    "left join {update_snapshot_table}\n",
    "on l.id = {update_snapshot_table}.id\n",
    "where if({update_snapshot_table}.kind is not null,{update_snapshot_table}.kind,'') <> 'delete'\n",
    "union\n",
    "select {update_snapshot_sql} from (\n",
    "  select *\n",
    "  from `{increment_database}`.`{tableNm}`\n",
    "  where\n",
    "    date(year || '-' || month || '-' || day) <=date('{nowdate}') and date(year || '-' || month || '-' || day) >= date('{yesterday}')\n",
    "    and kind = 'insert'\n",
    "  ) new\n",
    "left join {update_snapshot_table}\n",
    "on new.id = {update_snapshot_table}.id where if({update_snapshot_table}.kind is not null,{update_snapshot_table}.kind,'') <> 'delete' \"\"\"\n",
    "def get_secret_obj():\n",
    "    df=spark.read.text(\"s3://rupiahplus-configs/etl/data_secrt/col.json\").collect()\n",
    "    keymap=''\n",
    "    for  row in df:\n",
    "        keymap=keymap+row['value']\n",
    "    json_content=json.loads(keymap)\n",
    "    return json_content\n",
    "colmap= get_secret_obj()   \n",
    "hmac_key=colmap[\"hmac_key\"]\n",
    "mobileType=colmap[\"mobileType\"]\n",
    "def getRelmobile(colNm,str):\n",
    "    if colNm in mobileType:\n",
    "        relmobile = str.strip().replace(\"+\", \"\").replace(\"-\", \"\").replace(\" \", \"\").replace('\"', '')\n",
    "        if (relmobile.startswith(\"62\")):\n",
    "            relmobile = relmobile.replace(\"62\", \"0\",1)\n",
    "        if relmobile.startswith(\"0\") == False:\n",
    "            relmobile = \"0\" + relmobile;\n",
    "        return relmobile\n",
    "    return str\n",
    "# hmac_256加密\n",
    "def hmac_sha256(key,colNm,value):\n",
    "    if value!=None and value!='':\n",
    "#         处理手机号\n",
    "        rtn=getRelmobile(colNm,value)\n",
    "        h = hmac.new(key.encode('utf-8'),digestmod=sha256)\n",
    "        h.update(rtn.encode('utf-8'))\n",
    "        h_str = h.hexdigest()\n",
    "        return h_str\n",
    "spark.udf.register(\"hmac_sha256\",hmac_sha256,T.StringType())\n",
    "def getTableColum(b,update_snapshot_table,dbtype,tableNm):\n",
    "    colum=\"\"\n",
    "    snapshot_colum=\"\"\n",
    "    sqlstrtemp=\"if({update_snapshot_table}.id is null, {colNm}     , {snapshot_colNm})  {ascolNm} ,\"\n",
    "    sqlstr_secret_temp=\" if({update_snapshot_table}.id is null, {colNm}     , hmac_sha256('{hmac_key}','{ascolNm}',{snapshot_colNm})) {ascolNm}_x , \"\n",
    "    for index in range(len(b)):\n",
    "        if(index==1 or (index>2 and index<len(b)-7)):\n",
    "#             print(index,b[index])\n",
    "#             在year前面加上加密列\n",
    "            if(index==len(b)-8) and colmap[dbtype]!=None and colmap[dbtype].get(tableNm)!=None:\n",
    "                for secret_col in colmap[dbtype][tableNm]:\n",
    "                    sqlstr=copy.copy(sqlstr_secret_temp)\n",
    "                    colum=colum+sqlstr.format(colNm=setDef(\"string\",secret_col,False),snapshot_colNm=setDef(\"string\",secret_col,True),ascolNm=secret_col,update_snapshot_table=update_snapshot_table,hmac_key=hmac_key)\n",
    "                    snapshot_colum=snapshot_colum+setsecret_SnapshotDef(secret_col).format(update_snapshot_table=update_snapshot_table,hmac_key=hmac_key)+\" ,\"\n",
    "            sqlstr=copy.copy(sqlstrtemp)\n",
    "            colum=colum+sqlstr.format(colNm=isX(dbtype,tableNm,setDef(b[index][\"data_type\"],b[index][\"col_name\"],False)),snapshot_colNm=setDef(b[index][\"data_type\"],b[index][\"col_name\"],True),ascolNm=b[index][\"col_name\"],update_snapshot_table=update_snapshot_table)\n",
    "            snapshot_colum=snapshot_colum+setSnapshotDef(b[index][\"data_type\"],b[index][\"col_name\"]).format(update_snapshot_table=update_snapshot_table)+\" ,\"\n",
    "    return colum[0:len(colum)-2],snapshot_colum[0:len(snapshot_colum)-2]\n",
    "def isX(type,table,column):\n",
    "    columnList=column.split(\".\")\n",
    "    if len(columnList)>0 and  colmap.get(type)!=None and colmap[type].get(table)!=None and columnList[len(columnList)-1] in colmap[type][table]:\n",
    "        return column+\"_x\"\n",
    "    return column\n",
    "def setDef(type,table_col,is_snapshot):\n",
    "    table_col_x=copy.copy(table_col)\n",
    "    if(type[:7] == 'decimal'):\n",
    "        if is_snapshot:\n",
    "            return \"ifnull({update_snapshot_table}.\"+table_col_x+\",0)  \"\n",
    "        else:\n",
    "            return \"ifnull(l.\"+table_col_x+\",0) \"\n",
    "    else:\n",
    "        if is_snapshot:\n",
    "            return \"{update_snapshot_table}.\"+table_col_x\n",
    "        else:\n",
    "            return \"l.\"+table_col_x\n",
    "def setSnapshotDef(type,table_col):\n",
    "    table_col_x=copy.copy(table_col)\n",
    "    if(type[:7] == 'decimal'):\n",
    "        return \"ifnull({update_snapshot_table}.\"+table_col_x+\",0) \"+table_col\n",
    "    else:\n",
    "        return \"{update_snapshot_table}.\"+table_col_x\n",
    "# def setDef(type,table_col,is_snapshot):\n",
    "#     if is_snapshot:\n",
    "#         return \"{update_snapshot_table}.\"+table_col\n",
    "#     else:\n",
    "#         return \"l.\"+table_col\n",
    "def setsecret_SnapshotDef(table_col):\n",
    "    table_col_x=copy.copy(table_col)\n",
    "#     print(\"hmac_sha256('{hmac_key}','\"+table_col_x+\"', {update_snapshot_table}.\"+table_col_x+\") \"+ table_col_x+\"_x\")\n",
    "    return \"hmac_sha256('{hmac_key}','\"+table_col_x+\"', {update_snapshot_table}.\"+table_col_x+\") \"+ table_col_x+\"_x\"\n",
    "\n",
    "def execute(tablerow,dbtype):\n",
    "#     print(tablerow,dbtype)\n",
    "    tableName=tablerow[\"tableName\"]\n",
    "#      tableName=='t_engine_rule_detail' or \n",
    "    if tableName=='t_loan_issue':\n",
    "        update_snapshot_table=\"update_snapshot_\"+dbtype+\"_\"+tableName\n",
    "        spark.catalog.refreshTable(\"`\"+dbmap[dbtype][\"database\"]+\"`.\"+tableName)\n",
    "        col=spark.sql(\"desc `\"+dbmap[dbtype][\"increment_database\"]+\"`.\"+tableName).collect()\n",
    "        #     #真正的列,增量的列\n",
    "        real_col,snapshot_col=getTableColum(col,update_snapshot_table,dbtype,tableName)\n",
    "        sql=copy.copy(sqltemp)\n",
    "        real_sql=sql.format(increment_database=dbmap[dbtype][\"increment_database\"],tableNm=tableName,nowdate=nowdate,select_sql=real_col.format(update_snapshot_table=update_snapshot_table),update_snapshot_sql=snapshot_col.format(update_snapshot_table=update_snapshot_table),database=dbmap[dbtype][\"database\"],yesterday=yesterday,update_snapshot_table=update_snapshot_table,hmac_key=hmac_key)\n",
    "        df=spark.sql(real_sql).drop(\"etlindex\")\n",
    "        if colmap[dbtype].get(tableName)!=None :\n",
    "            for i in colmap[dbtype][tableName]:\n",
    "                df=df.withColumn(\"col_x\",F.col(i+\"_x\")).withColumn(i+\"_x\",F.col(i)).withColumn(i,F.col(\"col_x\"))\n",
    "        if colmap[\"extraColumn\"]!=None and colmap[\"extraColumn\"].get(dbtype)!=None and colmap[\"extraColumn\"][dbtype].get(tableName)!=None and len(colmap[\"extraColumn\"][dbtype][tableName])>0:\n",
    "            colmap[\"extraColumn\"][dbtype][tableName].insert(0,\"*\")\n",
    "            df=df.selectExpr(colmap[\"extraColumn\"][dbtype][tableName])\n",
    "            df=df.withColumn(\"year_new\",F.col(\"year\")).drop(\"year\").withColumnRenamed(\"year_new\",\"year\")\n",
    "#         df.show()\n",
    "        df.drop(\"col_x\").write.option(\"path\", \"s3://rupiahplus-data-warehouse/stream/etl_s3_temp/\"+dbtype+\"_\"+tableName).mode(\"overwrite\").partitionBy(\"year\").format(\"orc\").saveAsTable(\"etl_s3_temp.\"+dbtype+\"_\"+tableName);\n",
    "        tablepath='s3://rupiahplus-data-warehouse/aliyun/'+dbmap[dbtype][\"realTime_path\"]+'/'+tableName+\"/\"\n",
    "        spark.sql(\"select  * from  \"+\"etl_s3_temp.\"+dbtype+\"_\"+tableName).write.mode(\"overwrite\").partitionBy(\"year\").orc(tablepath)\n",
    "if __name__ == \"builtins\":\n",
    "    print(\"start-----\",datetime.now())\n",
    "    spark = SparkSession\\\n",
    "        .builder\\\n",
    "        .appName(\"Python Demo\")\\\n",
    "        .config(\"hive.metastore.client.factory.class\", \"com.amazonaws.glue.catalog.metastore.AWSGlueDataCatalogHiveClientFactory\") \\\n",
    "        .config(\"spark.driver.maxResultSize\", \"4g\") \\\n",
    "        .enableHiveSupport()\\\n",
    "        .getOrCreate()\n",
    "    spark.conf.set(\"hive.exec.dynamic.partition.mode\",\"nonstrict\");\n",
    "    spark.conf.set(\"spark.sql.sources.partitionOverwriteMode\", \"dynamic\")\n",
    "    spark.conf.set(\"spark.sql.shuffle.partitions\",20)\n",
    "    spark.conf.set(\"spark.files.overwrite\",\"true\")\n",
    "#     ,Apache Arrow：一个跨平台的在内存中以列式存储的数据层，用来加速大数据分析速度。其可以一次性传入更大块的数据，pyspark中已经有载入该模块，需要打开该设置：\n",
    "    spark.conf.set(\"spark.sql.execution.arrow.enabled\", \"true\")\n",
    "#     创建表时自动删除已存在的目录\n",
    "    spark.conf.set(\"spark.sql.legacy.allowCreatingManagedTableUsingNonemptyLocation\",\"true\")\n",
    "    for dbtype in dbmap:\n",
    "        databasesql=\"show tables in \"+dbmap[dbtype][\"increment_database\"]\n",
    "        tables=spark.sql(databasesql)\n",
    "        tablelist=tables.collect();\n",
    "    #         for row in tablelist:\n",
    "        executor=None\n",
    "        with futures.ThreadPoolExecutor(max_workers=10) as executor:\n",
    "            futures_result=futures.wait([executor.submit(execute, table,dbtype) for table in tablelist])\n",
    "            for  future in futures_result[0]:\n",
    "                print(future.result())\n",
    "                print(\"end-----\",datetime.now())"
   ]
  },
  {
   "cell_type": "markdown",
   "metadata": {},
   "source": [
    ">####\n",
    ">####  \n",
    ">####有加密列的增量banda正式\n",
    "\n",
    "=================?\n",
    ">#####\n",
    ">#####  \n",
    "\n",
    ">#####\n",
    ">#####\n",
    ">##"
   ]
  },
  {
   "cell_type": "code",
   "execution_count": 4,
   "metadata": {},
   "outputs": [
    {
     "data": {
      "application/vnd.jupyter.widget-view+json": {
       "model_id": "00c3b99b3ab54e5e882374d16b5d0313",
       "version_major": 2,
       "version_minor": 0
      },
      "text/plain": [
       "VBox()"
      ]
     },
     "metadata": {},
     "output_type": "display_data"
    },
    {
     "data": {
      "application/vnd.jupyter.widget-view+json": {
       "model_id": "",
       "version_major": 2,
       "version_minor": 0
      },
      "text/plain": [
       "FloatProgress(value=0.0, bar_style='info', description='Progress:', layout=Layout(height='25px', width='50%'),…"
      ]
     },
     "metadata": {},
     "output_type": "display_data"
    },
    {
     "name": "stdout",
     "output_type": "stream",
     "text": [
      "start----- 2021-06-09 11:07:43.921562\n",
      "`banda-etl-s3`.t_auto_review_loan\n",
      "`banda_stream_etl`.t_auto_review_loan\n",
      "None\n",
      "end----- 2021-06-09 11:07:45.614753\n",
      "None\n",
      "end----- 2021-06-09 11:07:45.614798\n",
      "None\n",
      "end----- 2021-06-09 11:07:45.614820\n",
      "None\n",
      "end----- 2021-06-09 11:07:45.614841\n",
      "None\n",
      "end----- 2021-06-09 11:07:45.614861\n",
      "None\n",
      "end----- 2021-06-09 11:07:45.614881\n",
      "None\n",
      "end----- 2021-06-09 11:07:45.614900\n",
      "None\n",
      "end----- 2021-06-09 11:07:45.614919\n",
      "None\n",
      "end----- 2021-06-09 11:07:45.614938\n",
      "None\n",
      "end----- 2021-06-09 11:07:45.614958\n",
      "None\n",
      "end----- 2021-06-09 11:07:45.614978\n",
      "None\n",
      "end----- 2021-06-09 11:07:45.615006\n",
      "None\n",
      "end----- 2021-06-09 11:07:45.615026\n",
      "None\n",
      "end----- 2021-06-09 11:07:45.615045\n",
      "None\n",
      "end----- 2021-06-09 11:07:45.615065\n",
      "None\n",
      "end----- 2021-06-09 11:07:45.615084\n",
      "None\n",
      "end----- 2021-06-09 11:07:45.615103\n",
      "None\n",
      "end----- 2021-06-09 11:07:45.615123\n",
      "None\n",
      "end----- 2021-06-09 11:07:45.615146\n",
      "None\n",
      "end----- 2021-06-09 11:07:45.615167\n",
      "None\n",
      "end----- 2021-06-09 11:07:45.615191\n",
      "None\n",
      "end----- 2021-06-09 11:07:45.615209\n",
      "None\n",
      "end----- 2021-06-09 11:07:45.615227\n",
      "None\n",
      "end----- 2021-06-09 11:07:45.615245\n",
      "None\n",
      "end----- 2021-06-09 11:07:45.615265\n",
      "None\n",
      "end----- 2021-06-09 11:07:45.615283\n",
      "None\n",
      "end----- 2021-06-09 11:07:45.615301\n",
      "None\n",
      "end----- 2021-06-09 11:07:45.615320\n",
      "None\n",
      "end----- 2021-06-09 11:07:45.615339\n",
      "None\n",
      "end----- 2021-06-09 11:07:45.615357\n",
      "None\n",
      "end----- 2021-06-09 11:07:45.615375\n",
      "None\n",
      "end----- 2021-06-09 11:07:45.615393\n",
      "None\n",
      "end----- 2021-06-09 11:07:45.615413\n",
      "None\n",
      "end----- 2021-06-09 11:07:45.615432\n",
      "None\n",
      "end----- 2021-06-09 11:07:45.615450\n",
      "None\n",
      "end----- 2021-06-09 11:07:45.615467\n",
      "None\n",
      "end----- 2021-06-09 11:07:45.615487\n",
      "None\n",
      "end----- 2021-06-09 11:07:45.615505\n",
      "None\n",
      "end----- 2021-06-09 11:07:45.615525\n",
      "None\n",
      "end----- 2021-06-09 11:07:45.615543\n",
      "None\n",
      "end----- 2021-06-09 11:07:45.615561\n",
      "None\n",
      "end----- 2021-06-09 11:07:45.615580\n",
      "None\n",
      "end----- 2021-06-09 11:07:45.615599\n",
      "None\n",
      "end----- 2021-06-09 11:07:45.615617\n",
      "None\n",
      "end----- 2021-06-09 11:07:45.615637\n",
      "None\n",
      "end----- 2021-06-09 11:07:45.615655\n",
      "None\n",
      "end----- 2021-06-09 11:07:45.615672\n",
      "None\n",
      "end----- 2021-06-09 11:07:45.615689\n",
      "None\n",
      "end----- 2021-06-09 11:07:45.615707\n",
      "None\n",
      "end----- 2021-06-09 11:07:45.615724\n",
      "None\n",
      "end----- 2021-06-09 11:07:45.615742\n",
      "None\n",
      "end----- 2021-06-09 11:07:45.615761\n",
      "None\n",
      "end----- 2021-06-09 11:07:45.615779\n",
      "None\n",
      "end----- 2021-06-09 11:07:45.615798\n",
      "None\n",
      "end----- 2021-06-09 11:07:45.615816\n",
      "None\n",
      "end----- 2021-06-09 11:07:45.615833\n",
      "None\n",
      "end----- 2021-06-09 11:07:45.615851\n",
      "None\n",
      "end----- 2021-06-09 11:07:45.615868\n",
      "None\n",
      "end----- 2021-06-09 11:07:45.615888\n",
      "None\n",
      "end----- 2021-06-09 11:07:45.615906\n",
      "None\n",
      "end----- 2021-06-09 11:07:45.615923\n",
      "None\n",
      "end----- 2021-06-09 11:07:45.615940\n",
      "None\n",
      "end----- 2021-06-09 11:07:45.615958\n",
      "None\n",
      "end----- 2021-06-09 11:07:45.615976"
     ]
    }
   ],
   "source": [
    "import sys\n",
    "from concurrent import futures\n",
    "import numpy as np\n",
    "from pyspark.sql import SparkSession\n",
    "import pyspark.sql.functions as F\n",
    "from datetime import datetime,timedelta\n",
    "import copy\n",
    "import json\n",
    "import pytz\n",
    "import hmac\n",
    "from hashlib import sha256 \n",
    "from pyspark.sql.functions import col\n",
    "from pyspark.sql.functions import lit\n",
    "from pyspark.sql.types import StringType\n",
    "from pyspark.sql import types as T\n",
    "spark = SparkSession\\\n",
    "    .builder\\\n",
    "    .appName(\"Python Demo\")\\\n",
    "    .config(\"hive.metastore.client.factory.class\", \"com.amazonaws.glue.catalog.metastore.AWSGlueDataCatalogHiveClientFactory\") \\\n",
    "    .config(\"spark.driver.maxResultSize\", \"4g\") \\\n",
    "    .enableHiveSupport()\\\n",
    "    .getOrCreate()\n",
    "spark.conf.set(\"hive.exec.dynamic.partition.mode\",\"nonstrict\");\n",
    "spark.conf.set(\"spark.sql.sources.partitionOverwriteMode\", \"dynamic\")\n",
    "spark.conf.set(\"spark.sql.shuffle.partitions\",20)\n",
    "spark.conf.set(\"spark.files.overwrite\",\"true\")\n",
    "#     ,Apache Arrow：一个跨平台的在内存中以列式存储的数据层，用来加速大数据分析速度。其可以一次性传入更大块的数据，pyspark中已经有载入该模块，需要打开该设置：\n",
    "spark.conf.set(\"spark.sql.execution.arrow.enabled\", \"true\")\n",
    "#     创建表时自动删除已存在的目录\n",
    "dbmap={\n",
    "    \"banda\":{\n",
    "        \"increment_database\":\"banda_stream_etl\",\n",
    "        \"database\":\"banda-etl-s3\",\n",
    "        \"realTime_path\":\"banda\"\n",
    "    }\n",
    "}\n",
    "nowdate=(datetime.now()).strftime('%Y-%m-%d')\n",
    "yesterday=(datetime.now()+ timedelta(-1)).strftime('%Y-%m-%d')\n",
    "sqltemp=\"\"\"with {update_snapshot_table} as (\n",
    "  select *\n",
    "    from (\n",
    "      SELECT * ,\n",
    "         row_number() OVER (PARTITION BY id ORDER BY date_format(etldate,'yyyy-MM-dd HH:mm:ss.SSS') DESC, if(etlindex is NULL, 0, etlindex) desc) row_num\n",
    "         FROM `{increment_database}`.`{tableNm}`\n",
    "         where date(year || '-' || month || '-' || day) <=date('{nowdate}') and date(year || '-' || month || '-' || day) >= date('{yesterday}')\n",
    "      )\n",
    "    where row_num = 1\n",
    "  )\n",
    "select  {select_sql} \n",
    "from `{database}`.`{tableNm}` l\n",
    "left join {update_snapshot_table}\n",
    "on l.id = {update_snapshot_table}.id\n",
    "where if({update_snapshot_table}.kind is not null,{update_snapshot_table}.kind,'') <> 'delete'\n",
    "union\n",
    "select {update_snapshot_sql} from (\n",
    "  select *\n",
    "  from `{increment_database}`.`{tableNm}`\n",
    "  where\n",
    "    date(year || '-' || month || '-' || day) <=date('{nowdate}') and date(year || '-' || month || '-' || day) >= date('{yesterday}')\n",
    "    and kind = 'insert'\n",
    "  ) new\n",
    "left join {update_snapshot_table}\n",
    "on new.id = {update_snapshot_table}.id where if({update_snapshot_table}.kind is not null,{update_snapshot_table}.kind,'') <> 'delete' \"\"\"\n",
    "def get_secret_obj():\n",
    "    df=spark.read.text(\"s3://rupiahplus-configs/etl/data_secrt/col.json\").collect()\n",
    "    keymap=''\n",
    "    for  row in df:\n",
    "        keymap=keymap+row['value']\n",
    "    json_content=json.loads(keymap)\n",
    "    return json_content\n",
    "colmap= get_secret_obj()   \n",
    "hmac_key=colmap[\"hmac_key\"]\n",
    "mobileType=colmap[\"mobileType\"]\n",
    "def getRelmobile(colNm,str):\n",
    "    if colNm in mobileType:\n",
    "        relmobile = str.strip().replace(\"+\", \"\").replace(\"-\", \"\").replace(\" \", \"\").replace('\"', '')\n",
    "        if (relmobile.startswith(\"62\")):\n",
    "            relmobile = relmobile.replace(\"62\", \"0\",1)\n",
    "        if relmobile.startswith(\"0\") == False:\n",
    "            relmobile = \"0\" + relmobile;\n",
    "        return relmobile\n",
    "    return str\n",
    "# hmac_256加密\n",
    "def hmac_sha256(key,colNm,value):\n",
    "    if value!=None and value!='':\n",
    "#         处理手机号\n",
    "        rtn=getRelmobile(colNm,value)\n",
    "        h = hmac.new(key.encode('utf-8'),digestmod=sha256)\n",
    "        h.update(rtn.encode('utf-8'))\n",
    "        h_str = h.hexdigest()\n",
    "        return h_str\n",
    "spark.udf.register(\"hmac_sha256\",hmac_sha256,T.StringType())\n",
    "def getTableColum(b,update_snapshot_table,dbtype,tableNm):\n",
    "    colum=\"\"\n",
    "    snapshot_colum=\"\"\n",
    "    sqlstrtemp=\"if({update_snapshot_table}.id is null, {colNm}     , {snapshot_colNm})  {ascolNm} ,\"\n",
    "    sqlstr_secret_temp=\" if({update_snapshot_table}.id is null, {colNm}     , hmac_sha256('{hmac_key}','{ascolNm}',{snapshot_colNm})) {ascolNm}_x , \"\n",
    "    for index in range(len(b)):\n",
    "        if(index==1 or (index>2 and index<len(b)-7)):\n",
    "#             print(index,b[index])\n",
    "#             在year前面加上加密列\n",
    "            if(index==len(b)-8)and  colmap.get(dbtype)!=None and colmap[dbtype]!=None and colmap[dbtype].get(tableNm)!=None:\n",
    "                for secret_col in colmap[dbtype][tableNm]:\n",
    "                    sqlstr=copy.copy(sqlstr_secret_temp)\n",
    "                    colum=colum+sqlstr.format(colNm=setDef(\"string\",secret_col,False),snapshot_colNm=setDef(\"string\",secret_col,True),ascolNm=secret_col,update_snapshot_table=update_snapshot_table,hmac_key=hmac_key)\n",
    "                    snapshot_colum=snapshot_colum+setsecret_SnapshotDef(secret_col).format(update_snapshot_table=update_snapshot_table,hmac_key=hmac_key)+\" ,\"\n",
    "            sqlstr=copy.copy(sqlstrtemp)\n",
    "            colum=colum+sqlstr.format(colNm=isX(dbtype,tableNm,setDef(b[index][\"data_type\"],b[index][\"col_name\"],False)),snapshot_colNm=setDef(b[index][\"data_type\"],b[index][\"col_name\"],True),ascolNm=b[index][\"col_name\"],update_snapshot_table=update_snapshot_table)\n",
    "            snapshot_colum=snapshot_colum+setSnapshotDef(b[index][\"data_type\"],b[index][\"col_name\"]).format(update_snapshot_table=update_snapshot_table)+\" ,\"\n",
    "    return colum[0:len(colum)-2],snapshot_colum[0:len(snapshot_colum)-2]\n",
    "def isX(type,table,column):\n",
    "    columnList=column.split(\".\")\n",
    "    if len(columnList)>0 and  colmap.get(type)!=None and colmap[type].get(table)!=None and columnList[len(columnList)-1] in colmap[type][table]:\n",
    "        return column+\"_x\"\n",
    "    return column\n",
    "def setDef(type,table_col,is_snapshot):\n",
    "    table_col_x=copy.copy(table_col)\n",
    "    if(type[:7] == 'decimal'):\n",
    "        if is_snapshot:\n",
    "            return \"ifnull({update_snapshot_table}.\"+table_col_x+\",0)  \"\n",
    "        else:\n",
    "            return \"ifnull(l.\"+table_col_x+\",0) \"\n",
    "    else:\n",
    "        if is_snapshot:\n",
    "            return \"{update_snapshot_table}.\"+table_col_x\n",
    "        else:\n",
    "            return \"l.\"+table_col_x\n",
    "def setSnapshotDef(type,table_col):\n",
    "    table_col_x=copy.copy(table_col)\n",
    "    if(type[:7] == 'decimal'):\n",
    "        return \"ifnull({update_snapshot_table}.\"+table_col_x+\",0) \"+table_col\n",
    "    else:\n",
    "        return \"{update_snapshot_table}.\"+table_col_x\n",
    "def setsecret_SnapshotDef(table_col):\n",
    "    table_col_x=copy.copy(table_col)\n",
    "#     print(\"hmac_sha256('{hmac_key}','\"+table_col_x+\"', {update_snapshot_table}.\"+table_col_x+\") \"+ table_col_x+\"_x\")\n",
    "    return \"hmac_sha256('{hmac_key}','\"+table_col_x+\"', {update_snapshot_table}.\"+table_col_x+\") \"+ table_col_x+\"_x\"\n",
    "#     return \"sha2({update_snapshot_table}.\"+table_col+\",256) \" +table_col+\"_x\"\n",
    "def execute(tablerow,dbtype):\n",
    "#     print(tablerow,dbtype)\n",
    "    tableName=tablerow[\"tableName\"]\n",
    "    if tableName=='t_auto_review_loan':\n",
    "        update_snapshot_table=\"update_snapshot_\"+dbtype+\"_\"+tableName\n",
    "        print(\"`\"+dbmap[dbtype][\"database\"]+\"`.\"+tableName)\n",
    "        print(\"`\"+dbmap[dbtype][\"increment_database\"]+\"`.\"+tableName)\n",
    "        spark.catalog.refreshTable(\"`\"+dbmap[dbtype][\"database\"]+\"`.\"+tableName)\n",
    "        spark.catalog.refreshTable(\"`\"+dbmap[dbtype][\"increment_database\"]+\"`.\"+tableName)\n",
    "        col=spark.sql(\"desc `\"+dbmap[dbtype][\"increment_database\"]+\"`.\"+tableName).collect()\n",
    "        #     #真正的列,增量的列\n",
    "        real_col,snapshot_col=getTableColum(col,update_snapshot_table,dbtype,tableName)\n",
    "        sql=copy.copy(sqltemp)\n",
    "        real_sql=sql.format(increment_database=dbmap[dbtype][\"increment_database\"],tableNm=tableName,nowdate=nowdate,select_sql=real_col.format(update_snapshot_table=update_snapshot_table),update_snapshot_sql=snapshot_col.format(update_snapshot_table=update_snapshot_table),database=dbmap[dbtype][\"database\"],yesterday=yesterday,update_snapshot_table=update_snapshot_table,hmac_key=hmac_key)\n",
    "        print(real_sql)\n",
    "                df=spark.sql(real_sql).drop(\"etlindex\")\n",
    "        if colmap.get(dbtype)!=None and colmap[dbtype].get(tableName)!=None :\n",
    "            for i in colmap[dbtype][tableName]:\n",
    "                df=df.withColumn(\"col_x\",F.col(i+\"_x\")).withColumn(i+\"_x\",F.col(i)).withColumn(i,F.col(\"col_x\"))\n",
    "        if colmap[\"extraColumn\"]!=None and colmap[\"extraColumn\"].get(dbtype)!=None and colmap[\"extraColumn\"][dbtype].get(tableName)!=None and len(colmap[\"extraColumn\"][dbtype][tableName])>0:\n",
    "            colmap[\"extraColumn\"][dbtype][tableName].insert(0,\"*\")\n",
    "            df=df.selectExpr(colmap[\"extraColumn\"][dbtype][tableName])\n",
    "            df=df.withColumn(\"year_new\",F.col(\"year\")).drop(\"year\").withColumnRenamed(\"year_new\",\"year\")\n",
    "        df.drop(\"col_x\").write.option(\"path\", \"s3://rupiahplus-data-warehouse/stream/etl_s3_temp/\"+dbtype+\"_\"+tableName).mode(\"overwrite\").partitionBy(\"year\").format(\"orc\").saveAsTable(\"etl_s3_temp.\"+dbtype+\"_\"+tableName);\n",
    "        tablepath='s3://rupiahplus-data-warehouse/aliyun/'+dbmap[dbtype][\"realTime_path\"]+'/'+tableName+\"/\"\n",
    "        print(spark.sql(\"select  * from  \"+\"etl_s3_temp.\"+dbtype+\"_\"+tableName).count())\n",
    "        spark.sql(\"select  * from  \"+\"etl_s3_temp.\"+dbtype+\"_\"+tableName).write.mode(\"overwrite\").partitionBy(\"year\").orc(tablepath)\n",
    "if __name__ == \"builtins\":\n",
    "    print(\"start-----\",datetime.now())\n",
    "    for dbtype in dbmap:\n",
    "        databasesql=\"show tables in \"+dbmap[dbtype][\"increment_database\"]\n",
    "        tables=spark.sql(databasesql)\n",
    "        tablelist=tables.collect();\n",
    "    #         for row in tablelist:\n",
    "        executor=None\n",
    "        with futures.ThreadPoolExecutor(max_workers=10) as executor:\n",
    "            futures_result=futures.wait([executor.submit(execute, table,dbtype) for table in tablelist])\n",
    "            for  future in futures_result[0]:\n",
    "                print(future.result())\n",
    "                print(\"end-----\",datetime.now())"
   ]
  },
  {
   "cell_type": "code",
   "execution_count": 1,
   "metadata": {},
   "outputs": [
    {
     "data": {
      "application/vnd.jupyter.widget-view+json": {
       "model_id": "bfa3766ed6f2451aa7adb78266a01a7e",
       "version_major": 2,
       "version_minor": 0
      },
      "text/plain": [
       "VBox()"
      ]
     },
     "metadata": {},
     "output_type": "display_data"
    },
    {
     "name": "stdout",
     "output_type": "stream",
     "text": [
      "Starting Spark application\n"
     ]
    },
    {
     "data": {
      "text/html": [
       "<table>\n",
       "<tr><th>ID</th><th>YARN Application ID</th><th>Kind</th><th>State</th><th>Spark UI</th><th>Driver log</th><th>Current session?</th></tr><tr><td>8</td><td>application_1623207252752_0009</td><td>pyspark</td><td>idle</td><td><a target=\"_blank\" href=\"http://ip-10-3-0-27.ap-southeast-1.compute.internal:20888/proxy/application_1623207252752_0009/\">Link</a></td><td><a target=\"_blank\" href=\"http://ip-10-3-0-117.ap-southeast-1.compute.internal:8042/node/containerlogs/container_1623207252752_0009_01_000001/livy\">Link</a></td><td>✔</td></tr></table>"
      ],
      "text/plain": [
       "<IPython.core.display.HTML object>"
      ]
     },
     "metadata": {},
     "output_type": "display_data"
    },
    {
     "data": {
      "application/vnd.jupyter.widget-view+json": {
       "model_id": "",
       "version_major": 2,
       "version_minor": 0
      },
      "text/plain": [
       "FloatProgress(value=0.0, bar_style='info', description='Progress:', layout=Layout(height='25px', width='50%'),…"
      ]
     },
     "metadata": {},
     "output_type": "display_data"
    },
    {
     "name": "stdout",
     "output_type": "stream",
     "text": [
      "SparkSession available as 'spark'.\n"
     ]
    },
    {
     "data": {
      "application/vnd.jupyter.widget-view+json": {
       "model_id": "",
       "version_major": 2,
       "version_minor": 0
      },
      "text/plain": [
       "FloatProgress(value=0.0, bar_style='info', description='Progress:', layout=Layout(height='25px', width='50%'),…"
      ]
     },
     "metadata": {},
     "output_type": "display_data"
    },
    {
     "name": "stdout",
     "output_type": "stream",
     "text": [
      "+--------------------+--------+--------------------+-----------+--------+--------------------+----------------+-------------+-------+-------------+------+--------------+--------------------+--------------------+--------+--------------------+--------------------+--------------------+----------------+-------------+----+\n",
      "|             etldate|      id|       riskengine_id|customer_id| loan_id|                name|             ktp|       mobile|success|error_message|result|reject_message|         create_time|         finish_time|duration|         real_policy|switch_manual_reason|            raw_data|           ktp_x|     mobile_x|year|\n",
      "+--------------------+--------+--------------------+-----------+--------+--------------------+----------------+-------------+-------+-------------+------+--------------+--------------------+--------------------+--------+--------------------+--------------------+--------------------+----------------+-------------+----+\n",
      "|2021-06-09 07:56:...|20925995|ce92deb5-d045-5af...|    5261007|12071719|        Dani Maulana|3277011510930011| 081779291001|   true|         null|  PASS|          null|2021-06-09 07:56:...|2021-06-09 07:56:...|    7585|     allow_to_access|                null|TaskDetail(taskId...|3277011510930011| 081779291001|2021|\n",
      "|2021-06-09 07:56:...|20925968|150d8db8-e8ef-549...|    5770730|12072261|         Siti rohaya|6171124707770010| 081367680719|   true|         null|  PASS|          null|2021-06-09 07:55:...|2021-06-09 07:56:...|    5775|     allow_to_access|                null|TaskDetail(taskId...|6171124707770010| 081367680719|2021|\n",
      "|2021-06-09 07:55:...|20925951|e4673bce-4e5f-522...|    5770931|12072253|      Rohmat Hidayat|3305122605940004| 085747265176|   true|         null|  PASS|          null|2021-06-09 07:55:...|2021-06-09 07:55:...|    5786|     allow_to_access|                null|TaskDetail(taskId...|3305122605940004| 085747265176|2021|\n",
      "|2021-06-09 07:55:...|20925964|a876c16f-d858-5e5...|    4446888|12072258|               Andri|3671092812770002| 089674713966|   true|         null|  PASS|          null|2021-06-09 07:55:...|2021-06-09 07:55:...|    6523|     allow_to_access|                null|TaskDetail(taskId...|3671092812770002| 089674713966|2021|\n",
      "|2021-06-09 07:56:...|20925985|e907efd4-285e-55f...|    4395463|12071705|    FADLIATUN NUZULA|3578155206950007| 089675812912|   true|         null|  PASS|          null|2021-06-09 07:56:...|2021-06-09 07:56:...|   55048|multiplatform_and...|                null|TaskDetail(taskId...|3578155206950007| 089675812912|2021|\n",
      "|2021-06-09 07:56:...|20925957|2329f7ff-ce8d-5c3...|    5650279|12072256|Fajar septian ari...|3308090609890004| 085828725355|   true|         null|  PASS|          null|2021-06-09 07:55:...|2021-06-09 07:56:...|   38887|multiplatform_and...|                null|TaskDetail(taskId...|3308090609890004| 085828725355|2021|\n",
      "|2021-06-09 07:56:...|20925984|1b257c19-9e7b-59a...|    2168460|12071708|desiyana nathalia...|1871016609820006| 081392014200|   true|         null|  PASS|          null|2021-06-09 07:56:...|2021-06-09 07:56:...|   46447|multiplatform_and...|                null|TaskDetail(taskId...|1871016609820006| 081392014200|2021|\n",
      "|2021-06-09 07:56:...|20925979|550c212f-5055-57e...|    4140608|12071693|RAVINDRA AROFAIZU...|3215032910970002| 089507116557|   true|         null|  PASS|          null|2021-06-09 07:56:...|2021-06-09 07:56:...|   29248|multiplatform_and...|                null|TaskDetail(taskId...|3215032910970002| 089507116557|2021|\n",
      "|2021-06-09 07:56:...|20925972|73136abc-02f5-57e...|    5442635|12071688|Yupita Mariana Ma...|2171096603999008| 081363133647|   true|         null|  PASS|          null|2021-06-09 07:56:...|2021-06-09 07:56:...|   15051|multiplatform_and...|                null|TaskDetail(taskId...|2171096603999008| 081363133647|2021|\n",
      "|2021-06-09 07:56:...|20925987|74efb249-5afb-5d8...|    5077483|12071712|ARI MARDIANA AFRI...|3529015504830008| 087826549484|   true|         null|REJECT|          null|2021-06-09 07:56:...|2021-06-09 07:56:...|    8451|multiplatform_and...|                null|TaskDetail(taskId...|3529015504830008| 087826549484|2021|\n",
      "|2021-06-09 07:56:...|20925997|b47e5107-2fe0-5e5...|    5309947|12069675|      Esti apriyanti|3271066904920011|0895414801338|   true|         null|REJECT|          null|2021-06-09 07:56:...|2021-06-09 07:56:...|    9765|multiplatform_and...|                null|TaskDetail(taskId...|3271066904920011|0895414801338|2021|\n",
      "|2021-06-09 07:55:...|20925943|5e91b711-3e25-5b0...|    4109471|12072250|             pepania|3201334606970003| 089516745940|   true|         null|REJECT|          null|2021-06-09 07:55:...|2021-06-09 07:55:...|   11029|     allow_to_access|                null|TaskDetail(taskId...|3201334606970003| 089516745940|2021|\n",
      "|2021-06-09 07:55:...|20925949|61ddc22c-e38d-5af...|    5770940|12072248|    Moh. Insan Tohir|3601062707940004| 089524556277|   true|         null|REJECT|          null|2021-06-09 07:55:...|2021-06-09 07:55:...|   36588|multiplatform_and...|                null|TaskDetail(taskId...|3601062707940004| 089524556277|2021|\n",
      "|2021-06-09 07:56:...|20925970|e29b9b46-4bca-5fb...|    5769953|12069612|              Vendra|1471101706880003| 081268065342|   true|         null|  PASS|          null|2021-06-09 07:56:...|2021-06-09 07:56:...|     218|   autoreview_payday|                null|TaskDetail(taskId...|1471101706880003| 081268065342|2021|\n",
      "|2021-06-09 07:56:...|20925989|5bd182cc-1996-512...|    5769953|12069612|              Vendra|1471101706880003| 081268065342|   true|         null|REJECT|          null|2021-06-09 07:56:...|2021-06-09 07:56:...|   10326|multiplatform_and...|                null|TaskDetail(taskId...|1471101706880003| 081268065342|2021|\n",
      "|2021-06-09 07:55:...|20925955|824125bb-c332-50b...|    4149648|12072236|kevin maulana muc...|3174061610780010| 081298890088|   true|         null|  PASS|          null|2021-06-09 07:55:...|2021-06-09 07:55:...|   10142|repayday_amount_s...|                null|{\"minAmount\":\"400...|3174061610780010| 081298890088|2021|\n",
      "|2021-06-09 07:56:...|20925981|562c7b08-56b1-549...|    5168721|12071700|Adrian Robert Okt...|7106050510880002| 081251588282|   true|         null|REJECT|          null|2021-06-09 07:56:...|2021-06-09 07:56:...|   10210|multiplatform_and...|                null|TaskDetail(taskId...|7106050510880002| 081251588282|2021|\n",
      "|2021-06-09 07:55:...|20925961|af2bba9d-7d40-52c...|    5770967|12072255|Ida Bagus Putra S...|5171041302910003|  08990167014|   true|         null|  PASS|          null|2021-06-09 07:55:...|2021-06-09 07:55:...|     301|   autoreview_payday|                null|TaskDetail(taskId...|5171041302910003|  08990167014|2021|\n",
      "|2021-06-09 07:55:...|20925944|a5ffdbe2-ac95-526...|    1145189|12072251|        DEVITA PURBA|3173065003911001| 082261659996|   true|         null|REJECT|          null|2021-06-09 07:55:...|2021-06-09 07:55:...|    7914|     allow_to_access|                null|TaskDetail(taskId...|3173065003911001| 082261659996|2021|\n",
      "|2021-06-09 07:56:...|20925996|aa9427cd-bafa-5e0...|    5666391|12072263|     putri anggraini|1207025111960002| 087748482295|   true|         null|  PASS|          null|2021-06-09 07:56:...|2021-06-09 07:56:...|   11716|multiplatform_and...|                null|TaskDetail(taskId...|1207025111960002| 087748482295|2021|\n",
      "|2021-06-09 07:56:...|20925988|91f235fa-86cf-55c...|    5480389|12071713|    Puji Suciati nur|3201074910900019| 081314844494|   true|         null|REJECT|          null|2021-06-09 07:56:...|2021-06-09 07:56:...|    6451|multiplatform_and...|                null|TaskDetail(taskId...|3201074910900019| 081314844494|2021|\n",
      "|2021-06-09 07:55:...|20925953|55f4b8e2-80d8-5fe...|    4344977|12072237|        Euis homisah|3208096708920001| 081224325319|   true|         null|  PASS|          null|2021-06-09 07:55:...|2021-06-09 07:55:...|    9946|repayday_amount_s...|                null|{\"minAmount\":\"400...|3208096708920001| 081224325319|2021|\n",
      "|2021-06-09 07:55:...|20925954|7aab296b-3f5f-5e7...|    5770967|12072255|Ida Bagus Putra S...|5171041302910003|  08990167014|   true|         null|  PASS|          null|2021-06-09 07:55:...|2021-06-09 07:55:...|    6269|     allow_to_access|                null|TaskDetail(taskId...|5171041302910003|  08990167014|2021|\n",
      "|2021-06-09 07:56:...|20925982|cce0d55b-a5b3-53e...|    5299476|12071704|       Lia andriyani|3273104607880005| 089512778790|   true|         null|  PASS|          null|2021-06-09 07:56:...|2021-06-09 07:56:...|   26739|multiplatform_and...|                null|TaskDetail(taskId...|3273104607880005| 089512778790|2021|\n",
      "|2021-06-09 07:56:...|20925966|4ae2e61a-0b8f-5f8...|    4739470|12072259|      Summa Hardiyan|3174090309930002| 081310989450|   true|         null|REJECT|          null|2021-06-09 07:55:...|2021-06-09 07:56:...|   11983|     allow_to_access|                null|TaskDetail(taskId...|3174090309930002| 081310989450|2021|\n",
      "|2021-06-09 07:56:...|20925977|5978e3ec-2594-534...|    5133067|12071695|  Vera Prifatamasari|3371025004900001| 081228058457|   true|         null|  PASS|          null|2021-06-09 07:56:...|2021-06-09 07:56:...|   20724|multiplatform_and...|                null|TaskDetail(taskId...|3371025004900001| 081228058457|2021|\n",
      "|2021-06-09 07:56:...|20925990|f6eb5b77-c4ce-5cf...|    5770706|12071714|      MARDIATI RAMBU|5313036409980002| 082144817092|   true|         null|REJECT|          null|2021-06-09 07:56:...|2021-06-09 07:56:...|    6795|     allow_to_access|                null|TaskDetail(taskId...|5313036409980002| 082144817092|2021|\n",
      "|2021-06-09 07:56:...|20925993|3f21933e-40d7-575...|    5770712|12071716|   Ning Suci Pakarti|3312125504550001| 081226184737|   true|         null|REJECT|          null|2021-06-09 07:56:...|2021-06-09 07:56:...|    6936|     allow_to_access|                null|TaskDetail(taskId...|3312125504550001| 081226184737|2021|\n",
      "|2021-06-09 07:55:...|20925959|60d6fc1e-c954-503...|    4258616|12072232|       Salma. S. Sos|7305035805830003| 082344686996|   true|         null|  PASS|          null|2021-06-09 07:55:...|2021-06-09 07:55:...|    8842|repayday_amount_s...|                null|{\"minAmount\":\"400...|7305035805830003| 082344686996|2021|\n",
      "|2021-06-09 07:55:...|20925958|54618010-2ed3-575...|    5770967|12072255|Ida Bagus Putra S...|5171041302910003|  08990167014|   true|         null|  PASS|          null|2021-06-09 07:55:...|2021-06-09 07:55:...|    9007|      manual_if_fail|                null|TaskDetail(taskId...|5171041302910003|  08990167014|2021|\n",
      "|2021-06-09 07:56:...|20925983|408ed826-9117-56f...|    4113072|12071696|       nia suniarsih|3175047011810008| 081915838233|   true|         null|  PASS|          null|2021-06-09 07:56:...|2021-06-09 07:56:...|   30556|multiplatform_and...|                null|TaskDetail(taskId...|3175047011810008| 081915838233|2021|\n",
      "|2021-06-09 07:56:...|20925991|7465b8ed-cce8-54c...|    5767586|12072262|             Yunarni|3201014607800026|  08878878323|   true|         null|  PASS|          null|2021-06-09 07:56:...|2021-06-09 07:56:...|    8927|     allow_to_access|                null|TaskDetail(taskId...|3201014607800026|  08878878323|2021|\n",
      "|2021-06-09 07:56:...|20925975|f1039e12-d05b-57f...|    4922479|12071645|         Dwi wahyuni|3525146401830004|  08961746610|   true|         null|  PASS|          null|2021-06-09 07:56:...|2021-06-09 07:56:...|   47159|multiplatform_and...|                null|TaskDetail(taskId...|3525146401830004|  08961746610|2021|\n",
      "|2021-06-09 07:55:...|20925945|288c992b-a8bb-556...|    5770548|12072223|        Luki septian|3215142209000004| 085882954541|   true|         null|  PASS|          null|2021-06-09 07:55:...|2021-06-09 07:55:...|     650|payday_amount_sco...|                null|{\"level\":\"1.0\",\"m...|3215142209000004| 085882954541|2021|\n",
      "|2021-06-09 07:55:...|20925946|2f3b3266-14c0-591...|    5770548|12072223|        Luki septian|3215142209000004| 085882954541|   true|         null|  PASS|          null|2021-06-09 07:55:...|2021-06-09 07:55:...|     345|id_ada_transactio...|                null|TaskDetail(taskId...|3215142209000004| 085882954541|2021|\n",
      "|2021-06-09 07:57:...|20925978|8eeb2444-9e0a-505...|    5356066|12071646|    Dwi Septi Rosita|3213034309860001| 085721602986|   true|         null|  PASS|          null|2021-06-09 07:56:...|2021-06-09 07:57:...|   61031|multiplatform_and...|                null|TaskDetail(taskId...|3213034309860001| 085721602986|2021|\n",
      "|2021-06-09 07:56:...|20925986|1c1110cb-d373-550...|    5742534|12071709|Tina meri napitupulu|1403095311916861| 082284494347|   true|         null|  PASS|          null|2021-06-09 07:56:...|2021-06-09 07:56:...|   10647|multiplatform_and...|                null|TaskDetail(taskId...|1403095311916861| 082284494347|2021|\n",
      "|2021-06-09 07:56:...|20925969|a2eba9a3-23dd-56d...|    5732216|12066311|Clara sinta silvi...|3309116705960002| 089649428953|   true|         null|  PASS|          null|2021-06-09 07:56:...|2021-06-09 07:56:...|    6470|repayday_amount_s...|                null|{\"minAmount\":\"400...|3309116705960002| 089649428953|2021|\n",
      "|2021-06-09 07:56:...|20925994|4134c6cd-23e4-5a9...|    5483311|12071718|       Achmad Gajali|1218021410920008| 085272034889|   true|         null|  PASS|          null|2021-06-09 07:56:...|2021-06-09 07:56:...|   12682|     allow_to_access|                null|TaskDetail(taskId...|1218021410920008| 085272034889|2021|\n",
      "|2021-06-09 07:56:...|20925962|bd11440d-d486-584...|    5770967|12072255|Ida Bagus Putra S...|5171041302910003|  08990167014|   true|         null|  PASS|          null|2021-06-09 07:55:...|2021-06-09 07:56:...|   42037|multiplatform_and...|                null|TaskDetail(taskId...|5171041302910003|  08990167014|2021|\n",
      "|2021-06-09 07:55:...|20925948|e5f9739d-dae9-579...|    5770940|12072248|    Moh. Insan Tohir|3601062707940004| 089524556277|   true|         null|  PASS|          null|2021-06-09 07:55:...|2021-06-09 07:55:...|     282|   autoreview_payday|                null|TaskDetail(taskId...|3601062707940004| 089524556277|2021|\n",
      "|2021-06-09 07:56:...|20925999|892e21cb-0c4f-557...|    4446888|12072258|               Andri|3671092812770002| 089674713966|   true|         null|  PASS|          null|2021-06-09 07:56:...|2021-06-09 07:56:...|     274|   autoreview_payday|                null|TaskDetail(taskId...|3671092812770002| 089674713966|2021|\n",
      "|2021-06-09 07:56:...|20925971|9cfd3361-ed99-578...|    4879331|12068618|        Ahmad sopian|3215011504010002| 081291763760|   true|         null|  PASS|          null|2021-06-09 07:56:...|2021-06-09 07:56:...|   43186|multiplatform_and...|                null|TaskDetail(taskId...|3215011504010002| 081291763760|2021|\n",
      "|2021-06-09 07:56:...|20925952|c8a1e455-a71b-580...|    4464309|12072254|         Eja Kartika|3276035212840004| 082210139776|   true|         null|  PASS|          null|2021-06-09 07:55:...|2021-06-09 07:56:...|   41173|multiplatform_and...|                null|TaskDetail(taskId...|3276035212840004| 082210139776|2021|\n",
      "|2021-06-09 07:55:...|20925950|0dcbf54d-09af-5c0...|    3842007|12072222| Angga Prastya Marta|3515021604930001| 082131442879|   true|         null|  PASS|          null|2021-06-09 07:55:...|2021-06-09 07:55:...|    8713|repayday_amount_s...|                null|{\"minAmount\":\"400...|3515021604930001| 082131442879|2021|\n",
      "|2021-06-09 07:55:...|20925941|eb020a65-89b9-541...|    5770940|12072248|    Moh. Insan Tohir|3601062707940004| 089524556277|   true|         null|  PASS|          null|2021-06-09 07:55:...|2021-06-09 07:55:...|    8701|      manual_if_fail|                null|TaskDetail(taskId...|3601062707940004| 089524556277|2021|\n",
      "|2021-06-09 07:56:...|20925998|552138f3-957f-5b9...|    5632988|12072264|              RUSTAN|6474021005720011| 081348125925|   true|         null|  PASS|          null|2021-06-09 07:56:...|2021-06-09 07:56:...|   33873|multiplatform_and...|                null|TaskDetail(taskId...|6474021005720011| 081348125925|2021|\n",
      "|2021-06-09 07:56:...|20925965|cd3e5f09-d54b-5da...|    4446888|12072258|               Andri|3671092812770002| 089674713966|   true|         null|  PASS|          null|2021-06-09 07:55:...|2021-06-09 07:56:...|    8233|      manual_if_fail|                null|TaskDetail(taskId...|3671092812770002| 089674713966|2021|\n",
      "|2021-06-09 07:56:...|20925973|8cbab2fa-be1b-59c...|    5309947|12069675|      Esti apriyanti|3271066904920011|0895414801338|   true|         null|  PASS|          null|2021-06-09 07:56:...|2021-06-09 07:56:...|     439|   autoreview_payday|                null|TaskDetail(taskId...|3271066904920011|0895414801338|2021|\n",
      "|2021-06-09 07:56:...|20925974|18c7d1b0-95ea-5c0...|    5130172|12071689|      SURYANTO BARUS|2171032912890003| 081266960842|   true|         null|  PASS|          null|2021-06-09 07:56:...|2021-06-09 07:56:...|   19630|multiplatform_and...|                null|TaskDetail(taskId...|2171032912890003| 081266960842|2021|\n",
      "|2021-06-09 07:55:...|20925960|8344e16e-7430-57e...|    5505519|12072234|    Donna Meliandani|3301145305770005| 081327731525|   true|         null|  PASS|          null|2021-06-09 07:55:...|2021-06-09 07:55:...|    8874|repayday_amount_s...|                null|{\"minAmount\":\"400...|3301145305770005| 081327731525|2021|\n",
      "|2021-06-09 07:55:...|20925963|7a0bf161-6c94-576...|    5770968|12072257|          Dea rizkya|3204282412960013| 082111829852|   true|         null|REJECT|          null|2021-06-09 07:55:...|2021-06-09 07:55:...|    6305|     allow_to_access|                null|TaskDetail(taskId...|3204282412960013| 082111829852|2021|\n",
      "|2021-06-09 07:56:...|20925956|01100ce8-1143-5c6...|    5770931|12072253|      Rohmat Hidayat|3305122605940004| 085747265176|   true|         null|  PASS|          null|2021-06-09 07:55:...|2021-06-09 07:56:...|   57756|      manual_if_fail|                null|TaskDetail(taskId...|3305122605940004| 085747265176|2021|\n",
      "|2021-06-09 07:55:...|20925942|436b0e5c-4476-5b1...|    5087329|12072204|       Nina Karliana|3273117003890003| 082316596330|   true|         null|  PASS|          null|2021-06-09 07:55:...|2021-06-09 07:55:...|     582|id_ada_transactio...|                null|TaskDetail(taskId...|3273117003890003| 082316596330|2021|\n",
      "|2021-06-09 07:56:...|20925980|f960016e-373c-57e...|    5487716|12071697|      Yolanda Tjialy|7171086001850003| 082198964396|   true|         null|  PASS|          null|2021-06-09 07:56:...|2021-06-09 07:56:...|   32169|multiplatform_and...|                null|TaskDetail(taskId...|7171086001850003| 082198964396|2021|\n",
      "|2021-06-09 07:56:...|20925992|9c6e38ae-0106-500...|    5575771|12071715|              Saiman|3302012807970001| 082241185136|   true|         null|  PASS|          null|2021-06-09 07:56:...|2021-06-09 07:56:...|   26709|multiplatform_and...|                null|TaskDetail(taskId...|3302012807970001| 082241185136|2021|\n",
      "|2021-06-09 07:55:...|20925947|91230863-dba9-55d...|    3687271|12072252|         Novi astria|3302026211950001| 082114895475|   true|         null|REJECT|          null|2021-06-09 07:55:...|2021-06-09 07:55:...|    6380|     allow_to_access|                null|TaskDetail(taskId...|3302026211950001| 082114895475|2021|\n",
      "|2021-06-09 07:56:...|20925967|3c74fda8-641b-59f...|    5770092|12072260|Oktavian aditya p...|3502142210980001| 087761812918|   true|         null|  PASS|          null|2021-06-09 07:55:...|2021-06-09 07:56:...|    7041|     allow_to_access|                null|TaskDetail(taskId...|3502142210980001| 087761812918|2021|\n",
      "|2021-06-09 07:56:...|20925976|de6ea76e-ff53-534...|     317226|12071654|MUHAMAD RACHMAT R...|3273200209930010| 081222727578|   true|         null|REJECT|          null|2021-06-09 07:56:...|2021-06-09 07:56:...|    9005|     allow_to_access|                null|TaskDetail(taskId...|3273200209930010| 081222727578|2021|\n",
      "+--------------------+--------+--------------------+-----------+--------+--------------------+----------------+-------------+-------+-------------+------+--------------+--------------------+--------------------+--------+--------------------+--------------------+--------------------+----------------+-------------+----+"
     ]
    }
   ],
   "source": [
    "spark.sql(\"\"\"\n",
    "with update_snapshot_banda_t_auto_review_loan as (\n",
    "  select *\n",
    "    from (\n",
    "      SELECT * ,\n",
    "         row_number() OVER (PARTITION BY id ORDER BY date_format(etldate,'yyyy-MM-dd HH:mm:ss.SSS') DESC, if(etlindex is NULL, 0, etlindex) desc) row_num\n",
    "         FROM `banda_stream_etl`.`t_auto_review_loan`\n",
    "         where date(year || '-' || month || '-' || day) <=date('2021-06-09') and date(year || '-' || month || '-' || day) >= date('2021-06-08')\n",
    "          and etldate <= date_format(now(), 'yyyy-MM-dd hh:00:00.000')\n",
    "     )\n",
    "    where row_num = 1\n",
    "    and id>20925940 and id < 20926000\n",
    "  )\n",
    "select  if(update_snapshot_banda_t_auto_review_loan.id is null, l.etldate     , update_snapshot_banda_t_auto_review_loan.etldate)  etldate ,if(update_snapshot_banda_t_auto_review_loan.id is null, l.id     , update_snapshot_banda_t_auto_review_loan.id)  id ,if(update_snapshot_banda_t_auto_review_loan.id is null, l.riskengine_id     , update_snapshot_banda_t_auto_review_loan.riskengine_id)  riskengine_id ,if(update_snapshot_banda_t_auto_review_loan.id is null, l.customer_id     , update_snapshot_banda_t_auto_review_loan.customer_id)  customer_id ,if(update_snapshot_banda_t_auto_review_loan.id is null, l.loan_id     , update_snapshot_banda_t_auto_review_loan.loan_id)  loan_id ,if(update_snapshot_banda_t_auto_review_loan.id is null, l.name     , update_snapshot_banda_t_auto_review_loan.name)  name ,if(update_snapshot_banda_t_auto_review_loan.id is null, l.ktp_x     , update_snapshot_banda_t_auto_review_loan.ktp)  ktp ,if(update_snapshot_banda_t_auto_review_loan.id is null, l.mobile_x     , update_snapshot_banda_t_auto_review_loan.mobile)  mobile ,if(update_snapshot_banda_t_auto_review_loan.id is null, l.success     , update_snapshot_banda_t_auto_review_loan.success)  success ,if(update_snapshot_banda_t_auto_review_loan.id is null, l.error_message     , update_snapshot_banda_t_auto_review_loan.error_message)  error_message ,if(update_snapshot_banda_t_auto_review_loan.id is null, l.result     , update_snapshot_banda_t_auto_review_loan.result)  result ,if(update_snapshot_banda_t_auto_review_loan.id is null, l.reject_message     , update_snapshot_banda_t_auto_review_loan.reject_message)  reject_message ,if(update_snapshot_banda_t_auto_review_loan.id is null, l.create_time     , update_snapshot_banda_t_auto_review_loan.create_time)  create_time ,if(update_snapshot_banda_t_auto_review_loan.id is null, l.finish_time     , update_snapshot_banda_t_auto_review_loan.finish_time)  finish_time ,if(update_snapshot_banda_t_auto_review_loan.id is null, l.duration     , update_snapshot_banda_t_auto_review_loan.duration)  duration ,if(update_snapshot_banda_t_auto_review_loan.id is null, l.real_policy     , update_snapshot_banda_t_auto_review_loan.real_policy)  real_policy ,if(update_snapshot_banda_t_auto_review_loan.id is null, l.switch_manual_reason     , update_snapshot_banda_t_auto_review_loan.switch_manual_reason)  switch_manual_reason ,if(update_snapshot_banda_t_auto_review_loan.id is null, l.raw_data     , update_snapshot_banda_t_auto_review_loan.raw_data)  raw_data , if(update_snapshot_banda_t_auto_review_loan.id is null, l.ktp     , update_snapshot_banda_t_auto_review_loan.ktp ) ktp_x ,  if(update_snapshot_banda_t_auto_review_loan.id is null, l.mobile     , update_snapshot_banda_t_auto_review_loan.mobile  )mobile_x , if(update_snapshot_banda_t_auto_review_loan.id is null, l.year     , update_snapshot_banda_t_auto_review_loan.year)  year \n",
    "from `banda-etl-s3`.`t_auto_review_loan` l\n",
    "left join update_snapshot_banda_t_auto_review_loan\n",
    "on l.id = update_snapshot_banda_t_auto_review_loan.id\n",
    "where if(update_snapshot_banda_t_auto_review_loan.kind is not null,update_snapshot_banda_t_auto_review_loan.kind,'') <> 'delete'\n",
    "and l.id=2091985111111111111\n",
    "union\n",
    "select update_snapshot_banda_t_auto_review_loan.etldate ,update_snapshot_banda_t_auto_review_loan.id ,update_snapshot_banda_t_auto_review_loan.riskengine_id ,update_snapshot_banda_t_auto_review_loan.customer_id ,update_snapshot_banda_t_auto_review_loan.loan_id ,update_snapshot_banda_t_auto_review_loan.name ,update_snapshot_banda_t_auto_review_loan.ktp ,update_snapshot_banda_t_auto_review_loan.mobile ,update_snapshot_banda_t_auto_review_loan.success ,update_snapshot_banda_t_auto_review_loan.error_message ,update_snapshot_banda_t_auto_review_loan.result ,update_snapshot_banda_t_auto_review_loan.reject_message ,update_snapshot_banda_t_auto_review_loan.create_time ,update_snapshot_banda_t_auto_review_loan.finish_time ,update_snapshot_banda_t_auto_review_loan.duration ,update_snapshot_banda_t_auto_review_loan.real_policy ,update_snapshot_banda_t_auto_review_loan.switch_manual_reason ,update_snapshot_banda_t_auto_review_loan.raw_data ,update_snapshot_banda_t_auto_review_loan.ktp ktp_x , update_snapshot_banda_t_auto_review_loan.mobile mobile_x ,update_snapshot_banda_t_auto_review_loan.year from (\n",
    "  select *\n",
    "  from `banda_stream_etl`.`t_auto_review_loan`\n",
    "  where\n",
    "    date(year || '-' || month || '-' || day) <=date('2021-06-09') and date(year || '-' || month || '-' || day) >= date('2021-06-08')\n",
    "    and kind = 'insert'\n",
    "  ) new\n",
    "left join update_snapshot_banda_t_auto_review_loan\n",
    "on new.id = update_snapshot_banda_t_auto_review_loan.id where if(update_snapshot_banda_t_auto_review_loan.kind is not null,update_snapshot_banda_t_auto_review_loan.kind,'') <> 'delete' \n",
    "and new.id>20925940  and new.id< 20926000\n",
    "\"\"\").show(100)"
   ]
  },
  {
   "cell_type": "code",
   "execution_count": null,
   "metadata": {},
   "outputs": [],
   "source": []
  },
  {
   "cell_type": "code",
   "execution_count": 1,
   "metadata": {},
   "outputs": [
    {
     "data": {
      "application/vnd.jupyter.widget-view+json": {
       "model_id": "421fcd5656e641da96d61bce5b80fb56",
       "version_major": 2,
       "version_minor": 0
      },
      "text/plain": [
       "VBox()"
      ]
     },
     "metadata": {},
     "output_type": "display_data"
    },
    {
     "name": "stdout",
     "output_type": "stream",
     "text": [
      "Starting Spark application\n"
     ]
    },
    {
     "data": {
      "text/html": [
       "<table>\n",
       "<tr><th>ID</th><th>YARN Application ID</th><th>Kind</th><th>State</th><th>Spark UI</th><th>Driver log</th><th>Current session?</th></tr><tr><td>7</td><td>application_1623207252752_0008</td><td>pyspark</td><td>idle</td><td><a target=\"_blank\" href=\"http://ip-10-3-0-27.ap-southeast-1.compute.internal:20888/proxy/application_1623207252752_0008/\">Link</a></td><td><a target=\"_blank\" href=\"http://ip-10-3-0-117.ap-southeast-1.compute.internal:8042/node/containerlogs/container_1623207252752_0008_01_000001/livy\">Link</a></td><td>✔</td></tr></table>"
      ],
      "text/plain": [
       "<IPython.core.display.HTML object>"
      ]
     },
     "metadata": {},
     "output_type": "display_data"
    },
    {
     "data": {
      "application/vnd.jupyter.widget-view+json": {
       "model_id": "",
       "version_major": 2,
       "version_minor": 0
      },
      "text/plain": [
       "FloatProgress(value=0.0, bar_style='info', description='Progress:', layout=Layout(height='25px', width='50%'),…"
      ]
     },
     "metadata": {},
     "output_type": "display_data"
    },
    {
     "name": "stdout",
     "output_type": "stream",
     "text": [
      "SparkSession available as 'spark'.\n"
     ]
    },
    {
     "data": {
      "application/vnd.jupyter.widget-view+json": {
       "model_id": "",
       "version_major": 2,
       "version_minor": 0
      },
      "text/plain": [
       "FloatProgress(value=0.0, bar_style='info', description='Progress:', layout=Layout(height='25px', width='50%'),…"
      ]
     },
     "metadata": {},
     "output_type": "display_data"
    },
    {
     "name": "stdout",
     "output_type": "stream",
     "text": [
      "+------+--------------------+--------+--------+--------------------+-----------+--------+------------+----------------+------------+-------+-------------+------+--------------+--------------------+--------------------+--------+--------------------+--------------------+--------------------+----+-----+---+-------+\n",
      "|  kind|             etldate|etlindex|      id|       riskengine_id|customer_id| loan_id|        name|             ktp|      mobile|success|error_message|result|reject_message|         create_time|         finish_time|duration|         real_policy|switch_manual_reason|            raw_data|year|month|day|row_num|\n",
      "+------+--------------------+--------+--------+--------------------+-----------+--------+------------+----------------+------------+-------+-------------+------+--------------+--------------------+--------------------+--------+--------------------+--------------------+--------------------+----+-----+---+-------+\n",
      "|update|2021-06-09 07:55:...|       0|20925945|288c992b-a8bb-556...|    5770548|12072223|Luki septian|3215142209000004|085882954541|   true|         null|  PASS|          null|2021-06-09 07:55:...|2021-06-09 07:55:...|     650|payday_amount_sco...|                null|{\"level\":\"1.0\",\"m...|2021|   06| 09|      1|\n",
      "+------+--------------------+--------+--------+--------------------+-----------+--------+------------+----------------+------------+-------+-------------+------+--------------+--------------------+--------------------+--------+--------------------+--------------------+--------------------+----+-----+---+-------+"
     ]
    }
   ],
   "source": [
    "spark.sql(\"\"\"\n",
    "select *\n",
    "    from (\n",
    "      SELECT * ,\n",
    "         row_number() OVER (PARTITION BY id ORDER BY date_format(etldate,'yyyy-MM-dd HH:mm:ss.SSS') DESC, if(etlindex is NULL, 0, etlindex) desc) row_num\n",
    "         FROM `banda_stream_etl`.`t_auto_review_loan`\n",
    "         where date(year || '-' || month || '-' || day) <=date('2021-06-09') and date(year || '-' || month || '-' || day) >= date('2021-06-08')\n",
    "          and etldate <= date_format(now(), 'yyyy-MM-dd hh:00:00.000')\n",
    "     )\n",
    "    where row_num = 1\n",
    "    and id=20925945\n",
    "\"\"\").show()\n",
    "\n",
    "\n",
    "\n"
   ]
  },
  {
   "cell_type": "code",
   "execution_count": 4,
   "metadata": {},
   "outputs": [
    {
     "data": {
      "application/vnd.jupyter.widget-view+json": {
       "model_id": "2d0f2a2748ce4deca0516ca273a92c70",
       "version_major": 2,
       "version_minor": 0
      },
      "text/plain": [
       "VBox()"
      ]
     },
     "metadata": {},
     "output_type": "display_data"
    },
    {
     "data": {
      "application/vnd.jupyter.widget-view+json": {
       "model_id": "",
       "version_major": 2,
       "version_minor": 0
      },
      "text/plain": [
       "FloatProgress(value=0.0, bar_style='info', description='Progress:', layout=Layout(height='25px', width='50%'),…"
      ]
     },
     "metadata": {},
     "output_type": "display_data"
    },
    {
     "name": "stdout",
     "output_type": "stream",
     "text": [
      "+---------------------------------------+\n",
      "|to_timestamp('2021-06-09 04:59:19.089')|\n",
      "+---------------------------------------+\n",
      "|2021-06-09 04:59:19.089                |\n",
      "+---------------------------------------+"
     ]
    }
   ],
   "source": [
    "spark.sql(\"\"\"\n",
    "select       and to_timestamp(etldate)< to_timestamp('2021-06-09 05:00:00.000')\n",
    "\"\"\").show(1,False)"
   ]
  },
  {
   "cell_type": "code",
   "execution_count": 1,
   "metadata": {},
   "outputs": [
    {
     "data": {
      "application/vnd.jupyter.widget-view+json": {
       "model_id": "c2294b24ec3d40aa92dd196f520ecd85",
       "version_major": 2,
       "version_minor": 0
      },
      "text/plain": [
       "VBox()"
      ]
     },
     "metadata": {},
     "output_type": "display_data"
    },
    {
     "name": "stdout",
     "output_type": "stream",
     "text": [
      "Starting Spark application\n"
     ]
    },
    {
     "data": {
      "text/html": [
       "<table>\n",
       "<tr><th>ID</th><th>YARN Application ID</th><th>Kind</th><th>State</th><th>Spark UI</th><th>Driver log</th><th>Current session?</th></tr><tr><td>9</td><td>application_1623207252752_0010</td><td>pyspark</td><td>idle</td><td><a target=\"_blank\" href=\"http://ip-10-3-0-27.ap-southeast-1.compute.internal:20888/proxy/application_1623207252752_0010/\">Link</a></td><td><a target=\"_blank\" href=\"http://ip-10-3-0-35.ap-southeast-1.compute.internal:8042/node/containerlogs/container_1623207252752_0010_01_000001/livy\">Link</a></td><td>✔</td></tr></table>"
      ],
      "text/plain": [
       "<IPython.core.display.HTML object>"
      ]
     },
     "metadata": {},
     "output_type": "display_data"
    },
    {
     "data": {
      "application/vnd.jupyter.widget-view+json": {
       "model_id": "",
       "version_major": 2,
       "version_minor": 0
      },
      "text/plain": [
       "FloatProgress(value=0.0, bar_style='info', description='Progress:', layout=Layout(height='25px', width='50%'),…"
      ]
     },
     "metadata": {},
     "output_type": "display_data"
    },
    {
     "name": "stdout",
     "output_type": "stream",
     "text": [
      "SparkSession available as 'spark'.\n"
     ]
    },
    {
     "data": {
      "application/vnd.jupyter.widget-view+json": {
       "model_id": "",
       "version_major": 2,
       "version_minor": 0
      },
      "text/plain": [
       "FloatProgress(value=0.0, bar_style='info', description='Progress:', layout=Layout(height='25px', width='50%'),…"
      ]
     },
     "metadata": {},
     "output_type": "display_data"
    },
    {
     "name": "stdout",
     "output_type": "stream",
     "text": [
      "+--------------------+\n",
      "|               now()|\n",
      "+--------------------+\n",
      "|2021-06-09 10:56:...|\n",
      "+--------------------+"
     ]
    }
   ],
   "source": [
    "spark.sql(\"\"\"Select  now() \"\"\").show()"
   ]
  },
  {
   "cell_type": "code",
   "execution_count": 3,
   "metadata": {},
   "outputs": [
    {
     "data": {
      "application/vnd.jupyter.widget-view+json": {
       "model_id": "4584e1dffef24ec08c15a3f31a46c18a",
       "version_major": 2,
       "version_minor": 0
      },
      "text/plain": [
       "VBox()"
      ]
     },
     "metadata": {},
     "output_type": "display_data"
    },
    {
     "data": {
      "application/vnd.jupyter.widget-view+json": {
       "model_id": "",
       "version_major": 2,
       "version_minor": 0
      },
      "text/plain": [
       "FloatProgress(value=0.0, bar_style='info', description='Progress:', layout=Layout(height='25px', width='50%'),…"
      ]
     },
     "metadata": {},
     "output_type": "display_data"
    }
   ],
   "source": [
    "df=spark.sql(\"\"\"SELECT 1  \"\"\")\n",
    "df.drop(\"col_x\").write.option(\"path\", \"s3://rupiahplus-data-warehouse/stream/etl_s3_temp/aaa_bbb\").mode(\"overwrite\").format(\"orc\").saveAsTable(\"etl_s3_temp.aaa_bbb\");"
   ]
  },
  {
   "cell_type": "code",
   "execution_count": 3,
   "metadata": {},
   "outputs": [
    {
     "data": {
      "application/vnd.jupyter.widget-view+json": {
       "model_id": "0a27c5fade8a430bb51ff8b319b3cbed",
       "version_major": 2,
       "version_minor": 0
      },
      "text/plain": [
       "VBox()"
      ]
     },
     "metadata": {},
     "output_type": "display_data"
    },
    {
     "data": {
      "application/vnd.jupyter.widget-view+json": {
       "model_id": "",
       "version_major": 2,
       "version_minor": 0
      },
      "text/plain": [
       "FloatProgress(value=0.0, bar_style='info', description='Progress:', layout=Layout(height='25px', width='50%'),…"
      ]
     },
     "metadata": {},
     "output_type": "display_data"
    },
    {
     "name": "stdout",
     "output_type": "stream",
     "text": [
      "+---+\n",
      "|  1|\n",
      "+---+\n",
      "|  1|\n",
      "+---+"
     ]
    }
   ],
   "source": [
    "import sys\n",
    "from concurrent import futures\n",
    "import numpy as np\n",
    "from pyspark.sql import SparkSession\n",
    "spark = SparkSession\\\n",
    "    .builder\\\n",
    "    .appName(\"Python Demo\")\\\n",
    "    .config(\"hive.metastore.client.factory.class\", \"com.amazonaws.glue.catalog.metastore.AWSGlueDataCatalogHiveClientFactory\") \\\n",
    "    .config(\"spark.driver.maxResultSize\", \"4g\") \\\n",
    "    .config(\"spark.executor.instances\", \"43\") \\\n",
    "    .enableHiveSupport()\\\n",
    "    .getOrCreate()\n",
    "spark.sql(\"\"\"select 1 \"\"\").show()"
   ]
  },
  {
   "cell_type": "code",
   "execution_count": null,
   "metadata": {},
   "outputs": [],
   "source": []
  }
 ],
 "metadata": {
  "kernelspec": {
   "display_name": "PySpark",
   "language": "",
   "name": "pysparkkernel"
  },
  "language_info": {
   "codemirror_mode": {
    "name": "python",
    "version": 2
   },
   "mimetype": "text/x-python",
   "name": "pyspark",
   "pygments_lexer": "python2"
  }
 },
 "nbformat": 4,
 "nbformat_minor": 4
}
