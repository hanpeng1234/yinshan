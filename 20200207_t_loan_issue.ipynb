{
 "cells": [
  {
   "cell_type": "code",
   "execution_count": 19,
   "metadata": {},
   "outputs": [
    {
     "data": {
      "application/vnd.jupyter.widget-view+json": {
       "model_id": "e3383c5b6a6343e3a982997f32afcf16",
       "version_major": 2,
       "version_minor": 0
      },
      "text/plain": [
       "VBox()"
      ]
     },
     "metadata": {},
     "output_type": "display_data"
    },
    {
     "data": {
      "application/vnd.jupyter.widget-view+json": {
       "model_id": "",
       "version_major": 2,
       "version_minor": 0
      },
      "text/plain": [
       "FloatProgress(value=0.0, bar_style='info', description='Progress:', layout=Layout(height='25px', width='50%'),…"
      ]
     },
     "metadata": {},
     "output_type": "display_data"
    }
   ],
   "source": [
    "df=spark.sql(\"\"\"\n",
    "    select date(now()-interval '1' day) as date,\n",
    "sum(if(a.loan_type !='ROLLOVER',a.amount,0)) as total_issue_amount,sum(b.principal_paid) as total_paid_off_principle,sum(if(a.loan_type !='ROLLOVER',a.amount,0))-sum(b.principal_paid) as loan_balance,\n",
    "sum(b.principal_paid + b.interest_paid + b.rollover_fee_paid + b.default_paid + b.default_fee_paid + b.service_fee_paid-b.erase_amount-b.coupon_amount) as total_paid_off_amount,\n",
    "\n",
    "sum(if(a.status in ('CURRENT','OVERDUE','GRACE_PERIOD'),(b.principal_accr + b.interest_accr + b.default_accr + b.default_fee_accr + b.service_fee_accr) -(b.principal_paid + b.interest_paid + b.default_paid + b.default_fee_paid + b.service_fee_paid),0)) as total_outstanding_amount,\n",
    "\n",
    "sum(if(a.status in ('CURRENT'),(b.principal_accr + b.interest_accr + b.default_accr + b.default_fee_accr + b.service_fee_accr) -(b.principal_paid + b.interest_paid + b.default_paid + b.default_fee_paid + b.service_fee_paid),0)) as total_current_amount,\n",
    "sum(if(a.status in ('OVERDUE','GRACE_PERIOD') and datediff(now(),date(b.due_date))>=0 and datediff(now(),date(b.due_date))<=3,(b.principal_accr + b.interest_accr + b.default_accr + b.default_fee_accr + b.service_fee_accr) -(b.principal_paid + b.interest_paid + b.default_paid + b.default_fee_paid + b.service_fee_paid),0)) as overdue_3_amount,\n",
    "sum(if(a.status in ('OVERDUE','GRACE_PERIOD') and datediff(now(),date(b.due_date))>=4 and datediff(now(),date(b.due_date))<=10,(b.principal_accr + b.interest_accr + b.default_accr + b.default_fee_accr + b.service_fee_accr) -(b.principal_paid + b.interest_paid + b.default_paid + b.default_fee_paid + b.service_fee_paid),0)) as overdue_10_amount,\n",
    "sum(if(a.status in ('OVERDUE','GRACE_PERIOD') and datediff(now(),date(b.due_date))>=11 and datediff(now(),date(b.due_date))<=30,(b.principal_accr + b.interest_accr + b.default_accr + b.default_fee_accr + b.service_fee_accr) -(b.principal_paid + b.interest_paid + b.default_paid + b.default_fee_paid + b.service_fee_paid),0)) as overdue_30_amount,\n",
    "sum(if(a.status in ('OVERDUE','GRACE_PERIOD') and datediff(now(),date(b.due_date))>=31 and datediff(now(),date(b.due_date))<=60,(b.principal_accr + b.interest_accr + b.default_accr + b.default_fee_accr + b.service_fee_accr) -(b.principal_paid + b.interest_paid + b.default_paid + b.default_fee_paid + b.service_fee_paid),0)) as overdue_60_amount,\n",
    "sum(if(a.status in ('OVERDUE','GRACE_PERIOD') and datediff(now(),date(b.due_date))>=61 and datediff(now(),date(b.due_date))<=90,(b.principal_accr + b.interest_accr + b.default_accr + b.default_fee_accr + b.service_fee_accr) -(b.principal_paid + b.interest_paid + b.default_paid + b.default_fee_paid + b.service_fee_paid),0)) as overdue_90_amount,\n",
    "sum(if(a.status in ('OVERDUE','GRACE_PERIOD') and datediff(now(),date(b.due_date))>=91,(b.principal_accr + b.interest_accr + b.default_accr + b.default_fee_accr + b.service_fee_accr) -(b.principal_paid + b.interest_paid + b.default_paid + b.default_fee_paid + b.service_fee_paid),0)) as overdue_more_than_90_amount\n",
    "from  `banda-etl-s3`.`t_loan_app` a\n",
    "left  join `banda-etl-s3`.`t_lpay` b\n",
    "on a.id = b.loan_app_id\n",
    "where a.status in ('CURRENT','PAID_OFF','OVERDUE','GRACE_PERIOD') and a.product_name='RUPIAHONE' and a.create_time + interval '7' hour >= date '2019-08-27'\n",
    "\"\"\")\n",
    "df.write.mode(\"append\").orc(\"s3://rupiahplus-data-warehouse/etl/banda/market/loan_banlace_summary\")\n"
   ]
  },
  {
   "cell_type": "code",
   "execution_count": 2,
   "metadata": {},
   "outputs": [
    {
     "data": {
      "application/vnd.jupyter.widget-view+json": {
       "model_id": "27cac4c1937c43aa9fbd58d140af9af2",
       "version_major": 2,
       "version_minor": 0
      },
      "text/plain": [
       "VBox()"
      ]
     },
     "metadata": {},
     "output_type": "display_data"
    },
    {
     "data": {
      "application/vnd.jupyter.widget-view+json": {
       "model_id": "",
       "version_major": 2,
       "version_minor": 0
      },
      "text/plain": [
       "FloatProgress(value=0.0, bar_style='info', description='Progress:', layout=Layout(height='25px', width='50%'),…"
      ]
     },
     "metadata": {},
     "output_type": "display_data"
    },
    {
     "name": "stdout",
     "output_type": "stream",
     "text": [
      "+----+----+\n",
      "|  dd| ddd|\n",
      "+----+----+\n",
      "|-387|-387|\n",
      "|-387|-387|\n",
      "|-387|-387|\n",
      "|-387|-387|\n",
      "|-387|-387|\n",
      "|-387|-387|\n",
      "|-387|-387|\n",
      "|-387|-387|\n",
      "| 344| 344|\n",
      "|1014|1014|\n",
      "|1033|1033|\n",
      "|1021|1021|\n",
      "|1017|1017|\n",
      "|1009|1009|\n",
      "|1009|1009|\n",
      "|1009|1009|\n",
      "|1008|1008|\n",
      "|1008|1008|\n",
      "|1015|1015|\n",
      "|1008|1008|\n",
      "+----+----+\n",
      "only showing top 20 rows"
     ]
    }
   ],
   "source": [
    "t_admin_audit=spark.sql(\"\"\"\n",
    " select  datediff(from_utc_timestamp(now(), 'Asia/Shanghai'),date(b.due_date)) as dd,\n",
    " datediff(date(now()+INTERVAL '7' hour),date(b.due_date+INTERVAL '7' hour)) as ddd,\n",
    " datediff(date(now()+INTERVAL '7' hour),date(b.due_date+INTERVAL '7' hour))\n",
    "from `banda-etl-s3`.`t_lpay` b\n",
    "order by id\n",
    "limit 100\n",
    "\n",
    "\"\"\").show()"
   ]
  },
  {
   "cell_type": "code",
   "execution_count": 7,
   "metadata": {},
   "outputs": [
    {
     "data": {
      "application/vnd.jupyter.widget-view+json": {
       "model_id": "87b05592097e4bb6b88be0efbd8395b3",
       "version_major": 2,
       "version_minor": 0
      },
      "text/plain": [
       "VBox()"
      ]
     },
     "metadata": {},
     "output_type": "display_data"
    },
    {
     "data": {
      "application/vnd.jupyter.widget-view+json": {
       "model_id": "",
       "version_major": 2,
       "version_minor": 0
      },
      "text/plain": [
       "FloatProgress(value=0.0, bar_style='info', description='Progress:', layout=Layout(height='25px', width='50%'),…"
      ]
     },
     "metadata": {},
     "output_type": "display_data"
    },
    {
     "name": "stdout",
     "output_type": "stream",
     "text": [
      "+----------+--------------------+------------------------+-------------------+-----------------------+-------------------+--------------------+--------------------+--------------------+--------------------+------------------------------+---------------------+------------------------+--------------------+-------------------+-------------------+-------------------+--------------------+--------------------+---------------------------+\n",
      "|      date|  total_issue_amount|total_paid_off_principle|       loan_balance|total_current_principle|overdue_3_principle|overdue_10_principle|overdue_30_principle|overdue_60_principle|overdue_90_principle|overdue_more_than_90_principle|total_paid_off_amount|total_outstanding_amount|total_current_amount|   overdue_3_amount|  overdue_10_amount|  overdue_30_amount|   overdue_60_amount|   overdue_90_amount|overdue_more_than_90_amount|\n",
      "+----------+--------------------+------------------------+-------------------+-----------------------+-------------------+--------------------+--------------------+--------------------+--------------------+------------------------------+---------------------+------------------------+--------------------+-------------------+-------------------+-------------------+--------------------+--------------------+---------------------------+\n",
      "|2020-02-13|244297839000.0000...|    152799981902.1580...|91497857097.8420000|   61784875825.00000000|1743171700.00000000| 2772920756.00000000| 5179237270.00000000| 6717308707.64200000| 7251905568.00000000|           6044977271.20000000| 188876397353.8035...|    125128291438.0660...|74449187338.72000000|2220435281.00000000|3721279163.70400000|8229593015.20000000|12468130694.84200000|13371756770.20000000|       10667909174.40000000|\n",
      "+----------+--------------------+------------------------+-------------------+-----------------------+-------------------+--------------------+--------------------+--------------------+--------------------+------------------------------+---------------------+------------------------+--------------------+-------------------+-------------------+-------------------+--------------------+--------------------+---------------------------+"
     ]
    }
   ],
   "source": [
    "df=spark.sql(\"\"\"\n",
    "select \n",
    "date(now()+INTERVAL '7' hour -interval '1' day) as date,\n",
    "sum(if(a.loan_type !='ROLLOVER',a.amount,0)) as total_issue_amount,sum(b.principal_paid) as total_paid_off_principle,\n",
    "sum(if(a.loan_type !='ROLLOVER',a.amount,0))-sum(b.principal_paid) as loan_balance,\n",
    "sum(if(a.status in ('CURRENT','OVERDUE','GRACE_PERIOD') and datediff(date(now()+INTERVAL '7' hour),date(b.due_date+INTERVAL '7' hour)) <=0,(b.principal_accr) -(b.principal_paid ),0)) as total_current_principle,\n",
    "sum(if(a.status in ('CURRENT','OVERDUE','GRACE_PERIOD') and datediff(date(now()+INTERVAL '7' hour),date(b.due_date+INTERVAL '7' hour))>=1 and  datediff(date(now()+INTERVAL '7' hour),date(b.due_date+INTERVAL '7' hour))<=3,(b.principal_accr) -(b.principal_paid),0)) as overdue_3_principle,\n",
    "sum(if(a.status in ('CURRENT','OVERDUE','GRACE_PERIOD') and datediff(date(now()+INTERVAL '7' hour),date(b.due_date+INTERVAL '7' hour))>=4 and  datediff(date(now()+INTERVAL '7' hour),date(b.due_date+INTERVAL '7' hour))<=10,(b.principal_accr ) -(b.principal_paid ),0)) as overdue_10_principle,\n",
    "sum(if(a.status in ('CURRENT','OVERDUE','GRACE_PERIOD') and datediff(date(now()+INTERVAL '7' hour),date(b.due_date+INTERVAL '7' hour))>=11 and  datediff(date(now()+INTERVAL '7' hour),date(b.due_date+INTERVAL '7' hour))<=30,(b.principal_accr ) -(b.principal_paid ),0)) as overdue_30_principle,\n",
    "sum(if(a.status in ('CURRENT','OVERDUE','GRACE_PERIOD') and datediff(date(now()+INTERVAL '7' hour),date(b.due_date+INTERVAL '7' hour))>=31 and  datediff(date(now()+INTERVAL '7' hour),date(b.due_date+INTERVAL '7' hour))<=60,(b.principal_accr ) -(b.principal_paid ),0)) as overdue_60_principle,\n",
    "sum(if(a.status in ('CURRENT','OVERDUE','GRACE_PERIOD') and datediff(date(now()+INTERVAL '7' hour),date(b.due_date+INTERVAL '7' hour))>=61 and  datediff(date(now()+INTERVAL '7' hour),date(b.due_date+INTERVAL '7' hour))<=90,(b.principal_accr ) -(b.principal_paid ),0)) as overdue_90_principle,\n",
    "sum(if(a.status in ('CURRENT','OVERDUE','GRACE_PERIOD') and datediff(date(now()+INTERVAL '7' hour),date(b.due_date+INTERVAL '7' hour))>=91,(b.principal_accr ) -(b.principal_paid ),0)) as overdue_more_than_90_principle,\n",
    "sum(b.principal_paid + b.interest_paid + b.rollover_fee_paid + b.default_paid + b.default_fee_paid + b.service_fee_paid-b.erase_amount-b.coupon_amount) as total_paid_off_amount,\n",
    "sum(if(a.status in ('CURRENT','OVERDUE','GRACE_PERIOD'),(b.principal_accr + b.interest_accr + b.default_accr + b.default_fee_accr + b.service_fee_accr) -(b.principal_paid + b.interest_paid + b.default_paid + b.default_fee_paid + b.service_fee_paid),0)) as total_outstanding_amount,\n",
    "sum(if(a.status in ('CURRENT','OVERDUE','GRACE_PERIOD') and datediff(date(now()+INTERVAL '7' hour),date(b.due_date+INTERVAL '7' hour)) <=0,(b.principal_accr + b.interest_accr + b.default_accr + b.default_fee_accr + b.service_fee_accr) -(b.principal_paid + b.interest_paid + b.default_paid + b.default_fee_paid + b.service_fee_paid),0)) as total_current_amount,\n",
    "sum(if(a.status in ('CURRENT','OVERDUE','GRACE_PERIOD') and datediff(date(now()+INTERVAL '7' hour),date(b.due_date+INTERVAL '7' hour))>=1 and  datediff(date(now()+INTERVAL '7' hour),date(b.due_date+INTERVAL '7' hour))<=3,(b.principal_accr + b.interest_accr + b.default_accr + b.default_fee_accr + b.service_fee_accr) -(b.principal_paid + b.interest_paid + b.default_paid + b.default_fee_paid + b.service_fee_paid),0)) as overdue_3_amount,\n",
    "sum(if(a.status in ('CURRENT','OVERDUE','GRACE_PERIOD') and datediff(date(now()+INTERVAL '7' hour),date(b.due_date+INTERVAL '7' hour))>=4 and  datediff(date(now()+INTERVAL '7' hour),date(b.due_date+INTERVAL '7' hour))<=10,(b.principal_accr + b.interest_accr + b.default_accr + b.default_fee_accr + b.service_fee_accr) -(b.principal_paid + b.interest_paid + b.default_paid + b.default_fee_paid + b.service_fee_paid),0)) as overdue_10_amount,\n",
    "sum(if(a.status in ('CURRENT','OVERDUE','GRACE_PERIOD') and datediff(date(now()+INTERVAL '7' hour),date(b.due_date+INTERVAL '7' hour))>=11 and  datediff(date(now()+INTERVAL '7' hour),date(b.due_date+INTERVAL '7' hour))<=30,(b.principal_accr + b.interest_accr + b.default_accr + b.default_fee_accr + b.service_fee_accr) -(b.principal_paid + b.interest_paid + b.default_paid + b.default_fee_paid + b.service_fee_paid),0)) as overdue_30_amount,\n",
    "sum(if(a.status in ('CURRENT','OVERDUE','GRACE_PERIOD') and datediff(date(now()+INTERVAL '7' hour),date(b.due_date+INTERVAL '7' hour))>=31 and  datediff(date(now()+INTERVAL '7' hour),date(b.due_date+INTERVAL '7' hour))<=60,(b.principal_accr + b.interest_accr + b.default_accr + b.default_fee_accr + b.service_fee_accr) -(b.principal_paid + b.interest_paid + b.default_paid + b.default_fee_paid + b.service_fee_paid),0)) as overdue_60_amount,\n",
    "sum(if(a.status in ('CURRENT','OVERDUE','GRACE_PERIOD') and datediff(date(now()+INTERVAL '7' hour),date(b.due_date+INTERVAL '7' hour))>=61 and  datediff(date(now()+INTERVAL '7' hour),date(b.due_date+INTERVAL '7' hour))<=90,(b.principal_accr + b.interest_accr + b.default_accr + b.default_fee_accr + b.service_fee_accr) -(b.principal_paid + b.interest_paid + b.default_paid + b.default_fee_paid + b.service_fee_paid),0)) as overdue_90_amount,\n",
    "sum(if(a.status in ('CURRENT','OVERDUE','GRACE_PERIOD') and datediff(date(now()+INTERVAL '7' hour),date(b.due_date+INTERVAL '7' hour))>=91,(b.principal_accr + b.interest_accr + b.default_accr + b.default_fee_accr + b.service_fee_accr) -(b.principal_paid + b.interest_paid + b.default_paid + b.default_fee_paid + b.service_fee_paid),0)) as overdue_more_than_90_amount\n",
    "from `banda-etl-s3`.`t_loan_app` a\n",
    "left  join `banda-etl-s3`.`t_lpay` b\n",
    "on a.id = b.loan_app_id\n",
    "where a.status in ('CURRENT','PAID_OFF','OVERDUE','GRACE_PERIOD') and a.product_name='RUPIAHONE' and a.create_time + interval '7' hour >= date '2019-08-25'\n",
    "\"\"\").show()\n",
    "# df.write.mode(\"append\").orc(\"s3://rupiahplus-data-warehouse/etl/banda/market/loan_banlace_summary\")"
   ]
  },
  {
   "cell_type": "code",
   "execution_count": 6,
   "metadata": {},
   "outputs": [
    {
     "data": {
      "application/vnd.jupyter.widget-view+json": {
       "model_id": "68aac3fa736941cc936b888b4e29a377",
       "version_major": 2,
       "version_minor": 0
      },
      "text/plain": [
       "VBox()"
      ]
     },
     "metadata": {},
     "output_type": "display_data"
    },
    {
     "data": {
      "application/vnd.jupyter.widget-view+json": {
       "model_id": "",
       "version_major": 2,
       "version_minor": 0
      },
      "text/plain": [
       "FloatProgress(value=0.0, bar_style='info', description='Progress:', layout=Layout(height='25px', width='50%'),…"
      ]
     },
     "metadata": {},
     "output_type": "display_data"
    },
    {
     "name": "stdout",
     "output_type": "stream",
     "text": [
      "+------------------------------------------------------+\n",
      "|from_utc_timestamp(current_timestamp(), Asia/Shanghai)|\n",
      "+------------------------------------------------------+\n",
      "|                                  2020-02-14 11:37:...|\n",
      "+------------------------------------------------------+"
     ]
    }
   ],
   "source": [
    "df=spark.sql(\"\"\"\n",
    "SELECT from_utc_timestamp(now(), 'Asia/Shanghai')\n",
    "\"\"\").show()"
   ]
  }
 ],
 "metadata": {
  "kernelspec": {
   "display_name": "PySpark",
   "language": "",
   "name": "pysparkkernel"
  },
  "language_info": {
   "codemirror_mode": {
    "name": "python",
    "version": 2
   },
   "mimetype": "text/x-python",
   "name": "pyspark",
   "pygments_lexer": "python2"
  }
 },
 "nbformat": 4,
 "nbformat_minor": 4
}
